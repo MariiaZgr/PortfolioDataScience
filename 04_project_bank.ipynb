{
 "cells": [
  {
   "cell_type": "markdown",
   "metadata": {
    "toc": true
   },
   "source": [
    "<h1>Содержание<span class=\"tocSkip\"></span></h1>\n",
    "<div class=\"toc\"><ul class=\"toc-item\"><li><span><a href=\"#Подготовка-данных\" data-toc-modified-id=\"Подготовка-данных-1\"><span class=\"toc-item-num\">1&nbsp;&nbsp;</span>Подготовка данных</a></span></li><li><span><a href=\"#Исследование-задачи\" data-toc-modified-id=\"Исследование-задачи-2\"><span class=\"toc-item-num\">2&nbsp;&nbsp;</span>Исследование задачи</a></span></li><li><span><a href=\"#Борьба-с-дисбалансом\" data-toc-modified-id=\"Борьба-с-дисбалансом-3\"><span class=\"toc-item-num\">3&nbsp;&nbsp;</span>Борьба с дисбалансом</a></span><ul class=\"toc-item\"><li><span><a href=\"#Модель-&quot;Решающее-дерево&quot;\" data-toc-modified-id=\"Модель-&quot;Решающее-дерево&quot;-3.1\"><span class=\"toc-item-num\">3.1&nbsp;&nbsp;</span>Модель \"Решающее дерево\"</a></span></li><li><span><a href=\"#Модель-&quot;Случайный-лес&quot;\" data-toc-modified-id=\"Модель-&quot;Случайный-лес&quot;-3.2\"><span class=\"toc-item-num\">3.2&nbsp;&nbsp;</span>Модель \"Случайный лес\"</a></span></li><li><span><a href=\"#Модель-&quot;Логистическая-регрессия&quot;\" data-toc-modified-id=\"Модель-&quot;Логистическая-регрессия&quot;-3.3\"><span class=\"toc-item-num\">3.3&nbsp;&nbsp;</span>Модель \"Логистическая регрессия\"</a></span></li><li><span><a href=\"#Взвешивание-классов\" data-toc-modified-id=\"Взвешивание-классов-3.4\"><span class=\"toc-item-num\">3.4&nbsp;&nbsp;</span>Взвешивание классов</a></span><ul class=\"toc-item\"><li><span><a href=\"#Модель-&quot;Решающее-дерево&quot;\" data-toc-modified-id=\"Модель-&quot;Решающее-дерево&quot;-3.4.1\"><span class=\"toc-item-num\">3.4.1&nbsp;&nbsp;</span>Модель \"Решающее дерево\"</a></span></li><li><span><a href=\"#Модель-&quot;Случайный-лес&quot;\" data-toc-modified-id=\"Модель-&quot;Случайный-лес&quot;-3.4.2\"><span class=\"toc-item-num\">3.4.2&nbsp;&nbsp;</span>Модель \"Случайный лес\"</a></span></li></ul></li><li><span><a href=\"#ROC-кривые\" data-toc-modified-id=\"ROC-кривые-3.5\"><span class=\"toc-item-num\">3.5&nbsp;&nbsp;</span>ROC-кривые</a></span></li></ul></li><li><span><a href=\"#Тестирование-модели\" data-toc-modified-id=\"Тестирование-модели-4\"><span class=\"toc-item-num\">4&nbsp;&nbsp;</span>Тестирование модели</a></span></li><li><span><a href=\"#Вывод\" data-toc-modified-id=\"Вывод-5\"><span class=\"toc-item-num\">5&nbsp;&nbsp;</span>Вывод</a></span></li><li><span><a href=\"#Чек-лист-готовности-проекта\" data-toc-modified-id=\"Чек-лист-готовности-проекта-6\"><span class=\"toc-item-num\">6&nbsp;&nbsp;</span>Чек-лист готовности проекта</a></span></li></ul></div>"
   ]
  },
  {
   "cell_type": "markdown",
   "metadata": {},
   "source": [
    "# Отток клиентов"
   ]
  },
  {
   "cell_type": "markdown",
   "metadata": {},
   "source": [
    "Из «Бета-Банка» стали уходить клиенты. Каждый месяц. Немного, но заметно. Банковские маркетологи посчитали: сохранять текущих клиентов дешевле, чем привлекать новых.\n",
    "\n",
    "Нужно спрогнозировать, уйдёт клиент из банка в ближайшее время или нет. Вам предоставлены исторические данные о поведении клиентов и расторжении договоров с банком. \n",
    "\n",
    "Постройте модель с предельно большим значением *F1*-меры. Чтобы сдать проект успешно, нужно довести метрику до 0.59. Проверьте *F1*-меру на тестовой выборке самостоятельно.\n",
    "\n",
    "Дополнительно измеряйте *AUC-ROC*, сравнивайте её значение с *F1*-мерой.\n",
    "\n",
    "Источник данных: [https://www.kaggle.com/barelydedicated/bank-customer-churn-modeling](https://www.kaggle.com/barelydedicated/bank-customer-churn-modeling)"
   ]
  },
  {
   "cell_type": "markdown",
   "metadata": {},
   "source": [
    "**Описание данных**<br>\n",
    "\n",
    "- Признаки:<br>\n",
    "RowNumber — индекс строки в данных <br>\n",
    "CustomerId — уникальный идентификатор клиента<br>\n",
    "Surname — фамилия<br>\n",
    "CreditScore — кредитный рейтинг<br>\n",
    "Geography — страна проживания<br>\n",
    "Gender — пол<br>\n",
    "Age — возраст<br>\n",
    "Tenure — сколько лет человек является клиентом банка<br>\n",
    "Balance — баланс на счёте<br>\n",
    "NumOfProducts — количество продуктов банка, используемых клиентом<br>\n",
    "HasCrCard — наличие кредитной карты<br>\n",
    "IsActiveMember — активность клиента<br>\n",
    "EstimatedSalary — предполагаемая зарплата<br>\n",
    "- Целевой признак:<br>\n",
    "Exited — факт ухода клиента<br>"
   ]
  },
  {
   "cell_type": "markdown",
   "metadata": {},
   "source": [
    "**План выполнения проекта**\n",
    "\n",
    "Загрузим и подготовим данные.<br> \n",
    "Исследуем баланс классов, обучим модель. <br>\n",
    "Улучшим качество модели, учитывая дисбаланс классов. Обучим разные модели и найдем лучшую. <br>\n",
    "Проведем финальное тестирование.<br>"
   ]
  },
  {
   "cell_type": "markdown",
   "metadata": {},
   "source": [
    "## Подготовка данных"
   ]
  },
  {
   "cell_type": "code",
   "execution_count": 1,
   "metadata": {},
   "outputs": [],
   "source": [
    "import pandas as pd\n",
    "import numpy as np\n",
    "\n",
    "from sklearn.tree import DecisionTreeClassifier\n",
    "from sklearn.ensemble import RandomForestClassifier\n",
    "from sklearn.linear_model import LogisticRegression\n",
    "from sklearn.model_selection import train_test_split\n",
    "from sklearn.dummy import DummyClassifier\n",
    "from sklearn.preprocessing import StandardScaler \n",
    "from sklearn.model_selection import GridSearchCV\n",
    "\n",
    "from sklearn.metrics import accuracy_score\n",
    "from sklearn.metrics import confusion_matrix\n",
    "from sklearn.metrics import f1_score\n",
    "from sklearn.metrics import precision_score, recall_score\n",
    "from sklearn.metrics import precision_recall_curve\n",
    "from sklearn.metrics import roc_auc_score \n",
    "from sklearn.metrics import roc_curve\n",
    "from sklearn.utils import shuffle\n",
    "\n",
    "from sklearn.metrics import make_scorer\n",
    "\n",
    "\n",
    "import matplotlib.pyplot as plt\n",
    "import seaborn as sns\n",
    "sns.set(style=\"whitegrid\")\n",
    "\n",
    "import warnings\n",
    "warnings.filterwarnings('ignore')"
   ]
  },
  {
   "cell_type": "markdown",
   "metadata": {},
   "source": [
    "Изучим данные таблицы."
   ]
  },
  {
   "cell_type": "code",
   "execution_count": 2,
   "metadata": {},
   "outputs": [],
   "source": [
    "churn = pd.read_csv('/datasets/Churn.csv')"
   ]
  },
  {
   "cell_type": "markdown",
   "metadata": {},
   "source": [
    "Поменяем регистр столбцов для удобства работы"
   ]
  },
  {
   "cell_type": "code",
   "execution_count": 3,
   "metadata": {},
   "outputs": [
    {
     "data": {
      "text/plain": [
       "Index(['rownumber', 'customerid', 'surname', 'creditscore', 'geography',\n",
       "       'gender', 'age', 'tenure', 'balance', 'numofproducts', 'hascrcard',\n",
       "       'isactivemember', 'estimatedsalary', 'exited'],\n",
       "      dtype='object')"
      ]
     },
     "execution_count": 3,
     "metadata": {},
     "output_type": "execute_result"
    }
   ],
   "source": [
    "churn = churn.rename(str.lower, axis='columns')\n",
    "churn.columns"
   ]
  },
  {
   "cell_type": "code",
   "execution_count": 4,
   "metadata": {},
   "outputs": [
    {
     "name": "stdout",
     "output_type": "stream",
     "text": [
      "<class 'pandas.core.frame.DataFrame'>\n",
      "RangeIndex: 10000 entries, 0 to 9999\n",
      "Data columns (total 14 columns):\n",
      "rownumber          10000 non-null int64\n",
      "customerid         10000 non-null int64\n",
      "surname            10000 non-null object\n",
      "creditscore        10000 non-null int64\n",
      "geography          10000 non-null object\n",
      "gender             10000 non-null object\n",
      "age                10000 non-null int64\n",
      "tenure             9091 non-null float64\n",
      "balance            10000 non-null float64\n",
      "numofproducts      10000 non-null int64\n",
      "hascrcard          10000 non-null int64\n",
      "isactivemember     10000 non-null int64\n",
      "estimatedsalary    10000 non-null float64\n",
      "exited             10000 non-null int64\n",
      "dtypes: float64(3), int64(8), object(3)\n",
      "memory usage: 1.1+ MB\n"
     ]
    }
   ],
   "source": [
    "churn.info()"
   ]
  },
  {
   "cell_type": "markdown",
   "metadata": {},
   "source": [
    "Рассмотрим первые пять строк"
   ]
  },
  {
   "cell_type": "code",
   "execution_count": 5,
   "metadata": {},
   "outputs": [
    {
     "data": {
      "text/html": [
       "<div>\n",
       "<style scoped>\n",
       "    .dataframe tbody tr th:only-of-type {\n",
       "        vertical-align: middle;\n",
       "    }\n",
       "\n",
       "    .dataframe tbody tr th {\n",
       "        vertical-align: top;\n",
       "    }\n",
       "\n",
       "    .dataframe thead th {\n",
       "        text-align: right;\n",
       "    }\n",
       "</style>\n",
       "<table border=\"1\" class=\"dataframe\">\n",
       "  <thead>\n",
       "    <tr style=\"text-align: right;\">\n",
       "      <th></th>\n",
       "      <th>rownumber</th>\n",
       "      <th>customerid</th>\n",
       "      <th>surname</th>\n",
       "      <th>creditscore</th>\n",
       "      <th>geography</th>\n",
       "      <th>gender</th>\n",
       "      <th>age</th>\n",
       "      <th>tenure</th>\n",
       "      <th>balance</th>\n",
       "      <th>numofproducts</th>\n",
       "      <th>hascrcard</th>\n",
       "      <th>isactivemember</th>\n",
       "      <th>estimatedsalary</th>\n",
       "      <th>exited</th>\n",
       "    </tr>\n",
       "  </thead>\n",
       "  <tbody>\n",
       "    <tr>\n",
       "      <td>0</td>\n",
       "      <td>1</td>\n",
       "      <td>15634602</td>\n",
       "      <td>Hargrave</td>\n",
       "      <td>619</td>\n",
       "      <td>France</td>\n",
       "      <td>Female</td>\n",
       "      <td>42</td>\n",
       "      <td>2.0</td>\n",
       "      <td>0.00</td>\n",
       "      <td>1</td>\n",
       "      <td>1</td>\n",
       "      <td>1</td>\n",
       "      <td>101348.88</td>\n",
       "      <td>1</td>\n",
       "    </tr>\n",
       "    <tr>\n",
       "      <td>1</td>\n",
       "      <td>2</td>\n",
       "      <td>15647311</td>\n",
       "      <td>Hill</td>\n",
       "      <td>608</td>\n",
       "      <td>Spain</td>\n",
       "      <td>Female</td>\n",
       "      <td>41</td>\n",
       "      <td>1.0</td>\n",
       "      <td>83807.86</td>\n",
       "      <td>1</td>\n",
       "      <td>0</td>\n",
       "      <td>1</td>\n",
       "      <td>112542.58</td>\n",
       "      <td>0</td>\n",
       "    </tr>\n",
       "    <tr>\n",
       "      <td>2</td>\n",
       "      <td>3</td>\n",
       "      <td>15619304</td>\n",
       "      <td>Onio</td>\n",
       "      <td>502</td>\n",
       "      <td>France</td>\n",
       "      <td>Female</td>\n",
       "      <td>42</td>\n",
       "      <td>8.0</td>\n",
       "      <td>159660.80</td>\n",
       "      <td>3</td>\n",
       "      <td>1</td>\n",
       "      <td>0</td>\n",
       "      <td>113931.57</td>\n",
       "      <td>1</td>\n",
       "    </tr>\n",
       "    <tr>\n",
       "      <td>3</td>\n",
       "      <td>4</td>\n",
       "      <td>15701354</td>\n",
       "      <td>Boni</td>\n",
       "      <td>699</td>\n",
       "      <td>France</td>\n",
       "      <td>Female</td>\n",
       "      <td>39</td>\n",
       "      <td>1.0</td>\n",
       "      <td>0.00</td>\n",
       "      <td>2</td>\n",
       "      <td>0</td>\n",
       "      <td>0</td>\n",
       "      <td>93826.63</td>\n",
       "      <td>0</td>\n",
       "    </tr>\n",
       "    <tr>\n",
       "      <td>4</td>\n",
       "      <td>5</td>\n",
       "      <td>15737888</td>\n",
       "      <td>Mitchell</td>\n",
       "      <td>850</td>\n",
       "      <td>Spain</td>\n",
       "      <td>Female</td>\n",
       "      <td>43</td>\n",
       "      <td>2.0</td>\n",
       "      <td>125510.82</td>\n",
       "      <td>1</td>\n",
       "      <td>1</td>\n",
       "      <td>1</td>\n",
       "      <td>79084.10</td>\n",
       "      <td>0</td>\n",
       "    </tr>\n",
       "  </tbody>\n",
       "</table>\n",
       "</div>"
      ],
      "text/plain": [
       "   rownumber  customerid   surname  creditscore geography  gender  age  \\\n",
       "0          1    15634602  Hargrave          619    France  Female   42   \n",
       "1          2    15647311      Hill          608     Spain  Female   41   \n",
       "2          3    15619304      Onio          502    France  Female   42   \n",
       "3          4    15701354      Boni          699    France  Female   39   \n",
       "4          5    15737888  Mitchell          850     Spain  Female   43   \n",
       "\n",
       "   tenure    balance  numofproducts  hascrcard  isactivemember  \\\n",
       "0     2.0       0.00              1          1               1   \n",
       "1     1.0   83807.86              1          0               1   \n",
       "2     8.0  159660.80              3          1               0   \n",
       "3     1.0       0.00              2          0               0   \n",
       "4     2.0  125510.82              1          1               1   \n",
       "\n",
       "   estimatedsalary  exited  \n",
       "0        101348.88       1  \n",
       "1        112542.58       0  \n",
       "2        113931.57       1  \n",
       "3         93826.63       0  \n",
       "4         79084.10       0  "
      ]
     },
     "execution_count": 5,
     "metadata": {},
     "output_type": "execute_result"
    }
   ],
   "source": [
    "churn.head(5)"
   ]
  },
  {
   "cell_type": "markdown",
   "metadata": {},
   "source": [
    "Уникальные столбцы rownumber, customerid и surname для построения модели не нужны, их можно удалить. "
   ]
  },
  {
   "cell_type": "code",
   "execution_count": 6,
   "metadata": {},
   "outputs": [],
   "source": [
    "churn = churn.drop(['rownumber' , 'customerid', 'surname'], axis=1)"
   ]
  },
  {
   "cell_type": "markdown",
   "metadata": {},
   "source": [
    "Рассмотрим пропуски"
   ]
  },
  {
   "cell_type": "code",
   "execution_count": 7,
   "metadata": {},
   "outputs": [
    {
     "data": {
      "text/plain": [
       "creditscore          0\n",
       "geography            0\n",
       "gender               0\n",
       "age                  0\n",
       "tenure             909\n",
       "balance              0\n",
       "numofproducts        0\n",
       "hascrcard            0\n",
       "isactivemember       0\n",
       "estimatedsalary      0\n",
       "exited               0\n",
       "dtype: int64"
      ]
     },
     "execution_count": 7,
     "metadata": {},
     "output_type": "execute_result"
    }
   ],
   "source": [
    "churn.isnull().sum()"
   ]
  },
  {
   "cell_type": "markdown",
   "metadata": {},
   "source": [
    "Пропуски в столбце Tenure — сколько лет человек является клиентом банка. \n",
    "Так как информации нет, то приравняем этих людей к тем, кто пользуется банком меньше года, то есть заполним нулями."
   ]
  },
  {
   "cell_type": "code",
   "execution_count": 8,
   "metadata": {},
   "outputs": [],
   "source": [
    "churn.isnull().sum()\n",
    "churn['tenure']=churn['tenure'].fillna(0).astype('int')"
   ]
  },
  {
   "cell_type": "markdown",
   "metadata": {},
   "source": [
    "Все остальные данные в норме. "
   ]
  },
  {
   "cell_type": "markdown",
   "metadata": {},
   "source": [
    "## Исследование задачи"
   ]
  },
  {
   "cell_type": "markdown",
   "metadata": {},
   "source": [
    "Для начала рассмотрим корелляцию признаков, нет ли зависимых друг от друга. "
   ]
  },
  {
   "cell_type": "code",
   "execution_count": 9,
   "metadata": {},
   "outputs": [
    {
     "data": {
      "text/plain": [
       "<matplotlib.axes._subplots.AxesSubplot at 0x7fe32c0f5390>"
      ]
     },
     "execution_count": 9,
     "metadata": {},
     "output_type": "execute_result"
    },
    {
     "data": {
      "image/png": "[encoded data removed]",
      "text/plain": [
       "<Figure size 576x432 with 1 Axes>"
      ]
     },
     "metadata": {},
     "output_type": "display_data"
    }
   ],
   "source": [
    "plt.figure(figsize=(8,6))\n",
    "sns.heatmap(churn.drop(['exited'], axis=1).corr(), annot = True, cmap='coolwarm',\n",
    "            linecolor='black', linewidths=2, cbar=False)"
   ]
  },
  {
   "cell_type": "markdown",
   "metadata": {},
   "source": [
    "Зависимых признаков нет. "
   ]
  },
  {
   "cell_type": "markdown",
   "metadata": {},
   "source": [
    "Рассмотрим распределение целевого признака в процентах"
   ]
  },
  {
   "cell_type": "code",
   "execution_count": 10,
   "metadata": {},
   "outputs": [
    {
     "name": "stdout",
     "output_type": "stream",
     "text": [
      "0    0.7963\n",
      "1    0.2037\n",
      "Name: exited, dtype: float64\n"
     ]
    },
    {
     "data": {
      "text/plain": [
       "<matplotlib.axes._subplots.AxesSubplot at 0x7fe2fd602b50>"
      ]
     },
     "execution_count": 10,
     "metadata": {},
     "output_type": "execute_result"
    },
    {
     "data": {
      "image/png": "[encoded data removed]",
      "text/plain": [
       "<Figure size 432x288 with 1 Axes>"
      ]
     },
     "metadata": {},
     "output_type": "display_data"
    }
   ],
   "source": [
    "class_frequency = churn['exited'].value_counts(normalize=True)\n",
    "print(class_frequency)\n",
    "class_frequency.plot(kind='bar') "
   ]
  },
  {
   "cell_type": "markdown",
   "metadata": {},
   "source": [
    "Целевой признак распределен как 80/20 процентов в пользу 0 (клиент не ушел). \n",
    "Наблюдается сильный дисбаланс классов, который помешает обучению модели. "
   ]
  },
  {
   "cell_type": "markdown",
   "metadata": {},
   "source": [
    "В таблице имеются категориальные признаки geography и gender.\n",
    "Преобразуем категориальные признаки в численные с помощью One-Hot Encoding. "
   ]
  },
  {
   "cell_type": "code",
   "execution_count": 11,
   "metadata": {},
   "outputs": [],
   "source": [
    "churn_ohe = pd.get_dummies(churn, drop_first=True)"
   ]
  },
  {
   "cell_type": "markdown",
   "metadata": {},
   "source": [
    "Создадим переменные для признаков и целевого признака."
   ]
  },
  {
   "cell_type": "code",
   "execution_count": 12,
   "metadata": {},
   "outputs": [],
   "source": [
    "features_ohe = churn_ohe.drop(['exited'], axis=1)\n",
    "target_ohe = churn_ohe['exited']"
   ]
  },
  {
   "cell_type": "markdown",
   "metadata": {},
   "source": [
    "Разобьем датасет на обучающую, валидационную и тестовую выборку в соотношении 60-20-20"
   ]
  },
  {
   "cell_type": "code",
   "execution_count": 13,
   "metadata": {},
   "outputs": [
    {
     "name": "stdout",
     "output_type": "stream",
     "text": [
      "Размер обучающей выборки: 6000\n",
      "Размер валидационной выборки: 2000\n",
      "Размер тестовой выборки: 2000\n"
     ]
    }
   ],
   "source": [
    "features_train, features_valid, target_train, target_valid = train_test_split(\n",
    "    features_ohe, target_ohe, test_size=0.4, random_state=12345, stratify=target_ohe)\n",
    "\n",
    "features_valid, features_test, target_valid, target_test = train_test_split(\n",
    "    features_valid, target_valid, test_size=0.5, random_state=12345, stratify=target_valid)\n",
    "\n",
    "\n",
    "print('Размер обучающей выборки:', len(features_train))\n",
    "print('Размер валидационной выборки:', len(features_valid))\n",
    "print('Размер тестовой выборки:', len(features_test))\n"
   ]
  },
  {
   "cell_type": "markdown",
   "metadata": {},
   "source": [
    "Численные признаки приведем к одному масштабу "
   ]
  },
  {
   "cell_type": "code",
   "execution_count": 14,
   "metadata": {},
   "outputs": [
    {
     "data": {
      "text/html": [
       "<div>\n",
       "<style scoped>\n",
       "    .dataframe tbody tr th:only-of-type {\n",
       "        vertical-align: middle;\n",
       "    }\n",
       "\n",
       "    .dataframe tbody tr th {\n",
       "        vertical-align: top;\n",
       "    }\n",
       "\n",
       "    .dataframe thead th {\n",
       "        text-align: right;\n",
       "    }\n",
       "</style>\n",
       "<table border=\"1\" class=\"dataframe\">\n",
       "  <thead>\n",
       "    <tr style=\"text-align: right;\">\n",
       "      <th></th>\n",
       "      <th>creditscore</th>\n",
       "      <th>age</th>\n",
       "      <th>tenure</th>\n",
       "      <th>balance</th>\n",
       "      <th>numofproducts</th>\n",
       "      <th>hascrcard</th>\n",
       "      <th>isactivemember</th>\n",
       "      <th>estimatedsalary</th>\n",
       "      <th>geography_Germany</th>\n",
       "      <th>geography_Spain</th>\n",
       "      <th>gender_Male</th>\n",
       "    </tr>\n",
       "  </thead>\n",
       "  <tbody>\n",
       "    <tr>\n",
       "      <td>2837</td>\n",
       "      <td>-1.040434</td>\n",
       "      <td>0.953312</td>\n",
       "      <td>0.467449</td>\n",
       "      <td>0.774657</td>\n",
       "      <td>1</td>\n",
       "      <td>0</td>\n",
       "      <td>1</td>\n",
       "      <td>-0.119110</td>\n",
       "      <td>1</td>\n",
       "      <td>0</td>\n",
       "      <td>0</td>\n",
       "    </tr>\n",
       "    <tr>\n",
       "      <td>9925</td>\n",
       "      <td>0.454006</td>\n",
       "      <td>-0.095244</td>\n",
       "      <td>-1.461501</td>\n",
       "      <td>1.910540</td>\n",
       "      <td>1</td>\n",
       "      <td>1</td>\n",
       "      <td>1</td>\n",
       "      <td>-0.258658</td>\n",
       "      <td>0</td>\n",
       "      <td>0</td>\n",
       "      <td>0</td>\n",
       "    </tr>\n",
       "    <tr>\n",
       "      <td>8746</td>\n",
       "      <td>0.103585</td>\n",
       "      <td>-0.476537</td>\n",
       "      <td>1.110432</td>\n",
       "      <td>0.481608</td>\n",
       "      <td>2</td>\n",
       "      <td>0</td>\n",
       "      <td>1</td>\n",
       "      <td>1.422836</td>\n",
       "      <td>0</td>\n",
       "      <td>0</td>\n",
       "      <td>1</td>\n",
       "    </tr>\n",
       "    <tr>\n",
       "      <td>660</td>\n",
       "      <td>-0.184996</td>\n",
       "      <td>0.190726</td>\n",
       "      <td>-1.461501</td>\n",
       "      <td>0.088439</td>\n",
       "      <td>1</td>\n",
       "      <td>1</td>\n",
       "      <td>1</td>\n",
       "      <td>-1.160427</td>\n",
       "      <td>1</td>\n",
       "      <td>0</td>\n",
       "      <td>0</td>\n",
       "    </tr>\n",
       "    <tr>\n",
       "      <td>3610</td>\n",
       "      <td>-0.720933</td>\n",
       "      <td>1.620574</td>\n",
       "      <td>-1.140009</td>\n",
       "      <td>0.879129</td>\n",
       "      <td>1</td>\n",
       "      <td>1</td>\n",
       "      <td>0</td>\n",
       "      <td>0.113236</td>\n",
       "      <td>0</td>\n",
       "      <td>0</td>\n",
       "      <td>0</td>\n",
       "    </tr>\n",
       "  </tbody>\n",
       "</table>\n",
       "</div>"
      ],
      "text/plain": [
       "      creditscore       age    tenure   balance  numofproducts  hascrcard  \\\n",
       "2837    -1.040434  0.953312  0.467449  0.774657              1          0   \n",
       "9925     0.454006 -0.095244 -1.461501  1.910540              1          1   \n",
       "8746     0.103585 -0.476537  1.110432  0.481608              2          0   \n",
       "660     -0.184996  0.190726 -1.461501  0.088439              1          1   \n",
       "3610    -0.720933  1.620574 -1.140009  0.879129              1          1   \n",
       "\n",
       "      isactivemember  estimatedsalary  geography_Germany  geography_Spain  \\\n",
       "2837               1        -0.119110                  1                0   \n",
       "9925               1        -0.258658                  0                0   \n",
       "8746               1         1.422836                  0                0   \n",
       "660                1        -1.160427                  1                0   \n",
       "3610               0         0.113236                  0                0   \n",
       "\n",
       "      gender_Male  \n",
       "2837            0  \n",
       "9925            0  \n",
       "8746            1  \n",
       "660             0  \n",
       "3610            0  "
      ]
     },
     "execution_count": 14,
     "metadata": {},
     "output_type": "execute_result"
    }
   ],
   "source": [
    "numeric = ['creditscore', 'age', 'tenure', 'balance', 'estimatedsalary']\n",
    "pd.options.mode.chained_assignment = None\n",
    "\n",
    "scaler = StandardScaler()\n",
    "scaler.fit(features_train[numeric])\n",
    "features_train[numeric] = scaler.transform(features_train[numeric])\n",
    "features_valid[numeric] = scaler.transform(features_valid[numeric])\n",
    "features_test[numeric] = scaler.transform(features_test[numeric])\n",
    "\n",
    "features_train.head(5)"
   ]
  },
  {
   "cell_type": "markdown",
   "metadata": {},
   "source": [
    "## Борьба с дисбалансом"
   ]
  },
  {
   "cell_type": "markdown",
   "metadata": {},
   "source": [
    "Исследуем баланс классов и обучим модель. "
   ]
  },
  {
   "cell_type": "markdown",
   "metadata": {},
   "source": [
    "Создадим три разных модели и посмотрим на F1-меру и AUC-ROC."
   ]
  },
  {
   "cell_type": "markdown",
   "metadata": {},
   "source": [
    "Для балансировки классов для всех моделей используем аргумент class_weight."
   ]
  },
  {
   "cell_type": "markdown",
   "metadata": {},
   "source": [
    "### Модель \"Решающее дерево\" ###"
   ]
  },
  {
   "cell_type": "markdown",
   "metadata": {},
   "source": [
    "Выберем лучший вариант глубины дерева с помощью сетки GridSearchCV"
   ]
  },
  {
   "cell_type": "markdown",
   "metadata": {},
   "source": [
    "Создадим табличку для записи метрик:"
   ]
  },
  {
   "cell_type": "code",
   "execution_count": 15,
   "metadata": {},
   "outputs": [],
   "source": [
    "d = {'Метрика': ['F-мера', 'AUC_ROC', 'param']}\n",
    "total_table = pd.DataFrame(data=d)"
   ]
  },
  {
   "cell_type": "code",
   "execution_count": 16,
   "metadata": {},
   "outputs": [
    {
     "name": "stdout",
     "output_type": "stream",
     "text": [
      "{'max_depth': 6}\n",
      "F1-мера наилучшей модели на валидационной выборке: 0.575925925925926\n",
      "AUC_ROC: 0.8234124051630702\n"
     ]
    }
   ],
   "source": [
    "model = DecisionTreeClassifier(random_state=12345, class_weight='balanced')\n",
    "\n",
    "parameters = {'max_depth': range(1,16,1)}\n",
    "\n",
    "grid = GridSearchCV(model, parameters, scoring = 'f1', cv = 5)\n",
    "grid.fit(features_train, target_train)\n",
    "\n",
    "print(grid.best_params_)\n",
    "\n",
    "predictions_valid = grid.predict(features_valid)\n",
    "f1 = f1_score(target_valid, predictions_valid) \n",
    "probabilities_valid = grid.predict_proba(features_valid)\n",
    "probabilities_one_valid = probabilities_valid[:, 1]\n",
    "auc_roc = roc_auc_score(target_valid, probabilities_one_valid)\n",
    "DecisionTree_fpr, DecisionTree_tpr, thresholds = roc_curve(target_valid, probabilities_one_valid) \n",
    "\n",
    "print(\"F1-мера наилучшей модели на валидационной выборке:\", f1)\n",
    "print(\"AUC_ROC:\", auc_roc)\n"
   ]
  },
  {
   "cell_type": "code",
   "execution_count": 17,
   "metadata": {},
   "outputs": [],
   "source": [
    "#Запишем в табличку\n",
    "col = 'DecisionTree'\n",
    "total_table.loc[0, col] = f1\n",
    "total_table.loc[1, col] = auc_roc \n",
    "total_table.loc[2, col] = [grid.best_params_.items() ]\n"
   ]
  },
  {
   "cell_type": "markdown",
   "metadata": {},
   "source": [
    "### Модель \"Случайный лес\" ###"
   ]
  },
  {
   "cell_type": "markdown",
   "metadata": {},
   "source": [
    "Для модели \"Случайный лес\" подберем два гиперпараметра: <br>\n",
    "n_estimators - число деревьев<br>\n",
    "max_depth - максимальная глубина деревьев<br>\n"
   ]
  },
  {
   "cell_type": "code",
   "execution_count": 18,
   "metadata": {},
   "outputs": [
    {
     "name": "stdout",
     "output_type": "stream",
     "text": [
      "{'max_depth': 9, 'n_estimators': 61}\n",
      "F1-мера наилучшей модели на валидационной выборке: 0.6367816091954023\n",
      "AUC_ROC: 0.869606919400926\n"
     ]
    }
   ],
   "source": [
    "model = RandomForestClassifier(random_state=12345, class_weight='balanced')\n",
    "\n",
    "parameters = {'n_estimators': range (1,100,20),\n",
    "              'max_depth': range(1,12,2)    }\n",
    "\n",
    "grid = GridSearchCV(model, parameters, scoring = 'f1', cv = 5)\n",
    "grid.fit(features_train, target_train)\n",
    "\n",
    "print(grid.best_params_)\n",
    "\n",
    "predictions_valid = grid.predict(features_valid)\n",
    "f1 = f1_score(target_valid, predictions_valid) \n",
    "probabilities_valid = grid.predict_proba(features_valid)\n",
    "probabilities_one_valid = probabilities_valid[:, 1]\n",
    "auc_roc = roc_auc_score(target_valid, probabilities_one_valid)\n",
    "RandomForest_fpr, RandomForest_tpr, thresholds = roc_curve(target_valid, probabilities_one_valid) \n",
    "\n",
    "print(\"F1-мера наилучшей модели на валидационной выборке:\", f1)\n",
    "print(\"AUC_ROC:\", auc_roc)"
   ]
  },
  {
   "cell_type": "code",
   "execution_count": 19,
   "metadata": {},
   "outputs": [],
   "source": [
    "col = 'RandomForest'\n",
    "total_table.loc[0, col] = f1\n",
    "total_table.loc[1, col] = auc_roc \n",
    "total_table.loc[2, col] = [grid.best_params_.items()]"
   ]
  },
  {
   "cell_type": "markdown",
   "metadata": {},
   "source": [
    "Сравним результат этой же модели без балансировки классов. "
   ]
  },
  {
   "cell_type": "code",
   "execution_count": 20,
   "metadata": {},
   "outputs": [
    {
     "name": "stdout",
     "output_type": "stream",
     "text": [
      "{'max_depth': 11, 'n_estimators': 41}\n",
      "F1-мера наилучшей модели на валидационной выборке: 0.6009104704097117\n",
      "AUC_ROC: 0.867139003842743\n"
     ]
    }
   ],
   "source": [
    "model = RandomForestClassifier(random_state=12345)\n",
    "\n",
    "parameters = {'n_estimators': range (1,100,20),\n",
    "              'max_depth': range(1,12,2)    }\n",
    "\n",
    "grid = GridSearchCV(model, parameters, scoring = 'f1', cv = 5)\n",
    "grid.fit(features_train, target_train)\n",
    "\n",
    "print(grid.best_params_)\n",
    "\n",
    "predictions_valid = grid.predict(features_valid)\n",
    "f1 = f1_score(target_valid, predictions_valid) \n",
    "probabilities_valid = grid.predict_proba(features_valid)\n",
    "probabilities_one_valid = probabilities_valid[:, 1]\n",
    "auc_roc = roc_auc_score(target_valid, probabilities_one_valid)\n",
    "\n",
    "print(\"F1-мера наилучшей модели на валидационной выборке:\", f1)\n",
    "print(\"AUC_ROC:\", auc_roc)"
   ]
  },
  {
   "cell_type": "code",
   "execution_count": 21,
   "metadata": {},
   "outputs": [
    {
     "data": {
      "text/html": [
       "<div>\n",
       "<style scoped>\n",
       "    .dataframe tbody tr th:only-of-type {\n",
       "        vertical-align: middle;\n",
       "    }\n",
       "\n",
       "    .dataframe tbody tr th {\n",
       "        vertical-align: top;\n",
       "    }\n",
       "\n",
       "    .dataframe thead th {\n",
       "        text-align: right;\n",
       "    }\n",
       "</style>\n",
       "<table border=\"1\" class=\"dataframe\">\n",
       "  <thead>\n",
       "    <tr style=\"text-align: right;\">\n",
       "      <th></th>\n",
       "      <th>Метрика</th>\n",
       "      <th>DecisionTree</th>\n",
       "      <th>RandomForest</th>\n",
       "      <th>ForestNoBalance</th>\n",
       "    </tr>\n",
       "  </thead>\n",
       "  <tbody>\n",
       "    <tr>\n",
       "      <td>0</td>\n",
       "      <td>F-мера</td>\n",
       "      <td>0.575926</td>\n",
       "      <td>0.636782</td>\n",
       "      <td>0.60091</td>\n",
       "    </tr>\n",
       "    <tr>\n",
       "      <td>1</td>\n",
       "      <td>AUC_ROC</td>\n",
       "      <td>0.823412</td>\n",
       "      <td>0.869607</td>\n",
       "      <td>0.867139</td>\n",
       "    </tr>\n",
       "    <tr>\n",
       "      <td>2</td>\n",
       "      <td>param</td>\n",
       "      <td>((max_depth, 6))</td>\n",
       "      <td>((max_depth, 9), (n_estimators, 61))</td>\n",
       "      <td>((max_depth, 11), (n_estimators, 41))</td>\n",
       "    </tr>\n",
       "  </tbody>\n",
       "</table>\n",
       "</div>"
      ],
      "text/plain": [
       "   Метрика      DecisionTree                          RandomForest  \\\n",
       "0   F-мера          0.575926                              0.636782   \n",
       "1  AUC_ROC          0.823412                              0.869607   \n",
       "2    param  ((max_depth, 6))  ((max_depth, 9), (n_estimators, 61))   \n",
       "\n",
       "                         ForestNoBalance  \n",
       "0                                0.60091  \n",
       "1                               0.867139  \n",
       "2  ((max_depth, 11), (n_estimators, 41))  "
      ]
     },
     "execution_count": 21,
     "metadata": {},
     "output_type": "execute_result"
    }
   ],
   "source": [
    "col = 'ForestNoBalance'\n",
    "total_table.loc[0, col] = f1\n",
    "total_table.loc[1, col] = auc_roc \n",
    "total_table.loc[2, col] = [grid.best_params_.items()]\n",
    "total_table"
   ]
  },
  {
   "cell_type": "markdown",
   "metadata": {},
   "source": [
    "С балансировкой результат лучше."
   ]
  },
  {
   "cell_type": "markdown",
   "metadata": {},
   "source": [
    "### Модель \"Логистическая регрессия\" ###"
   ]
  },
  {
   "cell_type": "markdown",
   "metadata": {},
   "source": [
    "Будем менять параметр регуляризации 'C', чтобы избежать переобучения модели. "
   ]
  },
  {
   "cell_type": "code",
   "execution_count": 22,
   "metadata": {},
   "outputs": [
    {
     "name": "stdout",
     "output_type": "stream",
     "text": [
      "{'C': 0.0018329807108324356}\n",
      "F1-мера наилучшей модели на валидационной выборке: 0.5376146788990827\n",
      "AUC_ROC: 0.7954893955069465\n"
     ]
    }
   ],
   "source": [
    "model = LogisticRegression(random_state=12345, solver = 'liblinear', class_weight='balanced')\n",
    "\n",
    "parameters = {'C' : np.logspace(-4, 4, 20)}\n",
    "\n",
    "grid = GridSearchCV(model, parameters, scoring = 'f1', cv = 5)\n",
    "grid.fit(features_train, target_train)\n",
    "\n",
    "print(grid.best_params_)\n",
    "\n",
    "predictions_valid = grid.predict(features_valid)\n",
    "f1 = f1_score(target_valid, predictions_valid) \n",
    "probabilities_valid = grid.predict_proba(features_valid)\n",
    "probabilities_one_valid = probabilities_valid[:, 1]\n",
    "auc_roc = roc_auc_score(target_valid, probabilities_one_valid)\n",
    "LogisticRegression_fpr, LogisticRegression_tpr, thresholds = roc_curve(target_valid, probabilities_one_valid) \n",
    "\n",
    "print(\"F1-мера наилучшей модели на валидационной выборке:\", f1)\n",
    "print(\"AUC_ROC:\", auc_roc)"
   ]
  },
  {
   "cell_type": "code",
   "execution_count": 23,
   "metadata": {},
   "outputs": [
    {
     "data": {
      "text/html": [
       "<div>\n",
       "<style scoped>\n",
       "    .dataframe tbody tr th:only-of-type {\n",
       "        vertical-align: middle;\n",
       "    }\n",
       "\n",
       "    .dataframe tbody tr th {\n",
       "        vertical-align: top;\n",
       "    }\n",
       "\n",
       "    .dataframe thead th {\n",
       "        text-align: right;\n",
       "    }\n",
       "</style>\n",
       "<table border=\"1\" class=\"dataframe\">\n",
       "  <thead>\n",
       "    <tr style=\"text-align: right;\">\n",
       "      <th></th>\n",
       "      <th>Метрика</th>\n",
       "      <th>DecisionTree</th>\n",
       "      <th>RandomForest</th>\n",
       "      <th>ForestNoBalance</th>\n",
       "      <th>LogisticRegression</th>\n",
       "    </tr>\n",
       "  </thead>\n",
       "  <tbody>\n",
       "    <tr>\n",
       "      <td>0</td>\n",
       "      <td>F-мера</td>\n",
       "      <td>0.575926</td>\n",
       "      <td>0.636782</td>\n",
       "      <td>0.60091</td>\n",
       "      <td>0.537615</td>\n",
       "    </tr>\n",
       "    <tr>\n",
       "      <td>1</td>\n",
       "      <td>AUC_ROC</td>\n",
       "      <td>0.823412</td>\n",
       "      <td>0.869607</td>\n",
       "      <td>0.867139</td>\n",
       "      <td>0.795489</td>\n",
       "    </tr>\n",
       "    <tr>\n",
       "      <td>2</td>\n",
       "      <td>param</td>\n",
       "      <td>((max_depth, 6))</td>\n",
       "      <td>((max_depth, 9), (n_estimators, 61))</td>\n",
       "      <td>((max_depth, 11), (n_estimators, 41))</td>\n",
       "      <td>((C, 0.0018329807108324356))</td>\n",
       "    </tr>\n",
       "  </tbody>\n",
       "</table>\n",
       "</div>"
      ],
      "text/plain": [
       "   Метрика      DecisionTree                          RandomForest  \\\n",
       "0   F-мера          0.575926                              0.636782   \n",
       "1  AUC_ROC          0.823412                              0.869607   \n",
       "2    param  ((max_depth, 6))  ((max_depth, 9), (n_estimators, 61))   \n",
       "\n",
       "                         ForestNoBalance            LogisticRegression  \n",
       "0                                0.60091                      0.537615  \n",
       "1                               0.867139                      0.795489  \n",
       "2  ((max_depth, 11), (n_estimators, 41))  ((C, 0.0018329807108324356))  "
      ]
     },
     "execution_count": 23,
     "metadata": {},
     "output_type": "execute_result"
    }
   ],
   "source": [
    "col = 'LogisticRegression'\n",
    "total_table.loc[0, col] = f1\n",
    "total_table.loc[1, col] = auc_roc \n",
    "total_table.loc[2, col] = [grid.best_params_.items() ]\n",
    "total_table"
   ]
  },
  {
   "cell_type": "markdown",
   "metadata": {},
   "source": [
    "Наилучшие результаты (0.63) показала модель \"Случайный лес\" с параметрами depth = 9, est = 61. <br>\n",
    "Неплохие (0.57) у модели \"Решающее дерево\" с глубиной 6.\n",
    "Наихудшие у модели \"Логистическая регрессия\". "
   ]
  },
  {
   "cell_type": "markdown",
   "metadata": {},
   "source": [
    "### Взвешивание классов ###"
   ]
  },
  {
   "cell_type": "markdown",
   "metadata": {},
   "source": [
    "Рассмотрим дисбаланс классов. "
   ]
  },
  {
   "cell_type": "code",
   "execution_count": 24,
   "metadata": {},
   "outputs": [
    {
     "name": "stdout",
     "output_type": "stream",
     "text": [
      "(4778, 11)\n",
      "(1222, 11)\n",
      "(4778,)\n",
      "(1222,)\n"
     ]
    }
   ],
   "source": [
    "features_zeros = features_train[target_train == 0]\n",
    "features_ones = features_train[target_train == 1]\n",
    "target_zeros = target_train[target_train == 0]\n",
    "target_ones = target_train[target_train == 1]\n",
    "print(features_zeros.shape)\n",
    "print(features_ones.shape)\n",
    "print(target_zeros.shape)\n",
    "print(target_ones.shape)"
   ]
  },
  {
   "cell_type": "markdown",
   "metadata": {},
   "source": [
    "Веса несбалансированные, попробуем увеличить выборку положительных объектов в четыре раза. <br>\n",
    "Создадим функцию upsample."
   ]
  },
  {
   "cell_type": "code",
   "execution_count": 25,
   "metadata": {},
   "outputs": [],
   "source": [
    "def upsample(features, target, repeat):\n",
    "    features_zeros = features[target == 0]\n",
    "    features_ones = features[target == 1]\n",
    "    target_zeros = target[target == 0]\n",
    "    target_ones = target[target == 1]\n",
    "\n",
    "    features_upsampled = pd.concat([features_zeros] + [features_ones] * repeat)\n",
    "    target_upsampled = pd.concat([target_zeros] + [target_ones] * repeat)\n",
    "    \n",
    "    features_upsampled, target_upsampled = shuffle(\n",
    "        features_upsampled, target_upsampled, random_state=12345)\n",
    "    \n",
    "    return features_upsampled, target_upsampled"
   ]
  },
  {
   "cell_type": "markdown",
   "metadata": {},
   "source": [
    "Второй вариант - уменьшим часть отрицательных ответов, возьмем только четверть. <br>\n",
    "Создадим функцию downsample."
   ]
  },
  {
   "cell_type": "code",
   "execution_count": 26,
   "metadata": {},
   "outputs": [],
   "source": [
    "def downsample(features, target, fraction):\n",
    "    features_zeros = features[target == 0]\n",
    "    features_ones = features[target == 1]\n",
    "    target_zeros = target[target == 0]\n",
    "    target_ones = target[target == 1]\n",
    "\n",
    "    features_downsampled = pd.concat(\n",
    "        [features_zeros.sample(frac=fraction, random_state=12345)] + [features_ones])\n",
    "    target_downsampled = pd.concat(\n",
    "        [target_zeros.sample(frac=fraction, random_state=12345)] + [target_ones])\n",
    "    \n",
    "    features_downsampled, target_downsampled = shuffle(\n",
    "        features_downsampled, target_downsampled, random_state=12345)\n",
    "    \n",
    "    return features_downsampled, target_downsampled"
   ]
  },
  {
   "cell_type": "code",
   "execution_count": 27,
   "metadata": {},
   "outputs": [],
   "source": [
    "features_upsampled, target_upsampled = upsample(features_train, target_train, 4)\n",
    "features_downsampled, target_downsampled = downsample(features_train, target_train, 0.25)\n"
   ]
  },
  {
   "cell_type": "markdown",
   "metadata": {},
   "source": [
    "Рассмотрим диаграмму весов классов после выравнивания"
   ]
  },
  {
   "cell_type": "code",
   "execution_count": 28,
   "metadata": {},
   "outputs": [
    {
     "name": "stdout",
     "output_type": "stream",
     "text": [
      "1    0.50569\n",
      "0    0.49431\n",
      "Name: exited, dtype: float64\n"
     ]
    },
    {
     "data": {
      "text/plain": [
       "<matplotlib.axes._subplots.AxesSubplot at 0x7fe2fc57df90>"
      ]
     },
     "execution_count": 28,
     "metadata": {},
     "output_type": "execute_result"
    },
    {
     "data": {
      "image/png": "[encoded data removed]",
      "text/plain": [
       "<Figure size 216x216 with 1 Axes>"
      ]
     },
     "metadata": {},
     "output_type": "display_data"
    }
   ],
   "source": [
    "class_frequency = target_upsampled.value_counts(normalize = True)\n",
    "print(class_frequency)\n",
    "plt.figure(figsize=(3,3))\n",
    "plt.title('Увеличение выборки')\n",
    "class_frequency.plot(kind='bar') "
   ]
  },
  {
   "cell_type": "code",
   "execution_count": 29,
   "metadata": {},
   "outputs": [
    {
     "name": "stdout",
     "output_type": "stream",
     "text": [
      "1    0.505795\n",
      "0    0.494205\n",
      "Name: exited, dtype: float64\n"
     ]
    },
    {
     "data": {
      "text/plain": [
       "<matplotlib.axes._subplots.AxesSubplot at 0x7fe2fdd14d10>"
      ]
     },
     "execution_count": 29,
     "metadata": {},
     "output_type": "execute_result"
    },
    {
     "data": {
      "image/png": "[encoded data removed]",
      "text/plain": [
       "<Figure size 216x216 with 1 Axes>"
      ]
     },
     "metadata": {},
     "output_type": "display_data"
    }
   ],
   "source": [
    "class_frequency = target_downsampled.value_counts(normalize = True)\n",
    "print(class_frequency)\n",
    "plt.figure(figsize=(3,3))\n",
    "plt.title('Уменьшение выборки')\n",
    "class_frequency.plot(kind='bar') "
   ]
  },
  {
   "cell_type": "markdown",
   "metadata": {},
   "source": [
    "Попробуем применить новые датасеты к моделям Случайный лес и Решающее дерево. "
   ]
  },
  {
   "cell_type": "markdown",
   "metadata": {},
   "source": [
    "#### Модель \"Решающее дерево\" ####"
   ]
  },
  {
   "cell_type": "code",
   "execution_count": 30,
   "metadata": {},
   "outputs": [
    {
     "name": "stdout",
     "output_type": "stream",
     "text": [
      "{'max_depth': 15}\n",
      "F1-мера наилучшей модели на валидационной выборке: 0.5116279069767441\n",
      "AUC_ROC: 0.699654830525175\n"
     ]
    }
   ],
   "source": [
    "model = DecisionTreeClassifier(random_state=12345)\n",
    "\n",
    "parameters = {'max_depth': range(1,16,1)}\n",
    "\n",
    "grid = GridSearchCV(model, parameters, scoring = 'f1', cv = 5)\n",
    "grid.fit(features_upsampled, target_upsampled)\n",
    "\n",
    "print(grid.best_params_)\n",
    "\n",
    "predictions_valid = grid.predict(features_valid)\n",
    "f1 = f1_score(target_valid, predictions_valid) \n",
    "probabilities_valid = grid.predict_proba(features_valid)\n",
    "probabilities_one_valid = probabilities_valid[:, 1]\n",
    "auc_roc = roc_auc_score(target_valid, probabilities_one_valid)\n",
    "print(\"F1-мера наилучшей модели на валидационной выборке:\", f1)\n",
    "print(\"AUC_ROC:\", auc_roc)"
   ]
  },
  {
   "cell_type": "code",
   "execution_count": 31,
   "metadata": {},
   "outputs": [],
   "source": [
    "col = 'DecisionTreeUp'\n",
    "total_table.loc[0, col] = f1\n",
    "total_table.loc[1, col] = auc_roc \n",
    "total_table.loc[2, col] = [grid.best_params_.items()]\n"
   ]
  },
  {
   "cell_type": "code",
   "execution_count": 32,
   "metadata": {
    "scrolled": true
   },
   "outputs": [
    {
     "name": "stdout",
     "output_type": "stream",
     "text": [
      "{'max_depth': 6}\n",
      "F1-мера наилучшей модели на валидационной выборке: 0.5939278937381405\n",
      "AUC_ROC: 0.8472324859592077\n"
     ]
    }
   ],
   "source": [
    "model = DecisionTreeClassifier(random_state=12345)\n",
    "\n",
    "parameters = {'max_depth': range(1,16,1)}\n",
    "\n",
    "grid = GridSearchCV(model, parameters, scoring = 'f1', cv = 5)\n",
    "grid.fit(features_downsampled, target_downsampled)\n",
    "\n",
    "print(grid.best_params_)\n",
    "\n",
    "predictions_valid = grid.predict(features_valid)\n",
    "f1 = f1_score(target_valid, predictions_valid) \n",
    "probabilities_valid = grid.predict_proba(features_valid)\n",
    "probabilities_one_valid = probabilities_valid[:, 1]\n",
    "auc_roc = roc_auc_score(target_valid, probabilities_one_valid)\n",
    "print(\"F1-мера наилучшей модели на валидационной выборке:\", f1)\n",
    "print(\"AUC_ROC:\", auc_roc)"
   ]
  },
  {
   "cell_type": "code",
   "execution_count": 33,
   "metadata": {},
   "outputs": [],
   "source": [
    "col = 'DecisionTreeDown'\n",
    "total_table.loc[0, col] = f1\n",
    "total_table.loc[1, col] = auc_roc \n",
    "total_table.loc[2, col] = [grid.best_params_.items()]"
   ]
  },
  {
   "cell_type": "markdown",
   "metadata": {},
   "source": [
    "#### Модель \"Случайный лес\" ####"
   ]
  },
  {
   "cell_type": "code",
   "execution_count": 34,
   "metadata": {},
   "outputs": [
    {
     "name": "stdout",
     "output_type": "stream",
     "text": [
      "{'max_depth': 11, 'n_estimators': 81}\n",
      "F1-мера наилучшей модели на валидационной выборке: 0.6405529953917051\n",
      "AUC_ROC: 0.8703428293427924\n"
     ]
    }
   ],
   "source": [
    "model = RandomForestClassifier(random_state=12345)\n",
    "\n",
    "parameters = {'n_estimators': range (1,100,20),\n",
    "              'max_depth': range(1,12,2)    }\n",
    "\n",
    "grid = GridSearchCV(model, parameters, scoring = 'f1', cv = 5)\n",
    "grid.fit(features_upsampled, target_upsampled)\n",
    "\n",
    "print(grid.best_params_)\n",
    "\n",
    "predictions_valid = grid.predict(features_valid)\n",
    "f1 = f1_score(target_valid, predictions_valid) \n",
    "probabilities_valid = grid.predict_proba(features_valid)\n",
    "probabilities_one_valid = probabilities_valid[:, 1]\n",
    "auc_roc = roc_auc_score(target_valid, probabilities_one_valid)\n",
    "RandomForest_fpr, RandomForest_tpr, thresholds = roc_curve(target_valid, probabilities_one_valid) \n",
    "\n",
    "print(\"F1-мера наилучшей модели на валидационной выборке:\", f1)\n",
    "print(\"AUC_ROC:\", auc_roc)"
   ]
  },
  {
   "cell_type": "code",
   "execution_count": 35,
   "metadata": {},
   "outputs": [],
   "source": [
    "col = 'RandomForestUp'\n",
    "total_table.loc[0, col] = f1\n",
    "total_table.loc[1, col] = auc_roc \n",
    "total_table.loc[2, col] = [grid.best_params_.items()]"
   ]
  },
  {
   "cell_type": "code",
   "execution_count": 36,
   "metadata": {},
   "outputs": [
    {
     "name": "stdout",
     "output_type": "stream",
     "text": [
      "{'max_depth': 9, 'n_estimators': 61}\n",
      "F1-мера наилучшей модели на валидационной выборке: 0.6180094786729857\n",
      "AUC_ROC: 0.866618632377574\n"
     ]
    }
   ],
   "source": [
    "model = RandomForestClassifier(random_state=12345)\n",
    "\n",
    "parameters = {'n_estimators': range (1,100,20),\n",
    "              'max_depth': range(1,12,2)    }\n",
    "\n",
    "grid = GridSearchCV(model, parameters, scoring = 'f1', cv = 5)\n",
    "grid.fit(features_downsampled, target_downsampled)\n",
    "\n",
    "print(grid.best_params_)\n",
    "\n",
    "predictions_valid = grid.predict(features_valid)\n",
    "f1 = f1_score(target_valid, predictions_valid) \n",
    "probabilities_valid = grid.predict_proba(features_valid)\n",
    "probabilities_one_valid = probabilities_valid[:, 1]\n",
    "auc_roc = roc_auc_score(target_valid, probabilities_one_valid)\n",
    "print(\"F1-мера наилучшей модели на валидационной выборке:\", f1)\n",
    "print(\"AUC_ROC:\", auc_roc)"
   ]
  },
  {
   "cell_type": "code",
   "execution_count": 37,
   "metadata": {},
   "outputs": [
    {
     "data": {
      "text/html": [
       "<div>\n",
       "<style scoped>\n",
       "    .dataframe tbody tr th:only-of-type {\n",
       "        vertical-align: middle;\n",
       "    }\n",
       "\n",
       "    .dataframe tbody tr th {\n",
       "        vertical-align: top;\n",
       "    }\n",
       "\n",
       "    .dataframe thead th {\n",
       "        text-align: right;\n",
       "    }\n",
       "</style>\n",
       "<table border=\"1\" class=\"dataframe\">\n",
       "  <thead>\n",
       "    <tr style=\"text-align: right;\">\n",
       "      <th></th>\n",
       "      <th>Метрика</th>\n",
       "      <th>DecisionTree</th>\n",
       "      <th>RandomForest</th>\n",
       "      <th>ForestNoBalance</th>\n",
       "      <th>LogisticRegression</th>\n",
       "      <th>DecisionTreeUp</th>\n",
       "      <th>DecisionTreeDown</th>\n",
       "      <th>RandomForestUp</th>\n",
       "      <th>RandomForestDown</th>\n",
       "    </tr>\n",
       "  </thead>\n",
       "  <tbody>\n",
       "    <tr>\n",
       "      <td>0</td>\n",
       "      <td>F-мера</td>\n",
       "      <td>0.575926</td>\n",
       "      <td>0.636782</td>\n",
       "      <td>0.60091</td>\n",
       "      <td>0.537615</td>\n",
       "      <td>0.511628</td>\n",
       "      <td>0.593928</td>\n",
       "      <td>0.640553</td>\n",
       "      <td>0.618009</td>\n",
       "    </tr>\n",
       "    <tr>\n",
       "      <td>1</td>\n",
       "      <td>AUC_ROC</td>\n",
       "      <td>0.823412</td>\n",
       "      <td>0.869607</td>\n",
       "      <td>0.867139</td>\n",
       "      <td>0.795489</td>\n",
       "      <td>0.699655</td>\n",
       "      <td>0.847232</td>\n",
       "      <td>0.870343</td>\n",
       "      <td>0.866619</td>\n",
       "    </tr>\n",
       "    <tr>\n",
       "      <td>2</td>\n",
       "      <td>param</td>\n",
       "      <td>((max_depth, 6))</td>\n",
       "      <td>((max_depth, 9), (n_estimators, 61))</td>\n",
       "      <td>((max_depth, 11), (n_estimators, 41))</td>\n",
       "      <td>((C, 0.0018329807108324356))</td>\n",
       "      <td>((max_depth, 15))</td>\n",
       "      <td>((max_depth, 6))</td>\n",
       "      <td>((max_depth, 11), (n_estimators, 81))</td>\n",
       "      <td>((max_depth, 9), (n_estimators, 61))</td>\n",
       "    </tr>\n",
       "  </tbody>\n",
       "</table>\n",
       "</div>"
      ],
      "text/plain": [
       "   Метрика      DecisionTree                          RandomForest  \\\n",
       "0   F-мера          0.575926                              0.636782   \n",
       "1  AUC_ROC          0.823412                              0.869607   \n",
       "2    param  ((max_depth, 6))  ((max_depth, 9), (n_estimators, 61))   \n",
       "\n",
       "                         ForestNoBalance            LogisticRegression  \\\n",
       "0                                0.60091                      0.537615   \n",
       "1                               0.867139                      0.795489   \n",
       "2  ((max_depth, 11), (n_estimators, 41))  ((C, 0.0018329807108324356))   \n",
       "\n",
       "      DecisionTreeUp  DecisionTreeDown                         RandomForestUp  \\\n",
       "0           0.511628          0.593928                               0.640553   \n",
       "1           0.699655          0.847232                               0.870343   \n",
       "2  ((max_depth, 15))  ((max_depth, 6))  ((max_depth, 11), (n_estimators, 81))   \n",
       "\n",
       "                       RandomForestDown  \n",
       "0                              0.618009  \n",
       "1                              0.866619  \n",
       "2  ((max_depth, 9), (n_estimators, 61))  "
      ]
     },
     "execution_count": 37,
     "metadata": {},
     "output_type": "execute_result"
    }
   ],
   "source": [
    "col = 'RandomForestDown'\n",
    "total_table.loc[0, col] = f1\n",
    "total_table.loc[1, col] = auc_roc \n",
    "total_table.loc[2, col] = [grid.best_params_.items()]\n",
    "total_table"
   ]
  },
  {
   "cell_type": "markdown",
   "metadata": {},
   "source": [
    "В результате сравнения всех обученных моделей, можно увидеть, что максимальное значение F1-меры (0.64) оказалось у модели RandomForest после увеличения выборки положительных ответов, с параметрами max_depth =  11, n_estimators = 81.  "
   ]
  },
  {
   "cell_type": "markdown",
   "metadata": {},
   "source": [
    "### ROC-кривые ###"
   ]
  },
  {
   "cell_type": "markdown",
   "metadata": {},
   "source": [
    "Для сравнения с базовой моделью создадим dummy-модель средствами библиотеки sklearn, стратегию зададим most_frequent."
   ]
  },
  {
   "cell_type": "code",
   "execution_count": 38,
   "metadata": {},
   "outputs": [],
   "source": [
    "dummy_model = DummyClassifier(strategy=\"most_frequent\", random_state=12345)\n",
    "dummy_model.fit(features_train,target_train)\n",
    "probabilities_test = dummy_model.predict_proba(features_test)\n",
    "probabilities_one_test = probabilities_test[:, 1]\n",
    "dummy_fpr, dummy_tpr, dummy_thresholds = roc_curve(target_test, probabilities_one_test) \n"
   ]
  },
  {
   "cell_type": "code",
   "execution_count": 45,
   "metadata": {},
   "outputs": [
    {
     "data": {
      "image/png": "[encoded data removed]",
      "text/plain": [
       "<Figure size 432x288 with 1 Axes>"
      ]
     },
     "metadata": {},
     "output_type": "display_data"
    }
   ],
   "source": [
    "plt.plot(dummy_fpr, dummy_tpr)\n",
    "plt.plot(DecisionTree_fpr, DecisionTree_tpr)\n",
    "plt.plot(RandomForest_fpr, RandomForest_tpr)\n",
    "plt.plot(LogisticRegression_fpr, LogisticRegression_tpr)\n",
    "plt.xlabel('False Positive Rate')\n",
    "plt.ylabel('True Positive Rate')\n",
    "plt.title('ROC-кривая')\n",
    "plt.show()"
   ]
  },
  {
   "cell_type": "markdown",
   "metadata": {},
   "source": [
    "<font color=\"ForestGreen\"> RandomForest</font><br>\n",
    "<font color=\"Coral\"> DecisionTree</font><br>\n",
    "<font color=\"IndianRed\"> LogisticRegression </font><br>\n",
    "<font color=\"SteelBlue\"> Dummy </font><br>"
   ]
  },
  {
   "cell_type": "markdown",
   "metadata": {},
   "source": [
    "Лучше всех кривая у RandomForest с параметрами max_depth=11, n_estimators=81"
   ]
  },
  {
   "cell_type": "markdown",
   "metadata": {},
   "source": [
    "## Тестирование модели"
   ]
  },
  {
   "cell_type": "markdown",
   "metadata": {},
   "source": [
    "Протестируем модель на найденных параметрах. \n",
    "в качестве обучающей возьмем тестовую+валидационную выборку. "
   ]
  },
  {
   "cell_type": "code",
   "execution_count": 40,
   "metadata": {},
   "outputs": [
    {
     "name": "stdout",
     "output_type": "stream",
     "text": [
      "F1-мера: 0.5913705583756345\n",
      "AUC_ROC: 0.8555072792360927\n"
     ]
    }
   ],
   "source": [
    "model = RandomForestClassifier(random_state=12345, \n",
    "                               max_depth=11, n_estimators=81, class_weight='balanced')\n",
    "model.fit(features_train.append(features_valid), target_train.append(target_valid)) \n",
    "\n",
    "predicted_test = model.predict(features_test)\n",
    "\n",
    "probabilities_test = model.predict_proba(features_test)\n",
    "probabilities_one_test = probabilities_test[:, 1]\n",
    " \n",
    "auc_roc = roc_auc_score(target_test, probabilities_one_test)\n",
    "\n",
    "print(\"F1-мера:\", f1_score(target_test, predicted_test))\n",
    "print(\"AUC_ROC:\", auc_roc)"
   ]
  },
  {
   "cell_type": "markdown",
   "metadata": {},
   "source": [
    "Построим ROC-кривую тестирования. <br>"
   ]
  },
  {
   "cell_type": "code",
   "execution_count": 41,
   "metadata": {},
   "outputs": [
    {
     "data": {
      "image/png": "[encoded data removed]",
      "text/plain": [
       "<Figure size 432x288 with 1 Axes>"
      ]
     },
     "metadata": {},
     "output_type": "display_data"
    }
   ],
   "source": [
    "fpr, tpr, thresholds = roc_curve(target_test, probabilities_one_test) \n",
    "plt.plot(fpr, tpr) \n",
    "plt.plot(dummy_fpr, dummy_tpr)\n",
    "\n",
    "plt.xlabel('False Positive Rate')\n",
    "plt.ylabel('True Positive Rate')\n",
    "plt.title('ROC-кривая')\n",
    "plt.show()"
   ]
  },
  {
   "cell_type": "markdown",
   "metadata": {},
   "source": [
    "AUC-ROC случайной модели равна 0.5, наша  AUC-ROC - 0.85, это значит, что наша модель адекватна и хорошо предсказывает. "
   ]
  },
  {
   "cell_type": "markdown",
   "metadata": {},
   "source": [
    "## Вывод"
   ]
  },
  {
   "cell_type": "markdown",
   "metadata": {},
   "source": [
    "Мы исследовали баланс классов, построили, обучили и протестировали три модели: решающее дерево, случайный лес и логистическую регрессию, а так же измерили метрики - F1-меру и AUC-ROC.<br>\n",
    "\n",
    "Категориальные признаки перевели в численные с помощью One-Hot Encoding, а численные привели к одному масштабу. <br>\n",
    "Целевой признак в данных распределен в соотношении 80/20, что затрудняет обучение модели. <br>\n",
    "Для борьбы с дисбалансом мы пробовали использовать балансировку классов с помощью аргумента class_weight и функции увеличения и уменьшения выборки. <br>\n",
    "\n",
    "В итоге максимально большое значение F-меры показала функция увеличения выборки на модели \"Случайный лес\"<br>\n",
    "\n",
    "Удалось добиться результата F-меры более 0.59, а значения AUC-ROC - 0.85. Значения метрик и построенный график ROC-кривой говорят о том, что наша модель адекватна и хорошо предсказывает. <br>"
   ]
  }
 ],
 "metadata": {
  "ExecuteTimeLog": [
   {
    "duration": 1660,
    "start_time": "2021-06-09T17:31:20.485Z"
   },
   {
    "duration": 37,
    "start_time": "2021-06-09T17:34:42.957Z"
   },
   {
    "duration": 38,
    "start_time": "2021-06-09T17:35:01.507Z"
   },
   {
    "duration": 14,
    "start_time": "2021-06-09T17:35:01.856Z"
   },
   {
    "duration": 19,
    "start_time": "2021-06-09T17:38:01.363Z"
   },
   {
    "duration": 60,
    "start_time": "2021-06-09T17:38:01.385Z"
   },
   {
    "duration": 11,
    "start_time": "2021-06-09T17:38:01.448Z"
   },
   {
    "duration": 9,
    "start_time": "2021-06-09T17:41:31.740Z"
   },
   {
    "duration": 34,
    "start_time": "2021-06-09T17:41:33.725Z"
   },
   {
    "duration": 8,
    "start_time": "2021-06-09T17:41:34.061Z"
   },
   {
    "duration": 11,
    "start_time": "2021-06-09T17:41:34.661Z"
   },
   {
    "duration": 18,
    "start_time": "2021-06-09T17:41:35.773Z"
   },
   {
    "duration": 444,
    "start_time": "2021-06-09T17:47:45.392Z"
   },
   {
    "duration": 1118,
    "start_time": "2021-06-09T17:48:01.859Z"
   },
   {
    "duration": 16,
    "start_time": "2021-06-09T18:24:24.226Z"
   },
   {
    "duration": 7,
    "start_time": "2021-06-09T19:43:18.239Z"
   },
   {
    "duration": 318,
    "start_time": "2021-06-09T19:44:42.287Z"
   },
   {
    "duration": 353,
    "start_time": "2021-06-09T19:44:47.586Z"
   },
   {
    "duration": 13,
    "start_time": "2021-06-09T19:45:30.368Z"
   },
   {
    "duration": 344,
    "start_time": "2021-06-09T19:45:42.479Z"
   },
   {
    "duration": 266,
    "start_time": "2021-06-09T19:51:38.975Z"
   },
   {
    "duration": 290,
    "start_time": "2021-06-09T19:51:44.622Z"
   },
   {
    "duration": 277,
    "start_time": "2021-06-09T19:51:46.143Z"
   },
   {
    "duration": 36,
    "start_time": "2021-06-09T19:52:05.750Z"
   },
   {
    "duration": 574,
    "start_time": "2021-06-09T19:52:07.380Z"
   },
   {
    "duration": 5,
    "start_time": "2021-06-09T21:57:37.188Z"
   },
   {
    "duration": 12,
    "start_time": "2021-06-09T21:57:40.573Z"
   },
   {
    "duration": 1483,
    "start_time": "2021-06-09T21:57:47.410Z"
   },
   {
    "duration": 35,
    "start_time": "2021-06-09T21:57:48.896Z"
   },
   {
    "duration": 11,
    "start_time": "2021-06-09T21:57:48.934Z"
   },
   {
    "duration": 12,
    "start_time": "2021-06-09T21:57:48.948Z"
   },
   {
    "duration": 4,
    "start_time": "2021-06-09T21:57:48.962Z"
   },
   {
    "duration": 47,
    "start_time": "2021-06-09T21:57:48.968Z"
   },
   {
    "duration": 1034,
    "start_time": "2021-06-09T21:57:49.017Z"
   },
   {
    "duration": 8,
    "start_time": "2021-06-09T21:57:50.055Z"
   },
   {
    "duration": 394,
    "start_time": "2021-06-09T21:57:50.067Z"
   },
   {
    "duration": 339,
    "start_time": "2021-06-09T21:57:50.464Z"
   },
   {
    "duration": 37,
    "start_time": "2021-06-09T21:57:50.806Z"
   },
   {
    "duration": 370,
    "start_time": "2021-06-09T21:57:50.845Z"
   },
   {
    "duration": 416,
    "start_time": "2021-06-10T02:18:46.175Z"
   },
   {
    "duration": 948,
    "start_time": "2021-06-10T02:19:15.346Z"
   },
   {
    "duration": 7,
    "start_time": "2021-06-10T02:19:16.297Z"
   },
   {
    "duration": 360,
    "start_time": "2021-06-10T02:19:16.307Z"
   },
   {
    "duration": 305,
    "start_time": "2021-06-10T02:19:17.287Z"
   },
   {
    "duration": 291,
    "start_time": "2021-06-10T02:19:18.351Z"
   },
   {
    "duration": 32,
    "start_time": "2021-06-10T02:19:33.633Z"
   },
   {
    "duration": 27,
    "start_time": "2021-06-10T02:19:35.750Z"
   },
   {
    "duration": 57,
    "start_time": "2021-06-10T02:19:42.981Z"
   },
   {
    "duration": 370,
    "start_time": "2021-06-10T02:20:55.950Z"
   },
   {
    "duration": 7,
    "start_time": "2021-06-10T02:21:06.088Z"
   },
   {
    "duration": 321,
    "start_time": "2021-06-10T02:21:06.517Z"
   },
   {
    "duration": 324,
    "start_time": "2021-06-10T02:21:26.159Z"
   },
   {
    "duration": 1430,
    "start_time": "2021-06-10T02:21:32.653Z"
   },
   {
    "duration": 37,
    "start_time": "2021-06-10T02:21:34.086Z"
   },
   {
    "duration": 13,
    "start_time": "2021-06-10T02:21:34.126Z"
   },
   {
    "duration": 13,
    "start_time": "2021-06-10T02:21:34.142Z"
   },
   {
    "duration": 5,
    "start_time": "2021-06-10T02:21:34.158Z"
   },
   {
    "duration": 21,
    "start_time": "2021-06-10T02:21:34.202Z"
   },
   {
    "duration": 985,
    "start_time": "2021-06-10T02:21:34.226Z"
   },
   {
    "duration": 8,
    "start_time": "2021-06-10T02:21:35.215Z"
   },
   {
    "duration": 329,
    "start_time": "2021-06-10T02:21:35.227Z"
   },
   {
    "duration": 337,
    "start_time": "2021-06-10T02:21:35.559Z"
   },
   {
    "duration": 359,
    "start_time": "2021-06-10T02:21:35.901Z"
   },
   {
    "duration": 452,
    "start_time": "2021-06-10T02:21:36.263Z"
   },
   {
    "duration": 408,
    "start_time": "2021-06-10T02:21:36.717Z"
   },
   {
    "duration": 27,
    "start_time": "2021-06-10T02:22:04.934Z"
   },
   {
    "duration": 1499,
    "start_time": "2021-06-10T02:22:10.701Z"
   },
   {
    "duration": 36,
    "start_time": "2021-06-10T02:22:12.203Z"
   },
   {
    "duration": 9,
    "start_time": "2021-06-10T02:22:12.243Z"
   },
   {
    "duration": 12,
    "start_time": "2021-06-10T02:22:12.255Z"
   },
   {
    "duration": 31,
    "start_time": "2021-06-10T02:22:12.269Z"
   },
   {
    "duration": 20,
    "start_time": "2021-06-10T02:22:12.302Z"
   },
   {
    "duration": 1009,
    "start_time": "2021-06-10T02:22:12.324Z"
   },
   {
    "duration": 7,
    "start_time": "2021-06-10T02:22:13.335Z"
   },
   {
    "duration": 323,
    "start_time": "2021-06-10T02:22:13.345Z"
   },
   {
    "duration": 334,
    "start_time": "2021-06-10T02:22:13.671Z"
   },
   {
    "duration": 41,
    "start_time": "2021-06-10T02:22:14.008Z"
   },
   {
    "duration": 349,
    "start_time": "2021-06-10T02:22:14.052Z"
   },
   {
    "duration": 407,
    "start_time": "2021-06-10T02:22:14.404Z"
   },
   {
    "duration": 8,
    "start_time": "2021-06-10T02:22:39.634Z"
   },
   {
    "duration": 9,
    "start_time": "2021-06-10T02:22:43.780Z"
   },
   {
    "duration": 1453,
    "start_time": "2021-06-10T02:23:05.959Z"
   },
   {
    "duration": 37,
    "start_time": "2021-06-10T02:23:07.415Z"
   },
   {
    "duration": 11,
    "start_time": "2021-06-10T02:23:07.455Z"
   },
   {
    "duration": 15,
    "start_time": "2021-06-10T02:23:07.469Z"
   },
   {
    "duration": 5,
    "start_time": "2021-06-10T02:23:07.502Z"
   },
   {
    "duration": 24,
    "start_time": "2021-06-10T02:23:07.509Z"
   },
   {
    "duration": 936,
    "start_time": "2021-06-10T02:23:07.537Z"
   },
   {
    "duration": 32,
    "start_time": "2021-06-10T02:23:08.476Z"
   },
   {
    "duration": 14,
    "start_time": "2021-06-10T02:23:08.511Z"
   },
   {
    "duration": 7,
    "start_time": "2021-06-10T02:23:08.527Z"
   },
   {
    "duration": 10,
    "start_time": "2021-06-10T02:23:08.537Z"
   },
   {
    "duration": 87,
    "start_time": "2021-06-10T02:23:08.549Z"
   },
   {
    "duration": 386,
    "start_time": "2021-06-10T02:23:08.638Z"
   },
   {
    "duration": 7,
    "start_time": "2021-06-10T02:23:17.357Z"
   },
   {
    "duration": 284,
    "start_time": "2021-06-10T02:25:36.315Z"
   },
   {
    "duration": 7,
    "start_time": "2021-06-10T02:25:49.907Z"
   },
   {
    "duration": 25,
    "start_time": "2021-06-10T02:25:53.971Z"
   },
   {
    "duration": 41,
    "start_time": "2021-06-10T02:26:04.090Z"
   },
   {
    "duration": 42,
    "start_time": "2021-06-10T02:26:31.264Z"
   },
   {
    "duration": 264,
    "start_time": "2021-06-10T02:29:27.409Z"
   },
   {
    "duration": 232,
    "start_time": "2021-06-10T02:29:41.649Z"
   },
   {
    "duration": 1791,
    "start_time": "2021-06-10T02:39:11.957Z"
   },
   {
    "duration": 6,
    "start_time": "2021-06-10T02:39:28.140Z"
   },
   {
    "duration": 49,
    "start_time": "2021-06-10T02:39:32.299Z"
   },
   {
    "duration": 1499,
    "start_time": "2021-06-10T17:10:48.197Z"
   },
   {
    "duration": 36,
    "start_time": "2021-06-10T17:10:49.699Z"
   },
   {
    "duration": 18,
    "start_time": "2021-06-10T17:10:49.738Z"
   },
   {
    "duration": 12,
    "start_time": "2021-06-10T17:10:49.759Z"
   },
   {
    "duration": 5,
    "start_time": "2021-06-10T17:10:49.773Z"
   },
   {
    "duration": 39,
    "start_time": "2021-06-10T17:10:49.780Z"
   },
   {
    "duration": 1084,
    "start_time": "2021-06-10T17:10:49.821Z"
   },
   {
    "duration": 23,
    "start_time": "2021-06-10T17:10:50.907Z"
   },
   {
    "duration": 33,
    "start_time": "2021-06-10T17:10:50.934Z"
   },
   {
    "duration": 15,
    "start_time": "2021-06-10T17:10:50.970Z"
   },
   {
    "duration": 26,
    "start_time": "2021-06-10T17:10:50.987Z"
   },
   {
    "duration": 80,
    "start_time": "2021-06-10T17:10:51.016Z"
   },
   {
    "duration": 56,
    "start_time": "2021-06-10T17:10:51.098Z"
   },
   {
    "duration": 275,
    "start_time": "2021-06-10T17:10:51.157Z"
   },
   {
    "duration": 66,
    "start_time": "2021-06-10T17:10:51.434Z"
   },
   {
    "duration": 499,
    "start_time": "2021-06-10T17:36:44.390Z"
   },
   {
    "duration": 8,
    "start_time": "2021-06-10T17:37:15.308Z"
   },
   {
    "duration": 35,
    "start_time": "2021-06-10T17:37:16.358Z"
   },
   {
    "duration": 1554,
    "start_time": "2021-06-10T17:37:21.524Z"
   },
   {
    "duration": 36,
    "start_time": "2021-06-10T17:37:23.081Z"
   },
   {
    "duration": 11,
    "start_time": "2021-06-10T17:37:23.120Z"
   },
   {
    "duration": 30,
    "start_time": "2021-06-10T17:37:23.134Z"
   },
   {
    "duration": 4,
    "start_time": "2021-06-10T17:37:23.166Z"
   },
   {
    "duration": 31,
    "start_time": "2021-06-10T17:37:23.172Z"
   },
   {
    "duration": 1134,
    "start_time": "2021-06-10T17:37:23.205Z"
   },
   {
    "duration": 31,
    "start_time": "2021-06-10T17:37:24.342Z"
   },
   {
    "duration": 13,
    "start_time": "2021-06-10T17:37:24.376Z"
   },
   {
    "duration": 10,
    "start_time": "2021-06-10T17:37:24.392Z"
   },
   {
    "duration": 51,
    "start_time": "2021-06-10T17:37:24.404Z"
   },
   {
    "duration": 70,
    "start_time": "2021-06-10T17:37:24.458Z"
   },
   {
    "duration": 72,
    "start_time": "2021-06-10T17:37:24.532Z"
   },
   {
    "duration": 309,
    "start_time": "2021-06-10T17:37:24.607Z"
   },
   {
    "duration": 75,
    "start_time": "2021-06-10T17:37:24.918Z"
   },
   {
    "duration": 70,
    "start_time": "2021-06-10T17:37:24.996Z"
   },
   {
    "duration": 639,
    "start_time": "2021-06-10T18:26:00.812Z"
   },
   {
    "duration": 11,
    "start_time": "2021-06-10T18:26:18.691Z"
   },
   {
    "duration": 188,
    "start_time": "2021-06-10T18:26:23.076Z"
   },
   {
    "duration": 97,
    "start_time": "2021-06-10T18:26:49.560Z"
   },
   {
    "duration": 366,
    "start_time": "2021-06-10T18:29:00.202Z"
   },
   {
    "duration": 7,
    "start_time": "2021-06-10T18:29:21.877Z"
   },
   {
    "duration": 324,
    "start_time": "2021-06-10T18:29:27.412Z"
   },
   {
    "duration": 7,
    "start_time": "2021-06-10T18:29:43.907Z"
   },
   {
    "duration": 241,
    "start_time": "2021-06-10T18:29:48.462Z"
   },
   {
    "duration": 356,
    "start_time": "2021-06-10T18:30:48.964Z"
   },
   {
    "duration": 8,
    "start_time": "2021-06-10T18:31:05.335Z"
   },
   {
    "duration": 635,
    "start_time": "2021-06-10T18:31:09.049Z"
   },
   {
    "duration": 308,
    "start_time": "2021-06-10T18:32:49.364Z"
   },
   {
    "duration": 8,
    "start_time": "2021-06-10T18:33:09.987Z"
   },
   {
    "duration": 39,
    "start_time": "2021-06-10T18:33:20.733Z"
   },
   {
    "duration": 333,
    "start_time": "2021-06-10T18:46:03.025Z"
   },
   {
    "duration": 8,
    "start_time": "2021-06-10T18:46:22.342Z"
   },
   {
    "duration": 637,
    "start_time": "2021-06-10T18:46:28.297Z"
   },
   {
    "duration": 318,
    "start_time": "2021-06-11T22:00:40.623Z"
   },
   {
    "duration": 1493,
    "start_time": "2021-06-11T22:00:47.065Z"
   },
   {
    "duration": 36,
    "start_time": "2021-06-11T22:00:48.563Z"
   },
   {
    "duration": 11,
    "start_time": "2021-06-11T22:00:48.602Z"
   },
   {
    "duration": 12,
    "start_time": "2021-06-11T22:00:48.615Z"
   },
   {
    "duration": 28,
    "start_time": "2021-06-11T22:00:48.630Z"
   },
   {
    "duration": 21,
    "start_time": "2021-06-11T22:00:48.662Z"
   },
   {
    "duration": 1009,
    "start_time": "2021-06-11T22:00:48.686Z"
   },
   {
    "duration": 23,
    "start_time": "2021-06-11T22:00:49.698Z"
   },
   {
    "duration": 43,
    "start_time": "2021-06-11T22:00:49.723Z"
   },
   {
    "duration": 9,
    "start_time": "2021-06-11T22:00:49.769Z"
   },
   {
    "duration": 14,
    "start_time": "2021-06-11T22:00:49.780Z"
   },
   {
    "duration": 79,
    "start_time": "2021-06-11T22:00:49.796Z"
   },
   {
    "duration": 16531,
    "start_time": "2021-06-11T22:00:49.877Z"
   },
   {
    "duration": 57,
    "start_time": "2021-06-11T22:01:06.410Z"
   },
   {
    "duration": 355,
    "start_time": "2021-06-11T22:01:06.471Z"
   },
   {
    "duration": 3,
    "start_time": "2021-06-11T22:01:06.828Z"
   },
   {
    "duration": 299,
    "start_time": "2021-06-11T22:01:06.833Z"
   },
   {
    "duration": 601,
    "start_time": "2021-06-11T22:01:07.135Z"
   },
   {
    "duration": 582,
    "start_time": "2021-06-11T22:01:07.738Z"
   },
   {
    "duration": 286290,
    "start_time": "2021-06-11T22:12:24.734Z"
   },
   {
    "duration": -789,
    "start_time": "2021-06-11T22:17:12.234Z"
   },
   {
    "duration": -789,
    "start_time": "2021-06-11T22:17:12.236Z"
   },
   {
    "duration": -790,
    "start_time": "2021-06-11T22:17:12.238Z"
   },
   {
    "duration": -789,
    "start_time": "2021-06-11T22:17:12.239Z"
   },
   {
    "duration": -790,
    "start_time": "2021-06-11T22:17:12.241Z"
   },
   {
    "duration": 51,
    "start_time": "2021-06-11T22:40:54.549Z"
   },
   {
    "duration": 35,
    "start_time": "2021-06-11T22:41:26.869Z"
   },
   {
    "duration": 37,
    "start_time": "2021-06-11T22:42:14.487Z"
   },
   {
    "duration": 125,
    "start_time": "2021-06-11T22:43:30.531Z"
   },
   {
    "duration": 35,
    "start_time": "2021-06-11T22:44:05.547Z"
   },
   {
    "duration": 218,
    "start_time": "2021-06-11T22:45:03.589Z"
   },
   {
    "duration": 7,
    "start_time": "2021-06-11T22:47:28.984Z"
   },
   {
    "duration": 39,
    "start_time": "2021-06-11T22:49:01.666Z"
   },
   {
    "duration": 24,
    "start_time": "2021-06-11T22:49:12.391Z"
   },
   {
    "duration": 19,
    "start_time": "2021-06-11T22:50:00.513Z"
   },
   {
    "duration": 9,
    "start_time": "2021-06-11T22:50:03.118Z"
   },
   {
    "duration": 276,
    "start_time": "2021-06-11T22:50:03.534Z"
   },
   {
    "duration": 9,
    "start_time": "2021-06-11T22:50:23.214Z"
   },
   {
    "duration": 271,
    "start_time": "2021-06-12T00:39:00.823Z"
   },
   {
    "duration": 265,
    "start_time": "2021-06-12T00:40:59.207Z"
   },
   {
    "duration": 6654,
    "start_time": "2021-06-12T00:41:58.812Z"
   },
   {
    "duration": 4683,
    "start_time": "2021-06-12T00:42:14.044Z"
   },
   {
    "duration": 5002,
    "start_time": "2021-06-12T00:42:53.553Z"
   },
   {
    "duration": 4801,
    "start_time": "2021-06-12T00:43:04.802Z"
   },
   {
    "duration": 250,
    "start_time": "2021-06-12T00:43:51.813Z"
   },
   {
    "duration": 245,
    "start_time": "2021-06-12T00:44:14.858Z"
   },
   {
    "duration": 250,
    "start_time": "2021-06-12T00:44:30.779Z"
   },
   {
    "duration": 264,
    "start_time": "2021-06-12T00:44:52.634Z"
   },
   {
    "duration": 465,
    "start_time": "2021-06-12T00:45:08.727Z"
   },
   {
    "duration": 255,
    "start_time": "2021-06-12T00:45:38.881Z"
   },
   {
    "duration": 651,
    "start_time": "2021-06-12T00:45:46.515Z"
   },
   {
    "duration": 658,
    "start_time": "2021-06-12T00:45:54.057Z"
   },
   {
    "duration": 606,
    "start_time": "2021-06-12T00:46:04.566Z"
   },
   {
    "duration": 599,
    "start_time": "2021-06-12T00:46:11.033Z"
   },
   {
    "duration": 468,
    "start_time": "2021-06-12T00:47:07.261Z"
   },
   {
    "duration": 285,
    "start_time": "2021-06-12T01:01:52.145Z"
   },
   {
    "duration": 291,
    "start_time": "2021-06-12T01:02:59.068Z"
   },
   {
    "duration": 284,
    "start_time": "2021-06-12T01:03:08.111Z"
   },
   {
    "duration": 725,
    "start_time": "2021-06-12T01:03:45.270Z"
   },
   {
    "duration": 1481,
    "start_time": "2021-06-12T01:04:14.318Z"
   },
   {
    "duration": 1095,
    "start_time": "2021-06-12T01:04:42.941Z"
   },
   {
    "duration": 250,
    "start_time": "2021-06-12T01:07:52.544Z"
   },
   {
    "duration": 5768,
    "start_time": "2021-06-12T01:08:05.404Z"
   },
   {
    "duration": 5686,
    "start_time": "2021-06-12T01:08:46.252Z"
   },
   {
    "duration": 7,
    "start_time": "2021-06-12T01:17:50.358Z"
   },
   {
    "duration": 292,
    "start_time": "2021-06-12T01:18:14.931Z"
   },
   {
    "duration": 9,
    "start_time": "2021-06-12T01:19:35.627Z"
   },
   {
    "duration": 8,
    "start_time": "2021-06-12T01:19:37.924Z"
   },
   {
    "duration": 5799,
    "start_time": "2021-06-12T01:19:46.108Z"
   },
   {
    "duration": 450,
    "start_time": "2021-06-12T01:20:03.861Z"
   },
   {
    "duration": 7822,
    "start_time": "2021-06-12T01:21:10.065Z"
   },
   {
    "duration": 313,
    "start_time": "2021-06-12T01:21:24.594Z"
   },
   {
    "duration": 8097,
    "start_time": "2021-06-12T01:21:43.508Z"
   },
   {
    "duration": 10272,
    "start_time": "2021-06-12T01:22:17.562Z"
   },
   {
    "duration": 1924,
    "start_time": "2021-06-12T01:23:36.580Z"
   },
   {
    "duration": 4055,
    "start_time": "2021-06-12T01:23:47.714Z"
   },
   {
    "duration": 958,
    "start_time": "2021-06-12T01:24:43.267Z"
   },
   {
    "duration": 1261,
    "start_time": "2021-06-12T01:24:49.401Z"
   },
   {
    "duration": 2699,
    "start_time": "2021-06-12T01:25:08.777Z"
   },
   {
    "duration": 2714,
    "start_time": "2021-06-12T01:26:24.976Z"
   },
   {
    "duration": -924,
    "start_time": "2021-06-12T01:28:57.411Z"
   },
   {
    "duration": 11490,
    "start_time": "2021-06-12T01:28:59.590Z"
   },
   {
    "duration": 12998,
    "start_time": "2021-06-12T01:29:19.648Z"
   },
   {
    "duration": 1274,
    "start_time": "2021-06-12T01:32:04.867Z"
   },
   {
    "duration": 4581,
    "start_time": "2021-06-12T01:32:33.853Z"
   },
   {
    "duration": 4498,
    "start_time": "2021-06-12T01:32:55.764Z"
   },
   {
    "duration": 253,
    "start_time": "2021-06-12T01:33:24.669Z"
   },
   {
    "duration": 2988,
    "start_time": "2021-06-12T01:33:49.901Z"
   },
   {
    "duration": 7637,
    "start_time": "2021-06-12T01:34:01.476Z"
   },
   {
    "duration": 4066,
    "start_time": "2021-06-12T01:34:47.452Z"
   },
   {
    "duration": 2606,
    "start_time": "2021-06-12T01:35:00.752Z"
   },
   {
    "duration": 1241,
    "start_time": "2021-06-12T01:53:03.862Z"
   },
   {
    "duration": 2767,
    "start_time": "2021-06-12T01:53:34.139Z"
   },
   {
    "duration": 4427,
    "start_time": "2021-06-12T01:54:10.137Z"
   },
   {
    "duration": 2629,
    "start_time": "2021-06-12T01:54:39.335Z"
   },
   {
    "duration": 1053,
    "start_time": "2021-06-12T01:55:08.297Z"
   },
   {
    "duration": 846,
    "start_time": "2021-06-12T01:56:00.383Z"
   },
   {
    "duration": 1290,
    "start_time": "2021-06-12T01:56:26.230Z"
   },
   {
    "duration": 2800,
    "start_time": "2021-06-12T01:57:19.446Z"
   },
   {
    "duration": 458,
    "start_time": "2021-06-12T01:58:35.092Z"
   },
   {
    "duration": 804,
    "start_time": "2021-06-12T01:58:58.742Z"
   },
   {
    "duration": 997,
    "start_time": "2021-06-12T02:00:25.045Z"
   },
   {
    "duration": 248,
    "start_time": "2021-06-12T02:01:29.443Z"
   },
   {
    "duration": 131,
    "start_time": "2021-06-12T02:02:27.574Z"
   },
   {
    "duration": 500,
    "start_time": "2021-06-12T02:02:32.643Z"
   },
   {
    "duration": 479,
    "start_time": "2021-06-12T02:02:38.188Z"
   },
   {
    "duration": 296,
    "start_time": "2021-06-12T02:02:44.908Z"
   },
   {
    "duration": 86,
    "start_time": "2021-06-12T02:02:50.515Z"
   },
   {
    "duration": 136,
    "start_time": "2021-06-12T02:02:56.282Z"
   },
   {
    "duration": 363,
    "start_time": "2021-06-12T02:03:22.251Z"
   },
   {
    "duration": 351,
    "start_time": "2021-06-12T02:03:30.961Z"
   },
   {
    "duration": 383,
    "start_time": "2021-06-12T02:03:36.683Z"
   },
   {
    "duration": 415,
    "start_time": "2021-06-12T02:04:30.330Z"
   },
   {
    "duration": 432,
    "start_time": "2021-06-12T02:08:26.261Z"
   },
   {
    "duration": 398,
    "start_time": "2021-06-12T02:08:40.264Z"
   },
   {
    "duration": 125,
    "start_time": "2021-06-12T02:09:05.976Z"
   },
   {
    "duration": 126,
    "start_time": "2021-06-12T02:09:18.711Z"
   },
   {
    "duration": 481,
    "start_time": "2021-06-12T02:09:29.424Z"
   },
   {
    "duration": 1072,
    "start_time": "2021-06-12T02:10:08.000Z"
   },
   {
    "duration": 274,
    "start_time": "2021-06-12T02:10:15.343Z"
   },
   {
    "duration": 69,
    "start_time": "2021-06-12T02:10:28.165Z"
   },
   {
    "duration": 241,
    "start_time": "2021-06-12T02:10:36.031Z"
   },
   {
    "duration": 165,
    "start_time": "2021-06-12T02:11:08.086Z"
   },
   {
    "duration": 255,
    "start_time": "2021-06-12T02:11:12.766Z"
   },
   {
    "duration": 344,
    "start_time": "2021-06-12T02:11:33.382Z"
   },
   {
    "duration": 359,
    "start_time": "2021-06-12T03:09:04.384Z"
   },
   {
    "duration": 132,
    "start_time": "2021-06-12T03:09:09.972Z"
   },
   {
    "duration": 487,
    "start_time": "2021-06-12T03:09:16.169Z"
   },
   {
    "duration": 490,
    "start_time": "2021-06-12T03:09:26.949Z"
   },
   {
    "duration": 496,
    "start_time": "2021-06-12T03:09:32.697Z"
   },
   {
    "duration": 488,
    "start_time": "2021-06-12T03:09:43.385Z"
   },
   {
    "duration": 137,
    "start_time": "2021-06-12T03:09:53.787Z"
   },
   {
    "duration": 836,
    "start_time": "2021-06-12T03:10:11.402Z"
   },
   {
    "duration": 841,
    "start_time": "2021-06-12T03:10:19.234Z"
   },
   {
    "duration": 478,
    "start_time": "2021-06-12T03:10:25.515Z"
   },
   {
    "duration": 850,
    "start_time": "2021-06-12T03:10:36.201Z"
   },
   {
    "duration": 47123,
    "start_time": "2021-06-12T03:12:40.735Z"
   },
   {
    "duration": 32501,
    "start_time": "2021-06-12T03:17:36.598Z"
   },
   {
    "duration": 14729,
    "start_time": "2021-06-12T03:18:13.382Z"
   },
   {
    "duration": 43134,
    "start_time": "2021-06-12T03:18:29.032Z"
   },
   {
    "duration": 2715,
    "start_time": "2021-06-12T03:19:26.260Z"
   },
   {
    "duration": 2961,
    "start_time": "2021-06-12T03:19:39.787Z"
   },
   {
    "duration": 47165,
    "start_time": "2021-06-12T03:19:44.515Z"
   },
   {
    "duration": 96,
    "start_time": "2021-06-12T03:20:31.682Z"
   },
   {
    "duration": 55,
    "start_time": "2021-06-12T03:20:35.718Z"
   },
   {
    "duration": 58,
    "start_time": "2021-06-12T03:20:38.298Z"
   },
   {
    "duration": 74,
    "start_time": "2021-06-12T03:20:43.504Z"
   },
   {
    "duration": 80,
    "start_time": "2021-06-12T04:05:35.179Z"
   },
   {
    "duration": 523,
    "start_time": "2021-06-12T04:05:53.184Z"
   },
   {
    "duration": 36,
    "start_time": "2021-06-12T04:07:37.319Z"
   },
   {
    "duration": 411,
    "start_time": "2021-06-12T20:09:05.913Z"
   },
   {
    "duration": 1630,
    "start_time": "2021-06-12T20:09:08.234Z"
   },
   {
    "duration": 35,
    "start_time": "2021-06-12T20:09:10.521Z"
   },
   {
    "duration": 12,
    "start_time": "2021-06-12T20:09:13.602Z"
   },
   {
    "duration": 115,
    "start_time": "2021-06-12T20:09:45.601Z"
   },
   {
    "duration": 24,
    "start_time": "2021-06-12T20:09:52.191Z"
   },
   {
    "duration": 19,
    "start_time": "2021-06-12T20:09:54.349Z"
   },
   {
    "duration": 9448,
    "start_time": "2021-06-12T20:10:00.449Z"
   },
   {
    "duration": 8,
    "start_time": "2021-06-12T20:11:59.795Z"
   },
   {
    "duration": 12,
    "start_time": "2021-06-12T20:12:01.622Z"
   },
   {
    "duration": 18,
    "start_time": "2021-06-12T20:12:04.407Z"
   },
   {
    "duration": 6,
    "start_time": "2021-06-12T20:13:16.052Z"
   },
   {
    "duration": 5,
    "start_time": "2021-06-12T20:13:18.128Z"
   },
   {
    "duration": 9,
    "start_time": "2021-06-12T20:14:18.388Z"
   },
   {
    "duration": 13,
    "start_time": "2021-06-12T20:14:33.874Z"
   },
   {
    "duration": 9,
    "start_time": "2021-06-12T20:17:15.332Z"
   },
   {
    "duration": 33,
    "start_time": "2021-06-12T20:17:16.748Z"
   },
   {
    "duration": 7,
    "start_time": "2021-06-12T20:17:17.421Z"
   },
   {
    "duration": 15,
    "start_time": "2021-06-12T20:17:18.037Z"
   },
   {
    "duration": 27,
    "start_time": "2021-06-12T20:17:20.451Z"
   },
   {
    "duration": 7,
    "start_time": "2021-06-12T20:17:22.349Z"
   },
   {
    "duration": 11,
    "start_time": "2021-06-12T20:17:24.836Z"
   },
   {
    "duration": 6,
    "start_time": "2021-06-12T20:17:26.548Z"
   },
   {
    "duration": 28,
    "start_time": "2021-06-12T20:18:10.421Z"
   },
   {
    "duration": 5,
    "start_time": "2021-06-12T20:20:15.623Z"
   },
   {
    "duration": 7,
    "start_time": "2021-06-12T20:31:07.805Z"
   },
   {
    "duration": 9,
    "start_time": "2021-06-12T20:31:11.618Z"
   },
   {
    "duration": 10,
    "start_time": "2021-06-12T20:31:15.257Z"
   },
   {
    "duration": 847,
    "start_time": "2021-06-12T20:32:46.201Z"
   },
   {
    "duration": 20,
    "start_time": "2021-06-12T20:37:28.533Z"
   },
   {
    "duration": 19,
    "start_time": "2021-06-12T20:37:30.930Z"
   },
   {
    "duration": 361,
    "start_time": "2021-06-12T20:39:30.726Z"
   },
   {
    "duration": 25,
    "start_time": "2021-06-12T20:39:38.379Z"
   },
   {
    "duration": 24,
    "start_time": "2021-06-12T20:39:45.297Z"
   },
   {
    "duration": 43,
    "start_time": "2021-06-12T20:44:10.166Z"
   },
   {
    "duration": 23,
    "start_time": "2021-06-12T20:44:31.795Z"
   },
   {
    "duration": 23,
    "start_time": "2021-06-12T20:44:35.376Z"
   },
   {
    "duration": 10,
    "start_time": "2021-06-12T20:45:44.236Z"
   },
   {
    "duration": 13,
    "start_time": "2021-06-12T21:01:21.433Z"
   },
   {
    "duration": 10,
    "start_time": "2021-06-12T21:01:50.620Z"
   },
   {
    "duration": 119,
    "start_time": "2021-06-12T21:01:51.700Z"
   },
   {
    "duration": 10,
    "start_time": "2021-06-12T21:01:56.325Z"
   },
   {
    "duration": 14,
    "start_time": "2021-06-12T21:02:10.164Z"
   },
   {
    "duration": 243,
    "start_time": "2021-06-12T22:05:32.294Z"
   },
   {
    "duration": 3,
    "start_time": "2021-06-12T22:29:37.054Z"
   },
   {
    "duration": 50,
    "start_time": "2021-06-12T22:31:42.326Z"
   },
   {
    "duration": 51,
    "start_time": "2021-06-12T22:43:35.850Z"
   },
   {
    "duration": 398,
    "start_time": "2021-06-12T22:44:30.454Z"
   },
   {
    "duration": 8,
    "start_time": "2021-06-12T22:44:48.307Z"
   },
   {
    "duration": 358,
    "start_time": "2021-06-12T22:45:02.947Z"
   },
   {
    "duration": 10,
    "start_time": "2021-06-12T22:45:06.541Z"
   },
   {
    "duration": 334,
    "start_time": "2021-06-12T22:45:10.244Z"
   },
   {
    "duration": 47,
    "start_time": "2021-06-12T22:45:51.605Z"
   },
   {
    "duration": 46,
    "start_time": "2021-06-12T22:46:26.285Z"
   },
   {
    "duration": 45,
    "start_time": "2021-06-12T22:46:28.922Z"
   },
   {
    "duration": 497,
    "start_time": "2021-06-12T22:46:48.973Z"
   },
   {
    "duration": 621,
    "start_time": "2021-06-12T22:47:20.035Z"
   },
   {
    "duration": 328,
    "start_time": "2021-06-12T22:51:29.917Z"
   },
   {
    "duration": 8,
    "start_time": "2021-06-12T22:51:35.929Z"
   },
   {
    "duration": 377,
    "start_time": "2021-06-12T22:51:42.608Z"
   },
   {
    "duration": 6,
    "start_time": "2021-06-12T22:51:47.506Z"
   },
   {
    "duration": 382,
    "start_time": "2021-06-12T22:52:31.011Z"
   },
   {
    "duration": 339,
    "start_time": "2021-06-12T22:52:51.133Z"
   },
   {
    "duration": 352,
    "start_time": "2021-06-12T22:52:58.912Z"
   },
   {
    "duration": 8,
    "start_time": "2021-06-12T22:53:13.731Z"
   },
   {
    "duration": 49,
    "start_time": "2021-06-12T22:54:40.390Z"
   },
   {
    "duration": 49,
    "start_time": "2021-06-12T22:54:48.184Z"
   },
   {
    "duration": 6,
    "start_time": "2021-06-12T22:54:53.918Z"
   },
   {
    "duration": 49,
    "start_time": "2021-06-12T22:54:55.398Z"
   },
   {
    "duration": 11,
    "start_time": "2021-06-12T22:55:14.228Z"
   },
   {
    "duration": 7,
    "start_time": "2021-06-12T22:55:22.920Z"
   },
   {
    "duration": 564,
    "start_time": "2021-06-12T22:58:18.560Z"
   },
   {
    "duration": 1491,
    "start_time": "2021-06-12T22:59:03.804Z"
   },
   {
    "duration": 53037,
    "start_time": "2021-06-12T23:00:14.715Z"
   },
   {
    "duration": 31886,
    "start_time": "2021-06-12T23:01:39.880Z"
   },
   {
    "duration": 31018,
    "start_time": "2021-06-12T23:04:06.098Z"
   },
   {
    "duration": 36,
    "start_time": "2021-06-12T23:04:54.409Z"
   },
   {
    "duration": 6,
    "start_time": "2021-06-12T23:10:33.680Z"
   },
   {
    "duration": 6,
    "start_time": "2021-06-12T23:10:42.437Z"
   },
   {
    "duration": 103,
    "start_time": "2021-06-12T23:11:14.415Z"
   },
   {
    "duration": 6,
    "start_time": "2021-06-12T23:11:32.469Z"
   },
   {
    "duration": 29,
    "start_time": "2021-06-12T23:13:15.857Z"
   },
   {
    "duration": 1244,
    "start_time": "2021-06-12T23:16:03.872Z"
   },
   {
    "duration": 270,
    "start_time": "2021-06-12T23:16:26.820Z"
   },
   {
    "duration": 55,
    "start_time": "2021-06-12T23:17:39.729Z"
   },
   {
    "duration": 17,
    "start_time": "2021-06-12T23:17:40.807Z"
   },
   {
    "duration": 551,
    "start_time": "2021-06-12T23:25:34.670Z"
   },
   {
    "duration": 683,
    "start_time": "2021-06-12T23:25:57.285Z"
   },
   {
    "duration": 700,
    "start_time": "2021-06-12T23:26:11.899Z"
   },
   {
    "duration": 382,
    "start_time": "2021-06-12T23:27:47.594Z"
   },
   {
    "duration": 46,
    "start_time": "2021-06-12T23:27:58.272Z"
   },
   {
    "duration": 11,
    "start_time": "2021-06-12T23:36:52.611Z"
   },
   {
    "duration": 10,
    "start_time": "2021-06-12T23:36:59.452Z"
   },
   {
    "duration": 680,
    "start_time": "2021-06-12T23:37:03.701Z"
   },
   {
    "duration": 9,
    "start_time": "2021-06-12T23:37:06.020Z"
   },
   {
    "duration": 11,
    "start_time": "2021-06-12T23:37:10.749Z"
   },
   {
    "duration": 688,
    "start_time": "2021-06-12T23:38:15.076Z"
   },
   {
    "duration": 671,
    "start_time": "2021-06-12T23:38:24.825Z"
   },
   {
    "duration": 9,
    "start_time": "2021-06-12T23:38:34.971Z"
   },
   {
    "duration": 962,
    "start_time": "2021-06-12T23:41:29.603Z"
   },
   {
    "duration": 993,
    "start_time": "2021-06-12T23:41:55.400Z"
   },
   {
    "duration": 950,
    "start_time": "2021-06-12T23:43:14.769Z"
   },
   {
    "duration": 118,
    "start_time": "2021-06-12T23:44:14.444Z"
   },
   {
    "duration": 939,
    "start_time": "2021-06-12T23:44:42.414Z"
   },
   {
    "duration": 945,
    "start_time": "2021-06-12T23:45:07.528Z"
   },
   {
    "duration": 538,
    "start_time": "2021-06-12T23:45:23.535Z"
   },
   {
    "duration": 547,
    "start_time": "2021-06-12T23:46:00.302Z"
   },
   {
    "duration": 540,
    "start_time": "2021-06-12T23:46:54.354Z"
   },
   {
    "duration": 471,
    "start_time": "2021-06-12T23:55:36.022Z"
   },
   {
    "duration": 448,
    "start_time": "2021-06-12T23:55:39.883Z"
   },
   {
    "duration": 449,
    "start_time": "2021-06-12T23:55:54.202Z"
   },
   {
    "duration": 429,
    "start_time": "2021-06-12T23:56:00.755Z"
   },
   {
    "duration": 32590,
    "start_time": "2021-06-12T23:56:03.225Z"
   },
   {
    "duration": 453,
    "start_time": "2021-06-12T23:56:36.277Z"
   },
   {
    "duration": 9,
    "start_time": "2021-06-12T23:56:36.733Z"
   },
   {
    "duration": 10,
    "start_time": "2021-06-12T23:56:41.632Z"
   },
   {
    "duration": 440,
    "start_time": "2021-06-12T23:56:43.248Z"
   },
   {
    "duration": 453,
    "start_time": "2021-06-12T23:57:14.058Z"
   },
   {
    "duration": 111,
    "start_time": "2021-06-12T23:58:15.136Z"
   },
   {
    "duration": 606,
    "start_time": "2021-06-12T23:58:34.119Z"
   },
   {
    "duration": 552,
    "start_time": "2021-06-12T23:58:49.664Z"
   },
   {
    "duration": 118,
    "start_time": "2021-06-12T23:58:55.729Z"
   },
   {
    "duration": 551,
    "start_time": "2021-06-12T23:59:00.367Z"
   },
   {
    "duration": 32244,
    "start_time": "2021-06-12T23:59:35.952Z"
   },
   {
    "duration": 31597,
    "start_time": "2021-06-13T00:10:56.400Z"
   },
   {
    "duration": 555,
    "start_time": "2021-06-13T00:14:59.842Z"
   },
   {
    "duration": 1565,
    "start_time": "2021-06-13T00:15:20.499Z"
   },
   {
    "duration": 35,
    "start_time": "2021-06-13T00:15:22.067Z"
   },
   {
    "duration": 11,
    "start_time": "2021-06-13T00:15:22.105Z"
   },
   {
    "duration": 12,
    "start_time": "2021-06-13T00:15:22.126Z"
   },
   {
    "duration": 34,
    "start_time": "2021-06-13T00:15:22.141Z"
   },
   {
    "duration": 6,
    "start_time": "2021-06-13T00:15:22.177Z"
   },
   {
    "duration": 45,
    "start_time": "2021-06-13T00:15:22.185Z"
   },
   {
    "duration": 6,
    "start_time": "2021-06-13T00:15:22.233Z"
   },
   {
    "duration": 817,
    "start_time": "2021-06-13T00:15:22.242Z"
   },
   {
    "duration": 269,
    "start_time": "2021-06-13T00:15:23.061Z"
   },
   {
    "duration": 19,
    "start_time": "2021-06-13T00:15:23.332Z"
   },
   {
    "duration": 23,
    "start_time": "2021-06-13T00:15:23.354Z"
   },
   {
    "duration": 12,
    "start_time": "2021-06-13T00:15:23.380Z"
   },
   {
    "duration": 39,
    "start_time": "2021-06-13T00:15:23.394Z"
   },
   {
    "duration": 510,
    "start_time": "2021-06-13T00:15:23.435Z"
   },
   {
    "duration": -1014,
    "start_time": "2021-06-13T00:15:24.962Z"
   },
   {
    "duration": -1015,
    "start_time": "2021-06-13T00:15:24.965Z"
   },
   {
    "duration": -1017,
    "start_time": "2021-06-13T00:15:24.968Z"
   },
   {
    "duration": -1020,
    "start_time": "2021-06-13T00:15:24.973Z"
   },
   {
    "duration": -1022,
    "start_time": "2021-06-13T00:15:24.976Z"
   },
   {
    "duration": -1024,
    "start_time": "2021-06-13T00:15:24.979Z"
   },
   {
    "duration": -1032,
    "start_time": "2021-06-13T00:15:24.989Z"
   },
   {
    "duration": -1035,
    "start_time": "2021-06-13T00:15:24.993Z"
   },
   {
    "duration": -1036,
    "start_time": "2021-06-13T00:15:24.996Z"
   },
   {
    "duration": -1038,
    "start_time": "2021-06-13T00:15:24.999Z"
   },
   {
    "duration": -1040,
    "start_time": "2021-06-13T00:15:25.002Z"
   },
   {
    "duration": -1041,
    "start_time": "2021-06-13T00:15:25.004Z"
   },
   {
    "duration": -1042,
    "start_time": "2021-06-13T00:15:25.007Z"
   },
   {
    "duration": -1043,
    "start_time": "2021-06-13T00:15:25.010Z"
   },
   {
    "duration": 504,
    "start_time": "2021-06-13T00:30:46.983Z"
   },
   {
    "duration": 31650,
    "start_time": "2021-06-13T00:31:02.474Z"
   },
   {
    "duration": 670,
    "start_time": "2021-06-13T00:32:04.410Z"
   },
   {
    "duration": 195,
    "start_time": "2021-06-13T00:33:18.371Z"
   },
   {
    "duration": 33427,
    "start_time": "2021-06-13T00:34:11.030Z"
   },
   {
    "duration": 31643,
    "start_time": "2021-06-13T00:37:55.048Z"
   },
   {
    "duration": 84,
    "start_time": "2021-06-13T00:42:19.244Z"
   },
   {
    "duration": 1544,
    "start_time": "2021-06-13T00:44:19.412Z"
   },
   {
    "duration": 36,
    "start_time": "2021-06-13T00:44:20.959Z"
   },
   {
    "duration": 10,
    "start_time": "2021-06-13T00:44:20.998Z"
   },
   {
    "duration": 25,
    "start_time": "2021-06-13T00:44:21.011Z"
   },
   {
    "duration": 38,
    "start_time": "2021-06-13T00:44:21.038Z"
   },
   {
    "duration": 5,
    "start_time": "2021-06-13T00:44:21.079Z"
   },
   {
    "duration": 41,
    "start_time": "2021-06-13T00:44:21.087Z"
   },
   {
    "duration": 6,
    "start_time": "2021-06-13T00:44:21.132Z"
   },
   {
    "duration": 815,
    "start_time": "2021-06-13T00:44:21.141Z"
   },
   {
    "duration": 258,
    "start_time": "2021-06-13T00:44:21.959Z"
   },
   {
    "duration": 24,
    "start_time": "2021-06-13T00:44:22.219Z"
   },
   {
    "duration": 25,
    "start_time": "2021-06-13T00:44:22.246Z"
   },
   {
    "duration": 14,
    "start_time": "2021-06-13T00:44:22.273Z"
   },
   {
    "duration": 42,
    "start_time": "2021-06-13T00:44:22.289Z"
   },
   {
    "duration": 524,
    "start_time": "2021-06-13T00:44:22.334Z"
   },
   {
    "duration": 33255,
    "start_time": "2021-06-13T00:44:22.861Z"
   },
   {
    "duration": 31466,
    "start_time": "2021-06-13T00:44:56.125Z"
   },
   {
    "duration": 51,
    "start_time": "2021-06-13T00:45:27.594Z"
   },
   {
    "duration": 99,
    "start_time": "2021-06-13T00:45:27.727Z"
   },
   {
    "duration": 7,
    "start_time": "2021-06-13T00:45:27.828Z"
   },
   {
    "duration": 37,
    "start_time": "2021-06-13T00:45:27.837Z"
   },
   {
    "duration": 1231,
    "start_time": "2021-06-13T00:45:27.876Z"
   },
   {
    "duration": 277,
    "start_time": "2021-06-13T00:45:29.111Z"
   },
   {
    "duration": 67,
    "start_time": "2021-06-13T00:45:29.391Z"
   },
   {
    "duration": 16,
    "start_time": "2021-06-13T00:45:29.460Z"
   },
   {
    "duration": 705,
    "start_time": "2021-06-13T00:45:29.479Z"
   },
   {
    "duration": 1026,
    "start_time": "2021-06-13T00:45:30.187Z"
   },
   {
    "duration": 968,
    "start_time": "2021-06-13T00:45:31.216Z"
   },
   {
    "duration": 553,
    "start_time": "2021-06-13T00:45:32.187Z"
   },
   {
    "duration": 16,
    "start_time": "2021-06-13T00:52:03.548Z"
   },
   {
    "duration": 41,
    "start_time": "2021-06-13T01:01:49.075Z"
   },
   {
    "duration": 40,
    "start_time": "2021-06-13T01:01:51.648Z"
   },
   {
    "duration": 41,
    "start_time": "2021-06-13T01:02:05.664Z"
   },
   {
    "duration": 511,
    "start_time": "2021-06-13T01:02:18.537Z"
   },
   {
    "duration": 10,
    "start_time": "2021-06-13T01:02:20.768Z"
   },
   {
    "duration": 33684,
    "start_time": "2021-06-13T01:02:23.008Z"
   },
   {
    "duration": 60,
    "start_time": "2021-06-13T01:02:56.765Z"
   },
   {
    "duration": 516,
    "start_time": "2021-06-13T01:03:54.238Z"
   },
   {
    "duration": 33594,
    "start_time": "2021-06-13T01:04:19.233Z"
   },
   {
    "duration": 32173,
    "start_time": "2021-06-13T01:04:52.831Z"
   },
   {
    "duration": 531,
    "start_time": "2021-06-13T01:05:25.540Z"
   },
   {
    "duration": 33512,
    "start_time": "2021-06-13T01:05:26.073Z"
   },
   {
    "duration": 198,
    "start_time": "2021-06-13T01:05:59.829Z"
   },
   {
    "duration": 116,
    "start_time": "2021-06-13T01:06:21.110Z"
   },
   {
    "duration": 518,
    "start_time": "2021-06-13T01:06:51.534Z"
   },
   {
    "duration": 1608,
    "start_time": "2021-06-13T01:14:45.042Z"
   },
   {
    "duration": 36,
    "start_time": "2021-06-13T01:14:46.652Z"
   },
   {
    "duration": 10,
    "start_time": "2021-06-13T01:14:46.691Z"
   },
   {
    "duration": 30,
    "start_time": "2021-06-13T01:14:46.704Z"
   },
   {
    "duration": 23,
    "start_time": "2021-06-13T01:14:46.737Z"
   },
   {
    "duration": 6,
    "start_time": "2021-06-13T01:14:46.762Z"
   },
   {
    "duration": 13,
    "start_time": "2021-06-13T01:14:46.770Z"
   },
   {
    "duration": 43,
    "start_time": "2021-06-13T01:14:46.785Z"
   },
   {
    "duration": 816,
    "start_time": "2021-06-13T01:14:46.832Z"
   },
   {
    "duration": 280,
    "start_time": "2021-06-13T01:14:47.651Z"
   },
   {
    "duration": 19,
    "start_time": "2021-06-13T01:14:47.934Z"
   },
   {
    "duration": 25,
    "start_time": "2021-06-13T01:14:47.955Z"
   },
   {
    "duration": 13,
    "start_time": "2021-06-13T01:14:47.982Z"
   },
   {
    "duration": 9,
    "start_time": "2021-06-13T01:14:48.026Z"
   },
   {
    "duration": 555,
    "start_time": "2021-06-13T01:14:48.038Z"
   },
   {
    "duration": 33558,
    "start_time": "2021-06-13T01:14:48.595Z"
   },
   {
    "duration": 31533,
    "start_time": "2021-06-13T01:15:22.156Z"
   },
   {
    "duration": 144,
    "start_time": "2021-06-13T01:15:53.691Z"
   },
   {
    "duration": 6,
    "start_time": "2021-06-13T01:15:53.926Z"
   },
   {
    "duration": 9,
    "start_time": "2021-06-13T01:15:53.935Z"
   },
   {
    "duration": 32,
    "start_time": "2021-06-13T01:15:53.947Z"
   },
   {
    "duration": 1289,
    "start_time": "2021-06-13T01:15:53.982Z"
   },
   {
    "duration": 273,
    "start_time": "2021-06-13T01:15:55.273Z"
   },
   {
    "duration": 55,
    "start_time": "2021-06-13T01:15:55.549Z"
   },
   {
    "duration": 33,
    "start_time": "2021-06-13T01:15:55.607Z"
   },
   {
    "duration": 698,
    "start_time": "2021-06-13T01:15:55.643Z"
   },
   {
    "duration": 964,
    "start_time": "2021-06-13T01:15:56.345Z"
   },
   {
    "duration": 950,
    "start_time": "2021-06-13T01:15:57.312Z"
   },
   {
    "duration": 565,
    "start_time": "2021-06-13T01:15:58.264Z"
   },
   {
    "duration": 33980,
    "start_time": "2021-06-13T01:21:37.944Z"
   },
   {
    "duration": 1569,
    "start_time": "2021-06-13T01:22:56.887Z"
   },
   {
    "duration": 34,
    "start_time": "2021-06-13T01:22:58.459Z"
   },
   {
    "duration": 10,
    "start_time": "2021-06-13T01:22:58.496Z"
   },
   {
    "duration": 25,
    "start_time": "2021-06-13T01:22:58.509Z"
   },
   {
    "duration": 19,
    "start_time": "2021-06-13T01:22:58.536Z"
   },
   {
    "duration": 5,
    "start_time": "2021-06-13T01:22:58.558Z"
   },
   {
    "duration": 12,
    "start_time": "2021-06-13T01:22:58.566Z"
   },
   {
    "duration": 44,
    "start_time": "2021-06-13T01:22:58.583Z"
   },
   {
    "duration": 842,
    "start_time": "2021-06-13T01:22:58.631Z"
   },
   {
    "duration": 310,
    "start_time": "2021-06-13T01:22:59.476Z"
   },
   {
    "duration": 20,
    "start_time": "2021-06-13T01:22:59.789Z"
   },
   {
    "duration": 26,
    "start_time": "2021-06-13T01:22:59.826Z"
   },
   {
    "duration": 13,
    "start_time": "2021-06-13T01:22:59.854Z"
   },
   {
    "duration": 10,
    "start_time": "2021-06-13T01:22:59.869Z"
   },
   {
    "duration": 558,
    "start_time": "2021-06-13T01:22:59.881Z"
   },
   {
    "duration": 33777,
    "start_time": "2021-06-13T01:23:00.442Z"
   },
   {
    "duration": 31953,
    "start_time": "2021-06-13T01:23:34.221Z"
   },
   {
    "duration": 151,
    "start_time": "2021-06-13T01:24:06.177Z"
   },
   {
    "duration": 95,
    "start_time": "2021-06-13T01:24:06.332Z"
   },
   {
    "duration": 13,
    "start_time": "2021-06-13T01:24:06.430Z"
   },
   {
    "duration": 34,
    "start_time": "2021-06-13T01:24:06.445Z"
   },
   {
    "duration": 1320,
    "start_time": "2021-06-13T01:24:06.482Z"
   },
   {
    "duration": 279,
    "start_time": "2021-06-13T01:24:07.808Z"
   },
   {
    "duration": 72,
    "start_time": "2021-06-13T01:24:08.089Z"
   },
   {
    "duration": 17,
    "start_time": "2021-06-13T01:24:08.164Z"
   },
   {
    "duration": 702,
    "start_time": "2021-06-13T01:24:08.184Z"
   },
   {
    "duration": 985,
    "start_time": "2021-06-13T01:24:08.889Z"
   },
   {
    "duration": 961,
    "start_time": "2021-06-13T01:24:09.877Z"
   },
   {
    "duration": 666,
    "start_time": "2021-06-13T01:24:10.840Z"
   },
   {
    "duration": 1594,
    "start_time": "2021-06-13T01:26:03.205Z"
   },
   {
    "duration": 35,
    "start_time": "2021-06-13T01:26:04.801Z"
   },
   {
    "duration": 10,
    "start_time": "2021-06-13T01:26:04.839Z"
   },
   {
    "duration": 11,
    "start_time": "2021-06-13T01:26:04.852Z"
   },
   {
    "duration": 20,
    "start_time": "2021-06-13T01:26:04.866Z"
   },
   {
    "duration": 38,
    "start_time": "2021-06-13T01:26:04.889Z"
   },
   {
    "duration": 15,
    "start_time": "2021-06-13T01:26:04.930Z"
   },
   {
    "duration": 7,
    "start_time": "2021-06-13T01:26:04.949Z"
   },
   {
    "duration": 840,
    "start_time": "2021-06-13T01:26:04.959Z"
   },
   {
    "duration": 301,
    "start_time": "2021-06-13T01:26:05.801Z"
   },
   {
    "duration": 29,
    "start_time": "2021-06-13T01:26:06.105Z"
   },
   {
    "duration": 26,
    "start_time": "2021-06-13T01:26:06.137Z"
   },
   {
    "duration": 13,
    "start_time": "2021-06-13T01:26:06.165Z"
   },
   {
    "duration": 9,
    "start_time": "2021-06-13T01:26:06.180Z"
   },
   {
    "duration": 536,
    "start_time": "2021-06-13T01:26:06.226Z"
   },
   {
    "duration": 33807,
    "start_time": "2021-06-13T01:26:06.764Z"
   },
   {
    "duration": 31785,
    "start_time": "2021-06-13T01:26:40.573Z"
   },
   {
    "duration": 266,
    "start_time": "2021-06-13T01:27:12.361Z"
   },
   {
    "duration": 9,
    "start_time": "2021-06-13T01:27:12.630Z"
   },
   {
    "duration": 9,
    "start_time": "2021-06-13T01:27:12.642Z"
   },
   {
    "duration": 93,
    "start_time": "2021-06-13T01:27:12.655Z"
   },
   {
    "duration": 1292,
    "start_time": "2021-06-13T01:27:12.750Z"
   },
   {
    "duration": 279,
    "start_time": "2021-06-13T01:27:14.046Z"
   },
   {
    "duration": 55,
    "start_time": "2021-06-13T01:27:14.328Z"
   },
   {
    "duration": 40,
    "start_time": "2021-06-13T01:27:14.386Z"
   },
   {
    "duration": 690,
    "start_time": "2021-06-13T01:27:14.429Z"
   },
   {
    "duration": 1081,
    "start_time": "2021-06-13T01:27:15.122Z"
   },
   {
    "duration": 952,
    "start_time": "2021-06-13T01:27:16.206Z"
   },
   {
    "duration": 561,
    "start_time": "2021-06-13T01:27:17.161Z"
   },
   {
    "duration": 1487,
    "start_time": "2021-06-13T10:26:25.196Z"
   },
   {
    "duration": 36,
    "start_time": "2021-06-13T10:26:26.686Z"
   },
   {
    "duration": 10,
    "start_time": "2021-06-13T10:26:26.725Z"
   },
   {
    "duration": 24,
    "start_time": "2021-06-13T10:26:26.738Z"
   },
   {
    "duration": 30,
    "start_time": "2021-06-13T10:26:26.765Z"
   },
   {
    "duration": 13,
    "start_time": "2021-06-13T10:26:26.797Z"
   },
   {
    "duration": 20,
    "start_time": "2021-06-13T10:26:26.812Z"
   },
   {
    "duration": 25,
    "start_time": "2021-06-13T10:26:26.836Z"
   },
   {
    "duration": 832,
    "start_time": "2021-06-13T10:26:26.865Z"
   },
   {
    "duration": 275,
    "start_time": "2021-06-13T10:26:27.700Z"
   },
   {
    "duration": 20,
    "start_time": "2021-06-13T10:26:27.977Z"
   },
   {
    "duration": 32,
    "start_time": "2021-06-13T10:26:27.999Z"
   },
   {
    "duration": 33,
    "start_time": "2021-06-13T10:26:28.033Z"
   },
   {
    "duration": 27,
    "start_time": "2021-06-13T10:26:28.069Z"
   },
   {
    "duration": 542,
    "start_time": "2021-06-13T10:26:28.099Z"
   },
   {
    "duration": 34311,
    "start_time": "2021-06-13T10:26:28.644Z"
   },
   {
    "duration": 32143,
    "start_time": "2021-06-13T10:27:02.959Z"
   },
   {
    "duration": 149,
    "start_time": "2021-06-13T10:27:35.105Z"
   },
   {
    "duration": 12,
    "start_time": "2021-06-13T10:27:35.258Z"
   },
   {
    "duration": 97,
    "start_time": "2021-06-13T10:27:35.274Z"
   },
   {
    "duration": 34,
    "start_time": "2021-06-13T10:27:35.374Z"
   },
   {
    "duration": 1343,
    "start_time": "2021-06-13T10:27:35.411Z"
   },
   {
    "duration": 277,
    "start_time": "2021-06-13T10:27:36.762Z"
   },
   {
    "duration": 71,
    "start_time": "2021-06-13T10:27:37.042Z"
   },
   {
    "duration": 18,
    "start_time": "2021-06-13T10:27:37.115Z"
   },
   {
    "duration": 709,
    "start_time": "2021-06-13T10:27:37.135Z"
   },
   {
    "duration": 1020,
    "start_time": "2021-06-13T10:27:37.846Z"
   },
   {
    "duration": 988,
    "start_time": "2021-06-13T10:27:38.869Z"
   },
   {
    "duration": 584,
    "start_time": "2021-06-13T10:27:39.860Z"
   },
   {
    "duration": 404,
    "start_time": "2021-06-16T21:19:35.204Z"
   },
   {
    "duration": 1621,
    "start_time": "2021-06-16T21:19:42.846Z"
   },
   {
    "duration": 36,
    "start_time": "2021-06-16T21:19:44.470Z"
   },
   {
    "duration": 10,
    "start_time": "2021-06-16T21:19:44.509Z"
   },
   {
    "duration": 12,
    "start_time": "2021-06-16T21:19:44.522Z"
   },
   {
    "duration": 18,
    "start_time": "2021-06-16T21:19:44.536Z"
   },
   {
    "duration": 33,
    "start_time": "2021-06-16T21:19:44.556Z"
   },
   {
    "duration": 15,
    "start_time": "2021-06-16T21:19:44.591Z"
   },
   {
    "duration": 6,
    "start_time": "2021-06-16T21:19:44.609Z"
   },
   {
    "duration": 795,
    "start_time": "2021-06-16T21:19:44.620Z"
   },
   {
    "duration": 276,
    "start_time": "2021-06-16T21:19:45.418Z"
   },
   {
    "duration": 20,
    "start_time": "2021-06-16T21:19:45.697Z"
   },
   {
    "duration": 24,
    "start_time": "2021-06-16T21:19:45.720Z"
   },
   {
    "duration": 42,
    "start_time": "2021-06-16T21:19:45.747Z"
   },
   {
    "duration": 11,
    "start_time": "2021-06-16T21:19:45.791Z"
   },
   {
    "duration": 517,
    "start_time": "2021-06-16T21:19:45.804Z"
   },
   {
    "duration": 33587,
    "start_time": "2021-06-16T21:19:46.323Z"
   },
   {
    "duration": 31857,
    "start_time": "2021-06-16T21:20:19.913Z"
   },
   {
    "duration": 116,
    "start_time": "2021-06-16T21:20:51.773Z"
   },
   {
    "duration": 103,
    "start_time": "2021-06-16T21:20:51.892Z"
   },
   {
    "duration": 8,
    "start_time": "2021-06-16T21:20:51.997Z"
   },
   {
    "duration": 10,
    "start_time": "2021-06-16T21:20:52.008Z"
   },
   {
    "duration": 133,
    "start_time": "2021-06-16T21:20:52.020Z"
   },
   {
    "duration": 1232,
    "start_time": "2021-06-16T21:20:52.155Z"
   },
   {
    "duration": 281,
    "start_time": "2021-06-16T21:20:53.389Z"
   },
   {
    "duration": 61,
    "start_time": "2021-06-16T21:20:53.672Z"
   },
   {
    "duration": 19,
    "start_time": "2021-06-16T21:20:53.737Z"
   },
   {
    "duration": 747,
    "start_time": "2021-06-16T21:20:53.790Z"
   },
   {
    "duration": 986,
    "start_time": "2021-06-16T21:20:54.540Z"
   },
   {
    "duration": 975,
    "start_time": "2021-06-16T21:20:55.529Z"
   },
   {
    "duration": 559,
    "start_time": "2021-06-16T21:20:56.508Z"
   },
   {
    "duration": 27,
    "start_time": "2021-06-16T21:26:24.749Z"
   },
   {
    "duration": 7,
    "start_time": "2021-06-16T21:26:31.316Z"
   },
   {
    "duration": 28,
    "start_time": "2021-06-16T21:26:31.757Z"
   },
   {
    "duration": 780,
    "start_time": "2021-06-16T21:26:33.637Z"
   },
   {
    "duration": 318,
    "start_time": "2021-06-16T21:26:35.918Z"
   },
   {
    "duration": 38,
    "start_time": "2021-06-16T21:26:38.131Z"
   },
   {
    "duration": 19,
    "start_time": "2021-06-16T21:26:39.878Z"
   },
   {
    "duration": 26,
    "start_time": "2021-06-16T21:26:57.077Z"
   },
   {
    "duration": 993,
    "start_time": "2021-06-16T21:26:58.795Z"
   },
   {
    "duration": 310,
    "start_time": "2021-06-16T21:27:01.519Z"
   },
   {
    "duration": 23,
    "start_time": "2021-06-16T21:27:10.676Z"
   },
   {
    "duration": 625,
    "start_time": "2021-06-16T21:27:15.116Z"
   },
   {
    "duration": 224,
    "start_time": "2021-06-16T21:27:17.828Z"
   },
   {
    "duration": 35,
    "start_time": "2021-06-16T21:27:27.339Z"
   },
   {
    "duration": 36,
    "start_time": "2021-06-16T21:27:32.534Z"
   },
   {
    "duration": 1993,
    "start_time": "2021-06-16T21:27:34.105Z"
   },
   {
    "duration": 88,
    "start_time": "2021-06-16T21:27:39.963Z"
   },
   {
    "duration": 30,
    "start_time": "2021-06-16T21:27:44.460Z"
   },
   {
    "duration": 1217,
    "start_time": "2021-06-16T21:27:45.996Z"
   },
   {
    "duration": 62,
    "start_time": "2021-06-16T21:27:47.830Z"
   },
   {
    "duration": 27,
    "start_time": "2021-06-16T21:27:51.517Z"
   },
   {
    "duration": 778,
    "start_time": "2021-06-16T21:27:53.233Z"
   },
   {
    "duration": 39,
    "start_time": "2021-06-16T21:27:55.701Z"
   },
   {
    "duration": 8254,
    "start_time": "2021-06-16T21:31:28.427Z"
   },
   {
    "duration": 5307,
    "start_time": "2021-06-16T21:31:43.715Z"
   },
   {
    "duration": 8,
    "start_time": "2021-06-16T21:32:08.873Z"
   },
   {
    "duration": 5198,
    "start_time": "2021-06-16T21:32:15.586Z"
   },
   {
    "duration": 5,
    "start_time": "2021-06-16T21:35:22.218Z"
   },
   {
    "duration": 352,
    "start_time": "2021-06-16T21:36:05.927Z"
   },
   {
    "duration": 9,
    "start_time": "2021-06-16T21:36:14.425Z"
   },
   {
    "duration": 395,
    "start_time": "2021-06-16T21:37:05.279Z"
   },
   {
    "duration": 387,
    "start_time": "2021-06-16T21:37:08.685Z"
   },
   {
    "duration": 28,
    "start_time": "2021-06-16T21:37:30.878Z"
   },
   {
    "duration": 222,
    "start_time": "2021-06-16T21:37:40.807Z"
   },
   {
    "duration": 237,
    "start_time": "2021-06-16T21:37:48.879Z"
   },
   {
    "duration": 240,
    "start_time": "2021-06-16T21:37:50.759Z"
   },
   {
    "duration": 28,
    "start_time": "2021-06-16T21:38:03.606Z"
   },
   {
    "duration": 5,
    "start_time": "2021-06-16T21:38:05.109Z"
   },
   {
    "duration": 772,
    "start_time": "2021-06-16T21:57:06.637Z"
   },
   {
    "duration": 38,
    "start_time": "2021-06-16T21:57:08.794Z"
   },
   {
    "duration": 315,
    "start_time": "2021-06-16T21:57:10.150Z"
   },
   {
    "duration": 20,
    "start_time": "2021-06-16T21:57:12.035Z"
   },
   {
    "duration": 154,
    "start_time": "2021-06-16T22:11:47.130Z"
   },
   {
    "duration": 169,
    "start_time": "2021-06-16T22:11:51.217Z"
   },
   {
    "duration": 167,
    "start_time": "2021-06-16T22:11:55.722Z"
   },
   {
    "duration": 42,
    "start_time": "2021-06-16T22:12:07.249Z"
   },
   {
    "duration": 44,
    "start_time": "2021-06-16T22:12:08.657Z"
   },
   {
    "duration": 67,
    "start_time": "2021-06-16T22:12:13.321Z"
   },
   {
    "duration": 64,
    "start_time": "2021-06-16T22:12:17.434Z"
   },
   {
    "duration": 161,
    "start_time": "2021-06-16T22:12:37.626Z"
   },
   {
    "duration": 119,
    "start_time": "2021-06-16T22:12:52.473Z"
   },
   {
    "duration": 312,
    "start_time": "2021-06-16T22:12:57.065Z"
   },
   {
    "duration": 312,
    "start_time": "2021-06-16T22:13:00.625Z"
   },
   {
    "duration": 110,
    "start_time": "2021-06-16T22:13:09.177Z"
   },
   {
    "duration": 369,
    "start_time": "2021-06-16T22:14:20.900Z"
   },
   {
    "duration": 64,
    "start_time": "2021-06-16T22:14:32.233Z"
   },
   {
    "duration": 62,
    "start_time": "2021-06-16T22:15:15.536Z"
   },
   {
    "duration": 159,
    "start_time": "2021-06-16T22:15:28.328Z"
   },
   {
    "duration": 130,
    "start_time": "2021-06-16T22:15:33.857Z"
   },
   {
    "duration": 78,
    "start_time": "2021-06-16T22:15:36.710Z"
   },
   {
    "duration": 123,
    "start_time": "2021-06-16T22:15:42.863Z"
   },
   {
    "duration": 392,
    "start_time": "2021-06-16T22:16:36.632Z"
   },
   {
    "duration": 331,
    "start_time": "2021-06-16T22:16:45.200Z"
   },
   {
    "duration": 40,
    "start_time": "2021-06-16T22:16:53.751Z"
   },
   {
    "duration": 267,
    "start_time": "2021-06-16T22:17:15.022Z"
   },
   {
    "duration": 154,
    "start_time": "2021-06-16T22:18:41.638Z"
   },
   {
    "duration": 300,
    "start_time": "2021-06-16T22:18:50.992Z"
   },
   {
    "duration": 626,
    "start_time": "2021-06-16T22:19:55.468Z"
   },
   {
    "duration": 55,
    "start_time": "2021-06-16T22:20:18.141Z"
   },
   {
    "duration": 94,
    "start_time": "2021-06-16T22:20:21.694Z"
   },
   {
    "duration": 792,
    "start_time": "2021-06-16T22:20:33.797Z"
   },
   {
    "duration": 231,
    "start_time": "2021-06-16T22:22:11.860Z"
   },
   {
    "duration": 55,
    "start_time": "2021-06-16T22:22:38.540Z"
   },
   {
    "duration": 100,
    "start_time": "2021-06-16T22:22:44.891Z"
   },
   {
    "duration": 75,
    "start_time": "2021-06-16T22:22:53.337Z"
   },
   {
    "duration": 303,
    "start_time": "2021-06-16T22:49:07.493Z"
   },
   {
    "duration": 9,
    "start_time": "2021-06-16T22:49:16.995Z"
   },
   {
    "duration": 312,
    "start_time": "2021-06-16T22:49:23.908Z"
   },
   {
    "duration": -1396,
    "start_time": "2021-06-16T22:51:54.121Z"
   },
   {
    "duration": 22524,
    "start_time": "2021-06-16T22:52:17.990Z"
   },
   {
    "duration": 205020,
    "start_time": "2021-06-16T22:52:54.371Z"
   },
   {
    "duration": 125288,
    "start_time": "2021-06-16T22:56:19.394Z"
   },
   {
    "duration": 313,
    "start_time": "2021-06-16T23:01:11.771Z"
   },
   {
    "duration": -1394,
    "start_time": "2021-06-16T23:04:53.839Z"
   },
   {
    "duration": 315,
    "start_time": "2021-06-16T23:04:53.689Z"
   },
   {
    "duration": 389,
    "start_time": "2021-06-16T23:05:06.468Z"
   },
   {
    "duration": 14536,
    "start_time": "2021-06-16T23:05:17.570Z"
   },
   {
    "duration": 14750,
    "start_time": "2021-06-16T23:07:32.288Z"
   },
   {
    "duration": 14638,
    "start_time": "2021-06-16T23:08:17.361Z"
   },
   {
    "duration": 14916,
    "start_time": "2021-06-16T23:11:03.893Z"
   },
   {
    "duration": 8395,
    "start_time": "2021-06-16T23:13:30.857Z"
   },
   {
    "duration": 8484,
    "start_time": "2021-06-16T23:14:09.282Z"
   },
   {
    "duration": 70482,
    "start_time": "2021-06-16T23:14:43.333Z"
   },
   {
    "duration": 70300,
    "start_time": "2021-06-16T23:19:38.585Z"
   },
   {
    "duration": 318,
    "start_time": "2021-06-16T23:28:00.916Z"
   },
   {
    "duration": 301,
    "start_time": "2021-06-16T23:28:09.197Z"
   },
   {
    "duration": 342,
    "start_time": "2021-06-16T23:29:51.829Z"
   },
   {
    "duration": 9,
    "start_time": "2021-06-16T23:30:49.957Z"
   },
   {
    "duration": 324,
    "start_time": "2021-06-16T23:36:19.112Z"
   },
   {
    "duration": 294,
    "start_time": "2021-06-16T23:37:40.208Z"
   },
   {
    "duration": 315,
    "start_time": "2021-06-16T23:38:32.310Z"
   },
   {
    "duration": 47694,
    "start_time": "2021-06-16T23:39:07.774Z"
   },
   {
    "duration": 118,
    "start_time": "2021-06-16T23:39:59.189Z"
   },
   {
    "duration": 106,
    "start_time": "2021-06-16T23:40:08.597Z"
   },
   {
    "duration": 76948,
    "start_time": "2021-06-16T23:40:13.915Z"
   },
   {
    "duration": 73589,
    "start_time": "2021-06-16T23:43:02.251Z"
   },
   {
    "duration": 19842,
    "start_time": "2021-06-16T23:49:25.006Z"
   },
   {
    "duration": 2303,
    "start_time": "2021-06-16T23:49:45.609Z"
   },
   {
    "duration": 2400,
    "start_time": "2021-06-16T23:52:03.920Z"
   },
   {
    "duration": 73370,
    "start_time": "2021-06-16T23:52:19.667Z"
   },
   {
    "duration": 102092,
    "start_time": "2021-06-16T23:56:49.418Z"
   },
   {
    "duration": 105312,
    "start_time": "2021-06-16T23:59:06.908Z"
   },
   {
    "duration": -1443,
    "start_time": "2021-06-17T00:01:35.335Z"
   },
   {
    "duration": 75076,
    "start_time": "2021-06-17T00:01:36.535Z"
   },
   {
    "duration": 547,
    "start_time": "2021-06-17T00:06:30.420Z"
   },
   {
    "duration": 1200,
    "start_time": "2021-06-17T00:06:33.011Z"
   },
   {
    "duration": 308,
    "start_time": "2021-06-17T00:18:12.150Z"
   },
   {
    "duration": 297,
    "start_time": "2021-06-17T00:18:23.461Z"
   },
   {
    "duration": 318,
    "start_time": "2021-06-17T00:18:39.109Z"
   },
   {
    "duration": 1882,
    "start_time": "2021-06-17T00:19:40.910Z"
   },
   {
    "duration": 125957,
    "start_time": "2021-06-17T00:20:01.813Z"
   },
   {
    "duration": 2377,
    "start_time": "2021-06-17T00:23:53.482Z"
   },
   {
    "duration": 1839,
    "start_time": "2021-06-17T00:24:30.248Z"
   },
   {
    "duration": 125411,
    "start_time": "2021-06-17T00:24:44.369Z"
   },
   {
    "duration": 1786,
    "start_time": "2021-06-17T00:26:49.786Z"
   },
   {
    "duration": 127758,
    "start_time": "2021-06-17T00:30:22.114Z"
   },
   {
    "duration": 103,
    "start_time": "2021-06-17T00:32:59.920Z"
   },
   {
    "duration": 1261,
    "start_time": "2021-06-17T00:33:09.964Z"
   },
   {
    "duration": 3617,
    "start_time": "2021-06-17T00:33:25.670Z"
   },
   {
    "duration": 6416,
    "start_time": "2021-06-17T00:35:03.178Z"
   },
   {
    "duration": 68685,
    "start_time": "2021-06-17T00:36:17.851Z"
   },
   {
    "duration": 19467,
    "start_time": "2021-06-17T00:37:27.923Z"
   },
   {
    "duration": 19661,
    "start_time": "2021-06-17T00:38:17.326Z"
   },
   {
    "duration": 2544,
    "start_time": "2021-06-17T00:55:22.694Z"
   },
   {
    "duration": 1088,
    "start_time": "2021-06-17T00:55:54.070Z"
   },
   {
    "duration": 223,
    "start_time": "2021-06-17T00:59:22.773Z"
   },
   {
    "duration": 234,
    "start_time": "2021-06-17T00:59:31.190Z"
   },
   {
    "duration": 241,
    "start_time": "2021-06-17T00:59:33.181Z"
   },
   {
    "duration": 1474,
    "start_time": "2021-06-17T01:02:51.507Z"
   },
   {
    "duration": 37,
    "start_time": "2021-06-17T01:02:52.983Z"
   },
   {
    "duration": 9,
    "start_time": "2021-06-17T01:02:53.023Z"
   },
   {
    "duration": 12,
    "start_time": "2021-06-17T01:02:53.035Z"
   },
   {
    "duration": 39,
    "start_time": "2021-06-17T01:02:53.049Z"
   },
   {
    "duration": 9,
    "start_time": "2021-06-17T01:02:53.091Z"
   },
   {
    "duration": 11,
    "start_time": "2021-06-17T01:02:53.103Z"
   },
   {
    "duration": 6,
    "start_time": "2021-06-17T01:02:53.116Z"
   },
   {
    "duration": 860,
    "start_time": "2021-06-17T01:02:53.127Z"
   },
   {
    "duration": 280,
    "start_time": "2021-06-17T01:02:53.990Z"
   },
   {
    "duration": 31,
    "start_time": "2021-06-17T01:02:54.273Z"
   },
   {
    "duration": 25,
    "start_time": "2021-06-17T01:02:54.307Z"
   },
   {
    "duration": 14,
    "start_time": "2021-06-17T01:02:54.335Z"
   },
   {
    "duration": 41,
    "start_time": "2021-06-17T01:02:54.351Z"
   },
   {
    "duration": 1876,
    "start_time": "2021-06-17T01:02:54.395Z"
   },
   {
    "duration": 127601,
    "start_time": "2021-06-17T01:02:56.274Z"
   },
   {
    "duration": 128333,
    "start_time": "2021-06-17T01:05:03.877Z"
   },
   {
    "duration": 111,
    "start_time": "2021-06-17T01:07:12.212Z"
   },
   {
    "duration": -1503,
    "start_time": "2021-06-17T01:07:13.830Z"
   },
   {
    "duration": -1509,
    "start_time": "2021-06-17T01:07:13.837Z"
   },
   {
    "duration": -1511,
    "start_time": "2021-06-17T01:07:13.841Z"
   },
   {
    "duration": -1529,
    "start_time": "2021-06-17T01:07:13.860Z"
   },
   {
    "duration": -1533,
    "start_time": "2021-06-17T01:07:13.865Z"
   },
   {
    "duration": -1534,
    "start_time": "2021-06-17T01:07:13.868Z"
   },
   {
    "duration": -1538,
    "start_time": "2021-06-17T01:07:13.873Z"
   },
   {
    "duration": -1541,
    "start_time": "2021-06-17T01:07:13.877Z"
   },
   {
    "duration": -1545,
    "start_time": "2021-06-17T01:07:13.883Z"
   },
   {
    "duration": -1548,
    "start_time": "2021-06-17T01:07:13.887Z"
   },
   {
    "duration": -1551,
    "start_time": "2021-06-17T01:07:13.891Z"
   },
   {
    "duration": -1553,
    "start_time": "2021-06-17T01:07:13.895Z"
   },
   {
    "duration": -1555,
    "start_time": "2021-06-17T01:07:13.898Z"
   },
   {
    "duration": -1557,
    "start_time": "2021-06-17T01:07:13.902Z"
   },
   {
    "duration": -1560,
    "start_time": "2021-06-17T01:07:13.906Z"
   },
   {
    "duration": -1571,
    "start_time": "2021-06-17T01:07:13.918Z"
   },
   {
    "duration": -1577,
    "start_time": "2021-06-17T01:07:13.926Z"
   },
   {
    "duration": -1579,
    "start_time": "2021-06-17T01:07:13.929Z"
   },
   {
    "duration": -1584,
    "start_time": "2021-06-17T01:07:13.935Z"
   },
   {
    "duration": -1585,
    "start_time": "2021-06-17T01:07:13.938Z"
   },
   {
    "duration": 19140,
    "start_time": "2021-06-17T01:08:15.647Z"
   },
   {
    "duration": 102,
    "start_time": "2021-06-17T01:08:34.791Z"
   },
   {
    "duration": 6,
    "start_time": "2021-06-17T01:08:34.897Z"
   },
   {
    "duration": 11,
    "start_time": "2021-06-17T01:08:34.906Z"
   },
   {
    "duration": 26,
    "start_time": "2021-06-17T01:08:34.920Z"
   },
   {
    "duration": 280,
    "start_time": "2021-06-17T01:08:34.948Z"
   },
   {
    "duration": 257,
    "start_time": "2021-06-17T01:08:35.231Z"
   },
   {
    "duration": 745,
    "start_time": "2021-06-17T01:08:35.491Z"
   },
   {
    "duration": 50,
    "start_time": "2021-06-17T01:08:36.239Z"
   },
   {
    "duration": 304,
    "start_time": "2021-06-17T01:08:36.292Z"
   },
   {
    "duration": 19,
    "start_time": "2021-06-17T01:08:36.598Z"
   },
   {
    "duration": 2614,
    "start_time": "2021-06-17T01:08:36.620Z"
   },
   {
    "duration": 1025,
    "start_time": "2021-06-17T01:08:39.237Z"
   },
   {
    "duration": 173178,
    "start_time": "2021-06-17T01:08:40.265Z"
   },
   {
    "duration": 75620,
    "start_time": "2021-06-17T01:11:33.446Z"
   },
   {
    "duration": 661,
    "start_time": "2021-06-17T01:12:49.069Z"
   },
   {
    "duration": 931,
    "start_time": "2021-06-17T01:12:49.733Z"
   },
   {
    "duration": 109,
    "start_time": "2021-06-17T01:38:03.016Z"
   },
   {
    "duration": 5,
    "start_time": "2021-06-17T01:38:11.669Z"
   },
   {
    "duration": 113,
    "start_time": "2021-06-17T01:38:13.472Z"
   },
   {
    "duration": 14,
    "start_time": "2021-06-17T01:38:19.322Z"
   },
   {
    "duration": 15,
    "start_time": "2021-06-17T01:39:36.439Z"
   },
   {
    "duration": 5,
    "start_time": "2021-06-17T01:39:48.181Z"
   },
   {
    "duration": 5,
    "start_time": "2021-06-17T01:39:52.773Z"
   },
   {
    "duration": 13,
    "start_time": "2021-06-17T01:39:57.813Z"
   },
   {
    "duration": 15,
    "start_time": "2021-06-17T01:40:20.820Z"
   },
   {
    "duration": 15,
    "start_time": "2021-06-17T01:41:10.669Z"
   },
   {
    "duration": 9,
    "start_time": "2021-06-17T01:41:32.652Z"
   },
   {
    "duration": 37,
    "start_time": "2021-06-17T01:41:33.173Z"
   },
   {
    "duration": 10,
    "start_time": "2021-06-17T01:41:33.531Z"
   },
   {
    "duration": 12,
    "start_time": "2021-06-17T01:41:33.836Z"
   },
   {
    "duration": 19,
    "start_time": "2021-06-17T01:41:34.132Z"
   },
   {
    "duration": 5,
    "start_time": "2021-06-17T01:41:34.420Z"
   },
   {
    "duration": 10,
    "start_time": "2021-06-17T01:41:34.876Z"
   },
   {
    "duration": 7,
    "start_time": "2021-06-17T01:41:35.180Z"
   },
   {
    "duration": 821,
    "start_time": "2021-06-17T01:41:35.972Z"
   },
   {
    "duration": 263,
    "start_time": "2021-06-17T01:41:36.796Z"
   },
   {
    "duration": 19,
    "start_time": "2021-06-17T01:41:37.142Z"
   },
   {
    "duration": 26,
    "start_time": "2021-06-17T01:41:37.650Z"
   },
   {
    "duration": 14,
    "start_time": "2021-06-17T01:41:38.164Z"
   },
   {
    "duration": 10,
    "start_time": "2021-06-17T01:41:38.714Z"
   },
   {
    "duration": 5,
    "start_time": "2021-06-17T01:41:39.827Z"
   },
   {
    "duration": 1821,
    "start_time": "2021-06-17T01:41:40.002Z"
   },
   {
    "duration": 13,
    "start_time": "2021-06-17T01:41:41.826Z"
   },
   {
    "duration": 30977,
    "start_time": "2021-06-17T01:41:41.843Z"
   },
   {
    "duration": 15,
    "start_time": "2021-06-17T01:42:12.823Z"
   },
   {
    "duration": 114,
    "start_time": "2021-06-17T01:42:12.840Z"
   },
   {
    "duration": 110,
    "start_time": "2021-06-17T01:43:09.730Z"
   },
   {
    "duration": 19472,
    "start_time": "2021-06-17T01:43:11.215Z"
   },
   {
    "duration": 105,
    "start_time": "2021-06-17T01:43:30.691Z"
   },
   {
    "duration": 2371,
    "start_time": "2021-06-17T01:44:32.418Z"
   },
   {
    "duration": 939,
    "start_time": "2021-06-17T01:44:42.177Z"
   },
   {
    "duration": 43946,
    "start_time": "2021-06-17T01:44:50.689Z"
   },
   {
    "duration": 1493,
    "start_time": "2021-06-17T01:49:53.392Z"
   },
   {
    "duration": 38,
    "start_time": "2021-06-17T01:49:54.888Z"
   },
   {
    "duration": 11,
    "start_time": "2021-06-17T01:49:54.932Z"
   },
   {
    "duration": 21,
    "start_time": "2021-06-17T01:49:54.945Z"
   },
   {
    "duration": 34,
    "start_time": "2021-06-17T01:49:54.969Z"
   },
   {
    "duration": 23,
    "start_time": "2021-06-17T01:49:55.006Z"
   },
   {
    "duration": 18,
    "start_time": "2021-06-17T01:49:55.031Z"
   },
   {
    "duration": 16,
    "start_time": "2021-06-17T01:49:55.053Z"
   },
   {
    "duration": 845,
    "start_time": "2021-06-17T01:49:55.072Z"
   },
   {
    "duration": 273,
    "start_time": "2021-06-17T01:49:55.920Z"
   },
   {
    "duration": 20,
    "start_time": "2021-06-17T01:49:56.195Z"
   },
   {
    "duration": 34,
    "start_time": "2021-06-17T01:49:56.218Z"
   },
   {
    "duration": 35,
    "start_time": "2021-06-17T01:49:56.254Z"
   },
   {
    "duration": 11,
    "start_time": "2021-06-17T01:49:56.292Z"
   },
   {
    "duration": 18,
    "start_time": "2021-06-17T01:49:56.305Z"
   },
   {
    "duration": 1869,
    "start_time": "2021-06-17T01:49:56.326Z"
   },
   {
    "duration": 13,
    "start_time": "2021-06-17T01:49:58.198Z"
   },
   {
    "duration": 1922,
    "start_time": "2021-06-17T01:49:58.213Z"
   },
   {
    "duration": 15,
    "start_time": "2021-06-17T01:50:00.138Z"
   },
   {
    "duration": 90473,
    "start_time": "2021-06-17T01:50:00.155Z"
   },
   {
    "duration": -1565,
    "start_time": "2021-06-17T01:51:32.198Z"
   },
   {
    "duration": -1572,
    "start_time": "2021-06-17T01:51:32.206Z"
   },
   {
    "duration": -1576,
    "start_time": "2021-06-17T01:51:32.212Z"
   },
   {
    "duration": -1579,
    "start_time": "2021-06-17T01:51:32.216Z"
   },
   {
    "duration": -1581,
    "start_time": "2021-06-17T01:51:32.220Z"
   },
   {
    "duration": -1584,
    "start_time": "2021-06-17T01:51:32.224Z"
   },
   {
    "duration": -1586,
    "start_time": "2021-06-17T01:51:32.228Z"
   },
   {
    "duration": -1589,
    "start_time": "2021-06-17T01:51:32.232Z"
   },
   {
    "duration": -1591,
    "start_time": "2021-06-17T01:51:32.236Z"
   },
   {
    "duration": -1593,
    "start_time": "2021-06-17T01:51:32.239Z"
   },
   {
    "duration": -1596,
    "start_time": "2021-06-17T01:51:32.244Z"
   },
   {
    "duration": -1599,
    "start_time": "2021-06-17T01:51:32.248Z"
   },
   {
    "duration": -1601,
    "start_time": "2021-06-17T01:51:32.252Z"
   },
   {
    "duration": -1604,
    "start_time": "2021-06-17T01:51:32.256Z"
   },
   {
    "duration": -1605,
    "start_time": "2021-06-17T01:51:32.259Z"
   },
   {
    "duration": -1578,
    "start_time": "2021-06-17T01:51:32.263Z"
   },
   {
    "duration": -1580,
    "start_time": "2021-06-17T01:51:32.267Z"
   },
   {
    "duration": -1583,
    "start_time": "2021-06-17T01:51:32.271Z"
   },
   {
    "duration": -1640,
    "start_time": "2021-06-17T01:51:32.330Z"
   },
   {
    "duration": -1649,
    "start_time": "2021-06-17T01:51:32.340Z"
   },
   {
    "duration": -1651,
    "start_time": "2021-06-17T01:51:32.344Z"
   },
   {
    "duration": -1654,
    "start_time": "2021-06-17T01:51:32.348Z"
   },
   {
    "duration": -1657,
    "start_time": "2021-06-17T01:51:32.353Z"
   },
   {
    "duration": -1661,
    "start_time": "2021-06-17T01:51:32.358Z"
   },
   {
    "duration": -1663,
    "start_time": "2021-06-17T01:51:32.362Z"
   },
   {
    "duration": -1665,
    "start_time": "2021-06-17T01:51:32.366Z"
   },
   {
    "duration": -1667,
    "start_time": "2021-06-17T01:51:32.369Z"
   },
   {
    "duration": -1670,
    "start_time": "2021-06-17T01:51:32.374Z"
   },
   {
    "duration": 1733,
    "start_time": "2021-06-17T01:51:34.975Z"
   },
   {
    "duration": 38,
    "start_time": "2021-06-17T01:51:36.710Z"
   },
   {
    "duration": 11,
    "start_time": "2021-06-17T01:51:36.751Z"
   },
   {
    "duration": 26,
    "start_time": "2021-06-17T01:51:36.765Z"
   },
   {
    "duration": 21,
    "start_time": "2021-06-17T01:51:36.794Z"
   },
   {
    "duration": 8,
    "start_time": "2021-06-17T01:51:36.817Z"
   },
   {
    "duration": 11,
    "start_time": "2021-06-17T01:51:36.828Z"
   },
   {
    "duration": 6,
    "start_time": "2021-06-17T01:51:36.842Z"
   },
   {
    "duration": 815,
    "start_time": "2021-06-17T01:51:36.888Z"
   },
   {
    "duration": 284,
    "start_time": "2021-06-17T01:51:37.707Z"
   },
   {
    "duration": 20,
    "start_time": "2021-06-17T01:51:37.993Z"
   },
   {
    "duration": 25,
    "start_time": "2021-06-17T01:51:38.016Z"
   },
   {
    "duration": 47,
    "start_time": "2021-06-17T01:51:38.044Z"
   },
   {
    "duration": 9,
    "start_time": "2021-06-17T01:51:38.094Z"
   },
   {
    "duration": 9,
    "start_time": "2021-06-17T01:51:38.106Z"
   },
   {
    "duration": 1938,
    "start_time": "2021-06-17T01:51:38.117Z"
   },
   {
    "duration": 12,
    "start_time": "2021-06-17T01:51:40.057Z"
   },
   {
    "duration": 1947,
    "start_time": "2021-06-17T01:51:40.086Z"
   },
   {
    "duration": 13,
    "start_time": "2021-06-17T01:51:42.035Z"
   },
   {
    "duration": 33946,
    "start_time": "2021-06-17T01:51:42.051Z"
   },
   {
    "duration": 15,
    "start_time": "2021-06-17T01:52:15.999Z"
   },
   {
    "duration": 33052,
    "start_time": "2021-06-17T01:52:16.016Z"
   },
   {
    "duration": 25,
    "start_time": "2021-06-17T01:52:49.071Z"
   },
   {
    "duration": 19690,
    "start_time": "2021-06-17T01:52:49.098Z"
   },
   {
    "duration": 106,
    "start_time": "2021-06-17T01:53:08.792Z"
   },
   {
    "duration": 22,
    "start_time": "2021-06-17T01:53:08.901Z"
   },
   {
    "duration": 6,
    "start_time": "2021-06-17T01:53:08.928Z"
   },
   {
    "duration": 17,
    "start_time": "2021-06-17T01:53:08.938Z"
   },
   {
    "duration": 48,
    "start_time": "2021-06-17T01:53:08.958Z"
   },
   {
    "duration": 258,
    "start_time": "2021-06-17T01:53:09.009Z"
   },
   {
    "duration": 265,
    "start_time": "2021-06-17T01:53:09.269Z"
   },
   {
    "duration": 828,
    "start_time": "2021-06-17T01:53:09.537Z"
   },
   {
    "duration": 42,
    "start_time": "2021-06-17T01:53:10.368Z"
   },
   {
    "duration": 372,
    "start_time": "2021-06-17T01:53:10.413Z"
   },
   {
    "duration": 20,
    "start_time": "2021-06-17T01:53:10.788Z"
   },
   {
    "duration": 2709,
    "start_time": "2021-06-17T01:53:10.811Z"
   },
   {
    "duration": 16,
    "start_time": "2021-06-17T01:53:13.523Z"
   },
   {
    "duration": 1093,
    "start_time": "2021-06-17T01:53:13.541Z"
   },
   {
    "duration": 17,
    "start_time": "2021-06-17T01:53:14.637Z"
   },
   {
    "duration": 45967,
    "start_time": "2021-06-17T01:53:14.656Z"
   },
   {
    "duration": 18,
    "start_time": "2021-06-17T01:54:00.626Z"
   },
   {
    "duration": 6788,
    "start_time": "2021-06-17T01:54:00.646Z"
   },
   {
    "duration": -1582,
    "start_time": "2021-06-17T01:54:09.019Z"
   },
   {
    "duration": -1588,
    "start_time": "2021-06-17T01:54:09.026Z"
   },
   {
    "duration": -1591,
    "start_time": "2021-06-17T01:54:09.030Z"
   },
   {
    "duration": -1592,
    "start_time": "2021-06-17T01:54:09.033Z"
   },
   {
    "duration": -1595,
    "start_time": "2021-06-17T01:54:09.037Z"
   },
   {
    "duration": -1596,
    "start_time": "2021-06-17T01:54:09.040Z"
   },
   {
    "duration": 1495,
    "start_time": "2021-06-17T01:54:16.017Z"
   },
   {
    "duration": 37,
    "start_time": "2021-06-17T01:54:17.514Z"
   },
   {
    "duration": 10,
    "start_time": "2021-06-17T01:54:17.554Z"
   },
   {
    "duration": 25,
    "start_time": "2021-06-17T01:54:17.567Z"
   },
   {
    "duration": 22,
    "start_time": "2021-06-17T01:54:17.594Z"
   },
   {
    "duration": 8,
    "start_time": "2021-06-17T01:54:17.618Z"
   },
   {
    "duration": 12,
    "start_time": "2021-06-17T01:54:17.628Z"
   },
   {
    "duration": 41,
    "start_time": "2021-06-17T01:54:17.644Z"
   },
   {
    "duration": 806,
    "start_time": "2021-06-17T01:54:17.689Z"
   },
   {
    "duration": 316,
    "start_time": "2021-06-17T01:54:18.498Z"
   },
   {
    "duration": 20,
    "start_time": "2021-06-17T01:54:18.816Z"
   },
   {
    "duration": 24,
    "start_time": "2021-06-17T01:54:18.839Z"
   },
   {
    "duration": 15,
    "start_time": "2021-06-17T01:54:18.886Z"
   },
   {
    "duration": 10,
    "start_time": "2021-06-17T01:54:18.903Z"
   },
   {
    "duration": 14,
    "start_time": "2021-06-17T01:54:18.915Z"
   },
   {
    "duration": 1860,
    "start_time": "2021-06-17T01:54:18.931Z"
   },
   {
    "duration": 13,
    "start_time": "2021-06-17T01:54:20.793Z"
   },
   {
    "duration": 1936,
    "start_time": "2021-06-17T01:54:20.808Z"
   },
   {
    "duration": 13,
    "start_time": "2021-06-17T01:54:22.747Z"
   },
   {
    "duration": 32799,
    "start_time": "2021-06-17T01:54:22.762Z"
   },
   {
    "duration": 28,
    "start_time": "2021-06-17T01:54:55.564Z"
   },
   {
    "duration": 33817,
    "start_time": "2021-06-17T01:54:55.595Z"
   },
   {
    "duration": 15,
    "start_time": "2021-06-17T01:55:29.417Z"
   },
   {
    "duration": 19451,
    "start_time": "2021-06-17T01:55:29.436Z"
   },
   {
    "duration": 106,
    "start_time": "2021-06-17T01:55:48.891Z"
   },
   {
    "duration": 22,
    "start_time": "2021-06-17T01:55:49.000Z"
   },
   {
    "duration": 10,
    "start_time": "2021-06-17T01:55:49.025Z"
   },
   {
    "duration": 14,
    "start_time": "2021-06-17T01:55:49.037Z"
   },
   {
    "duration": 52,
    "start_time": "2021-06-17T01:55:49.053Z"
   },
   {
    "duration": 247,
    "start_time": "2021-06-17T01:55:49.108Z"
   },
   {
    "duration": 260,
    "start_time": "2021-06-17T01:55:49.357Z"
   },
   {
    "duration": 779,
    "start_time": "2021-06-17T01:55:49.620Z"
   },
   {
    "duration": 38,
    "start_time": "2021-06-17T01:55:50.402Z"
   },
   {
    "duration": 331,
    "start_time": "2021-06-17T01:55:50.443Z"
   },
   {
    "duration": 23,
    "start_time": "2021-06-17T01:55:50.777Z"
   },
   {
    "duration": 2644,
    "start_time": "2021-06-17T01:55:50.803Z"
   },
   {
    "duration": 18,
    "start_time": "2021-06-17T01:55:53.449Z"
   },
   {
    "duration": 1004,
    "start_time": "2021-06-17T01:55:53.486Z"
   },
   {
    "duration": 19,
    "start_time": "2021-06-17T01:55:54.492Z"
   },
   {
    "duration": 45514,
    "start_time": "2021-06-17T01:55:54.514Z"
   },
   {
    "duration": 21,
    "start_time": "2021-06-17T01:56:40.031Z"
   },
   {
    "duration": 20031,
    "start_time": "2021-06-17T01:56:40.055Z"
   },
   {
    "duration": 19,
    "start_time": "2021-06-17T01:57:00.088Z"
   },
   {
    "duration": 691,
    "start_time": "2021-06-17T01:57:00.109Z"
   },
   {
    "duration": 965,
    "start_time": "2021-06-17T01:57:00.802Z"
   },
   {
    "duration": 933,
    "start_time": "2021-06-17T01:57:01.769Z"
   },
   {
    "duration": 537,
    "start_time": "2021-06-17T01:57:02.705Z"
   },
   {
    "duration": 33570,
    "start_time": "2021-06-17T01:57:03.244Z"
   },
   {
    "duration": 120,
    "start_time": "2021-06-17T02:04:09.231Z"
   },
   {
    "duration": 104,
    "start_time": "2021-06-17T02:04:16.169Z"
   },
   {
    "duration": 3005,
    "start_time": "2021-06-17T02:04:22.998Z"
   },
   {
    "duration": 2961,
    "start_time": "2021-06-17T02:04:41.974Z"
   },
   {
    "duration": 125,
    "start_time": "2021-06-17T02:08:00.206Z"
   },
   {
    "duration": 2654,
    "start_time": "2021-06-17T02:08:16.455Z"
   },
   {
    "duration": 2351,
    "start_time": "2021-06-17T02:08:51.348Z"
   },
   {
    "duration": 1506,
    "start_time": "2021-06-17T02:09:44.288Z"
   },
   {
    "duration": 39,
    "start_time": "2021-06-17T02:09:45.797Z"
   },
   {
    "duration": 13,
    "start_time": "2021-06-17T02:09:45.839Z"
   },
   {
    "duration": 33,
    "start_time": "2021-06-17T02:09:45.856Z"
   },
   {
    "duration": 20,
    "start_time": "2021-06-17T02:09:45.892Z"
   },
   {
    "duration": 5,
    "start_time": "2021-06-17T02:09:45.915Z"
   },
   {
    "duration": 10,
    "start_time": "2021-06-17T02:09:45.922Z"
   },
   {
    "duration": 7,
    "start_time": "2021-06-17T02:09:45.936Z"
   },
   {
    "duration": 789,
    "start_time": "2021-06-17T02:09:45.985Z"
   },
   {
    "duration": 274,
    "start_time": "2021-06-17T02:09:46.777Z"
   },
   {
    "duration": 37,
    "start_time": "2021-06-17T02:09:47.054Z"
   },
   {
    "duration": 25,
    "start_time": "2021-06-17T02:09:47.093Z"
   },
   {
    "duration": 14,
    "start_time": "2021-06-17T02:09:47.120Z"
   },
   {
    "duration": 9,
    "start_time": "2021-06-17T02:09:47.136Z"
   },
   {
    "duration": 39,
    "start_time": "2021-06-17T02:09:47.147Z"
   },
   {
    "duration": 1707,
    "start_time": "2021-06-17T02:09:47.188Z"
   },
   {
    "duration": 13,
    "start_time": "2021-06-17T02:09:48.898Z"
   },
   {
    "duration": 2031,
    "start_time": "2021-06-17T02:09:48.913Z"
   },
   {
    "duration": 13,
    "start_time": "2021-06-17T02:09:50.947Z"
   },
   {
    "duration": 30804,
    "start_time": "2021-06-17T02:09:50.963Z"
   },
   {
    "duration": 25,
    "start_time": "2021-06-17T02:10:21.770Z"
   },
   {
    "duration": 19290,
    "start_time": "2021-06-17T02:10:21.798Z"
   },
   {
    "duration": 101,
    "start_time": "2021-06-17T02:10:41.096Z"
   },
   {
    "duration": 13,
    "start_time": "2021-06-17T02:10:41.200Z"
   },
   {
    "duration": 5,
    "start_time": "2021-06-17T02:10:41.216Z"
   },
   {
    "duration": 11,
    "start_time": "2021-06-17T02:10:41.223Z"
   },
   {
    "duration": 63,
    "start_time": "2021-06-17T02:10:41.236Z"
   },
   {
    "duration": 313,
    "start_time": "2021-06-17T02:10:41.301Z"
   },
   {
    "duration": 241,
    "start_time": "2021-06-17T02:10:41.617Z"
   },
   {
    "duration": 751,
    "start_time": "2021-06-17T02:10:41.861Z"
   },
   {
    "duration": 37,
    "start_time": "2021-06-17T02:10:42.614Z"
   },
   {
    "duration": 325,
    "start_time": "2021-06-17T02:10:42.653Z"
   },
   {
    "duration": 20,
    "start_time": "2021-06-17T02:10:42.980Z"
   },
   {
    "duration": 2461,
    "start_time": "2021-06-17T02:10:43.002Z"
   },
   {
    "duration": 27,
    "start_time": "2021-06-17T02:10:45.466Z"
   },
   {
    "duration": 972,
    "start_time": "2021-06-17T02:10:45.496Z"
   },
   {
    "duration": 27,
    "start_time": "2021-06-17T02:10:46.471Z"
   },
   {
    "duration": 43139,
    "start_time": "2021-06-17T02:10:46.500Z"
   },
   {
    "duration": 18,
    "start_time": "2021-06-17T02:11:29.642Z"
   },
   {
    "duration": 18676,
    "start_time": "2021-06-17T02:11:29.663Z"
   },
   {
    "duration": 20,
    "start_time": "2021-06-17T02:11:48.342Z"
   },
   {
    "duration": 634,
    "start_time": "2021-06-17T02:11:48.385Z"
   },
   {
    "duration": 937,
    "start_time": "2021-06-17T02:11:49.022Z"
   },
   {
    "duration": 908,
    "start_time": "2021-06-17T02:11:49.961Z"
   },
   {
    "duration": 536,
    "start_time": "2021-06-17T02:11:50.871Z"
   },
   {
    "duration": 32513,
    "start_time": "2021-06-17T02:11:51.409Z"
   },
   {
    "duration": 777,
    "start_time": "2021-06-17T02:17:51.597Z"
   },
   {
    "duration": 1026,
    "start_time": "2021-06-17T02:19:01.891Z"
   },
   {
    "duration": 1031,
    "start_time": "2021-06-17T02:19:08.254Z"
   },
   {
    "duration": 632,
    "start_time": "2021-06-17T02:19:19.229Z"
   },
   {
    "duration": 1001,
    "start_time": "2021-06-17T02:32:00.910Z"
   },
   {
    "duration": 499,
    "start_time": "2021-06-17T02:32:03.786Z"
   },
   {
    "duration": 8,
    "start_time": "2021-06-17T02:32:45.472Z"
   },
   {
    "duration": 473,
    "start_time": "2021-06-17T02:49:12.070Z"
   },
   {
    "duration": 307,
    "start_time": "2021-06-17T02:49:41.493Z"
   },
   {
    "duration": 420,
    "start_time": "2021-06-17T02:49:50.915Z"
   },
   {
    "duration": 6838,
    "start_time": "2021-06-17T02:49:58.050Z"
   },
   {
    "duration": 6324,
    "start_time": "2021-06-17T02:50:11.084Z"
   },
   {
    "duration": 6261,
    "start_time": "2021-06-17T02:50:40.459Z"
   },
   {
    "duration": 6437,
    "start_time": "2021-06-17T02:51:10.551Z"
   },
   {
    "duration": 326,
    "start_time": "2021-06-17T02:52:09.074Z"
   },
   {
    "duration": 316,
    "start_time": "2021-06-17T02:52:26.155Z"
   },
   {
    "duration": 10,
    "start_time": "2021-06-17T02:55:13.540Z"
   },
   {
    "duration": 9,
    "start_time": "2021-06-17T02:55:52.299Z"
   },
   {
    "duration": 9,
    "start_time": "2021-06-17T02:56:06.151Z"
   },
   {
    "duration": 9,
    "start_time": "2021-06-17T02:56:27.480Z"
   },
   {
    "duration": 8,
    "start_time": "2021-06-17T02:56:36.866Z"
   },
   {
    "duration": 15,
    "start_time": "2021-06-17T02:57:12.286Z"
   },
   {
    "duration": 6379,
    "start_time": "2021-06-17T02:57:19.895Z"
   },
   {
    "duration": 13,
    "start_time": "2021-06-17T02:57:26.298Z"
   },
   {
    "duration": 14,
    "start_time": "2021-06-17T02:57:54.343Z"
   },
   {
    "duration": 317,
    "start_time": "2021-06-17T02:58:53.966Z"
   },
   {
    "duration": 312,
    "start_time": "2021-06-17T02:59:27.390Z"
   },
   {
    "duration": 312,
    "start_time": "2021-06-17T02:59:34.971Z"
   },
   {
    "duration": 10,
    "start_time": "2021-06-17T03:00:02.270Z"
   },
   {
    "duration": 16,
    "start_time": "2021-06-17T03:00:29.517Z"
   },
   {
    "duration": 16,
    "start_time": "2021-06-17T03:00:41.599Z"
   },
   {
    "duration": 334,
    "start_time": "2021-06-17T03:00:54.488Z"
   },
   {
    "duration": 322,
    "start_time": "2021-06-17T03:01:15.890Z"
   },
   {
    "duration": 322,
    "start_time": "2021-06-17T03:01:29.141Z"
   },
   {
    "duration": 20,
    "start_time": "2021-06-17T03:01:48.653Z"
   },
   {
    "duration": 20,
    "start_time": "2021-06-17T03:02:11.068Z"
   },
   {
    "duration": 18,
    "start_time": "2021-06-17T03:02:32.515Z"
   },
   {
    "duration": 24,
    "start_time": "2021-06-17T03:02:55.564Z"
   },
   {
    "duration": 17,
    "start_time": "2021-06-17T03:03:07.681Z"
   },
   {
    "duration": 421,
    "start_time": "2021-06-17T03:03:16.162Z"
   },
   {
    "duration": 422,
    "start_time": "2021-06-17T03:03:22.495Z"
   },
   {
    "duration": 321,
    "start_time": "2021-06-17T03:03:44.200Z"
   },
   {
    "duration": 20,
    "start_time": "2021-06-17T03:04:17.660Z"
   },
   {
    "duration": 794,
    "start_time": "2021-06-17T03:05:18.818Z"
   },
   {
    "duration": 770,
    "start_time": "2021-06-17T03:05:36.272Z"
   },
   {
    "duration": 455,
    "start_time": "2021-06-17T03:06:01.235Z"
   },
   {
    "duration": 325,
    "start_time": "2021-06-17T03:10:15.747Z"
   },
   {
    "duration": 370,
    "start_time": "2021-06-17T03:10:36.395Z"
   },
   {
    "duration": 363,
    "start_time": "2021-06-17T03:11:44.559Z"
   },
   {
    "duration": 443,
    "start_time": "2021-06-17T03:12:13.636Z"
   },
   {
    "duration": 1800,
    "start_time": "2021-06-17T03:14:31.812Z"
   },
   {
    "duration": 380,
    "start_time": "2021-06-17T03:15:18.390Z"
   },
   {
    "duration": 2053,
    "start_time": "2021-06-17T03:16:07.227Z"
   },
   {
    "duration": 33992,
    "start_time": "2021-06-17T03:16:25.821Z"
   },
   {
    "duration": 875,
    "start_time": "2021-06-17T03:17:00.418Z"
   },
   {
    "duration": 502,
    "start_time": "2021-06-17T03:17:33.500Z"
   },
   {
    "duration": 19636,
    "start_time": "2021-06-17T03:18:17.051Z"
   },
   {
    "duration": 405,
    "start_time": "2021-06-17T03:18:47.838Z"
   },
   {
    "duration": 423,
    "start_time": "2021-06-17T03:30:46.946Z"
   },
   {
    "duration": 336,
    "start_time": "2021-06-17T03:31:35.243Z"
   },
   {
    "duration": 411,
    "start_time": "2021-06-17T03:31:45.050Z"
   },
   {
    "duration": 322,
    "start_time": "2021-06-17T03:31:53.523Z"
   },
   {
    "duration": 308,
    "start_time": "2021-06-17T03:32:11.310Z"
   },
   {
    "duration": 784,
    "start_time": "2021-06-17T03:32:19.977Z"
   },
   {
    "duration": 442,
    "start_time": "2021-06-17T03:32:22.746Z"
   },
   {
    "duration": 802,
    "start_time": "2021-06-17T03:33:06.232Z"
   },
   {
    "duration": 417,
    "start_time": "2021-06-17T03:33:51.424Z"
   },
   {
    "duration": 393,
    "start_time": "2021-06-17T03:34:49.281Z"
   },
   {
    "duration": 837,
    "start_time": "2021-06-17T03:36:10.210Z"
   },
   {
    "duration": 839,
    "start_time": "2021-06-17T03:36:16.151Z"
   },
   {
    "duration": 993,
    "start_time": "2021-06-17T03:36:29.127Z"
   },
   {
    "duration": 398,
    "start_time": "2021-06-17T03:36:36.423Z"
   },
   {
    "duration": 6,
    "start_time": "2021-06-17T03:53:35.732Z"
   },
   {
    "duration": 14,
    "start_time": "2021-06-17T03:54:34.404Z"
   },
   {
    "duration": 20,
    "start_time": "2021-06-17T03:55:48.679Z"
   },
   {
    "duration": 22,
    "start_time": "2021-06-17T03:56:00.300Z"
   },
   {
    "duration": 30,
    "start_time": "2021-06-17T03:56:17.516Z"
   },
   {
    "duration": 29,
    "start_time": "2021-06-17T03:57:26.642Z"
   },
   {
    "duration": 43,
    "start_time": "2021-06-17T03:57:34.618Z"
   },
   {
    "duration": 40,
    "start_time": "2021-06-17T03:57:42.922Z"
   },
   {
    "duration": 1475,
    "start_time": "2021-06-17T03:58:19.735Z"
   },
   {
    "duration": 37,
    "start_time": "2021-06-17T03:58:21.212Z"
   },
   {
    "duration": 10,
    "start_time": "2021-06-17T03:58:21.252Z"
   },
   {
    "duration": 24,
    "start_time": "2021-06-17T03:58:21.265Z"
   },
   {
    "duration": 20,
    "start_time": "2021-06-17T03:58:21.291Z"
   },
   {
    "duration": 9,
    "start_time": "2021-06-17T03:58:21.313Z"
   },
   {
    "duration": 11,
    "start_time": "2021-06-17T03:58:21.324Z"
   },
   {
    "duration": 7,
    "start_time": "2021-06-17T03:58:21.339Z"
   },
   {
    "duration": 803,
    "start_time": "2021-06-17T03:58:21.385Z"
   },
   {
    "duration": 251,
    "start_time": "2021-06-17T03:58:22.190Z"
   },
   {
    "duration": 20,
    "start_time": "2021-06-17T03:58:22.444Z"
   },
   {
    "duration": 7,
    "start_time": "2021-06-17T03:58:22.486Z"
   },
   {
    "duration": 22,
    "start_time": "2021-06-17T03:58:22.495Z"
   },
   {
    "duration": 68,
    "start_time": "2021-06-17T03:58:22.519Z"
   },
   {
    "duration": 4,
    "start_time": "2021-06-17T03:58:22.589Z"
   },
   {
    "duration": 1769,
    "start_time": "2021-06-17T03:58:22.595Z"
   },
   {
    "duration": 6,
    "start_time": "2021-06-17T03:58:24.366Z"
   },
   {
    "duration": 1867,
    "start_time": "2021-06-17T03:58:24.386Z"
   },
   {
    "duration": 7,
    "start_time": "2021-06-17T03:58:26.255Z"
   },
   {
    "duration": 30632,
    "start_time": "2021-06-17T03:58:26.265Z"
   },
   {
    "duration": 7,
    "start_time": "2021-06-17T03:58:56.900Z"
   },
   {
    "duration": 19480,
    "start_time": "2021-06-17T03:58:56.909Z"
   },
   {
    "duration": 7,
    "start_time": "2021-06-17T03:59:16.485Z"
   },
   {
    "duration": 15,
    "start_time": "2021-06-17T03:59:16.496Z"
   },
   {
    "duration": 5,
    "start_time": "2021-06-17T03:59:16.514Z"
   },
   {
    "duration": 11,
    "start_time": "2021-06-17T03:59:16.522Z"
   },
   {
    "duration": 57,
    "start_time": "2021-06-17T03:59:16.535Z"
   },
   {
    "duration": 309,
    "start_time": "2021-06-17T03:59:16.594Z"
   },
   {
    "duration": 256,
    "start_time": "2021-06-17T03:59:16.906Z"
   },
   {
    "duration": 744,
    "start_time": "2021-06-17T03:59:17.165Z"
   },
   {
    "duration": 39,
    "start_time": "2021-06-17T03:59:17.912Z"
   },
   {
    "duration": 333,
    "start_time": "2021-06-17T03:59:17.953Z"
   },
   {
    "duration": 20,
    "start_time": "2021-06-17T03:59:18.289Z"
   },
   {
    "duration": 2449,
    "start_time": "2021-06-17T03:59:18.312Z"
   },
   {
    "duration": 21,
    "start_time": "2021-06-17T03:59:20.764Z"
   },
   {
    "duration": 941,
    "start_time": "2021-06-17T03:59:20.788Z"
   },
   {
    "duration": 8,
    "start_time": "2021-06-17T03:59:21.732Z"
   },
   {
    "duration": 43707,
    "start_time": "2021-06-17T03:59:21.743Z"
   },
   {
    "duration": 7,
    "start_time": "2021-06-17T04:00:05.452Z"
   },
   {
    "duration": 19919,
    "start_time": "2021-06-17T04:00:05.461Z"
   },
   {
    "duration": 20,
    "start_time": "2021-06-17T04:00:25.387Z"
   },
   {
    "duration": 490,
    "start_time": "2021-06-17T04:00:25.410Z"
   },
   {
    "duration": 846,
    "start_time": "2021-06-17T04:00:25.903Z"
   },
   {
    "duration": 423,
    "start_time": "2021-06-17T04:00:26.752Z"
   },
   {
    "duration": 32066,
    "start_time": "2021-06-17T04:00:27.186Z"
   },
   {
    "duration": 31451,
    "start_time": "2021-06-17T04:25:34.134Z"
   },
   {
    "duration": 658,
    "start_time": "2021-06-17T04:26:31.634Z"
   },
   {
    "duration": 272,
    "start_time": "2021-06-17T04:26:33.141Z"
   },
   {
    "duration": 1521,
    "start_time": "2021-06-17T04:29:15.373Z"
   },
   {
    "duration": 37,
    "start_time": "2021-06-17T04:29:16.897Z"
   },
   {
    "duration": 12,
    "start_time": "2021-06-17T04:29:16.937Z"
   },
   {
    "duration": 12,
    "start_time": "2021-06-17T04:29:16.953Z"
   },
   {
    "duration": 37,
    "start_time": "2021-06-17T04:29:16.968Z"
   },
   {
    "duration": 6,
    "start_time": "2021-06-17T04:29:17.008Z"
   },
   {
    "duration": 15,
    "start_time": "2021-06-17T04:29:17.017Z"
   },
   {
    "duration": 7,
    "start_time": "2021-06-17T04:29:17.036Z"
   },
   {
    "duration": 818,
    "start_time": "2021-06-17T04:29:17.046Z"
   },
   {
    "duration": 270,
    "start_time": "2021-06-17T04:29:17.867Z"
   },
   {
    "duration": 20,
    "start_time": "2021-06-17T04:29:18.139Z"
   },
   {
    "duration": 24,
    "start_time": "2021-06-17T04:29:18.161Z"
   },
   {
    "duration": 21,
    "start_time": "2021-06-17T04:29:18.187Z"
   },
   {
    "duration": 41,
    "start_time": "2021-06-17T04:29:18.211Z"
   },
   {
    "duration": 31,
    "start_time": "2021-06-17T04:29:18.254Z"
   },
   {
    "duration": 1747,
    "start_time": "2021-06-17T04:29:18.287Z"
   },
   {
    "duration": 7,
    "start_time": "2021-06-17T04:29:20.036Z"
   },
   {
    "duration": 1816,
    "start_time": "2021-06-17T04:29:20.045Z"
   },
   {
    "duration": 8,
    "start_time": "2021-06-17T04:29:21.863Z"
   },
   {
    "duration": 30690,
    "start_time": "2021-06-17T04:29:21.873Z"
   },
   {
    "duration": 8,
    "start_time": "2021-06-17T04:29:52.565Z"
   },
   {
    "duration": 32338,
    "start_time": "2021-06-17T04:29:52.575Z"
   },
   {
    "duration": 7,
    "start_time": "2021-06-17T04:30:24.918Z"
   },
   {
    "duration": 19459,
    "start_time": "2021-06-17T04:30:24.928Z"
   },
   {
    "duration": 97,
    "start_time": "2021-06-17T04:30:44.391Z"
   },
   {
    "duration": 15,
    "start_time": "2021-06-17T04:30:44.491Z"
   },
   {
    "duration": 6,
    "start_time": "2021-06-17T04:30:44.509Z"
   },
   {
    "duration": 8,
    "start_time": "2021-06-17T04:30:44.519Z"
   },
   {
    "duration": 73,
    "start_time": "2021-06-17T04:30:44.529Z"
   },
   {
    "duration": 239,
    "start_time": "2021-06-17T04:30:44.604Z"
   },
   {
    "duration": 253,
    "start_time": "2021-06-17T04:30:44.846Z"
   },
   {
    "duration": 659,
    "start_time": "2021-06-17T04:30:45.102Z"
   },
   {
    "duration": 284,
    "start_time": "2021-06-17T04:30:45.764Z"
   },
   {
    "duration": 62,
    "start_time": "2021-06-17T04:30:46.051Z"
   },
   {
    "duration": 21,
    "start_time": "2021-06-17T04:30:46.116Z"
   },
   {
    "duration": 2521,
    "start_time": "2021-06-17T04:30:46.140Z"
   },
   {
    "duration": 21,
    "start_time": "2021-06-17T04:30:48.664Z"
   },
   {
    "duration": 967,
    "start_time": "2021-06-17T04:30:48.687Z"
   },
   {
    "duration": 9,
    "start_time": "2021-06-17T04:30:49.657Z"
   },
   {
    "duration": 44823,
    "start_time": "2021-06-17T04:30:49.684Z"
   },
   {
    "duration": 7,
    "start_time": "2021-06-17T04:31:34.509Z"
   },
   {
    "duration": 19544,
    "start_time": "2021-06-17T04:31:34.518Z"
   },
   {
    "duration": 30,
    "start_time": "2021-06-17T04:31:54.065Z"
   },
   {
    "duration": 437,
    "start_time": "2021-06-17T04:31:54.098Z"
   },
   {
    "duration": 847,
    "start_time": "2021-06-17T04:31:54.538Z"
   },
   {
    "duration": 451,
    "start_time": "2021-06-17T04:31:55.388Z"
   },
   {
    "duration": 32164,
    "start_time": "2021-06-17T04:31:55.843Z"
   },
   {
    "duration": 3,
    "start_time": "2021-06-17T04:34:38.713Z"
   },
   {
    "duration": 3,
    "start_time": "2021-06-17T04:34:42.181Z"
   },
   {
    "duration": 918,
    "start_time": "2021-06-17T04:37:41.687Z"
   },
   {
    "duration": 926,
    "start_time": "2021-06-17T04:37:47.273Z"
   },
   {
    "duration": 622,
    "start_time": "2021-06-17T04:38:26.400Z"
   },
   {
    "duration": 924,
    "start_time": "2021-06-17T04:38:34.042Z"
   },
   {
    "duration": 915,
    "start_time": "2021-06-17T04:38:41.928Z"
   },
   {
    "duration": 912,
    "start_time": "2021-06-17T04:38:47.455Z"
   },
   {
    "duration": 1010,
    "start_time": "2021-06-17T04:38:51.975Z"
   },
   {
    "duration": 433,
    "start_time": "2021-06-17T04:39:11.975Z"
   },
   {
    "duration": 419,
    "start_time": "2021-06-17T04:39:18.799Z"
   },
   {
    "duration": 886,
    "start_time": "2021-06-17T04:39:24.335Z"
   },
   {
    "duration": 393,
    "start_time": "2021-06-17T04:39:28.422Z"
   },
   {
    "duration": 869,
    "start_time": "2021-06-17T04:39:54.537Z"
   },
   {
    "duration": 652,
    "start_time": "2021-06-17T04:40:13.408Z"
   },
   {
    "duration": 684,
    "start_time": "2021-06-17T04:40:17.753Z"
   },
   {
    "duration": 41,
    "start_time": "2021-06-17T05:28:29.037Z"
   },
   {
    "duration": 1841,
    "start_time": "2021-06-17T05:39:40.861Z"
   },
   {
    "duration": 2180,
    "start_time": "2021-06-17T05:44:16.445Z"
   },
   {
    "duration": 1815,
    "start_time": "2021-06-17T05:45:35.887Z"
   },
   {
    "duration": 1749,
    "start_time": "2021-06-17T05:46:42.544Z"
   },
   {
    "duration": 6,
    "start_time": "2021-06-17T05:47:19.934Z"
   },
   {
    "duration": 1934,
    "start_time": "2021-06-17T05:48:46.446Z"
   },
   {
    "duration": 8,
    "start_time": "2021-06-17T05:48:51.941Z"
   },
   {
    "duration": 20,
    "start_time": "2021-06-17T05:48:55.181Z"
   },
   {
    "duration": 312,
    "start_time": "2021-06-17T05:49:27.399Z"
   },
   {
    "duration": 2043,
    "start_time": "2021-06-17T05:49:40.637Z"
   },
   {
    "duration": 20,
    "start_time": "2021-06-17T05:49:50.237Z"
   },
   {
    "duration": 324,
    "start_time": "2021-06-17T05:52:39.242Z"
   },
   {
    "duration": 315,
    "start_time": "2021-06-17T05:52:52.415Z"
   },
   {
    "duration": 20,
    "start_time": "2021-06-17T05:54:03.040Z"
   },
   {
    "duration": 296,
    "start_time": "2021-06-17T05:56:40.067Z"
   },
   {
    "duration": 299,
    "start_time": "2021-06-17T05:56:45.881Z"
   },
   {
    "duration": 6,
    "start_time": "2021-06-17T06:00:45.855Z"
   },
   {
    "duration": 5,
    "start_time": "2021-06-17T06:01:06.390Z"
   },
   {
    "duration": 6,
    "start_time": "2021-06-17T06:01:32.382Z"
   },
   {
    "duration": 5,
    "start_time": "2021-06-17T06:03:53.731Z"
   },
   {
    "duration": 6,
    "start_time": "2021-06-17T06:04:09.644Z"
   },
   {
    "duration": 21,
    "start_time": "2021-06-17T06:04:27.966Z"
   },
   {
    "duration": 21,
    "start_time": "2021-06-17T06:05:16.079Z"
   },
   {
    "duration": 33346,
    "start_time": "2021-06-17T06:06:03.139Z"
   },
   {
    "duration": 32674,
    "start_time": "2021-06-17T06:19:27.227Z"
   },
   {
    "duration": 367,
    "start_time": "2021-06-17T06:19:59.904Z"
   },
   {
    "duration": 1125,
    "start_time": "2021-06-17T06:20:02.547Z"
   },
   {
    "duration": 5,
    "start_time": "2021-06-17T06:20:19.186Z"
   },
   {
    "duration": 421,
    "start_time": "2021-06-17T06:21:48.670Z"
   },
   {
    "duration": 312,
    "start_time": "2021-06-17T06:21:59.194Z"
   },
   {
    "duration": 9,
    "start_time": "2021-06-17T06:22:05.896Z"
   },
   {
    "duration": 23,
    "start_time": "2021-06-17T06:22:11.392Z"
   },
   {
    "duration": 22,
    "start_time": "2021-06-17T06:22:20.235Z"
   },
   {
    "duration": 6,
    "start_time": "2021-06-17T06:22:46.439Z"
   },
   {
    "duration": 17,
    "start_time": "2021-06-17T06:22:49.769Z"
   },
   {
    "duration": 5,
    "start_time": "2021-06-17T06:23:06.193Z"
   },
   {
    "duration": 15,
    "start_time": "2021-06-17T06:23:09.665Z"
   },
   {
    "duration": 17,
    "start_time": "2021-06-17T06:23:35.899Z"
   },
   {
    "duration": 31234,
    "start_time": "2021-06-17T06:25:21.351Z"
   },
   {
    "duration": 18,
    "start_time": "2021-06-17T06:27:01.551Z"
   },
   {
    "duration": 18,
    "start_time": "2021-06-17T06:28:59.525Z"
   },
   {
    "duration": 21,
    "start_time": "2021-06-17T06:29:23.430Z"
   },
   {
    "duration": 8,
    "start_time": "2021-06-17T06:29:56.509Z"
   },
   {
    "duration": 18743,
    "start_time": "2021-06-17T06:31:19.443Z"
   },
   {
    "duration": 22,
    "start_time": "2021-06-17T06:31:40.394Z"
   },
   {
    "duration": 1676,
    "start_time": "2021-06-17T06:32:40.486Z"
   },
   {
    "duration": 39,
    "start_time": "2021-06-17T06:32:42.165Z"
   },
   {
    "duration": 11,
    "start_time": "2021-06-17T06:32:42.207Z"
   },
   {
    "duration": 20,
    "start_time": "2021-06-17T06:32:42.221Z"
   },
   {
    "duration": 26,
    "start_time": "2021-06-17T06:32:42.243Z"
   },
   {
    "duration": 18,
    "start_time": "2021-06-17T06:32:42.272Z"
   },
   {
    "duration": 16,
    "start_time": "2021-06-17T06:32:42.293Z"
   },
   {
    "duration": 14,
    "start_time": "2021-06-17T06:32:42.311Z"
   },
   {
    "duration": 834,
    "start_time": "2021-06-17T06:32:42.329Z"
   },
   {
    "duration": 263,
    "start_time": "2021-06-17T06:32:43.166Z"
   },
   {
    "duration": 20,
    "start_time": "2021-06-17T06:32:43.431Z"
   },
   {
    "duration": 7,
    "start_time": "2021-06-17T06:32:43.454Z"
   },
   {
    "duration": 44,
    "start_time": "2021-06-17T06:32:43.463Z"
   },
   {
    "duration": 45,
    "start_time": "2021-06-17T06:32:43.509Z"
   },
   {
    "duration": 29,
    "start_time": "2021-06-17T06:32:43.557Z"
   },
   {
    "duration": 1950,
    "start_time": "2021-06-17T06:32:43.589Z"
   },
   {
    "duration": 9,
    "start_time": "2021-06-17T06:32:45.541Z"
   },
   {
    "duration": 32665,
    "start_time": "2021-06-17T06:32:45.552Z"
   },
   {
    "duration": 9,
    "start_time": "2021-06-17T06:33:18.219Z"
   },
   {
    "duration": 33285,
    "start_time": "2021-06-17T06:33:18.231Z"
   },
   {
    "duration": 17,
    "start_time": "2021-06-17T06:33:51.518Z"
   },
   {
    "duration": 19449,
    "start_time": "2021-06-17T06:33:51.538Z"
   },
   {
    "duration": 110,
    "start_time": "2021-06-17T06:34:10.991Z"
   },
   {
    "duration": 12,
    "start_time": "2021-06-17T06:34:11.103Z"
   },
   {
    "duration": 7,
    "start_time": "2021-06-17T06:34:11.118Z"
   },
   {
    "duration": 7,
    "start_time": "2021-06-17T06:34:11.127Z"
   },
   {
    "duration": 70,
    "start_time": "2021-06-17T06:34:11.139Z"
   },
   {
    "duration": 273,
    "start_time": "2021-06-17T06:34:11.213Z"
   },
   {
    "duration": 254,
    "start_time": "2021-06-17T06:34:11.488Z"
   },
   {
    "duration": 61,
    "start_time": "2021-06-17T06:34:11.745Z"
   },
   {
    "duration": 21,
    "start_time": "2021-06-17T06:34:11.808Z"
   },
   {
    "duration": 708,
    "start_time": "2021-06-17T06:34:11.832Z"
   },
   {
    "duration": 281,
    "start_time": "2021-06-17T06:34:12.542Z"
   },
   {
    "duration": 2597,
    "start_time": "2021-06-17T06:34:12.825Z"
   },
   {
    "duration": 7,
    "start_time": "2021-06-17T06:34:15.425Z"
   },
   {
    "duration": 46299,
    "start_time": "2021-06-17T06:34:15.434Z"
   },
   {
    "duration": 7,
    "start_time": "2021-06-17T06:35:01.735Z"
   },
   {
    "duration": 1072,
    "start_time": "2021-06-17T06:35:01.744Z"
   },
   {
    "duration": 7,
    "start_time": "2021-06-17T06:35:02.818Z"
   },
   {
    "duration": 19916,
    "start_time": "2021-06-17T06:35:02.827Z"
   },
   {
    "duration": 20,
    "start_time": "2021-06-17T06:35:22.745Z"
   },
   {
    "duration": 1223,
    "start_time": "2021-06-17T06:35:22.767Z"
   },
   {
    "duration": -1743,
    "start_time": "2021-06-17T06:35:25.735Z"
   },
   {
    "duration": -1751,
    "start_time": "2021-06-17T06:35:25.745Z"
   },
   {
    "duration": -1755,
    "start_time": "2021-06-17T06:35:25.750Z"
   },
   {
    "duration": 12,
    "start_time": "2021-06-17T06:41:58.390Z"
   },
   {
    "duration": 6,
    "start_time": "2021-06-17T06:45:08.085Z"
   },
   {
    "duration": 6,
    "start_time": "2021-06-17T06:46:09.781Z"
   },
   {
    "duration": 26,
    "start_time": "2021-06-17T06:47:56.418Z"
   },
   {
    "duration": -1716,
    "start_time": "2021-06-17T06:48:32.805Z"
   },
   {
    "duration": 252,
    "start_time": "2021-06-17T06:48:32.618Z"
   },
   {
    "duration": 621,
    "start_time": "2021-06-17T06:48:47.572Z"
   },
   {
    "duration": 636,
    "start_time": "2021-06-17T06:49:00.451Z"
   },
   {
    "duration": 27,
    "start_time": "2021-06-17T06:49:15.042Z"
   },
   {
    "duration": 250,
    "start_time": "2021-06-17T06:49:17.595Z"
   },
   {
    "duration": 842,
    "start_time": "2021-06-17T06:49:25.642Z"
   },
   {
    "duration": 26,
    "start_time": "2021-06-17T06:49:32.076Z"
   },
   {
    "duration": 238,
    "start_time": "2021-06-17T06:49:34.018Z"
   },
   {
    "duration": 225,
    "start_time": "2021-06-17T06:50:32.043Z"
   },
   {
    "duration": 247,
    "start_time": "2021-06-17T06:50:39.602Z"
   },
   {
    "duration": 171,
    "start_time": "2021-06-17T06:50:47.265Z"
   },
   {
    "duration": 218,
    "start_time": "2021-06-17T06:50:53.481Z"
   },
   {
    "duration": 196,
    "start_time": "2021-06-17T06:51:01.128Z"
   },
   {
    "duration": 206,
    "start_time": "2021-06-17T06:51:09.096Z"
   },
   {
    "duration": 208,
    "start_time": "2021-06-17T06:51:15.057Z"
   },
   {
    "duration": 232,
    "start_time": "2021-06-17T06:52:50.542Z"
   },
   {
    "duration": 323,
    "start_time": "2021-06-17T06:52:52.923Z"
   },
   {
    "duration": 52,
    "start_time": "2021-06-17T06:53:29.881Z"
   },
   {
    "duration": 22,
    "start_time": "2021-06-17T06:54:46.032Z"
   },
   {
    "duration": 347,
    "start_time": "2021-06-17T06:58:30.863Z"
   },
   {
    "duration": 9,
    "start_time": "2021-06-17T06:58:40.535Z"
   },
   {
    "duration": 23,
    "start_time": "2021-06-17T06:58:45.020Z"
   },
   {
    "duration": 23,
    "start_time": "2021-06-17T06:58:54.084Z"
   },
   {
    "duration": 1973,
    "start_time": "2021-06-17T07:02:29.921Z"
   },
   {
    "duration": 406,
    "start_time": "2021-06-17T07:02:38.818Z"
   },
   {
    "duration": 1491,
    "start_time": "2021-06-17T07:03:19.416Z"
   },
   {
    "duration": 37,
    "start_time": "2021-06-17T07:03:20.910Z"
   },
   {
    "duration": 11,
    "start_time": "2021-06-17T07:03:20.949Z"
   },
   {
    "duration": 25,
    "start_time": "2021-06-17T07:03:20.962Z"
   },
   {
    "duration": 20,
    "start_time": "2021-06-17T07:03:20.990Z"
   },
   {
    "duration": 17,
    "start_time": "2021-06-17T07:03:21.013Z"
   },
   {
    "duration": 22,
    "start_time": "2021-06-17T07:03:21.032Z"
   },
   {
    "duration": 18,
    "start_time": "2021-06-17T07:03:21.058Z"
   },
   {
    "duration": 829,
    "start_time": "2021-06-17T07:03:21.079Z"
   },
   {
    "duration": 252,
    "start_time": "2021-06-17T07:03:21.911Z"
   },
   {
    "duration": 28,
    "start_time": "2021-06-17T07:03:22.165Z"
   },
   {
    "duration": 7,
    "start_time": "2021-06-17T07:03:22.195Z"
   },
   {
    "duration": 21,
    "start_time": "2021-06-17T07:03:22.204Z"
   },
   {
    "duration": 72,
    "start_time": "2021-06-17T07:03:22.227Z"
   },
   {
    "duration": 5,
    "start_time": "2021-06-17T07:03:22.301Z"
   },
   {
    "duration": 1940,
    "start_time": "2021-06-17T07:03:22.308Z"
   },
   {
    "duration": 8,
    "start_time": "2021-06-17T07:03:24.250Z"
   },
   {
    "duration": 32139,
    "start_time": "2021-06-17T07:03:24.260Z"
   },
   {
    "duration": 9,
    "start_time": "2021-06-17T07:03:56.402Z"
   },
   {
    "duration": 33973,
    "start_time": "2021-06-17T07:03:56.413Z"
   },
   {
    "duration": 18,
    "start_time": "2021-06-17T07:04:30.389Z"
   },
   {
    "duration": 19678,
    "start_time": "2021-06-17T07:04:30.409Z"
   },
   {
    "duration": 109,
    "start_time": "2021-06-17T07:04:50.095Z"
   },
   {
    "duration": 13,
    "start_time": "2021-06-17T07:04:50.207Z"
   },
   {
    "duration": 6,
    "start_time": "2021-06-17T07:04:50.222Z"
   },
   {
    "duration": 7,
    "start_time": "2021-06-17T07:04:50.230Z"
   },
   {
    "duration": 68,
    "start_time": "2021-06-17T07:04:50.240Z"
   },
   {
    "duration": 235,
    "start_time": "2021-06-17T07:04:50.310Z"
   },
   {
    "duration": 230,
    "start_time": "2021-06-17T07:04:50.547Z"
   },
   {
    "duration": 2715,
    "start_time": "2021-06-17T07:04:50.779Z"
   },
   {
    "duration": 23,
    "start_time": "2021-06-17T07:04:53.496Z"
   },
   {
    "duration": 1037,
    "start_time": "2021-06-17T07:04:53.521Z"
   },
   {
    "duration": 34,
    "start_time": "2021-06-17T07:04:54.561Z"
   },
   {
    "duration": 47072,
    "start_time": "2021-06-17T07:04:54.598Z"
   },
   {
    "duration": 33,
    "start_time": "2021-06-17T07:05:41.672Z"
   },
   {
    "duration": 20466,
    "start_time": "2021-06-17T07:05:41.707Z"
   },
   {
    "duration": 37,
    "start_time": "2021-06-17T07:06:02.175Z"
   },
   {
    "duration": 456,
    "start_time": "2021-06-17T07:06:02.215Z"
   },
   {
    "duration": 1056,
    "start_time": "2021-06-17T07:06:02.673Z"
   },
   {
    "duration": 419,
    "start_time": "2021-06-17T07:06:03.731Z"
   },
   {
    "duration": 33910,
    "start_time": "2021-06-17T07:06:04.153Z"
   },
   {
    "duration": -3243,
    "start_time": "2021-06-17T07:10:31.533Z"
   },
   {
    "duration": -1794,
    "start_time": "2021-06-17T07:11:28.116Z"
   },
   {
    "duration": -1775,
    "start_time": "2021-06-17T07:12:20.049Z"
   },
   {
    "duration": -1770,
    "start_time": "2021-06-17T07:14:07.682Z"
   },
   {
    "duration": -1772,
    "start_time": "2021-06-17T07:14:07.687Z"
   },
   {
    "duration": 20105,
    "start_time": "2021-06-17T07:14:08.687Z"
   },
   {
    "duration": 18761,
    "start_time": "2021-06-17T07:14:41.128Z"
   },
   {
    "duration": 20080,
    "start_time": "2021-06-17T07:15:35.407Z"
   },
   {
    "duration": 3864,
    "start_time": "2021-06-17T07:16:29.621Z"
   },
   {
    "duration": 73034,
    "start_time": "2021-06-17T07:16:55.357Z"
   },
   {
    "duration": 19977,
    "start_time": "2021-06-17T07:18:37.311Z"
   },
   {
    "duration": 19910,
    "start_time": "2021-06-17T07:19:20.277Z"
   },
   {
    "duration": 19385,
    "start_time": "2021-06-17T07:20:00.605Z"
   },
   {
    "duration": 4,
    "start_time": "2021-06-17T07:21:19.644Z"
   },
   {
    "duration": 3,
    "start_time": "2021-06-17T07:21:21.508Z"
   },
   {
    "duration": 375,
    "start_time": "2021-06-17T07:25:21.934Z"
   },
   {
    "duration": 44670,
    "start_time": "2021-06-17T07:26:49.557Z"
   },
   {
    "duration": 8,
    "start_time": "2021-06-17T07:29:36.051Z"
   },
   {
    "duration": 1640,
    "start_time": "2021-06-17T07:37:05.361Z"
   },
   {
    "duration": 38,
    "start_time": "2021-06-17T07:37:07.004Z"
   },
   {
    "duration": 10,
    "start_time": "2021-06-17T07:37:07.045Z"
   },
   {
    "duration": 27,
    "start_time": "2021-06-17T07:37:07.058Z"
   },
   {
    "duration": 20,
    "start_time": "2021-06-17T07:37:07.088Z"
   },
   {
    "duration": 6,
    "start_time": "2021-06-17T07:37:07.110Z"
   },
   {
    "duration": 13,
    "start_time": "2021-06-17T07:37:07.118Z"
   },
   {
    "duration": 7,
    "start_time": "2021-06-17T07:37:07.133Z"
   },
   {
    "duration": 873,
    "start_time": "2021-06-17T07:37:07.146Z"
   },
   {
    "duration": 272,
    "start_time": "2021-06-17T07:37:08.024Z"
   },
   {
    "duration": 19,
    "start_time": "2021-06-17T07:37:08.298Z"
   },
   {
    "duration": 7,
    "start_time": "2021-06-17T07:37:08.320Z"
   },
   {
    "duration": 21,
    "start_time": "2021-06-17T07:37:08.329Z"
   },
   {
    "duration": 54,
    "start_time": "2021-06-17T07:37:08.385Z"
   },
   {
    "duration": 4,
    "start_time": "2021-06-17T07:37:08.442Z"
   },
   {
    "duration": 1990,
    "start_time": "2021-06-17T07:37:08.449Z"
   },
   {
    "duration": 8,
    "start_time": "2021-06-17T07:37:10.442Z"
   },
   {
    "duration": 32022,
    "start_time": "2021-06-17T07:37:10.452Z"
   },
   {
    "duration": 13,
    "start_time": "2021-06-17T07:37:42.477Z"
   },
   {
    "duration": 32369,
    "start_time": "2021-06-17T07:37:42.493Z"
   },
   {
    "duration": 38,
    "start_time": "2021-06-17T07:38:14.866Z"
   },
   {
    "duration": 19280,
    "start_time": "2021-06-17T07:38:14.908Z"
   },
   {
    "duration": 116,
    "start_time": "2021-06-17T07:38:34.192Z"
   },
   {
    "duration": 17,
    "start_time": "2021-06-17T07:38:34.311Z"
   },
   {
    "duration": 5,
    "start_time": "2021-06-17T07:38:34.331Z"
   },
   {
    "duration": 10,
    "start_time": "2021-06-17T07:38:34.339Z"
   },
   {
    "duration": 28,
    "start_time": "2021-06-17T07:38:34.387Z"
   },
   {
    "duration": 210,
    "start_time": "2021-06-17T07:38:34.417Z"
   },
   {
    "duration": 221,
    "start_time": "2021-06-17T07:38:34.629Z"
   },
   {
    "duration": 2450,
    "start_time": "2021-06-17T07:38:34.852Z"
   },
   {
    "duration": 8,
    "start_time": "2021-06-17T07:38:37.305Z"
   },
   {
    "duration": 1001,
    "start_time": "2021-06-17T07:38:37.315Z"
   },
   {
    "duration": 9,
    "start_time": "2021-06-17T07:38:38.318Z"
   },
   {
    "duration": 44312,
    "start_time": "2021-06-17T07:38:38.329Z"
   },
   {
    "duration": 9,
    "start_time": "2021-06-17T07:39:22.643Z"
   },
   {
    "duration": 19060,
    "start_time": "2021-06-17T07:39:22.655Z"
   },
   {
    "duration": 27,
    "start_time": "2021-06-17T07:39:41.717Z"
   },
   {
    "duration": 9,
    "start_time": "2021-06-17T07:39:41.747Z"
   },
   {
    "duration": 407,
    "start_time": "2021-06-17T07:39:41.785Z"
   },
   {
    "duration": 887,
    "start_time": "2021-06-17T07:39:42.195Z"
   },
   {
    "duration": 405,
    "start_time": "2021-06-17T07:39:43.086Z"
   },
   {
    "duration": 391,
    "start_time": "2021-06-17T07:45:42.387Z"
   },
   {
    "duration": 411,
    "start_time": "2021-06-17T07:45:58.474Z"
   },
   {
    "duration": 412,
    "start_time": "2021-06-17T07:46:20.295Z"
   },
   {
    "duration": 395,
    "start_time": "2021-06-17T07:46:34.682Z"
   }
  ],
  "celltoolbar": "Отсутствует",
  "kernelspec": {
   "display_name": "Python 3 (ipykernel)",
   "language": "python",
   "name": "python3"
  },
  "language_info": {
   "codemirror_mode": {
    "name": "ipython",
    "version": 3
   },
   "file_extension": ".py",
   "mimetype": "text/x-python",
   "name": "python",
   "nbconvert_exporter": "python",
   "pygments_lexer": "ipython3",
   "version": "3.9.5"
  },
  "toc": {
   "base_numbering": 1,
   "nav_menu": {},
   "number_sections": true,
   "sideBar": false,
   "skip_h1_title": true,
   "title_cell": "Содержание",
   "title_sidebar": "Contents",
   "toc_cell": true,
   "toc_position": {
    "height": "589.778px",
    "left": "27px",
    "top": "109.778px",
    "width": "271.389px"
   },
   "toc_section_display": true,
   "toc_window_display": true
  }
 },
 "nbformat": 4,
 "nbformat_minor": 2
}
