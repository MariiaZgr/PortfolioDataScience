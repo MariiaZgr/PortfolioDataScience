{
 "cells": [
  {
   "cell_type": "markdown",
   "metadata": {
    "toc": true
   },
   "source": [
    "\n",
    "<h1>Содержание<span class=\"tocSkip\"></span></h1>\n",
    "\n",
    "<div class=\"toc\"><li><span><a href=\"#Подготовка\" data-toc-modified-id=\"Подготовка-1\"><span class=\"toc-item-num\">1&nbsp;&nbsp;</span>Подготовка</a></span><ul class=\"toc-item\"><li><span><a href=\"#TF-IDF\" data-toc-modified-id=\"TF-IDF-1.1\"><span class=\"toc-item-num\">1.1&nbsp;&nbsp;</span>TF-IDF</a></span></li></ul></li><li><span><a href=\"#Обучение-моделей\" data-toc-modified-id=\"Обучение-моделей-2\"><span class=\"toc-item-num\">2&nbsp;&nbsp;</span>Обучение моделей</a></span><ul class=\"toc-item\"><li><span><a href=\"#LogisticRegression\" data-toc-modified-id=\"LogisticRegression-2.1\"><span class=\"toc-item-num\">2.1&nbsp;&nbsp;</span>LogisticRegression</a></span></li><li><span><a href=\"#LGBMClassifier\" data-toc-modified-id=\"LGBMClassifier-2.2\"><span class=\"toc-item-num\">2.2&nbsp;&nbsp;</span>LGBMClassifier</a></span></li><li><span><a href=\"#CatBoost\" data-toc-modified-id=\"CatBoost-2.3\"><span class=\"toc-item-num\">2.3&nbsp;&nbsp;</span>CatBoost</a></span></li><li><span><a href=\"#DecisionTreeClassifier\" data-toc-modified-id=\"DecisionTreeClassifier-2.4\"><span class=\"toc-item-num\">2.4&nbsp;&nbsp;</span>DecisionTreeClassifier</a></span></li></ul></li><li><span><a href=\"#BERT\" data-toc-modified-id=\"BERT-3\"><span class=\"toc-item-num\">3&nbsp;&nbsp;</span>BERT</a></span></li><li><span><a href=\"#Выводы\" data-toc-modified-id=\"Выводы-4\"><span class=\"toc-item-num\">4&nbsp;&nbsp;</span>Выводы</a></span></li><li><span><a href=\"#Чек-лист-проверки\" data-toc-modified-id=\"Чек-лист-проверки-5\"><span class=\"toc-item-num\">5&nbsp;&nbsp;</span>Чек-лист проверки</a></span></li></ul></div>"
   ]
  },
  {
   "cell_type": "markdown",
   "metadata": {},
   "source": [
    "# Проект для «Викишоп»"
   ]
  },
  {
   "cell_type": "markdown",
   "metadata": {},
   "source": [
    "Интернет-магазин «Викишоп» запускает новый сервис. Теперь пользователи могут редактировать и дополнять описания товаров, как в вики-сообществах. То есть клиенты предлагают свои правки и комментируют изменения других. Магазину нужен инструмент, который будет искать токсичные комментарии и отправлять их на модерацию. \n",
    "\n",
    "Обучите модель классифицировать комментарии на позитивные и негативные. В вашем распоряжении набор данных с разметкой о токсичности правок.\n",
    "\n",
    "Постройте модель со значением метрики качества *F1* не меньше 0.75. \n",
    "\n",
    "**Инструкция по выполнению проекта**\n",
    "\n",
    "1. Загрузите и подготовьте данные.\n",
    "2. Обучите разные модели. \n",
    "3. Сделайте выводы.\n",
    "\n",
    "Для выполнения проекта применять *BERT* необязательно, но вы можете попробовать.\n",
    "\n",
    "**Описание данных**\n",
    "\n",
    "Данные находятся в файле `toxic_comments.csv`. Столбец *text* в нём содержит текст комментария, а *toxic* — целевой признак."
   ]
  },
  {
   "cell_type": "code",
   "execution_count": 2,
   "metadata": {},
   "outputs": [],
   "source": [
    "import pandas as pd\n",
    "import numpy as np\n",
    "import time\n",
    "from sklearn.feature_extraction.text import TfidfVectorizer\n",
    "import nltk\n",
    "from nltk.corpus import stopwords as nltk_stopwords\n",
    "\n",
    "\n",
    "import torch\n",
    "import transformers\n",
    "import spacy\n",
    "\n",
    "from pymystem3 import Mystem\n",
    "m = Mystem() \n",
    "import re \n",
    "from sklearn.feature_extraction.text import CountVectorizer \n",
    "import matplotlib.pyplot as plt\n",
    "import seaborn as sns\n",
    "sns.set(style=\"whitegrid\")\n",
    "\n",
    "import warnings\n",
    "warnings.filterwarnings('ignore')\n",
    "from sklearn.pipeline import Pipeline\n",
    "\n",
    "from lightgbm import LGBMClassifier\n",
    "from catboost import CatBoostClassifier\n",
    "from sklearn.tree import DecisionTreeClassifier\n",
    "from sklearn.ensemble import RandomForestClassifier\n",
    "from sklearn.linear_model import LogisticRegression\n",
    "from sklearn.model_selection import train_test_split\n",
    "from sklearn.dummy import DummyClassifier\n",
    "from sklearn.preprocessing import StandardScaler \n",
    "from sklearn.model_selection import GridSearchCV\n",
    "\n",
    "from sklearn.metrics import accuracy_score\n",
    "from sklearn.metrics import confusion_matrix\n",
    "from sklearn.metrics import f1_score\n",
    "from sklearn.metrics import precision_score, recall_score\n",
    "from sklearn.utils import shuffle"
   ]
  },
  {
   "cell_type": "code",
   "execution_count": 214,
   "metadata": {},
   "outputs": [],
   "source": [
    "# Install spaCy (run in terminal/prompt)\n",
    "#import sys\n",
    "#!{sys.executable} -m pip install spacy\n",
    "# Download spaCy's  'en' Model\n",
    "#!{sys.executable} -m spacy download en"
   ]
  },
  {
   "cell_type": "code",
   "execution_count": null,
   "metadata": {},
   "outputs": [],
   "source": [
    "#nltk.download('stopwords') "
   ]
  },
  {
   "cell_type": "markdown",
   "metadata": {},
   "source": [
    "Табличка для записи метрик"
   ]
  },
  {
   "cell_type": "code",
   "execution_count": 3,
   "metadata": {},
   "outputs": [],
   "source": [
    "d = {'F1 обучения': [], 'F1 предсказания':[]}   \n",
    "          \n",
    "summary_table = pd.DataFrame(data=d)\n",
    "def write_summary_table (col, row, f):\n",
    "    if row == 0:\n",
    "        row = 'F1 обучения'\n",
    "    if row == 1:\n",
    "        row = 'F1 предсказания'    \n",
    "    summary_table.loc[col, row] = f"
   ]
  },
  {
   "cell_type": "markdown",
   "metadata": {},
   "source": [
    "## Подготовка"
   ]
  },
  {
   "cell_type": "code",
   "execution_count": 5,
   "metadata": {},
   "outputs": [],
   "source": [
    "toxic_comments = pd.read_csv('/datasets/toxic_comments.csv')\n"
   ]
  },
  {
   "cell_type": "markdown",
   "metadata": {},
   "source": [
    "Изучим данные таблицы. "
   ]
  },
  {
   "cell_type": "code",
   "execution_count": 21,
   "metadata": {},
   "outputs": [
    {
     "name": "stdout",
     "output_type": "stream",
     "text": [
      "<class 'pandas.core.frame.DataFrame'>\n",
      "RangeIndex: 159571 entries, 0 to 159570\n",
      "Data columns (total 2 columns):\n",
      "text     159571 non-null object\n",
      "toxic    159571 non-null int64\n",
      "dtypes: int64(1), object(1)\n",
      "memory usage: 2.4+ MB\n"
     ]
    }
   ],
   "source": [
    "toxic_comments.info()"
   ]
  },
  {
   "cell_type": "code",
   "execution_count": 22,
   "metadata": {},
   "outputs": [
    {
     "data": {
      "text/html": [
       "<div>\n",
       "<style scoped>\n",
       "    .dataframe tbody tr th:only-of-type {\n",
       "        vertical-align: middle;\n",
       "    }\n",
       "\n",
       "    .dataframe tbody tr th {\n",
       "        vertical-align: top;\n",
       "    }\n",
       "\n",
       "    .dataframe thead th {\n",
       "        text-align: right;\n",
       "    }\n",
       "</style>\n",
       "<table border=\"1\" class=\"dataframe\">\n",
       "  <thead>\n",
       "    <tr style=\"text-align: right;\">\n",
       "      <th></th>\n",
       "      <th>text</th>\n",
       "      <th>toxic</th>\n",
       "    </tr>\n",
       "  </thead>\n",
       "  <tbody>\n",
       "    <tr>\n",
       "      <td>0</td>\n",
       "      <td>Explanation\\nWhy the edits made under my usern...</td>\n",
       "      <td>0</td>\n",
       "    </tr>\n",
       "    <tr>\n",
       "      <td>1</td>\n",
       "      <td>D'aww! He matches this background colour I'm s...</td>\n",
       "      <td>0</td>\n",
       "    </tr>\n",
       "    <tr>\n",
       "      <td>2</td>\n",
       "      <td>Hey man, I'm really not trying to edit war. It...</td>\n",
       "      <td>0</td>\n",
       "    </tr>\n",
       "    <tr>\n",
       "      <td>3</td>\n",
       "      <td>\"\\nMore\\nI can't make any real suggestions on ...</td>\n",
       "      <td>0</td>\n",
       "    </tr>\n",
       "    <tr>\n",
       "      <td>4</td>\n",
       "      <td>You, sir, are my hero. Any chance you remember...</td>\n",
       "      <td>0</td>\n",
       "    </tr>\n",
       "    <tr>\n",
       "      <td>5</td>\n",
       "      <td>\"\\n\\nCongratulations from me as well, use the ...</td>\n",
       "      <td>0</td>\n",
       "    </tr>\n",
       "    <tr>\n",
       "      <td>6</td>\n",
       "      <td>COCKSUCKER BEFORE YOU PISS AROUND ON MY WORK</td>\n",
       "      <td>1</td>\n",
       "    </tr>\n",
       "    <tr>\n",
       "      <td>7</td>\n",
       "      <td>Your vandalism to the Matt Shirvington article...</td>\n",
       "      <td>0</td>\n",
       "    </tr>\n",
       "    <tr>\n",
       "      <td>8</td>\n",
       "      <td>Sorry if the word 'nonsense' was offensive to ...</td>\n",
       "      <td>0</td>\n",
       "    </tr>\n",
       "    <tr>\n",
       "      <td>9</td>\n",
       "      <td>alignment on this subject and which are contra...</td>\n",
       "      <td>0</td>\n",
       "    </tr>\n",
       "  </tbody>\n",
       "</table>\n",
       "</div>"
      ],
      "text/plain": [
       "                                                text  toxic\n",
       "0  Explanation\\nWhy the edits made under my usern...      0\n",
       "1  D'aww! He matches this background colour I'm s...      0\n",
       "2  Hey man, I'm really not trying to edit war. It...      0\n",
       "3  \"\\nMore\\nI can't make any real suggestions on ...      0\n",
       "4  You, sir, are my hero. Any chance you remember...      0\n",
       "5  \"\\n\\nCongratulations from me as well, use the ...      0\n",
       "6       COCKSUCKER BEFORE YOU PISS AROUND ON MY WORK      1\n",
       "7  Your vandalism to the Matt Shirvington article...      0\n",
       "8  Sorry if the word 'nonsense' was offensive to ...      0\n",
       "9  alignment on this subject and which are contra...      0"
      ]
     },
     "execution_count": 22,
     "metadata": {},
     "output_type": "execute_result"
    }
   ],
   "source": [
    "toxic_comments.head(10)"
   ]
  },
  {
   "cell_type": "markdown",
   "metadata": {},
   "source": [
    "Таблица содержит 159571  строк текста на английском языке со служебными символами. Необходимо очистить их от лишнего и лемматизировать."
   ]
  },
  {
   "cell_type": "markdown",
   "metadata": {},
   "source": [
    "Функция, оставляющая только буквы"
   ]
  },
  {
   "cell_type": "code",
   "execution_count": 23,
   "metadata": {},
   "outputs": [],
   "source": [
    "def clear_text(text):\n",
    "    clear = re.sub(r'[^a-zA-Z]', ' ', text)        \n",
    "    clear = clear.split()\n",
    "    clear_text = \" \".join(clear)\n",
    "    return clear_text"
   ]
  },
  {
   "cell_type": "markdown",
   "metadata": {},
   "source": [
    "Для лемматизации будем использовать модуль spacy."
   ]
  },
  {
   "cell_type": "code",
   "execution_count": 24,
   "metadata": {},
   "outputs": [],
   "source": [
    "nlp = spacy.load('en_core_web_sm')\n",
    "\n",
    "def lemmatize_spacy(sentence):    \n",
    "    doc = nlp(sentence)\n",
    "    lemm_text = \" \".join([token.lemma_ for token in doc])\n",
    "    return lemm_text"
   ]
  },
  {
   "cell_type": "code",
   "execution_count": 25,
   "metadata": {},
   "outputs": [],
   "source": [
    "toxic_comments['clear_text'] = toxic_comments['text'].apply(lambda x: clear_text(x))"
   ]
  },
  {
   "cell_type": "code",
   "execution_count": 26,
   "metadata": {},
   "outputs": [
    {
     "name": "stdout",
     "output_type": "stream",
     "text": [
      "3302.5543735027313\n",
      "CPU times: user 48min 41s, sys: 9.62 s, total: 48min 51s\n",
      "Wall time: 55min 2s\n"
     ]
    }
   ],
   "source": [
    "%%time\n",
    "start = time.time()\n",
    "toxic_comments['lemm_text'] = toxic_comments['clear_text'].apply(lambda x: lemmatize_spacy(x))\n",
    "end = time.time()\n",
    "print(end-start)"
   ]
  },
  {
   "cell_type": "markdown",
   "metadata": {},
   "source": [
    "Итоги запишем себе в файл, чтобы не пересчитывать. "
   ]
  },
  {
   "cell_type": "code",
   "execution_count": 27,
   "metadata": {},
   "outputs": [],
   "source": [
    "toxic_comments.to_csv('lemm_text.csv', index=False)"
   ]
  },
  {
   "cell_type": "code",
   "execution_count": 23,
   "metadata": {},
   "outputs": [],
   "source": [
    "toxic_comments = pd.read_csv('lemm_text.csv')"
   ]
  },
  {
   "cell_type": "code",
   "execution_count": 24,
   "metadata": {},
   "outputs": [
    {
     "name": "stdout",
     "output_type": "stream",
     "text": [
      "Исходный текст: Explanation\n",
      "Why the edits made under my username Hardcore Metallica Fan were reverted? They weren't vandalisms, just closure on some GAs after I voted at New York Dolls FAC. And please don't remove the template from the talk page since I'm retired now.89.205.38.27\n",
      "Лемматизированный текст: explanation why the edit make under -PRON- username Hardcore Metallica Fan be revert -PRON- weren t vandalism just closure on some gas after -PRON- vote at New York Dolls FAC and please don t remove the template from the talk page since -PRON- m retire now\n"
     ]
    }
   ],
   "source": [
    "print(\"Исходный текст:\", toxic_comments['text'][0])\n",
    "print(\"Лемматизированный текст:\", toxic_comments['lemm_text'][0])"
   ]
  },
  {
   "cell_type": "markdown",
   "metadata": {},
   "source": [
    "Получили текст, готовый к анализу. "
   ]
  },
  {
   "cell_type": "markdown",
   "metadata": {},
   "source": [
    "Рассмотрим распределение целевого признака."
   ]
  },
  {
   "cell_type": "code",
   "execution_count": 26,
   "metadata": {},
   "outputs": [
    {
     "name": "stdout",
     "output_type": "stream",
     "text": [
      "0    143346\n",
      "1     16225\n",
      "Name: toxic, dtype: int64\n"
     ]
    },
    {
     "data": {
      "text/plain": [
       "<matplotlib.axes._subplots.AxesSubplot at 0x7f210413d0d0>"
      ]
     },
     "execution_count": 26,
     "metadata": {},
     "output_type": "execute_result"
    },
    {
     "data": {
      "image/png": "[encoded data removed]",
      "text/plain": [
       "<Figure size 432x288 with 1 Axes>"
      ]
     },
     "metadata": {},
     "output_type": "display_data"
    }
   ],
   "source": [
    "class_frequency = toxic_comments['toxic'].value_counts()\n",
    "print(class_frequency)\n",
    "class_frequency.plot(kind='bar') "
   ]
  },
  {
   "cell_type": "markdown",
   "metadata": {},
   "source": [
    "Признак не сбалансирован, что может помешать обучению модели. Количество позитивных комментариев в девять раз больше негативных."
   ]
  },
  {
   "cell_type": "markdown",
   "metadata": {},
   "source": [
    "### TF-IDF ###"
   ]
  },
  {
   "cell_type": "markdown",
   "metadata": {},
   "source": [
    "Для обучения модели преобразуем тексты в векторную форму. <br>\n",
    "Столбец признаков будет являться корпусом слов, который мы трансформируем в матрицу и посчитаем величину TF-IDF."
   ]
  },
  {
   "cell_type": "markdown",
   "metadata": {},
   "source": [
    "Создадим переменные для признака и целевого признака."
   ]
  },
  {
   "cell_type": "code",
   "execution_count": 27,
   "metadata": {},
   "outputs": [],
   "source": [
    "toxic_comments = toxic_comments.dropna()"
   ]
  },
  {
   "cell_type": "code",
   "execution_count": 28,
   "metadata": {},
   "outputs": [
    {
     "name": "stdout",
     "output_type": "stream",
     "text": [
      "<class 'pandas.core.frame.DataFrame'>\n",
      "Int64Index: 159564 entries, 0 to 159570\n",
      "Data columns (total 4 columns):\n",
      "text          159564 non-null object\n",
      "toxic         159564 non-null int64\n",
      "clear_text    159564 non-null object\n",
      "lemm_text     159564 non-null object\n",
      "dtypes: int64(1), object(3)\n",
      "memory usage: 6.1+ MB\n"
     ]
    }
   ],
   "source": [
    "toxic_comments.info()"
   ]
  },
  {
   "cell_type": "code",
   "execution_count": 29,
   "metadata": {},
   "outputs": [],
   "source": [
    "features = toxic_comments['lemm_text']\n",
    "target = toxic_comments['toxic']"
   ]
  },
  {
   "cell_type": "markdown",
   "metadata": {},
   "source": [
    "Разобьем датасет на обучающую и тестовую выборку в соотношении 80-20"
   ]
  },
  {
   "cell_type": "code",
   "execution_count": 30,
   "metadata": {},
   "outputs": [
    {
     "name": "stdout",
     "output_type": "stream",
     "text": [
      "Размер обучающей выборки: 127651\n",
      "Размер тестовой выборки: 31913\n"
     ]
    }
   ],
   "source": [
    "train_corpus, test_corpus, target_train, target_test = train_test_split(features,target,test_size=0.2)\n",
    "\n",
    "print('Размер обучающей выборки:', len(train_corpus))\n",
    "print('Размер тестовой выборки:', len(test_corpus))"
   ]
  },
  {
   "cell_type": "markdown",
   "metadata": {},
   "source": [
    "Создадим счётчик стоп-слов (слов без смысловой нагрузки)"
   ]
  },
  {
   "cell_type": "code",
   "execution_count": 31,
   "metadata": {},
   "outputs": [],
   "source": [
    "stopwords = set(nltk_stopwords.words('english'))"
   ]
  },
  {
   "cell_type": "markdown",
   "metadata": {},
   "source": [
    "Создадим счетчик tf_idf, который выделит из корпуса уникальные слова и посчитает количество их вхождений в каждом тексте корпуса. "
   ]
  },
  {
   "cell_type": "code",
   "execution_count": 32,
   "metadata": {},
   "outputs": [],
   "source": [
    "tf_idf = TfidfVectorizer(stop_words=stopwords, lowercase=True, min_df=0.0001)\n",
    "features_train = tf_idf.fit_transform(train_corpus)\n",
    "features_test = tf_idf.transform(test_corpus)\n"
   ]
  },
  {
   "cell_type": "code",
   "execution_count": 33,
   "metadata": {},
   "outputs": [
    {
     "data": {
      "text/plain": [
       "(127651, 13312)"
      ]
     },
     "execution_count": 33,
     "metadata": {},
     "output_type": "execute_result"
    }
   ],
   "source": [
    "features_train.shape"
   ]
  },
  {
   "cell_type": "code",
   "execution_count": 34,
   "metadata": {},
   "outputs": [
    {
     "data": {
      "text/plain": [
       "(127651,)"
      ]
     },
     "execution_count": 34,
     "metadata": {},
     "output_type": "execute_result"
    }
   ],
   "source": [
    "target_train.shape"
   ]
  },
  {
   "cell_type": "markdown",
   "metadata": {},
   "source": [
    "## Обучение моделей ##"
   ]
  },
  {
   "cell_type": "markdown",
   "metadata": {},
   "source": [
    "Рассмотрим результат работы модели без балансировки классов. Для эксперимента возьмем логистическую регрессию. "
   ]
  },
  {
   "cell_type": "code",
   "execution_count": 36,
   "metadata": {},
   "outputs": [
    {
     "name": "stdout",
     "output_type": "stream",
     "text": [
      "F1: 0.7572989432204907\n"
     ]
    }
   ],
   "source": [
    "model = LogisticRegression()\n",
    "parameters = {'solver': ['liblinear']}\n",
    "\n",
    "grid = GridSearchCV(model, parameters, cv = None, scoring = 'f1')\n",
    "grid.fit(features_train, target_train)\n",
    "predicted_test = grid.predict(features_test)\n",
    "print(\"F1:\", f1_score(target_test, predicted_test))"
   ]
  },
  {
   "cell_type": "markdown",
   "metadata": {},
   "source": [
    "Метрика f1 достигла 75, что в принципе является минимальным допустимым для нас результатом. "
   ]
  },
  {
   "cell_type": "markdown",
   "metadata": {},
   "source": [
    "<div class=\"alert alert-block alert-info\">\n",
    "<b>Совет: </b> Напомню, что внутри кросс-валидации происходих разбиение выборки на треин и валидацию. Однако, в таком случае векторизатор обучен на всей выборке, а это не совсем корректно. Для избежания такого эффекта можно использовать <a href=\"https://scikit-learn.org/stable/modules/generated/sklearn.pipeline.Pipeline.html\">пайплайн</a>.\n",
    "</div>"
   ]
  },
  {
   "cell_type": "markdown",
   "metadata": {},
   "source": [
    "Попробуем увеличить качество модели с помощью взвешивания классов."
   ]
  },
  {
   "cell_type": "code",
   "execution_count": 37,
   "metadata": {},
   "outputs": [
    {
     "name": "stdout",
     "output_type": "stream",
     "text": [
      "F1: 0.7360308285163776\n"
     ]
    }
   ],
   "source": [
    "model = LogisticRegression()\n",
    "parameters = {'solver': ['liblinear'], 'class_weight': ['balanced']}\n",
    "grid = GridSearchCV(model, parameters, cv = None, scoring = 'f1')\n",
    "grid.fit(features_train, target_train)\n",
    "predicted_test = grid.predict(features_test)\n",
    "print(\"F1:\", f1_score(target_test, predicted_test))"
   ]
  },
  {
   "cell_type": "markdown",
   "metadata": {},
   "source": [
    "Лучше не стало"
   ]
  },
  {
   "cell_type": "markdown",
   "metadata": {},
   "source": [
    "Попробуем уменьшить число позитивных комментариев. Можно было бы увеличить число отрицательных, но датасет слишком разрастется. <br>\n",
    "Если приравнять число позитивных комментариев к негативным, мы потеряем большую часть данных. <br>\n",
    "Попробуем отрезать только часть позитивных, например, оставим одну треть из них. <br>"
   ]
  },
  {
   "cell_type": "code",
   "execution_count": 41,
   "metadata": {},
   "outputs": [],
   "source": [
    "def downsample(features, target, fraction):\n",
    "    features_zeros = features[target == 0]\n",
    "    features_ones = features[target == 1]\n",
    "    target_zeros = target[target == 0]\n",
    "    target_ones = target[target == 1]\n",
    "\n",
    "    features_downsampled = pd.concat(\n",
    "        [features_zeros.sample(frac=fraction)] + [features_ones])\n",
    "    \n",
    "    target_downsampled = pd.concat(\n",
    "        [target_zeros.sample(frac=fraction)] + [target_ones])\n",
    "    \n",
    "    features_downsampled, target_downsampled = shuffle(\n",
    "        features_downsampled, target_downsampled)\n",
    "    \n",
    "    return features_downsampled, target_downsampled"
   ]
  },
  {
   "cell_type": "code",
   "execution_count": 45,
   "metadata": {},
   "outputs": [],
   "source": [
    "features_downsampled, target_downsampled = downsample(train_corpus, target_train, 0.3)"
   ]
  },
  {
   "cell_type": "code",
   "execution_count": 46,
   "metadata": {},
   "outputs": [],
   "source": [
    "tf_idf = TfidfVectorizer(stop_words=stopwords, lowercase=True, min_df=0.0001)\n",
    "features_downsampled = tf_idf.fit_transform(features_downsampled)\n",
    "features_test = tf_idf.transform(test_corpus)"
   ]
  },
  {
   "cell_type": "code",
   "execution_count": 47,
   "metadata": {},
   "outputs": [
    {
     "name": "stdout",
     "output_type": "stream",
     "text": [
      "0    34419\n",
      "1    12921\n",
      "Name: toxic, dtype: int64\n"
     ]
    },
    {
     "data": {
      "text/plain": [
       "<matplotlib.axes._subplots.AxesSubplot at 0x7f2111543890>"
      ]
     },
     "execution_count": 47,
     "metadata": {},
     "output_type": "execute_result"
    },
    {
     "data": {
      "image/png": "[encoded data removed]",
      "text/plain": [
       "<Figure size 432x288 with 1 Axes>"
      ]
     },
     "metadata": {},
     "output_type": "display_data"
    }
   ],
   "source": [
    "class_frequency = target_downsampled.value_counts(normalize=False)\n",
    "print(class_frequency)\n",
    "class_frequency.plot(kind='bar') "
   ]
  },
  {
   "cell_type": "markdown",
   "metadata": {},
   "source": [
    "Далее обучим модели на признаках features_downsampled"
   ]
  },
  {
   "cell_type": "markdown",
   "metadata": {},
   "source": [
    "### LogisticRegression ###"
   ]
  },
  {
   "cell_type": "code",
   "execution_count": 62,
   "metadata": {},
   "outputs": [],
   "source": [
    "model = LogisticRegression()\n",
    "parameters = {'solver': ['liblinear']}"
   ]
  },
  {
   "cell_type": "code",
   "execution_count": 63,
   "metadata": {},
   "outputs": [
    {
     "name": "stdout",
     "output_type": "stream",
     "text": [
      "0.8131030961259177\n",
      "{'solver': 'liblinear'}\n",
      "LogisticRegression(C=1.0, class_weight=None, dual=False, fit_intercept=True,\n",
      "                   intercept_scaling=1, l1_ratio=None, max_iter=100,\n",
      "                   multi_class='warn', n_jobs=None, penalty='l2',\n",
      "                   random_state=None, solver='liblinear', tol=0.0001, verbose=0,\n",
      "                   warm_start=False)\n"
     ]
    }
   ],
   "source": [
    "grid = GridSearchCV(model, parameters, cv = None, scoring = 'f1')\n",
    "grid.fit(features_downsampled, target_downsampled)\n",
    "print(grid.best_score_)\n",
    "print(grid.best_params_)\n",
    "print(grid.best_estimator_)\n",
    "\n",
    "write_summary_table('LogisticRegression', 0, grid.best_score_)"
   ]
  },
  {
   "cell_type": "code",
   "execution_count": 64,
   "metadata": {},
   "outputs": [
    {
     "name": "stdout",
     "output_type": "stream",
     "text": [
      "0.7733623098416641\n"
     ]
    }
   ],
   "source": [
    "f1 = f1_score(grid.predict(features_test),target_test)\n",
    "print(f1)\n",
    "write_summary_table('LogisticRegression', 1, f1)"
   ]
  },
  {
   "cell_type": "markdown",
   "metadata": {},
   "source": [
    "### LGBMClassifier ###"
   ]
  },
  {
   "cell_type": "code",
   "execution_count": 51,
   "metadata": {},
   "outputs": [],
   "source": [
    "model = LGBMClassifier()\n",
    "parameters = {\n",
    "   # 'objective':['binary'],\n",
    "    #'num_leaves': [31]\n",
    "    'n_estimators': [100]\n",
    "     \n",
    "}"
   ]
  },
  {
   "cell_type": "code",
   "execution_count": 52,
   "metadata": {},
   "outputs": [
    {
     "name": "stdout",
     "output_type": "stream",
     "text": [
      "0.8232249500772805\n",
      "{'n_estimators': 100}\n",
      "LGBMClassifier(boosting_type='gbdt', class_weight=None, colsample_bytree=1.0,\n",
      "               importance_type='split', learning_rate=0.1, max_depth=-1,\n",
      "               min_child_samples=20, min_child_weight=0.001, min_split_gain=0.0,\n",
      "               n_estimators=100, n_jobs=-1, num_leaves=31, objective=None,\n",
      "               random_state=None, reg_alpha=0.0, reg_lambda=0.0, silent=True,\n",
      "               subsample=1.0, subsample_for_bin=200000, subsample_freq=0)\n"
     ]
    }
   ],
   "source": [
    "grid = GridSearchCV(model, parameters, cv = None, scoring = 'f1')\n",
    "grid.fit(features_downsampled, target_downsampled)\n",
    "print(grid.best_score_)\n",
    "print(grid.best_params_)\n",
    "print(grid.best_estimator_)\n",
    "\n",
    "write_summary_table('LGBM', 0, grid.best_score_)\n"
   ]
  },
  {
   "cell_type": "code",
   "execution_count": 53,
   "metadata": {},
   "outputs": [
    {
     "name": "stdout",
     "output_type": "stream",
     "text": [
      "0.7768930523028884\n"
     ]
    }
   ],
   "source": [
    "f1 = f1_score(grid.predict(features_test),target_test)\n",
    "print(f1)\n",
    "write_summary_table('LGBM', 1, f1)"
   ]
  },
  {
   "cell_type": "markdown",
   "metadata": {},
   "source": [
    "###  CatBoost ### "
   ]
  },
  {
   "cell_type": "code",
   "execution_count": 54,
   "metadata": {},
   "outputs": [],
   "source": [
    "model = CatBoostClassifier()\n",
    "\n",
    "parameters = {    \n",
    "   # 'learning_rate': [0.1],\n",
    "    'iterations': [100], #[40, 60, 100, 200, 500]\n",
    "    #depth': [10],  #[5, 7, 10]    \n",
    "    'verbose': [200]\n",
    "}\n"
   ]
  },
  {
   "cell_type": "code",
   "execution_count": 55,
   "metadata": {},
   "outputs": [
    {
     "name": "stdout",
     "output_type": "stream",
     "text": [
      "Learning rate set to 0.346242\n",
      "0:\tlearn: 0.5465961\ttotal: 1.57s\tremaining: 2m 35s\n",
      "99:\tlearn: 0.2008827\ttotal: 2m 4s\tremaining: 0us\n",
      "Learning rate set to 0.346242\n",
      "0:\tlearn: 0.5503247\ttotal: 1.38s\tremaining: 2m 17s\n",
      "99:\tlearn: 0.2027491\ttotal: 2m 5s\tremaining: 0us\n",
      "Learning rate set to 0.346242\n",
      "0:\tlearn: 0.5428245\ttotal: 1.23s\tremaining: 2m 2s\n",
      "99:\tlearn: 0.2020647\ttotal: 2m 4s\tremaining: 0us\n",
      "Learning rate set to 0.388341\n",
      "0:\tlearn: 0.5269324\ttotal: 2.11s\tremaining: 3m 28s\n",
      "99:\tlearn: 0.2011569\ttotal: 2m 44s\tremaining: 0us\n",
      "0.812264866260424\n",
      "{'iterations': 100, 'verbose': 200}\n",
      "<catboost.core.CatBoostClassifier object at 0x7f21040bd1d0>\n"
     ]
    }
   ],
   "source": [
    "grid = GridSearchCV(model, parameters, cv = None, scoring = 'f1')\n",
    "grid.fit(features_downsampled, target_downsampled)\n",
    "print(grid.best_score_)\n",
    "print(grid.best_params_)\n",
    "print(grid.best_estimator_)\n",
    "write_summary_table('CatBoost', 0, grid.best_score_)"
   ]
  },
  {
   "cell_type": "code",
   "execution_count": 56,
   "metadata": {},
   "outputs": [
    {
     "name": "stdout",
     "output_type": "stream",
     "text": [
      "0.7710843373493977\n"
     ]
    }
   ],
   "source": [
    "f1 = f1_score(grid.predict(features_test),target_test)\n",
    "print(f1)\n",
    "write_summary_table('CatBoost', 1, f1)"
   ]
  },
  {
   "cell_type": "markdown",
   "metadata": {},
   "source": [
    "### DecisionTreeClassifier ###"
   ]
  },
  {
   "cell_type": "code",
   "execution_count": 58,
   "metadata": {},
   "outputs": [],
   "source": [
    "model = DecisionTreeClassifier()\n",
    "\n",
    "parameters = {'max_depth': range(4,16,2)}"
   ]
  },
  {
   "cell_type": "code",
   "execution_count": 59,
   "metadata": {},
   "outputs": [
    {
     "name": "stdout",
     "output_type": "stream",
     "text": [
      "0.6602913478860803\n",
      "{'max_depth': 14}\n",
      "DecisionTreeClassifier(class_weight=None, criterion='gini', max_depth=14,\n",
      "                       max_features=None, max_leaf_nodes=None,\n",
      "                       min_impurity_decrease=0.0, min_impurity_split=None,\n",
      "                       min_samples_leaf=1, min_samples_split=2,\n",
      "                       min_weight_fraction_leaf=0.0, presort=False,\n",
      "                       random_state=None, splitter='best')\n"
     ]
    }
   ],
   "source": [
    "\n",
    "grid = GridSearchCV(model, parameters, cv = None, scoring = 'f1')\n",
    "grid.fit(features_downsampled, target_downsampled)\n",
    "print(grid.best_score_)\n",
    "print(grid.best_params_)\n",
    "print(grid.best_estimator_)\n",
    "write_summary_table('DecisionTreeClassifier', 0, grid.best_score_)"
   ]
  },
  {
   "cell_type": "code",
   "execution_count": 60,
   "metadata": {},
   "outputs": [
    {
     "name": "stdout",
     "output_type": "stream",
     "text": [
      "0.6433748373908196\n"
     ]
    }
   ],
   "source": [
    "f1 = f1_score(grid.predict(features_test),target_test)\n",
    "print(f1)\n",
    "write_summary_table('DecisionTreeClassifier', 1, f1)"
   ]
  },
  {
   "cell_type": "code",
   "execution_count": 65,
   "metadata": {},
   "outputs": [
    {
     "data": {
      "text/html": [
       "<div>\n",
       "<style scoped>\n",
       "    .dataframe tbody tr th:only-of-type {\n",
       "        vertical-align: middle;\n",
       "    }\n",
       "\n",
       "    .dataframe tbody tr th {\n",
       "        vertical-align: top;\n",
       "    }\n",
       "\n",
       "    .dataframe thead th {\n",
       "        text-align: right;\n",
       "    }\n",
       "</style>\n",
       "<table border=\"1\" class=\"dataframe\">\n",
       "  <thead>\n",
       "    <tr style=\"text-align: right;\">\n",
       "      <th></th>\n",
       "      <th>F1 обучения</th>\n",
       "      <th>F1 предсказания</th>\n",
       "    </tr>\n",
       "  </thead>\n",
       "  <tbody>\n",
       "    <tr>\n",
       "      <td>LogisticRegression</td>\n",
       "      <td>0.813103</td>\n",
       "      <td>0.773362</td>\n",
       "    </tr>\n",
       "    <tr>\n",
       "      <td>LGBM</td>\n",
       "      <td>0.823225</td>\n",
       "      <td>0.776893</td>\n",
       "    </tr>\n",
       "    <tr>\n",
       "      <td>CatBoost</td>\n",
       "      <td>0.812265</td>\n",
       "      <td>0.771084</td>\n",
       "    </tr>\n",
       "    <tr>\n",
       "      <td>DecisionTreeClassifier</td>\n",
       "      <td>0.660291</td>\n",
       "      <td>0.643375</td>\n",
       "    </tr>\n",
       "  </tbody>\n",
       "</table>\n",
       "</div>"
      ],
      "text/plain": [
       "                        F1 обучения  F1 предсказания\n",
       "LogisticRegression         0.813103         0.773362\n",
       "LGBM                       0.823225         0.776893\n",
       "CatBoost                   0.812265         0.771084\n",
       "DecisionTreeClassifier     0.660291         0.643375"
      ]
     },
     "execution_count": 65,
     "metadata": {},
     "output_type": "execute_result"
    }
   ],
   "source": [
    "summary_table"
   ]
  },
  {
   "cell_type": "markdown",
   "metadata": {},
   "source": [
    "## BERT ##"
   ]
  },
  {
   "cell_type": "markdown",
   "metadata": {},
   "source": [
    "https://colab.research.google.com/drive/1EFARdmEiY76uqLP0BCtWZchlF9c3kN1u?usp=sharing"
   ]
  },
  {
   "cell_type": "markdown",
   "metadata": {},
   "source": [
    "## Выводы"
   ]
  },
  {
   "cell_type": "markdown",
   "metadata": {},
   "source": [
    "Мы лемматизировали текст, трансформировали текстовую колонку в матрицу и посчитали величину TF-IDF. <br>\n",
    "Обучили модели классифицировать комментарии на позитивные и токсичные.  <br>\n",
    "Лучшие результаты показала модель логистической регрессии, для нее достаточным оказалось только очистить и лемматизировать исходные данные, чтобы получить метрику качества F1 выше 0,75<br>\n",
    "На уменьшенной выборке хорошие метрики оказались у моделей классификации CatBoost (0,77) и LGBM (0,77). "
   ]
  }
 ],
 "metadata": {
  "ExecuteTimeLog": [
   {
    "duration": 1502,
    "start_time": "2021-09-01T12:24:04.030Z"
   },
   {
    "duration": 2940,
    "start_time": "2021-09-01T12:24:36.993Z"
   },
   {
    "duration": 587,
    "start_time": "2021-09-01T12:27:06.277Z"
   },
   {
    "duration": 1432,
    "start_time": "2021-09-01T12:27:12.618Z"
   },
   {
    "duration": 614,
    "start_time": "2021-09-01T12:27:14.052Z"
   },
   {
    "duration": 16,
    "start_time": "2021-09-01T12:27:14.668Z"
   },
   {
    "duration": 6,
    "start_time": "2021-09-01T12:27:14.686Z"
   },
   {
    "duration": 5,
    "start_time": "2021-09-01T12:27:14.694Z"
   },
   {
    "duration": 699,
    "start_time": "2021-09-01T12:27:14.700Z"
   },
   {
    "duration": 3,
    "start_time": "2021-09-01T12:27:15.401Z"
   },
   {
    "duration": 3584,
    "start_time": "2021-09-01T12:27:15.407Z"
   },
   {
    "duration": 10,
    "start_time": "2021-09-01T12:27:18.993Z"
   },
   {
    "duration": 4,
    "start_time": "2021-09-01T12:27:19.005Z"
   },
   {
    "duration": 7069,
    "start_time": "2021-09-01T12:27:19.011Z"
   },
   {
    "duration": 199,
    "start_time": "2021-09-01T12:29:20.274Z"
   },
   {
    "duration": 6,
    "start_time": "2021-09-01T12:29:23.154Z"
   },
   {
    "duration": 5,
    "start_time": "2021-09-01T12:29:28.778Z"
   },
   {
    "duration": 617,
    "start_time": "2021-09-01T12:29:31.066Z"
   },
   {
    "duration": 12,
    "start_time": "2021-09-01T12:29:31.685Z"
   },
   {
    "duration": 4,
    "start_time": "2021-09-01T12:29:34.571Z"
   },
   {
    "duration": 655,
    "start_time": "2021-09-01T12:29:34.874Z"
   },
   {
    "duration": 3,
    "start_time": "2021-09-01T12:29:35.531Z"
   },
   {
    "duration": 3659,
    "start_time": "2021-09-01T12:29:35.536Z"
   },
   {
    "duration": 12,
    "start_time": "2021-09-01T12:29:39.197Z"
   },
   {
    "duration": 9,
    "start_time": "2021-09-01T12:29:39.210Z"
   },
   {
    "duration": 6889,
    "start_time": "2021-09-01T12:29:39.220Z"
   },
   {
    "duration": 1381,
    "start_time": "2021-09-01T15:01:17.083Z"
   },
   {
    "duration": 619,
    "start_time": "2021-09-01T15:01:18.465Z"
   },
   {
    "duration": 11,
    "start_time": "2021-09-01T15:01:19.088Z"
   },
   {
    "duration": 5,
    "start_time": "2021-09-01T15:01:19.100Z"
   },
   {
    "duration": 5,
    "start_time": "2021-09-01T15:01:19.106Z"
   },
   {
    "duration": 675,
    "start_time": "2021-09-01T15:01:19.112Z"
   },
   {
    "duration": 3,
    "start_time": "2021-09-01T15:01:19.790Z"
   },
   {
    "duration": 3944,
    "start_time": "2021-09-01T15:01:19.795Z"
   },
   {
    "duration": 12,
    "start_time": "2021-09-01T15:01:23.741Z"
   },
   {
    "duration": 7,
    "start_time": "2021-09-01T15:01:23.755Z"
   },
   {
    "duration": 7,
    "start_time": "2021-09-01T15:01:23.763Z"
   },
   {
    "duration": 7338,
    "start_time": "2021-09-01T15:01:23.772Z"
   },
   {
    "duration": 3,
    "start_time": "2021-09-01T15:01:31.111Z"
   },
   {
    "duration": 528,
    "start_time": "2021-09-01T15:01:31.115Z"
   },
   {
    "duration": -749,
    "start_time": "2021-09-01T15:01:32.394Z"
   },
   {
    "duration": -752,
    "start_time": "2021-09-01T15:01:32.398Z"
   },
   {
    "duration": -755,
    "start_time": "2021-09-01T15:01:32.402Z"
   },
   {
    "duration": -758,
    "start_time": "2021-09-01T15:01:32.406Z"
   },
   {
    "duration": 6,
    "start_time": "2021-09-01T15:46:06.186Z"
   },
   {
    "duration": 394,
    "start_time": "2021-09-01T15:46:09.630Z"
   },
   {
    "duration": 3,
    "start_time": "2021-09-01T15:47:11.974Z"
   },
   {
    "duration": 3,
    "start_time": "2021-09-01T15:47:13.589Z"
   },
   {
    "duration": 60,
    "start_time": "2021-09-01T15:47:14.229Z"
   },
   {
    "duration": 51,
    "start_time": "2021-09-01T15:47:20.365Z"
   },
   {
    "duration": 371,
    "start_time": "2021-09-01T15:47:41.711Z"
   },
   {
    "duration": 5139,
    "start_time": "2021-09-01T15:47:54.302Z"
   },
   {
    "duration": 399,
    "start_time": "2021-09-01T15:48:03.046Z"
   },
   {
    "duration": 3,
    "start_time": "2021-09-01T15:48:20.734Z"
   },
   {
    "duration": 3,
    "start_time": "2021-09-01T15:48:22.383Z"
   },
   {
    "duration": 43,
    "start_time": "2021-09-01T15:48:23.876Z"
   },
   {
    "duration": 5272,
    "start_time": "2021-09-01T16:00:02.260Z"
   },
   {
    "duration": 3,
    "start_time": "2021-09-01T16:00:07.534Z"
   },
   {
    "duration": 418,
    "start_time": "2021-09-01T16:00:07.539Z"
   },
   {
    "duration": 3,
    "start_time": "2021-09-01T16:01:23.878Z"
   },
   {
    "duration": 35,
    "start_time": "2021-09-01T16:01:28.510Z"
   },
   {
    "duration": 5328,
    "start_time": "2021-09-01T16:01:36.038Z"
   },
   {
    "duration": 5,
    "start_time": "2021-09-01T16:01:47.125Z"
   },
   {
    "duration": 4,
    "start_time": "2021-09-01T16:01:48.646Z"
   },
   {
    "duration": 460,
    "start_time": "2021-09-01T16:40:49.509Z"
   },
   {
    "duration": 9454,
    "start_time": "2021-09-01T16:40:59.790Z"
   },
   {
    "duration": 45,
    "start_time": "2021-09-01T16:42:30.978Z"
   },
   {
    "duration": 1324,
    "start_time": "2021-09-01T16:42:44.437Z"
   },
   {
    "duration": 4,
    "start_time": "2021-09-01T16:42:50.733Z"
   },
   {
    "duration": 1880,
    "start_time": "2021-09-01T16:46:31.957Z"
   },
   {
    "duration": 6,
    "start_time": "2021-09-01T16:48:59.642Z"
   },
   {
    "duration": 1464,
    "start_time": "2021-09-01T16:49:03.258Z"
   },
   {
    "duration": 4,
    "start_time": "2021-09-01T16:49:06.545Z"
   },
   {
    "duration": 132,
    "start_time": "2021-09-01T17:29:46.147Z"
   },
   {
    "duration": 414,
    "start_time": "2021-09-01T17:30:50.147Z"
   },
   {
    "duration": 26,
    "start_time": "2021-09-01T17:31:10.994Z"
   },
   {
    "duration": 303173,
    "start_time": "2021-09-01T17:31:16.522Z"
   },
   {
    "duration": -822,
    "start_time": "2021-09-01T17:36:20.519Z"
   },
   {
    "duration": 126,
    "start_time": "2021-09-01T17:36:25.642Z"
   },
   {
    "duration": 126,
    "start_time": "2021-09-01T17:36:34.573Z"
   },
   {
    "duration": 117,
    "start_time": "2021-09-01T17:36:48.455Z"
   },
   {
    "duration": 3322,
    "start_time": "2021-09-01T17:36:51.887Z"
   },
   {
    "duration": 37,
    "start_time": "2021-09-01T17:37:01.191Z"
   },
   {
    "duration": 2316,
    "start_time": "2021-09-01T17:38:11.943Z"
   },
   {
    "duration": 916,
    "start_time": "2021-09-01T17:38:24.807Z"
   },
   {
    "duration": 612,
    "start_time": "2021-09-01T18:48:00.408Z"
   },
   {
    "duration": 4350,
    "start_time": "2021-09-01T18:48:31.413Z"
   },
   {
    "duration": 164306,
    "start_time": "2021-09-01T18:48:35.765Z"
   },
   {
    "duration": -849,
    "start_time": "2021-09-01T18:51:20.922Z"
   },
   {
    "duration": -850,
    "start_time": "2021-09-01T18:51:20.924Z"
   },
   {
    "duration": -855,
    "start_time": "2021-09-01T18:51:20.930Z"
   },
   {
    "duration": -856,
    "start_time": "2021-09-01T18:51:20.932Z"
   },
   {
    "duration": -861,
    "start_time": "2021-09-01T18:51:20.938Z"
   },
   {
    "duration": 100,
    "start_time": "2021-09-01T18:55:28.394Z"
   },
   {
    "duration": 23607,
    "start_time": "2021-09-01T18:55:34.093Z"
   },
   {
    "duration": 6496,
    "start_time": "2021-09-01T18:57:46.498Z"
   },
   {
    "duration": -852,
    "start_time": "2021-09-01T18:57:53.852Z"
   },
   {
    "duration": -853,
    "start_time": "2021-09-01T18:57:53.854Z"
   },
   {
    "duration": -831,
    "start_time": "2021-09-01T18:57:53.921Z"
   },
   {
    "duration": -916,
    "start_time": "2021-09-01T18:57:54.020Z"
   },
   {
    "duration": -921,
    "start_time": "2021-09-01T18:57:54.026Z"
   },
   {
    "duration": -929,
    "start_time": "2021-09-01T18:57:54.035Z"
   },
   {
    "duration": -840,
    "start_time": "2021-09-01T18:57:54.039Z"
   },
   {
    "duration": -840,
    "start_time": "2021-09-01T18:57:54.041Z"
   },
   {
    "duration": -918,
    "start_time": "2021-09-01T18:57:54.121Z"
   },
   {
    "duration": -933,
    "start_time": "2021-09-01T18:57:54.137Z"
   },
   {
    "duration": -944,
    "start_time": "2021-09-01T18:57:54.149Z"
   },
   {
    "duration": -859,
    "start_time": "2021-09-01T18:57:54.151Z"
   },
   {
    "duration": -859,
    "start_time": "2021-09-01T18:57:54.153Z"
   },
   {
    "duration": -860,
    "start_time": "2021-09-01T18:57:54.155Z"
   },
   {
    "duration": -860,
    "start_time": "2021-09-01T18:57:54.157Z"
   },
   {
    "duration": -861,
    "start_time": "2021-09-01T18:57:54.159Z"
   },
   {
    "duration": -862,
    "start_time": "2021-09-01T18:57:54.161Z"
   },
   {
    "duration": -863,
    "start_time": "2021-09-01T18:57:54.163Z"
   },
   {
    "duration": -863,
    "start_time": "2021-09-01T18:57:54.165Z"
   },
   {
    "duration": -869,
    "start_time": "2021-09-01T18:57:54.172Z"
   },
   {
    "duration": -870,
    "start_time": "2021-09-01T18:57:54.174Z"
   },
   {
    "duration": -917,
    "start_time": "2021-09-01T18:57:54.223Z"
   },
   {
    "duration": -929,
    "start_time": "2021-09-01T18:57:54.236Z"
   },
   {
    "duration": -930,
    "start_time": "2021-09-01T18:57:54.238Z"
   },
   {
    "duration": -930,
    "start_time": "2021-09-01T18:57:54.240Z"
   },
   {
    "duration": -932,
    "start_time": "2021-09-01T18:57:54.243Z"
   },
   {
    "duration": -853,
    "start_time": "2021-09-01T18:57:54.245Z"
   },
   {
    "duration": -854,
    "start_time": "2021-09-01T18:57:54.247Z"
   },
   {
    "duration": -855,
    "start_time": "2021-09-01T18:57:54.249Z"
   },
   {
    "duration": 32698,
    "start_time": "2021-09-01T18:58:09.099Z"
   },
   {
    "duration": 6995,
    "start_time": "2021-09-01T18:58:41.799Z"
   },
   {
    "duration": 95,
    "start_time": "2021-09-01T18:58:48.796Z"
   },
   {
    "duration": 4,
    "start_time": "2021-09-01T18:58:48.894Z"
   },
   {
    "duration": 95,
    "start_time": "2021-09-01T18:58:48.901Z"
   },
   {
    "duration": 6194,
    "start_time": "2021-09-01T18:58:48.998Z"
   },
   {
    "duration": 3,
    "start_time": "2021-09-01T18:58:55.194Z"
   },
   {
    "duration": 38304,
    "start_time": "2021-09-01T18:58:55.200Z"
   },
   {
    "duration": 97,
    "start_time": "2021-09-01T18:59:33.506Z"
   },
   {
    "duration": 7,
    "start_time": "2021-09-01T18:59:33.605Z"
   },
   {
    "duration": 3,
    "start_time": "2021-09-01T18:59:33.614Z"
   },
   {
    "duration": 3,
    "start_time": "2021-09-01T18:59:33.692Z"
   },
   {
    "duration": 997,
    "start_time": "2021-09-01T18:59:33.698Z"
   },
   {
    "duration": 397,
    "start_time": "2021-09-01T18:59:34.698Z"
   },
   {
    "duration": 59703,
    "start_time": "2021-09-01T18:59:35.097Z"
   },
   {
    "duration": 5,
    "start_time": "2021-09-01T19:00:34.893Z"
   },
   {
    "duration": 97,
    "start_time": "2021-09-01T19:00:34.900Z"
   },
   {
    "duration": 25297,
    "start_time": "2021-09-01T19:00:35.000Z"
   },
   {
    "duration": 14708,
    "start_time": "2021-09-01T19:01:00.392Z"
   },
   {
    "duration": 3,
    "start_time": "2021-09-01T19:01:15.102Z"
   },
   {
    "duration": 85,
    "start_time": "2021-09-01T19:01:15.107Z"
   },
   {
    "duration": 2782,
    "start_time": "2021-09-01T19:01:15.195Z"
   },
   {
    "duration": 812,
    "start_time": "2021-09-01T19:01:17.980Z"
   },
   {
    "duration": 27,
    "start_time": "2021-09-01T19:01:18.794Z"
   },
   {
    "duration": 363,
    "start_time": "2021-09-01T19:01:18.822Z"
   },
   {
    "duration": 590,
    "start_time": "2021-09-01T19:04:15.702Z"
   },
   {
    "duration": 399,
    "start_time": "2021-09-01T20:13:51.590Z"
   },
   {
    "duration": 6001,
    "start_time": "2021-09-01T20:14:00.082Z"
   },
   {
    "duration": 892,
    "start_time": "2021-09-01T20:14:06.085Z"
   },
   {
    "duration": 17,
    "start_time": "2021-09-01T20:14:06.979Z"
   },
   {
    "duration": 3,
    "start_time": "2021-09-01T20:14:06.998Z"
   },
   {
    "duration": 5,
    "start_time": "2021-09-01T20:14:07.003Z"
   },
   {
    "duration": 702,
    "start_time": "2021-09-01T20:14:07.010Z"
   },
   {
    "duration": 4,
    "start_time": "2021-09-01T20:14:07.714Z"
   },
   {
    "duration": 3762,
    "start_time": "2021-09-01T20:14:07.720Z"
   },
   {
    "duration": 15,
    "start_time": "2021-09-01T20:14:11.484Z"
   },
   {
    "duration": 6,
    "start_time": "2021-09-01T20:14:11.500Z"
   },
   {
    "duration": 3,
    "start_time": "2021-09-01T20:14:11.507Z"
   },
   {
    "duration": 7,
    "start_time": "2021-09-01T20:14:11.512Z"
   },
   {
    "duration": 151,
    "start_time": "2021-09-01T20:14:11.521Z"
   },
   {
    "duration": 36,
    "start_time": "2021-09-01T20:14:11.674Z"
   },
   {
    "duration": 5228,
    "start_time": "2021-09-01T20:14:11.712Z"
   },
   {
    "duration": 4,
    "start_time": "2021-09-01T20:14:16.942Z"
   },
   {
    "duration": 6,
    "start_time": "2021-09-01T20:14:16.947Z"
   },
   {
    "duration": 9577,
    "start_time": "2021-09-01T20:14:16.954Z"
   },
   {
    "duration": 1214,
    "start_time": "2021-09-01T20:14:26.533Z"
   },
   {
    "duration": 3,
    "start_time": "2021-09-01T20:14:27.749Z"
   },
   {
    "duration": 8,
    "start_time": "2021-09-01T20:14:27.753Z"
   },
   {
    "duration": 2396,
    "start_time": "2021-09-01T20:14:27.762Z"
   },
   {
    "duration": 841,
    "start_time": "2021-09-01T20:14:30.161Z"
   },
   {
    "duration": 6,
    "start_time": "2021-09-01T20:20:11.440Z"
   },
   {
    "duration": 3,
    "start_time": "2021-09-01T20:32:26.435Z"
   },
   {
    "duration": 7,
    "start_time": "2021-09-01T20:32:48.106Z"
   },
   {
    "duration": 584,
    "start_time": "2021-09-01T20:32:48.275Z"
   },
   {
    "duration": 9,
    "start_time": "2021-09-01T20:32:48.861Z"
   },
   {
    "duration": 7,
    "start_time": "2021-09-01T20:32:48.872Z"
   },
   {
    "duration": 14,
    "start_time": "2021-09-01T20:32:48.881Z"
   },
   {
    "duration": 1929,
    "start_time": "2021-09-01T20:32:49.018Z"
   },
   {
    "duration": 3,
    "start_time": "2021-09-01T20:32:50.949Z"
   },
   {
    "duration": 4088,
    "start_time": "2021-09-01T20:32:50.954Z"
   },
   {
    "duration": 12,
    "start_time": "2021-09-01T20:32:55.044Z"
   },
   {
    "duration": 7,
    "start_time": "2021-09-01T20:32:55.057Z"
   },
   {
    "duration": 5,
    "start_time": "2021-09-01T20:32:55.065Z"
   },
   {
    "duration": 11,
    "start_time": "2021-09-01T20:32:55.072Z"
   },
   {
    "duration": 136,
    "start_time": "2021-09-01T20:32:55.092Z"
   },
   {
    "duration": 63,
    "start_time": "2021-09-01T20:32:55.230Z"
   },
   {
    "duration": 5257,
    "start_time": "2021-09-01T20:32:55.295Z"
   },
   {
    "duration": 122,
    "start_time": "2021-09-01T20:33:20.609Z"
   },
   {
    "duration": 32,
    "start_time": "2021-09-01T20:33:20.801Z"
   },
   {
    "duration": 5186,
    "start_time": "2021-09-01T20:33:20.969Z"
   },
   {
    "duration": 4,
    "start_time": "2021-09-01T20:33:26.156Z"
   },
   {
    "duration": 114,
    "start_time": "2021-09-01T20:33:54.681Z"
   },
   {
    "duration": 5267,
    "start_time": "2021-09-01T20:33:58.273Z"
   },
   {
    "duration": 4,
    "start_time": "2021-09-01T20:34:03.541Z"
   },
   {
    "duration": 8,
    "start_time": "2021-09-01T20:34:03.547Z"
   },
   {
    "duration": 4,
    "start_time": "2021-09-01T20:34:07.391Z"
   },
   {
    "duration": 11719,
    "start_time": "2021-09-01T20:39:24.877Z"
   },
   {
    "duration": 19800,
    "start_time": "2021-09-01T20:39:45.551Z"
   },
   {
    "duration": 21433,
    "start_time": "2021-09-01T20:40:22.509Z"
   },
   {
    "duration": 8830,
    "start_time": "2021-09-01T20:41:07.413Z"
   },
   {
    "duration": 16741,
    "start_time": "2021-09-01T20:41:23.848Z"
   },
   {
    "duration": 82865,
    "start_time": "2021-09-01T20:41:46.917Z"
   },
   {
    "duration": 9776,
    "start_time": "2021-09-01T20:51:16.854Z"
   },
   {
    "duration": 1188,
    "start_time": "2021-09-01T20:51:26.632Z"
   },
   {
    "duration": 33,
    "start_time": "2021-09-01T21:15:31.248Z"
   },
   {
    "duration": 6197,
    "start_time": "2021-09-01T21:15:31.977Z"
   },
   {
    "duration": 3,
    "start_time": "2021-09-01T21:19:43.687Z"
   },
   {
    "duration": 34414,
    "start_time": "2021-09-01T21:19:45.223Z"
   },
   {
    "duration": 34325,
    "start_time": "2021-09-01T21:21:25.305Z"
   },
   {
    "duration": 874,
    "start_time": "2021-09-01T21:21:59.634Z"
   },
   {
    "duration": 3,
    "start_time": "2021-09-01T21:24:21.237Z"
   },
   {
    "duration": 3,
    "start_time": "2021-09-01T21:24:21.443Z"
   },
   {
    "duration": 684,
    "start_time": "2021-09-01T21:24:21.659Z"
   },
   {
    "duration": 4,
    "start_time": "2021-09-01T21:24:22.345Z"
   },
   {
    "duration": 20,
    "start_time": "2021-09-01T21:24:22.351Z"
   },
   {
    "duration": 26,
    "start_time": "2021-09-01T21:24:22.373Z"
   },
   {
    "duration": 3,
    "start_time": "2021-09-01T21:24:22.454Z"
   },
   {
    "duration": 3,
    "start_time": "2021-09-01T21:24:22.658Z"
   },
   {
    "duration": 3,
    "start_time": "2021-09-01T21:24:23.326Z"
   },
   {
    "duration": 128,
    "start_time": "2021-09-01T21:24:24.236Z"
   },
   {
    "duration": 19,
    "start_time": "2021-09-01T21:24:25.555Z"
   },
   {
    "duration": 40,
    "start_time": "2021-09-01T21:24:27.483Z"
   },
   {
    "duration": 3,
    "start_time": "2021-09-01T21:24:28.002Z"
   },
   {
    "duration": 21,
    "start_time": "2021-09-01T21:24:29.500Z"
   },
   {
    "duration": 12,
    "start_time": "2021-09-01T21:24:47.501Z"
   },
   {
    "duration": 3,
    "start_time": "2021-09-01T21:24:50.490Z"
   },
   {
    "duration": 3,
    "start_time": "2021-09-01T21:24:50.700Z"
   },
   {
    "duration": 681,
    "start_time": "2021-09-01T21:24:50.881Z"
   },
   {
    "duration": 3,
    "start_time": "2021-09-01T21:24:51.564Z"
   },
   {
    "duration": 22,
    "start_time": "2021-09-01T21:24:51.569Z"
   },
   {
    "duration": 13,
    "start_time": "2021-09-01T21:24:51.635Z"
   },
   {
    "duration": 3,
    "start_time": "2021-09-01T21:24:51.867Z"
   },
   {
    "duration": 2,
    "start_time": "2021-09-01T21:24:52.084Z"
   },
   {
    "duration": 3,
    "start_time": "2021-09-01T21:24:52.458Z"
   },
   {
    "duration": 190,
    "start_time": "2021-09-01T21:24:52.874Z"
   },
   {
    "duration": 5,
    "start_time": "2021-09-01T21:24:53.431Z"
   },
   {
    "duration": 40,
    "start_time": "2021-09-01T21:24:53.769Z"
   },
   {
    "duration": 3,
    "start_time": "2021-09-01T21:24:54.116Z"
   },
   {
    "duration": 28,
    "start_time": "2021-09-01T21:24:54.545Z"
   },
   {
    "duration": 3,
    "start_time": "2021-09-01T21:25:21.850Z"
   },
   {
    "duration": 4,
    "start_time": "2021-09-01T21:25:27.602Z"
   },
   {
    "duration": 3,
    "start_time": "2021-09-01T21:25:27.811Z"
   },
   {
    "duration": 3,
    "start_time": "2021-09-01T21:25:28.202Z"
   },
   {
    "duration": 121,
    "start_time": "2021-09-01T21:25:28.538Z"
   },
   {
    "duration": 4,
    "start_time": "2021-09-01T21:25:28.898Z"
   },
   {
    "duration": 24,
    "start_time": "2021-09-01T21:25:29.232Z"
   },
   {
    "duration": 3,
    "start_time": "2021-09-01T21:25:29.465Z"
   },
   {
    "duration": 21,
    "start_time": "2021-09-01T21:25:29.711Z"
   },
   {
    "duration": 537,
    "start_time": "2021-09-01T21:25:41.299Z"
   },
   {
    "duration": 9,
    "start_time": "2021-09-01T21:25:42.018Z"
   },
   {
    "duration": 4,
    "start_time": "2021-09-01T21:25:44.026Z"
   },
   {
    "duration": 3,
    "start_time": "2021-09-01T21:25:44.226Z"
   },
   {
    "duration": 684,
    "start_time": "2021-09-01T21:25:44.387Z"
   },
   {
    "duration": 4,
    "start_time": "2021-09-01T21:25:45.073Z"
   },
   {
    "duration": 42,
    "start_time": "2021-09-01T21:25:45.079Z"
   },
   {
    "duration": 12,
    "start_time": "2021-09-01T21:25:45.810Z"
   },
   {
    "duration": 3,
    "start_time": "2021-09-01T21:25:47.018Z"
   },
   {
    "duration": 3,
    "start_time": "2021-09-01T21:25:49.986Z"
   },
   {
    "duration": 4,
    "start_time": "2021-09-01T21:25:51.745Z"
   },
   {
    "duration": 136,
    "start_time": "2021-09-01T21:25:52.834Z"
   },
   {
    "duration": 4,
    "start_time": "2021-09-01T21:25:54.833Z"
   },
   {
    "duration": 55,
    "start_time": "2021-09-01T21:25:55.562Z"
   },
   {
    "duration": 3,
    "start_time": "2021-09-01T21:25:57.049Z"
   },
   {
    "duration": 29,
    "start_time": "2021-09-01T21:25:58.216Z"
   },
   {
    "duration": 540,
    "start_time": "2021-09-01T21:26:20.053Z"
   },
   {
    "duration": 9,
    "start_time": "2021-09-01T21:26:22.323Z"
   },
   {
    "duration": 3,
    "start_time": "2021-09-01T21:26:29.474Z"
   },
   {
    "duration": 3,
    "start_time": "2021-09-01T21:26:31.858Z"
   },
   {
    "duration": 674,
    "start_time": "2021-09-01T21:26:32.226Z"
   },
   {
    "duration": 3,
    "start_time": "2021-09-01T21:26:35.107Z"
   },
   {
    "duration": 248,
    "start_time": "2021-09-01T21:26:41.449Z"
   },
   {
    "duration": 13,
    "start_time": "2021-09-01T21:26:43.002Z"
   },
   {
    "duration": 3,
    "start_time": "2021-09-01T21:26:51.602Z"
   },
   {
    "duration": 3,
    "start_time": "2021-09-01T21:26:52.049Z"
   },
   {
    "duration": 4,
    "start_time": "2021-09-01T21:26:53.880Z"
   },
   {
    "duration": 125,
    "start_time": "2021-09-01T21:26:54.929Z"
   },
   {
    "duration": 7,
    "start_time": "2021-09-01T21:26:57.266Z"
   },
   {
    "duration": 413,
    "start_time": "2021-09-01T21:26:57.688Z"
   },
   {
    "duration": 2,
    "start_time": "2021-09-01T21:26:58.106Z"
   },
   {
    "duration": 3169,
    "start_time": "2021-09-01T21:26:59.128Z"
   },
   {
    "duration": 5,
    "start_time": "2021-09-01T21:27:12.144Z"
   },
   {
    "duration": 411,
    "start_time": "2021-09-01T21:27:12.939Z"
   },
   {
    "duration": 3,
    "start_time": "2021-09-01T21:27:13.352Z"
   },
   {
    "duration": 1984,
    "start_time": "2021-09-01T21:27:13.410Z"
   },
   {
    "duration": 6,
    "start_time": "2021-09-01T21:27:19.425Z"
   },
   {
    "duration": 428,
    "start_time": "2021-09-01T21:27:19.632Z"
   },
   {
    "duration": 2,
    "start_time": "2021-09-01T21:27:20.062Z"
   },
   {
    "duration": 5527,
    "start_time": "2021-09-01T21:27:20.066Z"
   },
   {
    "duration": 515,
    "start_time": "2021-09-01T21:29:21.976Z"
   },
   {
    "duration": 3,
    "start_time": "2021-09-01T21:33:10.086Z"
   },
   {
    "duration": 7,
    "start_time": "2021-09-01T21:33:10.574Z"
   },
   {
    "duration": 427,
    "start_time": "2021-09-01T21:33:11.029Z"
   },
   {
    "duration": 3,
    "start_time": "2021-09-01T21:33:11.565Z"
   },
   {
    "duration": 4213,
    "start_time": "2021-09-01T21:33:12.086Z"
   },
   {
    "duration": 3695,
    "start_time": "2021-09-01T21:33:34.198Z"
   },
   {
    "duration": 3485,
    "start_time": "2021-09-01T21:33:42.807Z"
   },
   {
    "duration": 403,
    "start_time": "2021-09-01T21:35:23.790Z"
   },
   {
    "duration": 401,
    "start_time": "2021-09-01T21:38:08.803Z"
   },
   {
    "duration": 9,
    "start_time": "2021-09-01T21:39:11.138Z"
   },
   {
    "duration": 398,
    "start_time": "2021-09-01T21:39:17.011Z"
   },
   {
    "duration": 384,
    "start_time": "2021-09-01T21:39:29.577Z"
   },
   {
    "duration": 3,
    "start_time": "2021-09-01T21:39:45.725Z"
   },
   {
    "duration": 3,
    "start_time": "2021-09-01T21:39:51.729Z"
   },
   {
    "duration": 4,
    "start_time": "2021-09-01T21:40:05.193Z"
   },
   {
    "duration": 8,
    "start_time": "2021-09-01T21:40:05.784Z"
   },
   {
    "duration": 423,
    "start_time": "2021-09-01T21:40:06.344Z"
   },
   {
    "duration": 3,
    "start_time": "2021-09-01T21:40:11.413Z"
   },
   {
    "duration": 3990,
    "start_time": "2021-09-01T21:51:01.003Z"
   },
   {
    "duration": 522,
    "start_time": "2021-09-01T21:51:19.875Z"
   },
   {
    "duration": 9,
    "start_time": "2021-09-01T21:51:21.500Z"
   },
   {
    "duration": 3,
    "start_time": "2021-09-01T21:51:21.857Z"
   },
   {
    "duration": 2,
    "start_time": "2021-09-01T21:51:22.033Z"
   },
   {
    "duration": 698,
    "start_time": "2021-09-01T21:51:22.432Z"
   },
   {
    "duration": 3,
    "start_time": "2021-09-01T21:51:23.132Z"
   },
   {
    "duration": 3735,
    "start_time": "2021-09-01T21:51:23.137Z"
   },
   {
    "duration": 11,
    "start_time": "2021-09-01T21:51:26.874Z"
   },
   {
    "duration": 4,
    "start_time": "2021-09-01T21:51:26.887Z"
   },
   {
    "duration": 6,
    "start_time": "2021-09-01T21:51:26.893Z"
   },
   {
    "duration": 144,
    "start_time": "2021-09-01T21:51:26.901Z"
   },
   {
    "duration": 3,
    "start_time": "2021-09-01T21:51:27.047Z"
   },
   {
    "duration": 46,
    "start_time": "2021-09-01T21:51:27.052Z"
   },
   {
    "duration": 6328,
    "start_time": "2021-09-01T21:51:27.100Z"
   },
   {
    "duration": 2,
    "start_time": "2021-09-01T21:51:33.430Z"
   },
   {
    "duration": 34104,
    "start_time": "2021-09-01T21:51:33.434Z"
   },
   {
    "duration": 34053,
    "start_time": "2021-09-01T21:56:41.384Z"
   },
   {
    "duration": 6141,
    "start_time": "2021-09-01T22:06:06.234Z"
   },
   {
    "duration": 3,
    "start_time": "2021-09-01T22:06:12.377Z"
   },
   {
    "duration": 12,
    "start_time": "2021-09-01T22:06:12.382Z"
   },
   {
    "duration": 115,
    "start_time": "2021-09-01T22:11:43.517Z"
   },
   {
    "duration": 376,
    "start_time": "2021-09-01T22:11:54.903Z"
   },
   {
    "duration": 19,
    "start_time": "2021-09-01T22:14:26.459Z"
   },
   {
    "duration": 3,
    "start_time": "2021-09-01T22:14:41.637Z"
   },
   {
    "duration": 127,
    "start_time": "2021-09-01T22:14:50.949Z"
   },
   {
    "duration": 5647,
    "start_time": "2021-09-01T22:45:36.166Z"
   },
   {
    "duration": 794,
    "start_time": "2021-09-01T22:45:41.816Z"
   },
   {
    "duration": 22,
    "start_time": "2021-09-01T22:45:42.613Z"
   },
   {
    "duration": 29,
    "start_time": "2021-09-01T22:45:42.638Z"
   },
   {
    "duration": 8,
    "start_time": "2021-09-01T22:45:42.670Z"
   },
   {
    "duration": 7,
    "start_time": "2021-09-01T22:45:42.680Z"
   },
   {
    "duration": 8,
    "start_time": "2021-09-01T22:45:42.690Z"
   },
   {
    "duration": 5759,
    "start_time": "2021-09-01T22:45:42.703Z"
   },
   {
    "duration": 19,
    "start_time": "2021-09-01T22:45:48.465Z"
   },
   {
    "duration": 6,
    "start_time": "2021-09-01T22:45:48.486Z"
   },
   {
    "duration": 8,
    "start_time": "2021-09-01T22:45:48.494Z"
   },
   {
    "duration": 267,
    "start_time": "2021-09-01T22:45:48.504Z"
   },
   {
    "duration": 6,
    "start_time": "2021-09-01T22:45:48.773Z"
   },
   {
    "duration": 39,
    "start_time": "2021-09-01T22:45:48.781Z"
   },
   {
    "duration": 10474,
    "start_time": "2021-09-01T22:45:48.822Z"
   },
   {
    "duration": 5,
    "start_time": "2021-09-01T22:45:59.299Z"
   },
   {
    "duration": 7,
    "start_time": "2021-09-01T22:45:59.307Z"
   },
   {
    "duration": 4,
    "start_time": "2021-09-01T22:45:59.317Z"
   },
   {
    "duration": 176483,
    "start_time": "2021-09-01T22:45:59.324Z"
   },
   {
    "duration": 4,
    "start_time": "2021-09-01T22:52:31.450Z"
   },
   {
    "duration": 99813,
    "start_time": "2021-09-01T22:52:32.188Z"
   },
   {
    "duration": 855,
    "start_time": "2021-09-01T22:54:48.513Z"
   },
   {
    "duration": 330,
    "start_time": "2021-09-01T22:55:29.860Z"
   },
   {
    "duration": 449,
    "start_time": "2021-09-01T22:55:36.005Z"
   },
   {
    "duration": 513,
    "start_time": "2021-09-01T22:55:42.867Z"
   },
   {
    "duration": 257,
    "start_time": "2021-09-01T22:55:48.815Z"
   },
   {
    "duration": 5,
    "start_time": "2021-09-01T22:56:16.253Z"
   },
   {
    "duration": 249215,
    "start_time": "2021-09-01T22:56:16.973Z"
   },
   {
    "duration": 4,
    "start_time": "2021-09-01T23:00:26.191Z"
   },
   {
    "duration": 4,
    "start_time": "2021-09-01T23:03:11.914Z"
   },
   {
    "duration": 680579,
    "start_time": "2021-09-01T23:03:12.611Z"
   },
   {
    "duration": 793,
    "start_time": "2021-09-01T23:14:33.193Z"
   },
   {
    "duration": 5,
    "start_time": "2021-09-01T23:17:06.568Z"
   },
   {
    "duration": -958,
    "start_time": "2021-09-01T23:17:23.340Z"
   },
   {
    "duration": -962,
    "start_time": "2021-09-01T23:17:23.346Z"
   },
   {
    "duration": 5,
    "start_time": "2021-09-01T23:18:44.572Z"
   },
   {
    "duration": 13316,
    "start_time": "2021-09-01T23:18:44.811Z"
   },
   {
    "duration": -1000,
    "start_time": "2021-09-01T23:18:59.130Z"
   },
   {
    "duration": 5672,
    "start_time": "2021-09-01T23:23:20.361Z"
   },
   {
    "duration": 776,
    "start_time": "2021-09-01T23:23:26.035Z"
   },
   {
    "duration": 18,
    "start_time": "2021-09-01T23:23:26.814Z"
   },
   {
    "duration": 4,
    "start_time": "2021-09-01T23:23:26.835Z"
   },
   {
    "duration": 8,
    "start_time": "2021-09-01T23:23:26.841Z"
   },
   {
    "duration": 18,
    "start_time": "2021-09-01T23:23:26.851Z"
   },
   {
    "duration": 11,
    "start_time": "2021-09-01T23:23:26.871Z"
   },
   {
    "duration": 5750,
    "start_time": "2021-09-01T23:23:26.887Z"
   },
   {
    "duration": 16,
    "start_time": "2021-09-01T23:23:32.640Z"
   },
   {
    "duration": 3,
    "start_time": "2021-09-01T23:23:32.667Z"
   },
   {
    "duration": 11,
    "start_time": "2021-09-01T23:23:32.672Z"
   },
   {
    "duration": 247,
    "start_time": "2021-09-01T23:23:32.685Z"
   },
   {
    "duration": 6,
    "start_time": "2021-09-01T23:23:32.934Z"
   },
   {
    "duration": 54,
    "start_time": "2021-09-01T23:23:32.942Z"
   },
   {
    "duration": 10776,
    "start_time": "2021-09-01T23:23:32.999Z"
   },
   {
    "duration": 5,
    "start_time": "2021-09-01T23:23:43.777Z"
   },
   {
    "duration": 8,
    "start_time": "2021-09-01T23:23:43.784Z"
   },
   {
    "duration": 4,
    "start_time": "2021-09-01T23:23:43.795Z"
   },
   {
    "duration": 13801,
    "start_time": "2021-09-01T23:23:43.801Z"
   },
   {
    "duration": 80,
    "start_time": "2021-09-01T23:23:57.605Z"
   },
   {
    "duration": 3,
    "start_time": "2021-09-01T23:23:57.688Z"
   },
   {
    "duration": 374090,
    "start_time": "2021-09-01T23:23:57.693Z"
   },
   {
    "duration": 9715,
    "start_time": "2021-09-01T23:30:11.787Z"
   },
   {
    "duration": 881,
    "start_time": "2021-09-01T23:30:21.506Z"
   },
   {
    "duration": -958,
    "start_time": "2021-09-01T23:30:23.348Z"
   },
   {
    "duration": -974,
    "start_time": "2021-09-01T23:30:23.366Z"
   },
   {
    "duration": -980,
    "start_time": "2021-09-01T23:30:23.374Z"
   },
   {
    "duration": -983,
    "start_time": "2021-09-01T23:30:23.379Z"
   },
   {
    "duration": 18,
    "start_time": "2021-09-02T10:28:56.377Z"
   },
   {
    "duration": 2592,
    "start_time": "2021-09-02T10:30:13.008Z"
   },
   {
    "duration": 5,
    "start_time": "2021-09-02T10:30:56.795Z"
   },
   {
    "duration": 7,
    "start_time": "2021-09-02T10:31:30.520Z"
   },
   {
    "duration": 4,
    "start_time": "2021-09-02T10:36:33.452Z"
   },
   {
    "duration": 1497,
    "start_time": "2021-09-02T10:36:35.315Z"
   },
   {
    "duration": 1398,
    "start_time": "2021-09-02T10:37:09.188Z"
   },
   {
    "duration": 1130,
    "start_time": "2021-09-02T10:37:20.267Z"
   },
   {
    "duration": 1124,
    "start_time": "2021-09-02T10:37:35.923Z"
   },
   {
    "duration": 13545,
    "start_time": "2021-09-02T11:37:31.770Z"
   },
   {
    "duration": 6,
    "start_time": "2021-09-02T11:44:30.598Z"
   },
   {
    "duration": 5,
    "start_time": "2021-09-02T11:44:52.051Z"
   },
   {
    "duration": 5,
    "start_time": "2021-09-02T11:44:54.583Z"
   },
   {
    "duration": 841,
    "start_time": "2021-09-02T11:45:16.672Z"
   },
   {
    "duration": 8110,
    "start_time": "2021-09-02T11:45:48.941Z"
   },
   {
    "duration": 11,
    "start_time": "2021-09-02T11:46:18.670Z"
   },
   {
    "duration": 5,
    "start_time": "2021-09-02T11:46:18.957Z"
   },
   {
    "duration": 7274,
    "start_time": "2021-09-02T11:46:23.670Z"
   },
   {
    "duration": 2017,
    "start_time": "2021-09-02T11:46:52.001Z"
   },
   {
    "duration": 334,
    "start_time": "2021-09-02T11:47:45.798Z"
   },
   {
    "duration": 681,
    "start_time": "2021-09-02T11:47:56.287Z"
   },
   {
    "duration": 5,
    "start_time": "2021-09-02T11:48:00.404Z"
   },
   {
    "duration": 160912,
    "start_time": "2021-09-02T11:48:04.066Z"
   },
   {
    "duration": 4,
    "start_time": "2021-09-02T11:51:17.925Z"
   },
   {
    "duration": 1176,
    "start_time": "2021-09-02T11:51:24.860Z"
   },
   {
    "duration": 4,
    "start_time": "2021-09-02T11:51:26.040Z"
   },
   {
    "duration": 1285,
    "start_time": "2021-09-02T11:51:26.048Z"
   },
   {
    "duration": 6,
    "start_time": "2021-09-02T11:51:27.336Z"
   },
   {
    "duration": 497,
    "start_time": "2021-09-02T11:51:27.347Z"
   },
   {
    "duration": 30,
    "start_time": "2021-09-02T11:51:30.970Z"
   },
   {
    "duration": 6,
    "start_time": "2021-09-02T11:51:57.280Z"
   },
   {
    "duration": 7,
    "start_time": "2021-09-02T11:51:57.593Z"
   },
   {
    "duration": 17848,
    "start_time": "2021-09-02T11:51:57.888Z"
   },
   {
    "duration": 13,
    "start_time": "2021-09-02T11:52:15.739Z"
   },
   {
    "duration": 20,
    "start_time": "2021-09-02T11:52:55.712Z"
   },
   {
    "duration": 15,
    "start_time": "2021-09-02T11:56:18.207Z"
   },
   {
    "duration": 4,
    "start_time": "2021-09-02T11:56:18.517Z"
   },
   {
    "duration": 815,
    "start_time": "2021-09-02T11:56:18.806Z"
   },
   {
    "duration": 4,
    "start_time": "2021-09-02T11:56:19.624Z"
   },
   {
    "duration": 995,
    "start_time": "2021-09-02T11:56:19.732Z"
   },
   {
    "duration": 10,
    "start_time": "2021-09-02T11:56:21.597Z"
   },
   {
    "duration": 1313,
    "start_time": "2021-09-02T11:56:41.382Z"
   },
   {
    "duration": 8,
    "start_time": "2021-09-02T11:56:42.698Z"
   },
   {
    "duration": 501,
    "start_time": "2021-09-02T11:56:42.709Z"
   },
   {
    "duration": 15,
    "start_time": "2021-09-02T11:56:43.213Z"
   },
   {
    "duration": 913,
    "start_time": "2021-09-02T11:57:15.390Z"
   },
   {
    "duration": 11573,
    "start_time": "2021-09-02T11:57:30.685Z"
   },
   {
    "duration": 4,
    "start_time": "2021-09-02T11:58:03.572Z"
   },
   {
    "duration": 844,
    "start_time": "2021-09-02T11:58:06.374Z"
   },
   {
    "duration": 8,
    "start_time": "2021-09-02T11:58:07.221Z"
   },
   {
    "duration": 549,
    "start_time": "2021-09-02T11:58:07.296Z"
   },
   {
    "duration": 1422,
    "start_time": "2021-09-02T11:58:14.549Z"
   },
   {
    "duration": 8,
    "start_time": "2021-09-02T11:58:15.978Z"
   },
   {
    "duration": 1156,
    "start_time": "2021-09-02T11:58:16.525Z"
   },
   {
    "duration": 21,
    "start_time": "2021-09-02T11:58:17.685Z"
   },
   {
    "duration": 831,
    "start_time": "2021-09-02T12:02:43.722Z"
   },
   {
    "duration": 800,
    "start_time": "2021-09-02T12:03:06.628Z"
   },
   {
    "duration": 15078,
    "start_time": "2021-09-02T12:03:11.455Z"
   },
   {
    "duration": 697,
    "start_time": "2021-09-02T12:03:34.115Z"
   },
   {
    "duration": 16,
    "start_time": "2021-09-02T12:03:39.066Z"
   },
   {
    "duration": 5,
    "start_time": "2021-09-02T12:03:39.499Z"
   },
   {
    "duration": 785,
    "start_time": "2021-09-02T12:03:39.865Z"
   },
   {
    "duration": 5,
    "start_time": "2021-09-02T12:03:40.653Z"
   },
   {
    "duration": 1733,
    "start_time": "2021-09-02T12:03:40.672Z"
   },
   {
    "duration": 5,
    "start_time": "2021-09-02T12:03:42.409Z"
   },
   {
    "duration": 600,
    "start_time": "2021-09-02T12:03:42.418Z"
   },
   {
    "duration": 12,
    "start_time": "2021-09-02T12:03:43.021Z"
   },
   {
    "duration": 16,
    "start_time": "2021-09-02T12:03:59.465Z"
   },
   {
    "duration": 3,
    "start_time": "2021-09-02T12:03:59.643Z"
   },
   {
    "duration": 771,
    "start_time": "2021-09-02T12:03:59.865Z"
   },
   {
    "duration": 5,
    "start_time": "2021-09-02T12:04:01.849Z"
   },
   {
    "duration": 1388,
    "start_time": "2021-09-02T12:04:02.105Z"
   },
   {
    "duration": 3,
    "start_time": "2021-09-02T12:04:03.497Z"
   },
   {
    "duration": 2630827,
    "start_time": "2021-09-02T12:04:03.503Z"
   },
   {
    "duration": -153,
    "start_time": "2021-09-02T12:47:54.487Z"
   },
   {
    "duration": 803,
    "start_time": "2021-09-02T12:48:11.928Z"
   },
   {
    "duration": 11,
    "start_time": "2021-09-02T12:48:16.236Z"
   },
   {
    "duration": 3,
    "start_time": "2021-09-02T12:48:16.430Z"
   },
   {
    "duration": 803,
    "start_time": "2021-09-02T12:48:16.621Z"
   },
   {
    "duration": 5,
    "start_time": "2021-09-02T12:48:17.427Z"
   },
   {
    "duration": 1067,
    "start_time": "2021-09-02T12:48:23.839Z"
   },
   {
    "duration": 6435,
    "start_time": "2021-09-02T12:48:24.909Z"
   },
   {
    "duration": -158,
    "start_time": "2021-09-02T12:56:51.287Z"
   },
   {
    "duration": -163,
    "start_time": "2021-09-02T12:56:51.294Z"
   },
   {
    "duration": -165,
    "start_time": "2021-09-02T12:56:51.298Z"
   },
   {
    "duration": -167,
    "start_time": "2021-09-02T12:56:51.302Z"
   },
   {
    "duration": -169,
    "start_time": "2021-09-02T12:56:51.306Z"
   },
   {
    "duration": -178,
    "start_time": "2021-09-02T12:56:51.317Z"
   },
   {
    "duration": -152,
    "start_time": "2021-09-02T12:56:51.321Z"
   },
   {
    "duration": -149,
    "start_time": "2021-09-02T12:56:51.324Z"
   },
   {
    "duration": 12,
    "start_time": "2021-09-02T12:56:59.642Z"
   },
   {
    "duration": 4,
    "start_time": "2021-09-02T12:56:59.850Z"
   },
   {
    "duration": 1147,
    "start_time": "2021-09-02T12:57:00.010Z"
   },
   {
    "duration": 11,
    "start_time": "2021-09-02T12:57:01.161Z"
   },
   {
    "duration": 1283,
    "start_time": "2021-09-02T12:57:01.176Z"
   },
   {
    "duration": 63,
    "start_time": "2021-09-02T12:57:02.466Z"
   },
   {
    "duration": 24513,
    "start_time": "2021-09-02T12:57:02.531Z"
   },
   {
    "duration": 36,
    "start_time": "2021-09-02T12:57:27.046Z"
   },
   {
    "duration": 22142,
    "start_time": "2021-09-02T12:58:45.215Z"
   },
   {
    "duration": 827,
    "start_time": "2021-09-02T13:10:33.843Z"
   },
   {
    "duration": 10,
    "start_time": "2021-09-02T13:10:34.782Z"
   },
   {
    "duration": 75,
    "start_time": "2021-09-02T13:10:47.124Z"
   },
   {
    "duration": 23189,
    "start_time": "2021-09-02T13:10:48.322Z"
   },
   {
    "duration": 19,
    "start_time": "2021-09-02T13:11:11.514Z"
   },
   {
    "duration": 812,
    "start_time": "2021-09-02T13:11:20.444Z"
   },
   {
    "duration": 13,
    "start_time": "2021-09-02T13:11:21.259Z"
   },
   {
    "duration": 917,
    "start_time": "2021-09-02T13:11:21.276Z"
   },
   {
    "duration": 155,
    "start_time": "2021-09-02T13:11:22.196Z"
   },
   {
    "duration": 67676,
    "start_time": "2021-09-02T13:11:22.354Z"
   },
   {
    "duration": 35,
    "start_time": "2021-09-02T13:12:30.032Z"
   },
   {
    "duration": 831,
    "start_time": "2021-09-02T13:20:18.798Z"
   },
   {
    "duration": 9,
    "start_time": "2021-09-02T13:20:19.632Z"
   },
   {
    "duration": 939,
    "start_time": "2021-09-02T13:20:19.645Z"
   },
   {
    "duration": 331,
    "start_time": "2021-09-02T13:20:20.587Z"
   },
   {
    "duration": 185207,
    "start_time": "2021-09-02T13:20:20.921Z"
   },
   {
    "duration": 34,
    "start_time": "2021-09-02T13:23:26.138Z"
   },
   {
    "duration": 20,
    "start_time": "2021-09-02T13:23:26.176Z"
   },
   {
    "duration": 20,
    "start_time": "2021-09-02T13:23:36.146Z"
   },
   {
    "duration": 4,
    "start_time": "2021-09-02T13:23:55.712Z"
   },
   {
    "duration": 9,
    "start_time": "2021-09-02T13:23:56.397Z"
   },
   {
    "duration": 321,
    "start_time": "2021-09-02T13:23:57.232Z"
   },
   {
    "duration": 14,
    "start_time": "2021-09-02T13:24:01.570Z"
   },
   {
    "duration": 51,
    "start_time": "2021-09-02T13:24:02.394Z"
   },
   {
    "duration": 5,
    "start_time": "2021-09-02T13:24:21.264Z"
   },
   {
    "duration": 12,
    "start_time": "2021-09-02T13:24:21.585Z"
   },
   {
    "duration": 745,
    "start_time": "2021-09-02T13:24:22.953Z"
   },
   {
    "duration": 6,
    "start_time": "2021-09-02T13:24:24.141Z"
   },
   {
    "duration": 12,
    "start_time": "2021-09-02T13:24:24.792Z"
   },
   {
    "duration": 5,
    "start_time": "2021-09-02T13:24:27.409Z"
   },
   {
    "duration": 48165,
    "start_time": "2021-09-02T13:24:28.824Z"
   },
   {
    "duration": -198,
    "start_time": "2021-09-02T13:25:17.191Z"
   },
   {
    "duration": -196,
    "start_time": "2021-09-02T13:25:17.195Z"
   },
   {
    "duration": 6,
    "start_time": "2021-09-02T13:25:47.192Z"
   },
   {
    "duration": 77879,
    "start_time": "2021-09-02T13:25:47.520Z"
   },
   {
    "duration": -186,
    "start_time": "2021-09-02T13:27:05.589Z"
   },
   {
    "duration": 1638,
    "start_time": "2021-09-02T13:27:09.938Z"
   },
   {
    "duration": 323,
    "start_time": "2021-09-02T13:27:11.590Z"
   },
   {
    "duration": -154,
    "start_time": "2021-09-02T13:27:12.072Z"
   },
   {
    "duration": 365,
    "start_time": "2021-09-02T13:28:13.343Z"
   },
   {
    "duration": 368,
    "start_time": "2021-09-02T13:28:16.880Z"
   },
   {
    "duration": 39,
    "start_time": "2021-09-02T13:28:47.434Z"
   },
   {
    "duration": 5,
    "start_time": "2021-09-02T13:28:52.430Z"
   },
   {
    "duration": 25169,
    "start_time": "2021-09-02T13:28:53.293Z"
   },
   {
    "duration": 141,
    "start_time": "2021-09-02T13:29:24.453Z"
   },
   {
    "duration": 5,
    "start_time": "2021-09-02T13:29:46.510Z"
   },
   {
    "duration": 32127,
    "start_time": "2021-09-02T13:29:53.326Z"
   },
   {
    "duration": 402,
    "start_time": "2021-09-02T13:30:46.037Z"
   },
   {
    "duration": 23,
    "start_time": "2021-09-02T13:30:52.153Z"
   },
   {
    "duration": 5,
    "start_time": "2021-09-02T13:31:35.437Z"
   },
   {
    "duration": 101,
    "start_time": "2021-09-02T13:33:35.229Z"
   },
   {
    "duration": 6,
    "start_time": "2021-09-02T13:33:40.613Z"
   },
   {
    "duration": 9,
    "start_time": "2021-09-02T13:33:51.664Z"
   },
   {
    "duration": 610,
    "start_time": "2021-09-02T13:33:53.772Z"
   },
   {
    "duration": 7,
    "start_time": "2021-09-02T13:33:54.385Z"
   },
   {
    "duration": 9,
    "start_time": "2021-09-02T13:33:54.396Z"
   },
   {
    "duration": 13,
    "start_time": "2021-09-02T13:33:54.467Z"
   },
   {
    "duration": 14750,
    "start_time": "2021-09-02T13:33:55.243Z"
   },
   {
    "duration": -262,
    "start_time": "2021-09-02T13:34:10.259Z"
   },
   {
    "duration": -272,
    "start_time": "2021-09-02T13:34:10.271Z"
   },
   {
    "duration": -278,
    "start_time": "2021-09-02T13:34:10.279Z"
   },
   {
    "duration": 801,
    "start_time": "2021-09-02T13:44:04.535Z"
   },
   {
    "duration": 10,
    "start_time": "2021-09-02T13:44:05.340Z"
   },
   {
    "duration": 1444,
    "start_time": "2021-09-02T13:44:05.453Z"
   },
   {
    "duration": 452,
    "start_time": "2021-09-02T13:44:06.904Z"
   },
   {
    "duration": 232614,
    "start_time": "2021-09-02T13:44:07.360Z"
   },
   {
    "duration": 26,
    "start_time": "2021-09-02T13:47:59.977Z"
   },
   {
    "duration": 15,
    "start_time": "2021-09-02T13:48:00.006Z"
   },
   {
    "duration": 15,
    "start_time": "2021-09-02T13:48:00.024Z"
   },
   {
    "duration": 264,
    "start_time": "2021-09-02T13:48:00.042Z"
   },
   {
    "duration": 4,
    "start_time": "2021-09-02T13:48:00.310Z"
   },
   {
    "duration": 18,
    "start_time": "2021-09-02T13:48:00.316Z"
   },
   {
    "duration": 834,
    "start_time": "2021-09-02T13:48:00.336Z"
   },
   {
    "duration": 7,
    "start_time": "2021-09-02T13:48:01.172Z"
   },
   {
    "duration": 25,
    "start_time": "2021-09-02T13:48:01.182Z"
   },
   {
    "duration": 11,
    "start_time": "2021-09-02T13:56:25.627Z"
   },
   {
    "duration": 2744,
    "start_time": "2021-09-02T13:56:47.168Z"
   },
   {
    "duration": 2168,
    "start_time": "2021-09-02T13:56:54.720Z"
   },
   {
    "duration": 2188,
    "start_time": "2021-09-02T13:57:18.336Z"
   },
   {
    "duration": 2160,
    "start_time": "2021-09-02T13:57:36.944Z"
   },
   {
    "duration": 2096,
    "start_time": "2021-09-02T13:57:58.983Z"
   },
   {
    "duration": 2132,
    "start_time": "2021-09-02T13:58:43.183Z"
   },
   {
    "duration": 5670,
    "start_time": "2021-09-02T13:59:58.566Z"
   },
   {
    "duration": 3,
    "start_time": "2021-09-02T14:01:51.228Z"
   },
   {
    "duration": 5447,
    "start_time": "2021-09-02T14:02:04.602Z"
   },
   {
    "duration": 2604,
    "start_time": "2021-09-02T14:02:34.782Z"
   },
   {
    "duration": 2783,
    "start_time": "2021-09-02T14:02:40.227Z"
   },
   {
    "duration": 2763,
    "start_time": "2021-09-02T14:02:44.236Z"
   },
   {
    "duration": 2540,
    "start_time": "2021-09-02T14:03:04.981Z"
   },
   {
    "duration": 3403,
    "start_time": "2021-09-02T14:04:20.229Z"
   },
   {
    "duration": 2143,
    "start_time": "2021-09-02T14:04:33.060Z"
   },
   {
    "duration": 3480,
    "start_time": "2021-09-02T14:05:09.244Z"
   },
   {
    "duration": 411,
    "start_time": "2021-09-02T14:05:14.674Z"
   },
   {
    "duration": 381,
    "start_time": "2021-09-02T14:05:21.458Z"
   },
   {
    "duration": 491,
    "start_time": "2021-09-02T14:06:10.409Z"
   },
   {
    "duration": 303,
    "start_time": "2021-09-02T14:06:17.985Z"
   },
   {
    "duration": 980,
    "start_time": "2021-09-02T14:08:24.687Z"
   },
   {
    "duration": 440,
    "start_time": "2021-09-02T14:09:27.753Z"
   },
   {
    "duration": 2155,
    "start_time": "2021-09-02T14:09:32.969Z"
   },
   {
    "duration": 164,
    "start_time": "2021-09-02T14:10:00.682Z"
   },
   {
    "duration": 866,
    "start_time": "2021-09-02T14:22:37.321Z"
   },
   {
    "duration": 5,
    "start_time": "2021-09-02T14:22:38.352Z"
   },
   {
    "duration": 891,
    "start_time": "2021-09-02T14:22:38.765Z"
   },
   {
    "duration": 12,
    "start_time": "2021-09-02T14:22:59.051Z"
   },
   {
    "duration": 4,
    "start_time": "2021-09-02T14:22:59.601Z"
   },
   {
    "duration": 816,
    "start_time": "2021-09-02T14:23:00.134Z"
   },
   {
    "duration": 4,
    "start_time": "2021-09-02T14:23:02.039Z"
   },
   {
    "duration": 841,
    "start_time": "2021-09-02T14:23:02.557Z"
   },
   {
    "duration": 5,
    "start_time": "2021-09-02T14:23:13.436Z"
   },
   {
    "duration": 1309,
    "start_time": "2021-09-02T14:23:13.845Z"
   },
   {
    "duration": 6728,
    "start_time": "2021-09-02T14:23:15.157Z"
   },
   {
    "duration": 3303470,
    "start_time": "2021-09-02T14:23:21.888Z"
   },
   {
    "duration": 193,
    "start_time": "2021-09-02T15:18:25.360Z"
   },
   {
    "duration": 12,
    "start_time": "2021-09-02T15:27:48.886Z"
   },
   {
    "duration": 4,
    "start_time": "2021-09-02T15:27:53.464Z"
   },
   {
    "duration": 238,
    "start_time": "2021-09-02T15:27:54.390Z"
   },
   {
    "duration": 5,
    "start_time": "2021-09-02T15:28:12.669Z"
   },
   {
    "duration": 40,
    "start_time": "2021-09-02T15:28:12.872Z"
   },
   {
    "duration": 11673,
    "start_time": "2021-09-02T15:28:13.210Z"
   },
   {
    "duration": 6,
    "start_time": "2021-09-02T15:28:24.886Z"
   },
   {
    "duration": 8,
    "start_time": "2021-09-02T15:28:24.895Z"
   },
   {
    "duration": 4,
    "start_time": "2021-09-02T15:29:07.489Z"
   },
   {
    "duration": 4,
    "start_time": "2021-09-02T15:29:22.700Z"
   },
   {
    "duration": 936250,
    "start_time": "2021-09-02T15:29:23.034Z"
   },
   {
    "duration": 121,
    "start_time": "2021-09-02T15:44:59.288Z"
   },
   {
    "duration": 5,
    "start_time": "2021-09-02T15:45:38.417Z"
   },
   {
    "duration": 39,
    "start_time": "2021-09-02T15:45:38.601Z"
   },
   {
    "duration": 15198,
    "start_time": "2021-09-02T15:45:38.770Z"
   },
   {
    "duration": 7,
    "start_time": "2021-09-02T15:45:53.971Z"
   },
   {
    "duration": 10,
    "start_time": "2021-09-02T15:45:53.986Z"
   },
   {
    "duration": 13,
    "start_time": "2021-09-02T15:45:54.000Z"
   },
   {
    "duration": 3391383,
    "start_time": "2021-09-02T15:45:54.016Z"
   },
   {
    "duration": 788,
    "start_time": "2021-09-02T16:42:25.402Z"
   },
   {
    "duration": 218,
    "start_time": "2021-09-02T16:42:26.194Z"
   },
   {
    "duration": 22,
    "start_time": "2021-09-02T16:42:26.415Z"
   },
   {
    "duration": 14539,
    "start_time": "2021-09-02T16:47:40.260Z"
   },
   {
    "duration": 4,
    "start_time": "2021-09-02T16:48:48.469Z"
   },
   {
    "duration": 5,
    "start_time": "2021-09-02T16:48:55.475Z"
   },
   {
    "duration": 12965,
    "start_time": "2021-09-02T16:49:15.867Z"
   },
   {
    "duration": 17,
    "start_time": "2021-09-02T16:49:28.835Z"
   },
   {
    "duration": 4,
    "start_time": "2021-09-02T16:49:43.002Z"
   },
   {
    "duration": 308,
    "start_time": "2021-09-02T16:49:43.780Z"
   },
   {
    "duration": 5,
    "start_time": "2021-09-02T16:49:46.314Z"
   },
   {
    "duration": 52,
    "start_time": "2021-09-02T16:49:47.058Z"
   },
   {
    "duration": 11847,
    "start_time": "2021-09-02T16:49:47.908Z"
   },
   {
    "duration": 12,
    "start_time": "2021-09-02T16:49:59.758Z"
   },
   {
    "duration": 7,
    "start_time": "2021-09-02T16:49:59.774Z"
   },
   {
    "duration": 153,
    "start_time": "2021-09-02T16:50:07.169Z"
   },
   {
    "duration": 7,
    "start_time": "2021-09-02T16:50:09.546Z"
   },
   {
    "duration": 232,
    "start_time": "2021-09-02T16:50:10.315Z"
   },
   {
    "duration": 4,
    "start_time": "2021-09-02T16:50:11.385Z"
   },
   {
    "duration": 39,
    "start_time": "2021-09-02T16:50:11.801Z"
   },
   {
    "duration": 11765,
    "start_time": "2021-09-02T16:50:12.123Z"
   },
   {
    "duration": 5,
    "start_time": "2021-09-02T16:50:23.891Z"
   },
   {
    "duration": 10,
    "start_time": "2021-09-02T16:50:23.898Z"
   },
   {
    "duration": 4,
    "start_time": "2021-09-02T16:51:12.241Z"
   },
   {
    "duration": 34515,
    "start_time": "2021-09-02T16:51:12.488Z"
   },
   {
    "duration": 20,
    "start_time": "2021-09-02T16:51:47.006Z"
   },
   {
    "duration": 108,
    "start_time": "2021-09-02T17:25:16.965Z"
   },
   {
    "duration": 13,
    "start_time": "2021-09-02T17:25:37.519Z"
   },
   {
    "duration": 1340,
    "start_time": "2021-09-02T17:42:19.020Z"
   },
   {
    "duration": 20,
    "start_time": "2021-09-02T17:42:59.709Z"
   },
   {
    "duration": 94,
    "start_time": "2021-09-02T17:43:33.287Z"
   },
   {
    "duration": 118,
    "start_time": "2021-09-02T17:43:37.013Z"
   },
   {
    "duration": 113,
    "start_time": "2021-09-02T17:44:58.656Z"
   },
   {
    "duration": 66,
    "start_time": "2021-09-02T17:45:01.974Z"
   },
   {
    "duration": 77,
    "start_time": "2021-09-02T17:45:12.525Z"
   },
   {
    "duration": 68,
    "start_time": "2021-09-02T17:45:15.858Z"
   },
   {
    "duration": 77,
    "start_time": "2021-09-02T17:45:27.709Z"
   },
   {
    "duration": 77,
    "start_time": "2021-09-02T17:45:32.514Z"
   },
   {
    "duration": 359,
    "start_time": "2021-09-02T17:45:56.387Z"
   },
   {
    "duration": 70,
    "start_time": "2021-09-02T17:46:02.610Z"
   },
   {
    "duration": 67,
    "start_time": "2021-09-02T17:46:05.586Z"
   },
   {
    "duration": 241,
    "start_time": "2021-09-02T17:48:19.097Z"
   },
   {
    "duration": 229,
    "start_time": "2021-09-02T17:50:46.087Z"
   },
   {
    "duration": 3,
    "start_time": "2021-09-02T17:50:51.911Z"
   },
   {
    "duration": 4,
    "start_time": "2021-09-02T17:51:10.095Z"
   },
   {
    "duration": 4,
    "start_time": "2021-09-02T17:51:15.719Z"
   },
   {
    "duration": 3,
    "start_time": "2021-09-02T17:54:45.455Z"
   },
   {
    "duration": 3,
    "start_time": "2021-09-02T17:54:50.229Z"
   },
   {
    "duration": 8,
    "start_time": "2021-09-02T17:54:55.269Z"
   },
   {
    "duration": 4,
    "start_time": "2021-09-02T17:55:00.205Z"
   },
   {
    "duration": 4,
    "start_time": "2021-09-02T17:55:02.893Z"
   },
   {
    "duration": 36,
    "start_time": "2021-09-02T17:55:03.412Z"
   },
   {
    "duration": 12659,
    "start_time": "2021-09-02T17:55:06.340Z"
   },
   {
    "duration": 4,
    "start_time": "2021-09-02T17:55:50.437Z"
   },
   {
    "duration": 5,
    "start_time": "2021-09-02T17:55:51.373Z"
   },
   {
    "duration": 39,
    "start_time": "2021-09-02T17:55:51.970Z"
   },
   {
    "duration": 13914,
    "start_time": "2021-09-02T17:55:53.121Z"
   },
   {
    "duration": 5,
    "start_time": "2021-09-02T17:56:07.038Z"
   },
   {
    "duration": 4,
    "start_time": "2021-09-02T18:06:40.080Z"
   },
   {
    "duration": 34,
    "start_time": "2021-09-02T18:10:27.931Z"
   },
   {
    "duration": 38,
    "start_time": "2021-09-02T18:11:39.688Z"
   },
   {
    "duration": 5,
    "start_time": "2021-09-02T18:11:40.182Z"
   },
   {
    "duration": 11875,
    "start_time": "2021-09-02T18:11:41.023Z"
   },
   {
    "duration": 6,
    "start_time": "2021-09-02T18:11:52.901Z"
   },
   {
    "duration": 6,
    "start_time": "2021-09-02T18:11:52.910Z"
   },
   {
    "duration": 4,
    "start_time": "2021-09-02T18:12:17.807Z"
   },
   {
    "duration": 38671,
    "start_time": "2021-09-02T18:12:18.261Z"
   },
   {
    "duration": 46,
    "start_time": "2021-09-02T18:12:56.936Z"
   },
   {
    "duration": 6384,
    "start_time": "2021-09-02T18:13:15.119Z"
   },
   {
    "duration": 19,
    "start_time": "2021-09-02T18:13:36.375Z"
   },
   {
    "duration": 19,
    "start_time": "2021-09-02T18:13:55.661Z"
   },
   {
    "duration": 26782,
    "start_time": "2021-09-02T18:14:13.341Z"
   },
   {
    "duration": 23,
    "start_time": "2021-09-02T18:14:40.144Z"
   },
   {
    "duration": 8,
    "start_time": "2021-09-02T18:14:40.169Z"
   },
   {
    "duration": 6,
    "start_time": "2021-09-02T18:15:08.645Z"
   },
   {
    "duration": 5,
    "start_time": "2021-09-02T18:15:08.917Z"
   },
   {
    "duration": 6,
    "start_time": "2021-09-02T18:15:15.932Z"
   },
   {
    "duration": 6,
    "start_time": "2021-09-02T18:15:16.261Z"
   },
   {
    "duration": 5,
    "start_time": "2021-09-02T18:15:26.310Z"
   },
   {
    "duration": 6,
    "start_time": "2021-09-02T18:15:26.564Z"
   },
   {
    "duration": 6,
    "start_time": "2021-09-02T18:15:39.485Z"
   },
   {
    "duration": 5,
    "start_time": "2021-09-02T18:15:39.716Z"
   },
   {
    "duration": 6,
    "start_time": "2021-09-02T18:15:48.948Z"
   },
   {
    "duration": 7,
    "start_time": "2021-09-02T18:15:49.212Z"
   },
   {
    "duration": 6,
    "start_time": "2021-09-02T18:16:00.413Z"
   },
   {
    "duration": 6,
    "start_time": "2021-09-02T18:16:00.671Z"
   },
   {
    "duration": 6,
    "start_time": "2021-09-02T18:16:07.851Z"
   },
   {
    "duration": 5,
    "start_time": "2021-09-02T18:16:08.204Z"
   },
   {
    "duration": 99,
    "start_time": "2021-09-02T18:17:21.427Z"
   },
   {
    "duration": 110,
    "start_time": "2021-09-02T18:17:27.491Z"
   },
   {
    "duration": 4,
    "start_time": "2021-09-02T18:17:27.804Z"
   },
   {
    "duration": 48,
    "start_time": "2021-09-02T18:17:30.827Z"
   },
   {
    "duration": 4,
    "start_time": "2021-09-02T18:17:31.403Z"
   },
   {
    "duration": 11685,
    "start_time": "2021-09-02T18:17:31.965Z"
   },
   {
    "duration": 16,
    "start_time": "2021-09-02T18:17:43.653Z"
   },
   {
    "duration": 13,
    "start_time": "2021-09-02T18:17:43.673Z"
   },
   {
    "duration": 4,
    "start_time": "2021-09-02T18:17:56.282Z"
   },
   {
    "duration": 38967,
    "start_time": "2021-09-02T18:17:56.772Z"
   },
   {
    "duration": 31,
    "start_time": "2021-09-02T18:18:35.744Z"
   },
   {
    "duration": 22,
    "start_time": "2021-09-02T18:19:48.770Z"
   },
   {
    "duration": 4,
    "start_time": "2021-09-02T18:20:06.107Z"
   },
   {
    "duration": 97,
    "start_time": "2021-09-02T18:20:26.497Z"
   },
   {
    "duration": 16,
    "start_time": "2021-09-02T18:20:26.754Z"
   },
   {
    "duration": 38,
    "start_time": "2021-09-02T18:20:27.882Z"
   },
   {
    "duration": 5,
    "start_time": "2021-09-02T18:20:28.816Z"
   },
   {
    "duration": 10877,
    "start_time": "2021-09-02T18:20:29.906Z"
   },
   {
    "duration": 5,
    "start_time": "2021-09-02T18:20:40.785Z"
   },
   {
    "duration": 6,
    "start_time": "2021-09-02T18:20:40.793Z"
   },
   {
    "duration": 81,
    "start_time": "2021-09-02T18:20:52.819Z"
   },
   {
    "duration": 456,
    "start_time": "2021-09-02T18:21:23.513Z"
   },
   {
    "duration": 43,
    "start_time": "2021-09-02T18:21:30.106Z"
   },
   {
    "duration": 78,
    "start_time": "2021-09-02T18:21:48.289Z"
   },
   {
    "duration": 96,
    "start_time": "2021-09-02T18:22:12.338Z"
   },
   {
    "duration": 220,
    "start_time": "2021-09-02T18:22:59.925Z"
   },
   {
    "duration": 9098,
    "start_time": "2021-09-02T18:23:46.066Z"
   },
   {
    "duration": 12,
    "start_time": "2021-09-02T18:23:55.167Z"
   },
   {
    "duration": 771,
    "start_time": "2021-09-02T18:23:55.182Z"
   },
   {
    "duration": 19,
    "start_time": "2021-09-02T18:23:55.956Z"
   },
   {
    "duration": 159,
    "start_time": "2021-09-02T18:23:55.978Z"
   },
   {
    "duration": 9668,
    "start_time": "2021-09-02T18:24:12.282Z"
   },
   {
    "duration": 20,
    "start_time": "2021-09-02T18:24:21.954Z"
   },
   {
    "duration": 7,
    "start_time": "2021-09-02T18:24:21.977Z"
   },
   {
    "duration": 22,
    "start_time": "2021-09-02T18:24:21.986Z"
   },
   {
    "duration": 77,
    "start_time": "2021-09-02T18:24:30.849Z"
   },
   {
    "duration": 17,
    "start_time": "2021-09-02T18:24:49.653Z"
   },
   {
    "duration": 3,
    "start_time": "2021-09-02T18:43:09.846Z"
   },
   {
    "duration": 52042,
    "start_time": "2021-09-02T18:43:10.302Z"
   },
   {
    "duration": 35,
    "start_time": "2021-09-02T18:44:02.349Z"
   },
   {
    "duration": 9,
    "start_time": "2021-09-02T18:44:02.387Z"
   },
   {
    "duration": 142,
    "start_time": "2021-09-02T18:44:02.398Z"
   },
   {
    "duration": 4,
    "start_time": "2021-09-02T18:44:25.699Z"
   },
   {
    "duration": 42,
    "start_time": "2021-09-02T18:44:26.156Z"
   },
   {
    "duration": 5,
    "start_time": "2021-09-02T18:44:26.618Z"
   },
   {
    "duration": 10895,
    "start_time": "2021-09-02T18:44:27.193Z"
   },
   {
    "duration": 5,
    "start_time": "2021-09-02T18:44:38.090Z"
   },
   {
    "duration": 13,
    "start_time": "2021-09-02T18:44:38.098Z"
   },
   {
    "duration": 8,
    "start_time": "2021-09-02T18:44:38.114Z"
   },
   {
    "duration": 39713,
    "start_time": "2021-09-02T18:44:38.124Z"
   },
   {
    "duration": 35,
    "start_time": "2021-09-02T18:45:17.840Z"
   },
   {
    "duration": 4,
    "start_time": "2021-09-02T18:48:15.296Z"
   },
   {
    "duration": 42,
    "start_time": "2021-09-02T18:48:16.759Z"
   },
   {
    "duration": 5,
    "start_time": "2021-09-02T18:48:17.185Z"
   },
   {
    "duration": 10822,
    "start_time": "2021-09-02T18:48:17.551Z"
   },
   {
    "duration": 6,
    "start_time": "2021-09-02T18:48:28.376Z"
   },
   {
    "duration": 9,
    "start_time": "2021-09-02T18:48:28.384Z"
   },
   {
    "duration": 4,
    "start_time": "2021-09-02T18:48:28.396Z"
   },
   {
    "duration": 38832,
    "start_time": "2021-09-02T18:48:28.403Z"
   },
   {
    "duration": 39,
    "start_time": "2021-09-02T18:49:07.239Z"
   },
   {
    "duration": 101,
    "start_time": "2021-09-02T18:49:20.552Z"
   },
   {
    "duration": 80,
    "start_time": "2021-09-02T18:49:20.776Z"
   },
   {
    "duration": 3,
    "start_time": "2021-09-02T18:49:20.945Z"
   },
   {
    "duration": 40,
    "start_time": "2021-09-02T18:49:21.270Z"
   },
   {
    "duration": 4,
    "start_time": "2021-09-02T18:49:21.608Z"
   },
   {
    "duration": 10936,
    "start_time": "2021-09-02T18:49:21.936Z"
   },
   {
    "duration": 6,
    "start_time": "2021-09-02T18:49:32.874Z"
   },
   {
    "duration": 7,
    "start_time": "2021-09-02T18:49:32.883Z"
   },
   {
    "duration": 6,
    "start_time": "2021-09-02T18:49:32.893Z"
   },
   {
    "duration": 3,
    "start_time": "2021-09-02T18:50:12.879Z"
   },
   {
    "duration": 61153,
    "start_time": "2021-09-02T18:50:12.884Z"
   },
   {
    "duration": 38,
    "start_time": "2021-09-02T18:51:14.042Z"
   },
   {
    "duration": 3,
    "start_time": "2021-09-02T18:55:59.413Z"
   },
   {
    "duration": 39806,
    "start_time": "2021-09-02T18:55:59.828Z"
   },
   {
    "duration": 36,
    "start_time": "2021-09-02T18:56:39.639Z"
   },
   {
    "duration": 4,
    "start_time": "2021-09-02T18:56:39.678Z"
   },
   {
    "duration": 4,
    "start_time": "2021-09-02T19:01:19.779Z"
   },
   {
    "duration": 818183,
    "start_time": "2021-09-02T19:01:20.185Z"
   },
   {
    "duration": -311,
    "start_time": "2021-09-02T19:14:58.682Z"
   },
   {
    "duration": -312,
    "start_time": "2021-09-02T19:14:58.685Z"
   },
   {
    "duration": 5,
    "start_time": "2021-09-02T19:15:09.019Z"
   },
   {
    "duration": 100905,
    "start_time": "2021-09-02T19:15:09.803Z"
   },
   {
    "duration": -315,
    "start_time": "2021-09-02T19:16:51.027Z"
   },
   {
    "duration": -321,
    "start_time": "2021-09-02T19:16:51.034Z"
   },
   {
    "duration": -323,
    "start_time": "2021-09-02T19:16:51.038Z"
   },
   {
    "duration": -326,
    "start_time": "2021-09-02T19:16:51.042Z"
   },
   {
    "duration": -329,
    "start_time": "2021-09-02T19:16:51.048Z"
   },
   {
    "duration": -330,
    "start_time": "2021-09-02T19:16:51.051Z"
   },
   {
    "duration": -339,
    "start_time": "2021-09-02T19:16:51.061Z"
   },
   {
    "duration": 5,
    "start_time": "2021-09-02T19:17:37.320Z"
   },
   {
    "duration": 338,
    "start_time": "2021-09-02T19:17:37.735Z"
   },
   {
    "duration": 502,
    "start_time": "2021-09-02T19:17:38.079Z"
   },
   {
    "duration": 5,
    "start_time": "2021-09-02T19:17:57.495Z"
   },
   {
    "duration": 133673,
    "start_time": "2021-09-02T19:17:57.744Z"
   },
   {
    "duration": 51,
    "start_time": "2021-09-02T19:20:11.420Z"
   },
   {
    "duration": 6,
    "start_time": "2021-09-02T19:20:11.474Z"
   },
   {
    "duration": 688,
    "start_time": "2021-09-02T19:20:11.483Z"
   },
   {
    "duration": -359,
    "start_time": "2021-09-02T19:20:12.532Z"
   },
   {
    "duration": -362,
    "start_time": "2021-09-02T19:20:12.537Z"
   },
   {
    "duration": -364,
    "start_time": "2021-09-02T19:20:12.540Z"
   },
   {
    "duration": 253,
    "start_time": "2021-09-02T19:20:20.695Z"
   },
   {
    "duration": 6,
    "start_time": "2021-09-02T19:20:26.766Z"
   },
   {
    "duration": 406,
    "start_time": "2021-09-02T19:20:27.495Z"
   },
   {
    "duration": 4,
    "start_time": "2021-09-02T19:20:43.576Z"
   },
   {
    "duration": 41,
    "start_time": "2021-09-02T19:20:44.319Z"
   },
   {
    "duration": 4,
    "start_time": "2021-09-02T19:20:46.109Z"
   },
   {
    "duration": 10669,
    "start_time": "2021-09-02T19:20:46.743Z"
   },
   {
    "duration": 6,
    "start_time": "2021-09-02T19:20:57.415Z"
   },
   {
    "duration": 7,
    "start_time": "2021-09-02T19:20:57.424Z"
   },
   {
    "duration": 6,
    "start_time": "2021-09-02T19:21:00.687Z"
   },
   {
    "duration": 473,
    "start_time": "2021-09-02T19:21:03.590Z"
   },
   {
    "duration": 6,
    "start_time": "2021-09-02T19:21:11.734Z"
   },
   {
    "duration": 5,
    "start_time": "2021-09-02T19:21:12.157Z"
   },
   {
    "duration": 474,
    "start_time": "2021-09-02T19:21:15.175Z"
   },
   {
    "duration": 430,
    "start_time": "2021-09-02T19:22:01.142Z"
   },
   {
    "duration": 92,
    "start_time": "2021-09-02T19:22:12.061Z"
   },
   {
    "duration": 83,
    "start_time": "2021-09-02T19:22:12.373Z"
   },
   {
    "duration": 14,
    "start_time": "2021-09-02T19:22:13.958Z"
   },
   {
    "duration": 42,
    "start_time": "2021-09-02T19:22:15.109Z"
   },
   {
    "duration": 5,
    "start_time": "2021-09-02T19:22:21.965Z"
   },
   {
    "duration": 11053,
    "start_time": "2021-09-02T19:22:23.397Z"
   },
   {
    "duration": 15,
    "start_time": "2021-09-02T19:22:34.452Z"
   },
   {
    "duration": 5,
    "start_time": "2021-09-02T19:22:34.470Z"
   },
   {
    "duration": 7,
    "start_time": "2021-09-02T19:22:56.870Z"
   },
   {
    "duration": 6,
    "start_time": "2021-09-02T19:23:08.918Z"
   },
   {
    "duration": 6,
    "start_time": "2021-09-02T19:23:31.758Z"
   },
   {
    "duration": 52,
    "start_time": "2021-09-02T19:23:32.279Z"
   },
   {
    "duration": 3292,
    "start_time": "2021-09-02T19:23:39.239Z"
   },
   {
    "duration": 242,
    "start_time": "2021-09-02T19:23:47.996Z"
   },
   {
    "duration": 58,
    "start_time": "2021-09-02T19:23:57.205Z"
   },
   {
    "duration": 240,
    "start_time": "2021-09-02T19:23:59.189Z"
   },
   {
    "duration": 41,
    "start_time": "2021-09-02T19:24:25.864Z"
   },
   {
    "duration": 229,
    "start_time": "2021-09-02T19:24:32.948Z"
   },
   {
    "duration": 228,
    "start_time": "2021-09-02T19:24:48.685Z"
   },
   {
    "duration": 250,
    "start_time": "2021-09-02T19:25:03.645Z"
   },
   {
    "duration": 56,
    "start_time": "2021-09-02T19:25:10.924Z"
   },
   {
    "duration": 248,
    "start_time": "2021-09-02T19:25:13.972Z"
   },
   {
    "duration": 18,
    "start_time": "2021-09-02T19:25:23.549Z"
   },
   {
    "duration": 487,
    "start_time": "2021-09-02T19:25:28.685Z"
   },
   {
    "duration": 245,
    "start_time": "2021-09-02T19:25:43.526Z"
   },
   {
    "duration": 5,
    "start_time": "2021-09-02T19:26:38.268Z"
   },
   {
    "duration": 323,
    "start_time": "2021-09-02T19:26:38.596Z"
   },
   {
    "duration": 267,
    "start_time": "2021-09-02T19:26:39.075Z"
   },
   {
    "duration": 6409,
    "start_time": "2021-09-02T19:27:16.979Z"
   },
   {
    "duration": 236,
    "start_time": "2021-09-02T19:27:29.146Z"
   },
   {
    "duration": 5,
    "start_time": "2021-09-02T19:27:53.607Z"
   },
   {
    "duration": -328,
    "start_time": "2021-09-02T19:28:38.487Z"
   },
   {
    "duration": -329,
    "start_time": "2021-09-02T19:28:38.490Z"
   },
   {
    "duration": -333,
    "start_time": "2021-09-02T19:28:38.495Z"
   },
   {
    "duration": 4,
    "start_time": "2021-09-02T19:29:30.291Z"
   },
   {
    "duration": 43181,
    "start_time": "2021-09-02T19:29:30.705Z"
   },
   {
    "duration": -351,
    "start_time": "2021-09-02T19:30:14.240Z"
   },
   {
    "duration": -356,
    "start_time": "2021-09-02T19:30:14.246Z"
   },
   {
    "duration": -358,
    "start_time": "2021-09-02T19:30:14.250Z"
   },
   {
    "duration": 6,
    "start_time": "2021-09-02T19:30:18.539Z"
   },
   {
    "duration": 54,
    "start_time": "2021-09-02T19:30:18.802Z"
   },
   {
    "duration": 6243,
    "start_time": "2021-09-02T19:30:19.826Z"
   },
   {
    "duration": 233,
    "start_time": "2021-09-02T19:30:26.072Z"
   },
   {
    "duration": 84,
    "start_time": "2021-09-02T19:30:26.308Z"
   },
   {
    "duration": -313,
    "start_time": "2021-09-02T19:30:26.707Z"
   },
   {
    "duration": -317,
    "start_time": "2021-09-02T19:30:26.713Z"
   },
   {
    "duration": 3,
    "start_time": "2021-09-02T19:30:34.908Z"
   },
   {
    "duration": 33979,
    "start_time": "2021-09-02T19:30:35.720Z"
   },
   {
    "duration": 67,
    "start_time": "2021-09-02T19:31:09.703Z"
   },
   {
    "duration": 4,
    "start_time": "2021-09-02T19:31:09.773Z"
   },
   {
    "duration": 76826,
    "start_time": "2021-09-02T19:31:09.779Z"
   },
   {
    "duration": 38,
    "start_time": "2021-09-02T19:32:26.607Z"
   },
   {
    "duration": 21,
    "start_time": "2021-09-02T19:32:26.647Z"
   },
   {
    "duration": 308,
    "start_time": "2021-09-02T19:33:11.250Z"
   },
   {
    "duration": 6202,
    "start_time": "2021-09-02T19:33:19.152Z"
   },
   {
    "duration": 801,
    "start_time": "2021-09-02T19:33:35.149Z"
   },
   {
    "duration": 10868,
    "start_time": "2021-09-02T19:33:52.038Z"
   },
   {
    "duration": 112,
    "start_time": "2021-09-02T19:34:07.762Z"
   },
   {
    "duration": 86,
    "start_time": "2021-09-02T19:34:08.079Z"
   },
   {
    "duration": 4,
    "start_time": "2021-09-02T19:34:14.190Z"
   },
   {
    "duration": 35,
    "start_time": "2021-09-02T19:34:21.150Z"
   },
   {
    "duration": 5,
    "start_time": "2021-09-02T19:34:22.835Z"
   },
   {
    "duration": 10657,
    "start_time": "2021-09-02T19:34:23.602Z"
   },
   {
    "duration": 9,
    "start_time": "2021-09-02T19:34:34.262Z"
   },
   {
    "duration": 7,
    "start_time": "2021-09-02T19:34:34.274Z"
   },
   {
    "duration": 6,
    "start_time": "2021-09-02T19:34:36.968Z"
   },
   {
    "duration": 56,
    "start_time": "2021-09-02T19:34:37.254Z"
   },
   {
    "duration": 6111,
    "start_time": "2021-09-02T19:34:38.070Z"
   },
   {
    "duration": 238,
    "start_time": "2021-09-02T19:34:44.184Z"
   },
   {
    "duration": 4,
    "start_time": "2021-09-02T19:35:01.425Z"
   },
   {
    "duration": 192695,
    "start_time": "2021-09-02T19:35:01.685Z"
   },
   {
    "duration": -322,
    "start_time": "2021-09-02T19:38:14.704Z"
   },
   {
    "duration": 4,
    "start_time": "2021-09-02T19:38:21.142Z"
   },
   {
    "duration": 94699,
    "start_time": "2021-09-02T19:38:21.581Z"
   },
   {
    "duration": 434,
    "start_time": "2021-09-02T19:39:56.283Z"
   },
   {
    "duration": 326,
    "start_time": "2021-09-02T19:43:05.773Z"
   },
   {
    "duration": 6397,
    "start_time": "2021-09-02T19:43:12.225Z"
   },
   {
    "duration": 7596,
    "start_time": "2021-09-02T19:43:28.803Z"
   },
   {
    "duration": 259,
    "start_time": "2021-09-02T19:43:44.074Z"
   },
   {
    "duration": 264,
    "start_time": "2021-09-02T19:43:49.209Z"
   },
   {
    "duration": 6,
    "start_time": "2021-09-02T19:44:40.414Z"
   },
   {
    "duration": 7,
    "start_time": "2021-09-02T19:44:45.065Z"
   },
   {
    "duration": 6,
    "start_time": "2021-09-02T19:45:08.403Z"
   },
   {
    "duration": 779,
    "start_time": "2021-09-02T19:45:08.412Z"
   },
   {
    "duration": -309,
    "start_time": "2021-09-02T19:45:09.502Z"
   },
   {
    "duration": -311,
    "start_time": "2021-09-02T19:45:09.506Z"
   },
   {
    "duration": 109,
    "start_time": "2021-09-02T19:45:16.104Z"
   },
   {
    "duration": 79,
    "start_time": "2021-09-02T19:45:16.502Z"
   },
   {
    "duration": 4,
    "start_time": "2021-09-02T19:45:17.104Z"
   },
   {
    "duration": 34,
    "start_time": "2021-09-02T19:45:17.856Z"
   },
   {
    "duration": 5,
    "start_time": "2021-09-02T19:45:20.242Z"
   },
   {
    "duration": 254,
    "start_time": "2021-09-02T19:45:23.992Z"
   },
   {
    "duration": -335,
    "start_time": "2021-09-02T19:45:24.583Z"
   },
   {
    "duration": 6,
    "start_time": "2021-09-02T19:45:28.169Z"
   },
   {
    "duration": 6,
    "start_time": "2021-09-02T19:45:28.677Z"
   },
   {
    "duration": 53,
    "start_time": "2021-09-02T19:45:29.856Z"
   },
   {
    "duration": 6334,
    "start_time": "2021-09-02T19:45:31.229Z"
   },
   {
    "duration": 252,
    "start_time": "2021-09-02T19:45:37.566Z"
   },
   {
    "duration": 4,
    "start_time": "2021-09-02T19:46:17.224Z"
   },
   {
    "duration": 23102,
    "start_time": "2021-09-02T19:46:17.474Z"
   },
   {
    "duration": 19,
    "start_time": "2021-09-02T19:46:40.579Z"
   },
   {
    "duration": 20,
    "start_time": "2021-09-02T19:46:58.170Z"
   },
   {
    "duration": 12,
    "start_time": "2021-09-02T19:47:21.021Z"
   },
   {
    "duration": 6,
    "start_time": "2021-09-02T19:47:36.464Z"
   },
   {
    "duration": 20,
    "start_time": "2021-09-02T19:47:44.063Z"
   },
   {
    "duration": 9,
    "start_time": "2021-09-02T19:47:47.911Z"
   },
   {
    "duration": 22022,
    "start_time": "2021-09-02T19:48:22.662Z"
   },
   {
    "duration": 23,
    "start_time": "2021-09-02T19:48:44.688Z"
   },
   {
    "duration": 22034,
    "start_time": "2021-09-02T19:49:14.037Z"
   },
   {
    "duration": 20280,
    "start_time": "2021-09-02T19:49:46.632Z"
   },
   {
    "duration": 19,
    "start_time": "2021-09-02T19:50:29.386Z"
   },
   {
    "duration": 10,
    "start_time": "2021-09-02T19:50:33.665Z"
   },
   {
    "duration": 19,
    "start_time": "2021-09-02T19:51:40.694Z"
   },
   {
    "duration": 5,
    "start_time": "2021-09-02T19:52:20.116Z"
   },
   {
    "duration": 9419,
    "start_time": "2021-09-02T19:52:20.555Z"
   },
   {
    "duration": -381,
    "start_time": "2021-09-02T19:52:30.359Z"
   },
   {
    "duration": 5,
    "start_time": "2021-09-02T19:52:38.941Z"
   },
   {
    "duration": 171368,
    "start_time": "2021-09-02T19:52:39.204Z"
   },
   {
    "duration": -577,
    "start_time": "2021-09-02T19:55:31.153Z"
   },
   {
    "duration": 5,
    "start_time": "2021-09-02T19:55:47.859Z"
   },
   {
    "duration": 1024869,
    "start_time": "2021-09-02T19:55:48.557Z"
   },
   {
    "duration": 561,
    "start_time": "2021-09-02T20:12:53.429Z"
   },
   {
    "duration": 277,
    "start_time": "2021-09-02T20:15:06.494Z"
   },
   {
    "duration": 222,
    "start_time": "2021-09-02T20:15:58.414Z"
   },
   {
    "duration": 223,
    "start_time": "2021-09-02T20:15:58.899Z"
   },
   {
    "duration": 219,
    "start_time": "2021-09-02T20:16:13.970Z"
   },
   {
    "duration": 5970,
    "start_time": "2021-09-02T20:16:17.299Z"
   },
   {
    "duration": 7347,
    "start_time": "2021-09-02T20:16:23.690Z"
   },
   {
    "duration": 103,
    "start_time": "2021-09-02T20:16:35.306Z"
   },
   {
    "duration": 75,
    "start_time": "2021-09-02T20:16:35.554Z"
   },
   {
    "duration": 4,
    "start_time": "2021-09-02T20:16:35.800Z"
   },
   {
    "duration": 35,
    "start_time": "2021-09-02T20:16:36.690Z"
   },
   {
    "duration": 7,
    "start_time": "2021-09-02T20:16:41.124Z"
   },
   {
    "duration": 6,
    "start_time": "2021-09-02T20:16:41.418Z"
   },
   {
    "duration": 56,
    "start_time": "2021-09-02T20:16:41.658Z"
   },
   {
    "duration": 786,
    "start_time": "2021-09-02T20:16:41.889Z"
   },
   {
    "duration": -328,
    "start_time": "2021-09-02T20:16:43.006Z"
   },
   {
    "duration": 5989,
    "start_time": "2021-09-02T20:16:52.219Z"
   },
   {
    "duration": 233,
    "start_time": "2021-09-02T20:17:00.730Z"
   },
   {
    "duration": 38,
    "start_time": "2021-09-02T20:17:10.496Z"
   },
   {
    "duration": 3597,
    "start_time": "2021-09-02T20:17:10.763Z"
   },
   {
    "duration": 274,
    "start_time": "2021-09-02T20:17:14.363Z"
   },
   {
    "duration": 76,
    "start_time": "2021-09-02T20:17:19.620Z"
   },
   {
    "duration": 11334,
    "start_time": "2021-09-02T20:17:19.874Z"
   },
   {
    "duration": 261,
    "start_time": "2021-09-02T20:17:31.211Z"
   },
   {
    "duration": 53,
    "start_time": "2021-09-02T20:17:41.994Z"
   },
   {
    "duration": 5210,
    "start_time": "2021-09-02T20:17:42.323Z"
   },
   {
    "duration": 266,
    "start_time": "2021-09-02T20:17:47.535Z"
   },
   {
    "duration": 4,
    "start_time": "2021-09-02T20:17:52.850Z"
   },
   {
    "duration": 24555,
    "start_time": "2021-09-02T20:17:53.154Z"
   },
   {
    "duration": 19,
    "start_time": "2021-09-02T20:18:17.712Z"
   },
   {
    "duration": 4,
    "start_time": "2021-09-02T20:18:17.733Z"
   },
   {
    "duration": 37649,
    "start_time": "2021-09-02T20:18:17.740Z"
   },
   {
    "duration": 98,
    "start_time": "2021-09-02T20:18:55.392Z"
   },
   {
    "duration": 79,
    "start_time": "2021-09-02T20:18:55.492Z"
   },
   {
    "duration": 49107,
    "start_time": "2021-09-02T20:18:55.574Z"
   },
   {
    "duration": 432,
    "start_time": "2021-09-02T20:19:44.684Z"
   },
   {
    "duration": 49,
    "start_time": "2021-09-02T20:19:45.118Z"
   },
   {
    "duration": -322,
    "start_time": "2021-09-02T20:20:02.869Z"
   },
   {
    "duration": -325,
    "start_time": "2021-09-02T20:20:02.873Z"
   },
   {
    "duration": -334,
    "start_time": "2021-09-02T20:20:02.884Z"
   },
   {
    "duration": -336,
    "start_time": "2021-09-02T20:20:02.888Z"
   },
   {
    "duration": 3,
    "start_time": "2021-09-02T20:20:03.792Z"
   },
   {
    "duration": 16587,
    "start_time": "2021-09-02T20:20:04.040Z"
   },
   {
    "duration": 50,
    "start_time": "2021-09-02T20:20:20.629Z"
   },
   {
    "duration": 10,
    "start_time": "2021-09-02T20:20:20.682Z"
   },
   {
    "duration": 58,
    "start_time": "2021-09-02T20:20:48.785Z"
   },
   {
    "duration": 7037,
    "start_time": "2021-09-02T20:20:48.968Z"
   },
   {
    "duration": 262,
    "start_time": "2021-09-02T20:20:56.008Z"
   },
   {
    "duration": 4,
    "start_time": "2021-09-02T20:20:56.273Z"
   },
   {
    "duration": 26433,
    "start_time": "2021-09-02T20:20:56.279Z"
   },
   {
    "duration": 19,
    "start_time": "2021-09-02T20:21:22.714Z"
   },
   {
    "duration": 3,
    "start_time": "2021-09-02T20:21:22.735Z"
   },
   {
    "duration": 40654,
    "start_time": "2021-09-02T20:21:22.741Z"
   },
   {
    "duration": 86,
    "start_time": "2021-09-02T20:22:03.399Z"
   },
   {
    "duration": 4,
    "start_time": "2021-09-02T20:22:03.488Z"
   },
   {
    "duration": 6063,
    "start_time": "2021-09-02T20:22:34.000Z"
   },
   {
    "duration": 18251,
    "start_time": "2021-09-02T20:22:41.840Z"
   },
   {
    "duration": 117,
    "start_time": "2021-09-02T20:23:00.094Z"
   },
   {
    "duration": 89,
    "start_time": "2021-09-02T20:23:00.213Z"
   },
   {
    "duration": 4,
    "start_time": "2021-09-02T20:23:00.304Z"
   },
   {
    "duration": 60,
    "start_time": "2021-09-02T20:23:00.310Z"
   },
   {
    "duration": 6,
    "start_time": "2021-09-02T20:23:09.975Z"
   },
   {
    "duration": 6,
    "start_time": "2021-09-02T20:23:10.184Z"
   },
   {
    "duration": 56,
    "start_time": "2021-09-02T20:23:10.335Z"
   },
   {
    "duration": 6820,
    "start_time": "2021-09-02T20:23:10.495Z"
   },
   {
    "duration": 265,
    "start_time": "2021-09-02T20:23:17.318Z"
   },
   {
    "duration": 3,
    "start_time": "2021-09-02T20:23:17.587Z"
   },
   {
    "duration": 28623,
    "start_time": "2021-09-02T20:23:17.594Z"
   },
   {
    "duration": 27,
    "start_time": "2021-09-02T20:23:46.220Z"
   },
   {
    "duration": 5,
    "start_time": "2021-09-02T20:23:46.268Z"
   },
   {
    "duration": 21591,
    "start_time": "2021-09-02T20:23:46.276Z"
   },
   {
    "duration": 105,
    "start_time": "2021-09-02T20:24:07.871Z"
   },
   {
    "duration": 4,
    "start_time": "2021-09-02T20:24:07.979Z"
   },
   {
    "duration": 62811,
    "start_time": "2021-09-02T20:24:07.985Z"
   },
   {
    "duration": 414,
    "start_time": "2021-09-02T20:25:10.798Z"
   },
   {
    "duration": 4,
    "start_time": "2021-09-02T20:25:11.215Z"
   },
   {
    "duration": 26008,
    "start_time": "2021-09-02T20:25:11.221Z"
   },
   {
    "duration": 48,
    "start_time": "2021-09-02T20:25:37.232Z"
   },
   {
    "duration": 15,
    "start_time": "2021-09-02T20:25:37.296Z"
   },
   {
    "duration": 4,
    "start_time": "2021-09-02T20:26:54.742Z"
   },
   {
    "duration": 41,
    "start_time": "2021-09-02T20:26:55.436Z"
   },
   {
    "duration": 4,
    "start_time": "2021-09-02T20:27:06.261Z"
   },
   {
    "duration": 11150,
    "start_time": "2021-09-02T20:27:07.037Z"
   },
   {
    "duration": 5,
    "start_time": "2021-09-02T20:27:18.190Z"
   },
   {
    "duration": 10,
    "start_time": "2021-09-02T20:27:18.197Z"
   },
   {
    "duration": 4,
    "start_time": "2021-09-02T20:28:14.420Z"
   },
   {
    "duration": 3,
    "start_time": "2021-09-02T20:28:17.607Z"
   },
   {
    "duration": 37987,
    "start_time": "2021-09-02T20:28:17.885Z"
   },
   {
    "duration": 19,
    "start_time": "2021-09-02T20:28:55.874Z"
   },
   {
    "duration": 6,
    "start_time": "2021-09-02T20:28:55.896Z"
   },
   {
    "duration": 280,
    "start_time": "2021-09-02T20:29:57.572Z"
   },
   {
    "duration": -365,
    "start_time": "2021-09-02T20:29:58.219Z"
   },
   {
    "duration": 265,
    "start_time": "2021-09-02T20:29:58.234Z"
   },
   {
    "duration": 6139,
    "start_time": "2021-09-02T20:30:09.538Z"
   },
   {
    "duration": 9155,
    "start_time": "2021-09-02T20:30:27.394Z"
   },
   {
    "duration": 16,
    "start_time": "2021-09-02T20:30:36.551Z"
   },
   {
    "duration": 11026,
    "start_time": "2021-09-02T20:30:45.667Z"
   },
   {
    "duration": 770,
    "start_time": "2021-09-02T20:30:57.978Z"
   },
   {
    "duration": 259,
    "start_time": "2021-09-02T20:31:13.684Z"
   },
   {
    "duration": 103,
    "start_time": "2021-09-02T20:31:19.122Z"
   },
   {
    "duration": 76,
    "start_time": "2021-09-02T20:31:19.755Z"
   },
   {
    "duration": 4,
    "start_time": "2021-09-02T20:31:23.057Z"
   },
   {
    "duration": 35,
    "start_time": "2021-09-02T20:31:24.291Z"
   },
   {
    "duration": 6,
    "start_time": "2021-09-02T20:31:25.082Z"
   },
   {
    "duration": 11523,
    "start_time": "2021-09-02T20:31:26.179Z"
   },
   {
    "duration": 6,
    "start_time": "2021-09-02T20:31:37.705Z"
   },
   {
    "duration": 6,
    "start_time": "2021-09-02T20:31:37.714Z"
   },
   {
    "duration": 6,
    "start_time": "2021-09-02T20:31:46.283Z"
   },
   {
    "duration": 3,
    "start_time": "2021-09-02T20:31:53.875Z"
   },
   {
    "duration": 3,
    "start_time": "2021-09-02T20:31:54.841Z"
   },
   {
    "duration": 38223,
    "start_time": "2021-09-02T20:31:55.353Z"
   },
   {
    "duration": 18,
    "start_time": "2021-09-02T20:32:33.579Z"
   },
   {
    "duration": 4,
    "start_time": "2021-09-02T20:32:42.787Z"
   },
   {
    "duration": 61331,
    "start_time": "2021-09-02T20:32:43.274Z"
   },
   {
    "duration": 74,
    "start_time": "2021-09-02T20:33:44.608Z"
   },
   {
    "duration": 5,
    "start_time": "2021-09-02T20:33:53.227Z"
   },
   {
    "duration": 295,
    "start_time": "2021-09-02T20:37:54.462Z"
   },
   {
    "duration": 218,
    "start_time": "2021-09-02T20:38:01.997Z"
   },
   {
    "duration": 249,
    "start_time": "2021-09-02T20:38:02.486Z"
   },
   {
    "duration": 229,
    "start_time": "2021-09-02T20:43:53.060Z"
   },
   {
    "duration": 6221,
    "start_time": "2021-09-02T20:43:56.333Z"
   },
   {
    "duration": 14295,
    "start_time": "2021-09-02T20:44:02.557Z"
   },
   {
    "duration": 258,
    "start_time": "2021-09-02T20:44:16.855Z"
   },
   {
    "duration": 110,
    "start_time": "2021-09-02T20:44:17.115Z"
   },
   {
    "duration": 76,
    "start_time": "2021-09-02T20:44:32.836Z"
   },
   {
    "duration": 4,
    "start_time": "2021-09-02T20:44:33.499Z"
   },
   {
    "duration": 231,
    "start_time": "2021-09-02T20:44:43.628Z"
   },
   {
    "duration": 248,
    "start_time": "2021-09-02T20:44:48.138Z"
   },
   {
    "duration": 36,
    "start_time": "2021-09-02T20:44:58.356Z"
   },
   {
    "duration": 20,
    "start_time": "2021-09-02T20:45:12.537Z"
   },
   {
    "duration": 31,
    "start_time": "2021-09-02T20:45:18.307Z"
   },
   {
    "duration": 22,
    "start_time": "2021-09-02T20:45:31.561Z"
   },
   {
    "duration": 23,
    "start_time": "2021-09-02T20:45:59.267Z"
   },
   {
    "duration": 33,
    "start_time": "2021-09-02T20:46:18.446Z"
   },
   {
    "duration": 34,
    "start_time": "2021-09-02T20:46:32.524Z"
   },
   {
    "duration": 44,
    "start_time": "2021-09-02T20:47:20.782Z"
   },
   {
    "duration": 239,
    "start_time": "2021-09-02T20:47:51.889Z"
   },
   {
    "duration": 51,
    "start_time": "2021-09-02T20:48:47.404Z"
   },
   {
    "duration": 234,
    "start_time": "2021-09-02T20:48:50.744Z"
   },
   {
    "duration": 789,
    "start_time": "2021-09-02T20:51:04.710Z"
   },
   {
    "duration": 6,
    "start_time": "2021-09-02T20:51:09.879Z"
   },
   {
    "duration": 40,
    "start_time": "2021-09-02T20:51:10.254Z"
   },
   {
    "duration": 263,
    "start_time": "2021-09-02T20:51:14.855Z"
   },
   {
    "duration": 44,
    "start_time": "2021-09-02T20:51:23.912Z"
   },
   {
    "duration": 386,
    "start_time": "2021-09-02T20:51:26.616Z"
   },
   {
    "duration": 45,
    "start_time": "2021-09-02T20:52:23.032Z"
   },
   {
    "duration": 4832,
    "start_time": "2021-09-02T20:52:23.080Z"
   },
   {
    "duration": 53,
    "start_time": "2021-09-02T20:52:27.915Z"
   },
   {
    "duration": 6527,
    "start_time": "2021-09-02T20:52:31.324Z"
   },
   {
    "duration": 381,
    "start_time": "2021-09-02T20:52:37.854Z"
   },
   {
    "duration": 4,
    "start_time": "2021-09-02T20:52:52.358Z"
   },
   {
    "duration": 155685,
    "start_time": "2021-09-02T20:52:52.790Z"
   },
   {
    "duration": -349,
    "start_time": "2021-09-02T20:55:28.827Z"
   },
   {
    "duration": -354,
    "start_time": "2021-09-02T20:55:28.833Z"
   },
   {
    "duration": -355,
    "start_time": "2021-09-02T20:55:28.836Z"
   },
   {
    "duration": -358,
    "start_time": "2021-09-02T20:55:28.840Z"
   },
   {
    "duration": -360,
    "start_time": "2021-09-02T20:55:28.844Z"
   },
   {
    "duration": -363,
    "start_time": "2021-09-02T20:55:28.848Z"
   },
   {
    "duration": 237,
    "start_time": "2021-09-02T20:55:40.629Z"
   },
   {
    "duration": 6,
    "start_time": "2021-09-02T20:55:49.541Z"
   },
   {
    "duration": 91,
    "start_time": "2021-09-02T20:55:54.796Z"
   },
   {
    "duration": 11,
    "start_time": "2021-09-02T20:55:59.852Z"
   },
   {
    "duration": 4,
    "start_time": "2021-09-02T20:56:33.228Z"
   },
   {
    "duration": 136663,
    "start_time": "2021-09-02T20:56:33.460Z"
   },
   {
    "duration": 582,
    "start_time": "2021-09-02T20:58:50.126Z"
   },
   {
    "duration": 3,
    "start_time": "2021-09-02T20:58:50.711Z"
   },
   {
    "duration": 16830,
    "start_time": "2021-09-02T20:58:50.717Z"
   },
   {
    "duration": 44,
    "start_time": "2021-09-02T20:59:07.549Z"
   },
   {
    "duration": 290,
    "start_time": "2021-09-02T20:59:07.595Z"
   },
   {
    "duration": -347,
    "start_time": "2021-09-02T20:59:08.235Z"
   },
   {
    "duration": -351,
    "start_time": "2021-09-02T20:59:08.240Z"
   },
   {
    "duration": -353,
    "start_time": "2021-09-02T20:59:08.244Z"
   },
   {
    "duration": 4,
    "start_time": "2021-09-02T20:59:21.482Z"
   },
   {
    "duration": 20114,
    "start_time": "2021-09-02T20:59:21.865Z"
   },
   {
    "duration": 19,
    "start_time": "2021-09-02T20:59:41.982Z"
   },
   {
    "duration": 10,
    "start_time": "2021-09-02T20:59:50.126Z"
   },
   {
    "duration": 4,
    "start_time": "2021-09-02T21:00:24.231Z"
   },
   {
    "duration": 570160,
    "start_time": "2021-09-02T21:00:24.473Z"
   },
   {
    "duration": 569,
    "start_time": "2021-09-02T21:09:54.636Z"
   },
   {
    "duration": 10,
    "start_time": "2021-09-02T21:09:55.207Z"
   },
   {
    "duration": 9,
    "start_time": "2021-09-02T21:11:03.618Z"
   },
   {
    "duration": 4,
    "start_time": "2021-09-02T21:11:16.275Z"
   },
   {
    "duration": 20413,
    "start_time": "2021-09-02T21:11:17.460Z"
   },
   {
    "duration": 19,
    "start_time": "2021-09-02T21:11:37.875Z"
   },
   {
    "duration": 14,
    "start_time": "2021-09-02T21:11:58.410Z"
   },
   {
    "duration": 4,
    "start_time": "2021-09-02T21:12:02.225Z"
   },
   {
    "duration": 3456,
    "start_time": "2021-09-02T21:12:02.498Z"
   },
   {
    "duration": 43,
    "start_time": "2021-09-02T21:12:05.957Z"
   },
   {
    "duration": 14,
    "start_time": "2021-09-02T21:13:01.635Z"
   },
   {
    "duration": 4,
    "start_time": "2021-09-02T21:13:43.107Z"
   },
   {
    "duration": 833,
    "start_time": "2021-09-02T21:13:43.482Z"
   },
   {
    "duration": 90,
    "start_time": "2021-09-02T21:13:44.318Z"
   },
   {
    "duration": 4,
    "start_time": "2021-09-02T21:13:50.008Z"
   },
   {
    "duration": 5857,
    "start_time": "2021-09-02T21:13:50.384Z"
   },
   {
    "duration": 93,
    "start_time": "2021-09-02T21:13:56.244Z"
   },
   {
    "duration": 10,
    "start_time": "2021-09-02T21:14:00.578Z"
   },
   {
    "duration": 5,
    "start_time": "2021-09-02T21:14:20.319Z"
   },
   {
    "duration": 4,
    "start_time": "2021-09-02T21:14:49.721Z"
   },
   {
    "duration": 28866,
    "start_time": "2021-09-02T21:14:49.728Z"
   },
   {
    "duration": 25,
    "start_time": "2021-09-02T21:15:18.596Z"
   },
   {
    "duration": 10,
    "start_time": "2021-09-02T21:15:20.673Z"
   },
   {
    "duration": 1326,
    "start_time": "2021-09-02T21:16:10.056Z"
   },
   {
    "duration": 264,
    "start_time": "2021-09-02T21:16:17.319Z"
   },
   {
    "duration": 11,
    "start_time": "2021-09-02T21:16:28.160Z"
   },
   {
    "duration": 95,
    "start_time": "2021-09-02T21:17:01.879Z"
   },
   {
    "duration": 87,
    "start_time": "2021-09-02T21:17:13.176Z"
   },
   {
    "duration": 90,
    "start_time": "2021-09-02T21:17:37.023Z"
   },
   {
    "duration": 248,
    "start_time": "2021-09-02T21:17:46.047Z"
   },
   {
    "duration": 284,
    "start_time": "2021-09-02T21:18:49.738Z"
   },
   {
    "duration": 325,
    "start_time": "2021-09-02T21:18:57.306Z"
   },
   {
    "duration": 430,
    "start_time": "2021-09-02T21:19:00.344Z"
   },
   {
    "duration": -357,
    "start_time": "2021-09-02T21:19:55.242Z"
   },
   {
    "duration": 8,
    "start_time": "2021-09-02T21:20:07.079Z"
   },
   {
    "duration": 5,
    "start_time": "2021-09-02T21:20:14.678Z"
   },
   {
    "duration": 10,
    "start_time": "2021-09-02T21:20:20.461Z"
   },
   {
    "duration": 5,
    "start_time": "2021-09-02T21:20:27.681Z"
   },
   {
    "duration": 11,
    "start_time": "2021-09-02T21:20:30.250Z"
   },
   {
    "duration": 5,
    "start_time": "2021-09-02T21:20:33.122Z"
   },
   {
    "duration": 10,
    "start_time": "2021-09-02T21:20:34.258Z"
   },
   {
    "duration": 5,
    "start_time": "2021-09-02T21:20:39.043Z"
   },
   {
    "duration": 9,
    "start_time": "2021-09-02T21:20:39.477Z"
   },
   {
    "duration": 3,
    "start_time": "2021-09-02T21:20:52.118Z"
   },
   {
    "duration": 10,
    "start_time": "2021-09-02T21:20:56.021Z"
   },
   {
    "duration": 4,
    "start_time": "2021-09-02T21:21:30.965Z"
   },
   {
    "duration": 273618,
    "start_time": "2021-09-02T21:21:32.461Z"
   },
   {
    "duration": 786,
    "start_time": "2021-09-02T21:26:06.081Z"
   },
   {
    "duration": 10,
    "start_time": "2021-09-02T21:27:21.052Z"
   },
   {
    "duration": 56,
    "start_time": "2021-09-02T22:02:36.286Z"
   },
   {
    "duration": 6959,
    "start_time": "2021-09-02T22:02:38.812Z"
   },
   {
    "duration": 250,
    "start_time": "2021-09-02T22:02:45.773Z"
   },
   {
    "duration": 4,
    "start_time": "2021-09-02T22:02:55.028Z"
   },
   {
    "duration": 26716,
    "start_time": "2021-09-02T22:02:55.373Z"
   },
   {
    "duration": 20,
    "start_time": "2021-09-02T22:03:22.091Z"
   },
   {
    "duration": 6003,
    "start_time": "2021-09-02T22:04:11.222Z"
   },
   {
    "duration": 10905,
    "start_time": "2021-09-02T22:04:17.228Z"
   },
   {
    "duration": 102,
    "start_time": "2021-09-02T22:04:28.135Z"
   },
   {
    "duration": 638,
    "start_time": "2021-09-02T22:04:28.239Z"
   },
   {
    "duration": 4,
    "start_time": "2021-09-02T22:04:30.979Z"
   },
   {
    "duration": 34,
    "start_time": "2021-09-02T22:04:33.678Z"
   },
   {
    "duration": 6,
    "start_time": "2021-09-02T22:04:40.662Z"
   },
   {
    "duration": 6,
    "start_time": "2021-09-02T22:04:50.754Z"
   },
   {
    "duration": 64,
    "start_time": "2021-09-02T22:04:51.050Z"
   },
   {
    "duration": 6920,
    "start_time": "2021-09-02T22:04:53.124Z"
   },
   {
    "duration": 266,
    "start_time": "2021-09-02T22:05:00.047Z"
   },
   {
    "duration": 3,
    "start_time": "2021-09-02T22:05:00.316Z"
   },
   {
    "duration": 28669,
    "start_time": "2021-09-02T22:05:00.322Z"
   },
   {
    "duration": 19,
    "start_time": "2021-09-02T22:05:28.993Z"
   },
   {
    "duration": 4,
    "start_time": "2021-09-02T22:06:58.821Z"
   },
   {
    "duration": 45307,
    "start_time": "2021-09-02T22:06:59.085Z"
   },
   {
    "duration": 38,
    "start_time": "2021-09-02T22:07:44.395Z"
   },
   {
    "duration": 33,
    "start_time": "2021-09-02T22:07:44.436Z"
   },
   {
    "duration": 11,
    "start_time": "2021-09-02T22:09:55.896Z"
   },
   {
    "duration": 780,
    "start_time": "2021-09-02T22:10:24.215Z"
   },
   {
    "duration": 32,
    "start_time": "2021-09-02T22:10:26.406Z"
   },
   {
    "duration": 13,
    "start_time": "2021-09-02T22:10:28.928Z"
   },
   {
    "duration": 4,
    "start_time": "2021-09-02T22:10:40.447Z"
   },
   {
    "duration": 1639,
    "start_time": "2021-09-02T22:10:41.816Z"
   },
   {
    "duration": 5979,
    "start_time": "2021-09-02T22:10:44.335Z"
   },
   {
    "duration": 3302561,
    "start_time": "2021-09-02T22:10:56.624Z"
   },
   {
    "duration": 11786,
    "start_time": "2021-09-02T23:05:59.188Z"
   },
   {
    "duration": 61,
    "start_time": "2021-09-02T23:06:10.977Z"
   },
   {
    "duration": 1341,
    "start_time": "2021-09-02T23:06:11.042Z"
   },
   {
    "duration": 10901,
    "start_time": "2021-09-02T23:06:12.386Z"
   },
   {
    "duration": 13,
    "start_time": "2021-09-02T23:06:23.292Z"
   },
   {
    "duration": 5,
    "start_time": "2021-09-02T23:06:23.308Z"
   },
   {
    "duration": 1816,
    "start_time": "2021-09-02T23:06:23.316Z"
   },
   {
    "duration": 68,
    "start_time": "2021-09-02T23:07:30.998Z"
   },
   {
    "duration": 5,
    "start_time": "2021-09-02T23:08:08.943Z"
   },
   {
    "duration": 5,
    "start_time": "2021-09-02T23:08:09.548Z"
   },
   {
    "duration": 302,
    "start_time": "2021-09-02T23:08:21.489Z"
   },
   {
    "duration": 76,
    "start_time": "2021-09-02T23:08:27.358Z"
   },
   {
    "duration": 113,
    "start_time": "2021-09-02T23:08:33.470Z"
   },
   {
    "duration": 78,
    "start_time": "2021-09-02T23:08:36.310Z"
   },
   {
    "duration": 6751,
    "start_time": "2021-09-02T23:09:39.429Z"
   },
   {
    "duration": 6867,
    "start_time": "2021-09-02T23:09:53.180Z"
   },
   {
    "duration": 6,
    "start_time": "2021-09-02T23:10:29.311Z"
   },
   {
    "duration": 14,
    "start_time": "2021-09-02T23:10:49.974Z"
   },
   {
    "duration": 301,
    "start_time": "2021-09-02T23:11:01.588Z"
   },
   {
    "duration": 8825,
    "start_time": "2021-09-02T23:11:18.105Z"
   },
   {
    "duration": 76,
    "start_time": "2021-09-02T23:11:33.523Z"
   },
   {
    "duration": 74,
    "start_time": "2021-09-02T23:11:39.420Z"
   },
   {
    "duration": 263,
    "start_time": "2021-09-02T23:14:25.994Z"
   },
   {
    "duration": 103,
    "start_time": "2021-09-02T23:14:28.738Z"
   },
   {
    "duration": 76,
    "start_time": "2021-09-02T23:14:28.937Z"
   },
   {
    "duration": 21,
    "start_time": "2021-09-02T23:14:29.154Z"
   },
   {
    "duration": 63,
    "start_time": "2021-09-02T23:14:30.434Z"
   },
   {
    "duration": 4,
    "start_time": "2021-09-02T23:14:33.444Z"
   },
   {
    "duration": 11173,
    "start_time": "2021-09-02T23:14:33.875Z"
   },
   {
    "duration": 5,
    "start_time": "2021-09-02T23:14:45.051Z"
   },
   {
    "duration": 12,
    "start_time": "2021-09-02T23:14:45.059Z"
   },
   {
    "duration": 10095,
    "start_time": "2021-09-02T23:14:50.697Z"
   },
   {
    "duration": 9824,
    "start_time": "2021-09-02T23:22:52.377Z"
   },
   {
    "duration": 16270,
    "start_time": "2021-09-02T23:23:18.179Z"
   },
   {
    "duration": 9769,
    "start_time": "2021-09-02T23:23:55.679Z"
   },
   {
    "duration": 94,
    "start_time": "2021-09-02T23:24:29.437Z"
   },
   {
    "duration": 77,
    "start_time": "2021-09-02T23:24:29.694Z"
   },
   {
    "duration": 14,
    "start_time": "2021-09-02T23:24:30.940Z"
   },
   {
    "duration": 40,
    "start_time": "2021-09-02T23:24:36.132Z"
   },
   {
    "duration": 4,
    "start_time": "2021-09-02T23:24:37.789Z"
   },
   {
    "duration": 10893,
    "start_time": "2021-09-02T23:24:38.469Z"
   },
   {
    "duration": 5,
    "start_time": "2021-09-02T23:24:49.367Z"
   },
   {
    "duration": 6,
    "start_time": "2021-09-02T23:24:49.375Z"
   },
   {
    "duration": 4,
    "start_time": "2021-09-02T23:25:16.965Z"
   },
   {
    "duration": 4,
    "start_time": "2021-09-02T23:25:17.243Z"
   },
   {
    "duration": 37938,
    "start_time": "2021-09-02T23:25:17.515Z"
   },
   {
    "duration": 22,
    "start_time": "2021-09-02T23:25:55.456Z"
   },
   {
    "duration": 37910,
    "start_time": "2021-09-02T23:27:10.043Z"
   },
   {
    "duration": 4,
    "start_time": "2021-09-02T23:27:58.147Z"
   },
   {
    "duration": 37851,
    "start_time": "2021-09-02T23:28:00.403Z"
   },
   {
    "duration": 3,
    "start_time": "2021-09-02T23:29:11.427Z"
   },
   {
    "duration": 455,
    "start_time": "2021-09-02T23:29:11.866Z"
   },
   {
    "duration": 3,
    "start_time": "2021-09-02T23:29:33.370Z"
   },
   {
    "duration": 284,
    "start_time": "2021-09-02T23:29:33.731Z"
   },
   {
    "duration": 310,
    "start_time": "2021-09-02T23:29:38.034Z"
   },
   {
    "duration": 4,
    "start_time": "2021-09-02T23:30:29.725Z"
   },
   {
    "duration": 38193,
    "start_time": "2021-09-02T23:30:29.735Z"
   },
   {
    "duration": -454,
    "start_time": "2021-09-02T23:31:08.389Z"
   },
   {
    "duration": -460,
    "start_time": "2021-09-02T23:31:08.396Z"
   },
   {
    "duration": 58191,
    "start_time": "2021-09-02T23:31:17.556Z"
   },
   {
    "duration": 38405,
    "start_time": "2021-09-02T23:32:15.749Z"
   },
   {
    "duration": 10,
    "start_time": "2021-09-03T00:33:35.747Z"
   },
   {
    "duration": 10489,
    "start_time": "2021-09-03T00:33:43.619Z"
   },
   {
    "duration": 16,
    "start_time": "2021-09-03T00:33:54.111Z"
   },
   {
    "duration": 295,
    "start_time": "2021-09-03T00:33:54.131Z"
   },
   {
    "duration": 123,
    "start_time": "2021-09-03T00:33:54.429Z"
   },
   {
    "duration": 81,
    "start_time": "2021-09-03T00:33:54.567Z"
   },
   {
    "duration": 58,
    "start_time": "2021-09-03T00:33:54.650Z"
   },
   {
    "duration": 95,
    "start_time": "2021-09-03T00:33:54.711Z"
   },
   {
    "duration": 5,
    "start_time": "2021-09-03T00:33:54.811Z"
   },
   {
    "duration": 10917,
    "start_time": "2021-09-03T00:33:54.819Z"
   },
   {
    "duration": 5,
    "start_time": "2021-09-03T00:34:05.738Z"
   },
   {
    "duration": 22,
    "start_time": "2021-09-03T00:34:05.746Z"
   },
   {
    "duration": 39256,
    "start_time": "2021-09-03T00:34:05.771Z"
   },
   {
    "duration": 56094,
    "start_time": "2021-09-03T00:34:45.029Z"
   },
   {
    "duration": 6,
    "start_time": "2021-09-03T00:35:41.126Z"
   },
   {
    "duration": 79,
    "start_time": "2021-09-03T00:35:41.134Z"
   },
   {
    "duration": 6837,
    "start_time": "2021-09-03T00:35:41.216Z"
   },
   {
    "duration": 263,
    "start_time": "2021-09-03T00:35:48.056Z"
   },
   {
    "duration": 4,
    "start_time": "2021-09-03T00:35:48.322Z"
   },
   {
    "duration": 30758,
    "start_time": "2021-09-03T00:35:48.328Z"
   },
   {
    "duration": 20,
    "start_time": "2021-09-03T00:36:19.089Z"
   },
   {
    "duration": 4,
    "start_time": "2021-09-03T00:37:05.689Z"
   },
   {
    "duration": 280,
    "start_time": "2021-09-03T00:39:06.200Z"
   },
   {
    "duration": 5848,
    "start_time": "2021-09-03T00:39:11.352Z"
   },
   {
    "duration": 12,
    "start_time": "2021-09-03T00:39:17.203Z"
   },
   {
    "duration": 16369,
    "start_time": "2021-09-03T00:39:25.846Z"
   },
   {
    "duration": 16,
    "start_time": "2021-09-03T00:39:42.218Z"
   },
   {
    "duration": 265,
    "start_time": "2021-09-03T00:39:42.238Z"
   },
   {
    "duration": 118,
    "start_time": "2021-09-03T00:39:42.506Z"
   },
   {
    "duration": 95,
    "start_time": "2021-09-03T00:39:42.627Z"
   },
   {
    "duration": 6,
    "start_time": "2021-09-03T00:39:42.724Z"
   },
   {
    "duration": 56,
    "start_time": "2021-09-03T00:39:42.732Z"
   },
   {
    "duration": 5,
    "start_time": "2021-09-03T00:39:42.792Z"
   },
   {
    "duration": 10897,
    "start_time": "2021-09-03T00:39:42.800Z"
   },
   {
    "duration": 6,
    "start_time": "2021-09-03T00:39:53.699Z"
   },
   {
    "duration": 7,
    "start_time": "2021-09-03T00:39:53.707Z"
   },
   {
    "duration": 38509,
    "start_time": "2021-09-03T00:39:53.716Z"
   },
   {
    "duration": 56094,
    "start_time": "2021-09-03T00:40:32.228Z"
   },
   {
    "duration": 7,
    "start_time": "2021-09-03T00:41:28.325Z"
   },
   {
    "duration": 85,
    "start_time": "2021-09-03T00:41:28.335Z"
   },
   {
    "duration": 6780,
    "start_time": "2021-09-03T00:41:28.423Z"
   },
   {
    "duration": 258,
    "start_time": "2021-09-03T00:41:35.205Z"
   },
   {
    "duration": 4,
    "start_time": "2021-09-03T00:41:35.467Z"
   },
   {
    "duration": 13061,
    "start_time": "2021-09-03T00:41:35.473Z"
   },
   {
    "duration": -483,
    "start_time": "2021-09-03T00:41:49.020Z"
   },
   {
    "duration": -486,
    "start_time": "2021-09-03T00:41:49.025Z"
   },
   {
    "duration": -488,
    "start_time": "2021-09-03T00:41:49.029Z"
   },
   {
    "duration": -491,
    "start_time": "2021-09-03T00:41:49.033Z"
   },
   {
    "duration": -493,
    "start_time": "2021-09-03T00:41:49.037Z"
   },
   {
    "duration": -497,
    "start_time": "2021-09-03T00:41:49.042Z"
   },
   {
    "duration": -500,
    "start_time": "2021-09-03T00:41:49.046Z"
   },
   {
    "duration": 10512,
    "start_time": "2021-09-03T00:41:56.686Z"
   },
   {
    "duration": 13,
    "start_time": "2021-09-03T00:42:07.200Z"
   },
   {
    "duration": 271,
    "start_time": "2021-09-03T00:42:07.216Z"
   },
   {
    "duration": 241,
    "start_time": "2021-09-03T00:42:19.749Z"
   },
   {
    "duration": 111,
    "start_time": "2021-09-03T00:42:21.453Z"
   },
   {
    "duration": 79,
    "start_time": "2021-09-03T00:42:21.741Z"
   },
   {
    "duration": 42,
    "start_time": "2021-09-03T00:42:21.996Z"
   },
   {
    "duration": 61,
    "start_time": "2021-09-03T00:42:22.645Z"
   },
   {
    "duration": 5,
    "start_time": "2021-09-03T00:42:25.380Z"
   },
   {
    "duration": 10976,
    "start_time": "2021-09-03T00:42:25.900Z"
   },
   {
    "duration": 5,
    "start_time": "2021-09-03T00:42:36.879Z"
   },
   {
    "duration": 6,
    "start_time": "2021-09-03T00:42:36.887Z"
   },
   {
    "duration": 39428,
    "start_time": "2021-09-03T00:42:36.896Z"
   },
   {
    "duration": 39337,
    "start_time": "2021-09-03T00:43:21.493Z"
   },
   {
    "duration": 61135,
    "start_time": "2021-09-03T00:44:24.397Z"
   },
   {
    "duration": 6,
    "start_time": "2021-09-03T00:45:37.372Z"
   },
   {
    "duration": 55,
    "start_time": "2021-09-03T00:45:37.634Z"
   },
   {
    "duration": 6,
    "start_time": "2021-09-03T00:45:44.634Z"
   },
   {
    "duration": 69,
    "start_time": "2021-09-03T00:45:44.642Z"
   },
   {
    "duration": 6790,
    "start_time": "2021-09-03T00:45:44.714Z"
   },
   {
    "duration": 249,
    "start_time": "2021-09-03T00:45:51.506Z"
   },
   {
    "duration": 46,
    "start_time": "2021-09-03T00:46:08.964Z"
   },
   {
    "duration": 5114,
    "start_time": "2021-09-03T00:46:09.323Z"
   },
   {
    "duration": 247,
    "start_time": "2021-09-03T00:46:14.440Z"
   },
   {
    "duration": 3,
    "start_time": "2021-09-03T00:46:14.690Z"
   },
   {
    "duration": 20880,
    "start_time": "2021-09-03T00:46:14.696Z"
   },
   {
    "duration": 19,
    "start_time": "2021-09-03T00:46:35.579Z"
   },
   {
    "duration": 4,
    "start_time": "2021-09-03T00:46:52.620Z"
   },
   {
    "duration": 244551,
    "start_time": "2021-09-03T00:46:52.627Z"
   },
   {
    "duration": 798,
    "start_time": "2021-09-03T00:50:57.181Z"
   },
   {
    "duration": 4,
    "start_time": "2021-09-03T00:51:39.672Z"
   },
   {
    "duration": 565625,
    "start_time": "2021-09-03T00:51:41.535Z"
   },
   {
    "duration": 550,
    "start_time": "2021-09-03T01:01:07.163Z"
   },
   {
    "duration": 12,
    "start_time": "2021-09-03T01:01:18.179Z"
   },
   {
    "duration": 3,
    "start_time": "2021-09-03T01:01:21.474Z"
   },
   {
    "duration": 28291,
    "start_time": "2021-09-03T01:01:21.800Z"
   },
   {
    "duration": 38,
    "start_time": "2021-09-03T01:01:50.094Z"
   },
   {
    "duration": 10,
    "start_time": "2021-09-03T01:01:56.358Z"
   },
   {
    "duration": 4,
    "start_time": "2021-09-03T01:02:14.152Z"
   },
   {
    "duration": 22335,
    "start_time": "2021-09-03T01:02:14.441Z"
   },
   {
    "duration": 19,
    "start_time": "2021-09-03T01:02:36.778Z"
   },
   {
    "duration": 10,
    "start_time": "2021-09-03T01:02:43.355Z"
   },
   {
    "duration": 7724,
    "start_time": "2021-09-03T11:58:41.462Z"
   },
   {
    "duration": 1744,
    "start_time": "2021-09-03T11:58:47.478Z"
   },
   {
    "duration": 14685,
    "start_time": "2021-09-03T11:59:19.709Z"
   },
   {
    "duration": 37,
    "start_time": "2021-09-03T11:59:34.396Z"
   },
   {
    "duration": 22,
    "start_time": "2021-09-03T11:59:34.436Z"
   },
   {
    "duration": 815,
    "start_time": "2021-09-03T12:00:12.407Z"
   },
   {
    "duration": 13,
    "start_time": "2021-09-03T12:00:22.675Z"
   }
  ],
  "kernelspec": {
   "display_name": "Python 3 (ipykernel)",
   "language": "python",
   "name": "python3"
  },
  "language_info": {
   "codemirror_mode": {
    "name": "ipython",
    "version": 3
   },
   "file_extension": ".py",
   "mimetype": "text/x-python",
   "name": "python",
   "nbconvert_exporter": "python",
   "pygments_lexer": "ipython3",
   "version": "3.9.5"
  },
  "toc": {
   "base_numbering": 1,
   "nav_menu": {},
   "number_sections": true,
   "sideBar": true,
   "skip_h1_title": true,
   "title_cell": "Содержание",
   "title_sidebar": "Contents",
   "toc_cell": true,
   "toc_position": {
    "height": "calc(100% - 180px)",
    "left": "10px",
    "top": "150px",
    "width": "302.391px"
   },
   "toc_section_display": true,
   "toc_window_display": true
  }
 },
 "nbformat": 4,
 "nbformat_minor": 2
}
