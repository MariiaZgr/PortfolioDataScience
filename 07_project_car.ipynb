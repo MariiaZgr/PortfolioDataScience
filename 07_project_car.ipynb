{
 "cells": [
  {
   "cell_type": "markdown",
   "metadata": {},
   "source": [
    "# Определение стоимости автомобилей"
   ]
  },
  {
   "cell_type": "markdown",
   "metadata": {},
   "source": [
    "Сервис по продаже автомобилей с пробегом «Не бит, не крашен» разрабатывает приложение для привлечения новых клиентов. В нём можно быстро узнать рыночную стоимость своего автомобиля. В вашем распоряжении исторические данные: технические характеристики, комплектации и цены автомобилей. Вам нужно построить модель для определения стоимости. \n",
    "\n",
    "Заказчику важны:\n",
    "\n",
    "- качество предсказания;\n",
    "- скорость предсказания;\n",
    "- время обучения."
   ]
  },
  {
   "cell_type": "markdown",
   "metadata": {},
   "source": [
    "План выполнения проекта:\n",
    "\n",
    "Загрузим и подготовим данные.<br>\n",
    "Обучим разные модели. Для каждой попробуйте различные гиперпараметры.<br>\n",
    "Проанализируем скорость работы и качество моделей, применяя метрику RMSE.<br>\n"
   ]
  },
  {
   "cell_type": "markdown",
   "metadata": {},
   "source": [
    "Признаки<br>\n",
    "DateCrawled — дата скачивания анкеты из базы<br>\n",
    "VehicleType — тип автомобильного кузова<br>\n",
    "RegistrationYear — год регистрации автомобиля<br>\n",
    "Gearbox — тип коробки передач<br>\n",
    "Power — мощность (л. с.)<br>\n",
    "Model — модель автомобиля<br>\n",
    "Kilometer — пробег (км)<br>\n",
    "RegistrationMonth — месяц регистрации автомобиля<br>\n",
    "FuelType — тип топлива<br>\n",
    "Brand — марка автомобиля<br>\n",
    "NotRepaired — была машина в ремонте или нет<br>\n",
    "DateCreated — дата создания анкеты<br>\n",
    "NumberOfPictures — количество фотографий автомобиля<br>\n",
    "PostalCode — почтовый индекс владельца анкеты (пользователя)<br>\n",
    "LastSeen — дата последней активности пользователя<br>\n",
    "\n",
    "Целевой признак<br>\n",
    "Price — цена (евро)<br>"
   ]
  },
  {
   "cell_type": "code",
   "execution_count": 1,
   "metadata": {},
   "outputs": [],
   "source": [
    "import pandas as pd\n",
    "import numpy as np\n",
    "import time\n",
    "\n",
    "from sklearn.model_selection import train_test_split\n",
    "from sklearn.metrics import mean_squared_error\n",
    "from scipy import stats as st\n",
    "from sklearn.metrics import roc_auc_score, roc_curve, precision_recall_curve, mean_absolute_error, make_scorer\n",
    "\n",
    "from sklearn.pipeline import  make_pipeline\n",
    "from sklearn.ensemble import RandomForestRegressor\n",
    "from sklearn.preprocessing import StandardScaler\n",
    "from sklearn.model_selection import cross_val_score\n",
    "from sklearn.model_selection import GridSearchCV\n",
    "from sklearn.preprocessing import PolynomialFeatures\n",
    "from sklearn.linear_model import LinearRegression\n",
    "from sklearn.tree import DecisionTreeRegressor\n",
    "from sklearn.dummy import DummyRegressor\n",
    "from catboost import CatBoostRegressor, Pool, cv\n",
    "from lightgbm import LGBMRegressor\n",
    "from sklearn.preprocessing import OrdinalEncoder\n",
    "\n",
    "import lime \n",
    "import lime.lime_tabular \n",
    "\n",
    "\n",
    "import matplotlib.pyplot as plt\n",
    "import seaborn as sns\n",
    "sns.set(style=\"whitegrid\")\n",
    "\n",
    "import warnings\n",
    "warnings.filterwarnings('ignore')"
   ]
  },
  {
   "cell_type": "markdown",
   "metadata": {},
   "source": [
    "## Подготовка данных"
   ]
  },
  {
   "cell_type": "markdown",
   "metadata": {},
   "source": [
    "Изучим данные таблиц."
   ]
  },
  {
   "cell_type": "code",
   "execution_count": 2,
   "metadata": {},
   "outputs": [],
   "source": [
    "autos = pd.read_csv('/datasets/autos.csv')"
   ]
  },
  {
   "cell_type": "code",
   "execution_count": 3,
   "metadata": {},
   "outputs": [
    {
     "name": "stdout",
     "output_type": "stream",
     "text": [
      "<class 'pandas.core.frame.DataFrame'>\n",
      "RangeIndex: 354369 entries, 0 to 354368\n",
      "Data columns (total 16 columns):\n",
      "DateCrawled          354369 non-null object\n",
      "Price                354369 non-null int64\n",
      "VehicleType          316879 non-null object\n",
      "RegistrationYear     354369 non-null int64\n",
      "Gearbox              334536 non-null object\n",
      "Power                354369 non-null int64\n",
      "Model                334664 non-null object\n",
      "Kilometer            354369 non-null int64\n",
      "RegistrationMonth    354369 non-null int64\n",
      "FuelType             321474 non-null object\n",
      "Brand                354369 non-null object\n",
      "NotRepaired          283215 non-null object\n",
      "DateCreated          354369 non-null object\n",
      "NumberOfPictures     354369 non-null int64\n",
      "PostalCode           354369 non-null int64\n",
      "LastSeen             354369 non-null object\n",
      "dtypes: int64(7), object(9)\n",
      "memory usage: 43.3+ MB\n"
     ]
    }
   ],
   "source": [
    "autos.info()"
   ]
  },
  {
   "cell_type": "markdown",
   "metadata": {},
   "source": [
    "Рассмотрим пропуски"
   ]
  },
  {
   "cell_type": "code",
   "execution_count": 4,
   "metadata": {},
   "outputs": [
    {
     "data": {
      "text/plain": [
       "DateCrawled              0\n",
       "Price                    0\n",
       "VehicleType          37490\n",
       "RegistrationYear         0\n",
       "Gearbox              19833\n",
       "Power                    0\n",
       "Model                19705\n",
       "Kilometer                0\n",
       "RegistrationMonth        0\n",
       "FuelType             32895\n",
       "Brand                    0\n",
       "NotRepaired          71154\n",
       "DateCreated              0\n",
       "NumberOfPictures         0\n",
       "PostalCode               0\n",
       "LastSeen                 0\n",
       "dtype: int64"
      ]
     },
     "execution_count": 4,
     "metadata": {},
     "output_type": "execute_result"
    }
   ],
   "source": [
    "autos.isnull().sum()"
   ]
  },
  {
   "cell_type": "markdown",
   "metadata": {},
   "source": [
    "D таблице 354369 строк. Много пропусков в столбцах VehicleType, Gearbox, Model и NotRepaired. \n"
   ]
  },
  {
   "cell_type": "markdown",
   "metadata": {},
   "source": [
    "Рассмотрим, есть ли аномальные значения"
   ]
  },
  {
   "cell_type": "code",
   "execution_count": 5,
   "metadata": {},
   "outputs": [
    {
     "data": {
      "text/html": [
       "<div>\n",
       "<style scoped>\n",
       "    .dataframe tbody tr th:only-of-type {\n",
       "        vertical-align: middle;\n",
       "    }\n",
       "\n",
       "    .dataframe tbody tr th {\n",
       "        vertical-align: top;\n",
       "    }\n",
       "\n",
       "    .dataframe thead th {\n",
       "        text-align: right;\n",
       "    }\n",
       "</style>\n",
       "<table border=\"1\" class=\"dataframe\">\n",
       "  <thead>\n",
       "    <tr style=\"text-align: right;\">\n",
       "      <th></th>\n",
       "      <th>Price</th>\n",
       "      <th>RegistrationYear</th>\n",
       "      <th>Power</th>\n",
       "      <th>Kilometer</th>\n",
       "      <th>RegistrationMonth</th>\n",
       "      <th>NumberOfPictures</th>\n",
       "      <th>PostalCode</th>\n",
       "    </tr>\n",
       "  </thead>\n",
       "  <tbody>\n",
       "    <tr>\n",
       "      <td>count</td>\n",
       "      <td>354369.000000</td>\n",
       "      <td>354369.000000</td>\n",
       "      <td>354369.000000</td>\n",
       "      <td>354369.000000</td>\n",
       "      <td>354369.000000</td>\n",
       "      <td>354369.0</td>\n",
       "      <td>354369.000000</td>\n",
       "    </tr>\n",
       "    <tr>\n",
       "      <td>mean</td>\n",
       "      <td>4416.656776</td>\n",
       "      <td>2004.234448</td>\n",
       "      <td>110.094337</td>\n",
       "      <td>128211.172535</td>\n",
       "      <td>5.714645</td>\n",
       "      <td>0.0</td>\n",
       "      <td>50508.689087</td>\n",
       "    </tr>\n",
       "    <tr>\n",
       "      <td>std</td>\n",
       "      <td>4514.158514</td>\n",
       "      <td>90.227958</td>\n",
       "      <td>189.850405</td>\n",
       "      <td>37905.341530</td>\n",
       "      <td>3.726421</td>\n",
       "      <td>0.0</td>\n",
       "      <td>25783.096248</td>\n",
       "    </tr>\n",
       "    <tr>\n",
       "      <td>min</td>\n",
       "      <td>0.000000</td>\n",
       "      <td>1000.000000</td>\n",
       "      <td>0.000000</td>\n",
       "      <td>5000.000000</td>\n",
       "      <td>0.000000</td>\n",
       "      <td>0.0</td>\n",
       "      <td>1067.000000</td>\n",
       "    </tr>\n",
       "    <tr>\n",
       "      <td>25%</td>\n",
       "      <td>1050.000000</td>\n",
       "      <td>1999.000000</td>\n",
       "      <td>69.000000</td>\n",
       "      <td>125000.000000</td>\n",
       "      <td>3.000000</td>\n",
       "      <td>0.0</td>\n",
       "      <td>30165.000000</td>\n",
       "    </tr>\n",
       "    <tr>\n",
       "      <td>50%</td>\n",
       "      <td>2700.000000</td>\n",
       "      <td>2003.000000</td>\n",
       "      <td>105.000000</td>\n",
       "      <td>150000.000000</td>\n",
       "      <td>6.000000</td>\n",
       "      <td>0.0</td>\n",
       "      <td>49413.000000</td>\n",
       "    </tr>\n",
       "    <tr>\n",
       "      <td>75%</td>\n",
       "      <td>6400.000000</td>\n",
       "      <td>2008.000000</td>\n",
       "      <td>143.000000</td>\n",
       "      <td>150000.000000</td>\n",
       "      <td>9.000000</td>\n",
       "      <td>0.0</td>\n",
       "      <td>71083.000000</td>\n",
       "    </tr>\n",
       "    <tr>\n",
       "      <td>max</td>\n",
       "      <td>20000.000000</td>\n",
       "      <td>9999.000000</td>\n",
       "      <td>20000.000000</td>\n",
       "      <td>150000.000000</td>\n",
       "      <td>12.000000</td>\n",
       "      <td>0.0</td>\n",
       "      <td>99998.000000</td>\n",
       "    </tr>\n",
       "  </tbody>\n",
       "</table>\n",
       "</div>"
      ],
      "text/plain": [
       "               Price  RegistrationYear          Power      Kilometer  \\\n",
       "count  354369.000000     354369.000000  354369.000000  354369.000000   \n",
       "mean     4416.656776       2004.234448     110.094337  128211.172535   \n",
       "std      4514.158514         90.227958     189.850405   37905.341530   \n",
       "min         0.000000       1000.000000       0.000000    5000.000000   \n",
       "25%      1050.000000       1999.000000      69.000000  125000.000000   \n",
       "50%      2700.000000       2003.000000     105.000000  150000.000000   \n",
       "75%      6400.000000       2008.000000     143.000000  150000.000000   \n",
       "max     20000.000000       9999.000000   20000.000000  150000.000000   \n",
       "\n",
       "       RegistrationMonth  NumberOfPictures     PostalCode  \n",
       "count      354369.000000          354369.0  354369.000000  \n",
       "mean            5.714645               0.0   50508.689087  \n",
       "std             3.726421               0.0   25783.096248  \n",
       "min             0.000000               0.0    1067.000000  \n",
       "25%             3.000000               0.0   30165.000000  \n",
       "50%             6.000000               0.0   49413.000000  \n",
       "75%             9.000000               0.0   71083.000000  \n",
       "max            12.000000               0.0   99998.000000  "
      ]
     },
     "execution_count": 5,
     "metadata": {},
     "output_type": "execute_result"
    }
   ],
   "source": [
    "autos.describe()"
   ]
  },
  {
   "cell_type": "markdown",
   "metadata": {},
   "source": [
    "Есть нулевые значения в графе \"цена\", год выпуска в периоде 1000-9999, аномальные цифры мощности свыше тысячи л.с. "
   ]
  },
  {
   "cell_type": "markdown",
   "metadata": {},
   "source": [
    "Уберем столбцы, которые не нужны для построения модели. "
   ]
  },
  {
   "cell_type": "markdown",
   "metadata": {},
   "source": [
    "Построим корреляции"
   ]
  },
  {
   "cell_type": "code",
   "execution_count": 6,
   "metadata": {},
   "outputs": [
    {
     "data": {
      "text/plain": [
       "<matplotlib.axes._subplots.AxesSubplot at 0x7f362475fed0>"
      ]
     },
     "execution_count": 6,
     "metadata": {},
     "output_type": "execute_result"
    },
    {
     "data": {
      "image/png": "[encoded data removed]",
      "text/plain": [
       "<Figure size 576x432 with 1 Axes>"
      ]
     },
     "metadata": {},
     "output_type": "display_data"
    }
   ],
   "source": [
    "plt.figure(figsize=(8,6))\n",
    "sns.heatmap(autos.corr(), annot = True, cmap='coolwarm',\n",
    "            linecolor='black', linewidths=2, cbar=False)"
   ]
  },
  {
   "cell_type": "markdown",
   "metadata": {},
   "source": [
    "Уберем столбцы DateCrawled, DateCreated, LastSeen, PostalCode. NumberOfPictures - пустой. RegistrationMonth практически не имеет связи с ценой и только утяжеляет модель. "
   ]
  },
  {
   "cell_type": "code",
   "execution_count": 7,
   "metadata": {},
   "outputs": [],
   "source": [
    "autos = autos.drop(['DateCrawled' , 'DateCreated', 'LastSeen', 'NumberOfPictures', 'RegistrationMonth', 'PostalCode'], axis=1)"
   ]
  },
  {
   "cell_type": "markdown",
   "metadata": {},
   "source": [
    "Пересортируем оставшиеся"
   ]
  },
  {
   "cell_type": "code",
   "execution_count": 8,
   "metadata": {},
   "outputs": [],
   "source": [
    "column_names = ['Brand','Model','VehicleType','RegistrationYear','Gearbox','Power','FuelType','Kilometer','NotRepaired','Price']\n",
    "autos = autos.reindex(columns=column_names)"
   ]
  },
  {
   "cell_type": "code",
   "execution_count": 9,
   "metadata": {},
   "outputs": [
    {
     "data": {
      "text/html": [
       "<div>\n",
       "<style scoped>\n",
       "    .dataframe tbody tr th:only-of-type {\n",
       "        vertical-align: middle;\n",
       "    }\n",
       "\n",
       "    .dataframe tbody tr th {\n",
       "        vertical-align: top;\n",
       "    }\n",
       "\n",
       "    .dataframe thead th {\n",
       "        text-align: right;\n",
       "    }\n",
       "</style>\n",
       "<table border=\"1\" class=\"dataframe\">\n",
       "  <thead>\n",
       "    <tr style=\"text-align: right;\">\n",
       "      <th></th>\n",
       "      <th>Brand</th>\n",
       "      <th>Model</th>\n",
       "      <th>VehicleType</th>\n",
       "      <th>RegistrationYear</th>\n",
       "      <th>Gearbox</th>\n",
       "      <th>Power</th>\n",
       "      <th>FuelType</th>\n",
       "      <th>Kilometer</th>\n",
       "      <th>NotRepaired</th>\n",
       "      <th>Price</th>\n",
       "    </tr>\n",
       "  </thead>\n",
       "  <tbody>\n",
       "    <tr>\n",
       "      <td>0</td>\n",
       "      <td>volkswagen</td>\n",
       "      <td>golf</td>\n",
       "      <td>NaN</td>\n",
       "      <td>1993</td>\n",
       "      <td>manual</td>\n",
       "      <td>0</td>\n",
       "      <td>petrol</td>\n",
       "      <td>150000</td>\n",
       "      <td>NaN</td>\n",
       "      <td>480</td>\n",
       "    </tr>\n",
       "    <tr>\n",
       "      <td>1</td>\n",
       "      <td>audi</td>\n",
       "      <td>NaN</td>\n",
       "      <td>coupe</td>\n",
       "      <td>2011</td>\n",
       "      <td>manual</td>\n",
       "      <td>190</td>\n",
       "      <td>gasoline</td>\n",
       "      <td>125000</td>\n",
       "      <td>yes</td>\n",
       "      <td>18300</td>\n",
       "    </tr>\n",
       "    <tr>\n",
       "      <td>2</td>\n",
       "      <td>jeep</td>\n",
       "      <td>grand</td>\n",
       "      <td>suv</td>\n",
       "      <td>2004</td>\n",
       "      <td>auto</td>\n",
       "      <td>163</td>\n",
       "      <td>gasoline</td>\n",
       "      <td>125000</td>\n",
       "      <td>NaN</td>\n",
       "      <td>9800</td>\n",
       "    </tr>\n",
       "    <tr>\n",
       "      <td>3</td>\n",
       "      <td>volkswagen</td>\n",
       "      <td>golf</td>\n",
       "      <td>small</td>\n",
       "      <td>2001</td>\n",
       "      <td>manual</td>\n",
       "      <td>75</td>\n",
       "      <td>petrol</td>\n",
       "      <td>150000</td>\n",
       "      <td>no</td>\n",
       "      <td>1500</td>\n",
       "    </tr>\n",
       "    <tr>\n",
       "      <td>4</td>\n",
       "      <td>skoda</td>\n",
       "      <td>fabia</td>\n",
       "      <td>small</td>\n",
       "      <td>2008</td>\n",
       "      <td>manual</td>\n",
       "      <td>69</td>\n",
       "      <td>gasoline</td>\n",
       "      <td>90000</td>\n",
       "      <td>no</td>\n",
       "      <td>3600</td>\n",
       "    </tr>\n",
       "    <tr>\n",
       "      <td>...</td>\n",
       "      <td>...</td>\n",
       "      <td>...</td>\n",
       "      <td>...</td>\n",
       "      <td>...</td>\n",
       "      <td>...</td>\n",
       "      <td>...</td>\n",
       "      <td>...</td>\n",
       "      <td>...</td>\n",
       "      <td>...</td>\n",
       "      <td>...</td>\n",
       "    </tr>\n",
       "    <tr>\n",
       "      <td>354364</td>\n",
       "      <td>mitsubishi</td>\n",
       "      <td>colt</td>\n",
       "      <td>NaN</td>\n",
       "      <td>2005</td>\n",
       "      <td>manual</td>\n",
       "      <td>0</td>\n",
       "      <td>petrol</td>\n",
       "      <td>150000</td>\n",
       "      <td>yes</td>\n",
       "      <td>0</td>\n",
       "    </tr>\n",
       "    <tr>\n",
       "      <td>354365</td>\n",
       "      <td>sonstige_autos</td>\n",
       "      <td>NaN</td>\n",
       "      <td>NaN</td>\n",
       "      <td>2005</td>\n",
       "      <td>NaN</td>\n",
       "      <td>0</td>\n",
       "      <td>NaN</td>\n",
       "      <td>20000</td>\n",
       "      <td>NaN</td>\n",
       "      <td>2200</td>\n",
       "    </tr>\n",
       "    <tr>\n",
       "      <td>354366</td>\n",
       "      <td>smart</td>\n",
       "      <td>fortwo</td>\n",
       "      <td>convertible</td>\n",
       "      <td>2000</td>\n",
       "      <td>auto</td>\n",
       "      <td>101</td>\n",
       "      <td>petrol</td>\n",
       "      <td>125000</td>\n",
       "      <td>no</td>\n",
       "      <td>1199</td>\n",
       "    </tr>\n",
       "    <tr>\n",
       "      <td>354367</td>\n",
       "      <td>volkswagen</td>\n",
       "      <td>transporter</td>\n",
       "      <td>bus</td>\n",
       "      <td>1996</td>\n",
       "      <td>manual</td>\n",
       "      <td>102</td>\n",
       "      <td>gasoline</td>\n",
       "      <td>150000</td>\n",
       "      <td>no</td>\n",
       "      <td>9200</td>\n",
       "    </tr>\n",
       "    <tr>\n",
       "      <td>354368</td>\n",
       "      <td>volkswagen</td>\n",
       "      <td>golf</td>\n",
       "      <td>wagon</td>\n",
       "      <td>2002</td>\n",
       "      <td>manual</td>\n",
       "      <td>100</td>\n",
       "      <td>gasoline</td>\n",
       "      <td>150000</td>\n",
       "      <td>NaN</td>\n",
       "      <td>3400</td>\n",
       "    </tr>\n",
       "  </tbody>\n",
       "</table>\n",
       "<p>354369 rows × 10 columns</p>\n",
       "</div>"
      ],
      "text/plain": [
       "                 Brand        Model  VehicleType  RegistrationYear Gearbox  \\\n",
       "0           volkswagen         golf          NaN              1993  manual   \n",
       "1                 audi          NaN        coupe              2011  manual   \n",
       "2                 jeep        grand          suv              2004    auto   \n",
       "3           volkswagen         golf        small              2001  manual   \n",
       "4                skoda        fabia        small              2008  manual   \n",
       "...                ...          ...          ...               ...     ...   \n",
       "354364      mitsubishi         colt          NaN              2005  manual   \n",
       "354365  sonstige_autos          NaN          NaN              2005     NaN   \n",
       "354366           smart       fortwo  convertible              2000    auto   \n",
       "354367      volkswagen  transporter          bus              1996  manual   \n",
       "354368      volkswagen         golf        wagon              2002  manual   \n",
       "\n",
       "        Power  FuelType  Kilometer NotRepaired  Price  \n",
       "0           0    petrol     150000         NaN    480  \n",
       "1         190  gasoline     125000         yes  18300  \n",
       "2         163  gasoline     125000         NaN   9800  \n",
       "3          75    petrol     150000          no   1500  \n",
       "4          69  gasoline      90000          no   3600  \n",
       "...       ...       ...        ...         ...    ...  \n",
       "354364      0    petrol     150000         yes      0  \n",
       "354365      0       NaN      20000         NaN   2200  \n",
       "354366    101    petrol     125000          no   1199  \n",
       "354367    102  gasoline     150000          no   9200  \n",
       "354368    100  gasoline     150000         NaN   3400  \n",
       "\n",
       "[354369 rows x 10 columns]"
      ]
     },
     "execution_count": 9,
     "metadata": {},
     "output_type": "execute_result"
    }
   ],
   "source": [
    "autos"
   ]
  },
  {
   "cell_type": "markdown",
   "metadata": {},
   "source": [
    "Посмотрим на распределения признаков. "
   ]
  },
  {
   "cell_type": "code",
   "execution_count": 10,
   "metadata": {},
   "outputs": [
    {
     "data": {
      "text/plain": [
       "<matplotlib.axes._subplots.AxesSubplot at 0x7f3623bdec90>"
      ]
     },
     "execution_count": 10,
     "metadata": {},
     "output_type": "execute_result"
    },
    {
     "data": {
      "image/png": "[encoded data removed]",
      "text/plain": [
       "<Figure size 576x288 with 1 Axes>"
      ]
     },
     "metadata": {},
     "output_type": "display_data"
    }
   ],
   "source": [
    "plt.figure(figsize=(8,4))\n",
    "plt.title('Распределение целевого признака')\n",
    "sns.distplot(autos['Price'], color=\"Teal\", kde=False, bins=120)"
   ]
  },
  {
   "cell_type": "code",
   "execution_count": 11,
   "metadata": {},
   "outputs": [
    {
     "data": {
      "text/plain": [
       "<matplotlib.axes._subplots.AxesSubplot at 0x7f36207b9290>"
      ]
     },
     "execution_count": 11,
     "metadata": {},
     "output_type": "execute_result"
    },
    {
     "data": {
      "image/png": "[encoded data removed]",
      "text/plain": [
       "<Figure size 1008x144 with 1 Axes>"
      ]
     },
     "metadata": {},
     "output_type": "display_data"
    }
   ],
   "source": [
    "plt.figure(figsize=(14,2))\n",
    "plt.title('Распределение целевого признака')\n",
    "sns.boxplot(data=autos, x='Price', palette=\"Set2\")"
   ]
  },
  {
   "cell_type": "code",
   "execution_count": 12,
   "metadata": {},
   "outputs": [
    {
     "data": {
      "text/html": [
       "<div>\n",
       "<style scoped>\n",
       "    .dataframe tbody tr th:only-of-type {\n",
       "        vertical-align: middle;\n",
       "    }\n",
       "\n",
       "    .dataframe tbody tr th {\n",
       "        vertical-align: top;\n",
       "    }\n",
       "\n",
       "    .dataframe thead th {\n",
       "        text-align: right;\n",
       "    }\n",
       "</style>\n",
       "<table border=\"1\" class=\"dataframe\">\n",
       "  <thead>\n",
       "    <tr style=\"text-align: right;\">\n",
       "      <th></th>\n",
       "      <th>Brand</th>\n",
       "      <th>Model</th>\n",
       "      <th>VehicleType</th>\n",
       "      <th>RegistrationYear</th>\n",
       "      <th>Gearbox</th>\n",
       "      <th>Power</th>\n",
       "      <th>FuelType</th>\n",
       "      <th>Kilometer</th>\n",
       "      <th>NotRepaired</th>\n",
       "      <th>Price</th>\n",
       "    </tr>\n",
       "  </thead>\n",
       "  <tbody>\n",
       "    <tr>\n",
       "      <td>302739</td>\n",
       "      <td>volkswagen</td>\n",
       "      <td>passat</td>\n",
       "      <td>wagon</td>\n",
       "      <td>2011</td>\n",
       "      <td>auto</td>\n",
       "      <td>170</td>\n",
       "      <td>gasoline</td>\n",
       "      <td>150000</td>\n",
       "      <td>no</td>\n",
       "      <td>20000</td>\n",
       "    </tr>\n",
       "    <tr>\n",
       "      <td>315772</td>\n",
       "      <td>bmw</td>\n",
       "      <td>5er</td>\n",
       "      <td>sedan</td>\n",
       "      <td>2010</td>\n",
       "      <td>auto</td>\n",
       "      <td>184</td>\n",
       "      <td>gasoline</td>\n",
       "      <td>125000</td>\n",
       "      <td>no</td>\n",
       "      <td>20000</td>\n",
       "    </tr>\n",
       "    <tr>\n",
       "      <td>228640</td>\n",
       "      <td>mercedes_benz</td>\n",
       "      <td>c_klasse</td>\n",
       "      <td>sedan</td>\n",
       "      <td>2011</td>\n",
       "      <td>auto</td>\n",
       "      <td>265</td>\n",
       "      <td>gasoline</td>\n",
       "      <td>50000</td>\n",
       "      <td>no</td>\n",
       "      <td>20000</td>\n",
       "    </tr>\n",
       "    <tr>\n",
       "      <td>212039</td>\n",
       "      <td>mercedes_benz</td>\n",
       "      <td>c_klasse</td>\n",
       "      <td>sedan</td>\n",
       "      <td>2011</td>\n",
       "      <td>auto</td>\n",
       "      <td>265</td>\n",
       "      <td>gasoline</td>\n",
       "      <td>50000</td>\n",
       "      <td>no</td>\n",
       "      <td>20000</td>\n",
       "    </tr>\n",
       "    <tr>\n",
       "      <td>211999</td>\n",
       "      <td>audi</td>\n",
       "      <td>a1</td>\n",
       "      <td>small</td>\n",
       "      <td>2012</td>\n",
       "      <td>manual</td>\n",
       "      <td>143</td>\n",
       "      <td>gasoline</td>\n",
       "      <td>50000</td>\n",
       "      <td>no</td>\n",
       "      <td>20000</td>\n",
       "    </tr>\n",
       "    <tr>\n",
       "      <td>44271</td>\n",
       "      <td>sonstige_autos</td>\n",
       "      <td>NaN</td>\n",
       "      <td>NaN</td>\n",
       "      <td>2000</td>\n",
       "      <td>NaN</td>\n",
       "      <td>0</td>\n",
       "      <td>NaN</td>\n",
       "      <td>150000</td>\n",
       "      <td>NaN</td>\n",
       "      <td>20000</td>\n",
       "    </tr>\n",
       "    <tr>\n",
       "      <td>242045</td>\n",
       "      <td>volkswagen</td>\n",
       "      <td>golf</td>\n",
       "      <td>sedan</td>\n",
       "      <td>2014</td>\n",
       "      <td>auto</td>\n",
       "      <td>0</td>\n",
       "      <td>gasoline</td>\n",
       "      <td>30000</td>\n",
       "      <td>no</td>\n",
       "      <td>20000</td>\n",
       "    </tr>\n",
       "    <tr>\n",
       "      <td>128747</td>\n",
       "      <td>opel</td>\n",
       "      <td>astra</td>\n",
       "      <td>wagon</td>\n",
       "      <td>2014</td>\n",
       "      <td>manual</td>\n",
       "      <td>136</td>\n",
       "      <td>gasoline</td>\n",
       "      <td>40000</td>\n",
       "      <td>no</td>\n",
       "      <td>20000</td>\n",
       "    </tr>\n",
       "    <tr>\n",
       "      <td>332704</td>\n",
       "      <td>volkswagen</td>\n",
       "      <td>transporter</td>\n",
       "      <td>bus</td>\n",
       "      <td>2011</td>\n",
       "      <td>manual</td>\n",
       "      <td>140</td>\n",
       "      <td>gasoline</td>\n",
       "      <td>150000</td>\n",
       "      <td>no</td>\n",
       "      <td>20000</td>\n",
       "    </tr>\n",
       "    <tr>\n",
       "      <td>99684</td>\n",
       "      <td>audi</td>\n",
       "      <td>other</td>\n",
       "      <td>coupe</td>\n",
       "      <td>2008</td>\n",
       "      <td>auto</td>\n",
       "      <td>354</td>\n",
       "      <td>petrol</td>\n",
       "      <td>150000</td>\n",
       "      <td>no</td>\n",
       "      <td>20000</td>\n",
       "    </tr>\n",
       "  </tbody>\n",
       "</table>\n",
       "</div>"
      ],
      "text/plain": [
       "                 Brand        Model VehicleType  RegistrationYear Gearbox  \\\n",
       "302739      volkswagen       passat       wagon              2011    auto   \n",
       "315772             bmw          5er       sedan              2010    auto   \n",
       "228640   mercedes_benz     c_klasse       sedan              2011    auto   \n",
       "212039   mercedes_benz     c_klasse       sedan              2011    auto   \n",
       "211999            audi           a1       small              2012  manual   \n",
       "44271   sonstige_autos          NaN         NaN              2000     NaN   \n",
       "242045      volkswagen         golf       sedan              2014    auto   \n",
       "128747            opel        astra       wagon              2014  manual   \n",
       "332704      volkswagen  transporter         bus              2011  manual   \n",
       "99684             audi        other       coupe              2008    auto   \n",
       "\n",
       "        Power  FuelType  Kilometer NotRepaired  Price  \n",
       "302739    170  gasoline     150000          no  20000  \n",
       "315772    184  gasoline     125000          no  20000  \n",
       "228640    265  gasoline      50000          no  20000  \n",
       "212039    265  gasoline      50000          no  20000  \n",
       "211999    143  gasoline      50000          no  20000  \n",
       "44271       0       NaN     150000         NaN  20000  \n",
       "242045      0  gasoline      30000          no  20000  \n",
       "128747    136  gasoline      40000          no  20000  \n",
       "332704    140  gasoline     150000          no  20000  \n",
       "99684     354    petrol     150000          no  20000  "
      ]
     },
     "execution_count": 12,
     "metadata": {},
     "output_type": "execute_result"
    }
   ],
   "source": [
    "autos.sort_values(by = 'Price', ascending = False).head(10)"
   ]
  },
  {
   "cell_type": "markdown",
   "metadata": {},
   "source": [
    "Нулевые значения следует убрать, а так же можно убрать цифру ровно в 20000 - скорее всего это опечатка, так как ни Гольф, ни Астра столько не стоит. "
   ]
  },
  {
   "cell_type": "code",
   "execution_count": 13,
   "metadata": {},
   "outputs": [
    {
     "data": {
      "text/plain": [
       "<matplotlib.axes._subplots.AxesSubplot at 0x7f3620c91c50>"
      ]
     },
     "execution_count": 13,
     "metadata": {},
     "output_type": "execute_result"
    },
    {
     "data": {
      "image/png": "[encoded data removed]",
      "text/plain": [
       "<Figure size 1008x144 with 1 Axes>"
      ]
     },
     "metadata": {},
     "output_type": "display_data"
    }
   ],
   "source": [
    "plt.figure(figsize=(14,2))\n",
    "plt.title('Распределение мощности')\n",
    "sns.boxplot(data=autos, x='Power', palette=\"Set2\")"
   ]
  },
  {
   "cell_type": "markdown",
   "metadata": {},
   "source": [
    "Очень большое количество выбросов, скорее всего ошибки в исходных данных. Обычная мощность автомобиля не превышает 350 л.с."
   ]
  },
  {
   "cell_type": "code",
   "execution_count": 14,
   "metadata": {},
   "outputs": [
    {
     "data": {
      "text/plain": [
       "0        40225\n",
       "75       24023\n",
       "60       15897\n",
       "150      14590\n",
       "101      13298\n",
       "         ...  \n",
       "16311        1\n",
       "1360         1\n",
       "1968         1\n",
       "6226         1\n",
       "6006         1\n",
       "Name: Power, Length: 712, dtype: int64"
      ]
     },
     "execution_count": 14,
     "metadata": {},
     "output_type": "execute_result"
    }
   ],
   "source": [
    "autos['Power'].value_counts()"
   ]
  },
  {
   "cell_type": "code",
   "execution_count": 15,
   "metadata": {},
   "outputs": [
    {
     "data": {
      "text/plain": [
       "<matplotlib.axes._subplots.AxesSubplot at 0x7f3622726950>"
      ]
     },
     "execution_count": 15,
     "metadata": {},
     "output_type": "execute_result"
    },
    {
     "data": {
      "image/png": "[encoded data removed]",
      "text/plain": [
       "<Figure size 1008x144 with 1 Axes>"
      ]
     },
     "metadata": {},
     "output_type": "display_data"
    }
   ],
   "source": [
    "plt.figure(figsize=(14,2))\n",
    "plt.title('Распределение пробега')\n",
    "sns.boxplot(data=autos, x='Kilometer', palette=\"Set2\")"
   ]
  },
  {
   "cell_type": "code",
   "execution_count": 16,
   "metadata": {},
   "outputs": [],
   "source": [
    "autos = autos.query('20 < Power < 350')\n",
    "autos = autos.query('10 < Price < 20000')\n",
    "autos = autos.query('1950 < RegistrationYear < 2016')"
   ]
  },
  {
   "cell_type": "code",
   "execution_count": 17,
   "metadata": {},
   "outputs": [
    {
     "data": {
      "text/plain": [
       "petrol      183300\n",
       "gasoline     86652\n",
       "lpg           4579\n",
       "cng            474\n",
       "hybrid         197\n",
       "other           81\n",
       "electric        35\n",
       "Name: FuelType, dtype: int64"
      ]
     },
     "execution_count": 17,
     "metadata": {},
     "output_type": "execute_result"
    }
   ],
   "source": [
    "autos['FuelType'].value_counts()"
   ]
  },
  {
   "cell_type": "code",
   "execution_count": 18,
   "metadata": {},
   "outputs": [
    {
     "data": {
      "text/plain": [
       "sedan          82412\n",
       "small          69665\n",
       "wagon          58968\n",
       "bus            26133\n",
       "convertible    18680\n",
       "coupe          14355\n",
       "suv            10799\n",
       "other           2396\n",
       "Name: VehicleType, dtype: int64"
      ]
     },
     "execution_count": 18,
     "metadata": {},
     "output_type": "execute_result"
    }
   ],
   "source": [
    "autos['VehicleType'].value_counts()"
   ]
  },
  {
   "cell_type": "markdown",
   "metadata": {},
   "source": [
    "Обработаем пропуски. \n",
    "Model - удалим пустые модели"
   ]
  },
  {
   "cell_type": "code",
   "execution_count": 19,
   "metadata": {},
   "outputs": [],
   "source": [
    "autos = autos.drop(autos[autos['Model'].isna()].index)"
   ]
  },
  {
   "cell_type": "markdown",
   "metadata": {},
   "source": [
    "Удалим неизвестный тип топлива и неизвестную коробку передач, так как мы не сможем их восстановить. \n",
    "Кстати, gasolin и petrol - синонимы, дизельное топливо (diesel) отдельно не указано, а типы газового топлива не так важны для модели и по-хорошему стоило бы их объединить. "
   ]
  },
  {
   "cell_type": "code",
   "execution_count": 20,
   "metadata": {},
   "outputs": [],
   "source": [
    "autos = autos.drop(autos[autos['Gearbox'].isna()].index)\n",
    "autos = autos.drop(autos[autos['FuelType'].isna()].index)"
   ]
  },
  {
   "cell_type": "markdown",
   "metadata": {},
   "source": [
    "NotRepaired - была машина в ремонте или нет <br>\n",
    "\n",
    "Столбец может быть не заполнен, так как машина в ремонте не была. Но может быть он не заполнен специально, так как владельцы желают скрыть эту информацию. <br>\n",
    "\n",
    "Предлагаю ввести третий тип данных, кроме \"да\" и \"нет\" - \"unknown\".<br>"
   ]
  },
  {
   "cell_type": "code",
   "execution_count": 21,
   "metadata": {},
   "outputs": [],
   "source": [
    "autos['NotRepaired'].fillna('unknown', inplace=True)"
   ]
  },
  {
   "cell_type": "markdown",
   "metadata": {},
   "source": [
    "VehicleType - тип кузова. <br>\n",
    "Проще всего пустые значения тоже выкинуть, но можно и восстановить их по известным нам моделям. <br>\n",
    "Создадим словарик самого популярного типа кузова в рамках одной модели. "
   ]
  },
  {
   "cell_type": "code",
   "execution_count": 22,
   "metadata": {},
   "outputs": [
    {
     "data": {
      "text/html": [
       "<div>\n",
       "<style scoped>\n",
       "    .dataframe tbody tr th:only-of-type {\n",
       "        vertical-align: middle;\n",
       "    }\n",
       "\n",
       "    .dataframe tbody tr th {\n",
       "        vertical-align: top;\n",
       "    }\n",
       "\n",
       "    .dataframe thead th {\n",
       "        text-align: right;\n",
       "    }\n",
       "</style>\n",
       "<table border=\"1\" class=\"dataframe\">\n",
       "  <thead>\n",
       "    <tr style=\"text-align: right;\">\n",
       "      <th></th>\n",
       "      <th>Brand</th>\n",
       "      <th>Model</th>\n",
       "      <th>VehicleType</th>\n",
       "      <th>Count</th>\n",
       "    </tr>\n",
       "  </thead>\n",
       "  <tbody>\n",
       "    <tr>\n",
       "      <td>0</td>\n",
       "      <td>alfa_romeo</td>\n",
       "      <td>145</td>\n",
       "      <td>small</td>\n",
       "      <td>18</td>\n",
       "    </tr>\n",
       "    <tr>\n",
       "      <td>1</td>\n",
       "      <td>alfa_romeo</td>\n",
       "      <td>147</td>\n",
       "      <td>sedan</td>\n",
       "      <td>338</td>\n",
       "    </tr>\n",
       "    <tr>\n",
       "      <td>2</td>\n",
       "      <td>alfa_romeo</td>\n",
       "      <td>156</td>\n",
       "      <td>wagon</td>\n",
       "      <td>262</td>\n",
       "    </tr>\n",
       "    <tr>\n",
       "      <td>3</td>\n",
       "      <td>alfa_romeo</td>\n",
       "      <td>159</td>\n",
       "      <td>wagon</td>\n",
       "      <td>138</td>\n",
       "    </tr>\n",
       "    <tr>\n",
       "      <td>4</td>\n",
       "      <td>alfa_romeo</td>\n",
       "      <td>other</td>\n",
       "      <td>coupe</td>\n",
       "      <td>167</td>\n",
       "    </tr>\n",
       "    <tr>\n",
       "      <td>5</td>\n",
       "      <td>alfa_romeo</td>\n",
       "      <td>spider</td>\n",
       "      <td>convertible</td>\n",
       "      <td>157</td>\n",
       "    </tr>\n",
       "    <tr>\n",
       "      <td>6</td>\n",
       "      <td>audi</td>\n",
       "      <td>100</td>\n",
       "      <td>sedan</td>\n",
       "      <td>240</td>\n",
       "    </tr>\n",
       "    <tr>\n",
       "      <td>7</td>\n",
       "      <td>audi</td>\n",
       "      <td>200</td>\n",
       "      <td>sedan</td>\n",
       "      <td>13</td>\n",
       "    </tr>\n",
       "    <tr>\n",
       "      <td>8</td>\n",
       "      <td>audi</td>\n",
       "      <td>80</td>\n",
       "      <td>sedan</td>\n",
       "      <td>791</td>\n",
       "    </tr>\n",
       "    <tr>\n",
       "      <td>9</td>\n",
       "      <td>audi</td>\n",
       "      <td>90</td>\n",
       "      <td>sedan</td>\n",
       "      <td>62</td>\n",
       "    </tr>\n",
       "    <tr>\n",
       "      <td>10</td>\n",
       "      <td>audi</td>\n",
       "      <td>a1</td>\n",
       "      <td>small</td>\n",
       "      <td>508</td>\n",
       "    </tr>\n",
       "    <tr>\n",
       "      <td>11</td>\n",
       "      <td>audi</td>\n",
       "      <td>a2</td>\n",
       "      <td>small</td>\n",
       "      <td>276</td>\n",
       "    </tr>\n",
       "    <tr>\n",
       "      <td>12</td>\n",
       "      <td>audi</td>\n",
       "      <td>a3</td>\n",
       "      <td>sedan</td>\n",
       "      <td>2632</td>\n",
       "    </tr>\n",
       "    <tr>\n",
       "      <td>13</td>\n",
       "      <td>audi</td>\n",
       "      <td>a4</td>\n",
       "      <td>wagon</td>\n",
       "      <td>4752</td>\n",
       "    </tr>\n",
       "    <tr>\n",
       "      <td>14</td>\n",
       "      <td>audi</td>\n",
       "      <td>a5</td>\n",
       "      <td>coupe</td>\n",
       "      <td>392</td>\n",
       "    </tr>\n",
       "  </tbody>\n",
       "</table>\n",
       "</div>"
      ],
      "text/plain": [
       "         Brand   Model  VehicleType  Count\n",
       "0   alfa_romeo     145        small     18\n",
       "1   alfa_romeo     147        sedan    338\n",
       "2   alfa_romeo     156        wagon    262\n",
       "3   alfa_romeo     159        wagon    138\n",
       "4   alfa_romeo   other        coupe    167\n",
       "5   alfa_romeo  spider  convertible    157\n",
       "6         audi     100        sedan    240\n",
       "7         audi     200        sedan     13\n",
       "8         audi      80        sedan    791\n",
       "9         audi      90        sedan     62\n",
       "10        audi      a1        small    508\n",
       "11        audi      a2        small    276\n",
       "12        audi      a3        sedan   2632\n",
       "13        audi      a4        wagon   4752\n",
       "14        audi      a5        coupe    392"
      ]
     },
     "execution_count": 22,
     "metadata": {},
     "output_type": "execute_result"
    }
   ],
   "source": [
    "dict_vehicle =  (autos\n",
    "#.query('Model == \"a4\"')                 \n",
    ".pivot_table(index=['Brand', 'Model',  'VehicleType'], values= 'Price', aggfunc = {'Price':'count'})\n",
    ".reset_index()               \n",
    ").sort_values( by = ['Brand', 'Model',  'Price'], ascending = False)\n",
    "dict_vehicle.set_axis(['Brand','Model','VehicleType','Count'], axis = 'columns', inplace = True) \n",
    "dict_vehicle = dict_vehicle.groupby(['Brand', 'Model']).agg('first').reset_index()\n",
    "dict_vehicle.head(15)"
   ]
  },
  {
   "cell_type": "markdown",
   "metadata": {},
   "source": [
    "Заменим пустые значения на найденный кузов"
   ]
  },
  {
   "cell_type": "code",
   "execution_count": 23,
   "metadata": {},
   "outputs": [],
   "source": [
    "autos['car'] = autos['Brand']+'_'+autos['Model']\n",
    "dict_vehicle['car'] = dict_vehicle['Brand']+'_'+dict_vehicle['Model']\n",
    "autos['VehicleType_new'] = autos['car'].map(dict_vehicle.set_index(['car'])['VehicleType'])\n",
    "#заполним NaN\n",
    "autos['VehicleType'].fillna(autos['VehicleType_new'], inplace=True)\n",
    "autos = autos.drop(['VehicleType_new', 'car'], axis=1)"
   ]
  },
  {
   "cell_type": "markdown",
   "metadata": {},
   "source": [
    "В целом данные по типу кузова содержат множество ошибок, например Nissan Micra в кузове \"bus\" и прочее, но их процент не такой значительный. "
   ]
  },
  {
   "cell_type": "code",
   "execution_count": 24,
   "metadata": {},
   "outputs": [
    {
     "data": {
      "text/plain": [
       "Brand               0\n",
       "Model               0\n",
       "VehicleType         0\n",
       "RegistrationYear    0\n",
       "Gearbox             0\n",
       "Power               0\n",
       "FuelType            0\n",
       "Kilometer           0\n",
       "NotRepaired         0\n",
       "Price               0\n",
       "dtype: int64"
      ]
     },
     "execution_count": 24,
     "metadata": {},
     "output_type": "execute_result"
    }
   ],
   "source": [
    "autos.isnull().sum()"
   ]
  },
  {
   "cell_type": "markdown",
   "metadata": {},
   "source": [
    "Дубликаты. А нужно ли их удалять или нет? "
   ]
  },
  {
   "cell_type": "code",
   "execution_count": 25,
   "metadata": {},
   "outputs": [
    {
     "data": {
      "text/plain": [
       "37816"
      ]
     },
     "execution_count": 25,
     "metadata": {},
     "output_type": "execute_result"
    }
   ],
   "source": [
    "autos.duplicated().sum()"
   ]
  },
  {
   "cell_type": "markdown",
   "metadata": {},
   "source": [
    "## Обучение моделей"
   ]
  },
  {
   "cell_type": "markdown",
   "metadata": {},
   "source": [
    "Построим четыре модели - (две градиентного бустинга и две простых модели регрессии) для определения стоимости и сравним метрики и время обучения. "
   ]
  },
  {
   "cell_type": "markdown",
   "metadata": {},
   "source": [
    "Создадим переменные для признаков и целевого признака."
   ]
  },
  {
   "cell_type": "code",
   "execution_count": 26,
   "metadata": {},
   "outputs": [],
   "source": [
    "features = autos.drop(['Price'], axis=1)\n",
    "target = autos['Price']"
   ]
  },
  {
   "cell_type": "markdown",
   "metadata": {},
   "source": [
    "Разобьем датасет на обучающую и тестовую выборку в соотношении 80-20"
   ]
  },
  {
   "cell_type": "code",
   "execution_count": 27,
   "metadata": {},
   "outputs": [
    {
     "name": "stdout",
     "output_type": "stream",
     "text": [
      "Размер обучающей выборки: 211203\n",
      "Размер тестовой выборки: 52801\n"
     ]
    }
   ],
   "source": [
    "features_train, features_test, target_train, target_test = train_test_split(\n",
    "    features, target, test_size=0.2, random_state=12345)\n",
    "\n",
    "print('Размер обучающей выборки:', len(features_train))\n",
    "print('Размер тестовой выборки:', len(features_test))"
   ]
  },
  {
   "cell_type": "markdown",
   "metadata": {},
   "source": [
    "Табличка для записи"
   ]
  },
  {
   "cell_type": "code",
   "execution_count": 29,
   "metadata": {},
   "outputs": [],
   "source": [
    "d = {'': ['RMSE', 'Время обучения', 'Время предсказания']}\n",
    "summary_table = pd.DataFrame(data=d)\n",
    "\n",
    "def write_summary_table (col):\n",
    "    summary_table.loc[0, col] = rms\n",
    "    summary_table.loc[1, col] = fit_end - fit_start\n",
    "    summary_table.loc[2, col] = pred_end - pred_start"
   ]
  },
  {
   "cell_type": "markdown",
   "metadata": {},
   "source": [
    "### CatBoost ###"
   ]
  },
  {
   "cell_type": "markdown",
   "metadata": {},
   "source": [
    "Выделим категориальные признаки"
   ]
  },
  {
   "cell_type": "code",
   "execution_count": 30,
   "metadata": {},
   "outputs": [
    {
     "data": {
      "text/plain": [
       "Index(['Brand', 'Model', 'VehicleType', 'Gearbox', 'FuelType', 'NotRepaired'], dtype='object')"
      ]
     },
     "execution_count": 30,
     "metadata": {},
     "output_type": "execute_result"
    }
   ],
   "source": [
    "cat_features = features_train.select_dtypes(include='object').columns\n",
    "cat_features"
   ]
  },
  {
   "cell_type": "code",
   "execution_count": 31,
   "metadata": {},
   "outputs": [
    {
     "name": "stdout",
     "output_type": "stream",
     "text": [
      "0:\tlearn: 4296.7395676\ttotal: 176ms\tremaining: 17.4s\n",
      "99:\tlearn: 1665.2014304\ttotal: 16.7s\tremaining: 0us\n",
      "0:\tlearn: 4291.7876400\ttotal: 34.2ms\tremaining: 3.39s\n",
      "99:\tlearn: 1671.4709763\ttotal: 16.3s\tremaining: 0us\n",
      "0:\tlearn: 4295.2088217\ttotal: 25.2ms\tremaining: 2.49s\n",
      "99:\tlearn: 1676.6176297\ttotal: 16.3s\tremaining: 0us\n",
      "0:\tlearn: 4050.2231087\ttotal: 26.2ms\tremaining: 2.59s\n",
      "99:\tlearn: 1609.2947312\ttotal: 16.3s\tremaining: 0us\n",
      "0:\tlearn: 4046.6333088\ttotal: 64.6ms\tremaining: 6.4s\n",
      "99:\tlearn: 1605.0154406\ttotal: 16.3s\tremaining: 0us\n",
      "0:\tlearn: 4049.4536446\ttotal: 21.1ms\tremaining: 2.08s\n",
      "99:\tlearn: 1611.6120146\ttotal: 16s\tremaining: 0us\n",
      "0:\tlearn: 3633.7326927\ttotal: 67.7ms\tremaining: 6.7s\n",
      "99:\tlearn: 1552.5643523\ttotal: 16.2s\tremaining: 0us\n",
      "0:\tlearn: 3632.6136711\ttotal: 101ms\tremaining: 10s\n",
      "99:\tlearn: 1556.5478101\ttotal: 16.8s\tremaining: 0us\n",
      "0:\tlearn: 3634.3556470\ttotal: 56.6ms\tremaining: 5.61s\n",
      "99:\tlearn: 1558.0928011\ttotal: 16.2s\tremaining: 0us\n",
      "0:\tlearn: 2993.9725962\ttotal: 31.3ms\tremaining: 3.1s\n",
      "99:\tlearn: 1506.7018249\ttotal: 16.1s\tremaining: 0us\n",
      "0:\tlearn: 2997.2418929\ttotal: 39.8ms\tremaining: 3.94s\n",
      "99:\tlearn: 1512.5762829\ttotal: 16.2s\tremaining: 0us\n",
      "0:\tlearn: 2997.1066465\ttotal: 89.1ms\tremaining: 8.82s\n",
      "99:\tlearn: 1519.5143756\ttotal: 16.1s\tremaining: 0us\n",
      "0:\tlearn: 2451.8947106\ttotal: 63.3ms\tremaining: 6.26s\n",
      "99:\tlearn: 1487.3299577\ttotal: 16.1s\tremaining: 0us\n",
      "0:\tlearn: 2459.7952741\ttotal: 23.9ms\tremaining: 2.36s\n",
      "99:\tlearn: 1502.0496532\ttotal: 16.2s\tremaining: 0us\n",
      "0:\tlearn: 2457.7330703\ttotal: 163ms\tremaining: 16.2s\n",
      "99:\tlearn: 1502.3404248\ttotal: 16.5s\tremaining: 0us\n",
      "0:\tlearn: 3014.7294533\ttotal: 256ms\tremaining: 25.4s\n",
      "99:\tlearn: 1519.9205368\ttotal: 22.6s\tremaining: 0us\n",
      "RMSE наилучшей модели: 1589.938957837917\n",
      "{'depth': 7, 'iterations': 100, 'learning_rate': 0.5623413251903491, 'loss_function': 'RMSE', 'verbose': 200}\n",
      "<catboost.core.CatBoostRegressor object at 0x7f361f2a3310>\n"
     ]
    }
   ],
   "source": [
    "model = CatBoostRegressor(random_seed=12345, cat_features=cat_features)\n",
    "\n",
    "parameters = {\n",
    "    'loss_function': ['RMSE'],\n",
    "    'learning_rate': np.logspace(-1, 0, 5),\n",
    "    'iterations': [100], #[40, 60, 100, 200, 500]\n",
    "    'depth': [7],  #[5, 7, 10] \n",
    "    'verbose': [200]\n",
    "\n",
    "}\n",
    "grid_CatBoost = GridSearchCV(model, parameters, scoring = 'neg_mean_squared_error', cv = 3)\n",
    "grid_CatBoost.fit(features_train, target_train, cat_features=cat_features) \n",
    "\n",
    "rms = np.sqrt(-1 *grid_CatBoost.best_score_)\n",
    "print(\"RMSE наилучшей модели:\", rms)\n",
    "print(grid_CatBoost.best_params_)\n",
    "print(grid_CatBoost.best_estimator_)\n"
   ]
  },
  {
   "cell_type": "code",
   "execution_count": 32,
   "metadata": {},
   "outputs": [
    {
     "name": "stdout",
     "output_type": "stream",
     "text": [
      "0:\tlearn: 3014.7294533\ttotal: 210ms\tremaining: 20.8s\n",
      "99:\tlearn: 1519.9205368\ttotal: 22.6s\tremaining: 0us\n",
      "RMSE = 1550.3110886609416\n",
      "CPU times: user 20.4 s, sys: 2.9 s, total: 23.3 s\n",
      "Wall time: 24.5 s\n"
     ]
    }
   ],
   "source": [
    "%%time\n",
    "\n",
    "fit_start = time.time()\n",
    "grid_CatBoost.best_estimator_.fit(features_train, target_train)\n",
    "fit_end = time.time()\n",
    "\n",
    "pred_start = time.time()\n",
    "\n",
    "predicted_test = grid_CatBoost.predict(features_test)\n",
    "mse = mean_squared_error(target_test, predicted_test)\n",
    "pred_end = time.time()\n",
    "\n",
    "\n",
    "rms = mse ** 0.5\n",
    "write_summary_table('CatBoost')\n",
    "print(\"RMSE =\", rms)\n"
   ]
  },
  {
   "cell_type": "markdown",
   "metadata": {},
   "source": [
    "### LightGBM ###"
   ]
  },
  {
   "cell_type": "markdown",
   "metadata": {},
   "source": [
    "Перекодируем категориальные признаки с помощью метода OrdinalEncoder"
   ]
  },
  {
   "cell_type": "code",
   "execution_count": 33,
   "metadata": {},
   "outputs": [],
   "source": [
    "enc = OrdinalEncoder()\n",
    "enc.fit(features_train[cat_features])\n",
    "features_train[cat_features] = enc.transform(features_train[cat_features])"
   ]
  },
  {
   "cell_type": "code",
   "execution_count": 34,
   "metadata": {},
   "outputs": [],
   "source": [
    "enc.fit(features_test[cat_features])\n",
    "features_test[cat_features] = enc.transform(features_test[cat_features])\n"
   ]
  },
  {
   "cell_type": "code",
   "execution_count": 35,
   "metadata": {},
   "outputs": [
    {
     "name": "stdout",
     "output_type": "stream",
     "text": [
      "RMSE наилучшей модели: 1542.9377119522544\n",
      "{'boosting_type': 'gbdt', 'learning_rate': 0.31622776601683794, 'loss_function': 'RMSE', 'n_estimators': 150}\n",
      "LGBMRegressor(boosting_type='gbdt', class_weight=None, colsample_bytree=1.0,\n",
      "              importance_type='split', learning_rate=0.31622776601683794,\n",
      "              loss_function='RMSE', max_depth=-1, min_child_samples=20,\n",
      "              min_child_weight=0.001, min_split_gain=0.0, n_estimators=150,\n",
      "              n_jobs=-1, num_leaves=31, objective=None, random_state=None,\n",
      "              reg_alpha=0.0, reg_lambda=0.0, silent=True, subsample=1.0,\n",
      "              subsample_for_bin=200000, subsample_freq=0)\n",
      "90.3149778842926\n",
      "CPU times: user 1min 29s, sys: 0 ns, total: 1min 29s\n",
      "Wall time: 1min 30s\n"
     ]
    }
   ],
   "source": [
    "%%time\n",
    "\n",
    "start = time.time()\n",
    "model = LGBMRegressor()\n",
    "\n",
    "parameters = {\n",
    "    'boosting_type':['gbdt'],\n",
    "    'learning_rate': np.logspace(-1, 0, 3),\n",
    "    'n_estimators': [150], #[40, 60, 100, 150, 200],\n",
    "    'loss_function': ['RMSE']\n",
    "    \n",
    "}\n",
    "grid_LGBM = GridSearchCV(model, parameters, scoring = 'neg_mean_squared_error', cv = 3)\n",
    "grid_LGBM.fit(features_train, target_train)\n",
    "end = time.time()\n",
    "\n",
    "rms = np.sqrt(-1 *grid_LGBM.best_score_)\n",
    "print(\"RMSE наилучшей модели:\", rms)\n",
    "print(grid_LGBM.best_params_)\n",
    "print(grid_LGBM.best_estimator_)\n",
    "print(end-start)"
   ]
  },
  {
   "cell_type": "code",
   "execution_count": 36,
   "metadata": {},
   "outputs": [
    {
     "name": "stdout",
     "output_type": "stream",
     "text": [
      "RMSE = 1582.3406114823879\n",
      "CPU times: user 23.8 s, sys: 0 ns, total: 23.8 s\n",
      "Wall time: 24 s\n"
     ]
    }
   ],
   "source": [
    "%%time\n",
    "\n",
    "fit_start = time.time()\n",
    "grid_LGBM.best_estimator_.fit(features_train, target_train)\n",
    "fit_end = time.time()\n",
    "\n",
    "pred_start = time.time()\n",
    "predicted_test = grid_LGBM.predict(features_test)\n",
    "mse = mean_squared_error(target_test, predicted_test)\n",
    "pred_end = time.time()\n",
    "\n",
    "rms = mse ** 0.5\n",
    "write_summary_table('LightGBM')\n",
    "print(\"RMSE =\", rms)"
   ]
  },
  {
   "cell_type": "markdown",
   "metadata": {},
   "source": [
    "### DecisionTreeRegressor ###"
   ]
  },
  {
   "cell_type": "code",
   "execution_count": 37,
   "metadata": {},
   "outputs": [
    {
     "name": "stdout",
     "output_type": "stream",
     "text": [
      "RMSE наилучшей модели: 1805.9693229197499\n",
      "{'max_depth': 15}\n",
      "DecisionTreeRegressor(criterion='mse', max_depth=15, max_features=None,\n",
      "                      max_leaf_nodes=None, min_impurity_decrease=0.0,\n",
      "                      min_impurity_split=None, min_samples_leaf=1,\n",
      "                      min_samples_split=2, min_weight_fraction_leaf=0.0,\n",
      "                      presort=False, random_state=None, splitter='best')\n"
     ]
    }
   ],
   "source": [
    "model = DecisionTreeRegressor()\n",
    "\n",
    "parameters = {'max_depth': range(1,16,2)}\n",
    "\n",
    "grid_DecisionTree = GridSearchCV(model, parameters, scoring = 'neg_mean_squared_error', cv = None)\n",
    "grid_DecisionTree.fit(features_train, target_train)\n",
    "\n",
    "\n",
    "rms = np.sqrt(-1 *grid_DecisionTree.best_score_)\n",
    "print(\"RMSE наилучшей модели:\", rms)\n",
    "print(grid_DecisionTree.best_params_)\n",
    "print(grid_DecisionTree.best_estimator_)\n",
    "\n"
   ]
  },
  {
   "cell_type": "code",
   "execution_count": 38,
   "metadata": {},
   "outputs": [
    {
     "name": "stdout",
     "output_type": "stream",
     "text": [
      "RMSE = 1819.9954578228421\n",
      "CPU times: user 503 ms, sys: 0 ns, total: 503 ms\n",
      "Wall time: 509 ms\n"
     ]
    }
   ],
   "source": [
    "%%time\n",
    "\n",
    "fit_start = time.time()\n",
    "grid_DecisionTree.best_estimator_.fit(features_train, target_train)\n",
    "fit_end = time.time()\n",
    "\n",
    "pred_start = time.time()\n",
    "predicted_test = grid_DecisionTree.predict(features_test)\n",
    "mse = mean_squared_error(target_test, predicted_test)\n",
    "pred_end = time.time()\n",
    "\n",
    "rms = mse ** 0.5\n",
    "write_summary_table ('DecisionTreeRegressor')\n",
    "print(\"RMSE =\", rms)"
   ]
  },
  {
   "cell_type": "markdown",
   "metadata": {},
   "source": [
    "### LinearRegression ###"
   ]
  },
  {
   "cell_type": "code",
   "execution_count": 39,
   "metadata": {},
   "outputs": [
    {
     "name": "stdout",
     "output_type": "stream",
     "text": [
      "RMSE наилучшей модели: 2829.9765314150654\n",
      "{'normalize': True}\n",
      "LinearRegression(copy_X=True, fit_intercept=True, n_jobs=None, normalize=True)\n"
     ]
    }
   ],
   "source": [
    "model = LinearRegression()\n",
    "\n",
    "parameters = {'normalize': [True, False]}\n",
    "\n",
    "grid_LinearRegression = GridSearchCV(model, parameters, scoring = 'neg_mean_squared_error', cv = 5)\n",
    "grid_LinearRegression.fit(features_train, target_train)\n",
    "\n",
    "rms = np.sqrt(-1 *grid_LinearRegression.best_score_)\n",
    "\n",
    "print(\"RMSE наилучшей модели:\", rms)\n",
    "print(grid_LinearRegression.best_params_)\n",
    "print(grid_LinearRegression.best_estimator_)"
   ]
  },
  {
   "cell_type": "code",
   "execution_count": 40,
   "metadata": {},
   "outputs": [
    {
     "name": "stdout",
     "output_type": "stream",
     "text": [
      "RMSE = 2820.123592147942\n",
      "CPU times: user 67.5 ms, sys: 84.8 ms, total: 152 ms\n",
      "Wall time: 169 ms\n"
     ]
    }
   ],
   "source": [
    "%%time\n",
    "\n",
    "fit_start = time.time()\n",
    "grid_LinearRegression.best_estimator_.fit(features_train, target_train)\n",
    "fit_end = time.time()\n",
    "\n",
    "pred_start = time.time()\n",
    "predicted_test = grid_LinearRegression.predict(features_test)\n",
    "mse = mean_squared_error(target_test, predicted_test)\n",
    "pred_end = time.time()\n",
    "\n",
    "rms = mse ** 0.5\n",
    "write_summary_table ('LinearRegression')\n",
    "print(\"RMSE =\", rms)\n"
   ]
  },
  {
   "cell_type": "markdown",
   "metadata": {},
   "source": [
    "## Анализ моделей"
   ]
  },
  {
   "cell_type": "code",
   "execution_count": 41,
   "metadata": {},
   "outputs": [
    {
     "data": {
      "text/html": [
       "<div>\n",
       "<style scoped>\n",
       "    .dataframe tbody tr th:only-of-type {\n",
       "        vertical-align: middle;\n",
       "    }\n",
       "\n",
       "    .dataframe tbody tr th {\n",
       "        vertical-align: top;\n",
       "    }\n",
       "\n",
       "    .dataframe thead th {\n",
       "        text-align: right;\n",
       "    }\n",
       "</style>\n",
       "<table border=\"1\" class=\"dataframe\">\n",
       "  <thead>\n",
       "    <tr style=\"text-align: right;\">\n",
       "      <th></th>\n",
       "      <th></th>\n",
       "      <th>CatBoost</th>\n",
       "      <th>LightGBM</th>\n",
       "      <th>DecisionTreeRegressor</th>\n",
       "      <th>LinearRegression</th>\n",
       "    </tr>\n",
       "  </thead>\n",
       "  <tbody>\n",
       "    <tr>\n",
       "      <td>0</td>\n",
       "      <td>RMSE</td>\n",
       "      <td>1550.311089</td>\n",
       "      <td>1582.340611</td>\n",
       "      <td>1819.995458</td>\n",
       "      <td>2820.123592</td>\n",
       "    </tr>\n",
       "    <tr>\n",
       "      <td>1</td>\n",
       "      <td>Время обучения</td>\n",
       "      <td>24.464126</td>\n",
       "      <td>23.492470</td>\n",
       "      <td>0.494027</td>\n",
       "      <td>0.104789</td>\n",
       "    </tr>\n",
       "    <tr>\n",
       "      <td>2</td>\n",
       "      <td>Время предсказания</td>\n",
       "      <td>0.077756</td>\n",
       "      <td>0.488794</td>\n",
       "      <td>0.012671</td>\n",
       "      <td>0.003252</td>\n",
       "    </tr>\n",
       "  </tbody>\n",
       "</table>\n",
       "</div>"
      ],
      "text/plain": [
       "                          CatBoost     LightGBM  DecisionTreeRegressor  \\\n",
       "0                RMSE  1550.311089  1582.340611            1819.995458   \n",
       "1      Время обучения    24.464126    23.492470               0.494027   \n",
       "2  Время предсказания     0.077756     0.488794               0.012671   \n",
       "\n",
       "   LinearRegression  \n",
       "0       2820.123592  \n",
       "1          0.104789  \n",
       "2          0.003252  "
      ]
     },
     "execution_count": 41,
     "metadata": {},
     "output_type": "execute_result"
    }
   ],
   "source": [
    "summary_table"
   ]
  },
  {
   "cell_type": "markdown",
   "metadata": {},
   "source": [
    "Мы исследовали баланс классов, построили, обучили и протестировали три модели: модели градиентного бустинга CatBoost, LightGBM, модели решающее дерево и линейную регрессию, а так же измерили метрику RMSE и время обучения и предсказания. <br> \n",
    "\n",
    "Модели градиентного бустинга показали лучшие результаты, чем простые модели, однако на этапе подбора параметров  обучаются они очень медленно. <br>\n",
    "Можно заметить, что качество моделей градиентного бустинга прямо зависит от числа итераций - чем больше итераций, тем лучше качество, но тем медленнее обучается модель. <br>\n",
    "\n",
    "Среди простых моделей хуже всего метрика RMSE у линейной регрессии, но обучается она максимально быстро. \n"
   ]
  },
  {
   "cell_type": "markdown",
   "metadata": {},
   "source": [
    "**График важности факторов**"
   ]
  },
  {
   "cell_type": "markdown",
   "metadata": {},
   "source": [
    "(возьмем модель LightGBM, чтобы не возвращать обратно категориальные признаки)"
   ]
  },
  {
   "cell_type": "code",
   "execution_count": 101,
   "metadata": {},
   "outputs": [
    {
     "data": {
      "text/plain": [
       "LGBMRegressor(boosting_type='gbdt', class_weight=None, colsample_bytree=1.0,\n",
       "              importance_type='split', learning_rate=0.31622776601683794,\n",
       "              loss_function='RMSE', max_depth=-1, min_child_samples=20,\n",
       "              min_child_weight=0.001, min_split_gain=0.0, n_estimators=150,\n",
       "              n_jobs=-1, num_leaves=31, objective=None, random_state=None,\n",
       "              reg_alpha=0.0, reg_lambda=0.0, silent=True, subsample=1.0,\n",
       "              subsample_for_bin=200000, subsample_freq=0)"
      ]
     },
     "execution_count": 101,
     "metadata": {},
     "output_type": "execute_result"
    }
   ],
   "source": [
    "model = grid_LGBM\n",
    "model.best_estimator_.fit(features_train, target_train)\n"
   ]
  },
  {
   "cell_type": "code",
   "execution_count": 103,
   "metadata": {},
   "outputs": [
    {
     "data": {
      "text/html": [
       "<div>\n",
       "<style scoped>\n",
       "    .dataframe tbody tr th:only-of-type {\n",
       "        vertical-align: middle;\n",
       "    }\n",
       "\n",
       "    .dataframe tbody tr th {\n",
       "        vertical-align: top;\n",
       "    }\n",
       "\n",
       "    .dataframe thead th {\n",
       "        text-align: right;\n",
       "    }\n",
       "</style>\n",
       "<table border=\"1\" class=\"dataframe\">\n",
       "  <thead>\n",
       "    <tr style=\"text-align: right;\">\n",
       "      <th></th>\n",
       "      <th>feature</th>\n",
       "      <th>importance</th>\n",
       "    </tr>\n",
       "  </thead>\n",
       "  <tbody>\n",
       "    <tr>\n",
       "      <td>3</td>\n",
       "      <td>RegistrationYear</td>\n",
       "      <td>1062</td>\n",
       "    </tr>\n",
       "    <tr>\n",
       "      <td>5</td>\n",
       "      <td>Power</td>\n",
       "      <td>1043</td>\n",
       "    </tr>\n",
       "    <tr>\n",
       "      <td>1</td>\n",
       "      <td>Model</td>\n",
       "      <td>712</td>\n",
       "    </tr>\n",
       "    <tr>\n",
       "      <td>0</td>\n",
       "      <td>Brand</td>\n",
       "      <td>557</td>\n",
       "    </tr>\n",
       "    <tr>\n",
       "      <td>7</td>\n",
       "      <td>Kilometer</td>\n",
       "      <td>417</td>\n",
       "    </tr>\n",
       "    <tr>\n",
       "      <td>2</td>\n",
       "      <td>VehicleType</td>\n",
       "      <td>354</td>\n",
       "    </tr>\n",
       "    <tr>\n",
       "      <td>6</td>\n",
       "      <td>FuelType</td>\n",
       "      <td>131</td>\n",
       "    </tr>\n",
       "    <tr>\n",
       "      <td>8</td>\n",
       "      <td>NotRepaired</td>\n",
       "      <td>122</td>\n",
       "    </tr>\n",
       "    <tr>\n",
       "      <td>4</td>\n",
       "      <td>Gearbox</td>\n",
       "      <td>102</td>\n",
       "    </tr>\n",
       "  </tbody>\n",
       "</table>\n",
       "</div>"
      ],
      "text/plain": [
       "            feature  importance\n",
       "3  RegistrationYear        1062\n",
       "5             Power        1043\n",
       "1             Model         712\n",
       "0             Brand         557\n",
       "7         Kilometer         417\n",
       "2       VehicleType         354\n",
       "6          FuelType         131\n",
       "8       NotRepaired         122\n",
       "4           Gearbox         102"
      ]
     },
     "execution_count": 103,
     "metadata": {},
     "output_type": "execute_result"
    }
   ],
   "source": [
    "importances = model.best_estimator_.feature_importances_\n",
    "feature_list = list(features_train.columns)\n",
    "feature_results = pd.DataFrame({'feature': feature_list,'importance': importances})\n",
    "feature_results = feature_results.sort_values('importance',ascending = False)\n",
    "feature_results.head(10)"
   ]
  },
  {
   "cell_type": "code",
   "execution_count": 104,
   "metadata": {},
   "outputs": [
    {
     "data": {
      "text/plain": [
       "<matplotlib.axes._subplots.AxesSubplot at 0x7f362257e510>"
      ]
     },
     "execution_count": 104,
     "metadata": {},
     "output_type": "execute_result"
    },
    {
     "data": {
      "image/png": "[encoded data removed]",
      "text/plain": [
       "<Figure size 864x360 with 1 Axes>"
      ]
     },
     "metadata": {},
     "output_type": "display_data"
    }
   ],
   "source": [
    "plt.figure(figsize=(12,5))\n",
    "sns.lineplot(x = 'feature', y = 'importance', data= feature_results, sort=False) "
   ]
  },
  {
   "cell_type": "markdown",
   "metadata": {},
   "source": [
    "Больше всего влияют на стоимость год выпуска и мощность. "
   ]
  },
  {
   "cell_type": "markdown",
   "metadata": {},
   "source": [
    "Посмотрим на самые большие расхождения в предсказания и реальной стоимости"
   ]
  },
  {
   "cell_type": "code",
   "execution_count": 106,
   "metadata": {},
   "outputs": [
    {
     "name": "stdout",
     "output_type": "stream",
     "text": [
      "Предсказание: 19286.7144\n",
      "Факт: 217.0000\n",
      "Brand                 nissan\n",
      "Model                qashqai\n",
      "VehicleType              suv\n",
      "RegistrationYear        2015\n",
      "Gearbox               manual\n",
      "Power                    130\n",
      "FuelType            gasoline\n",
      "Kilometer              10000\n",
      "NotRepaired               no\n",
      "Price                    217\n",
      "Name: 263785, dtype: object\n",
      "\n",
      "Предсказание: 18878.2225\n",
      "Факт: 359.0000\n",
      "Brand                    bmw\n",
      "Model                    3er\n",
      "VehicleType            sedan\n",
      "RegistrationYear        2013\n",
      "Gearbox               manual\n",
      "Power                    184\n",
      "FuelType            gasoline\n",
      "Kilometer              40000\n",
      "NotRepaired               no\n",
      "Price                    359\n",
      "Name: 42957, dtype: object\n",
      "\n"
     ]
    },
    {
     "data": {
      "image/png": "[encoded data removed]",
      "text/plain": [
       "<Figure size 432x288 with 1 Axes>"
      ]
     },
     "metadata": {},
     "output_type": "display_data"
    },
    {
     "data": {
      "image/png": "[encoded data removed]",
      "text/plain": [
       "<Figure size 432x288 with 1 Axes>"
      ]
     },
     "metadata": {},
     "output_type": "display_data"
    }
   ],
   "source": [
    "model_pred = model.predict(features_test)\n",
    "model_pred = pd.Series(model_pred, index=features_test.index)   \n",
    "\n",
    "residuals = abs(model_pred - target_test)\n",
    "\n",
    "residuals = residuals.sort_values(ascending = False).head(2)\n",
    "\n",
    "for idx in residuals.index:\n",
    "     \n",
    "    wrong = features_test.loc[idx, :]\n",
    "    print('Предсказание: %0.4f' % model_pred[idx])\n",
    "    print('Факт: %0.4f' % target_test[idx])\n",
    "    print(autos.loc[idx, :])\n",
    "    explainer = lime.lime_tabular.LimeTabularExplainer(features_train.to_numpy(), mode = 'regression', training_labels = target_train, feature_names = feature_list)\n",
    "    exp = explainer.explain_instance(data_row = wrong, predict_fn = model.predict)\n",
    "    exp.as_pyplot_figure()\n",
    "    print('')\n",
    "    \n"
   ]
  },
  {
   "cell_type": "markdown",
   "metadata": {},
   "source": [
    "Qashqai 2015 года и bmw 3er 2013 модель оценила высоко с учетом их года выпуска, мощности, пробега и отсутствия ремонта, но их фактическая цена сильно ниже. Возможно в объявлении указано далеко не все. "
   ]
  }
 ],
 "metadata": {
  "ExecuteTimeLog": [
   {
    "duration": 213,
    "start_time": "2021-08-03T22:10:28.397Z"
   },
   {
    "duration": 1133,
    "start_time": "2021-08-03T22:11:31.482Z"
   },
   {
    "duration": 753,
    "start_time": "2021-08-03T22:11:32.617Z"
   },
   {
    "duration": 25,
    "start_time": "2021-08-03T22:12:39.953Z"
   },
   {
    "duration": 115,
    "start_time": "2021-08-03T22:13:16.342Z"
   },
   {
    "duration": 17,
    "start_time": "2021-08-03T22:13:25.446Z"
   },
   {
    "duration": 1466,
    "start_time": "2021-08-07T21:55:19.791Z"
   },
   {
    "duration": 1166,
    "start_time": "2021-08-07T21:55:21.852Z"
   },
   {
    "duration": 151,
    "start_time": "2021-08-07T21:55:23.020Z"
   },
   {
    "duration": 29,
    "start_time": "2021-08-07T21:55:23.408Z"
   },
   {
    "duration": 19,
    "start_time": "2021-08-07T21:55:28.786Z"
   },
   {
    "duration": 21,
    "start_time": "2021-08-07T21:55:32.281Z"
   },
   {
    "duration": 20,
    "start_time": "2021-08-07T21:55:35.792Z"
   },
   {
    "duration": 322,
    "start_time": "2021-08-07T21:56:11.289Z"
   },
   {
    "duration": 459,
    "start_time": "2021-08-07T23:18:23.211Z"
   },
   {
    "duration": 31,
    "start_time": "2021-08-07T23:18:27.082Z"
   },
   {
    "duration": 4,
    "start_time": "2021-08-07T23:18:31.200Z"
   },
   {
    "duration": 4,
    "start_time": "2021-08-08T00:14:39.015Z"
   },
   {
    "duration": 151,
    "start_time": "2021-08-08T00:55:10.017Z"
   },
   {
    "duration": 111,
    "start_time": "2021-08-08T00:57:59.031Z"
   },
   {
    "duration": 568,
    "start_time": "2021-08-08T00:59:45.374Z"
   },
   {
    "duration": 336,
    "start_time": "2021-08-08T01:01:10.593Z"
   },
   {
    "duration": 105,
    "start_time": "2021-08-08T01:01:17.288Z"
   },
   {
    "duration": 136,
    "start_time": "2021-08-08T01:01:23.748Z"
   },
   {
    "duration": 95,
    "start_time": "2021-08-08T01:01:56.700Z"
   },
   {
    "duration": 117,
    "start_time": "2021-08-08T01:02:12.307Z"
   },
   {
    "duration": 110,
    "start_time": "2021-08-08T01:02:15.148Z"
   },
   {
    "duration": 47,
    "start_time": "2021-08-08T01:08:17.293Z"
   },
   {
    "duration": 102,
    "start_time": "2021-08-08T01:08:31.516Z"
   },
   {
    "duration": 18,
    "start_time": "2021-08-08T01:09:05.681Z"
   },
   {
    "duration": 119,
    "start_time": "2021-08-08T01:10:48.799Z"
   },
   {
    "duration": 33,
    "start_time": "2021-08-08T01:10:51.712Z"
   },
   {
    "duration": 70,
    "start_time": "2021-08-08T01:11:10.866Z"
   },
   {
    "duration": 130,
    "start_time": "2021-08-08T01:12:46.763Z"
   },
   {
    "duration": 369,
    "start_time": "2021-08-08T01:13:53.710Z"
   },
   {
    "duration": 100,
    "start_time": "2021-08-08T01:13:57.063Z"
   },
   {
    "duration": 62,
    "start_time": "2021-08-08T01:14:00.550Z"
   },
   {
    "duration": 17,
    "start_time": "2021-08-08T01:14:07.335Z"
   },
   {
    "duration": 353,
    "start_time": "2021-08-08T01:15:42.967Z"
   },
   {
    "duration": 357,
    "start_time": "2021-08-08T01:15:53.166Z"
   },
   {
    "duration": 105,
    "start_time": "2021-08-08T01:16:05.789Z"
   },
   {
    "duration": 16,
    "start_time": "2021-08-08T01:16:10.958Z"
   },
   {
    "duration": 369,
    "start_time": "2021-08-08T01:16:48.950Z"
   },
   {
    "duration": 362,
    "start_time": "2021-08-08T01:17:38.749Z"
   },
   {
    "duration": 239,
    "start_time": "2021-08-08T01:17:56.084Z"
   },
   {
    "duration": 368,
    "start_time": "2021-08-08T01:18:00.588Z"
   },
   {
    "duration": 21,
    "start_time": "2021-08-08T01:18:26.509Z"
   },
   {
    "duration": 66,
    "start_time": "2021-08-08T01:19:17.322Z"
   },
   {
    "duration": 50,
    "start_time": "2021-08-08T01:19:26.965Z"
   },
   {
    "duration": 404,
    "start_time": "2021-08-08T01:19:58.308Z"
   },
   {
    "duration": 54,
    "start_time": "2021-08-08T01:20:04.252Z"
   },
   {
    "duration": 5,
    "start_time": "2021-08-08T01:20:45.770Z"
   },
   {
    "duration": 398,
    "start_time": "2021-08-08T01:20:54.299Z"
   },
   {
    "duration": 7,
    "start_time": "2021-08-08T01:21:18.755Z"
   },
   {
    "duration": 1028,
    "start_time": "2021-08-08T01:21:18.921Z"
   },
   {
    "duration": 160,
    "start_time": "2021-08-08T01:21:19.952Z"
   },
   {
    "duration": 114,
    "start_time": "2021-08-08T01:21:20.116Z"
   },
   {
    "duration": -951,
    "start_time": "2021-08-08T01:21:21.183Z"
   },
   {
    "duration": 146,
    "start_time": "2021-08-08T01:21:20.300Z"
   },
   {
    "duration": 112,
    "start_time": "2021-08-08T01:21:21.866Z"
   },
   {
    "duration": 318,
    "start_time": "2021-08-08T01:21:25.359Z"
   },
   {
    "duration": 41,
    "start_time": "2021-08-08T01:21:26.098Z"
   },
   {
    "duration": 142,
    "start_time": "2021-08-08T01:21:26.977Z"
   },
   {
    "duration": 243,
    "start_time": "2021-08-08T01:21:27.891Z"
   },
   {
    "duration": 86,
    "start_time": "2021-08-08T01:21:31.874Z"
   },
   {
    "duration": 5,
    "start_time": "2021-08-08T01:21:34.208Z"
   },
   {
    "duration": 18,
    "start_time": "2021-08-08T01:21:46.267Z"
   },
   {
    "duration": 74,
    "start_time": "2021-08-08T01:21:48.434Z"
   },
   {
    "duration": 154,
    "start_time": "2021-08-08T01:24:27.761Z"
   },
   {
    "duration": 353,
    "start_time": "2021-08-08T01:24:33.691Z"
   },
   {
    "duration": 50,
    "start_time": "2021-08-08T01:24:37.160Z"
   },
   {
    "duration": 117,
    "start_time": "2021-08-08T01:24:43.032Z"
   },
   {
    "duration": 59,
    "start_time": "2021-08-08T01:24:46.368Z"
   },
   {
    "duration": 120,
    "start_time": "2021-08-08T01:24:49.856Z"
   },
   {
    "duration": 63,
    "start_time": "2021-08-08T01:24:51.624Z"
   },
   {
    "duration": 123,
    "start_time": "2021-08-08T01:24:59.649Z"
   },
   {
    "duration": 20,
    "start_time": "2021-08-08T01:25:01.224Z"
   },
   {
    "duration": 130,
    "start_time": "2021-08-08T01:25:06.248Z"
   },
   {
    "duration": 16,
    "start_time": "2021-08-08T01:25:08.232Z"
   },
   {
    "duration": 121,
    "start_time": "2021-08-08T01:25:11.135Z"
   },
   {
    "duration": 17,
    "start_time": "2021-08-08T01:25:12.807Z"
   },
   {
    "duration": 121,
    "start_time": "2021-08-08T01:25:25.720Z"
   },
   {
    "duration": 13,
    "start_time": "2021-08-08T01:25:27.311Z"
   },
   {
    "duration": 3653,
    "start_time": "2021-08-08T01:39:05.743Z"
   },
   {
    "duration": 2834,
    "start_time": "2021-08-08T01:40:13.360Z"
   },
   {
    "duration": 404,
    "start_time": "2021-08-08T01:41:36.616Z"
   },
   {
    "duration": 418,
    "start_time": "2021-08-08T01:43:15.231Z"
   },
   {
    "duration": 9,
    "start_time": "2021-08-08T01:43:25.893Z"
   },
   {
    "duration": 357,
    "start_time": "2021-08-08T01:43:30.725Z"
   },
   {
    "duration": 4,
    "start_time": "2021-08-08T01:45:18.195Z"
   },
   {
    "duration": 26474,
    "start_time": "2021-08-08T01:45:26.412Z"
   },
   {
    "duration": 70321,
    "start_time": "2021-08-08T01:45:54.542Z"
   },
   {
    "duration": 370,
    "start_time": "2021-08-08T02:02:17.018Z"
   },
   {
    "duration": 23,
    "start_time": "2021-08-08T02:02:23.114Z"
   },
   {
    "duration": 4,
    "start_time": "2021-08-08T02:02:27.690Z"
   },
   {
    "duration": 404,
    "start_time": "2021-08-08T02:04:07.530Z"
   },
   {
    "duration": 365,
    "start_time": "2021-08-08T02:04:26.466Z"
   },
   {
    "duration": 340,
    "start_time": "2021-08-08T02:04:41.722Z"
   },
   {
    "duration": 359,
    "start_time": "2021-08-08T02:04:53.586Z"
   },
   {
    "duration": 529,
    "start_time": "2021-08-08T15:32:49.208Z"
   },
   {
    "duration": 117,
    "start_time": "2021-08-08T15:36:54.854Z"
   },
   {
    "duration": 352,
    "start_time": "2021-08-08T15:36:57.312Z"
   },
   {
    "duration": 1489,
    "start_time": "2021-08-08T15:37:35.093Z"
   },
   {
    "duration": 1072,
    "start_time": "2021-08-08T15:37:36.584Z"
   },
   {
    "duration": 160,
    "start_time": "2021-08-08T15:37:37.659Z"
   },
   {
    "duration": 33,
    "start_time": "2021-08-08T15:37:37.825Z"
   },
   {
    "duration": 157,
    "start_time": "2021-08-08T15:37:37.861Z"
   },
   {
    "duration": 124,
    "start_time": "2021-08-08T15:37:38.021Z"
   },
   {
    "duration": 591,
    "start_time": "2021-08-08T15:37:38.157Z"
   },
   {
    "duration": 310,
    "start_time": "2021-08-08T15:37:38.755Z"
   },
   {
    "duration": 50,
    "start_time": "2021-08-08T15:37:39.068Z"
   },
   {
    "duration": 158,
    "start_time": "2021-08-08T15:37:39.121Z"
   },
   {
    "duration": 258,
    "start_time": "2021-08-08T15:37:39.281Z"
   },
   {
    "duration": 14,
    "start_time": "2021-08-08T15:37:39.542Z"
   },
   {
    "duration": 1868,
    "start_time": "2021-08-08T15:37:39.559Z"
   },
   {
    "duration": -257,
    "start_time": "2021-08-08T15:37:41.687Z"
   },
   {
    "duration": -265,
    "start_time": "2021-08-08T15:37:41.697Z"
   },
   {
    "duration": -267,
    "start_time": "2021-08-08T15:37:41.701Z"
   },
   {
    "duration": -270,
    "start_time": "2021-08-08T15:37:41.706Z"
   },
   {
    "duration": -273,
    "start_time": "2021-08-08T15:37:41.711Z"
   },
   {
    "duration": -282,
    "start_time": "2021-08-08T15:37:41.723Z"
   },
   {
    "duration": 257,
    "start_time": "2021-08-08T15:41:16.821Z"
   },
   {
    "duration": 76,
    "start_time": "2021-08-08T15:41:28.134Z"
   },
   {
    "duration": 5,
    "start_time": "2021-08-08T15:41:30.599Z"
   },
   {
    "duration": 343,
    "start_time": "2021-08-08T15:41:32.491Z"
   },
   {
    "duration": -210,
    "start_time": "2021-08-08T15:41:33.046Z"
   },
   {
    "duration": 128,
    "start_time": "2021-08-08T15:41:39.693Z"
   },
   {
    "duration": 18,
    "start_time": "2021-08-08T15:41:39.933Z"
   },
   {
    "duration": 3,
    "start_time": "2021-08-08T15:41:43.054Z"
   },
   {
    "duration": 5,
    "start_time": "2021-08-08T15:41:47.077Z"
   },
   {
    "duration": 103,
    "start_time": "2021-08-08T15:41:49.821Z"
   },
   {
    "duration": 261,
    "start_time": "2021-08-08T15:41:50.640Z"
   },
   {
    "duration": 404,
    "start_time": "2021-08-08T17:53:00.744Z"
   },
   {
    "duration": 797,
    "start_time": "2021-08-08T17:53:27.165Z"
   },
   {
    "duration": 355,
    "start_time": "2021-08-08T17:54:04.304Z"
   },
   {
    "duration": 413,
    "start_time": "2021-08-08T17:54:11.410Z"
   },
   {
    "duration": 1632,
    "start_time": "2021-08-08T17:54:26.337Z"
   },
   {
    "duration": 1049,
    "start_time": "2021-08-08T17:54:27.972Z"
   },
   {
    "duration": 157,
    "start_time": "2021-08-08T17:54:29.024Z"
   },
   {
    "duration": 25,
    "start_time": "2021-08-08T17:54:29.184Z"
   },
   {
    "duration": 176,
    "start_time": "2021-08-08T17:54:29.212Z"
   },
   {
    "duration": 124,
    "start_time": "2021-08-08T17:54:29.391Z"
   },
   {
    "duration": 640,
    "start_time": "2021-08-08T17:54:29.517Z"
   },
   {
    "duration": 327,
    "start_time": "2021-08-08T17:54:30.159Z"
   },
   {
    "duration": 50,
    "start_time": "2021-08-08T17:54:30.488Z"
   },
   {
    "duration": 154,
    "start_time": "2021-08-08T17:54:30.541Z"
   },
   {
    "duration": 268,
    "start_time": "2021-08-08T17:54:30.698Z"
   },
   {
    "duration": 3,
    "start_time": "2021-08-08T17:54:30.969Z"
   },
   {
    "duration": 610,
    "start_time": "2021-08-08T17:54:30.974Z"
   },
   {
    "duration": 3,
    "start_time": "2021-08-08T17:54:31.587Z"
   },
   {
    "duration": 152,
    "start_time": "2021-08-08T17:54:31.592Z"
   },
   {
    "duration": 13,
    "start_time": "2021-08-08T17:54:31.746Z"
   },
   {
    "duration": 18,
    "start_time": "2021-08-08T17:54:31.761Z"
   },
   {
    "duration": 16,
    "start_time": "2021-08-08T17:54:31.783Z"
   },
   {
    "duration": 117,
    "start_time": "2021-08-08T17:54:31.802Z"
   },
   {
    "duration": 464,
    "start_time": "2021-08-08T17:54:31.921Z"
   },
   {
    "duration": 348,
    "start_time": "2021-08-08T17:55:58.840Z"
   },
   {
    "duration": 53683,
    "start_time": "2021-08-08T17:56:08.630Z"
   },
   {
    "duration": -278,
    "start_time": "2021-08-08T17:57:02.593Z"
   },
   {
    "duration": -290,
    "start_time": "2021-08-08T17:57:02.606Z"
   },
   {
    "duration": -290,
    "start_time": "2021-08-08T17:57:02.608Z"
   },
   {
    "duration": 13,
    "start_time": "2021-08-08T17:57:06.429Z"
   },
   {
    "duration": 28,
    "start_time": "2021-08-08T17:57:20.958Z"
   },
   {
    "duration": 75,
    "start_time": "2021-08-08T17:57:30.213Z"
   },
   {
    "duration": 835,
    "start_time": "2021-08-08T17:57:38.253Z"
   },
   {
    "duration": 33,
    "start_time": "2021-08-08T17:57:41.318Z"
   },
   {
    "duration": 28,
    "start_time": "2021-08-08T17:57:47.537Z"
   },
   {
    "duration": 15,
    "start_time": "2021-08-08T17:57:50.829Z"
   },
   {
    "duration": 3,
    "start_time": "2021-08-08T17:58:21.757Z"
   },
   {
    "duration": 6,
    "start_time": "2021-08-08T17:58:25.925Z"
   },
   {
    "duration": 2270,
    "start_time": "2021-08-08T17:58:30.894Z"
   },
   {
    "duration": 236,
    "start_time": "2021-08-08T17:59:17.557Z"
   },
   {
    "duration": 235,
    "start_time": "2021-08-08T18:17:01.835Z"
   },
   {
    "duration": 4,
    "start_time": "2021-08-08T18:17:09.716Z"
   },
   {
    "duration": 247,
    "start_time": "2021-08-08T18:17:10.236Z"
   },
   {
    "duration": 345,
    "start_time": "2021-08-08T18:55:48.115Z"
   },
   {
    "duration": 8,
    "start_time": "2021-08-08T18:55:56.612Z"
   },
   {
    "duration": 82,
    "start_time": "2021-08-08T18:56:02.973Z"
   },
   {
    "duration": 82,
    "start_time": "2021-08-08T18:56:08.084Z"
   },
   {
    "duration": 425,
    "start_time": "2021-08-08T18:58:01.204Z"
   },
   {
    "duration": 365,
    "start_time": "2021-08-08T18:58:25.171Z"
   },
   {
    "duration": 37,
    "start_time": "2021-08-08T18:58:33.162Z"
   },
   {
    "duration": 332,
    "start_time": "2021-08-08T18:59:00.101Z"
   },
   {
    "duration": 919,
    "start_time": "2021-08-08T18:59:10.171Z"
   },
   {
    "duration": 34,
    "start_time": "2021-08-08T18:59:11.707Z"
   },
   {
    "duration": 561,
    "start_time": "2021-08-08T18:59:34.395Z"
   },
   {
    "duration": 32,
    "start_time": "2021-08-08T18:59:38.186Z"
   },
   {
    "duration": 761,
    "start_time": "2021-08-08T18:59:52.305Z"
   },
   {
    "duration": 33,
    "start_time": "2021-08-08T18:59:54.618Z"
   },
   {
    "duration": 774,
    "start_time": "2021-08-08T22:00:21.745Z"
   },
   {
    "duration": 1001,
    "start_time": "2021-08-08T22:00:42.482Z"
   },
   {
    "duration": 1104,
    "start_time": "2021-08-08T22:00:45.518Z"
   },
   {
    "duration": 8,
    "start_time": "2021-08-08T22:00:50.114Z"
   },
   {
    "duration": 8,
    "start_time": "2021-08-08T22:00:50.273Z"
   },
   {
    "duration": 9,
    "start_time": "2021-08-08T22:00:50.432Z"
   },
   {
    "duration": 8,
    "start_time": "2021-08-08T22:00:50.576Z"
   },
   {
    "duration": 8,
    "start_time": "2021-08-08T22:00:54.632Z"
   },
   {
    "duration": 8,
    "start_time": "2021-08-08T22:00:57.001Z"
   },
   {
    "duration": 8,
    "start_time": "2021-08-08T22:00:57.368Z"
   },
   {
    "duration": 8,
    "start_time": "2021-08-08T22:00:57.664Z"
   },
   {
    "duration": 8,
    "start_time": "2021-08-08T22:00:57.935Z"
   },
   {
    "duration": 1014,
    "start_time": "2021-08-08T22:01:01.260Z"
   },
   {
    "duration": 149,
    "start_time": "2021-08-08T22:01:06.424Z"
   },
   {
    "duration": 147,
    "start_time": "2021-08-08T22:01:06.640Z"
   },
   {
    "duration": 161,
    "start_time": "2021-08-08T22:01:06.943Z"
   },
   {
    "duration": 146,
    "start_time": "2021-08-08T22:01:07.599Z"
   },
   {
    "duration": 8,
    "start_time": "2021-08-08T22:01:18.192Z"
   },
   {
    "duration": 996,
    "start_time": "2021-08-08T22:01:18.504Z"
   },
   {
    "duration": 161,
    "start_time": "2021-08-08T22:01:19.502Z"
   },
   {
    "duration": 19,
    "start_time": "2021-08-08T22:01:19.666Z"
   },
   {
    "duration": 170,
    "start_time": "2021-08-08T22:01:19.687Z"
   },
   {
    "duration": 106,
    "start_time": "2021-08-08T22:01:20.488Z"
   },
   {
    "duration": 508,
    "start_time": "2021-08-08T22:01:21.090Z"
   },
   {
    "duration": 304,
    "start_time": "2021-08-08T22:01:21.601Z"
   },
   {
    "duration": 44,
    "start_time": "2021-08-08T22:01:22.254Z"
   },
   {
    "duration": 130,
    "start_time": "2021-08-08T22:01:23.856Z"
   },
   {
    "duration": 125,
    "start_time": "2021-08-08T22:01:39.574Z"
   },
   {
    "duration": 12,
    "start_time": "2021-08-08T22:01:39.767Z"
   },
   {
    "duration": 29,
    "start_time": "2021-08-08T22:01:41.705Z"
   },
   {
    "duration": 990,
    "start_time": "2021-08-08T22:01:46.746Z"
   },
   {
    "duration": 33,
    "start_time": "2021-08-08T22:01:50.968Z"
   },
   {
    "duration": 559,
    "start_time": "2021-08-08T22:02:21.087Z"
   },
   {
    "duration": 107,
    "start_time": "2021-08-08T22:02:40.058Z"
   },
   {
    "duration": 337,
    "start_time": "2021-08-08T22:02:43.793Z"
   },
   {
    "duration": 755,
    "start_time": "2021-08-08T22:02:46.924Z"
   },
   {
    "duration": 64,
    "start_time": "2021-08-08T22:03:28.232Z"
   },
   {
    "duration": 519,
    "start_time": "2021-08-08T22:03:46.141Z"
   },
   {
    "duration": 30,
    "start_time": "2021-08-08T22:03:47.792Z"
   },
   {
    "duration": 1043,
    "start_time": "2021-08-08T22:04:02.462Z"
   },
   {
    "duration": 374,
    "start_time": "2021-08-08T22:04:09.863Z"
   },
   {
    "duration": 324,
    "start_time": "2021-08-08T22:04:20.903Z"
   },
   {
    "duration": 44,
    "start_time": "2021-08-08T22:04:21.336Z"
   },
   {
    "duration": 137,
    "start_time": "2021-08-08T22:04:21.541Z"
   },
   {
    "duration": 251,
    "start_time": "2021-08-08T22:04:21.725Z"
   },
   {
    "duration": 3,
    "start_time": "2021-08-08T22:04:21.979Z"
   },
   {
    "duration": 52934,
    "start_time": "2021-08-08T22:04:27.575Z"
   },
   {
    "duration": -446,
    "start_time": "2021-08-08T22:05:20.959Z"
   },
   {
    "duration": -461,
    "start_time": "2021-08-08T22:05:20.975Z"
   },
   {
    "duration": -471,
    "start_time": "2021-08-08T22:05:20.987Z"
   },
   {
    "duration": -475,
    "start_time": "2021-08-08T22:05:20.992Z"
   },
   {
    "duration": -479,
    "start_time": "2021-08-08T22:05:20.997Z"
   },
   {
    "duration": -484,
    "start_time": "2021-08-08T22:05:21.004Z"
   },
   {
    "duration": -489,
    "start_time": "2021-08-08T22:05:21.010Z"
   },
   {
    "duration": -500,
    "start_time": "2021-08-08T22:05:21.028Z"
   },
   {
    "duration": -510,
    "start_time": "2021-08-08T22:05:21.044Z"
   },
   {
    "duration": -517,
    "start_time": "2021-08-08T22:05:21.052Z"
   },
   {
    "duration": -404,
    "start_time": "2021-08-08T22:07:26.938Z"
   },
   {
    "duration": -402,
    "start_time": "2021-08-08T22:07:26.944Z"
   },
   {
    "duration": 9,
    "start_time": "2021-08-08T22:36:49.913Z"
   },
   {
    "duration": 973,
    "start_time": "2021-08-08T22:36:50.089Z"
   },
   {
    "duration": 169,
    "start_time": "2021-08-08T22:36:51.065Z"
   },
   {
    "duration": 34,
    "start_time": "2021-08-08T22:36:51.238Z"
   },
   {
    "duration": 173,
    "start_time": "2021-08-08T22:36:51.275Z"
   },
   {
    "duration": 116,
    "start_time": "2021-08-08T22:36:51.455Z"
   },
   {
    "duration": 541,
    "start_time": "2021-08-08T22:36:51.573Z"
   },
   {
    "duration": 381,
    "start_time": "2021-08-08T22:36:52.118Z"
   },
   {
    "duration": 38,
    "start_time": "2021-08-08T22:36:52.501Z"
   },
   {
    "duration": 145,
    "start_time": "2021-08-08T22:36:52.542Z"
   },
   {
    "duration": 245,
    "start_time": "2021-08-08T22:36:52.690Z"
   },
   {
    "duration": 3,
    "start_time": "2021-08-08T22:36:52.938Z"
   },
   {
    "duration": 513,
    "start_time": "2021-08-08T22:36:53.265Z"
   },
   {
    "duration": 3,
    "start_time": "2021-08-08T22:36:53.780Z"
   },
   {
    "duration": 3,
    "start_time": "2021-08-08T22:36:53.840Z"
   },
   {
    "duration": 341,
    "start_time": "2021-08-08T22:36:59.203Z"
   },
   {
    "duration": 964,
    "start_time": "2021-08-08T22:37:11.898Z"
   },
   {
    "duration": 22,
    "start_time": "2021-08-08T22:38:05.065Z"
   },
   {
    "duration": 375,
    "start_time": "2021-08-08T22:38:06.626Z"
   },
   {
    "duration": 373,
    "start_time": "2021-08-08T22:38:18.626Z"
   },
   {
    "duration": 383,
    "start_time": "2021-08-08T22:38:25.642Z"
   },
   {
    "duration": 235,
    "start_time": "2021-08-08T22:38:50.219Z"
   },
   {
    "duration": 221,
    "start_time": "2021-08-08T22:38:55.202Z"
   },
   {
    "duration": 7,
    "start_time": "2021-08-08T22:39:00.354Z"
   },
   {
    "duration": 216,
    "start_time": "2021-08-08T22:39:05.337Z"
   },
   {
    "duration": 380,
    "start_time": "2021-08-08T22:40:57.904Z"
   },
   {
    "duration": 316,
    "start_time": "2021-08-08T22:41:07.296Z"
   },
   {
    "duration": 11,
    "start_time": "2021-08-08T22:41:30.672Z"
   },
   {
    "duration": 904,
    "start_time": "2021-08-08T22:41:34.822Z"
   },
   {
    "duration": 51,
    "start_time": "2021-08-08T22:42:01.624Z"
   },
   {
    "duration": 26,
    "start_time": "2021-08-08T22:42:02.334Z"
   },
   {
    "duration": 10,
    "start_time": "2021-08-08T22:42:39.382Z"
   },
   {
    "duration": 8,
    "start_time": "2021-08-08T22:42:45.101Z"
   },
   {
    "duration": 358,
    "start_time": "2021-08-08T22:42:45.531Z"
   },
   {
    "duration": 406,
    "start_time": "2021-08-08T22:43:00.839Z"
   },
   {
    "duration": 51,
    "start_time": "2021-08-08T22:43:12.943Z"
   },
   {
    "duration": 1535,
    "start_time": "2021-08-08T22:43:29.661Z"
   },
   {
    "duration": 1144,
    "start_time": "2021-08-08T22:43:31.198Z"
   },
   {
    "duration": 163,
    "start_time": "2021-08-08T22:43:32.345Z"
   },
   {
    "duration": 24,
    "start_time": "2021-08-08T22:43:32.512Z"
   },
   {
    "duration": 153,
    "start_time": "2021-08-08T22:43:32.556Z"
   },
   {
    "duration": 126,
    "start_time": "2021-08-08T22:43:32.711Z"
   },
   {
    "duration": 578,
    "start_time": "2021-08-08T22:43:32.839Z"
   },
   {
    "duration": 328,
    "start_time": "2021-08-08T22:43:33.420Z"
   },
   {
    "duration": 50,
    "start_time": "2021-08-08T22:43:33.752Z"
   },
   {
    "duration": 148,
    "start_time": "2021-08-08T22:43:33.805Z"
   },
   {
    "duration": 270,
    "start_time": "2021-08-08T22:43:33.956Z"
   },
   {
    "duration": 3,
    "start_time": "2021-08-08T22:43:34.228Z"
   },
   {
    "duration": 560,
    "start_time": "2021-08-08T22:43:34.233Z"
   },
   {
    "duration": 3,
    "start_time": "2021-08-08T22:43:34.795Z"
   },
   {
    "duration": 31,
    "start_time": "2021-08-08T22:43:34.800Z"
   },
   {
    "duration": 227,
    "start_time": "2021-08-08T22:43:34.833Z"
   },
   {
    "duration": 9,
    "start_time": "2021-08-08T22:43:35.062Z"
   },
   {
    "duration": 24,
    "start_time": "2021-08-08T22:43:35.073Z"
   },
   {
    "duration": 21,
    "start_time": "2021-08-08T22:43:35.099Z"
   },
   {
    "duration": 66,
    "start_time": "2021-08-08T22:43:35.122Z"
   },
   {
    "duration": 256,
    "start_time": "2021-08-08T22:43:35.191Z"
   },
   {
    "duration": 28,
    "start_time": "2021-08-08T22:43:35.449Z"
   },
   {
    "duration": 1679,
    "start_time": "2021-08-08T22:43:35.479Z"
   },
   {
    "duration": 8,
    "start_time": "2021-08-08T22:45:23.701Z"
   },
   {
    "duration": 26,
    "start_time": "2021-08-08T22:45:28.389Z"
   },
   {
    "duration": 475,
    "start_time": "2021-08-08T22:50:20.994Z"
   },
   {
    "duration": 331,
    "start_time": "2021-08-08T22:50:29.229Z"
   },
   {
    "duration": 2616,
    "start_time": "2021-08-08T22:50:35.555Z"
   },
   {
    "duration": 334,
    "start_time": "2021-08-08T22:51:56.314Z"
   },
   {
    "duration": 329,
    "start_time": "2021-08-08T22:52:33.064Z"
   },
   {
    "duration": 380,
    "start_time": "2021-08-08T22:53:30.076Z"
   },
   {
    "duration": 714,
    "start_time": "2021-08-08T22:53:36.244Z"
   },
   {
    "duration": 348,
    "start_time": "2021-08-08T22:54:29.920Z"
   },
   {
    "duration": 239,
    "start_time": "2021-08-08T22:54:58.976Z"
   },
   {
    "duration": 254,
    "start_time": "2021-08-08T22:55:50.536Z"
   },
   {
    "duration": 119601,
    "start_time": "2021-08-08T22:56:08.656Z"
   },
   {
    "duration": 2585,
    "start_time": "2021-08-08T22:58:08.260Z"
   },
   {
    "duration": 788,
    "start_time": "2021-08-08T22:58:17.070Z"
   },
   {
    "duration": 19394,
    "start_time": "2021-08-08T23:00:36.259Z"
   },
   {
    "duration": 112,
    "start_time": "2021-08-08T23:01:06.367Z"
   },
   {
    "duration": 159174,
    "start_time": "2021-08-08T23:01:17.589Z"
   },
   {
    "duration": 2846,
    "start_time": "2021-08-09T00:08:51.560Z"
   },
   {
    "duration": 2845,
    "start_time": "2021-08-09T00:09:23.873Z"
   },
   {
    "duration": 2472,
    "start_time": "2021-08-09T00:10:06.349Z"
   },
   {
    "duration": 4309,
    "start_time": "2021-08-09T00:12:15.516Z"
   },
   {
    "duration": 5383,
    "start_time": "2021-08-09T00:16:13.938Z"
   },
   {
    "duration": 293,
    "start_time": "2021-08-09T00:16:25.141Z"
   },
   {
    "duration": 10763,
    "start_time": "2021-08-09T00:49:44.102Z"
   },
   {
    "duration": 322,
    "start_time": "2021-08-09T00:59:04.989Z"
   },
   {
    "duration": 229,
    "start_time": "2021-08-09T00:59:16.790Z"
   },
   {
    "duration": 13883,
    "start_time": "2021-08-09T00:59:28.798Z"
   },
   {
    "duration": 2038,
    "start_time": "2021-08-09T01:00:01.973Z"
   },
   {
    "duration": 13277,
    "start_time": "2021-08-09T01:00:05.335Z"
   },
   {
    "duration": 328,
    "start_time": "2021-08-09T01:01:54.413Z"
   },
   {
    "duration": 8,
    "start_time": "2021-08-09T01:02:06.322Z"
   },
   {
    "duration": 11194,
    "start_time": "2021-08-09T01:02:12.755Z"
   },
   {
    "duration": 914,
    "start_time": "2021-08-09T01:03:53.954Z"
   },
   {
    "duration": 224428,
    "start_time": "2021-08-09T01:04:39.666Z"
   },
   {
    "duration": 911,
    "start_time": "2021-08-09T01:08:24.097Z"
   },
   {
    "duration": 399,
    "start_time": "2021-08-09T01:11:29.319Z"
   },
   {
    "duration": 809,
    "start_time": "2021-08-09T01:13:16.295Z"
   },
   {
    "duration": 1051,
    "start_time": "2021-08-09T01:14:05.709Z"
   },
   {
    "duration": 952,
    "start_time": "2021-08-09T01:14:13.708Z"
   },
   {
    "duration": 1084,
    "start_time": "2021-08-09T01:14:22.373Z"
   },
   {
    "duration": 1529,
    "start_time": "2021-08-09T01:14:35.628Z"
   },
   {
    "duration": 1647,
    "start_time": "2021-08-09T01:16:15.523Z"
   },
   {
    "duration": 549,
    "start_time": "2021-08-09T01:16:36.513Z"
   },
   {
    "duration": 1024,
    "start_time": "2021-08-09T01:16:43.538Z"
   },
   {
    "duration": 711,
    "start_time": "2021-08-09T01:17:02.146Z"
   },
   {
    "duration": 1430,
    "start_time": "2021-08-09T01:17:08.435Z"
   },
   {
    "duration": 337,
    "start_time": "2021-08-09T01:17:15.938Z"
   },
   {
    "duration": 346,
    "start_time": "2021-08-09T01:17:24.226Z"
   },
   {
    "duration": 1292,
    "start_time": "2021-08-09T01:17:31.266Z"
   },
   {
    "duration": 1471,
    "start_time": "2021-08-09T01:17:33.411Z"
   },
   {
    "duration": 353,
    "start_time": "2021-08-09T01:18:32.707Z"
   },
   {
    "duration": 37,
    "start_time": "2021-08-09T01:18:38.809Z"
   },
   {
    "duration": 442,
    "start_time": "2021-08-09T01:36:04.215Z"
   },
   {
    "duration": 398,
    "start_time": "2021-08-09T01:37:42.157Z"
   },
   {
    "duration": 427,
    "start_time": "2021-08-09T01:37:53.893Z"
   },
   {
    "duration": 377,
    "start_time": "2021-08-09T01:38:24.594Z"
   },
   {
    "duration": 471,
    "start_time": "2021-08-09T01:38:47.038Z"
   },
   {
    "duration": 869,
    "start_time": "2021-08-09T01:38:53.315Z"
   },
   {
    "duration": 424,
    "start_time": "2021-08-09T01:38:57.213Z"
   },
   {
    "duration": 371,
    "start_time": "2021-08-09T01:39:07.349Z"
   },
   {
    "duration": 402,
    "start_time": "2021-08-09T01:39:31.251Z"
   },
   {
    "duration": 107,
    "start_time": "2021-08-09T01:41:19.379Z"
   },
   {
    "duration": 98,
    "start_time": "2021-08-09T01:41:46.644Z"
   },
   {
    "duration": 112,
    "start_time": "2021-08-09T01:41:54.035Z"
   },
   {
    "duration": 119,
    "start_time": "2021-08-09T01:43:40.501Z"
   },
   {
    "duration": 162,
    "start_time": "2021-08-09T01:43:59.745Z"
   },
   {
    "duration": 152,
    "start_time": "2021-08-09T01:44:34.180Z"
   },
   {
    "duration": 44,
    "start_time": "2021-08-09T01:44:41.726Z"
   },
   {
    "duration": 38,
    "start_time": "2021-08-09T01:44:52.803Z"
   },
   {
    "duration": 10,
    "start_time": "2021-08-09T01:45:11.723Z"
   },
   {
    "duration": 36,
    "start_time": "2021-08-09T01:45:18.249Z"
   },
   {
    "duration": 25,
    "start_time": "2021-08-09T01:46:48.263Z"
   },
   {
    "duration": 35,
    "start_time": "2021-08-09T01:46:54.498Z"
   },
   {
    "duration": 37,
    "start_time": "2021-08-09T01:51:24.801Z"
   },
   {
    "duration": 116,
    "start_time": "2021-08-09T01:52:38.053Z"
   },
   {
    "duration": 46,
    "start_time": "2021-08-09T01:52:56.803Z"
   },
   {
    "duration": 188,
    "start_time": "2021-08-09T01:53:25.652Z"
   },
   {
    "duration": 50,
    "start_time": "2021-08-09T01:54:22.067Z"
   },
   {
    "duration": 48,
    "start_time": "2021-08-09T01:54:29.324Z"
   },
   {
    "duration": 252,
    "start_time": "2021-08-09T01:55:02.005Z"
   },
   {
    "duration": 56,
    "start_time": "2021-08-09T01:55:06.842Z"
   },
   {
    "duration": 55,
    "start_time": "2021-08-09T01:55:17.027Z"
   },
   {
    "duration": 113,
    "start_time": "2021-08-09T01:55:50.566Z"
   },
   {
    "duration": 53,
    "start_time": "2021-08-09T01:56:02.672Z"
   },
   {
    "duration": 56,
    "start_time": "2021-08-09T01:56:10.069Z"
   },
   {
    "duration": 372,
    "start_time": "2021-08-09T01:56:40.577Z"
   },
   {
    "duration": 863,
    "start_time": "2021-08-09T01:57:19.353Z"
   },
   {
    "duration": 776,
    "start_time": "2021-08-09T01:57:33.721Z"
   },
   {
    "duration": 53,
    "start_time": "2021-08-09T01:58:07.683Z"
   },
   {
    "duration": 53,
    "start_time": "2021-08-09T01:59:22.753Z"
   },
   {
    "duration": 12,
    "start_time": "2021-08-09T02:00:24.263Z"
   },
   {
    "duration": 17,
    "start_time": "2021-08-09T02:00:30.307Z"
   },
   {
    "duration": 57,
    "start_time": "2021-08-09T02:00:51.587Z"
   },
   {
    "duration": 122,
    "start_time": "2021-08-09T02:01:06.313Z"
   },
   {
    "duration": 68,
    "start_time": "2021-08-09T02:01:37.240Z"
   },
   {
    "duration": 65,
    "start_time": "2021-08-09T02:03:08.762Z"
   },
   {
    "duration": 53,
    "start_time": "2021-08-09T02:06:45.758Z"
   },
   {
    "duration": 41,
    "start_time": "2021-08-09T02:09:20.809Z"
   },
   {
    "duration": 45,
    "start_time": "2021-08-09T02:09:42.265Z"
   },
   {
    "duration": 11,
    "start_time": "2021-08-09T02:09:49.544Z"
   },
   {
    "duration": 39,
    "start_time": "2021-08-09T02:09:58.640Z"
   },
   {
    "duration": 53,
    "start_time": "2021-08-09T02:10:02.672Z"
   },
   {
    "duration": 12,
    "start_time": "2021-08-09T02:10:16.160Z"
   },
   {
    "duration": 363,
    "start_time": "2021-08-09T02:10:24.976Z"
   },
   {
    "duration": 69,
    "start_time": "2021-08-09T02:10:44.417Z"
   },
   {
    "duration": 481,
    "start_time": "2021-08-09T02:11:21.421Z"
   },
   {
    "duration": 66,
    "start_time": "2021-08-09T02:11:31.455Z"
   },
   {
    "duration": 403,
    "start_time": "2021-08-09T02:12:07.353Z"
   },
   {
    "duration": 30,
    "start_time": "2021-08-09T02:12:27.408Z"
   },
   {
    "duration": 44,
    "start_time": "2021-08-09T02:12:43.472Z"
   },
   {
    "duration": 36,
    "start_time": "2021-08-09T02:17:59.029Z"
   },
   {
    "duration": 36,
    "start_time": "2021-08-09T02:18:37.628Z"
   },
   {
    "duration": 120,
    "start_time": "2021-08-09T02:19:15.592Z"
   },
   {
    "duration": 172,
    "start_time": "2021-08-09T02:19:18.227Z"
   },
   {
    "duration": 43,
    "start_time": "2021-08-09T02:19:25.346Z"
   },
   {
    "duration": 17,
    "start_time": "2021-08-09T02:19:35.526Z"
   },
   {
    "duration": 27,
    "start_time": "2021-08-09T02:19:37.929Z"
   },
   {
    "duration": 47,
    "start_time": "2021-08-09T02:20:14.467Z"
   },
   {
    "duration": 8,
    "start_time": "2021-08-09T02:20:20.745Z"
   },
   {
    "duration": 1028,
    "start_time": "2021-08-09T02:20:20.915Z"
   },
   {
    "duration": 162,
    "start_time": "2021-08-09T02:20:21.946Z"
   },
   {
    "duration": 20,
    "start_time": "2021-08-09T02:20:22.112Z"
   },
   {
    "duration": 181,
    "start_time": "2021-08-09T02:20:22.134Z"
   },
   {
    "duration": 129,
    "start_time": "2021-08-09T02:20:22.318Z"
   },
   {
    "duration": 34,
    "start_time": "2021-08-09T02:20:22.449Z"
   },
   {
    "duration": 225,
    "start_time": "2021-08-09T02:20:22.487Z"
   },
   {
    "duration": 11635,
    "start_time": "2021-08-09T02:20:22.714Z"
   },
   {
    "duration": -543,
    "start_time": "2021-08-09T02:20:34.895Z"
   },
   {
    "duration": -546,
    "start_time": "2021-08-09T02:20:34.899Z"
   },
   {
    "duration": -549,
    "start_time": "2021-08-09T02:20:34.903Z"
   },
   {
    "duration": -552,
    "start_time": "2021-08-09T02:20:34.908Z"
   },
   {
    "duration": -554,
    "start_time": "2021-08-09T02:20:34.911Z"
   },
   {
    "duration": 88,
    "start_time": "2021-08-09T02:26:00.470Z"
   },
   {
    "duration": 8404,
    "start_time": "2021-08-09T02:26:36.470Z"
   },
   {
    "duration": 41,
    "start_time": "2021-08-09T02:26:59.477Z"
   },
   {
    "duration": 44,
    "start_time": "2021-08-09T02:27:51.638Z"
   },
   {
    "duration": 1796,
    "start_time": "2021-08-09T02:30:32.844Z"
   },
   {
    "duration": 1766,
    "start_time": "2021-08-09T02:30:40.348Z"
   },
   {
    "duration": 18,
    "start_time": "2021-08-09T02:30:51.978Z"
   },
   {
    "duration": 18,
    "start_time": "2021-08-09T02:30:57.186Z"
   },
   {
    "duration": 1286,
    "start_time": "2021-08-09T02:31:03.603Z"
   },
   {
    "duration": 1957,
    "start_time": "2021-08-09T02:31:24.931Z"
   },
   {
    "duration": 1570,
    "start_time": "2021-08-09T02:32:01.788Z"
   },
   {
    "duration": 1702,
    "start_time": "2021-08-09T02:32:11.586Z"
   },
   {
    "duration": 846,
    "start_time": "2021-08-09T02:34:31.497Z"
   },
   {
    "duration": 795,
    "start_time": "2021-08-09T02:34:47.851Z"
   },
   {
    "duration": 12231,
    "start_time": "2021-08-09T02:34:56.044Z"
   },
   {
    "duration": 11515,
    "start_time": "2021-08-09T02:35:12.544Z"
   },
   {
    "duration": 9273,
    "start_time": "2021-08-09T02:35:38.952Z"
   },
   {
    "duration": 1222,
    "start_time": "2021-08-09T02:36:11.009Z"
   },
   {
    "duration": 1147,
    "start_time": "2021-08-09T02:36:28.511Z"
   },
   {
    "duration": 399,
    "start_time": "2021-08-09T02:37:41.978Z"
   },
   {
    "duration": 1130,
    "start_time": "2021-08-09T02:39:48.800Z"
   },
   {
    "duration": 1474,
    "start_time": "2021-08-09T02:40:42.422Z"
   },
   {
    "duration": 127,
    "start_time": "2021-08-09T02:41:03.158Z"
   },
   {
    "duration": 528,
    "start_time": "2021-08-09T02:41:17.422Z"
   },
   {
    "duration": 159,
    "start_time": "2021-08-09T02:41:23.557Z"
   },
   {
    "duration": 16,
    "start_time": "2021-08-09T02:41:25.071Z"
   },
   {
    "duration": 123,
    "start_time": "2021-08-09T02:41:27.154Z"
   },
   {
    "duration": 349,
    "start_time": "2021-08-09T02:41:34.094Z"
   },
   {
    "duration": 375,
    "start_time": "2021-08-09T02:41:44.421Z"
   },
   {
    "duration": 121,
    "start_time": "2021-08-09T02:41:56.733Z"
   },
   {
    "duration": 116,
    "start_time": "2021-08-09T02:42:10.573Z"
   },
   {
    "duration": 531,
    "start_time": "2021-08-09T02:42:26.199Z"
   },
   {
    "duration": 516,
    "start_time": "2021-08-09T02:42:34.751Z"
   },
   {
    "duration": 1175,
    "start_time": "2021-08-09T02:42:57.822Z"
   },
   {
    "duration": 1166,
    "start_time": "2021-08-09T02:43:00.821Z"
   },
   {
    "duration": 1142,
    "start_time": "2021-08-09T02:43:07.174Z"
   },
   {
    "duration": 413,
    "start_time": "2021-08-09T02:43:31.565Z"
   },
   {
    "duration": 358,
    "start_time": "2021-08-09T02:43:36.422Z"
   },
   {
    "duration": 1144,
    "start_time": "2021-08-09T02:43:52.383Z"
   },
   {
    "duration": 1784,
    "start_time": "2021-08-09T02:44:23.686Z"
   },
   {
    "duration": 1869,
    "start_time": "2021-08-09T02:44:58.958Z"
   },
   {
    "duration": 1755,
    "start_time": "2021-08-09T02:45:13.085Z"
   },
   {
    "duration": 246,
    "start_time": "2021-08-09T02:45:42.910Z"
   },
   {
    "duration": 405,
    "start_time": "2021-08-09T02:46:06.486Z"
   },
   {
    "duration": 89,
    "start_time": "2021-08-09T02:46:10.668Z"
   },
   {
    "duration": 249,
    "start_time": "2021-08-09T02:46:30.470Z"
   },
   {
    "duration": 86,
    "start_time": "2021-08-09T02:46:54.914Z"
   },
   {
    "duration": 392,
    "start_time": "2021-08-09T02:47:34.373Z"
   },
   {
    "duration": 85,
    "start_time": "2021-08-09T02:47:42.308Z"
   },
   {
    "duration": 85,
    "start_time": "2021-08-09T02:48:50.300Z"
   },
   {
    "duration": 87,
    "start_time": "2021-08-09T02:49:20.125Z"
   },
   {
    "duration": 67,
    "start_time": "2021-08-09T02:49:55.428Z"
   },
   {
    "duration": 81,
    "start_time": "2021-08-09T02:49:59.172Z"
   },
   {
    "duration": 83,
    "start_time": "2021-08-09T02:50:44.716Z"
   },
   {
    "duration": 626,
    "start_time": "2021-08-09T02:50:59.980Z"
   },
   {
    "duration": 95,
    "start_time": "2021-08-09T02:51:06.460Z"
   },
   {
    "duration": 97,
    "start_time": "2021-08-09T02:51:10.860Z"
   },
   {
    "duration": 93,
    "start_time": "2021-08-09T02:51:14.948Z"
   },
   {
    "duration": 854,
    "start_time": "2021-08-09T02:53:16.124Z"
   },
   {
    "duration": 88,
    "start_time": "2021-08-09T02:53:27.082Z"
   },
   {
    "duration": 133,
    "start_time": "2021-08-09T02:55:05.217Z"
   },
   {
    "duration": 85,
    "start_time": "2021-08-09T02:55:15.018Z"
   },
   {
    "duration": 89,
    "start_time": "2021-08-09T02:55:36.593Z"
   },
   {
    "duration": 84,
    "start_time": "2021-08-09T02:56:13.529Z"
   },
   {
    "duration": 88,
    "start_time": "2021-08-09T02:56:32.994Z"
   },
   {
    "duration": 84,
    "start_time": "2021-08-09T02:56:50.842Z"
   },
   {
    "duration": 69,
    "start_time": "2021-08-09T02:57:25.777Z"
   },
   {
    "duration": 79,
    "start_time": "2021-08-09T02:57:31.753Z"
   },
   {
    "duration": 72,
    "start_time": "2021-08-09T02:57:46.946Z"
   },
   {
    "duration": 127,
    "start_time": "2021-08-09T02:58:17.624Z"
   },
   {
    "duration": 108,
    "start_time": "2021-08-09T02:58:22.840Z"
   },
   {
    "duration": 397,
    "start_time": "2021-08-09T02:58:27.735Z"
   },
   {
    "duration": 77,
    "start_time": "2021-08-09T02:58:40.840Z"
   },
   {
    "duration": 81,
    "start_time": "2021-08-09T02:58:54.426Z"
   },
   {
    "duration": 107,
    "start_time": "2021-08-09T03:00:43.575Z"
   },
   {
    "duration": 107,
    "start_time": "2021-08-09T03:02:05.838Z"
   },
   {
    "duration": 854,
    "start_time": "2021-08-09T03:02:56.198Z"
   },
   {
    "duration": 96,
    "start_time": "2021-08-09T03:04:53.730Z"
   },
   {
    "duration": 84,
    "start_time": "2021-08-09T03:04:57.549Z"
   },
   {
    "duration": 42,
    "start_time": "2021-08-09T03:04:59.372Z"
   },
   {
    "duration": 45,
    "start_time": "2021-08-09T03:05:01.765Z"
   },
   {
    "duration": 17,
    "start_time": "2021-08-09T03:05:06.261Z"
   },
   {
    "duration": 8364,
    "start_time": "2021-08-09T03:05:10.085Z"
   },
   {
    "duration": -594,
    "start_time": "2021-08-09T03:05:19.046Z"
   },
   {
    "duration": -600,
    "start_time": "2021-08-09T03:05:19.053Z"
   },
   {
    "duration": 197,
    "start_time": "2021-08-09T03:05:37.676Z"
   },
   {
    "duration": 8325,
    "start_time": "2021-08-09T03:05:39.948Z"
   },
   {
    "duration": -574,
    "start_time": "2021-08-09T03:05:48.850Z"
   },
   {
    "duration": -586,
    "start_time": "2021-08-09T03:05:48.864Z"
   },
   {
    "duration": -590,
    "start_time": "2021-08-09T03:05:48.870Z"
   },
   {
    "duration": -597,
    "start_time": "2021-08-09T03:05:48.878Z"
   },
   {
    "duration": 81,
    "start_time": "2021-08-09T03:06:10.133Z"
   },
   {
    "duration": 63,
    "start_time": "2021-08-09T03:06:36.323Z"
   },
   {
    "duration": 422,
    "start_time": "2021-08-09T03:06:47.893Z"
   },
   {
    "duration": 16,
    "start_time": "2021-08-09T03:06:57.763Z"
   },
   {
    "duration": 965,
    "start_time": "2021-08-09T03:07:11.226Z"
   },
   {
    "duration": 160,
    "start_time": "2021-08-09T03:07:12.194Z"
   },
   {
    "duration": 20,
    "start_time": "2021-08-09T03:07:12.357Z"
   },
   {
    "duration": 141,
    "start_time": "2021-08-09T03:07:13.796Z"
   },
   {
    "duration": 222,
    "start_time": "2021-08-09T03:07:42.540Z"
   },
   {
    "duration": 345,
    "start_time": "2021-08-09T03:07:45.981Z"
   },
   {
    "duration": 147,
    "start_time": "2021-08-09T03:07:48.491Z"
   },
   {
    "duration": 193,
    "start_time": "2021-08-09T03:08:02.796Z"
   },
   {
    "duration": 107,
    "start_time": "2021-08-09T03:08:05.018Z"
   },
   {
    "duration": 89,
    "start_time": "2021-08-09T03:08:06.849Z"
   },
   {
    "duration": 92,
    "start_time": "2021-08-09T03:08:15.907Z"
   },
   {
    "duration": 13,
    "start_time": "2021-08-09T03:08:19.275Z"
   },
   {
    "duration": 44,
    "start_time": "2021-08-09T03:08:23.355Z"
   },
   {
    "duration": 6,
    "start_time": "2021-08-09T03:08:42.363Z"
   },
   {
    "duration": 34,
    "start_time": "2021-08-09T03:08:46.476Z"
   },
   {
    "duration": 355,
    "start_time": "2021-08-09T03:08:55.545Z"
   },
   {
    "duration": 1016,
    "start_time": "2021-08-09T03:09:09.746Z"
   },
   {
    "duration": 55,
    "start_time": "2021-08-09T03:09:14.771Z"
   },
   {
    "duration": 8725,
    "start_time": "2021-08-09T03:09:16.714Z"
   },
   {
    "duration": -578,
    "start_time": "2021-08-09T03:09:26.020Z"
   },
   {
    "duration": -584,
    "start_time": "2021-08-09T03:09:26.027Z"
   },
   {
    "duration": 95,
    "start_time": "2021-08-09T03:09:28.578Z"
   },
   {
    "duration": 121,
    "start_time": "2021-08-09T03:09:29.274Z"
   },
   {
    "duration": 61,
    "start_time": "2021-08-09T03:09:30.345Z"
   },
   {
    "duration": 70,
    "start_time": "2021-08-09T03:09:34.729Z"
   },
   {
    "duration": 60,
    "start_time": "2021-08-09T03:09:36.666Z"
   },
   {
    "duration": 55,
    "start_time": "2021-08-09T03:09:44.307Z"
   },
   {
    "duration": 11,
    "start_time": "2021-08-09T03:09:49.545Z"
   },
   {
    "duration": 337,
    "start_time": "2021-08-09T03:10:50.193Z"
   },
   {
    "duration": 15,
    "start_time": "2021-08-09T03:11:11.311Z"
   },
   {
    "duration": 996,
    "start_time": "2021-08-09T03:11:11.503Z"
   },
   {
    "duration": 171,
    "start_time": "2021-08-09T03:11:12.502Z"
   },
   {
    "duration": 53,
    "start_time": "2021-08-09T03:11:12.676Z"
   },
   {
    "duration": 16,
    "start_time": "2021-08-09T03:11:15.505Z"
   },
   {
    "duration": 95,
    "start_time": "2021-08-09T03:11:36.745Z"
   },
   {
    "duration": 68,
    "start_time": "2021-08-09T03:11:46.217Z"
   },
   {
    "duration": 122,
    "start_time": "2021-08-09T03:11:56.840Z"
   },
   {
    "duration": 55,
    "start_time": "2021-08-09T03:11:58.840Z"
   },
   {
    "duration": 56,
    "start_time": "2021-08-09T03:12:14.328Z"
   },
   {
    "duration": 30,
    "start_time": "2021-08-09T03:12:17.704Z"
   },
   {
    "duration": 10,
    "start_time": "2021-08-09T03:13:04.017Z"
   },
   {
    "duration": 1049,
    "start_time": "2021-08-09T03:13:06.439Z"
   },
   {
    "duration": 157,
    "start_time": "2021-08-09T03:13:07.491Z"
   },
   {
    "duration": 57,
    "start_time": "2021-08-09T03:13:07.655Z"
   },
   {
    "duration": 15,
    "start_time": "2021-08-09T03:13:08.216Z"
   },
   {
    "duration": 123,
    "start_time": "2021-08-09T03:13:12.599Z"
   },
   {
    "duration": 65,
    "start_time": "2021-08-09T03:13:14.281Z"
   },
   {
    "duration": 57,
    "start_time": "2021-08-09T03:13:22.863Z"
   },
   {
    "duration": 36,
    "start_time": "2021-08-09T03:13:29.543Z"
   },
   {
    "duration": 59,
    "start_time": "2021-08-09T03:13:35.393Z"
   },
   {
    "duration": 35,
    "start_time": "2021-08-09T03:13:43.450Z"
   },
   {
    "duration": 53,
    "start_time": "2021-08-09T03:13:48.506Z"
   },
   {
    "duration": 102,
    "start_time": "2021-08-09T03:13:54.069Z"
   },
   {
    "duration": 54,
    "start_time": "2021-08-09T03:13:57.688Z"
   },
   {
    "duration": 88,
    "start_time": "2021-08-09T03:13:59.351Z"
   },
   {
    "duration": 64,
    "start_time": "2021-08-09T03:14:01.007Z"
   },
   {
    "duration": 193,
    "start_time": "2021-08-09T03:14:18.615Z"
   },
   {
    "duration": 164,
    "start_time": "2021-08-09T03:14:36.486Z"
   },
   {
    "duration": 402,
    "start_time": "2021-08-09T03:14:58.912Z"
   },
   {
    "duration": 23,
    "start_time": "2021-08-09T03:15:22.486Z"
   },
   {
    "duration": 144,
    "start_time": "2021-08-09T03:15:23.014Z"
   },
   {
    "duration": 159,
    "start_time": "2021-08-09T03:15:36.880Z"
   },
   {
    "duration": 20,
    "start_time": "2021-08-09T03:15:48.335Z"
   },
   {
    "duration": 18045,
    "start_time": "2021-08-09T03:15:52.279Z"
   },
   {
    "duration": 1485,
    "start_time": "2021-08-09T03:16:16.992Z"
   },
   {
    "duration": 1044,
    "start_time": "2021-08-09T03:16:18.479Z"
   },
   {
    "duration": 157,
    "start_time": "2021-08-09T03:16:19.526Z"
   },
   {
    "duration": 77,
    "start_time": "2021-08-09T03:16:19.686Z"
   },
   {
    "duration": 22,
    "start_time": "2021-08-09T03:16:19.766Z"
   },
   {
    "duration": 116,
    "start_time": "2021-08-09T03:16:19.790Z"
   },
   {
    "duration": 143,
    "start_time": "2021-08-09T03:16:19.909Z"
   },
   {
    "duration": 61,
    "start_time": "2021-08-09T03:16:20.056Z"
   },
   {
    "duration": 54,
    "start_time": "2021-08-09T03:16:20.122Z"
   },
   {
    "duration": 35,
    "start_time": "2021-08-09T03:16:20.180Z"
   },
   {
    "duration": 12,
    "start_time": "2021-08-09T03:16:20.217Z"
   },
   {
    "duration": 163,
    "start_time": "2021-08-09T03:16:20.231Z"
   },
   {
    "duration": 113,
    "start_time": "2021-08-09T03:16:20.396Z"
   },
   {
    "duration": 10,
    "start_time": "2021-08-09T03:16:20.511Z"
   },
   {
    "duration": 3,
    "start_time": "2021-08-09T03:16:20.524Z"
   },
   {
    "duration": 419,
    "start_time": "2021-08-09T03:16:20.529Z"
   },
   {
    "duration": 5,
    "start_time": "2021-08-09T03:16:20.951Z"
   },
   {
    "duration": 871,
    "start_time": "2021-08-09T03:16:20.959Z"
   },
   {
    "duration": 64,
    "start_time": "2021-08-09T03:16:21.832Z"
   },
   {
    "duration": 382,
    "start_time": "2021-08-09T03:16:21.898Z"
   },
   {
    "duration": 807,
    "start_time": "2021-08-09T03:16:22.282Z"
   },
   {
    "duration": 23,
    "start_time": "2021-08-09T03:16:23.091Z"
   },
   {
    "duration": 179,
    "start_time": "2021-08-09T03:16:23.116Z"
   },
   {
    "duration": 163,
    "start_time": "2021-08-09T03:16:23.297Z"
   },
   {
    "duration": 20,
    "start_time": "2021-08-09T03:16:23.463Z"
   },
   {
    "duration": 811205,
    "start_time": "2021-08-09T03:16:23.485Z"
   },
   {
    "duration": 537,
    "start_time": "2021-08-09T03:29:54.694Z"
   },
   {
    "duration": 300434,
    "start_time": "2021-08-09T03:29:55.233Z"
   },
   {
    "duration": 8505,
    "start_time": "2021-08-09T03:34:55.669Z"
   },
   {
    "duration": 2003,
    "start_time": "2021-08-09T03:35:04.176Z"
   },
   {
    "duration": 8,
    "start_time": "2021-08-09T12:51:40.638Z"
   },
   {
    "duration": 1067,
    "start_time": "2021-08-09T12:51:40.975Z"
   },
   {
    "duration": 161,
    "start_time": "2021-08-09T12:51:42.045Z"
   },
   {
    "duration": 57,
    "start_time": "2021-08-09T12:51:42.372Z"
   },
   {
    "duration": 8,
    "start_time": "2021-08-09T12:51:51.987Z"
   },
   {
    "duration": 1042,
    "start_time": "2021-08-09T12:51:52.203Z"
   },
   {
    "duration": 156,
    "start_time": "2021-08-09T12:51:53.247Z"
   },
   {
    "duration": 3,
    "start_time": "2021-08-09T12:51:53.405Z"
   },
   {
    "duration": 20,
    "start_time": "2021-08-09T12:51:56.435Z"
   },
   {
    "duration": 30,
    "start_time": "2021-08-09T12:53:51.593Z"
   },
   {
    "duration": 36,
    "start_time": "2021-08-09T12:54:10.385Z"
   },
   {
    "duration": 16,
    "start_time": "2021-08-09T12:54:12.745Z"
   },
   {
    "duration": 96,
    "start_time": "2021-08-09T12:54:17.961Z"
   },
   {
    "duration": 44,
    "start_time": "2021-08-09T12:54:35.681Z"
   },
   {
    "duration": 36,
    "start_time": "2021-08-09T12:55:50.619Z"
   },
   {
    "duration": 112,
    "start_time": "2021-08-09T12:56:26.183Z"
   },
   {
    "duration": 121,
    "start_time": "2021-08-09T13:00:12.647Z"
   },
   {
    "duration": 513,
    "start_time": "2021-08-09T13:00:40.904Z"
   },
   {
    "duration": 383,
    "start_time": "2021-08-09T13:00:47.404Z"
   },
   {
    "duration": 348,
    "start_time": "2021-08-09T13:00:54.542Z"
   },
   {
    "duration": 349,
    "start_time": "2021-08-09T13:01:05.423Z"
   },
   {
    "duration": 433,
    "start_time": "2021-08-09T13:01:11.138Z"
   },
   {
    "duration": 355,
    "start_time": "2021-08-09T13:01:34.088Z"
   },
   {
    "duration": 854,
    "start_time": "2021-08-09T13:01:58.375Z"
   },
   {
    "duration": 75,
    "start_time": "2021-08-09T13:02:10.704Z"
   },
   {
    "duration": 113,
    "start_time": "2021-08-09T13:02:23.895Z"
   },
   {
    "duration": 1534,
    "start_time": "2021-08-09T13:02:34.726Z"
   },
   {
    "duration": 129,
    "start_time": "2021-08-09T13:02:47.133Z"
   },
   {
    "duration": 3833,
    "start_time": "2021-08-09T13:03:04.134Z"
   },
   {
    "duration": 882,
    "start_time": "2021-08-09T13:03:19.181Z"
   },
   {
    "duration": 129,
    "start_time": "2021-08-09T13:03:26.033Z"
   },
   {
    "duration": 116,
    "start_time": "2021-08-09T13:03:32.246Z"
   },
   {
    "duration": 115,
    "start_time": "2021-08-09T13:03:46.742Z"
   },
   {
    "duration": 109,
    "start_time": "2021-08-09T13:03:59.675Z"
   },
   {
    "duration": 431,
    "start_time": "2021-08-09T13:04:13.533Z"
   },
   {
    "duration": 490,
    "start_time": "2021-08-09T13:04:21.316Z"
   },
   {
    "duration": 134,
    "start_time": "2021-08-09T13:04:28.421Z"
   },
   {
    "duration": 45,
    "start_time": "2021-08-09T13:05:21.308Z"
   },
   {
    "duration": 37,
    "start_time": "2021-08-09T13:05:27.283Z"
   },
   {
    "duration": 57,
    "start_time": "2021-08-09T13:05:37.475Z"
   },
   {
    "duration": 51,
    "start_time": "2021-08-09T13:06:14.642Z"
   },
   {
    "duration": 383,
    "start_time": "2021-08-09T13:06:17.811Z"
   },
   {
    "duration": 57,
    "start_time": "2021-08-09T13:06:24.403Z"
   },
   {
    "duration": 61,
    "start_time": "2021-08-09T13:06:50.381Z"
   },
   {
    "duration": 51,
    "start_time": "2021-08-09T13:07:05.050Z"
   },
   {
    "duration": 52,
    "start_time": "2021-08-09T13:07:48.763Z"
   },
   {
    "duration": 56,
    "start_time": "2021-08-09T13:07:52.291Z"
   },
   {
    "duration": 61,
    "start_time": "2021-08-09T13:07:54.601Z"
   },
   {
    "duration": 61,
    "start_time": "2021-08-09T13:08:03.732Z"
   },
   {
    "duration": 58,
    "start_time": "2021-08-09T13:08:16.260Z"
   },
   {
    "duration": 54,
    "start_time": "2021-08-09T13:08:22.482Z"
   },
   {
    "duration": 48,
    "start_time": "2021-08-09T13:09:25.315Z"
   },
   {
    "duration": 50,
    "start_time": "2021-08-09T13:09:29.023Z"
   },
   {
    "duration": 41,
    "start_time": "2021-08-09T13:12:33.149Z"
   },
   {
    "duration": 24,
    "start_time": "2021-08-09T13:12:37.824Z"
   },
   {
    "duration": 24,
    "start_time": "2021-08-09T13:12:53.290Z"
   },
   {
    "duration": 41,
    "start_time": "2021-08-09T13:13:03.584Z"
   },
   {
    "duration": 39,
    "start_time": "2021-08-09T13:13:45.964Z"
   },
   {
    "duration": 39,
    "start_time": "2021-08-09T13:14:03.382Z"
   },
   {
    "duration": 40,
    "start_time": "2021-08-09T13:16:20.637Z"
   },
   {
    "duration": 40,
    "start_time": "2021-08-09T13:20:42.427Z"
   },
   {
    "duration": 32,
    "start_time": "2021-08-09T15:10:58.333Z"
   },
   {
    "duration": 48,
    "start_time": "2021-08-09T15:11:01.397Z"
   },
   {
    "duration": 49,
    "start_time": "2021-08-09T15:11:13.025Z"
   },
   {
    "duration": 382,
    "start_time": "2021-08-09T15:13:49.536Z"
   },
   {
    "duration": 72,
    "start_time": "2021-08-09T15:13:59.535Z"
   },
   {
    "duration": 70,
    "start_time": "2021-08-09T15:14:11.321Z"
   },
   {
    "duration": 52,
    "start_time": "2021-08-09T15:14:14.327Z"
   },
   {
    "duration": 50,
    "start_time": "2021-08-09T15:14:18.313Z"
   },
   {
    "duration": 52,
    "start_time": "2021-08-09T15:14:42.510Z"
   },
   {
    "duration": 50,
    "start_time": "2021-08-09T15:14:45.553Z"
   },
   {
    "duration": 101,
    "start_time": "2021-08-09T15:21:39.980Z"
   },
   {
    "duration": 422,
    "start_time": "2021-08-09T15:22:03.042Z"
   },
   {
    "duration": 77,
    "start_time": "2021-08-09T15:22:09.386Z"
   },
   {
    "duration": 78,
    "start_time": "2021-08-09T15:22:16.803Z"
   },
   {
    "duration": 123,
    "start_time": "2021-08-09T15:22:25.795Z"
   },
   {
    "duration": 87,
    "start_time": "2021-08-09T15:22:48.001Z"
   },
   {
    "duration": 72,
    "start_time": "2021-08-09T15:23:06.273Z"
   },
   {
    "duration": 77,
    "start_time": "2021-08-09T15:23:16.099Z"
   },
   {
    "duration": 79,
    "start_time": "2021-08-09T15:23:22.113Z"
   },
   {
    "duration": 50,
    "start_time": "2021-08-09T15:23:43.800Z"
   },
   {
    "duration": 15,
    "start_time": "2021-08-09T15:23:55.088Z"
   },
   {
    "duration": 50,
    "start_time": "2021-08-09T15:24:09.162Z"
   },
   {
    "duration": 16,
    "start_time": "2021-08-09T15:24:13.472Z"
   },
   {
    "duration": 16,
    "start_time": "2021-08-09T15:26:58.134Z"
   },
   {
    "duration": 27,
    "start_time": "2021-08-09T15:27:10.681Z"
   },
   {
    "duration": 139,
    "start_time": "2021-08-09T15:27:17.897Z"
   },
   {
    "duration": 24,
    "start_time": "2021-08-09T15:27:21.008Z"
   },
   {
    "duration": 42,
    "start_time": "2021-08-09T15:27:38.817Z"
   },
   {
    "duration": 40,
    "start_time": "2021-08-09T15:27:41.576Z"
   },
   {
    "duration": 13,
    "start_time": "2021-08-09T15:28:14.255Z"
   },
   {
    "duration": 26,
    "start_time": "2021-08-09T15:28:20.791Z"
   },
   {
    "duration": 28,
    "start_time": "2021-08-09T15:28:27.191Z"
   },
   {
    "duration": 246,
    "start_time": "2021-08-09T15:30:19.790Z"
   },
   {
    "duration": 510,
    "start_time": "2021-08-09T15:35:51.682Z"
   },
   {
    "duration": 153,
    "start_time": "2021-08-09T15:36:15.521Z"
   },
   {
    "duration": 150,
    "start_time": "2021-08-09T15:36:24.418Z"
   },
   {
    "duration": 151,
    "start_time": "2021-08-09T15:40:01.352Z"
   },
   {
    "duration": 128,
    "start_time": "2021-08-09T15:41:42.503Z"
   },
   {
    "duration": 95,
    "start_time": "2021-08-09T15:41:47.391Z"
   },
   {
    "duration": 112,
    "start_time": "2021-08-09T15:41:50.565Z"
   },
   {
    "duration": 113,
    "start_time": "2021-08-09T15:42:15.895Z"
   },
   {
    "duration": 347,
    "start_time": "2021-08-09T15:42:19.518Z"
   },
   {
    "duration": 50,
    "start_time": "2021-08-09T15:42:27.189Z"
   },
   {
    "duration": 60,
    "start_time": "2021-08-09T15:42:29.264Z"
   },
   {
    "duration": 235,
    "start_time": "2021-08-09T15:42:52.782Z"
   },
   {
    "duration": 53,
    "start_time": "2021-08-09T15:43:14.095Z"
   },
   {
    "duration": 59,
    "start_time": "2021-08-09T15:43:16.590Z"
   },
   {
    "duration": 53,
    "start_time": "2021-08-09T15:43:28.324Z"
   },
   {
    "duration": 59,
    "start_time": "2021-08-09T15:43:30.213Z"
   },
   {
    "duration": 50,
    "start_time": "2021-08-09T15:43:33.061Z"
   },
   {
    "duration": 57,
    "start_time": "2021-08-09T15:43:35.005Z"
   },
   {
    "duration": 79,
    "start_time": "2021-08-09T15:44:00.960Z"
   },
   {
    "duration": 82,
    "start_time": "2021-08-09T15:44:50.045Z"
   },
   {
    "duration": 509,
    "start_time": "2021-08-09T15:46:21.669Z"
   },
   {
    "duration": 417,
    "start_time": "2021-08-09T15:46:28.014Z"
   },
   {
    "duration": 413,
    "start_time": "2021-08-09T15:47:46.733Z"
   },
   {
    "duration": 126,
    "start_time": "2021-08-09T15:48:14.989Z"
   },
   {
    "duration": 112,
    "start_time": "2021-08-09T15:48:32.961Z"
   },
   {
    "duration": 11,
    "start_time": "2021-08-09T15:50:10.593Z"
   },
   {
    "duration": 11,
    "start_time": "2021-08-09T15:50:16.337Z"
   },
   {
    "duration": 53,
    "start_time": "2021-08-09T15:50:25.313Z"
   },
   {
    "duration": 12,
    "start_time": "2021-08-09T15:50:26.825Z"
   },
   {
    "duration": 66,
    "start_time": "2021-08-09T15:50:48.868Z"
   },
   {
    "duration": 15,
    "start_time": "2021-08-09T15:50:54.674Z"
   },
   {
    "duration": 53,
    "start_time": "2021-08-09T15:51:42.920Z"
   },
   {
    "duration": 54,
    "start_time": "2021-08-09T15:51:46.087Z"
   },
   {
    "duration": 19,
    "start_time": "2021-08-09T15:51:48.728Z"
   },
   {
    "duration": 67,
    "start_time": "2021-08-09T15:53:40.335Z"
   },
   {
    "duration": 71,
    "start_time": "2021-08-09T15:56:33.909Z"
   },
   {
    "duration": 119,
    "start_time": "2021-08-09T15:58:43.339Z"
   },
   {
    "duration": 89,
    "start_time": "2021-08-09T16:03:16.728Z"
   },
   {
    "duration": 120,
    "start_time": "2021-08-09T16:07:23.550Z"
   },
   {
    "duration": 21,
    "start_time": "2021-08-09T16:07:33.271Z"
   },
   {
    "duration": 313,
    "start_time": "2021-08-09T16:10:27.302Z"
   },
   {
    "duration": 116,
    "start_time": "2021-08-09T16:10:40.462Z"
   },
   {
    "duration": 72,
    "start_time": "2021-08-09T16:12:40.261Z"
   },
   {
    "duration": 62,
    "start_time": "2021-08-09T16:12:46.780Z"
   },
   {
    "duration": 72,
    "start_time": "2021-08-09T16:13:00.270Z"
   },
   {
    "duration": 12,
    "start_time": "2021-08-09T16:16:13.659Z"
   },
   {
    "duration": 18,
    "start_time": "2021-08-09T16:16:18.185Z"
   },
   {
    "duration": 166,
    "start_time": "2021-08-09T16:17:17.887Z"
   },
   {
    "duration": 563,
    "start_time": "2021-08-09T16:17:39.986Z"
   },
   {
    "duration": 75,
    "start_time": "2021-08-09T16:19:49.680Z"
   },
   {
    "duration": 33,
    "start_time": "2021-08-09T16:19:57.287Z"
   },
   {
    "duration": 82,
    "start_time": "2021-08-09T16:20:24.751Z"
   },
   {
    "duration": 120,
    "start_time": "2021-08-09T16:23:57.165Z"
   },
   {
    "duration": 117,
    "start_time": "2021-08-09T16:26:29.700Z"
   },
   {
    "duration": 111,
    "start_time": "2021-08-09T16:26:38.442Z"
   },
   {
    "duration": 8878,
    "start_time": "2021-08-09T16:28:32.130Z"
   },
   {
    "duration": 101,
    "start_time": "2021-08-09T16:45:41.698Z"
   },
   {
    "duration": 21,
    "start_time": "2021-08-09T16:45:42.640Z"
   },
   {
    "duration": 22,
    "start_time": "2021-08-09T16:45:46.009Z"
   },
   {
    "duration": 7,
    "start_time": "2021-08-09T16:45:53.624Z"
   },
   {
    "duration": 14,
    "start_time": "2021-08-09T16:45:56.944Z"
   },
   {
    "duration": 100,
    "start_time": "2021-08-09T16:46:08.545Z"
   },
   {
    "duration": 18,
    "start_time": "2021-08-09T16:46:13.488Z"
   },
   {
    "duration": 21,
    "start_time": "2021-08-09T16:46:18.578Z"
   },
   {
    "duration": 373,
    "start_time": "2021-08-09T16:52:12.477Z"
   },
   {
    "duration": 123,
    "start_time": "2021-08-09T16:55:13.082Z"
   },
   {
    "duration": 97,
    "start_time": "2021-08-09T17:00:52.423Z"
   },
   {
    "duration": 16,
    "start_time": "2021-08-09T17:01:06.640Z"
   },
   {
    "duration": 88,
    "start_time": "2021-08-09T17:01:10.198Z"
   },
   {
    "duration": 18,
    "start_time": "2021-08-09T17:01:34.303Z"
   },
   {
    "duration": 91,
    "start_time": "2021-08-09T17:01:49.358Z"
   },
   {
    "duration": 3,
    "start_time": "2021-08-09T17:06:05.948Z"
   },
   {
    "duration": 96,
    "start_time": "2021-08-09T17:06:15.789Z"
   },
   {
    "duration": 30,
    "start_time": "2021-08-09T17:06:17.548Z"
   },
   {
    "duration": 22,
    "start_time": "2021-08-09T17:06:20.149Z"
   },
   {
    "duration": 99,
    "start_time": "2021-08-09T17:17:22.869Z"
   },
   {
    "duration": 124,
    "start_time": "2021-08-09T17:20:51.035Z"
   },
   {
    "duration": 122,
    "start_time": "2021-08-09T17:21:00.836Z"
   },
   {
    "duration": 5,
    "start_time": "2021-08-09T17:21:10.251Z"
   },
   {
    "duration": 12067,
    "start_time": "2021-08-09T17:21:14.299Z"
   },
   {
    "duration": -1002,
    "start_time": "2021-08-09T17:21:27.370Z"
   },
   {
    "duration": 5,
    "start_time": "2021-08-09T17:23:01.363Z"
   },
   {
    "duration": 11149,
    "start_time": "2021-08-09T17:23:05.589Z"
   },
   {
    "duration": 9118,
    "start_time": "2021-08-09T17:24:57.667Z"
   },
   {
    "duration": 8,
    "start_time": "2021-08-09T17:25:16.122Z"
   },
   {
    "duration": 1067,
    "start_time": "2021-08-09T17:25:16.321Z"
   },
   {
    "duration": 183,
    "start_time": "2021-08-09T17:25:17.391Z"
   },
   {
    "duration": 78,
    "start_time": "2021-08-09T17:25:17.616Z"
   },
   {
    "duration": 43,
    "start_time": "2021-08-09T17:25:17.697Z"
   },
   {
    "duration": 40,
    "start_time": "2021-08-09T17:25:17.743Z"
   },
   {
    "duration": 82,
    "start_time": "2021-08-09T17:25:17.786Z"
   },
   {
    "duration": 19,
    "start_time": "2021-08-09T17:25:17.871Z"
   },
   {
    "duration": 25,
    "start_time": "2021-08-09T17:25:17.893Z"
   },
   {
    "duration": 197,
    "start_time": "2021-08-09T17:25:17.920Z"
   },
   {
    "duration": 8,
    "start_time": "2021-08-09T17:25:28.592Z"
   },
   {
    "duration": 1053,
    "start_time": "2021-08-09T17:25:28.761Z"
   },
   {
    "duration": 173,
    "start_time": "2021-08-09T17:25:29.817Z"
   },
   {
    "duration": 77,
    "start_time": "2021-08-09T17:25:29.994Z"
   },
   {
    "duration": 43,
    "start_time": "2021-08-09T17:25:30.074Z"
   },
   {
    "duration": 54,
    "start_time": "2021-08-09T17:25:30.119Z"
   },
   {
    "duration": 67,
    "start_time": "2021-08-09T17:25:30.175Z"
   },
   {
    "duration": 18,
    "start_time": "2021-08-09T17:25:32.797Z"
   },
   {
    "duration": 22,
    "start_time": "2021-08-09T17:25:33.592Z"
   },
   {
    "duration": 3,
    "start_time": "2021-08-09T17:25:34.697Z"
   },
   {
    "duration": 27,
    "start_time": "2021-08-09T17:25:36.072Z"
   },
   {
    "duration": 3,
    "start_time": "2021-08-09T17:25:38.231Z"
   },
   {
    "duration": 4,
    "start_time": "2021-08-09T17:25:39.103Z"
   },
   {
    "duration": 906,
    "start_time": "2021-08-09T17:25:40.317Z"
   },
   {
    "duration": 5,
    "start_time": "2021-08-09T17:26:01.007Z"
   },
   {
    "duration": 629,
    "start_time": "2021-08-09T17:26:03.418Z"
   },
   {
    "duration": 4,
    "start_time": "2021-08-09T17:28:10.439Z"
   },
   {
    "duration": 690,
    "start_time": "2021-08-09T17:28:13.055Z"
   },
   {
    "duration": 5,
    "start_time": "2021-08-09T17:28:47.535Z"
   },
   {
    "duration": 896,
    "start_time": "2021-08-09T17:28:49.587Z"
   },
   {
    "duration": 6,
    "start_time": "2021-08-09T17:29:19.054Z"
   },
   {
    "duration": 62530,
    "start_time": "2021-08-09T17:29:21.023Z"
   },
   {
    "duration": 103,
    "start_time": "2021-08-09T17:30:32.317Z"
   },
   {
    "duration": 95,
    "start_time": "2021-08-09T17:30:34.069Z"
   },
   {
    "duration": 5,
    "start_time": "2021-08-09T17:30:48.805Z"
   },
   {
    "duration": 81574,
    "start_time": "2021-08-09T17:30:54.006Z"
   },
   {
    "duration": 172,
    "start_time": "2021-08-09T17:34:31.715Z"
   },
   {
    "duration": 129,
    "start_time": "2021-08-09T17:35:34.580Z"
   },
   {
    "duration": 154,
    "start_time": "2021-08-09T17:35:37.530Z"
   },
   {
    "duration": 66,
    "start_time": "2021-08-09T17:39:16.921Z"
   },
   {
    "duration": 463,
    "start_time": "2021-08-09T18:01:04.062Z"
   },
   {
    "duration": 41,
    "start_time": "2021-08-09T18:01:22.061Z"
   },
   {
    "duration": 41,
    "start_time": "2021-08-09T18:01:43.979Z"
   },
   {
    "duration": 12,
    "start_time": "2021-08-09T18:01:49.563Z"
   },
   {
    "duration": 1069,
    "start_time": "2021-08-09T18:01:49.771Z"
   },
   {
    "duration": 159,
    "start_time": "2021-08-09T18:01:50.843Z"
   },
   {
    "duration": 66,
    "start_time": "2021-08-09T18:01:51.005Z"
   },
   {
    "duration": 40,
    "start_time": "2021-08-09T18:01:51.073Z"
   },
   {
    "duration": 47,
    "start_time": "2021-08-09T18:01:51.115Z"
   },
   {
    "duration": 64,
    "start_time": "2021-08-09T18:01:51.164Z"
   },
   {
    "duration": 34,
    "start_time": "2021-08-09T18:01:51.230Z"
   },
   {
    "duration": 27,
    "start_time": "2021-08-09T18:01:51.267Z"
   },
   {
    "duration": 164,
    "start_time": "2021-08-09T18:01:51.297Z"
   },
   {
    "duration": 3,
    "start_time": "2021-08-09T18:01:51.463Z"
   },
   {
    "duration": 61,
    "start_time": "2021-08-09T18:01:51.469Z"
   },
   {
    "duration": 5,
    "start_time": "2021-08-09T18:01:52.259Z"
   },
   {
    "duration": 43,
    "start_time": "2021-08-09T18:02:01.922Z"
   },
   {
    "duration": 352,
    "start_time": "2021-08-09T18:02:18.283Z"
   },
   {
    "duration": 28,
    "start_time": "2021-08-09T18:02:21.084Z"
   },
   {
    "duration": 13,
    "start_time": "2021-08-09T18:03:18.265Z"
   },
   {
    "duration": 114,
    "start_time": "2021-08-09T18:03:30.755Z"
   },
   {
    "duration": 110,
    "start_time": "2021-08-09T18:03:34.164Z"
   },
   {
    "duration": 125,
    "start_time": "2021-08-09T18:04:17.204Z"
   },
   {
    "duration": 120,
    "start_time": "2021-08-09T18:04:22.153Z"
   },
   {
    "duration": 126,
    "start_time": "2021-08-09T18:05:56.913Z"
   },
   {
    "duration": 113,
    "start_time": "2021-08-09T18:06:02.450Z"
   },
   {
    "duration": 116,
    "start_time": "2021-08-09T18:06:07.872Z"
   },
   {
    "duration": 113,
    "start_time": "2021-08-09T18:09:36.253Z"
   },
   {
    "duration": 113,
    "start_time": "2021-08-09T18:09:39.823Z"
   },
   {
    "duration": 116,
    "start_time": "2021-08-09T18:09:50.448Z"
   },
   {
    "duration": 124,
    "start_time": "2021-08-09T18:10:17.591Z"
   },
   {
    "duration": 231,
    "start_time": "2021-08-09T18:10:20.670Z"
   },
   {
    "duration": 26,
    "start_time": "2021-08-09T18:11:08.294Z"
   },
   {
    "duration": 25,
    "start_time": "2021-08-09T18:11:10.933Z"
   },
   {
    "duration": 79,
    "start_time": "2021-08-09T18:11:21.152Z"
   },
   {
    "duration": 76,
    "start_time": "2021-08-09T18:11:31.423Z"
   },
   {
    "duration": 60,
    "start_time": "2021-08-09T18:12:00.298Z"
   },
   {
    "duration": 70,
    "start_time": "2021-08-09T18:12:29.588Z"
   },
   {
    "duration": 27,
    "start_time": "2021-08-09T18:12:40.613Z"
   },
   {
    "duration": 76,
    "start_time": "2021-08-09T18:14:08.725Z"
   },
   {
    "duration": 126,
    "start_time": "2021-08-09T18:14:40.541Z"
   },
   {
    "duration": 58,
    "start_time": "2021-08-09T18:14:43.036Z"
   },
   {
    "duration": 57,
    "start_time": "2021-08-09T18:15:33.258Z"
   },
   {
    "duration": 60,
    "start_time": "2021-08-09T18:15:50.105Z"
   },
   {
    "duration": 9,
    "start_time": "2021-08-09T18:15:57.817Z"
   },
   {
    "duration": 1026,
    "start_time": "2021-08-09T18:15:57.969Z"
   },
   {
    "duration": 159,
    "start_time": "2021-08-09T18:15:58.997Z"
   },
   {
    "duration": 55,
    "start_time": "2021-08-09T18:15:59.159Z"
   },
   {
    "duration": 59,
    "start_time": "2021-08-09T18:15:59.217Z"
   },
   {
    "duration": 34,
    "start_time": "2021-08-09T18:15:59.278Z"
   },
   {
    "duration": 90,
    "start_time": "2021-08-09T18:15:59.315Z"
   },
   {
    "duration": 17,
    "start_time": "2021-08-09T18:15:59.408Z"
   },
   {
    "duration": 37,
    "start_time": "2021-08-09T18:15:59.428Z"
   },
   {
    "duration": 27,
    "start_time": "2021-08-09T18:15:59.468Z"
   },
   {
    "duration": 27,
    "start_time": "2021-08-09T18:15:59.498Z"
   },
   {
    "duration": 28,
    "start_time": "2021-08-09T18:15:59.786Z"
   },
   {
    "duration": 61,
    "start_time": "2021-08-09T18:16:04.522Z"
   },
   {
    "duration": 43,
    "start_time": "2021-08-09T18:16:46.619Z"
   },
   {
    "duration": 37,
    "start_time": "2021-08-09T18:16:57.698Z"
   },
   {
    "duration": 75,
    "start_time": "2021-08-09T18:17:43.073Z"
   },
   {
    "duration": 133,
    "start_time": "2021-08-09T18:18:03.946Z"
   },
   {
    "duration": 114,
    "start_time": "2021-08-09T18:18:13.032Z"
   },
   {
    "duration": 128,
    "start_time": "2021-08-09T18:18:29.891Z"
   },
   {
    "duration": 116,
    "start_time": "2021-08-09T18:18:31.829Z"
   },
   {
    "duration": 110,
    "start_time": "2021-08-09T18:18:36.433Z"
   },
   {
    "duration": 1108,
    "start_time": "2021-08-09T21:14:02.112Z"
   },
   {
    "duration": 157,
    "start_time": "2021-08-09T21:14:04.057Z"
   },
   {
    "duration": 150,
    "start_time": "2021-08-09T21:15:22.350Z"
   },
   {
    "duration": 698,
    "start_time": "2021-08-09T21:27:58.360Z"
   },
   {
    "duration": 22,
    "start_time": "2021-08-09T21:28:00.734Z"
   },
   {
    "duration": 53,
    "start_time": "2021-08-09T21:29:44.555Z"
   },
   {
    "duration": 37,
    "start_time": "2021-08-09T21:29:47.725Z"
   },
   {
    "duration": 230,
    "start_time": "2021-08-09T21:30:00.860Z"
   },
   {
    "duration": 355,
    "start_time": "2021-08-09T21:30:10.430Z"
   },
   {
    "duration": 173,
    "start_time": "2021-08-09T21:30:34.598Z"
   },
   {
    "duration": 23,
    "start_time": "2021-08-09T21:30:38.509Z"
   },
   {
    "duration": 368,
    "start_time": "2021-08-09T21:30:46.920Z"
   },
   {
    "duration": 3,
    "start_time": "2021-08-09T21:32:00.550Z"
   },
   {
    "duration": 8688,
    "start_time": "2021-08-09T21:32:33.668Z"
   },
   {
    "duration": -1120,
    "start_time": "2021-08-09T21:32:43.478Z"
   },
   {
    "duration": -1127,
    "start_time": "2021-08-09T21:32:43.487Z"
   },
   {
    "duration": 5017,
    "start_time": "2021-08-09T21:33:02.618Z"
   },
   {
    "duration": 201,
    "start_time": "2021-08-09T21:34:10.090Z"
   },
   {
    "duration": 101,
    "start_time": "2021-08-09T21:34:27.114Z"
   },
   {
    "duration": 41,
    "start_time": "2021-08-09T21:34:30.905Z"
   },
   {
    "duration": 348,
    "start_time": "2021-08-09T21:37:25.568Z"
   },
   {
    "duration": 8631,
    "start_time": "2021-08-09T21:37:29.104Z"
   },
   {
    "duration": 85,
    "start_time": "2021-08-09T21:37:43.018Z"
   },
   {
    "duration": 24,
    "start_time": "2021-08-09T21:39:36.825Z"
   },
   {
    "duration": 24,
    "start_time": "2021-08-09T21:39:53.920Z"
   },
   {
    "duration": 75,
    "start_time": "2021-08-09T21:40:05.918Z"
   },
   {
    "duration": 21,
    "start_time": "2021-08-09T21:40:09.655Z"
   },
   {
    "duration": 135,
    "start_time": "2021-08-09T21:40:38.102Z"
   },
   {
    "duration": 171,
    "start_time": "2021-08-09T21:40:49.536Z"
   },
   {
    "duration": 98,
    "start_time": "2021-08-09T21:40:57.864Z"
   },
   {
    "duration": 23,
    "start_time": "2021-08-09T21:41:02.495Z"
   },
   {
    "duration": 326,
    "start_time": "2021-08-09T21:41:24.200Z"
   },
   {
    "duration": 94,
    "start_time": "2021-08-09T21:41:49.100Z"
   },
   {
    "duration": 59,
    "start_time": "2021-08-09T21:41:51.512Z"
   },
   {
    "duration": 193,
    "start_time": "2021-08-09T21:42:13.787Z"
   },
   {
    "duration": 28,
    "start_time": "2021-08-09T21:42:19.222Z"
   },
   {
    "duration": 62,
    "start_time": "2021-08-09T21:42:22.805Z"
   },
   {
    "duration": 31,
    "start_time": "2021-08-09T21:42:24.709Z"
   },
   {
    "duration": 518,
    "start_time": "2021-08-09T21:43:14.829Z"
   },
   {
    "duration": 354,
    "start_time": "2021-08-09T21:43:24.628Z"
   },
   {
    "duration": 115,
    "start_time": "2021-08-09T21:43:38.549Z"
   },
   {
    "duration": 168,
    "start_time": "2021-08-09T21:43:49.124Z"
   },
   {
    "duration": 87,
    "start_time": "2021-08-09T21:43:55.130Z"
   },
   {
    "duration": 30,
    "start_time": "2021-08-09T21:43:57.516Z"
   },
   {
    "duration": 73,
    "start_time": "2021-08-09T21:54:19.015Z"
   },
   {
    "duration": 22,
    "start_time": "2021-08-09T21:54:21.405Z"
   },
   {
    "duration": 124,
    "start_time": "2021-08-09T21:54:52.239Z"
   },
   {
    "duration": 32,
    "start_time": "2021-08-09T21:55:13.862Z"
   },
   {
    "duration": 45,
    "start_time": "2021-08-09T21:55:16.310Z"
   },
   {
    "duration": 227,
    "start_time": "2021-08-09T21:55:26.052Z"
   },
   {
    "duration": 130,
    "start_time": "2021-08-09T21:55:34.389Z"
   },
   {
    "duration": 28,
    "start_time": "2021-08-09T21:55:37.483Z"
   },
   {
    "duration": 29,
    "start_time": "2021-08-09T21:55:39.332Z"
   },
   {
    "duration": 124,
    "start_time": "2021-08-09T21:55:50.420Z"
   },
   {
    "duration": 23,
    "start_time": "2021-08-09T21:55:52.548Z"
   },
   {
    "duration": 131,
    "start_time": "2021-08-09T21:55:56.788Z"
   },
   {
    "duration": 26,
    "start_time": "2021-08-09T21:56:01.962Z"
   },
   {
    "duration": 32,
    "start_time": "2021-08-09T21:56:03.916Z"
   },
   {
    "duration": 23,
    "start_time": "2021-08-09T21:56:13.020Z"
   },
   {
    "duration": 32,
    "start_time": "2021-08-09T21:56:14.972Z"
   },
   {
    "duration": 232,
    "start_time": "2021-08-09T21:56:25.324Z"
   },
   {
    "duration": 167,
    "start_time": "2021-08-09T21:56:36.325Z"
   },
   {
    "duration": 143,
    "start_time": "2021-08-09T21:56:43.059Z"
   },
   {
    "duration": 23,
    "start_time": "2021-08-09T21:56:51.804Z"
   },
   {
    "duration": 144,
    "start_time": "2021-08-09T21:57:07.213Z"
   },
   {
    "duration": 28,
    "start_time": "2021-08-09T21:57:13.474Z"
   },
   {
    "duration": 30,
    "start_time": "2021-08-09T21:57:15.900Z"
   },
   {
    "duration": 33,
    "start_time": "2021-08-09T21:57:36.429Z"
   },
   {
    "duration": 47,
    "start_time": "2021-08-09T22:02:10.905Z"
   },
   {
    "duration": 34,
    "start_time": "2021-08-09T22:02:14.822Z"
   },
   {
    "duration": 45,
    "start_time": "2021-08-09T22:02:27.561Z"
   },
   {
    "duration": 7,
    "start_time": "2021-08-09T22:02:29.955Z"
   },
   {
    "duration": 7,
    "start_time": "2021-08-09T22:02:41.951Z"
   },
   {
    "duration": 8,
    "start_time": "2021-08-09T22:02:54.033Z"
   },
   {
    "duration": 1022,
    "start_time": "2021-08-09T22:02:54.463Z"
   },
   {
    "duration": 267,
    "start_time": "2021-08-09T22:02:55.488Z"
   },
   {
    "duration": 166,
    "start_time": "2021-08-09T22:02:55.760Z"
   },
   {
    "duration": 61,
    "start_time": "2021-08-09T22:02:55.929Z"
   },
   {
    "duration": 35,
    "start_time": "2021-08-09T22:02:55.992Z"
   },
   {
    "duration": 47,
    "start_time": "2021-08-09T22:02:56.030Z"
   },
   {
    "duration": 146,
    "start_time": "2021-08-09T22:02:56.080Z"
   },
   {
    "duration": 7,
    "start_time": "2021-08-09T22:03:04.191Z"
   },
   {
    "duration": 28,
    "start_time": "2021-08-09T22:03:04.201Z"
   },
   {
    "duration": 124,
    "start_time": "2021-08-09T22:03:04.561Z"
   },
   {
    "duration": 46,
    "start_time": "2021-08-09T22:03:05.409Z"
   },
   {
    "duration": 31,
    "start_time": "2021-08-09T22:03:06.360Z"
   },
   {
    "duration": 31,
    "start_time": "2021-08-09T22:03:11.475Z"
   },
   {
    "duration": 49,
    "start_time": "2021-08-09T22:03:24.503Z"
   },
   {
    "duration": 32,
    "start_time": "2021-08-09T22:03:26.905Z"
   },
   {
    "duration": 61,
    "start_time": "2021-08-09T22:04:44.824Z"
   },
   {
    "duration": 51,
    "start_time": "2021-08-09T22:04:47.402Z"
   },
   {
    "duration": 143,
    "start_time": "2021-08-09T22:05:22.480Z"
   },
   {
    "duration": 56,
    "start_time": "2021-08-09T22:05:36.598Z"
   },
   {
    "duration": 109,
    "start_time": "2021-08-09T22:05:50.886Z"
   },
   {
    "duration": 146,
    "start_time": "2021-08-09T22:05:59.900Z"
   },
   {
    "duration": 31,
    "start_time": "2021-08-09T22:06:06.157Z"
   },
   {
    "duration": 18,
    "start_time": "2021-08-09T22:06:34.466Z"
   },
   {
    "duration": 109,
    "start_time": "2021-08-09T22:06:41.471Z"
   },
   {
    "duration": 402,
    "start_time": "2021-08-09T22:07:01.789Z"
   },
   {
    "duration": 161,
    "start_time": "2021-08-09T22:07:25.733Z"
   },
   {
    "duration": 161,
    "start_time": "2021-08-09T22:07:32.303Z"
   },
   {
    "duration": 48,
    "start_time": "2021-08-09T22:07:35.465Z"
   },
   {
    "duration": 48,
    "start_time": "2021-08-09T22:07:42.702Z"
   },
   {
    "duration": 463,
    "start_time": "2021-08-09T22:07:47.815Z"
   },
   {
    "duration": 37,
    "start_time": "2021-08-09T22:08:15.548Z"
   },
   {
    "duration": 124,
    "start_time": "2021-08-09T22:08:16.100Z"
   },
   {
    "duration": 7,
    "start_time": "2021-08-09T22:08:16.406Z"
   },
   {
    "duration": 22,
    "start_time": "2021-08-09T22:08:16.766Z"
   },
   {
    "duration": 23,
    "start_time": "2021-08-09T22:08:22.535Z"
   },
   {
    "duration": 169,
    "start_time": "2021-08-09T22:08:26.069Z"
   },
   {
    "duration": 48,
    "start_time": "2021-08-09T22:08:35.340Z"
   },
   {
    "duration": 24,
    "start_time": "2021-08-09T22:08:42.768Z"
   },
   {
    "duration": 28,
    "start_time": "2021-08-09T22:08:44.598Z"
   },
   {
    "duration": 467,
    "start_time": "2021-08-09T22:08:45.469Z"
   },
   {
    "duration": 86,
    "start_time": "2021-08-09T22:08:52.779Z"
   },
   {
    "duration": 238,
    "start_time": "2021-08-09T22:08:58.786Z"
   },
   {
    "duration": 31,
    "start_time": "2021-08-09T22:09:02.269Z"
   },
   {
    "duration": 414,
    "start_time": "2021-08-09T22:09:04.189Z"
   },
   {
    "duration": 1418,
    "start_time": "2021-08-09T22:09:29.588Z"
   },
   {
    "duration": 72,
    "start_time": "2021-08-09T22:09:41.885Z"
   },
   {
    "duration": 7,
    "start_time": "2021-08-09T22:09:42.419Z"
   },
   {
    "duration": 20,
    "start_time": "2021-08-09T22:09:42.876Z"
   },
   {
    "duration": 241,
    "start_time": "2021-08-09T22:09:43.556Z"
   },
   {
    "duration": 20,
    "start_time": "2021-08-09T22:09:48.500Z"
   },
   {
    "duration": 244,
    "start_time": "2021-08-09T22:09:52.587Z"
   },
   {
    "duration": 118,
    "start_time": "2021-08-09T22:10:00.983Z"
   },
   {
    "duration": 465,
    "start_time": "2021-08-09T22:10:03.332Z"
   },
   {
    "duration": 132,
    "start_time": "2021-08-09T22:10:08.741Z"
   },
   {
    "duration": 121,
    "start_time": "2021-08-09T22:10:29.303Z"
   },
   {
    "duration": 344,
    "start_time": "2021-08-09T22:10:34.930Z"
   },
   {
    "duration": 22,
    "start_time": "2021-08-09T22:10:37.962Z"
   },
   {
    "duration": 475,
    "start_time": "2021-08-09T22:10:41.900Z"
   },
   {
    "duration": 34,
    "start_time": "2021-08-09T22:10:44.780Z"
   },
   {
    "duration": 32,
    "start_time": "2021-08-09T22:10:47.659Z"
   },
   {
    "duration": 30,
    "start_time": "2021-08-09T22:10:49.476Z"
   },
   {
    "duration": 48,
    "start_time": "2021-08-09T22:11:33.931Z"
   },
   {
    "duration": 34,
    "start_time": "2021-08-09T22:11:35.380Z"
   },
   {
    "duration": 105,
    "start_time": "2021-08-09T22:11:40.403Z"
   },
   {
    "duration": 22,
    "start_time": "2021-08-09T22:11:53.045Z"
   },
   {
    "duration": 54,
    "start_time": "2021-08-09T22:12:01.052Z"
   },
   {
    "duration": 19,
    "start_time": "2021-08-09T22:12:03.402Z"
   },
   {
    "duration": 211,
    "start_time": "2021-08-09T22:12:09.770Z"
   },
   {
    "duration": 48,
    "start_time": "2021-08-09T22:12:13.378Z"
   },
   {
    "duration": 26,
    "start_time": "2021-08-09T22:12:15.531Z"
   },
   {
    "duration": 47,
    "start_time": "2021-08-09T22:12:36.252Z"
   },
   {
    "duration": 23,
    "start_time": "2021-08-09T22:12:37.859Z"
   },
   {
    "duration": 355,
    "start_time": "2021-08-09T22:12:59.322Z"
   },
   {
    "duration": 51,
    "start_time": "2021-08-09T22:13:04.305Z"
   },
   {
    "duration": 336,
    "start_time": "2021-08-09T22:14:26.817Z"
   },
   {
    "duration": 77,
    "start_time": "2021-08-09T22:14:34.712Z"
   },
   {
    "duration": 22,
    "start_time": "2021-08-09T22:14:39.425Z"
   },
   {
    "duration": 77,
    "start_time": "2021-08-09T22:15:12.849Z"
   },
   {
    "duration": 57,
    "start_time": "2021-08-09T22:15:18.865Z"
   },
   {
    "duration": 23,
    "start_time": "2021-08-09T22:15:22.115Z"
   },
   {
    "duration": 76,
    "start_time": "2021-08-09T22:15:41.929Z"
   },
   {
    "duration": 57,
    "start_time": "2021-08-09T22:15:45.576Z"
   },
   {
    "duration": 26,
    "start_time": "2021-08-09T22:15:45.880Z"
   },
   {
    "duration": 23,
    "start_time": "2021-08-09T22:15:46.443Z"
   },
   {
    "duration": 55,
    "start_time": "2021-08-09T22:15:51.951Z"
   },
   {
    "duration": 26,
    "start_time": "2021-08-09T22:15:52.248Z"
   },
   {
    "duration": 24,
    "start_time": "2021-08-09T22:15:52.651Z"
   },
   {
    "duration": 127,
    "start_time": "2021-08-09T22:16:04.912Z"
   },
   {
    "duration": 52,
    "start_time": "2021-08-09T22:16:07.831Z"
   },
   {
    "duration": 8793,
    "start_time": "2021-08-09T22:16:08.169Z"
   },
   {
    "duration": -1174,
    "start_time": "2021-08-09T22:16:18.138Z"
   },
   {
    "duration": 3,
    "start_time": "2021-08-09T22:16:21.530Z"
   },
   {
    "duration": 21,
    "start_time": "2021-08-09T22:16:23.120Z"
   },
   {
    "duration": 118,
    "start_time": "2021-08-09T22:17:15.571Z"
   },
   {
    "duration": 53,
    "start_time": "2021-08-09T22:17:56.855Z"
   },
   {
    "duration": 20,
    "start_time": "2021-08-09T22:17:59.232Z"
   },
   {
    "duration": 70,
    "start_time": "2021-08-09T22:18:03.639Z"
   },
   {
    "duration": 3,
    "start_time": "2021-08-09T22:18:04.863Z"
   },
   {
    "duration": 22,
    "start_time": "2021-08-09T22:18:05.720Z"
   },
   {
    "duration": 54,
    "start_time": "2021-08-09T22:18:36.807Z"
   },
   {
    "duration": 59,
    "start_time": "2021-08-09T22:19:04.206Z"
   },
   {
    "duration": 29,
    "start_time": "2021-08-09T22:19:07.854Z"
   },
   {
    "duration": 58,
    "start_time": "2021-08-09T22:19:15.743Z"
   },
   {
    "duration": 21,
    "start_time": "2021-08-09T22:19:19.055Z"
   },
   {
    "duration": 39,
    "start_time": "2021-08-09T22:19:21.545Z"
   },
   {
    "duration": 21,
    "start_time": "2021-08-09T22:19:31.270Z"
   },
   {
    "duration": 39,
    "start_time": "2021-08-09T22:19:34.910Z"
   },
   {
    "duration": 357,
    "start_time": "2021-08-09T22:19:40.765Z"
   },
   {
    "duration": 83,
    "start_time": "2021-08-09T22:27:29.761Z"
   },
   {
    "duration": 365,
    "start_time": "2021-08-09T22:27:35.873Z"
   },
   {
    "duration": 109,
    "start_time": "2021-08-09T22:27:45.129Z"
   },
   {
    "duration": 109,
    "start_time": "2021-08-09T22:28:08.667Z"
   },
   {
    "duration": 123,
    "start_time": "2021-08-09T22:28:23.841Z"
   },
   {
    "duration": 105,
    "start_time": "2021-08-09T22:29:12.602Z"
   },
   {
    "duration": 134,
    "start_time": "2021-08-09T22:29:16.751Z"
   },
   {
    "duration": 206,
    "start_time": "2021-08-09T22:29:56.465Z"
   },
   {
    "duration": 417,
    "start_time": "2021-08-09T22:30:04.038Z"
   },
   {
    "duration": 26,
    "start_time": "2021-08-09T22:30:15.231Z"
   },
   {
    "duration": 54,
    "start_time": "2021-08-09T22:30:15.927Z"
   },
   {
    "duration": 7,
    "start_time": "2021-08-09T22:30:16.400Z"
   },
   {
    "duration": 22,
    "start_time": "2021-08-09T22:30:17.329Z"
   },
   {
    "duration": 56,
    "start_time": "2021-08-09T22:30:25.249Z"
   },
   {
    "duration": 47,
    "start_time": "2021-08-09T22:30:31.616Z"
   },
   {
    "duration": 23,
    "start_time": "2021-08-09T22:30:37.328Z"
   },
   {
    "duration": 146,
    "start_time": "2021-08-09T22:30:50.719Z"
   },
   {
    "duration": 106,
    "start_time": "2021-08-09T22:31:04.038Z"
   },
   {
    "duration": 6,
    "start_time": "2021-08-09T22:31:04.155Z"
   },
   {
    "duration": 23,
    "start_time": "2021-08-09T22:31:04.164Z"
   },
   {
    "duration": 366,
    "start_time": "2021-08-09T22:31:09.647Z"
   },
   {
    "duration": 89,
    "start_time": "2021-08-09T22:32:20.487Z"
   },
   {
    "duration": 125,
    "start_time": "2021-08-09T22:32:25.039Z"
   },
   {
    "duration": 185,
    "start_time": "2021-08-09T22:32:57.120Z"
   },
   {
    "duration": 66,
    "start_time": "2021-08-09T22:33:09.823Z"
   },
   {
    "duration": 24,
    "start_time": "2021-08-09T22:33:20.257Z"
   },
   {
    "duration": 495,
    "start_time": "2021-08-09T22:33:50.047Z"
   },
   {
    "duration": 412,
    "start_time": "2021-08-09T22:34:04.592Z"
   },
   {
    "duration": 180,
    "start_time": "2021-08-09T22:35:14.870Z"
   },
   {
    "duration": 514,
    "start_time": "2021-08-09T22:35:19.893Z"
   },
   {
    "duration": -1173,
    "start_time": "2021-08-09T22:36:37.479Z"
   },
   {
    "duration": 374,
    "start_time": "2021-08-09T22:37:04.931Z"
   },
   {
    "duration": 30,
    "start_time": "2021-08-09T22:37:11.052Z"
   },
   {
    "duration": 138,
    "start_time": "2021-08-09T22:37:14.421Z"
   },
   {
    "duration": 433,
    "start_time": "2021-08-09T22:37:19.532Z"
   },
   {
    "duration": 152,
    "start_time": "2021-08-09T22:37:54.853Z"
   },
   {
    "duration": 144,
    "start_time": "2021-08-09T22:38:24.435Z"
   },
   {
    "duration": 536,
    "start_time": "2021-08-09T22:38:33.091Z"
   },
   {
    "duration": 35,
    "start_time": "2021-08-09T22:39:00.917Z"
   },
   {
    "duration": 273,
    "start_time": "2021-08-09T22:39:09.987Z"
   },
   {
    "duration": 225,
    "start_time": "2021-08-09T22:39:12.477Z"
   },
   {
    "duration": 7,
    "start_time": "2021-08-09T22:39:20.602Z"
   },
   {
    "duration": 28,
    "start_time": "2021-08-09T22:39:20.891Z"
   },
   {
    "duration": 31,
    "start_time": "2021-08-09T22:40:13.051Z"
   },
   {
    "duration": 106,
    "start_time": "2021-08-09T22:40:22.145Z"
   },
   {
    "duration": 71,
    "start_time": "2021-08-09T22:40:30.530Z"
   },
   {
    "duration": 32,
    "start_time": "2021-08-09T22:40:35.085Z"
   },
   {
    "duration": 20,
    "start_time": "2021-08-09T22:40:42.306Z"
   },
   {
    "duration": 140,
    "start_time": "2021-08-09T22:40:45.276Z"
   },
   {
    "duration": 7,
    "start_time": "2021-08-09T22:51:03.676Z"
   },
   {
    "duration": 18,
    "start_time": "2021-08-09T22:51:06.988Z"
   },
   {
    "duration": 9,
    "start_time": "2021-08-09T23:40:33.523Z"
   },
   {
    "duration": 1001,
    "start_time": "2021-08-09T23:40:34.397Z"
   },
   {
    "duration": 169,
    "start_time": "2021-08-09T23:40:35.401Z"
   },
   {
    "duration": 149,
    "start_time": "2021-08-09T23:40:35.671Z"
   },
   {
    "duration": 55,
    "start_time": "2021-08-09T23:40:39.069Z"
   },
   {
    "duration": 69,
    "start_time": "2021-08-09T23:41:26.597Z"
   },
   {
    "duration": 68,
    "start_time": "2021-08-09T23:42:24.306Z"
   },
   {
    "duration": 418,
    "start_time": "2021-08-09T23:47:42.089Z"
   },
   {
    "duration": 1007,
    "start_time": "2021-08-09T23:48:02.850Z"
   },
   {
    "duration": 159,
    "start_time": "2021-08-09T23:48:03.859Z"
   },
   {
    "duration": 147,
    "start_time": "2021-08-09T23:48:06.341Z"
   },
   {
    "duration": 109,
    "start_time": "2021-08-09T23:48:09.335Z"
   },
   {
    "duration": 656,
    "start_time": "2021-08-09T23:48:12.058Z"
   },
   {
    "duration": 597,
    "start_time": "2021-08-09T23:49:13.105Z"
   },
   {
    "duration": 59,
    "start_time": "2021-08-09T23:50:54.056Z"
   },
   {
    "duration": 583,
    "start_time": "2021-08-09T23:51:48.785Z"
   },
   {
    "duration": -1240,
    "start_time": "2021-08-09T23:51:50.612Z"
   },
   {
    "duration": 339,
    "start_time": "2021-08-09T23:53:10.864Z"
   },
   {
    "duration": 374,
    "start_time": "2021-08-09T23:53:19.210Z"
   },
   {
    "duration": 962,
    "start_time": "2021-08-09T23:53:23.985Z"
   },
   {
    "duration": 161,
    "start_time": "2021-08-09T23:53:24.950Z"
   },
   {
    "duration": 165,
    "start_time": "2021-08-09T23:53:25.113Z"
   },
   {
    "duration": 108,
    "start_time": "2021-08-09T23:53:25.498Z"
   },
   {
    "duration": 603,
    "start_time": "2021-08-09T23:53:29.961Z"
   },
   {
    "duration": 52,
    "start_time": "2021-08-09T23:53:34.954Z"
   },
   {
    "duration": 34,
    "start_time": "2021-08-09T23:53:36.994Z"
   },
   {
    "duration": 28,
    "start_time": "2021-08-09T23:53:38.760Z"
   },
   {
    "duration": 868,
    "start_time": "2021-08-09T23:54:58.969Z"
   },
   {
    "duration": 381,
    "start_time": "2021-08-09T23:55:18.987Z"
   },
   {
    "duration": 399,
    "start_time": "2021-08-09T23:55:24.649Z"
   },
   {
    "duration": 395,
    "start_time": "2021-08-09T23:56:00.113Z"
   },
   {
    "duration": 903,
    "start_time": "2021-08-09T23:56:01.969Z"
   },
   {
    "duration": 463,
    "start_time": "2021-08-09T23:56:19.313Z"
   },
   {
    "duration": 164,
    "start_time": "2021-08-09T23:57:10.297Z"
   },
   {
    "duration": 163,
    "start_time": "2021-08-09T23:57:58.346Z"
   },
   {
    "duration": 171,
    "start_time": "2021-08-09T23:58:07.058Z"
   },
   {
    "duration": 221,
    "start_time": "2021-08-09T23:59:33.698Z"
   },
   {
    "duration": 159,
    "start_time": "2021-08-10T00:00:27.457Z"
   },
   {
    "duration": 163,
    "start_time": "2021-08-10T00:01:07.943Z"
   },
   {
    "duration": 163,
    "start_time": "2021-08-10T00:01:39.751Z"
   },
   {
    "duration": 162,
    "start_time": "2021-08-10T00:01:44.238Z"
   },
   {
    "duration": 293,
    "start_time": "2021-08-10T00:01:48.587Z"
   },
   {
    "duration": 158,
    "start_time": "2021-08-10T00:03:53.669Z"
   },
   {
    "duration": 814,
    "start_time": "2021-08-10T00:05:14.004Z"
   },
   {
    "duration": 976,
    "start_time": "2021-08-10T00:05:31.203Z"
   },
   {
    "duration": 903,
    "start_time": "2021-08-10T00:05:38.210Z"
   },
   {
    "duration": 778,
    "start_time": "2021-08-10T00:06:21.707Z"
   },
   {
    "duration": 435,
    "start_time": "2021-08-10T00:06:44.931Z"
   },
   {
    "duration": 417,
    "start_time": "2021-08-10T00:06:52.279Z"
   },
   {
    "duration": 706,
    "start_time": "2021-08-10T00:07:05.865Z"
   },
   {
    "duration": 432,
    "start_time": "2021-08-10T00:07:37.098Z"
   },
   {
    "duration": 587,
    "start_time": "2021-08-10T00:08:00.587Z"
   },
   {
    "duration": 9218,
    "start_time": "2021-08-10T00:09:32.688Z"
   },
   {
    "duration": 10084,
    "start_time": "2021-08-10T00:10:25.241Z"
   },
   {
    "duration": 935,
    "start_time": "2021-08-10T00:10:42.266Z"
   },
   {
    "duration": 712,
    "start_time": "2021-08-10T00:10:46.776Z"
   },
   {
    "duration": 39333,
    "start_time": "2021-08-10T00:14:28.952Z"
   },
   {
    "duration": 136,
    "start_time": "2021-08-10T00:16:09.701Z"
   },
   {
    "duration": 121,
    "start_time": "2021-08-10T00:16:11.975Z"
   },
   {
    "duration": 28,
    "start_time": "2021-08-10T00:16:14.572Z"
   },
   {
    "duration": 545,
    "start_time": "2021-08-10T00:16:39.470Z"
   },
   {
    "duration": 397,
    "start_time": "2021-08-10T00:16:44.772Z"
   },
   {
    "duration": 173,
    "start_time": "2021-08-10T00:18:35.818Z"
   },
   {
    "duration": 74,
    "start_time": "2021-08-10T00:18:51.052Z"
   },
   {
    "duration": 75,
    "start_time": "2021-08-10T00:21:48.627Z"
   },
   {
    "duration": 75,
    "start_time": "2021-08-10T00:21:56.800Z"
   },
   {
    "duration": 149,
    "start_time": "2021-08-10T00:22:49.480Z"
   },
   {
    "duration": 70,
    "start_time": "2021-08-10T00:23:05.457Z"
   },
   {
    "duration": 17,
    "start_time": "2021-08-10T00:26:19.343Z"
   },
   {
    "duration": 68,
    "start_time": "2021-08-10T00:26:27.511Z"
   },
   {
    "duration": 29,
    "start_time": "2021-08-10T00:26:50.582Z"
   },
   {
    "duration": 109,
    "start_time": "2021-08-10T00:29:11.382Z"
   },
   {
    "duration": 108,
    "start_time": "2021-08-10T00:29:37.285Z"
   },
   {
    "duration": 106,
    "start_time": "2021-08-10T00:30:55.285Z"
   },
   {
    "duration": 102,
    "start_time": "2021-08-10T00:31:06.959Z"
   },
   {
    "duration": 105,
    "start_time": "2021-08-10T00:31:26.437Z"
   },
   {
    "duration": 102,
    "start_time": "2021-08-10T00:31:38.763Z"
   },
   {
    "duration": 104,
    "start_time": "2021-08-10T00:31:43.998Z"
   },
   {
    "duration": 50,
    "start_time": "2021-08-10T00:33:14.924Z"
   },
   {
    "duration": 46,
    "start_time": "2021-08-10T00:33:18.714Z"
   },
   {
    "duration": 100,
    "start_time": "2021-08-10T00:33:33.338Z"
   },
   {
    "duration": 110,
    "start_time": "2021-08-10T00:33:36.882Z"
   },
   {
    "duration": 107,
    "start_time": "2021-08-10T00:35:31.859Z"
   },
   {
    "duration": -1201,
    "start_time": "2021-08-10T00:35:53.560Z"
   },
   {
    "duration": 33,
    "start_time": "2021-08-10T00:35:59.240Z"
   },
   {
    "duration": 208,
    "start_time": "2021-08-10T00:36:24.371Z"
   },
   {
    "duration": 29,
    "start_time": "2021-08-10T00:36:30.032Z"
   },
   {
    "duration": 72,
    "start_time": "2021-08-10T00:36:42.168Z"
   },
   {
    "duration": 70,
    "start_time": "2021-08-10T00:36:57.473Z"
   },
   {
    "duration": 100,
    "start_time": "2021-08-10T00:37:38.770Z"
   },
   {
    "duration": 229,
    "start_time": "2021-08-10T00:37:42.680Z"
   },
   {
    "duration": 70,
    "start_time": "2021-08-10T00:37:44.632Z"
   },
   {
    "duration": 29,
    "start_time": "2021-08-10T00:39:11.162Z"
   },
   {
    "duration": 38,
    "start_time": "2021-08-10T00:39:15.671Z"
   },
   {
    "duration": 33,
    "start_time": "2021-08-10T00:40:04.743Z"
   },
   {
    "duration": 32,
    "start_time": "2021-08-10T00:40:06.801Z"
   },
   {
    "duration": 115,
    "start_time": "2021-08-10T00:40:10.310Z"
   },
   {
    "duration": 174,
    "start_time": "2021-08-10T00:40:48.976Z"
   },
   {
    "duration": 176,
    "start_time": "2021-08-10T00:40:51.831Z"
   },
   {
    "duration": 161,
    "start_time": "2021-08-10T00:40:54.168Z"
   },
   {
    "duration": 81,
    "start_time": "2021-08-10T00:41:58.046Z"
   },
   {
    "duration": 1087,
    "start_time": "2021-08-10T00:42:06.101Z"
   },
   {
    "duration": 166,
    "start_time": "2021-08-10T00:42:07.191Z"
   },
   {
    "duration": 159,
    "start_time": "2021-08-10T00:42:07.360Z"
   },
   {
    "duration": 123,
    "start_time": "2021-08-10T00:42:07.522Z"
   },
   {
    "duration": 600,
    "start_time": "2021-08-10T00:42:07.656Z"
   },
   {
    "duration": 63,
    "start_time": "2021-08-10T00:42:08.259Z"
   },
   {
    "duration": 64,
    "start_time": "2021-08-10T00:42:08.325Z"
   },
   {
    "duration": 28,
    "start_time": "2021-08-10T00:42:08.467Z"
   },
   {
    "duration": 796,
    "start_time": "2021-08-10T00:42:08.797Z"
   },
   {
    "duration": 498,
    "start_time": "2021-08-10T00:42:09.596Z"
   },
   {
    "duration": 178,
    "start_time": "2021-08-10T00:42:10.097Z"
   },
   {
    "duration": 434,
    "start_time": "2021-08-10T00:42:10.346Z"
   },
   {
    "duration": 596,
    "start_time": "2021-08-10T00:42:10.908Z"
   },
   {
    "duration": 141,
    "start_time": "2021-08-10T00:42:11.637Z"
   },
   {
    "duration": 40,
    "start_time": "2021-08-10T00:42:12.349Z"
   },
   {
    "duration": 37,
    "start_time": "2021-08-10T00:42:12.789Z"
   },
   {
    "duration": 84,
    "start_time": "2021-08-10T00:42:13.782Z"
   },
   {
    "duration": 147,
    "start_time": "2021-08-10T00:42:14.524Z"
   },
   {
    "duration": 18,
    "start_time": "2021-08-10T00:42:15.084Z"
   },
   {
    "duration": 123,
    "start_time": "2021-08-10T00:42:15.653Z"
   },
   {
    "duration": 74,
    "start_time": "2021-08-10T00:42:19.926Z"
   },
   {
    "duration": 120,
    "start_time": "2021-08-10T00:42:23.231Z"
   },
   {
    "duration": 247,
    "start_time": "2021-08-10T00:42:26.525Z"
   },
   {
    "duration": 73,
    "start_time": "2021-08-10T00:42:28.477Z"
   },
   {
    "duration": 12,
    "start_time": "2021-08-10T00:46:16.066Z"
   },
   {
    "duration": 121,
    "start_time": "2021-08-10T00:46:45.235Z"
   },
   {
    "duration": 108,
    "start_time": "2021-08-10T00:47:13.421Z"
   },
   {
    "duration": 123,
    "start_time": "2021-08-10T00:49:45.154Z"
   },
   {
    "duration": 127,
    "start_time": "2021-08-10T00:51:48.583Z"
   },
   {
    "duration": 29,
    "start_time": "2021-08-10T00:51:55.959Z"
   },
   {
    "duration": 169,
    "start_time": "2021-08-10T00:51:59.510Z"
   },
   {
    "duration": 167,
    "start_time": "2021-08-10T02:07:41.485Z"
   },
   {
    "duration": 22,
    "start_time": "2021-08-10T02:09:45.364Z"
   },
   {
    "duration": 144,
    "start_time": "2021-08-10T02:22:48.495Z"
   },
   {
    "duration": 138,
    "start_time": "2021-08-10T02:23:07.024Z"
   },
   {
    "duration": 129,
    "start_time": "2021-08-10T02:23:10.006Z"
   },
   {
    "duration": 165,
    "start_time": "2021-08-10T02:23:16.423Z"
   },
   {
    "duration": 28,
    "start_time": "2021-08-10T02:23:18.062Z"
   },
   {
    "duration": 121,
    "start_time": "2021-08-10T02:23:18.991Z"
   },
   {
    "duration": 165,
    "start_time": "2021-08-10T02:23:28.414Z"
   },
   {
    "duration": 26,
    "start_time": "2021-08-10T02:23:37.742Z"
   },
   {
    "duration": 375,
    "start_time": "2021-08-10T02:24:46.565Z"
   },
   {
    "duration": 469,
    "start_time": "2021-08-10T02:25:03.981Z"
   },
   {
    "duration": 23,
    "start_time": "2021-08-10T02:25:17.029Z"
   },
   {
    "duration": 100448,
    "start_time": "2021-08-10T02:25:20.559Z"
   },
   {
    "duration": 1047,
    "start_time": "2021-08-10T02:27:01.010Z"
   },
   {
    "duration": 107,
    "start_time": "2021-08-10T02:27:09.479Z"
   },
   {
    "duration": 33,
    "start_time": "2021-08-10T02:27:15.911Z"
   },
   {
    "duration": 115,
    "start_time": "2021-08-10T02:27:16.328Z"
   },
   {
    "duration": 165,
    "start_time": "2021-08-10T02:27:17.591Z"
   },
   {
    "duration": 10,
    "start_time": "2021-08-10T02:27:20.051Z"
   },
   {
    "duration": 222030,
    "start_time": "2021-08-10T02:27:20.565Z"
   },
   {
    "duration": -1235,
    "start_time": "2021-08-10T02:31:03.957Z"
   },
   {
    "duration": 443,
    "start_time": "2021-08-10T02:33:02.105Z"
   },
   {
    "duration": 636170,
    "start_time": "2021-08-10T02:37:44.486Z"
   },
   {
    "duration": -1265,
    "start_time": "2021-08-10T02:48:22.562Z"
   },
   {
    "duration": -1268,
    "start_time": "2021-08-10T02:48:22.566Z"
   },
   {
    "duration": -1268,
    "start_time": "2021-08-10T02:48:22.568Z"
   },
   {
    "duration": -1269,
    "start_time": "2021-08-10T02:48:22.572Z"
   },
   {
    "duration": -1270,
    "start_time": "2021-08-10T02:48:22.575Z"
   },
   {
    "duration": -1272,
    "start_time": "2021-08-10T02:48:22.578Z"
   },
   {
    "duration": 9,
    "start_time": "2021-08-10T02:48:27.711Z"
   },
   {
    "duration": 32,
    "start_time": "2021-08-10T02:48:29.761Z"
   },
   {
    "duration": 706,
    "start_time": "2021-08-10T02:48:35.711Z"
   },
   {
    "duration": 762,
    "start_time": "2021-08-10T02:48:38.961Z"
   },
   {
    "duration": 561,
    "start_time": "2021-08-10T02:48:43.630Z"
   },
   {
    "duration": 520,
    "start_time": "2021-08-10T02:49:08.837Z"
   },
   {
    "duration": 515,
    "start_time": "2021-08-10T02:49:37.385Z"
   },
   {
    "duration": 539,
    "start_time": "2021-08-10T02:50:09.510Z"
   },
   {
    "duration": 869,
    "start_time": "2021-08-10T02:50:26.789Z"
   },
   {
    "duration": 358,
    "start_time": "2021-08-10T02:50:35.928Z"
   },
   {
    "duration": 417,
    "start_time": "2021-08-10T02:50:40.383Z"
   },
   {
    "duration": 7,
    "start_time": "2021-08-10T02:51:36.182Z"
   },
   {
    "duration": 451,
    "start_time": "2021-08-10T02:51:46.421Z"
   },
   {
    "duration": 10,
    "start_time": "2021-08-10T02:51:51.702Z"
   },
   {
    "duration": 454,
    "start_time": "2021-08-10T02:51:58.678Z"
   },
   {
    "duration": 11,
    "start_time": "2021-08-10T02:52:09.676Z"
   },
   {
    "duration": 34,
    "start_time": "2021-08-10T02:52:17.813Z"
   },
   {
    "duration": 28,
    "start_time": "2021-08-10T02:52:21.877Z"
   },
   {
    "duration": 34,
    "start_time": "2021-08-10T02:52:27.548Z"
   },
   {
    "duration": 67,
    "start_time": "2021-08-10T02:52:34.916Z"
   },
   {
    "duration": 45,
    "start_time": "2021-08-10T02:52:47.269Z"
   },
   {
    "duration": 31,
    "start_time": "2021-08-10T02:52:56.092Z"
   },
   {
    "duration": 7,
    "start_time": "2021-08-10T02:53:10.173Z"
   },
   {
    "duration": 8,
    "start_time": "2021-08-10T02:53:14.172Z"
   },
   {
    "duration": 10,
    "start_time": "2021-08-10T02:53:18.706Z"
   },
   {
    "duration": 27,
    "start_time": "2021-08-10T02:53:25.699Z"
   },
   {
    "duration": 107,
    "start_time": "2021-08-10T02:53:26.525Z"
   },
   {
    "duration": 157,
    "start_time": "2021-08-10T02:53:28.938Z"
   },
   {
    "duration": 348,
    "start_time": "2021-08-10T02:53:38.773Z"
   },
   {
    "duration": 26,
    "start_time": "2021-08-10T02:53:45.476Z"
   },
   {
    "duration": 115,
    "start_time": "2021-08-10T02:53:46.243Z"
   },
   {
    "duration": 159,
    "start_time": "2021-08-10T02:53:47.572Z"
   },
   {
    "duration": 12,
    "start_time": "2021-08-10T02:53:52.667Z"
   },
   {
    "duration": 32,
    "start_time": "2021-08-10T02:53:58.577Z"
   },
   {
    "duration": 1024,
    "start_time": "2021-08-10T02:54:01.533Z"
   },
   {
    "duration": 43,
    "start_time": "2021-08-10T02:54:15.612Z"
   },
   {
    "duration": 522,
    "start_time": "2021-08-10T02:54:29.572Z"
   },
   {
    "duration": 203,
    "start_time": "2021-08-10T02:54:37.964Z"
   },
   {
    "duration": 7632,
    "start_time": "2021-08-10T02:55:01.677Z"
   },
   {
    "duration": 74898,
    "start_time": "2021-08-10T02:55:29.765Z"
   },
   {
    "duration": 2027,
    "start_time": "2021-08-10T02:58:53.234Z"
   },
   {
    "duration": 27,
    "start_time": "2021-08-10T02:59:20.577Z"
   },
   {
    "duration": 108,
    "start_time": "2021-08-10T02:59:21.375Z"
   },
   {
    "duration": 157,
    "start_time": "2021-08-10T02:59:23.568Z"
   },
   {
    "duration": 12,
    "start_time": "2021-08-10T02:59:27.326Z"
   },
   {
    "duration": 305258,
    "start_time": "2021-08-10T02:59:33.250Z"
   },
   {
    "duration": 386,
    "start_time": "2021-08-10T03:04:38.763Z"
   },
   {
    "duration": -1280,
    "start_time": "2021-08-10T03:04:40.431Z"
   },
   {
    "duration": -1281,
    "start_time": "2021-08-10T03:04:40.434Z"
   },
   {
    "duration": -1290,
    "start_time": "2021-08-10T03:04:40.444Z"
   },
   {
    "duration": 32,
    "start_time": "2021-08-10T03:04:44.118Z"
   },
   {
    "duration": 1000,
    "start_time": "2021-08-10T03:04:44.550Z"
   },
   {
    "duration": 243,
    "start_time": "2021-08-10T03:04:51.462Z"
   },
   {
    "duration": 40575,
    "start_time": "2021-08-10T03:05:01.734Z"
   },
   {
    "duration": 112,
    "start_time": "2021-08-10T03:05:45.182Z"
   },
   {
    "duration": 151651,
    "start_time": "2021-08-10T03:05:51.965Z"
   },
   {
    "duration": 1552,
    "start_time": "2021-08-10T03:08:38.323Z"
   },
   {
    "duration": 1067,
    "start_time": "2021-08-10T03:08:39.878Z"
   },
   {
    "duration": 166,
    "start_time": "2021-08-10T03:08:40.951Z"
   },
   {
    "duration": 156,
    "start_time": "2021-08-10T03:08:41.120Z"
   },
   {
    "duration": 135,
    "start_time": "2021-08-10T03:08:41.278Z"
   },
   {
    "duration": 614,
    "start_time": "2021-08-10T03:08:41.415Z"
   },
   {
    "duration": 69,
    "start_time": "2021-08-10T03:08:42.033Z"
   },
   {
    "duration": 51,
    "start_time": "2021-08-10T03:08:42.105Z"
   },
   {
    "duration": 28,
    "start_time": "2021-08-10T03:08:42.158Z"
   },
   {
    "duration": 785,
    "start_time": "2021-08-10T03:08:42.188Z"
   },
   {
    "duration": 486,
    "start_time": "2021-08-10T03:08:42.975Z"
   },
   {
    "duration": 171,
    "start_time": "2021-08-10T03:08:43.463Z"
   },
   {
    "duration": 498,
    "start_time": "2021-08-10T03:08:43.636Z"
   },
   {
    "duration": 22,
    "start_time": "2021-08-10T03:08:44.137Z"
   },
   {
    "duration": 608,
    "start_time": "2021-08-10T03:08:44.162Z"
   },
   {
    "duration": 149,
    "start_time": "2021-08-10T03:08:44.772Z"
   },
   {
    "duration": 37,
    "start_time": "2021-08-10T03:08:44.924Z"
   },
   {
    "duration": 38,
    "start_time": "2021-08-10T03:08:44.964Z"
   },
   {
    "duration": 114,
    "start_time": "2021-08-10T03:08:45.004Z"
   },
   {
    "duration": 161,
    "start_time": "2021-08-10T03:08:45.120Z"
   },
   {
    "duration": 17,
    "start_time": "2021-08-10T03:08:45.284Z"
   },
   {
    "duration": 124,
    "start_time": "2021-08-10T03:08:45.306Z"
   },
   {
    "duration": 261,
    "start_time": "2021-08-10T03:08:45.433Z"
   },
   {
    "duration": 80,
    "start_time": "2021-08-10T03:08:45.697Z"
   },
   {
    "duration": 143,
    "start_time": "2021-08-10T03:08:45.780Z"
   },
   {
    "duration": 39,
    "start_time": "2021-08-10T03:08:45.926Z"
   },
   {
    "duration": 124,
    "start_time": "2021-08-10T03:08:45.968Z"
   },
   {
    "duration": 202,
    "start_time": "2021-08-10T03:08:46.095Z"
   },
   {
    "duration": 13,
    "start_time": "2021-08-10T03:08:46.300Z"
   },
   {
    "duration": 673352,
    "start_time": "2021-08-10T03:08:46.315Z"
   },
   {
    "duration": 345,
    "start_time": "2021-08-10T03:19:59.669Z"
   },
   {
    "duration": -1269,
    "start_time": "2021-08-10T03:20:01.286Z"
   },
   {
    "duration": -1273,
    "start_time": "2021-08-10T03:20:01.292Z"
   },
   {
    "duration": -1281,
    "start_time": "2021-08-10T03:20:01.303Z"
   },
   {
    "duration": -1284,
    "start_time": "2021-08-10T03:20:01.308Z"
   },
   {
    "duration": -1285,
    "start_time": "2021-08-10T03:20:01.312Z"
   },
   {
    "duration": -1289,
    "start_time": "2021-08-10T03:20:01.318Z"
   },
   {
    "duration": 164,
    "start_time": "2021-08-10T03:20:05.352Z"
   },
   {
    "duration": 135,
    "start_time": "2021-08-10T03:20:19.341Z"
   },
   {
    "duration": 288,
    "start_time": "2021-08-10T03:20:28.620Z"
   },
   {
    "duration": 356,
    "start_time": "2021-08-10T03:20:47.187Z"
   },
   {
    "duration": 273,
    "start_time": "2021-08-10T03:20:49.515Z"
   },
   {
    "duration": 227380,
    "start_time": "2021-08-10T03:21:44.444Z"
   },
   {
    "duration": 18658,
    "start_time": "2021-08-10T03:27:33.400Z"
   },
   {
    "duration": 718,
    "start_time": "2021-08-10T03:27:52.061Z"
   },
   {
    "duration": 33676,
    "start_time": "2021-08-10T03:28:12.460Z"
   },
   {
    "duration": 713,
    "start_time": "2021-08-10T03:29:12.846Z"
   },
   {
    "duration": 46223,
    "start_time": "2021-08-10T03:29:33.798Z"
   },
   {
    "duration": 690,
    "start_time": "2021-08-10T03:30:26.389Z"
   },
   {
    "duration": 73478,
    "start_time": "2021-08-10T03:31:01.429Z"
   },
   {
    "duration": 785,
    "start_time": "2021-08-10T03:32:25.689Z"
   },
   {
    "duration": 281803,
    "start_time": "2021-08-10T03:33:30.083Z"
   },
   {
    "duration": 754,
    "start_time": "2021-08-10T03:38:18.720Z"
   },
   {
    "duration": 24215,
    "start_time": "2021-08-10T03:39:12.079Z"
   },
   {
    "duration": 692,
    "start_time": "2021-08-10T03:41:12.389Z"
   },
   {
    "duration": 17771,
    "start_time": "2021-08-10T03:41:31.494Z"
   },
   {
    "duration": 766,
    "start_time": "2021-08-10T03:41:54.310Z"
   },
   {
    "duration": 10353,
    "start_time": "2021-08-10T03:42:02.646Z"
   },
   {
    "duration": 756,
    "start_time": "2021-08-10T03:42:20.719Z"
   },
   {
    "duration": 25459,
    "start_time": "2021-08-10T03:42:39.192Z"
   },
   {
    "duration": 712,
    "start_time": "2021-08-10T03:43:07.469Z"
   },
   {
    "duration": 39164,
    "start_time": "2021-08-10T03:43:27.382Z"
   },
   {
    "duration": 754,
    "start_time": "2021-08-10T03:44:14.828Z"
   },
   {
    "duration": 32,
    "start_time": "2021-08-10T03:44:29.628Z"
   },
   {
    "duration": 1027,
    "start_time": "2021-08-10T03:44:31.036Z"
   },
   {
    "duration": 11651,
    "start_time": "2021-08-10T03:44:35.915Z"
   },
   {
    "duration": 18414,
    "start_time": "2021-08-10T03:45:18.102Z"
   },
   {
    "duration": 7908,
    "start_time": "2021-08-10T03:45:44.309Z"
   },
   {
    "duration": 31640,
    "start_time": "2021-08-10T03:45:54.989Z"
   },
   {
    "duration": 13093,
    "start_time": "2021-08-10T03:46:34.564Z"
   },
   {
    "duration": 10843,
    "start_time": "2021-08-10T03:47:33.219Z"
   },
   {
    "duration": 7341,
    "start_time": "2021-08-10T03:47:52.155Z"
   },
   {
    "duration": 342,
    "start_time": "2021-08-10T03:48:09.418Z"
   },
   {
    "duration": 1804,
    "start_time": "2021-08-10T03:48:18.665Z"
   },
   {
    "duration": 9877,
    "start_time": "2021-08-10T03:48:45.188Z"
   },
   {
    "duration": 1109,
    "start_time": "2021-08-10T03:49:06.767Z"
   },
   {
    "duration": 16949,
    "start_time": "2021-08-10T03:49:47.418Z"
   },
   {
    "duration": 1214,
    "start_time": "2021-08-10T03:50:21.457Z"
   },
   {
    "duration": 16577,
    "start_time": "2021-08-10T03:50:51.885Z"
   },
   {
    "duration": 1312,
    "start_time": "2021-08-10T03:51:14.145Z"
   },
   {
    "duration": 9554,
    "start_time": "2021-08-10T03:51:58.703Z"
   },
   {
    "duration": 9796,
    "start_time": "2021-08-10T03:52:14.865Z"
   },
   {
    "duration": 1300,
    "start_time": "2021-08-10T03:52:24.665Z"
   },
   {
    "duration": 14228,
    "start_time": "2021-08-10T03:53:08.329Z"
   },
   {
    "duration": 4302,
    "start_time": "2021-08-10T03:53:58.455Z"
   },
   {
    "duration": 3062,
    "start_time": "2021-08-10T03:54:36.815Z"
   },
   {
    "duration": 6462,
    "start_time": "2021-08-10T03:54:45.101Z"
   },
   {
    "duration": 3130,
    "start_time": "2021-08-10T03:55:00.726Z"
   },
   {
    "duration": 7230,
    "start_time": "2021-08-10T03:55:23.951Z"
   },
   {
    "duration": 341,
    "start_time": "2021-08-10T03:55:31.184Z"
   },
   {
    "duration": 26,
    "start_time": "2021-08-10T03:55:38.478Z"
   },
   {
    "duration": 105,
    "start_time": "2021-08-10T03:55:38.966Z"
   },
   {
    "duration": 165,
    "start_time": "2021-08-10T03:55:39.438Z"
   },
   {
    "duration": 11,
    "start_time": "2021-08-10T03:55:43.764Z"
   },
   {
    "duration": 169761,
    "start_time": "2021-08-10T03:55:44.406Z"
   },
   {
    "duration": 3477,
    "start_time": "2021-08-10T03:58:47.212Z"
   },
   {
    "duration": 374994,
    "start_time": "2021-08-10T04:00:09.818Z"
   },
   {
    "duration": 206972,
    "start_time": "2021-08-10T04:06:33.764Z"
   },
   {
    "duration": 4115,
    "start_time": "2021-08-10T04:10:33.565Z"
   },
   {
    "duration": 9684,
    "start_time": "2021-08-10T04:10:51.334Z"
   },
   {
    "duration": 16682,
    "start_time": "2021-08-10T04:11:05.221Z"
   },
   {
    "duration": 22775,
    "start_time": "2021-08-10T04:11:27.101Z"
   },
   {
    "duration": 45201,
    "start_time": "2021-08-10T04:12:20.717Z"
   },
   {
    "duration": 1355,
    "start_time": "2021-08-10T04:13:25.203Z"
   },
   {
    "duration": 54446,
    "start_time": "2021-08-10T04:13:31.980Z"
   },
   {
    "duration": 1548,
    "start_time": "2021-08-10T04:14:35.232Z"
   },
   {
    "duration": 105335,
    "start_time": "2021-08-10T04:14:45.090Z"
   },
   {
    "duration": 2474,
    "start_time": "2021-08-10T04:16:55.600Z"
   },
   {
    "duration": 259217,
    "start_time": "2021-08-10T04:17:21.698Z"
   },
   {
    "duration": 2980,
    "start_time": "2021-08-10T04:22:43.785Z"
   },
   {
    "duration": 243916,
    "start_time": "2021-08-10T04:23:27.390Z"
   },
   {
    "duration": 88252,
    "start_time": "2021-08-10T04:27:36.276Z"
   },
   {
    "duration": 2744,
    "start_time": "2021-08-10T04:29:37.034Z"
   },
   {
    "duration": 128,
    "start_time": "2021-08-10T04:30:22.184Z"
   },
   {
    "duration": 173,
    "start_time": "2021-08-10T04:30:24.968Z"
   },
   {
    "duration": 27,
    "start_time": "2021-08-10T04:30:26.986Z"
   },
   {
    "duration": 239,
    "start_time": "2021-08-10T04:30:27.905Z"
   },
   {
    "duration": 44853,
    "start_time": "2021-08-10T04:30:36.376Z"
   },
   {
    "duration": 63680,
    "start_time": "2021-08-10T04:31:22.960Z"
   },
   {
    "duration": 39919,
    "start_time": "2021-08-10T04:32:29.129Z"
   },
   {
    "duration": 53623,
    "start_time": "2021-08-10T04:33:11.668Z"
   },
   {
    "duration": 201,
    "start_time": "2021-08-10T04:34:09.798Z"
   },
   {
    "duration": 121790,
    "start_time": "2021-08-10T04:34:28.647Z"
   },
   {
    "duration": 180,
    "start_time": "2021-08-10T04:36:35.383Z"
   },
   {
    "duration": 828,
    "start_time": "2021-08-10T04:36:51.454Z"
   },
   {
    "duration": 212,
    "start_time": "2021-08-10T04:36:52.285Z"
   },
   {
    "duration": 112,
    "start_time": "2021-08-10T04:36:53.735Z"
   },
   {
    "duration": 145112,
    "start_time": "2021-08-10T04:37:04.357Z"
   },
   {
    "duration": 409,
    "start_time": "2021-08-10T04:39:44.453Z"
   },
   {
    "duration": 13578,
    "start_time": "2021-08-10T04:40:06.795Z"
   },
   {
    "duration": 2113,
    "start_time": "2021-08-10T04:40:20.376Z"
   },
   {
    "duration": 7423,
    "start_time": "2021-08-10T04:40:22.493Z"
   },
   {
    "duration": 452,
    "start_time": "2021-08-10T04:41:03.919Z"
   },
   {
    "duration": 78,
    "start_time": "2021-08-10T04:42:08.090Z"
   },
   {
    "duration": 474,
    "start_time": "2021-08-10T04:42:26.987Z"
   },
   {
    "duration": 7535,
    "start_time": "2021-08-10T04:42:33.898Z"
   },
   {
    "duration": 8447,
    "start_time": "2021-08-10T04:43:01.290Z"
   },
   {
    "duration": 116,
    "start_time": "2021-08-10T04:44:46.425Z"
   },
   {
    "duration": 167,
    "start_time": "2021-08-10T04:44:50.297Z"
   },
   {
    "duration": 5,
    "start_time": "2021-08-10T04:46:54.416Z"
   },
   {
    "duration": 165,
    "start_time": "2021-08-10T04:48:04.438Z"
   },
   {
    "duration": 9,
    "start_time": "2021-08-10T04:48:15.734Z"
   },
   {
    "duration": 387,
    "start_time": "2021-08-10T04:48:40.150Z"
   },
   {
    "duration": 818,
    "start_time": "2021-08-10T04:48:44.878Z"
   },
   {
    "duration": 200,
    "start_time": "2021-08-10T04:48:45.748Z"
   },
   {
    "duration": 284,
    "start_time": "2021-08-10T04:48:50.783Z"
   },
   {
    "duration": 246,
    "start_time": "2021-08-10T04:49:19.421Z"
   },
   {
    "duration": 9,
    "start_time": "2021-08-10T04:49:22.453Z"
   },
   {
    "duration": 5,
    "start_time": "2021-08-10T04:49:48.245Z"
   },
   {
    "duration": 242,
    "start_time": "2021-08-10T04:50:28.226Z"
   },
   {
    "duration": 313,
    "start_time": "2021-08-10T04:50:42.357Z"
   },
   {
    "duration": 14,
    "start_time": "2021-08-10T04:51:28.069Z"
   },
   {
    "duration": 16,
    "start_time": "2021-08-10T04:51:33.610Z"
   },
   {
    "duration": 12,
    "start_time": "2021-08-10T04:51:43.244Z"
   },
   {
    "duration": 11,
    "start_time": "2021-08-10T04:51:51.268Z"
   },
   {
    "duration": 4,
    "start_time": "2021-08-10T04:52:02.012Z"
   },
   {
    "duration": 7308,
    "start_time": "2021-08-10T04:52:18.555Z"
   },
   {
    "duration": -1362,
    "start_time": "2021-08-10T04:52:27.227Z"
   },
   {
    "duration": 7252,
    "start_time": "2021-08-10T04:52:35.758Z"
   },
   {
    "duration": -1345,
    "start_time": "2021-08-10T04:52:44.358Z"
   },
   {
    "duration": 121,
    "start_time": "2021-08-10T04:52:43.170Z"
   },
   {
    "duration": 173,
    "start_time": "2021-08-10T04:52:45.853Z"
   },
   {
    "duration": 4,
    "start_time": "2021-08-10T04:52:50.684Z"
   },
   {
    "duration": 152,
    "start_time": "2021-08-10T04:52:53.139Z"
   },
   {
    "duration": 9,
    "start_time": "2021-08-10T04:53:06.547Z"
   },
   {
    "duration": 182,
    "start_time": "2021-08-10T04:53:19.283Z"
   },
   {
    "duration": 10,
    "start_time": "2021-08-10T04:53:23.268Z"
   },
   {
    "duration": 26,
    "start_time": "2021-08-10T04:53:33.019Z"
   },
   {
    "duration": 124,
    "start_time": "2021-08-10T04:53:33.651Z"
   },
   {
    "duration": 172,
    "start_time": "2021-08-10T04:53:35.477Z"
   },
   {
    "duration": 4,
    "start_time": "2021-08-10T04:53:37.642Z"
   },
   {
    "duration": 32,
    "start_time": "2021-08-10T04:53:40.923Z"
   },
   {
    "duration": 148,
    "start_time": "2021-08-10T04:53:43.130Z"
   },
   {
    "duration": 848,
    "start_time": "2021-08-10T04:53:47.018Z"
   },
   {
    "duration": 220,
    "start_time": "2021-08-10T04:53:47.868Z"
   },
   {
    "duration": 423,
    "start_time": "2021-08-10T04:53:56.644Z"
   },
   {
    "duration": 23,
    "start_time": "2021-08-10T04:54:05.733Z"
   },
   {
    "duration": 93,
    "start_time": "2021-08-10T04:54:08.163Z"
   },
   {
    "duration": 11,
    "start_time": "2021-08-10T04:54:10.563Z"
   },
   {
    "duration": 237,
    "start_time": "2021-08-10T04:58:59.041Z"
   },
   {
    "duration": 8,
    "start_time": "2021-08-10T04:59:44.165Z"
   },
   {
    "duration": 8,
    "start_time": "2021-08-10T04:59:51.690Z"
   },
   {
    "duration": 13356,
    "start_time": "2021-08-10T05:00:05.244Z"
   },
   {
    "duration": 26,
    "start_time": "2021-08-10T05:00:18.602Z"
   },
   {
    "duration": 13,
    "start_time": "2021-08-10T05:00:27.055Z"
   },
   {
    "duration": 425,
    "start_time": "2021-08-10T05:02:31.838Z"
   },
   {
    "duration": 22,
    "start_time": "2021-08-10T05:02:37.653Z"
   },
   {
    "duration": 12,
    "start_time": "2021-08-10T05:02:40.014Z"
   },
   {
    "duration": 5,
    "start_time": "2021-08-10T05:03:36.848Z"
   },
   {
    "duration": 26,
    "start_time": "2021-08-10T05:03:41.493Z"
   },
   {
    "duration": 120,
    "start_time": "2021-08-10T05:03:41.973Z"
   },
   {
    "duration": 170,
    "start_time": "2021-08-10T05:03:42.523Z"
   },
   {
    "duration": 5,
    "start_time": "2021-08-10T05:03:45.318Z"
   },
   {
    "duration": 30,
    "start_time": "2021-08-10T05:03:46.965Z"
   },
   {
    "duration": 168,
    "start_time": "2021-08-10T05:03:49.804Z"
   },
   {
    "duration": 826,
    "start_time": "2021-08-10T05:03:52.300Z"
   },
   {
    "duration": 198,
    "start_time": "2021-08-10T05:03:54.278Z"
   },
   {
    "duration": 13560,
    "start_time": "2021-08-10T05:03:56.525Z"
   },
   {
    "duration": 377,
    "start_time": "2021-08-10T05:04:10.088Z"
   },
   {
    "duration": 390,
    "start_time": "2021-08-10T05:04:13.846Z"
   },
   {
    "duration": 27,
    "start_time": "2021-08-10T05:04:16.902Z"
   },
   {
    "duration": 72,
    "start_time": "2021-08-10T05:04:19.085Z"
   },
   {
    "duration": 10,
    "start_time": "2021-08-10T05:04:20.827Z"
   },
   {
    "duration": 1541,
    "start_time": "2021-08-10T05:04:33.430Z"
   },
   {
    "duration": 1088,
    "start_time": "2021-08-10T05:04:34.974Z"
   },
   {
    "duration": 160,
    "start_time": "2021-08-10T05:04:36.065Z"
   },
   {
    "duration": 158,
    "start_time": "2021-08-10T05:04:36.228Z"
   },
   {
    "duration": 132,
    "start_time": "2021-08-10T05:04:36.389Z"
   },
   {
    "duration": 592,
    "start_time": "2021-08-10T05:04:36.524Z"
   },
   {
    "duration": 69,
    "start_time": "2021-08-10T05:04:37.118Z"
   },
   {
    "duration": 37,
    "start_time": "2021-08-10T05:04:37.190Z"
   },
   {
    "duration": 43,
    "start_time": "2021-08-10T05:04:37.231Z"
   },
   {
    "duration": 783,
    "start_time": "2021-08-10T05:04:37.277Z"
   },
   {
    "duration": 475,
    "start_time": "2021-08-10T05:04:38.062Z"
   },
   {
    "duration": 177,
    "start_time": "2021-08-10T05:04:38.540Z"
   },
   {
    "duration": 493,
    "start_time": "2021-08-10T05:04:38.720Z"
   },
   {
    "duration": 16,
    "start_time": "2021-08-10T05:04:39.217Z"
   },
   {
    "duration": 613,
    "start_time": "2021-08-10T05:04:39.235Z"
   },
   {
    "duration": 154,
    "start_time": "2021-08-10T05:04:39.850Z"
   },
   {
    "duration": 50,
    "start_time": "2021-08-10T05:04:40.006Z"
   },
   {
    "duration": 44,
    "start_time": "2021-08-10T05:04:40.059Z"
   },
   {
    "duration": 111,
    "start_time": "2021-08-10T05:04:40.106Z"
   },
   {
    "duration": 177,
    "start_time": "2021-08-10T05:04:40.220Z"
   },
   {
    "duration": 20,
    "start_time": "2021-08-10T05:04:40.400Z"
   },
   {
    "duration": 136,
    "start_time": "2021-08-10T05:04:40.422Z"
   },
   {
    "duration": 262,
    "start_time": "2021-08-10T05:04:40.561Z"
   },
   {
    "duration": 78,
    "start_time": "2021-08-10T05:04:40.825Z"
   },
   {
    "duration": 142,
    "start_time": "2021-08-10T05:04:40.906Z"
   },
   {
    "duration": 21,
    "start_time": "2021-08-10T05:04:41.055Z"
   },
   {
    "duration": 134,
    "start_time": "2021-08-10T05:04:41.081Z"
   },
   {
    "duration": 192,
    "start_time": "2021-08-10T05:04:41.218Z"
   },
   {
    "duration": 4,
    "start_time": "2021-08-10T05:04:41.413Z"
   },
   {
    "duration": 48,
    "start_time": "2021-08-10T05:04:41.419Z"
   },
   {
    "duration": 120483,
    "start_time": "2021-08-10T05:04:41.469Z"
   },
   {
    "duration": 140,
    "start_time": "2021-08-10T05:06:41.955Z"
   },
   {
    "duration": 885,
    "start_time": "2021-08-10T05:06:42.097Z"
   },
   {
    "duration": 206,
    "start_time": "2021-08-10T05:06:42.985Z"
   },
   {
    "duration": 153267,
    "start_time": "2021-08-10T05:06:43.193Z"
   },
   {
    "duration": 494,
    "start_time": "2021-08-10T05:09:16.462Z"
   },
   {
    "duration": 13447,
    "start_time": "2021-08-10T05:09:16.958Z"
   },
   {
    "duration": 25,
    "start_time": "2021-08-10T05:09:30.407Z"
   },
   {
    "duration": 2056,
    "start_time": "2021-08-10T05:09:30.434Z"
   },
   {
    "duration": 73,
    "start_time": "2021-08-10T05:09:32.493Z"
   },
   {
    "duration": 12,
    "start_time": "2021-08-10T05:09:32.658Z"
   },
   {
    "duration": 26,
    "start_time": "2021-08-10T05:11:07.886Z"
   },
   {
    "duration": 121,
    "start_time": "2021-08-10T05:11:08.391Z"
   },
   {
    "duration": 182,
    "start_time": "2021-08-10T05:11:08.940Z"
   },
   {
    "duration": 4,
    "start_time": "2021-08-10T05:11:09.821Z"
   },
   {
    "duration": 37,
    "start_time": "2021-08-10T05:11:10.876Z"
   },
   {
    "duration": 484571,
    "start_time": "2021-08-10T05:11:11.444Z"
   },
   {
    "duration": 251,
    "start_time": "2021-08-10T05:19:16.018Z"
   },
   {
    "duration": 10,
    "start_time": "2021-08-10T05:20:15.343Z"
   },
   {
    "duration": 830,
    "start_time": "2021-08-10T05:20:50.128Z"
   },
   {
    "duration": 205,
    "start_time": "2021-08-10T05:20:50.961Z"
   },
   {
    "duration": 497,
    "start_time": "2021-08-10T05:20:55.759Z"
   },
   {
    "duration": 24,
    "start_time": "2021-08-10T05:21:04.396Z"
   },
   {
    "duration": 145,
    "start_time": "2021-08-10T05:21:06.911Z"
   },
   {
    "duration": 12,
    "start_time": "2021-08-10T05:21:09.712Z"
   },
   {
    "duration": 4,
    "start_time": "2021-08-10T05:23:40.368Z"
   },
   {
    "duration": 4,
    "start_time": "2021-08-10T05:27:09.978Z"
   },
   {
    "duration": 13508,
    "start_time": "2021-08-10T05:29:15.778Z"
   },
   {
    "duration": 26,
    "start_time": "2021-08-10T05:29:29.289Z"
   },
   {
    "duration": 9,
    "start_time": "2021-08-10T05:29:34.082Z"
   },
   {
    "duration": 455,
    "start_time": "2021-08-10T05:32:07.255Z"
   },
   {
    "duration": 6,
    "start_time": "2021-08-10T05:32:29.890Z"
   },
   {
    "duration": 6,
    "start_time": "2021-08-10T05:32:49.504Z"
   },
   {
    "duration": 20,
    "start_time": "2021-08-10T05:32:52.944Z"
   },
   {
    "duration": 401,
    "start_time": "2021-08-10T05:32:57.161Z"
   },
   {
    "duration": 41,
    "start_time": "2021-08-10T05:35:36.214Z"
   },
   {
    "duration": 468,
    "start_time": "2021-08-10T05:35:38.867Z"
   },
   {
    "duration": 6,
    "start_time": "2021-08-10T05:35:59.478Z"
   },
   {
    "duration": 99,
    "start_time": "2021-08-10T05:36:11.063Z"
   },
   {
    "duration": 9,
    "start_time": "2021-08-10T05:36:13.627Z"
   },
   {
    "duration": 100,
    "start_time": "2021-08-10T05:36:34.359Z"
   },
   {
    "duration": 25,
    "start_time": "2021-08-10T05:37:01.087Z"
   },
   {
    "duration": 10,
    "start_time": "2021-08-10T05:37:04.772Z"
   },
   {
    "duration": 428,
    "start_time": "2021-08-10T05:37:22.846Z"
   },
   {
    "duration": 7540,
    "start_time": "2021-08-10T05:37:44.677Z"
   },
   {
    "duration": 27,
    "start_time": "2021-08-10T05:37:52.296Z"
   },
   {
    "duration": 122,
    "start_time": "2021-08-10T05:37:52.659Z"
   },
   {
    "duration": 185,
    "start_time": "2021-08-10T05:37:53.252Z"
   },
   {
    "duration": 7,
    "start_time": "2021-08-10T05:37:56.164Z"
   },
   {
    "duration": 250,
    "start_time": "2021-08-10T05:37:58.422Z"
   },
   {
    "duration": 267,
    "start_time": "2021-08-10T05:38:04.437Z"
   },
   {
    "duration": 854,
    "start_time": "2021-08-10T05:38:08.668Z"
   },
   {
    "duration": 208,
    "start_time": "2021-08-10T05:38:09.524Z"
   },
   {
    "duration": 424,
    "start_time": "2021-08-10T05:38:11.141Z"
   },
   {
    "duration": 25,
    "start_time": "2021-08-10T05:38:13.420Z"
   },
   {
    "duration": 29,
    "start_time": "2021-08-10T05:38:15.126Z"
   },
   {
    "duration": 11,
    "start_time": "2021-08-10T05:38:17.843Z"
   },
   {
    "duration": 228682,
    "start_time": "2021-08-10T05:48:49.782Z"
   },
   {
    "duration": 702,
    "start_time": "2021-08-10T05:52:38.467Z"
   },
   {
    "duration": 13,
    "start_time": "2021-08-10T05:52:48.692Z"
   },
   {
    "duration": 167447,
    "start_time": "2021-08-10T05:53:40.115Z"
   },
   {
    "duration": 495,
    "start_time": "2021-08-10T05:56:27.565Z"
   },
   {
    "duration": 13,
    "start_time": "2021-08-10T05:56:31.761Z"
   },
   {
    "duration": 1488,
    "start_time": "2021-08-10T05:59:32.185Z"
   },
   {
    "duration": 1081,
    "start_time": "2021-08-10T05:59:33.676Z"
   },
   {
    "duration": 157,
    "start_time": "2021-08-10T05:59:34.760Z"
   },
   {
    "duration": 160,
    "start_time": "2021-08-10T05:59:34.920Z"
   },
   {
    "duration": 135,
    "start_time": "2021-08-10T05:59:35.083Z"
   },
   {
    "duration": 587,
    "start_time": "2021-08-10T05:59:35.221Z"
   },
   {
    "duration": 68,
    "start_time": "2021-08-10T05:59:35.811Z"
   },
   {
    "duration": 37,
    "start_time": "2021-08-10T05:59:35.882Z"
   },
   {
    "duration": 38,
    "start_time": "2021-08-10T05:59:35.923Z"
   },
   {
    "duration": 1092,
    "start_time": "2021-08-10T05:59:35.964Z"
   },
   {
    "duration": 491,
    "start_time": "2021-08-10T05:59:37.058Z"
   },
   {
    "duration": 178,
    "start_time": "2021-08-10T05:59:37.551Z"
   },
   {
    "duration": 492,
    "start_time": "2021-08-10T05:59:37.732Z"
   },
   {
    "duration": 15,
    "start_time": "2021-08-10T05:59:38.226Z"
   },
   {
    "duration": 587,
    "start_time": "2021-08-10T05:59:38.256Z"
   },
   {
    "duration": 149,
    "start_time": "2021-08-10T05:59:38.846Z"
   },
   {
    "duration": 39,
    "start_time": "2021-08-10T05:59:38.998Z"
   },
   {
    "duration": 51,
    "start_time": "2021-08-10T05:59:39.040Z"
   },
   {
    "duration": 102,
    "start_time": "2021-08-10T05:59:39.093Z"
   },
   {
    "duration": 163,
    "start_time": "2021-08-10T05:59:39.198Z"
   },
   {
    "duration": 18,
    "start_time": "2021-08-10T05:59:39.364Z"
   },
   {
    "duration": 123,
    "start_time": "2021-08-10T05:59:39.385Z"
   },
   {
    "duration": 260,
    "start_time": "2021-08-10T05:59:39.511Z"
   },
   {
    "duration": 84,
    "start_time": "2021-08-10T05:59:39.773Z"
   },
   {
    "duration": 141,
    "start_time": "2021-08-10T05:59:39.859Z"
   },
   {
    "duration": 23,
    "start_time": "2021-08-10T05:59:40.003Z"
   },
   {
    "duration": 148,
    "start_time": "2021-08-10T05:59:40.031Z"
   },
   {
    "duration": 194,
    "start_time": "2021-08-10T05:59:40.181Z"
   },
   {
    "duration": 6,
    "start_time": "2021-08-10T05:59:40.378Z"
   },
   {
    "duration": 38,
    "start_time": "2021-08-10T05:59:40.387Z"
   },
   {
    "duration": 455057,
    "start_time": "2021-08-10T05:59:40.427Z"
   },
   {
    "duration": 179,
    "start_time": "2021-08-10T06:07:15.486Z"
   },
   {
    "duration": 943,
    "start_time": "2021-08-10T06:07:15.668Z"
   },
   {
    "duration": 203,
    "start_time": "2021-08-10T06:07:16.613Z"
   },
   {
    "duration": 83542,
    "start_time": "2021-08-10T06:07:16.819Z"
   },
   {
    "duration": 502,
    "start_time": "2021-08-10T06:08:40.364Z"
   },
   {
    "duration": 13788,
    "start_time": "2021-08-10T06:08:40.868Z"
   },
   {
    "duration": 25,
    "start_time": "2021-08-10T06:08:54.658Z"
   },
   {
    "duration": 2117,
    "start_time": "2021-08-10T06:08:54.685Z"
   },
   {
    "duration": 63,
    "start_time": "2021-08-10T06:08:56.805Z"
   },
   {
    "duration": 100,
    "start_time": "2021-08-10T06:08:56.956Z"
   },
   {
    "duration": 117844,
    "start_time": "2021-08-10T06:14:08.224Z"
   },
   {
    "duration": 699,
    "start_time": "2021-08-10T06:16:06.072Z"
   },
   {
    "duration": 13499,
    "start_time": "2021-08-10T06:16:06.774Z"
   },
   {
    "duration": 23,
    "start_time": "2021-08-10T06:16:20.275Z"
   },
   {
    "duration": 2089,
    "start_time": "2021-08-10T06:16:20.302Z"
   },
   {
    "duration": 163,
    "start_time": "2021-08-10T06:16:22.394Z"
   },
   {
    "duration": 12,
    "start_time": "2021-08-10T06:16:22.559Z"
   },
   {
    "duration": 12,
    "start_time": "2021-08-10T06:20:32.843Z"
   },
   {
    "duration": 578,
    "start_time": "2021-08-10T06:33:04.629Z"
   },
   {
    "duration": 323,
    "start_time": "2021-08-10T06:33:28.772Z"
   },
   {
    "duration": 659,
    "start_time": "2021-08-10T06:35:11.409Z"
   },
   {
    "duration": 96,
    "start_time": "2021-08-10T06:35:50.364Z"
   },
   {
    "duration": 12,
    "start_time": "2021-08-10T06:36:16.361Z"
   },
   {
    "duration": 11144,
    "start_time": "2021-08-10T06:37:10.226Z"
   },
   {
    "duration": 13,
    "start_time": "2021-08-10T06:38:58.368Z"
   },
   {
    "duration": 26,
    "start_time": "2021-08-10T06:40:37.560Z"
   },
   {
    "duration": 123,
    "start_time": "2021-08-10T06:40:38.302Z"
   },
   {
    "duration": 170,
    "start_time": "2021-08-10T06:40:39.382Z"
   },
   {
    "duration": 6,
    "start_time": "2021-08-10T06:40:45.750Z"
   },
   {
    "duration": 31,
    "start_time": "2021-08-10T06:40:48.919Z"
   },
   {
    "duration": 39181,
    "start_time": "2021-08-10T06:40:59.726Z"
   },
   {
    "duration": 10,
    "start_time": "2021-08-10T06:43:54.904Z"
   },
   {
    "duration": 1515,
    "start_time": "2021-08-10T06:45:40.208Z"
   },
   {
    "duration": 1081,
    "start_time": "2021-08-10T06:45:41.725Z"
   },
   {
    "duration": 161,
    "start_time": "2021-08-10T06:45:42.809Z"
   },
   {
    "duration": 165,
    "start_time": "2021-08-10T06:45:42.972Z"
   },
   {
    "duration": 139,
    "start_time": "2021-08-10T06:45:43.139Z"
   },
   {
    "duration": 627,
    "start_time": "2021-08-10T06:45:43.281Z"
   },
   {
    "duration": 68,
    "start_time": "2021-08-10T06:45:43.910Z"
   },
   {
    "duration": 36,
    "start_time": "2021-08-10T06:45:43.982Z"
   },
   {
    "duration": 41,
    "start_time": "2021-08-10T06:45:44.021Z"
   },
   {
    "duration": 779,
    "start_time": "2021-08-10T06:45:44.065Z"
   },
   {
    "duration": 479,
    "start_time": "2021-08-10T06:45:44.846Z"
   },
   {
    "duration": 178,
    "start_time": "2021-08-10T06:45:45.328Z"
   },
   {
    "duration": 517,
    "start_time": "2021-08-10T06:45:45.508Z"
   },
   {
    "duration": 32,
    "start_time": "2021-08-10T06:45:46.028Z"
   },
   {
    "duration": 613,
    "start_time": "2021-08-10T06:45:46.063Z"
   },
   {
    "duration": 150,
    "start_time": "2021-08-10T06:45:46.678Z"
   },
   {
    "duration": 43,
    "start_time": "2021-08-10T06:45:46.831Z"
   },
   {
    "duration": 41,
    "start_time": "2021-08-10T06:45:46.877Z"
   },
   {
    "duration": 113,
    "start_time": "2021-08-10T06:45:46.921Z"
   },
   {
    "duration": 173,
    "start_time": "2021-08-10T06:45:47.036Z"
   },
   {
    "duration": 18,
    "start_time": "2021-08-10T06:45:47.212Z"
   },
   {
    "duration": 131,
    "start_time": "2021-08-10T06:45:47.233Z"
   },
   {
    "duration": 254,
    "start_time": "2021-08-10T06:45:47.369Z"
   },
   {
    "duration": 76,
    "start_time": "2021-08-10T06:45:47.626Z"
   },
   {
    "duration": 144,
    "start_time": "2021-08-10T06:45:47.705Z"
   },
   {
    "duration": 22,
    "start_time": "2021-08-10T06:45:47.855Z"
   },
   {
    "duration": 141,
    "start_time": "2021-08-10T06:45:47.879Z"
   },
   {
    "duration": 323,
    "start_time": "2021-08-10T06:45:48.023Z"
   },
   {
    "duration": 6,
    "start_time": "2021-08-10T06:45:48.356Z"
   },
   {
    "duration": 37,
    "start_time": "2021-08-10T06:45:48.364Z"
   },
   {
    "duration": 451098,
    "start_time": "2021-08-10T06:45:48.404Z"
   },
   {
    "duration": 37956,
    "start_time": "2021-08-10T06:53:19.505Z"
   },
   {
    "duration": 835,
    "start_time": "2021-08-10T06:53:57.463Z"
   },
   {
    "duration": 212,
    "start_time": "2021-08-10T06:53:58.301Z"
   },
   {
    "duration": 113045,
    "start_time": "2021-08-10T06:53:58.516Z"
   },
   {
    "duration": 9801,
    "start_time": "2021-08-10T06:55:51.563Z"
   },
   {
    "duration": 14038,
    "start_time": "2021-08-10T06:56:01.366Z"
   },
   {
    "duration": 676,
    "start_time": "2021-08-10T06:56:15.407Z"
   },
   {
    "duration": 2205,
    "start_time": "2021-08-10T06:56:16.086Z"
   },
   {
    "duration": 262,
    "start_time": "2021-08-10T06:56:18.294Z"
   },
   {
    "duration": 19,
    "start_time": "2021-08-10T06:56:18.559Z"
   },
   {
    "duration": 1853,
    "start_time": "2021-08-10T23:21:32.039Z"
   },
   {
    "duration": 1503,
    "start_time": "2021-08-10T23:21:33.894Z"
   },
   {
    "duration": 178,
    "start_time": "2021-08-10T23:21:35.400Z"
   },
   {
    "duration": 181,
    "start_time": "2021-08-10T23:21:35.581Z"
   },
   {
    "duration": 131,
    "start_time": "2021-08-10T23:21:35.765Z"
   },
   {
    "duration": 695,
    "start_time": "2021-08-10T23:21:35.899Z"
   },
   {
    "duration": 64,
    "start_time": "2021-08-10T23:21:36.596Z"
   },
   {
    "duration": 39,
    "start_time": "2021-08-10T23:21:36.667Z"
   },
   {
    "duration": 48,
    "start_time": "2021-08-10T23:21:36.709Z"
   },
   {
    "duration": 845,
    "start_time": "2021-08-10T23:21:36.760Z"
   },
   {
    "duration": 513,
    "start_time": "2021-08-10T23:21:37.608Z"
   },
   {
    "duration": 194,
    "start_time": "2021-08-10T23:21:38.124Z"
   },
   {
    "duration": 554,
    "start_time": "2021-08-10T23:21:38.322Z"
   },
   {
    "duration": 39,
    "start_time": "2021-08-10T23:21:38.884Z"
   },
   {
    "duration": 795,
    "start_time": "2021-08-10T23:21:38.925Z"
   },
   {
    "duration": 160,
    "start_time": "2021-08-10T23:21:39.722Z"
   },
   {
    "duration": 40,
    "start_time": "2021-08-10T23:21:39.884Z"
   },
   {
    "duration": 67,
    "start_time": "2021-08-10T23:21:39.926Z"
   },
   {
    "duration": 110,
    "start_time": "2021-08-10T23:21:39.995Z"
   },
   {
    "duration": 177,
    "start_time": "2021-08-10T23:21:40.108Z"
   },
   {
    "duration": 19,
    "start_time": "2021-08-10T23:21:40.287Z"
   },
   {
    "duration": 142,
    "start_time": "2021-08-10T23:21:40.308Z"
   },
   {
    "duration": 274,
    "start_time": "2021-08-10T23:21:40.458Z"
   },
   {
    "duration": 135,
    "start_time": "2021-08-10T23:21:40.737Z"
   },
   {
    "duration": 157,
    "start_time": "2021-08-10T23:21:40.875Z"
   },
   {
    "duration": 36,
    "start_time": "2021-08-10T23:21:41.034Z"
   },
   {
    "duration": 138,
    "start_time": "2021-08-10T23:21:41.073Z"
   },
   {
    "duration": 214,
    "start_time": "2021-08-10T23:21:41.214Z"
   },
   {
    "duration": 6,
    "start_time": "2021-08-10T23:21:41.431Z"
   },
   {
    "duration": 48,
    "start_time": "2021-08-10T23:21:41.440Z"
   },
   {
    "duration": 482652,
    "start_time": "2021-08-10T23:21:41.490Z"
   },
   {
    "duration": 38059,
    "start_time": "2021-08-10T23:29:44.145Z"
   },
   {
    "duration": 919,
    "start_time": "2021-08-10T23:30:22.207Z"
   },
   {
    "duration": 212,
    "start_time": "2021-08-10T23:30:23.129Z"
   },
   {
    "duration": 1966594,
    "start_time": "2021-08-10T23:30:23.343Z"
   },
   {
    "duration": -558,
    "start_time": "2021-08-11T00:03:10.498Z"
   },
   {
    "duration": -566,
    "start_time": "2021-08-11T00:03:10.509Z"
   },
   {
    "duration": -569,
    "start_time": "2021-08-11T00:03:10.514Z"
   },
   {
    "duration": -579,
    "start_time": "2021-08-11T00:03:10.526Z"
   },
   {
    "duration": -585,
    "start_time": "2021-08-11T00:03:10.534Z"
   },
   {
    "duration": -595,
    "start_time": "2021-08-11T00:03:10.545Z"
   },
   {
    "duration": -602,
    "start_time": "2021-08-11T00:03:10.556Z"
   },
   {
    "duration": 1188424,
    "start_time": "2021-08-11T00:03:14.943Z"
   },
   {
    "duration": -537,
    "start_time": "2021-08-11T00:23:03.911Z"
   },
   {
    "duration": 373,
    "start_time": "2021-08-11T00:23:05.897Z"
   },
   {
    "duration": 7578,
    "start_time": "2021-08-11T00:23:10.788Z"
   },
   {
    "duration": 6,
    "start_time": "2021-08-11T00:23:52.074Z"
   },
   {
    "duration": 7635,
    "start_time": "2021-08-11T00:24:07.891Z"
   },
   {
    "duration": 6747,
    "start_time": "2021-08-11T00:24:23.465Z"
   },
   {
    "duration": 6,
    "start_time": "2021-08-11T00:24:35.146Z"
   },
   {
    "duration": 9,
    "start_time": "2021-08-11T00:24:36.329Z"
   },
   {
    "duration": -498,
    "start_time": "2021-08-11T00:25:02.664Z"
   },
   {
    "duration": -499,
    "start_time": "2021-08-11T00:25:02.667Z"
   },
   {
    "duration": -500,
    "start_time": "2021-08-11T00:25:02.670Z"
   },
   {
    "duration": -500,
    "start_time": "2021-08-11T00:25:02.673Z"
   },
   {
    "duration": -500,
    "start_time": "2021-08-11T00:25:02.675Z"
   },
   {
    "duration": -501,
    "start_time": "2021-08-11T00:25:02.678Z"
   },
   {
    "duration": -503,
    "start_time": "2021-08-11T00:25:02.682Z"
   },
   {
    "duration": 35,
    "start_time": "2021-08-11T00:25:18.218Z"
   },
   {
    "duration": 129,
    "start_time": "2021-08-11T00:25:18.664Z"
   },
   {
    "duration": 190,
    "start_time": "2021-08-11T00:25:19.471Z"
   },
   {
    "duration": 7,
    "start_time": "2021-08-11T00:25:20.313Z"
   },
   {
    "duration": 31,
    "start_time": "2021-08-11T00:25:21.456Z"
   },
   {
    "duration": 138,
    "start_time": "2021-08-11T00:25:22.682Z"
   },
   {
    "duration": 15464,
    "start_time": "2021-08-11T00:25:34.080Z"
   },
   {
    "duration": 4936,
    "start_time": "2021-08-11T00:25:52.832Z"
   },
   {
    "duration": 867,
    "start_time": "2021-08-11T00:26:18.135Z"
   },
   {
    "duration": 208,
    "start_time": "2021-08-11T00:26:19.537Z"
   },
   {
    "duration": 5834,
    "start_time": "2021-08-11T00:26:22.371Z"
   },
   {
    "duration": 43650,
    "start_time": "2021-08-11T00:26:33.695Z"
   },
   {
    "duration": -509,
    "start_time": "2021-08-11T00:27:17.857Z"
   },
   {
    "duration": -511,
    "start_time": "2021-08-11T00:27:17.862Z"
   },
   {
    "duration": 1672,
    "start_time": "2021-08-11T00:27:41.442Z"
   },
   {
    "duration": 1147,
    "start_time": "2021-08-11T00:27:43.117Z"
   },
   {
    "duration": 172,
    "start_time": "2021-08-11T00:27:44.267Z"
   },
   {
    "duration": 173,
    "start_time": "2021-08-11T00:27:44.443Z"
   },
   {
    "duration": 141,
    "start_time": "2021-08-11T00:27:44.620Z"
   },
   {
    "duration": 658,
    "start_time": "2021-08-11T00:27:44.763Z"
   },
   {
    "duration": 71,
    "start_time": "2021-08-11T00:27:45.424Z"
   },
   {
    "duration": 38,
    "start_time": "2021-08-11T00:27:45.500Z"
   },
   {
    "duration": 37,
    "start_time": "2021-08-11T00:27:45.542Z"
   },
   {
    "duration": 862,
    "start_time": "2021-08-11T00:27:45.581Z"
   },
   {
    "duration": 513,
    "start_time": "2021-08-11T00:27:46.445Z"
   },
   {
    "duration": 196,
    "start_time": "2021-08-11T00:27:46.961Z"
   },
   {
    "duration": 550,
    "start_time": "2021-08-11T00:27:47.160Z"
   },
   {
    "duration": 15,
    "start_time": "2021-08-11T00:27:47.712Z"
   },
   {
    "duration": 656,
    "start_time": "2021-08-11T00:27:47.729Z"
   },
   {
    "duration": 165,
    "start_time": "2021-08-11T00:27:48.388Z"
   },
   {
    "duration": 42,
    "start_time": "2021-08-11T00:27:48.555Z"
   },
   {
    "duration": 59,
    "start_time": "2021-08-11T00:27:48.599Z"
   },
   {
    "duration": 111,
    "start_time": "2021-08-11T00:27:48.660Z"
   },
   {
    "duration": 173,
    "start_time": "2021-08-11T00:27:48.773Z"
   },
   {
    "duration": 20,
    "start_time": "2021-08-11T00:27:48.948Z"
   },
   {
    "duration": 198,
    "start_time": "2021-08-11T00:27:48.971Z"
   },
   {
    "duration": 404,
    "start_time": "2021-08-11T00:27:49.172Z"
   },
   {
    "duration": 129,
    "start_time": "2021-08-11T00:27:49.580Z"
   },
   {
    "duration": 231,
    "start_time": "2021-08-11T00:27:49.712Z"
   },
   {
    "duration": 29,
    "start_time": "2021-08-11T00:27:49.955Z"
   },
   {
    "duration": 183,
    "start_time": "2021-08-11T00:27:49.988Z"
   },
   {
    "duration": 331,
    "start_time": "2021-08-11T00:27:50.174Z"
   },
   {
    "duration": 8,
    "start_time": "2021-08-11T00:27:50.508Z"
   },
   {
    "duration": 64,
    "start_time": "2021-08-11T00:27:50.519Z"
   },
   {
    "duration": 457743,
    "start_time": "2021-08-11T00:27:50.586Z"
   },
   {
    "duration": 38346,
    "start_time": "2021-08-11T00:35:28.332Z"
   },
   {
    "duration": 1384,
    "start_time": "2021-08-11T00:36:06.682Z"
   },
   {
    "duration": 340,
    "start_time": "2021-08-11T00:36:08.069Z"
   },
   {
    "duration": 294166,
    "start_time": "2021-08-11T00:36:08.412Z"
   },
   {
    "duration": -514,
    "start_time": "2021-08-11T00:41:03.096Z"
   },
   {
    "duration": -520,
    "start_time": "2021-08-11T00:41:03.104Z"
   },
   {
    "duration": -523,
    "start_time": "2021-08-11T00:41:03.109Z"
   },
   {
    "duration": -524,
    "start_time": "2021-08-11T00:41:03.113Z"
   },
   {
    "duration": -525,
    "start_time": "2021-08-11T00:41:03.116Z"
   },
   {
    "duration": -526,
    "start_time": "2021-08-11T00:41:03.119Z"
   },
   {
    "duration": 9,
    "start_time": "2021-08-11T00:41:07.733Z"
   },
   {
    "duration": 508280,
    "start_time": "2021-08-11T00:41:18.975Z"
   },
   {
    "duration": 56254,
    "start_time": "2021-08-11T00:50:02.565Z"
   },
   {
    "duration": 147326,
    "start_time": "2021-08-11T00:51:00.634Z"
   },
   {
    "duration": 24407,
    "start_time": "2021-08-11T00:53:31.959Z"
   },
   {
    "duration": 14817,
    "start_time": "2021-08-11T00:53:56.369Z"
   },
   {
    "duration": 967,
    "start_time": "2021-08-11T00:54:11.189Z"
   },
   {
    "duration": 2150,
    "start_time": "2021-08-11T00:54:12.158Z"
   },
   {
    "duration": 247,
    "start_time": "2021-08-11T00:54:14.313Z"
   },
   {
    "duration": 95,
    "start_time": "2021-08-11T00:54:14.563Z"
   },
   {
    "duration": 752,
    "start_time": "2021-08-11T00:54:25.070Z"
   },
   {
    "duration": 2093,
    "start_time": "2021-08-11T00:54:27.405Z"
   },
   {
    "duration": 157,
    "start_time": "2021-08-11T00:54:29.501Z"
   },
   {
    "duration": 96,
    "start_time": "2021-08-11T00:54:29.662Z"
   },
   {
    "duration": 304814,
    "start_time": "2021-08-11T00:55:18.139Z"
   },
   {
    "duration": -537,
    "start_time": "2021-08-11T01:00:23.493Z"
   },
   {
    "duration": -540,
    "start_time": "2021-08-11T01:00:23.497Z"
   },
   {
    "duration": -543,
    "start_time": "2021-08-11T01:00:23.501Z"
   },
   {
    "duration": -548,
    "start_time": "2021-08-11T01:00:23.508Z"
   },
   {
    "duration": -551,
    "start_time": "2021-08-11T01:00:23.512Z"
   },
   {
    "duration": -552,
    "start_time": "2021-08-11T01:00:23.515Z"
   },
   {
    "duration": 365,
    "start_time": "2021-08-11T01:00:34.435Z"
   },
   {
    "duration": 369,
    "start_time": "2021-08-11T01:01:47.627Z"
   },
   {
    "duration": 365,
    "start_time": "2021-08-11T01:01:52.890Z"
   },
   {
    "duration": 4,
    "start_time": "2021-08-11T01:01:56.841Z"
   },
   {
    "duration": 409,
    "start_time": "2021-08-11T01:02:07.537Z"
   },
   {
    "duration": 82,
    "start_time": "2021-08-11T01:02:13.234Z"
   },
   {
    "duration": 4,
    "start_time": "2021-08-11T01:02:17.848Z"
   },
   {
    "duration": 362,
    "start_time": "2021-08-11T01:02:20.377Z"
   },
   {
    "duration": 26,
    "start_time": "2021-08-11T01:02:52.208Z"
   },
   {
    "duration": 124,
    "start_time": "2021-08-11T01:02:53.487Z"
   },
   {
    "duration": 186,
    "start_time": "2021-08-11T01:02:56.553Z"
   },
   {
    "duration": 30,
    "start_time": "2021-08-11T01:03:02.848Z"
   },
   {
    "duration": 852,
    "start_time": "2021-08-11T01:03:12.816Z"
   },
   {
    "duration": 334,
    "start_time": "2021-08-11T01:03:15.160Z"
   },
   {
    "duration": 104456,
    "start_time": "2021-08-11T01:03:21.698Z"
   },
   {
    "duration": 160149,
    "start_time": "2021-08-11T01:05:07.609Z"
   },
   {
    "duration": 60125,
    "start_time": "2021-08-11T01:07:51.625Z"
   },
   {
    "duration": 143137,
    "start_time": "2021-08-11T01:08:54.093Z"
   },
   {
    "duration": 239,
    "start_time": "2021-08-11T01:11:20.251Z"
   },
   {
    "duration": 83,
    "start_time": "2021-08-11T01:11:21.116Z"
   },
   {
    "duration": 122375,
    "start_time": "2021-08-11T01:11:31.788Z"
   },
   {
    "duration": 32382,
    "start_time": "2021-08-11T01:14:03.195Z"
   },
   {
    "duration": 28703,
    "start_time": "2021-08-11T01:14:44.164Z"
   },
   {
    "duration": 34747,
    "start_time": "2021-08-11T01:15:17.921Z"
   },
   {
    "duration": 15862,
    "start_time": "2021-08-11T01:17:05.920Z"
   },
   {
    "duration": 326098,
    "start_time": "2021-08-11T01:17:28.953Z"
   },
   {
    "duration": 280809,
    "start_time": "2021-08-11T01:23:17.915Z"
   },
   {
    "duration": 5,
    "start_time": "2021-08-11T01:28:05.619Z"
   },
   {
    "duration": 5,
    "start_time": "2021-08-11T01:28:08.747Z"
   },
   {
    "duration": 5,
    "start_time": "2021-08-11T01:28:10.658Z"
   },
   {
    "duration": 6,
    "start_time": "2021-08-11T01:28:15.194Z"
   },
   {
    "duration": 354,
    "start_time": "2021-08-11T01:28:19.505Z"
   },
   {
    "duration": 370,
    "start_time": "2021-08-11T01:28:22.465Z"
   },
   {
    "duration": 60179,
    "start_time": "2021-08-11T01:28:33.020Z"
   },
   {
    "duration": 13910,
    "start_time": "2021-08-11T01:29:34.873Z"
   },
   {
    "duration": 7484,
    "start_time": "2021-08-11T01:30:01.235Z"
   },
   {
    "duration": 812,
    "start_time": "2021-08-11T01:30:14.089Z"
   },
   {
    "duration": 12,
    "start_time": "2021-08-11T01:30:19.640Z"
   },
   {
    "duration": 2080,
    "start_time": "2021-08-11T01:30:27.225Z"
   },
   {
    "duration": 95,
    "start_time": "2021-08-11T01:30:31.464Z"
   },
   {
    "duration": 13,
    "start_time": "2021-08-11T01:30:34.896Z"
   },
   {
    "duration": 9,
    "start_time": "2021-08-11T01:32:08.882Z"
   },
   {
    "duration": 1022,
    "start_time": "2021-08-11T01:32:09.362Z"
   },
   {
    "duration": 161,
    "start_time": "2021-08-11T01:32:10.387Z"
   },
   {
    "duration": 155,
    "start_time": "2021-08-11T01:32:10.556Z"
   },
   {
    "duration": 148,
    "start_time": "2021-08-11T01:32:10.714Z"
   },
   {
    "duration": 648,
    "start_time": "2021-08-11T01:32:10.866Z"
   },
   {
    "duration": 71,
    "start_time": "2021-08-11T01:32:11.517Z"
   },
   {
    "duration": 35,
    "start_time": "2021-08-11T01:32:12.293Z"
   },
   {
    "duration": 29,
    "start_time": "2021-08-11T01:32:12.453Z"
   },
   {
    "duration": 818,
    "start_time": "2021-08-11T01:32:12.773Z"
   },
   {
    "duration": 516,
    "start_time": "2021-08-11T01:32:13.593Z"
   },
   {
    "duration": 173,
    "start_time": "2021-08-11T01:32:14.113Z"
   },
   {
    "duration": 596,
    "start_time": "2021-08-11T01:32:14.621Z"
   },
   {
    "duration": 14,
    "start_time": "2021-08-11T01:32:15.221Z"
   },
   {
    "duration": 667,
    "start_time": "2021-08-11T01:32:15.237Z"
   },
   {
    "duration": 135,
    "start_time": "2021-08-11T01:32:15.907Z"
   },
   {
    "duration": 46,
    "start_time": "2021-08-11T01:32:16.045Z"
   },
   {
    "duration": 63,
    "start_time": "2021-08-11T01:32:16.093Z"
   },
   {
    "duration": 82,
    "start_time": "2021-08-11T01:32:16.381Z"
   },
   {
    "duration": 162,
    "start_time": "2021-08-11T01:32:17.628Z"
   },
   {
    "duration": 19,
    "start_time": "2021-08-11T01:32:18.036Z"
   },
   {
    "duration": 114,
    "start_time": "2021-08-11T01:32:18.357Z"
   },
   {
    "duration": 235,
    "start_time": "2021-08-11T01:32:19.221Z"
   },
   {
    "duration": 93,
    "start_time": "2021-08-11T01:32:25.733Z"
   },
   {
    "duration": 75,
    "start_time": "2021-08-11T01:32:43.487Z"
   },
   {
    "duration": 201,
    "start_time": "2021-08-11T01:32:44.341Z"
   },
   {
    "duration": 34,
    "start_time": "2021-08-11T01:32:45.862Z"
   },
   {
    "duration": 150,
    "start_time": "2021-08-11T01:32:47.127Z"
   },
   {
    "duration": 287,
    "start_time": "2021-08-11T01:32:51.125Z"
   },
   {
    "duration": 8,
    "start_time": "2021-08-11T01:32:53.877Z"
   },
   {
    "duration": 32,
    "start_time": "2021-08-11T01:33:01.229Z"
   },
   {
    "duration": 852,
    "start_time": "2021-08-11T01:33:07.814Z"
   },
   {
    "duration": 204,
    "start_time": "2021-08-11T01:33:08.933Z"
   },
   {
    "duration": 124,
    "start_time": "2021-08-11T01:33:15.486Z"
   },
   {
    "duration": 240650,
    "start_time": "2021-08-11T01:33:22.583Z"
   },
   {
    "duration": -572,
    "start_time": "2021-08-11T01:37:23.808Z"
   },
   {
    "duration": 28,
    "start_time": "2021-08-11T01:37:24.458Z"
   },
   {
    "duration": 126,
    "start_time": "2021-08-11T01:37:24.867Z"
   },
   {
    "duration": 184,
    "start_time": "2021-08-11T01:37:25.681Z"
   },
   {
    "duration": 30,
    "start_time": "2021-08-11T01:37:29.548Z"
   },
   {
    "duration": 22,
    "start_time": "2021-08-11T01:38:12.290Z"
   },
   {
    "duration": 14049,
    "start_time": "2021-08-11T01:38:12.358Z"
   },
   {
    "duration": 966,
    "start_time": "2021-08-11T01:38:26.410Z"
   },
   {
    "duration": 197,
    "start_time": "2021-08-11T01:38:27.378Z"
   },
   {
    "duration": 6079,
    "start_time": "2021-08-11T01:38:30.978Z"
   },
   {
    "duration": 22,
    "start_time": "2021-08-11T01:38:40.897Z"
   },
   {
    "duration": 29,
    "start_time": "2021-08-11T01:38:47.920Z"
   },
   {
    "duration": 122,
    "start_time": "2021-08-11T01:38:48.345Z"
   },
   {
    "duration": 285,
    "start_time": "2021-08-11T01:38:49.372Z"
   },
   {
    "duration": 8,
    "start_time": "2021-08-11T01:38:57.737Z"
   },
   {
    "duration": 40,
    "start_time": "2021-08-11T01:38:58.841Z"
   },
   {
    "duration": 38335,
    "start_time": "2021-08-11T01:39:03.434Z"
   },
   {
    "duration": 852,
    "start_time": "2021-08-11T01:40:13.904Z"
   },
   {
    "duration": 197,
    "start_time": "2021-08-11T01:40:14.759Z"
   },
   {
    "duration": 186591,
    "start_time": "2021-08-11T01:40:19.443Z"
   },
   {
    "duration": 18709,
    "start_time": "2021-08-11T01:43:30.625Z"
   },
   {
    "duration": 222776,
    "start_time": "2021-08-11T01:43:53.865Z"
   },
   {
    "duration": 31833,
    "start_time": "2021-08-11T01:47:39.589Z"
   },
   {
    "duration": 206,
    "start_time": "2021-08-11T01:48:18.685Z"
   },
   {
    "duration": 289,
    "start_time": "2021-08-11T01:48:39.519Z"
   },
   {
    "duration": 29,
    "start_time": "2021-08-11T01:48:48.381Z"
   },
   {
    "duration": 118,
    "start_time": "2021-08-11T01:48:48.796Z"
   },
   {
    "duration": 177,
    "start_time": "2021-08-11T01:48:49.247Z"
   },
   {
    "duration": 6,
    "start_time": "2021-08-11T01:48:51.051Z"
   },
   {
    "duration": 13,
    "start_time": "2021-08-11T01:48:53.251Z"
   },
   {
    "duration": 32,
    "start_time": "2021-08-11T01:48:59.435Z"
   },
   {
    "duration": 245925,
    "start_time": "2021-08-11T01:49:08.212Z"
   },
   {
    "duration": -561,
    "start_time": "2021-08-11T01:56:05.802Z"
   },
   {
    "duration": -562,
    "start_time": "2021-08-11T01:56:05.805Z"
   },
   {
    "duration": -563,
    "start_time": "2021-08-11T01:56:05.808Z"
   },
   {
    "duration": 29,
    "start_time": "2021-08-11T01:56:17.783Z"
   },
   {
    "duration": 122,
    "start_time": "2021-08-11T01:56:18.254Z"
   },
   {
    "duration": 169,
    "start_time": "2021-08-11T01:56:19.336Z"
   },
   {
    "duration": 6,
    "start_time": "2021-08-11T01:56:22.589Z"
   },
   {
    "duration": 12,
    "start_time": "2021-08-11T01:56:24.678Z"
   },
   {
    "duration": 60741,
    "start_time": "2021-08-11T01:56:25.688Z"
   },
   {
    "duration": 402,
    "start_time": "2021-08-11T01:57:44.096Z"
   },
   {
    "duration": 24,
    "start_time": "2021-08-11T01:57:56.810Z"
   },
   {
    "duration": 1695,
    "start_time": "2021-08-11T01:57:56.951Z"
   },
   {
    "duration": 27493,
    "start_time": "2021-08-11T01:57:59.656Z"
   },
   {
    "duration": 207,
    "start_time": "2021-08-11T01:58:32.486Z"
   },
   {
    "duration": 61,
    "start_time": "2021-08-11T01:58:35.310Z"
   },
   {
    "duration": 80,
    "start_time": "2021-08-11T01:58:38.982Z"
   },
   {
    "duration": 43,
    "start_time": "2021-08-11T01:58:41.494Z"
   },
   {
    "duration": 7441,
    "start_time": "2021-08-11T01:58:54.176Z"
   },
   {
    "duration": 367,
    "start_time": "2021-08-11T01:59:26.793Z"
   },
   {
    "duration": 256,
    "start_time": "2021-08-11T01:59:34.813Z"
   },
   {
    "duration": 15,
    "start_time": "2021-08-11T02:00:10.792Z"
   },
   {
    "duration": 5277,
    "start_time": "2021-08-11T02:01:27.661Z"
   },
   {
    "duration": 122,
    "start_time": "2021-08-11T02:02:20.013Z"
   },
   {
    "duration": 1636,
    "start_time": "2021-08-11T02:02:30.372Z"
   },
   {
    "duration": 1131,
    "start_time": "2021-08-11T02:02:32.011Z"
   },
   {
    "duration": 167,
    "start_time": "2021-08-11T02:02:33.146Z"
   },
   {
    "duration": 175,
    "start_time": "2021-08-11T02:02:33.317Z"
   },
   {
    "duration": 139,
    "start_time": "2021-08-11T02:02:33.496Z"
   },
   {
    "duration": 643,
    "start_time": "2021-08-11T02:02:33.638Z"
   },
   {
    "duration": 78,
    "start_time": "2021-08-11T02:02:34.284Z"
   },
   {
    "duration": 40,
    "start_time": "2021-08-11T02:02:34.364Z"
   },
   {
    "duration": 48,
    "start_time": "2021-08-11T02:02:34.410Z"
   },
   {
    "duration": 783,
    "start_time": "2021-08-11T02:02:34.462Z"
   },
   {
    "duration": 484,
    "start_time": "2021-08-11T02:02:35.256Z"
   },
   {
    "duration": 184,
    "start_time": "2021-08-11T02:02:35.743Z"
   },
   {
    "duration": 517,
    "start_time": "2021-08-11T02:02:35.930Z"
   },
   {
    "duration": 19,
    "start_time": "2021-08-11T02:02:36.449Z"
   },
   {
    "duration": 619,
    "start_time": "2021-08-11T02:02:36.471Z"
   },
   {
    "duration": 156,
    "start_time": "2021-08-11T02:02:37.094Z"
   },
   {
    "duration": 46,
    "start_time": "2021-08-11T02:02:37.253Z"
   },
   {
    "duration": 65,
    "start_time": "2021-08-11T02:02:37.301Z"
   },
   {
    "duration": 102,
    "start_time": "2021-08-11T02:02:37.369Z"
   },
   {
    "duration": 169,
    "start_time": "2021-08-11T02:02:37.474Z"
   },
   {
    "duration": 23,
    "start_time": "2021-08-11T02:02:37.646Z"
   },
   {
    "duration": 135,
    "start_time": "2021-08-11T02:02:37.672Z"
   },
   {
    "duration": 266,
    "start_time": "2021-08-11T02:02:37.810Z"
   },
   {
    "duration": 84,
    "start_time": "2021-08-11T02:02:38.078Z"
   },
   {
    "duration": 147,
    "start_time": "2021-08-11T02:02:38.165Z"
   },
   {
    "duration": 22,
    "start_time": "2021-08-11T02:02:38.315Z"
   },
   {
    "duration": 146,
    "start_time": "2021-08-11T02:02:38.341Z"
   },
   {
    "duration": 203,
    "start_time": "2021-08-11T02:02:38.489Z"
   },
   {
    "duration": 6,
    "start_time": "2021-08-11T02:02:38.695Z"
   },
   {
    "duration": 53,
    "start_time": "2021-08-11T02:02:38.703Z"
   },
   {
    "duration": 567201,
    "start_time": "2021-08-11T02:02:38.759Z"
   },
   {
    "duration": -514,
    "start_time": "2021-08-11T02:12:06.478Z"
   },
   {
    "duration": -597,
    "start_time": "2021-08-11T02:12:06.564Z"
   },
   {
    "duration": -599,
    "start_time": "2021-08-11T02:12:06.568Z"
   },
   {
    "duration": -604,
    "start_time": "2021-08-11T02:12:06.575Z"
   },
   {
    "duration": -607,
    "start_time": "2021-08-11T02:12:06.579Z"
   },
   {
    "duration": -612,
    "start_time": "2021-08-11T02:12:06.585Z"
   },
   {
    "duration": -614,
    "start_time": "2021-08-11T02:12:06.588Z"
   },
   {
    "duration": -533,
    "start_time": "2021-08-11T02:12:06.591Z"
   },
   {
    "duration": -535,
    "start_time": "2021-08-11T02:12:06.595Z"
   },
   {
    "duration": -600,
    "start_time": "2021-08-11T02:12:06.662Z"
   },
   {
    "duration": 92102,
    "start_time": "2021-08-11T02:13:26.657Z"
   },
   {
    "duration": 6017,
    "start_time": "2021-08-11T02:16:36.957Z"
   },
   {
    "duration": 1282,
    "start_time": "2021-08-11T02:16:42.977Z"
   },
   {
    "duration": 14,
    "start_time": "2021-08-11T02:16:58.657Z"
   },
   {
    "duration": 275603,
    "start_time": "2021-08-11T02:18:25.153Z"
   },
   {
    "duration": 8303,
    "start_time": "2021-08-11T02:23:17.065Z"
   },
   {
    "duration": 7587,
    "start_time": "2021-08-11T02:23:25.370Z"
   },
   {
    "duration": 1205,
    "start_time": "2021-08-11T02:23:32.963Z"
   },
   {
    "duration": 1294,
    "start_time": "2021-08-11T02:23:34.262Z"
   },
   {
    "duration": 714,
    "start_time": "2021-08-11T02:23:35.559Z"
   },
   {
    "duration": 3505,
    "start_time": "2021-08-11T02:23:36.357Z"
   },
   {
    "duration": 390,
    "start_time": "2021-08-11T02:23:39.866Z"
   },
   {
    "duration": 201,
    "start_time": "2021-08-11T02:23:40.260Z"
   },
   {
    "duration": 203,
    "start_time": "2021-08-11T02:23:40.465Z"
   },
   {
    "duration": 5102,
    "start_time": "2021-08-11T02:23:40.759Z"
   },
   {
    "duration": 2998,
    "start_time": "2021-08-11T02:23:45.864Z"
   },
   {
    "duration": 1089,
    "start_time": "2021-08-11T02:23:48.869Z"
   },
   {
    "duration": 3295,
    "start_time": "2021-08-11T02:23:49.961Z"
   },
   {
    "duration": 101,
    "start_time": "2021-08-11T02:23:53.259Z"
   },
   {
    "duration": 3597,
    "start_time": "2021-08-11T02:23:53.363Z"
   },
   {
    "duration": 1093,
    "start_time": "2021-08-11T02:23:56.963Z"
   },
   {
    "duration": 401,
    "start_time": "2021-08-11T02:23:58.061Z"
   },
   {
    "duration": 296,
    "start_time": "2021-08-11T02:23:58.466Z"
   },
   {
    "duration": 604,
    "start_time": "2021-08-11T02:23:58.765Z"
   },
   {
    "duration": 1098,
    "start_time": "2021-08-11T02:23:59.457Z"
   },
   {
    "duration": 194,
    "start_time": "2021-08-11T02:24:00.561Z"
   },
   {
    "duration": 901,
    "start_time": "2021-08-11T02:24:00.759Z"
   },
   {
    "duration": 1705,
    "start_time": "2021-08-11T02:24:01.662Z"
   },
   {
    "duration": 716,
    "start_time": "2021-08-11T02:24:03.457Z"
   },
   {
    "duration": 1082,
    "start_time": "2021-08-11T02:24:04.176Z"
   },
   {
    "duration": 193,
    "start_time": "2021-08-11T02:24:05.263Z"
   },
   {
    "duration": 792,
    "start_time": "2021-08-11T02:24:05.464Z"
   },
   {
    "duration": 1302,
    "start_time": "2021-08-11T02:24:06.260Z"
   },
   {
    "duration": 93,
    "start_time": "2021-08-11T02:24:07.564Z"
   },
   {
    "duration": 202,
    "start_time": "2021-08-11T02:24:07.660Z"
   },
   {
    "duration": 512252,
    "start_time": "2021-08-11T02:24:07.864Z"
   },
   {
    "duration": 37554,
    "start_time": "2021-08-11T02:32:40.118Z"
   },
   {
    "duration": 903,
    "start_time": "2021-08-11T02:33:17.674Z"
   },
   {
    "duration": 198,
    "start_time": "2021-08-11T02:33:18.580Z"
   },
   {
    "duration": 73187,
    "start_time": "2021-08-11T02:33:18.780Z"
   },
   {
    "duration": 8693,
    "start_time": "2021-08-11T02:34:31.969Z"
   },
   {
    "duration": 7186,
    "start_time": "2021-08-11T02:34:40.664Z"
   },
   {
    "duration": 681,
    "start_time": "2021-08-11T02:34:47.856Z"
   },
   {
    "duration": 2060,
    "start_time": "2021-08-11T02:34:48.540Z"
   },
   {
    "duration": 256,
    "start_time": "2021-08-11T02:34:50.603Z"
   },
   {
    "duration": 101,
    "start_time": "2021-08-11T02:34:50.863Z"
   },
   {
    "duration": 1494,
    "start_time": "2021-08-11T03:42:41.609Z"
   },
   {
    "duration": 1095,
    "start_time": "2021-08-11T03:42:43.105Z"
   },
   {
    "duration": 290,
    "start_time": "2021-08-11T03:42:44.334Z"
   },
   {
    "duration": 160,
    "start_time": "2021-08-11T03:43:32.701Z"
   },
   {
    "duration": 123,
    "start_time": "2021-08-11T03:43:34.546Z"
   },
   {
    "duration": 649,
    "start_time": "2021-08-11T03:43:36.674Z"
   },
   {
    "duration": 58,
    "start_time": "2021-08-11T03:43:37.379Z"
   },
   {
    "duration": 39,
    "start_time": "2021-08-11T03:43:37.807Z"
   },
   {
    "duration": 28,
    "start_time": "2021-08-11T03:43:38.280Z"
   },
   {
    "duration": 780,
    "start_time": "2021-08-11T03:43:38.725Z"
   },
   {
    "duration": 487,
    "start_time": "2021-08-11T03:43:39.508Z"
   },
   {
    "duration": 176,
    "start_time": "2021-08-11T03:43:39.999Z"
   },
   {
    "duration": 518,
    "start_time": "2021-08-11T03:43:40.178Z"
   },
   {
    "duration": 18,
    "start_time": "2021-08-11T03:43:40.700Z"
   },
   {
    "duration": 626,
    "start_time": "2021-08-11T03:43:40.721Z"
   },
   {
    "duration": 154,
    "start_time": "2021-08-11T03:43:41.349Z"
   },
   {
    "duration": 51,
    "start_time": "2021-08-11T03:43:41.506Z"
   },
   {
    "duration": 40,
    "start_time": "2021-08-11T03:43:41.559Z"
   },
   {
    "duration": 112,
    "start_time": "2021-08-11T03:43:41.601Z"
   },
   {
    "duration": 164,
    "start_time": "2021-08-11T03:43:42.108Z"
   },
   {
    "duration": 19,
    "start_time": "2021-08-11T03:43:42.477Z"
   },
   {
    "duration": 113,
    "start_time": "2021-08-11T03:43:43.099Z"
   },
   {
    "duration": 249,
    "start_time": "2021-08-11T03:43:43.535Z"
   },
   {
    "duration": 75,
    "start_time": "2021-08-11T03:43:43.935Z"
   },
   {
    "duration": 129,
    "start_time": "2021-08-11T03:43:44.290Z"
   },
   {
    "duration": 22,
    "start_time": "2021-08-11T03:55:03.408Z"
   },
   {
    "duration": 124,
    "start_time": "2021-08-11T03:55:03.432Z"
   },
   {
    "duration": 188,
    "start_time": "2021-08-11T03:55:05.010Z"
   },
   {
    "duration": 6,
    "start_time": "2021-08-11T03:55:11.273Z"
   },
   {
    "duration": 1541,
    "start_time": "2021-08-14T00:32:43.081Z"
   },
   {
    "duration": 1113,
    "start_time": "2021-08-14T00:32:44.625Z"
   },
   {
    "duration": 178,
    "start_time": "2021-08-14T00:32:45.742Z"
   },
   {
    "duration": 176,
    "start_time": "2021-08-14T00:32:45.923Z"
   },
   {
    "duration": 146,
    "start_time": "2021-08-14T00:32:46.101Z"
   },
   {
    "duration": 699,
    "start_time": "2021-08-14T00:32:46.250Z"
   },
   {
    "duration": 70,
    "start_time": "2021-08-14T00:32:46.951Z"
   },
   {
    "duration": 57,
    "start_time": "2021-08-14T00:32:47.025Z"
   },
   {
    "duration": 26,
    "start_time": "2021-08-14T00:32:47.085Z"
   },
   {
    "duration": 413,
    "start_time": "2021-08-14T00:32:47.113Z"
   },
   {
    "duration": -1371,
    "start_time": "2021-08-14T00:32:48.900Z"
   },
   {
    "duration": -1381,
    "start_time": "2021-08-14T00:32:48.911Z"
   },
   {
    "duration": -1385,
    "start_time": "2021-08-14T00:32:48.917Z"
   },
   {
    "duration": -1389,
    "start_time": "2021-08-14T00:32:48.922Z"
   },
   {
    "duration": -1395,
    "start_time": "2021-08-14T00:32:48.929Z"
   },
   {
    "duration": -1400,
    "start_time": "2021-08-14T00:32:48.935Z"
   },
   {
    "duration": -1403,
    "start_time": "2021-08-14T00:32:48.940Z"
   },
   {
    "duration": -1406,
    "start_time": "2021-08-14T00:32:48.944Z"
   },
   {
    "duration": -1411,
    "start_time": "2021-08-14T00:32:48.950Z"
   },
   {
    "duration": -1414,
    "start_time": "2021-08-14T00:32:48.954Z"
   },
   {
    "duration": -1419,
    "start_time": "2021-08-14T00:32:48.960Z"
   },
   {
    "duration": -1428,
    "start_time": "2021-08-14T00:32:48.971Z"
   },
   {
    "duration": -1432,
    "start_time": "2021-08-14T00:32:48.976Z"
   },
   {
    "duration": -1435,
    "start_time": "2021-08-14T00:32:48.980Z"
   },
   {
    "duration": -1439,
    "start_time": "2021-08-14T00:32:48.985Z"
   },
   {
    "duration": -1441,
    "start_time": "2021-08-14T00:32:48.989Z"
   },
   {
    "duration": -1444,
    "start_time": "2021-08-14T00:32:48.993Z"
   },
   {
    "duration": -1448,
    "start_time": "2021-08-14T00:32:48.998Z"
   },
   {
    "duration": -1451,
    "start_time": "2021-08-14T00:32:49.002Z"
   },
   {
    "duration": -1453,
    "start_time": "2021-08-14T00:32:49.006Z"
   },
   {
    "duration": -1457,
    "start_time": "2021-08-14T00:32:49.011Z"
   },
   {
    "duration": -1461,
    "start_time": "2021-08-14T00:32:49.016Z"
   },
   {
    "duration": -1464,
    "start_time": "2021-08-14T00:32:49.020Z"
   },
   {
    "duration": -1466,
    "start_time": "2021-08-14T00:32:49.024Z"
   },
   {
    "duration": -1469,
    "start_time": "2021-08-14T00:32:49.028Z"
   },
   {
    "duration": -1473,
    "start_time": "2021-08-14T00:32:49.033Z"
   },
   {
    "duration": -1477,
    "start_time": "2021-08-14T00:32:49.038Z"
   },
   {
    "duration": -1480,
    "start_time": "2021-08-14T00:32:49.043Z"
   },
   {
    "duration": -1485,
    "start_time": "2021-08-14T00:32:49.049Z"
   },
   {
    "duration": -1489,
    "start_time": "2021-08-14T00:32:49.054Z"
   },
   {
    "duration": -1492,
    "start_time": "2021-08-14T00:32:49.058Z"
   },
   {
    "duration": 1586,
    "start_time": "2021-08-14T00:38:40.845Z"
   },
   {
    "duration": 1110,
    "start_time": "2021-08-14T00:38:42.434Z"
   },
   {
    "duration": 168,
    "start_time": "2021-08-14T00:38:43.547Z"
   },
   {
    "duration": 181,
    "start_time": "2021-08-14T00:38:43.717Z"
   },
   {
    "duration": 142,
    "start_time": "2021-08-14T00:38:43.900Z"
   },
   {
    "duration": 617,
    "start_time": "2021-08-14T00:38:44.045Z"
   },
   {
    "duration": 60,
    "start_time": "2021-08-14T00:38:44.668Z"
   },
   {
    "duration": 64,
    "start_time": "2021-08-14T00:38:44.731Z"
   },
   {
    "duration": 28,
    "start_time": "2021-08-14T00:38:44.800Z"
   },
   {
    "duration": 818,
    "start_time": "2021-08-14T00:38:44.832Z"
   },
   {
    "duration": 505,
    "start_time": "2021-08-14T00:38:45.653Z"
   },
   {
    "duration": 183,
    "start_time": "2021-08-14T00:38:46.167Z"
   },
   {
    "duration": 535,
    "start_time": "2021-08-14T00:38:46.353Z"
   },
   {
    "duration": 15,
    "start_time": "2021-08-14T00:38:46.891Z"
   },
   {
    "duration": 643,
    "start_time": "2021-08-14T00:38:46.909Z"
   },
   {
    "duration": 161,
    "start_time": "2021-08-14T00:38:47.555Z"
   },
   {
    "duration": 49,
    "start_time": "2021-08-14T00:38:47.719Z"
   },
   {
    "duration": 39,
    "start_time": "2021-08-14T00:38:47.771Z"
   },
   {
    "duration": 111,
    "start_time": "2021-08-14T00:38:47.813Z"
   },
   {
    "duration": 176,
    "start_time": "2021-08-14T00:38:47.926Z"
   },
   {
    "duration": 18,
    "start_time": "2021-08-14T00:38:48.105Z"
   },
   {
    "duration": 130,
    "start_time": "2021-08-14T00:38:48.126Z"
   },
   {
    "duration": 262,
    "start_time": "2021-08-14T00:38:48.267Z"
   },
   {
    "duration": 83,
    "start_time": "2021-08-14T00:38:48.531Z"
   },
   {
    "duration": 149,
    "start_time": "2021-08-14T00:38:48.616Z"
   },
   {
    "duration": 22,
    "start_time": "2021-08-14T00:38:48.767Z"
   },
   {
    "duration": 138,
    "start_time": "2021-08-14T00:38:48.794Z"
   },
   {
    "duration": 196,
    "start_time": "2021-08-14T00:38:48.934Z"
   },
   {
    "duration": 5,
    "start_time": "2021-08-14T00:38:49.133Z"
   },
   {
    "duration": 52,
    "start_time": "2021-08-14T00:38:49.141Z"
   },
   {
    "duration": 443929,
    "start_time": "2021-08-14T00:38:49.195Z"
   },
   {
    "duration": 37263,
    "start_time": "2021-08-14T00:46:13.127Z"
   },
   {
    "duration": 893,
    "start_time": "2021-08-14T00:46:50.392Z"
   },
   {
    "duration": 199,
    "start_time": "2021-08-14T00:46:51.287Z"
   },
   {
    "duration": 79889,
    "start_time": "2021-08-14T00:46:51.489Z"
   },
   {
    "duration": 8899,
    "start_time": "2021-08-14T00:48:11.381Z"
   },
   {
    "duration": 7426,
    "start_time": "2021-08-14T00:48:20.283Z"
   },
   {
    "duration": 757,
    "start_time": "2021-08-14T00:48:27.712Z"
   },
   {
    "duration": 2036,
    "start_time": "2021-08-14T00:48:28.471Z"
   },
   {
    "duration": 162,
    "start_time": "2021-08-14T00:48:30.509Z"
   },
   {
    "duration": 102,
    "start_time": "2021-08-14T00:48:30.674Z"
   },
   {
    "duration": 715,
    "start_time": "2021-08-14T01:08:45.875Z"
   },
   {
    "duration": 15,
    "start_time": "2021-08-14T01:08:59.638Z"
   },
   {
    "duration": 50,
    "start_time": "2021-08-14T01:09:36.607Z"
   },
   {
    "duration": 6353,
    "start_time": "2021-08-14T01:10:03.583Z"
   },
   {
    "duration": -1382,
    "start_time": "2021-08-14T01:10:11.322Z"
   },
   {
    "duration": 44071,
    "start_time": "2021-08-14T01:10:56.799Z"
   },
   {
    "duration": 24,
    "start_time": "2021-08-14T01:11:40.872Z"
   },
   {
    "duration": 28,
    "start_time": "2021-08-14T01:12:10.495Z"
   },
   {
    "duration": 122,
    "start_time": "2021-08-14T01:12:11.557Z"
   },
   {
    "duration": 26,
    "start_time": "2021-08-14T01:12:32.445Z"
   },
   {
    "duration": 129,
    "start_time": "2021-08-14T01:12:33.348Z"
   },
   {
    "duration": 28,
    "start_time": "2021-08-14T01:12:36.316Z"
   },
   {
    "duration": 36917,
    "start_time": "2021-08-14T01:12:52.261Z"
   },
   {
    "duration": 16,
    "start_time": "2021-08-14T01:13:58.895Z"
   },
   {
    "duration": 32,
    "start_time": "2021-08-14T01:14:01.124Z"
   },
   {
    "duration": 272,
    "start_time": "2021-08-14T01:14:54.619Z"
   },
   {
    "duration": 14,
    "start_time": "2021-08-14T01:15:07.572Z"
   },
   {
    "duration": 783,
    "start_time": "2021-08-14T01:15:11.402Z"
   },
   {
    "duration": 1747,
    "start_time": "2021-08-14T01:15:31.766Z"
   },
   {
    "duration": 736,
    "start_time": "2021-08-14T01:15:38.612Z"
   },
   {
    "duration": 318,
    "start_time": "2021-08-14T01:16:03.158Z"
   },
   {
    "duration": 520,
    "start_time": "2021-08-14T01:16:19.948Z"
   },
   {
    "duration": 680,
    "start_time": "2021-08-14T01:16:27.323Z"
   },
   {
    "duration": 1789,
    "start_time": "2021-08-14T01:16:57.228Z"
   },
   {
    "duration": 465,
    "start_time": "2021-08-14T01:18:31.595Z"
   },
   {
    "duration": 1629,
    "start_time": "2021-08-14T01:18:41.387Z"
   },
   {
    "duration": 843,
    "start_time": "2021-08-14T01:20:09.592Z"
   },
   {
    "duration": 1394,
    "start_time": "2021-08-14T01:20:17.114Z"
   },
   {
    "duration": 620,
    "start_time": "2021-08-14T01:20:25.865Z"
   },
   {
    "duration": 1210,
    "start_time": "2021-08-14T01:20:26.880Z"
   },
   {
    "duration": 8284,
    "start_time": "2021-08-14T01:21:05.640Z"
   },
   {
    "duration": -1378,
    "start_time": "2021-08-14T01:21:15.306Z"
   },
   {
    "duration": -1383,
    "start_time": "2021-08-14T01:21:15.313Z"
   },
   {
    "duration": -1388,
    "start_time": "2021-08-14T01:21:15.320Z"
   },
   {
    "duration": -1391,
    "start_time": "2021-08-14T01:21:15.326Z"
   },
   {
    "duration": 613,
    "start_time": "2021-08-14T01:21:40.600Z"
   },
   {
    "duration": 22039,
    "start_time": "2021-08-14T01:21:41.216Z"
   },
   {
    "duration": -1394,
    "start_time": "2021-08-14T01:22:04.652Z"
   },
   {
    "duration": -1398,
    "start_time": "2021-08-14T01:22:04.657Z"
   },
   {
    "duration": 595,
    "start_time": "2021-08-14T01:22:18.984Z"
   },
   {
    "duration": 187,
    "start_time": "2021-08-14T01:22:21.055Z"
   },
   {
    "duration": 11248,
    "start_time": "2021-08-14T01:22:26.032Z"
   },
   {
    "duration": 21022,
    "start_time": "2021-08-14T01:23:01.448Z"
   },
   {
    "duration": 24,
    "start_time": "2021-08-14T01:23:53.870Z"
   },
   {
    "duration": 2374,
    "start_time": "2021-08-14T01:23:58.080Z"
   },
   {
    "duration": 27,
    "start_time": "2021-08-14T01:24:27.049Z"
   },
   {
    "duration": 130,
    "start_time": "2021-08-14T01:24:28.301Z"
   },
   {
    "duration": 40,
    "start_time": "2021-08-14T01:24:37.798Z"
   },
   {
    "duration": 37017,
    "start_time": "2021-08-14T01:24:49.460Z"
   },
   {
    "duration": 15,
    "start_time": "2021-08-14T01:26:22.356Z"
   },
   {
    "duration": 37,
    "start_time": "2021-08-14T01:26:31.405Z"
   },
   {
    "duration": 1035,
    "start_time": "2021-08-14T01:26:37.016Z"
   },
   {
    "duration": 1465,
    "start_time": "2021-08-14T01:26:40.853Z"
   },
   {
    "duration": 23,
    "start_time": "2021-08-14T01:26:57.828Z"
   },
   {
    "duration": 1465,
    "start_time": "2021-08-14T01:27:03.981Z"
   },
   {
    "duration": 5186,
    "start_time": "2021-08-14T01:27:42.876Z"
   },
   {
    "duration": 741,
    "start_time": "2021-08-14T01:27:54.844Z"
   },
   {
    "duration": 14,
    "start_time": "2021-08-14T01:27:55.588Z"
   },
   {
    "duration": 5225,
    "start_time": "2021-08-14T01:27:55.638Z"
   },
   {
    "duration": 1565,
    "start_time": "2021-08-14T01:28:05.484Z"
   },
   {
    "duration": 754,
    "start_time": "2021-08-14T01:28:53.253Z"
   },
   {
    "duration": 15,
    "start_time": "2021-08-14T01:28:55.724Z"
   },
   {
    "duration": 39,
    "start_time": "2021-08-14T01:28:57.573Z"
   },
   {
    "duration": 2110,
    "start_time": "2021-08-14T01:29:00.612Z"
   },
   {
    "duration": 2125,
    "start_time": "2021-08-14T01:29:33.194Z"
   },
   {
    "duration": 8879,
    "start_time": "2021-08-14T01:31:15.490Z"
   },
   {
    "duration": 14,
    "start_time": "2021-08-14T01:31:26.859Z"
   },
   {
    "duration": 576,
    "start_time": "2021-08-14T01:31:35.923Z"
   },
   {
    "duration": 562,
    "start_time": "2021-08-14T01:31:43.435Z"
   },
   {
    "duration": 650,
    "start_time": "2021-08-14T01:32:04.132Z"
   },
   {
    "duration": 575,
    "start_time": "2021-08-14T01:32:34.020Z"
   },
   {
    "duration": 2298,
    "start_time": "2021-08-14T01:33:04.616Z"
   },
   {
    "duration": 1375,
    "start_time": "2021-08-16T18:28:03.709Z"
   },
   {
    "duration": -1327,
    "start_time": "2021-08-16T18:28:06.414Z"
   },
   {
    "duration": -1340,
    "start_time": "2021-08-16T18:28:06.428Z"
   },
   {
    "duration": -1343,
    "start_time": "2021-08-16T18:28:06.433Z"
   },
   {
    "duration": -1346,
    "start_time": "2021-08-16T18:28:06.437Z"
   },
   {
    "duration": -1350,
    "start_time": "2021-08-16T18:28:06.442Z"
   },
   {
    "duration": -1353,
    "start_time": "2021-08-16T18:28:06.446Z"
   },
   {
    "duration": -1357,
    "start_time": "2021-08-16T18:28:06.452Z"
   },
   {
    "duration": -1362,
    "start_time": "2021-08-16T18:28:06.458Z"
   },
   {
    "duration": -1367,
    "start_time": "2021-08-16T18:28:06.464Z"
   },
   {
    "duration": -1368,
    "start_time": "2021-08-16T18:28:06.467Z"
   },
   {
    "duration": -1372,
    "start_time": "2021-08-16T18:28:06.472Z"
   },
   {
    "duration": -1374,
    "start_time": "2021-08-16T18:28:06.475Z"
   },
   {
    "duration": -1378,
    "start_time": "2021-08-16T18:28:06.480Z"
   },
   {
    "duration": -1380,
    "start_time": "2021-08-16T18:28:06.484Z"
   },
   {
    "duration": -1385,
    "start_time": "2021-08-16T18:28:06.490Z"
   },
   {
    "duration": -1390,
    "start_time": "2021-08-16T18:28:06.496Z"
   },
   {
    "duration": -1395,
    "start_time": "2021-08-16T18:28:06.502Z"
   },
   {
    "duration": -1398,
    "start_time": "2021-08-16T18:28:06.507Z"
   },
   {
    "duration": -1402,
    "start_time": "2021-08-16T18:28:06.512Z"
   },
   {
    "duration": -1406,
    "start_time": "2021-08-16T18:28:06.517Z"
   },
   {
    "duration": -1410,
    "start_time": "2021-08-16T18:28:06.523Z"
   },
   {
    "duration": -1421,
    "start_time": "2021-08-16T18:28:06.535Z"
   },
   {
    "duration": -1426,
    "start_time": "2021-08-16T18:28:06.541Z"
   },
   {
    "duration": -1429,
    "start_time": "2021-08-16T18:28:06.545Z"
   },
   {
    "duration": -1431,
    "start_time": "2021-08-16T18:28:06.549Z"
   },
   {
    "duration": -1434,
    "start_time": "2021-08-16T18:28:06.553Z"
   },
   {
    "duration": -1437,
    "start_time": "2021-08-16T18:28:06.557Z"
   },
   {
    "duration": -1439,
    "start_time": "2021-08-16T18:28:06.561Z"
   },
   {
    "duration": -1442,
    "start_time": "2021-08-16T18:28:06.565Z"
   },
   {
    "duration": -1446,
    "start_time": "2021-08-16T18:28:06.570Z"
   },
   {
    "duration": -1450,
    "start_time": "2021-08-16T18:28:06.575Z"
   },
   {
    "duration": -1452,
    "start_time": "2021-08-16T18:28:06.578Z"
   },
   {
    "duration": -1456,
    "start_time": "2021-08-16T18:28:06.582Z"
   },
   {
    "duration": -1460,
    "start_time": "2021-08-16T18:28:06.587Z"
   },
   {
    "duration": -1463,
    "start_time": "2021-08-16T18:28:06.591Z"
   },
   {
    "duration": -1465,
    "start_time": "2021-08-16T18:28:06.594Z"
   },
   {
    "duration": -1469,
    "start_time": "2021-08-16T18:28:06.599Z"
   },
   {
    "duration": -1472,
    "start_time": "2021-08-16T18:28:06.603Z"
   },
   {
    "duration": -1476,
    "start_time": "2021-08-16T18:28:06.608Z"
   },
   {
    "duration": -1478,
    "start_time": "2021-08-16T18:28:06.611Z"
   },
   {
    "duration": -1481,
    "start_time": "2021-08-16T18:28:06.615Z"
   },
   {
    "duration": -1484,
    "start_time": "2021-08-16T18:28:06.619Z"
   },
   {
    "duration": -1433,
    "start_time": "2021-08-16T18:28:06.623Z"
   },
   {
    "duration": -1435,
    "start_time": "2021-08-16T18:28:06.627Z"
   },
   {
    "duration": 270,
    "start_time": "2021-08-16T18:55:30.785Z"
   },
   {
    "duration": 231,
    "start_time": "2021-08-16T18:55:48.585Z"
   },
   {
    "duration": 1174,
    "start_time": "2021-08-16T19:01:48.992Z"
   },
   {
    "duration": 742,
    "start_time": "2021-08-16T19:01:50.170Z"
   },
   {
    "duration": 117,
    "start_time": "2021-08-16T19:01:50.914Z"
   },
   {
    "duration": 114,
    "start_time": "2021-08-16T19:01:51.032Z"
   },
   {
    "duration": 99,
    "start_time": "2021-08-16T19:01:51.148Z"
   },
   {
    "duration": 439,
    "start_time": "2021-08-16T19:01:51.248Z"
   },
   {
    "duration": 43,
    "start_time": "2021-08-16T19:01:51.692Z"
   },
   {
    "duration": 23,
    "start_time": "2021-08-16T19:01:51.737Z"
   },
   {
    "duration": 32,
    "start_time": "2021-08-16T19:01:51.762Z"
   },
   {
    "duration": 434,
    "start_time": "2021-08-16T19:01:51.796Z"
   },
   {
    "duration": 276,
    "start_time": "2021-08-16T19:01:52.232Z"
   },
   {
    "duration": 97,
    "start_time": "2021-08-16T19:01:52.509Z"
   },
   {
    "duration": 314,
    "start_time": "2021-08-16T19:01:52.607Z"
   },
   {
    "duration": 9,
    "start_time": "2021-08-16T19:01:52.923Z"
   },
   {
    "duration": 370,
    "start_time": "2021-08-16T19:01:52.933Z"
   },
   {
    "duration": 94,
    "start_time": "2021-08-16T19:01:53.305Z"
   },
   {
    "duration": 27,
    "start_time": "2021-08-16T19:01:53.401Z"
   },
   {
    "duration": 31,
    "start_time": "2021-08-16T19:01:53.429Z"
   },
   {
    "duration": 65,
    "start_time": "2021-08-16T19:01:53.462Z"
   },
   {
    "duration": 90,
    "start_time": "2021-08-16T19:01:53.528Z"
   },
   {
    "duration": 14,
    "start_time": "2021-08-16T19:01:53.619Z"
   },
   {
    "duration": 84,
    "start_time": "2021-08-16T19:01:53.637Z"
   },
   {
    "duration": 177,
    "start_time": "2021-08-16T19:01:53.723Z"
   },
   {
    "duration": 55,
    "start_time": "2021-08-16T19:01:53.901Z"
   },
   {
    "duration": 99,
    "start_time": "2021-08-16T19:01:53.958Z"
   },
   {
    "duration": 15,
    "start_time": "2021-08-16T19:01:54.059Z"
   },
   {
    "duration": 70,
    "start_time": "2021-08-16T19:01:54.076Z"
   },
   {
    "duration": 2,
    "start_time": "2021-08-16T19:01:54.148Z"
   },
   {
    "duration": 13,
    "start_time": "2021-08-16T19:01:54.152Z"
   },
   {
    "duration": 32,
    "start_time": "2021-08-16T19:01:54.167Z"
   },
   {
    "duration": 300772,
    "start_time": "2021-08-16T19:01:54.201Z"
   },
   {
    "duration": 25231,
    "start_time": "2021-08-16T19:06:54.975Z"
   },
   {
    "duration": 765,
    "start_time": "2021-08-16T19:07:20.208Z"
   },
   {
    "duration": 134,
    "start_time": "2021-08-16T19:07:20.975Z"
   },
   {
    "duration": 53384,
    "start_time": "2021-08-16T19:07:21.111Z"
   },
   {
    "duration": 5615,
    "start_time": "2021-08-16T19:08:14.497Z"
   },
   {
    "duration": 5516,
    "start_time": "2021-08-16T19:08:20.192Z"
   },
   {
    "duration": 513,
    "start_time": "2021-08-16T19:08:25.710Z"
   },
   {
    "duration": 2192,
    "start_time": "2021-08-16T19:08:26.225Z"
   },
   {
    "duration": 174,
    "start_time": "2021-08-16T19:08:28.418Z"
   },
   {
    "duration": 99,
    "start_time": "2021-08-16T19:08:28.594Z"
   },
   {
    "duration": 334,
    "start_time": "2021-08-16T19:08:28.695Z"
   },
   {
    "duration": -1352,
    "start_time": "2021-08-16T19:08:30.383Z"
   },
   {
    "duration": -1355,
    "start_time": "2021-08-16T19:08:30.387Z"
   },
   {
    "duration": -1359,
    "start_time": "2021-08-16T19:08:30.391Z"
   },
   {
    "duration": 361,
    "start_time": "2021-08-16T20:05:14.642Z"
   },
   {
    "duration": 6903,
    "start_time": "2021-08-16T20:05:33.096Z"
   },
   {
    "duration": 10,
    "start_time": "2021-08-16T20:19:29.821Z"
   },
   {
    "duration": 423,
    "start_time": "2021-08-16T20:19:31.897Z"
   },
   {
    "duration": 491,
    "start_time": "2021-08-16T20:20:07.584Z"
   },
   {
    "duration": 10,
    "start_time": "2021-08-16T20:20:12.124Z"
   },
   {
    "duration": 29,
    "start_time": "2021-08-16T20:20:14.351Z"
   },
   {
    "duration": 5812,
    "start_time": "2021-08-16T20:21:38.991Z"
   },
   {
    "duration": 10,
    "start_time": "2021-08-16T20:21:44.892Z"
   },
   {
    "duration": 408,
    "start_time": "2021-08-16T20:21:44.903Z"
   },
   {
    "duration": 411,
    "start_time": "2021-08-16T20:21:47.302Z"
   },
   {
    "duration": 1502,
    "start_time": "2021-08-16T20:22:00.302Z"
   },
   {
    "duration": 74,
    "start_time": "2021-08-16T20:22:37.173Z"
   },
   {
    "duration": 26,
    "start_time": "2021-08-16T20:22:39.454Z"
   },
   {
    "duration": 24,
    "start_time": "2021-08-16T20:22:39.711Z"
   },
   {
    "duration": 1158,
    "start_time": "2021-08-16T20:22:44.580Z"
   },
   {
    "duration": 718,
    "start_time": "2021-08-16T20:22:45.739Z"
   },
   {
    "duration": 116,
    "start_time": "2021-08-16T20:22:46.459Z"
   },
   {
    "duration": 124,
    "start_time": "2021-08-16T20:22:46.577Z"
   },
   {
    "duration": 99,
    "start_time": "2021-08-16T20:22:46.703Z"
   },
   {
    "duration": 408,
    "start_time": "2021-08-16T20:22:46.803Z"
   },
   {
    "duration": 42,
    "start_time": "2021-08-16T20:22:47.212Z"
   },
   {
    "duration": 36,
    "start_time": "2021-08-16T20:22:47.255Z"
   },
   {
    "duration": 15,
    "start_time": "2021-08-16T20:22:47.294Z"
   },
   {
    "duration": 421,
    "start_time": "2021-08-16T20:22:47.311Z"
   },
   {
    "duration": 277,
    "start_time": "2021-08-16T20:22:47.734Z"
   },
   {
    "duration": 93,
    "start_time": "2021-08-16T20:22:48.012Z"
   },
   {
    "duration": 306,
    "start_time": "2021-08-16T20:22:48.106Z"
   },
   {
    "duration": 9,
    "start_time": "2021-08-16T20:22:48.414Z"
   },
   {
    "duration": 369,
    "start_time": "2021-08-16T20:22:48.424Z"
   },
   {
    "duration": 86,
    "start_time": "2021-08-16T20:22:48.794Z"
   },
   {
    "duration": 30,
    "start_time": "2021-08-16T20:22:48.881Z"
   },
   {
    "duration": 25,
    "start_time": "2021-08-16T20:22:48.913Z"
   },
   {
    "duration": 66,
    "start_time": "2021-08-16T20:22:48.939Z"
   },
   {
    "duration": 89,
    "start_time": "2021-08-16T20:22:49.007Z"
   },
   {
    "duration": 13,
    "start_time": "2021-08-16T20:22:49.098Z"
   },
   {
    "duration": 79,
    "start_time": "2021-08-16T20:22:49.113Z"
   },
   {
    "duration": 176,
    "start_time": "2021-08-16T20:22:49.194Z"
   },
   {
    "duration": 58,
    "start_time": "2021-08-16T20:22:49.372Z"
   },
   {
    "duration": 93,
    "start_time": "2021-08-16T20:22:49.431Z"
   },
   {
    "duration": 13,
    "start_time": "2021-08-16T20:22:49.526Z"
   },
   {
    "duration": 67,
    "start_time": "2021-08-16T20:22:49.542Z"
   },
   {
    "duration": 3,
    "start_time": "2021-08-16T20:22:49.611Z"
   },
   {
    "duration": 8,
    "start_time": "2021-08-16T20:22:49.615Z"
   },
   {
    "duration": 18,
    "start_time": "2021-08-16T20:22:49.624Z"
   },
   {
    "duration": 292427,
    "start_time": "2021-08-16T20:22:49.644Z"
   },
   {
    "duration": 24549,
    "start_time": "2021-08-16T20:27:42.072Z"
   },
   {
    "duration": 636,
    "start_time": "2021-08-16T20:28:06.622Z"
   },
   {
    "duration": 123,
    "start_time": "2021-08-16T20:28:07.259Z"
   },
   {
    "duration": 90327,
    "start_time": "2021-08-16T20:28:07.383Z"
   },
   {
    "duration": 23994,
    "start_time": "2021-08-16T20:29:37.712Z"
   },
   {
    "duration": 5575,
    "start_time": "2021-08-16T20:30:01.708Z"
   },
   {
    "duration": 522,
    "start_time": "2021-08-16T20:30:07.285Z"
   },
   {
    "duration": 2009,
    "start_time": "2021-08-16T20:30:07.809Z"
   },
   {
    "duration": 179,
    "start_time": "2021-08-16T20:30:09.820Z"
   },
   {
    "duration": 91,
    "start_time": "2021-08-16T20:30:10.000Z"
   },
   {
    "duration": 22912,
    "start_time": "2021-08-16T20:30:10.099Z"
   },
   {
    "duration": 91,
    "start_time": "2021-08-16T20:30:33.013Z"
   },
   {
    "duration": 429,
    "start_time": "2021-08-16T20:30:33.106Z"
   },
   {
    "duration": 5675,
    "start_time": "2021-08-16T20:30:33.537Z"
   },
   {
    "duration": 6454,
    "start_time": "2021-08-16T21:48:09.600Z"
   },
   {
    "duration": 1459,
    "start_time": "2021-08-16T21:49:02.735Z"
   },
   {
    "duration": 1514,
    "start_time": "2021-08-16T21:49:43.190Z"
   },
   {
    "duration": 498,
    "start_time": "2021-08-16T21:50:04.948Z"
   },
   {
    "duration": 10,
    "start_time": "2021-08-16T21:50:06.659Z"
   },
   {
    "duration": 27,
    "start_time": "2021-08-16T21:50:09.846Z"
   },
   {
    "duration": 1320,
    "start_time": "2021-08-16T21:50:31.883Z"
   },
   {
    "duration": 1335,
    "start_time": "2021-08-16T21:51:04.462Z"
   },
   {
    "duration": 5768,
    "start_time": "2021-08-16T21:52:01.826Z"
   },
   {
    "duration": 9,
    "start_time": "2021-08-16T21:52:07.597Z"
   },
   {
    "duration": 10,
    "start_time": "2021-08-16T21:52:09.996Z"
   },
   {
    "duration": 390,
    "start_time": "2021-08-16T21:52:24.814Z"
   },
   {
    "duration": 1598,
    "start_time": "2021-08-16T21:52:27.397Z"
   },
   {
    "duration": 397,
    "start_time": "2021-08-16T21:52:50.407Z"
   },
   {
    "duration": 1524,
    "start_time": "2021-08-16T21:53:01.460Z"
   },
   {
    "duration": 1439,
    "start_time": "2021-08-16T21:53:24.962Z"
   },
   {
    "duration": 2054,
    "start_time": "2021-08-16T21:54:49.515Z"
   },
   {
    "duration": 1484,
    "start_time": "2021-08-16T21:55:05.805Z"
   },
   {
    "duration": 1514,
    "start_time": "2021-08-16T21:55:16.979Z"
   },
   {
    "duration": 3110,
    "start_time": "2021-08-16T21:55:46.881Z"
   },
   {
    "duration": 9,
    "start_time": "2021-08-16T22:05:12.303Z"
   },
   {
    "duration": 231,
    "start_time": "2021-08-16T22:05:36.789Z"
   },
   {
    "duration": 239,
    "start_time": "2021-08-16T22:10:16.547Z"
   },
   {
    "duration": 226,
    "start_time": "2021-08-16T22:10:22.754Z"
   },
   {
    "duration": 492,
    "start_time": "2021-08-16T22:11:19.858Z"
   },
   {
    "duration": 555,
    "start_time": "2021-08-16T22:11:27.401Z"
   },
   {
    "duration": 261,
    "start_time": "2021-08-16T22:11:44.513Z"
   },
   {
    "duration": 259,
    "start_time": "2021-08-16T22:12:16.814Z"
   },
   {
    "duration": 9,
    "start_time": "2021-08-16T22:12:23.111Z"
   },
   {
    "duration": 258,
    "start_time": "2021-08-16T22:12:25.167Z"
   },
   {
    "duration": 5588,
    "start_time": "2021-08-16T22:13:25.065Z"
   },
   {
    "duration": 10,
    "start_time": "2021-08-16T22:13:34.785Z"
   },
   {
    "duration": 261,
    "start_time": "2021-08-16T22:14:00.359Z"
   },
   {
    "duration": 9,
    "start_time": "2021-08-16T22:15:38.846Z"
   },
   {
    "duration": 173,
    "start_time": "2021-08-16T22:15:52.557Z"
   },
   {
    "duration": 443,
    "start_time": "2021-08-16T22:16:26.429Z"
   },
   {
    "duration": 172,
    "start_time": "2021-08-16T22:16:36.062Z"
   },
   {
    "duration": 245,
    "start_time": "2021-08-16T22:17:31.796Z"
   },
   {
    "duration": 9,
    "start_time": "2021-08-16T22:17:49.230Z"
   },
   {
    "duration": 231,
    "start_time": "2021-08-16T22:17:51.957Z"
   },
   {
    "duration": 176,
    "start_time": "2021-08-16T22:18:02.149Z"
   },
   {
    "duration": 242,
    "start_time": "2021-08-16T22:18:43.918Z"
   },
   {
    "duration": 224,
    "start_time": "2021-08-16T22:18:51.909Z"
   },
   {
    "duration": 240,
    "start_time": "2021-08-16T22:19:14.263Z"
   },
   {
    "duration": 236,
    "start_time": "2021-08-16T22:19:27.212Z"
   },
   {
    "duration": 10,
    "start_time": "2021-08-16T22:20:07.996Z"
   },
   {
    "duration": 235,
    "start_time": "2021-08-16T22:20:21.724Z"
   },
   {
    "duration": 232,
    "start_time": "2021-08-16T22:20:28.309Z"
   },
   {
    "duration": 9,
    "start_time": "2021-08-16T22:20:45.045Z"
   },
   {
    "duration": 174,
    "start_time": "2021-08-16T22:21:01.411Z"
   },
   {
    "duration": 166,
    "start_time": "2021-08-16T22:21:48.555Z"
   },
   {
    "duration": 271,
    "start_time": "2021-08-16T22:22:09.703Z"
   },
   {
    "duration": 336,
    "start_time": "2021-08-16T22:22:14.012Z"
   },
   {
    "duration": 202,
    "start_time": "2021-08-16T22:22:19.315Z"
   },
   {
    "duration": 208,
    "start_time": "2021-08-16T22:22:33.115Z"
   },
   {
    "duration": 5488,
    "start_time": "2021-08-16T22:37:31.608Z"
   },
   {
    "duration": 8,
    "start_time": "2021-08-16T22:37:37.098Z"
   },
   {
    "duration": 10,
    "start_time": "2021-08-16T22:37:48.303Z"
   },
   {
    "duration": 225,
    "start_time": "2021-08-16T22:37:49.984Z"
   },
   {
    "duration": 2931,
    "start_time": "2021-08-16T22:46:25.667Z"
   },
   {
    "duration": 3024,
    "start_time": "2021-08-16T22:46:43.370Z"
   }
  ],
  "kernelspec": {
   "display_name": "Python 3 (ipykernel)",
   "language": "python",
   "name": "python3"
  },
  "language_info": {
   "codemirror_mode": {
    "name": "ipython",
    "version": 3
   },
   "file_extension": ".py",
   "mimetype": "text/x-python",
   "name": "python",
   "nbconvert_exporter": "python",
   "pygments_lexer": "ipython3",
   "version": "3.9.5"
  },
  "toc": {
   "base_numbering": 1,
   "nav_menu": {},
   "number_sections": true,
   "sideBar": true,
   "skip_h1_title": true,
   "title_cell": "Table of Contents",
   "title_sidebar": "Contents",
   "toc_cell": false,
   "toc_position": {
    "height": "calc(100% - 180px)",
    "left": "10px",
    "top": "150px",
    "width": "366.391px"
   },
   "toc_section_display": true,
   "toc_window_display": true
  }
 },
 "nbformat": 4,
 "nbformat_minor": 2
}
