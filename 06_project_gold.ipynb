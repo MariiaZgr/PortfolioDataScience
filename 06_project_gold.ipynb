{
 "cells": [
  {
   "cell_type": "markdown",
   "metadata": {
    "toc": true
   },
   "source": [
    "<h1>Содержание<span class=\"tocSkip\"></span></h1>\n",
    "<div class=\"toc\"><ul class=\"toc-item\"><li><span><a href=\"#Подготовка-данных\" data-toc-modified-id=\"Подготовка-данных-1\"><span class=\"toc-item-num\">1&nbsp;&nbsp;</span>Подготовка данных</a></span><ul class=\"toc-item\"><li><span><a href=\"#Изучение-файлов\" data-toc-modified-id=\"Изучение-файлов-1.1\"><span class=\"toc-item-num\">1.1&nbsp;&nbsp;</span>Изучение файлов</a></span></li><li><span><a href=\"#Расчет-эффективности\" data-toc-modified-id=\"Расчет-эффективности-1.2\"><span class=\"toc-item-num\">1.2&nbsp;&nbsp;</span>Расчет эффективности</a></span></li><li><span><a href=\"#Анализ-признаков\" data-toc-modified-id=\"Анализ-признаков-1.3\"><span class=\"toc-item-num\">1.3&nbsp;&nbsp;</span>Анализ признаков</a></span></li><li><span><a href=\"#Предобработка-данных.\" data-toc-modified-id=\"Предобработка-данных.-1.4\"><span class=\"toc-item-num\">1.4&nbsp;&nbsp;</span>Предобработка данных.</a></span></li></ul></li><li><span><a href=\"#Анализ-данных\" data-toc-modified-id=\"Анализ-данных-2\"><span class=\"toc-item-num\">2&nbsp;&nbsp;</span>Анализ данных</a></span><ul class=\"toc-item\"><li><span><a href=\"#Посмотрите,-как-меняется-концентрация-металлов-(Au,-Ag,-Pb)-на-различных-этапах-очистки.-Опишите-выводы\" data-toc-modified-id=\"Посмотрите,-как-меняется-концентрация-металлов-(Au,-Ag,-Pb)-на-различных-этапах-очистки.-Опишите-выводы-2.1\"><span class=\"toc-item-num\">2.1&nbsp;&nbsp;</span>Посмотрите, как меняется концентрация металлов (Au, Ag, Pb) на различных этапах очистки. Опишите выводы</a></span></li><li><span><a href=\"#Сравните-распределения-размеров-гранул-сырья-на-обучающей-и-тестовой-выборках.\" data-toc-modified-id=\"Сравните-распределения-размеров-гранул-сырья-на-обучающей-и-тестовой-выборках.-2.2\"><span class=\"toc-item-num\">2.2&nbsp;&nbsp;</span>Сравните распределения размеров гранул сырья на обучающей и тестовой выборках.</a></span></li><li><span><a href=\"#Исследуйте-суммарную-концентрацию-всех-веществ-на-разных-стадиях:-в-сырье,-в-черновом-и-финальном-концентратах.\" data-toc-modified-id=\"Исследуйте-суммарную-концентрацию-всех-веществ-на-разных-стадиях:-в-сырье,-в-черновом-и-финальном-концентратах.-2.3\"><span class=\"toc-item-num\">2.3&nbsp;&nbsp;</span>Исследуйте суммарную концентрацию всех веществ на разных стадиях: в сырье, в черновом и финальном концентратах.</a></span></li></ul></li><li><span><a href=\"#Модель\" data-toc-modified-id=\"Модель-3\"><span class=\"toc-item-num\">3&nbsp;&nbsp;</span>Модель</a></span><ul class=\"toc-item\"><li><span><a href=\"#Функция-для-вычисления-итоговой-sMAPE.\" data-toc-modified-id=\"Функция-для-вычисления-итоговой-sMAPE.-3.1\"><span class=\"toc-item-num\">3.1&nbsp;&nbsp;</span>Функция для вычисления итоговой sMAPE.</a></span></li><li><span><a href=\"#Обучите-разные-модели-и-оцените-их-качество-кросс-валидацией.-Выберите-лучшую-модель-и-проверьте-её-на-тестовой-выборке.\" data-toc-modified-id=\"Обучите-разные-модели-и-оцените-их-качество-кросс-валидацией.-Выберите-лучшую-модель-и-проверьте-её-на-тестовой-выборке.-3.2\"><span class=\"toc-item-num\">3.2&nbsp;&nbsp;</span>Обучите разные модели и оцените их качество кросс-валидацией. Выберите лучшую модель и проверьте её на тестовой выборке.</a></span></li><li><span><a href=\"#Проверка-модели-на-тестовой-выборке\" data-toc-modified-id=\"Проверка-модели-на-тестовой-выборке-3.3\"><span class=\"toc-item-num\">3.3&nbsp;&nbsp;</span>Проверка модели на тестовой выборке</a></span></li></ul></li><li><span><a href=\"#Общий-вывод\" data-toc-modified-id=\"Общий-вывод-4\"><span class=\"toc-item-num\">4&nbsp;&nbsp;</span>Общий вывод</a></span></li><li><span><a href=\"#Чек-лист-готовности-проекта\" data-toc-modified-id=\"Чек-лист-готовности-проекта-5\"><span class=\"toc-item-num\">5&nbsp;&nbsp;</span>Чек-лист готовности проекта</a></span></li></ul></div>"
   ]
  },
  {
   "cell_type": "markdown",
   "metadata": {},
   "source": [
    "# Восстановление золота из руды"
   ]
  },
  {
   "cell_type": "markdown",
   "metadata": {},
   "source": [
    "Подготовьте прототип модели машинного обучения для «Цифры». Компания разрабатывает решения для эффективной работы промышленных предприятий.\n",
    "\n",
    "Модель должна предсказать коэффициент восстановления золота из золотосодержащей руды. Используйте данные с параметрами добычи и очистки. \n",
    "\n",
    "Модель поможет оптимизировать производство, чтобы не запускать предприятие с убыточными характеристиками.\n",
    "\n",
    "Вам нужно:\n",
    "\n",
    "1. Подготовить данные;\n",
    "2. Провести исследовательский анализ данных;\n",
    "3. Построить и обучить модель.\n",
    "\n",
    "Чтобы выполнить проект, обращайтесь к библиотекам *pandas*, *matplotlib* и *sklearn.* Вам поможет их документация."
   ]
  },
  {
   "cell_type": "markdown",
   "metadata": {},
   "source": [
    "## Подготовка данных"
   ]
  },
  {
   "cell_type": "code",
   "execution_count": 1,
   "metadata": {},
   "outputs": [],
   "source": [
    "import pandas as pd\n",
    "import numpy as np\n",
    "\n",
    "from sklearn.linear_model import LinearRegression\n",
    "from sklearn.model_selection import train_test_split\n",
    "from sklearn.metrics import mean_squared_error\n",
    "from scipy import stats as st\n",
    "from sklearn.metrics import roc_auc_score, roc_curve, precision_recall_curve, mean_absolute_error, make_scorer\n",
    "\n",
    "from sklearn.pipeline import  make_pipeline\n",
    "from sklearn.ensemble import RandomForestRegressor\n",
    "from sklearn.preprocessing import StandardScaler\n",
    "from sklearn.model_selection import cross_val_score\n",
    "from sklearn.model_selection import GridSearchCV\n",
    "from sklearn.preprocessing import PolynomialFeatures\n",
    "from sklearn.linear_model import LinearRegression\n",
    "from sklearn.tree import DecisionTreeRegressor\n",
    "from sklearn.dummy import DummyRegressor\n",
    "\n",
    "\n",
    "import matplotlib.pyplot as plt\n",
    "import seaborn as sns\n",
    "sns.set(style=\"whitegrid\")\n",
    "\n",
    "import warnings\n",
    "warnings.filterwarnings('ignore')"
   ]
  },
  {
   "cell_type": "markdown",
   "metadata": {},
   "source": [
    "**Описание данных <br>**\n",
    "Технологический процесс<br>\n",
    "Rougher feed — исходное сырье<br>\n",
    "Rougher additions (или reagent additions) — флотационные реагенты: Xanthate, Sulphate, Depressant<br>\n",
    "Xanthate — ксантогенат (промотер, или активатор флотации);<br>\n",
    "Sulphate — сульфат (на данном производстве сульфид натрия);<br>\n",
    "Depressant — депрессант (силикат натрия).<br>\n",
    "Rougher process (англ. «грубый процесс») — флотация<br>\n",
    "Rougher tails — отвальные хвосты<br>\n",
    "Float banks — флотационная установка<br>\n",
    "Cleaner process — очистка<br>\n",
    "Rougher Au — черновой концентрат золота<br>\n",
    "Final Au — финальный концентрат золота<br>\n",
    "\n",
    "**Параметры этапов<br>**\n",
    "air amount — объём воздуха<br>\n",
    "fluid levels — уровень жидкости<br>\n",
    "feed size — размер гранул сырья<br>\n",
    "feed rate — скорость подачи<br>\n",
    "\n",
    "**Возможные значения для блока [этап]:<br>**\n",
    "rougher — флотация<br>\n",
    "primary_cleaner — первичная очистка<br>\n",
    "secondary_cleaner — вторичная очистка<br>\n",
    "final — финальные характеристики<br>\n",
    "\n",
    "**Возможные значения для блока [тип_параметра]:<br>**\n",
    "input — параметры сырья<br>\n",
    "output — параметры продукта<br>\n",
    "state — параметры, характеризующие текущее состояние этапа<br>\n",
    "calculation — расчётные характеристики<br>"
   ]
  },
  {
   "cell_type": "markdown",
   "metadata": {},
   "source": [
    "**План выполнения проекта**<br>\n",
    "\n",
    "- Рассчитаем эффективность процесса восстановления золота из золотосодержащей руды recovery<br>\n",
    "- Рассчитаем метрику качества sMAPE<br>\n",
    "\n",
    "Нужно спрогнозировать сразу две величины:<br>\n",
    "- эффективность обогащения чернового концентрата rougher.output.recovery;<br>\n",
    "- эффективность обогащения финального концентрата final.output.recovery.<br>"
   ]
  },
  {
   "cell_type": "markdown",
   "metadata": {},
   "source": [
    "### Изучение файлов ###"
   ]
  },
  {
   "cell_type": "markdown",
   "metadata": {},
   "source": [
    "Изучим данные таблиц."
   ]
  },
  {
   "cell_type": "code",
   "execution_count": 2,
   "metadata": {},
   "outputs": [],
   "source": [
    "gold_recovery_train = pd.read_csv('/datasets/gold_recovery_train_new.csv') # обучающая выборка"
   ]
  },
  {
   "cell_type": "code",
   "execution_count": 3,
   "metadata": {},
   "outputs": [],
   "source": [
    "gold_recovery_test = pd.read_csv('/datasets/gold_recovery_test_new.csv')  #тестовая выборка"
   ]
  },
  {
   "cell_type": "code",
   "execution_count": 4,
   "metadata": {},
   "outputs": [],
   "source": [
    "gold_recovery_full = pd.read_csv('/datasets/gold_recovery_full_new.csv') #исходные данные"
   ]
  },
  {
   "cell_type": "code",
   "execution_count": 5,
   "metadata": {},
   "outputs": [
    {
     "name": "stdout",
     "output_type": "stream",
     "text": [
      "(14149, 87)\n",
      "(5290, 53)\n",
      "(19439, 87)\n"
     ]
    }
   ],
   "source": [
    "print(gold_recovery_train.shape)\n",
    "print(gold_recovery_test.shape)\n",
    "print(gold_recovery_full.shape)"
   ]
  },
  {
   "cell_type": "code",
   "execution_count": 6,
   "metadata": {},
   "outputs": [
    {
     "name": "stdout",
     "output_type": "stream",
     "text": [
      "<class 'pandas.core.frame.DataFrame'>\n",
      "RangeIndex: 14149 entries, 0 to 14148\n",
      "Data columns (total 87 columns):\n",
      "date                                                  14149 non-null object\n",
      "final.output.concentrate_ag                           14148 non-null float64\n",
      "final.output.concentrate_pb                           14148 non-null float64\n",
      "final.output.concentrate_sol                          13938 non-null float64\n",
      "final.output.concentrate_au                           14149 non-null float64\n",
      "final.output.recovery                                 14149 non-null float64\n",
      "final.output.tail_ag                                  14149 non-null float64\n",
      "final.output.tail_pb                                  14049 non-null float64\n",
      "final.output.tail_sol                                 14144 non-null float64\n",
      "final.output.tail_au                                  14149 non-null float64\n",
      "primary_cleaner.input.sulfate                         14129 non-null float64\n",
      "primary_cleaner.input.depressant                      14117 non-null float64\n",
      "primary_cleaner.input.feed_size                       14149 non-null float64\n",
      "primary_cleaner.input.xanthate                        14049 non-null float64\n",
      "primary_cleaner.output.concentrate_ag                 14149 non-null float64\n",
      "primary_cleaner.output.concentrate_pb                 14063 non-null float64\n",
      "primary_cleaner.output.concentrate_sol                13863 non-null float64\n",
      "primary_cleaner.output.concentrate_au                 14149 non-null float64\n",
      "primary_cleaner.output.tail_ag                        14148 non-null float64\n",
      "primary_cleaner.output.tail_pb                        14134 non-null float64\n",
      "primary_cleaner.output.tail_sol                       14103 non-null float64\n",
      "primary_cleaner.output.tail_au                        14149 non-null float64\n",
      "primary_cleaner.state.floatbank8_a_air                14145 non-null float64\n",
      "primary_cleaner.state.floatbank8_a_level              14148 non-null float64\n",
      "primary_cleaner.state.floatbank8_b_air                14145 non-null float64\n",
      "primary_cleaner.state.floatbank8_b_level              14148 non-null float64\n",
      "primary_cleaner.state.floatbank8_c_air                14147 non-null float64\n",
      "primary_cleaner.state.floatbank8_c_level              14148 non-null float64\n",
      "primary_cleaner.state.floatbank8_d_air                14146 non-null float64\n",
      "primary_cleaner.state.floatbank8_d_level              14148 non-null float64\n",
      "rougher.calculation.sulfate_to_au_concentrate         14148 non-null float64\n",
      "rougher.calculation.floatbank10_sulfate_to_au_feed    14148 non-null float64\n",
      "rougher.calculation.floatbank11_sulfate_to_au_feed    14148 non-null float64\n",
      "rougher.calculation.au_pb_ratio                       14149 non-null float64\n",
      "rougher.input.feed_ag                                 14149 non-null float64\n",
      "rougher.input.feed_pb                                 14049 non-null float64\n",
      "rougher.input.feed_rate                               14141 non-null float64\n",
      "rougher.input.feed_size                               14005 non-null float64\n",
      "rougher.input.feed_sol                                14071 non-null float64\n",
      "rougher.input.feed_au                                 14149 non-null float64\n",
      "rougher.input.floatbank10_sulfate                     14120 non-null float64\n",
      "rougher.input.floatbank10_xanthate                    14141 non-null float64\n",
      "rougher.input.floatbank11_sulfate                     14113 non-null float64\n",
      "rougher.input.floatbank11_xanthate                    13721 non-null float64\n",
      "rougher.output.concentrate_ag                         14149 non-null float64\n",
      "rougher.output.concentrate_pb                         14149 non-null float64\n",
      "rougher.output.concentrate_sol                        14127 non-null float64\n",
      "rougher.output.concentrate_au                         14149 non-null float64\n",
      "rougher.output.recovery                               14149 non-null float64\n",
      "rougher.output.tail_ag                                14148 non-null float64\n",
      "rougher.output.tail_pb                                14149 non-null float64\n",
      "rougher.output.tail_sol                               14149 non-null float64\n",
      "rougher.output.tail_au                                14149 non-null float64\n",
      "rougher.state.floatbank10_a_air                       14148 non-null float64\n",
      "rougher.state.floatbank10_a_level                     14148 non-null float64\n",
      "rougher.state.floatbank10_b_air                       14148 non-null float64\n",
      "rougher.state.floatbank10_b_level                     14148 non-null float64\n",
      "rougher.state.floatbank10_c_air                       14148 non-null float64\n",
      "rougher.state.floatbank10_c_level                     14148 non-null float64\n",
      "rougher.state.floatbank10_d_air                       14149 non-null float64\n",
      "rougher.state.floatbank10_d_level                     14149 non-null float64\n",
      "rougher.state.floatbank10_e_air                       13713 non-null float64\n",
      "rougher.state.floatbank10_e_level                     14149 non-null float64\n",
      "rougher.state.floatbank10_f_air                       14149 non-null float64\n",
      "rougher.state.floatbank10_f_level                     14149 non-null float64\n",
      "secondary_cleaner.output.tail_ag                      14147 non-null float64\n",
      "secondary_cleaner.output.tail_pb                      14139 non-null float64\n",
      "secondary_cleaner.output.tail_sol                     12544 non-null float64\n",
      "secondary_cleaner.output.tail_au                      14149 non-null float64\n",
      "secondary_cleaner.state.floatbank2_a_air              13932 non-null float64\n",
      "secondary_cleaner.state.floatbank2_a_level            14148 non-null float64\n",
      "secondary_cleaner.state.floatbank2_b_air              14128 non-null float64\n",
      "secondary_cleaner.state.floatbank2_b_level            14148 non-null float64\n",
      "secondary_cleaner.state.floatbank3_a_air              14145 non-null float64\n",
      "secondary_cleaner.state.floatbank3_a_level            14148 non-null float64\n",
      "secondary_cleaner.state.floatbank3_b_air              14148 non-null float64\n",
      "secondary_cleaner.state.floatbank3_b_level            14148 non-null float64\n",
      "secondary_cleaner.state.floatbank4_a_air              14143 non-null float64\n",
      "secondary_cleaner.state.floatbank4_a_level            14148 non-null float64\n",
      "secondary_cleaner.state.floatbank4_b_air              14148 non-null float64\n",
      "secondary_cleaner.state.floatbank4_b_level            14148 non-null float64\n",
      "secondary_cleaner.state.floatbank5_a_air              14148 non-null float64\n",
      "secondary_cleaner.state.floatbank5_a_level            14148 non-null float64\n",
      "secondary_cleaner.state.floatbank5_b_air              14148 non-null float64\n",
      "secondary_cleaner.state.floatbank5_b_level            14148 non-null float64\n",
      "secondary_cleaner.state.floatbank6_a_air              14147 non-null float64\n",
      "secondary_cleaner.state.floatbank6_a_level            14148 non-null float64\n",
      "dtypes: float64(86), object(1)\n",
      "memory usage: 9.4+ MB\n"
     ]
    }
   ],
   "source": [
    "gold_recovery_train.info()"
   ]
  },
  {
   "cell_type": "code",
   "execution_count": 7,
   "metadata": {},
   "outputs": [
    {
     "name": "stdout",
     "output_type": "stream",
     "text": [
      "<class 'pandas.core.frame.DataFrame'>\n",
      "RangeIndex: 5290 entries, 0 to 5289\n",
      "Data columns (total 53 columns):\n",
      "date                                          5290 non-null object\n",
      "primary_cleaner.input.sulfate                 5286 non-null float64\n",
      "primary_cleaner.input.depressant              5285 non-null float64\n",
      "primary_cleaner.input.feed_size               5290 non-null float64\n",
      "primary_cleaner.input.xanthate                5286 non-null float64\n",
      "primary_cleaner.state.floatbank8_a_air        5290 non-null float64\n",
      "primary_cleaner.state.floatbank8_a_level      5290 non-null float64\n",
      "primary_cleaner.state.floatbank8_b_air        5290 non-null float64\n",
      "primary_cleaner.state.floatbank8_b_level      5290 non-null float64\n",
      "primary_cleaner.state.floatbank8_c_air        5290 non-null float64\n",
      "primary_cleaner.state.floatbank8_c_level      5290 non-null float64\n",
      "primary_cleaner.state.floatbank8_d_air        5290 non-null float64\n",
      "primary_cleaner.state.floatbank8_d_level      5290 non-null float64\n",
      "rougher.input.feed_ag                         5290 non-null float64\n",
      "rougher.input.feed_pb                         5290 non-null float64\n",
      "rougher.input.feed_rate                       5287 non-null float64\n",
      "rougher.input.feed_size                       5289 non-null float64\n",
      "rougher.input.feed_sol                        5269 non-null float64\n",
      "rougher.input.feed_au                         5290 non-null float64\n",
      "rougher.input.floatbank10_sulfate             5285 non-null float64\n",
      "rougher.input.floatbank10_xanthate            5290 non-null float64\n",
      "rougher.input.floatbank11_sulfate             5282 non-null float64\n",
      "rougher.input.floatbank11_xanthate            5265 non-null float64\n",
      "rougher.state.floatbank10_a_air               5290 non-null float64\n",
      "rougher.state.floatbank10_a_level             5290 non-null float64\n",
      "rougher.state.floatbank10_b_air               5290 non-null float64\n",
      "rougher.state.floatbank10_b_level             5290 non-null float64\n",
      "rougher.state.floatbank10_c_air               5290 non-null float64\n",
      "rougher.state.floatbank10_c_level             5290 non-null float64\n",
      "rougher.state.floatbank10_d_air               5290 non-null float64\n",
      "rougher.state.floatbank10_d_level             5290 non-null float64\n",
      "rougher.state.floatbank10_e_air               5290 non-null float64\n",
      "rougher.state.floatbank10_e_level             5290 non-null float64\n",
      "rougher.state.floatbank10_f_air               5290 non-null float64\n",
      "rougher.state.floatbank10_f_level             5290 non-null float64\n",
      "secondary_cleaner.state.floatbank2_a_air      5287 non-null float64\n",
      "secondary_cleaner.state.floatbank2_a_level    5290 non-null float64\n",
      "secondary_cleaner.state.floatbank2_b_air      5288 non-null float64\n",
      "secondary_cleaner.state.floatbank2_b_level    5290 non-null float64\n",
      "secondary_cleaner.state.floatbank3_a_air      5281 non-null float64\n",
      "secondary_cleaner.state.floatbank3_a_level    5290 non-null float64\n",
      "secondary_cleaner.state.floatbank3_b_air      5290 non-null float64\n",
      "secondary_cleaner.state.floatbank3_b_level    5290 non-null float64\n",
      "secondary_cleaner.state.floatbank4_a_air      5290 non-null float64\n",
      "secondary_cleaner.state.floatbank4_a_level    5290 non-null float64\n",
      "secondary_cleaner.state.floatbank4_b_air      5290 non-null float64\n",
      "secondary_cleaner.state.floatbank4_b_level    5290 non-null float64\n",
      "secondary_cleaner.state.floatbank5_a_air      5290 non-null float64\n",
      "secondary_cleaner.state.floatbank5_a_level    5290 non-null float64\n",
      "secondary_cleaner.state.floatbank5_b_air      5290 non-null float64\n",
      "secondary_cleaner.state.floatbank5_b_level    5290 non-null float64\n",
      "secondary_cleaner.state.floatbank6_a_air      5290 non-null float64\n",
      "secondary_cleaner.state.floatbank6_a_level    5290 non-null float64\n",
      "dtypes: float64(52), object(1)\n",
      "memory usage: 2.1+ MB\n"
     ]
    }
   ],
   "source": [
    "gold_recovery_test.info()"
   ]
  },
  {
   "cell_type": "code",
   "execution_count": 8,
   "metadata": {},
   "outputs": [
    {
     "name": "stdout",
     "output_type": "stream",
     "text": [
      "<class 'pandas.core.frame.DataFrame'>\n",
      "RangeIndex: 19439 entries, 0 to 19438\n",
      "Data columns (total 87 columns):\n",
      "date                                                  19439 non-null object\n",
      "final.output.concentrate_ag                           19438 non-null float64\n",
      "final.output.concentrate_pb                           19438 non-null float64\n",
      "final.output.concentrate_sol                          19228 non-null float64\n",
      "final.output.concentrate_au                           19439 non-null float64\n",
      "final.output.recovery                                 19439 non-null float64\n",
      "final.output.tail_ag                                  19438 non-null float64\n",
      "final.output.tail_pb                                  19338 non-null float64\n",
      "final.output.tail_sol                                 19433 non-null float64\n",
      "final.output.tail_au                                  19439 non-null float64\n",
      "primary_cleaner.input.sulfate                         19415 non-null float64\n",
      "primary_cleaner.input.depressant                      19402 non-null float64\n",
      "primary_cleaner.input.feed_size                       19439 non-null float64\n",
      "primary_cleaner.input.xanthate                        19335 non-null float64\n",
      "primary_cleaner.output.concentrate_ag                 19439 non-null float64\n",
      "primary_cleaner.output.concentrate_pb                 19323 non-null float64\n",
      "primary_cleaner.output.concentrate_sol                19069 non-null float64\n",
      "primary_cleaner.output.concentrate_au                 19439 non-null float64\n",
      "primary_cleaner.output.tail_ag                        19435 non-null float64\n",
      "primary_cleaner.output.tail_pb                        19418 non-null float64\n",
      "primary_cleaner.output.tail_sol                       19377 non-null float64\n",
      "primary_cleaner.output.tail_au                        19439 non-null float64\n",
      "primary_cleaner.state.floatbank8_a_air                19435 non-null float64\n",
      "primary_cleaner.state.floatbank8_a_level              19438 non-null float64\n",
      "primary_cleaner.state.floatbank8_b_air                19435 non-null float64\n",
      "primary_cleaner.state.floatbank8_b_level              19438 non-null float64\n",
      "primary_cleaner.state.floatbank8_c_air                19437 non-null float64\n",
      "primary_cleaner.state.floatbank8_c_level              19438 non-null float64\n",
      "primary_cleaner.state.floatbank8_d_air                19436 non-null float64\n",
      "primary_cleaner.state.floatbank8_d_level              19438 non-null float64\n",
      "rougher.calculation.sulfate_to_au_concentrate         19437 non-null float64\n",
      "rougher.calculation.floatbank10_sulfate_to_au_feed    19437 non-null float64\n",
      "rougher.calculation.floatbank11_sulfate_to_au_feed    19437 non-null float64\n",
      "rougher.calculation.au_pb_ratio                       19439 non-null float64\n",
      "rougher.input.feed_ag                                 19439 non-null float64\n",
      "rougher.input.feed_pb                                 19339 non-null float64\n",
      "rougher.input.feed_rate                               19428 non-null float64\n",
      "rougher.input.feed_size                               19294 non-null float64\n",
      "rougher.input.feed_sol                                19340 non-null float64\n",
      "rougher.input.feed_au                                 19439 non-null float64\n",
      "rougher.input.floatbank10_sulfate                     19405 non-null float64\n",
      "rougher.input.floatbank10_xanthate                    19431 non-null float64\n",
      "rougher.input.floatbank11_sulfate                     19395 non-null float64\n",
      "rougher.input.floatbank11_xanthate                    18986 non-null float64\n",
      "rougher.output.concentrate_ag                         19439 non-null float64\n",
      "rougher.output.concentrate_pb                         19439 non-null float64\n",
      "rougher.output.concentrate_sol                        19416 non-null float64\n",
      "rougher.output.concentrate_au                         19439 non-null float64\n",
      "rougher.output.recovery                               19439 non-null float64\n",
      "rougher.output.tail_ag                                19438 non-null float64\n",
      "rougher.output.tail_pb                                19439 non-null float64\n",
      "rougher.output.tail_sol                               19439 non-null float64\n",
      "rougher.output.tail_au                                19439 non-null float64\n",
      "rougher.state.floatbank10_a_air                       19438 non-null float64\n",
      "rougher.state.floatbank10_a_level                     19438 non-null float64\n",
      "rougher.state.floatbank10_b_air                       19438 non-null float64\n",
      "rougher.state.floatbank10_b_level                     19438 non-null float64\n",
      "rougher.state.floatbank10_c_air                       19438 non-null float64\n",
      "rougher.state.floatbank10_c_level                     19438 non-null float64\n",
      "rougher.state.floatbank10_d_air                       19439 non-null float64\n",
      "rougher.state.floatbank10_d_level                     19439 non-null float64\n",
      "rougher.state.floatbank10_e_air                       19003 non-null float64\n",
      "rougher.state.floatbank10_e_level                     19439 non-null float64\n",
      "rougher.state.floatbank10_f_air                       19439 non-null float64\n",
      "rougher.state.floatbank10_f_level                     19439 non-null float64\n",
      "secondary_cleaner.output.tail_ag                      19437 non-null float64\n",
      "secondary_cleaner.output.tail_pb                      19427 non-null float64\n",
      "secondary_cleaner.output.tail_sol                     17691 non-null float64\n",
      "secondary_cleaner.output.tail_au                      19439 non-null float64\n",
      "secondary_cleaner.state.floatbank2_a_air              19219 non-null float64\n",
      "secondary_cleaner.state.floatbank2_a_level            19438 non-null float64\n",
      "secondary_cleaner.state.floatbank2_b_air              19416 non-null float64\n",
      "secondary_cleaner.state.floatbank2_b_level            19438 non-null float64\n",
      "secondary_cleaner.state.floatbank3_a_air              19426 non-null float64\n",
      "secondary_cleaner.state.floatbank3_a_level            19438 non-null float64\n",
      "secondary_cleaner.state.floatbank3_b_air              19438 non-null float64\n",
      "secondary_cleaner.state.floatbank3_b_level            19438 non-null float64\n",
      "secondary_cleaner.state.floatbank4_a_air              19433 non-null float64\n",
      "secondary_cleaner.state.floatbank4_a_level            19438 non-null float64\n",
      "secondary_cleaner.state.floatbank4_b_air              19438 non-null float64\n",
      "secondary_cleaner.state.floatbank4_b_level            19438 non-null float64\n",
      "secondary_cleaner.state.floatbank5_a_air              19438 non-null float64\n",
      "secondary_cleaner.state.floatbank5_a_level            19438 non-null float64\n",
      "secondary_cleaner.state.floatbank5_b_air              19438 non-null float64\n",
      "secondary_cleaner.state.floatbank5_b_level            19438 non-null float64\n",
      "secondary_cleaner.state.floatbank6_a_air              19437 non-null float64\n",
      "secondary_cleaner.state.floatbank6_a_level            19438 non-null float64\n",
      "dtypes: float64(86), object(1)\n",
      "memory usage: 12.9+ MB\n"
     ]
    }
   ],
   "source": [
    "gold_recovery_full.info()"
   ]
  },
  {
   "cell_type": "markdown",
   "metadata": {},
   "source": [
    "Рассмотрим первые пять строк"
   ]
  },
  {
   "cell_type": "code",
   "execution_count": 9,
   "metadata": {},
   "outputs": [
    {
     "data": {
      "text/html": [
       "<div>\n",
       "<style scoped>\n",
       "    .dataframe tbody tr th:only-of-type {\n",
       "        vertical-align: middle;\n",
       "    }\n",
       "\n",
       "    .dataframe tbody tr th {\n",
       "        vertical-align: top;\n",
       "    }\n",
       "\n",
       "    .dataframe thead th {\n",
       "        text-align: right;\n",
       "    }\n",
       "</style>\n",
       "<table border=\"1\" class=\"dataframe\">\n",
       "  <thead>\n",
       "    <tr style=\"text-align: right;\">\n",
       "      <th></th>\n",
       "      <th>date</th>\n",
       "      <th>final.output.concentrate_ag</th>\n",
       "      <th>final.output.concentrate_pb</th>\n",
       "      <th>final.output.concentrate_sol</th>\n",
       "      <th>final.output.concentrate_au</th>\n",
       "      <th>final.output.recovery</th>\n",
       "      <th>final.output.tail_ag</th>\n",
       "      <th>final.output.tail_pb</th>\n",
       "      <th>final.output.tail_sol</th>\n",
       "      <th>final.output.tail_au</th>\n",
       "      <th>...</th>\n",
       "      <th>secondary_cleaner.state.floatbank4_a_air</th>\n",
       "      <th>secondary_cleaner.state.floatbank4_a_level</th>\n",
       "      <th>secondary_cleaner.state.floatbank4_b_air</th>\n",
       "      <th>secondary_cleaner.state.floatbank4_b_level</th>\n",
       "      <th>secondary_cleaner.state.floatbank5_a_air</th>\n",
       "      <th>secondary_cleaner.state.floatbank5_a_level</th>\n",
       "      <th>secondary_cleaner.state.floatbank5_b_air</th>\n",
       "      <th>secondary_cleaner.state.floatbank5_b_level</th>\n",
       "      <th>secondary_cleaner.state.floatbank6_a_air</th>\n",
       "      <th>secondary_cleaner.state.floatbank6_a_level</th>\n",
       "    </tr>\n",
       "  </thead>\n",
       "  <tbody>\n",
       "    <tr>\n",
       "      <td>0</td>\n",
       "      <td>2016-01-15 00:00:00</td>\n",
       "      <td>6.055403</td>\n",
       "      <td>9.889648</td>\n",
       "      <td>5.507324</td>\n",
       "      <td>42.192020</td>\n",
       "      <td>70.541216</td>\n",
       "      <td>10.411962</td>\n",
       "      <td>0.895447</td>\n",
       "      <td>16.904297</td>\n",
       "      <td>2.143149</td>\n",
       "      <td>...</td>\n",
       "      <td>14.016835</td>\n",
       "      <td>-502.488007</td>\n",
       "      <td>12.099931</td>\n",
       "      <td>-504.715942</td>\n",
       "      <td>9.925633</td>\n",
       "      <td>-498.310211</td>\n",
       "      <td>8.079666</td>\n",
       "      <td>-500.470978</td>\n",
       "      <td>14.151341</td>\n",
       "      <td>-605.841980</td>\n",
       "    </tr>\n",
       "    <tr>\n",
       "      <td>1</td>\n",
       "      <td>2016-01-15 01:00:00</td>\n",
       "      <td>6.029369</td>\n",
       "      <td>9.968944</td>\n",
       "      <td>5.257781</td>\n",
       "      <td>42.701629</td>\n",
       "      <td>69.266198</td>\n",
       "      <td>10.462676</td>\n",
       "      <td>0.927452</td>\n",
       "      <td>16.634514</td>\n",
       "      <td>2.224930</td>\n",
       "      <td>...</td>\n",
       "      <td>13.992281</td>\n",
       "      <td>-505.503262</td>\n",
       "      <td>11.950531</td>\n",
       "      <td>-501.331529</td>\n",
       "      <td>10.039245</td>\n",
       "      <td>-500.169983</td>\n",
       "      <td>7.984757</td>\n",
       "      <td>-500.582168</td>\n",
       "      <td>13.998353</td>\n",
       "      <td>-599.787184</td>\n",
       "    </tr>\n",
       "    <tr>\n",
       "      <td>2</td>\n",
       "      <td>2016-01-15 02:00:00</td>\n",
       "      <td>6.055926</td>\n",
       "      <td>10.213995</td>\n",
       "      <td>5.383759</td>\n",
       "      <td>42.657501</td>\n",
       "      <td>68.116445</td>\n",
       "      <td>10.507046</td>\n",
       "      <td>0.953716</td>\n",
       "      <td>16.208849</td>\n",
       "      <td>2.257889</td>\n",
       "      <td>...</td>\n",
       "      <td>14.015015</td>\n",
       "      <td>-502.520901</td>\n",
       "      <td>11.912783</td>\n",
       "      <td>-501.133383</td>\n",
       "      <td>10.070913</td>\n",
       "      <td>-500.129135</td>\n",
       "      <td>8.013877</td>\n",
       "      <td>-500.517572</td>\n",
       "      <td>14.028663</td>\n",
       "      <td>-601.427363</td>\n",
       "    </tr>\n",
       "    <tr>\n",
       "      <td>3</td>\n",
       "      <td>2016-01-15 03:00:00</td>\n",
       "      <td>6.047977</td>\n",
       "      <td>9.977019</td>\n",
       "      <td>4.858634</td>\n",
       "      <td>42.689819</td>\n",
       "      <td>68.347543</td>\n",
       "      <td>10.422762</td>\n",
       "      <td>0.883763</td>\n",
       "      <td>16.532835</td>\n",
       "      <td>2.146849</td>\n",
       "      <td>...</td>\n",
       "      <td>14.036510</td>\n",
       "      <td>-500.857308</td>\n",
       "      <td>11.999550</td>\n",
       "      <td>-501.193686</td>\n",
       "      <td>9.970366</td>\n",
       "      <td>-499.201640</td>\n",
       "      <td>7.977324</td>\n",
       "      <td>-500.255908</td>\n",
       "      <td>14.005551</td>\n",
       "      <td>-599.996129</td>\n",
       "    </tr>\n",
       "    <tr>\n",
       "      <td>4</td>\n",
       "      <td>2016-01-15 04:00:00</td>\n",
       "      <td>6.148599</td>\n",
       "      <td>10.142511</td>\n",
       "      <td>4.939416</td>\n",
       "      <td>42.774141</td>\n",
       "      <td>66.927016</td>\n",
       "      <td>10.360302</td>\n",
       "      <td>0.792826</td>\n",
       "      <td>16.525686</td>\n",
       "      <td>2.055292</td>\n",
       "      <td>...</td>\n",
       "      <td>14.027298</td>\n",
       "      <td>-499.838632</td>\n",
       "      <td>11.953070</td>\n",
       "      <td>-501.053894</td>\n",
       "      <td>9.925709</td>\n",
       "      <td>-501.686727</td>\n",
       "      <td>7.894242</td>\n",
       "      <td>-500.356035</td>\n",
       "      <td>13.996647</td>\n",
       "      <td>-601.496691</td>\n",
       "    </tr>\n",
       "  </tbody>\n",
       "</table>\n",
       "<p>5 rows × 87 columns</p>\n",
       "</div>"
      ],
      "text/plain": [
       "                  date  final.output.concentrate_ag  \\\n",
       "0  2016-01-15 00:00:00                     6.055403   \n",
       "1  2016-01-15 01:00:00                     6.029369   \n",
       "2  2016-01-15 02:00:00                     6.055926   \n",
       "3  2016-01-15 03:00:00                     6.047977   \n",
       "4  2016-01-15 04:00:00                     6.148599   \n",
       "\n",
       "   final.output.concentrate_pb  final.output.concentrate_sol  \\\n",
       "0                     9.889648                      5.507324   \n",
       "1                     9.968944                      5.257781   \n",
       "2                    10.213995                      5.383759   \n",
       "3                     9.977019                      4.858634   \n",
       "4                    10.142511                      4.939416   \n",
       "\n",
       "   final.output.concentrate_au  final.output.recovery  final.output.tail_ag  \\\n",
       "0                    42.192020              70.541216             10.411962   \n",
       "1                    42.701629              69.266198             10.462676   \n",
       "2                    42.657501              68.116445             10.507046   \n",
       "3                    42.689819              68.347543             10.422762   \n",
       "4                    42.774141              66.927016             10.360302   \n",
       "\n",
       "   final.output.tail_pb  final.output.tail_sol  final.output.tail_au  ...  \\\n",
       "0              0.895447              16.904297              2.143149  ...   \n",
       "1              0.927452              16.634514              2.224930  ...   \n",
       "2              0.953716              16.208849              2.257889  ...   \n",
       "3              0.883763              16.532835              2.146849  ...   \n",
       "4              0.792826              16.525686              2.055292  ...   \n",
       "\n",
       "   secondary_cleaner.state.floatbank4_a_air  \\\n",
       "0                                 14.016835   \n",
       "1                                 13.992281   \n",
       "2                                 14.015015   \n",
       "3                                 14.036510   \n",
       "4                                 14.027298   \n",
       "\n",
       "   secondary_cleaner.state.floatbank4_a_level  \\\n",
       "0                                 -502.488007   \n",
       "1                                 -505.503262   \n",
       "2                                 -502.520901   \n",
       "3                                 -500.857308   \n",
       "4                                 -499.838632   \n",
       "\n",
       "   secondary_cleaner.state.floatbank4_b_air  \\\n",
       "0                                 12.099931   \n",
       "1                                 11.950531   \n",
       "2                                 11.912783   \n",
       "3                                 11.999550   \n",
       "4                                 11.953070   \n",
       "\n",
       "   secondary_cleaner.state.floatbank4_b_level  \\\n",
       "0                                 -504.715942   \n",
       "1                                 -501.331529   \n",
       "2                                 -501.133383   \n",
       "3                                 -501.193686   \n",
       "4                                 -501.053894   \n",
       "\n",
       "   secondary_cleaner.state.floatbank5_a_air  \\\n",
       "0                                  9.925633   \n",
       "1                                 10.039245   \n",
       "2                                 10.070913   \n",
       "3                                  9.970366   \n",
       "4                                  9.925709   \n",
       "\n",
       "   secondary_cleaner.state.floatbank5_a_level  \\\n",
       "0                                 -498.310211   \n",
       "1                                 -500.169983   \n",
       "2                                 -500.129135   \n",
       "3                                 -499.201640   \n",
       "4                                 -501.686727   \n",
       "\n",
       "   secondary_cleaner.state.floatbank5_b_air  \\\n",
       "0                                  8.079666   \n",
       "1                                  7.984757   \n",
       "2                                  8.013877   \n",
       "3                                  7.977324   \n",
       "4                                  7.894242   \n",
       "\n",
       "   secondary_cleaner.state.floatbank5_b_level  \\\n",
       "0                                 -500.470978   \n",
       "1                                 -500.582168   \n",
       "2                                 -500.517572   \n",
       "3                                 -500.255908   \n",
       "4                                 -500.356035   \n",
       "\n",
       "   secondary_cleaner.state.floatbank6_a_air  \\\n",
       "0                                 14.151341   \n",
       "1                                 13.998353   \n",
       "2                                 14.028663   \n",
       "3                                 14.005551   \n",
       "4                                 13.996647   \n",
       "\n",
       "   secondary_cleaner.state.floatbank6_a_level  \n",
       "0                                 -605.841980  \n",
       "1                                 -599.787184  \n",
       "2                                 -601.427363  \n",
       "3                                 -599.996129  \n",
       "4                                 -601.496691  \n",
       "\n",
       "[5 rows x 87 columns]"
      ]
     },
     "execution_count": 9,
     "metadata": {},
     "output_type": "execute_result"
    }
   ],
   "source": [
    "gold_recovery_train.head()"
   ]
  },
  {
   "cell_type": "markdown",
   "metadata": {},
   "source": [
    "Рассмотрим пропуски"
   ]
  },
  {
   "cell_type": "code",
   "execution_count": 10,
   "metadata": {},
   "outputs": [
    {
     "data": {
      "text/plain": [
       "secondary_cleaner.output.tail_sol                     1605\n",
       "rougher.state.floatbank10_e_air                        436\n",
       "rougher.input.floatbank11_xanthate                     428\n",
       "primary_cleaner.output.concentrate_sol                 286\n",
       "secondary_cleaner.state.floatbank2_a_air               217\n",
       "final.output.concentrate_sol                           211\n",
       "rougher.input.feed_size                                144\n",
       "final.output.tail_pb                                   100\n",
       "rougher.input.feed_pb                                  100\n",
       "primary_cleaner.input.xanthate                         100\n",
       "primary_cleaner.output.concentrate_pb                   86\n",
       "rougher.input.feed_sol                                  78\n",
       "primary_cleaner.output.tail_sol                         46\n",
       "rougher.input.floatbank11_sulfate                       36\n",
       "primary_cleaner.input.depressant                        32\n",
       "rougher.input.floatbank10_sulfate                       29\n",
       "rougher.output.concentrate_sol                          22\n",
       "secondary_cleaner.state.floatbank2_b_air                21\n",
       "primary_cleaner.input.sulfate                           20\n",
       "primary_cleaner.output.tail_pb                          15\n",
       "secondary_cleaner.output.tail_pb                        10\n",
       "rougher.input.feed_rate                                  8\n",
       "rougher.input.floatbank10_xanthate                       8\n",
       "secondary_cleaner.state.floatbank4_a_air                 6\n",
       "final.output.tail_sol                                    5\n",
       "primary_cleaner.state.floatbank8_b_air                   4\n",
       "primary_cleaner.state.floatbank8_a_air                   4\n",
       "secondary_cleaner.state.floatbank3_a_air                 4\n",
       "primary_cleaner.state.floatbank8_d_air                   3\n",
       "primary_cleaner.state.floatbank8_c_air                   2\n",
       "secondary_cleaner.state.floatbank6_a_air                 2\n",
       "secondary_cleaner.output.tail_ag                         2\n",
       "final.output.concentrate_ag                              1\n",
       "final.output.concentrate_pb                              1\n",
       "primary_cleaner.output.tail_ag                           1\n",
       "rougher.calculation.floatbank11_sulfate_to_au_feed       1\n",
       "rougher.calculation.floatbank10_sulfate_to_au_feed       1\n",
       "rougher.calculation.sulfate_to_au_concentrate            1\n",
       "primary_cleaner.state.floatbank8_d_level                 1\n",
       "primary_cleaner.state.floatbank8_b_level                 1\n",
       "primary_cleaner.state.floatbank8_a_level                 1\n",
       "primary_cleaner.state.floatbank8_c_level                 1\n",
       "secondary_cleaner.state.floatbank6_a_level               1\n",
       "rougher.state.floatbank10_b_air                          1\n",
       "rougher.state.floatbank10_a_level                        1\n",
       "secondary_cleaner.state.floatbank2_a_level               1\n",
       "secondary_cleaner.state.floatbank3_b_air                 1\n",
       "secondary_cleaner.state.floatbank3_b_level               1\n",
       "secondary_cleaner.state.floatbank4_a_level               1\n",
       "secondary_cleaner.state.floatbank4_b_air                 1\n",
       "dtype: int64"
      ]
     },
     "execution_count": 10,
     "metadata": {},
     "output_type": "execute_result"
    }
   ],
   "source": [
    "gold_recovery_train.isnull().sum().sort_values(ascending = False).head(50)\n"
   ]
  },
  {
   "cell_type": "code",
   "execution_count": 11,
   "metadata": {},
   "outputs": [
    {
     "data": {
      "text/plain": [
       "rougher.input.floatbank11_xanthate            25\n",
       "rougher.input.feed_sol                        21\n",
       "secondary_cleaner.state.floatbank3_a_air       9\n",
       "rougher.input.floatbank11_sulfate              8\n",
       "primary_cleaner.input.depressant               5\n",
       "rougher.input.floatbank10_sulfate              5\n",
       "primary_cleaner.input.sulfate                  4\n",
       "primary_cleaner.input.xanthate                 4\n",
       "secondary_cleaner.state.floatbank2_a_air       3\n",
       "rougher.input.feed_rate                        3\n",
       "secondary_cleaner.state.floatbank2_b_air       2\n",
       "rougher.input.feed_size                        1\n",
       "secondary_cleaner.state.floatbank6_a_level     0\n",
       "rougher.input.floatbank10_xanthate             0\n",
       "rougher.input.feed_au                          0\n",
       "rougher.input.feed_pb                          0\n",
       "primary_cleaner.state.floatbank8_d_level       0\n",
       "rougher.input.feed_ag                          0\n",
       "rougher.state.floatbank10_a_level              0\n",
       "primary_cleaner.state.floatbank8_d_air         0\n",
       "primary_cleaner.state.floatbank8_c_level       0\n",
       "primary_cleaner.state.floatbank8_c_air         0\n",
       "primary_cleaner.state.floatbank8_b_level       0\n",
       "primary_cleaner.state.floatbank8_b_air         0\n",
       "primary_cleaner.state.floatbank8_a_level       0\n",
       "primary_cleaner.state.floatbank8_a_air         0\n",
       "primary_cleaner.input.feed_size                0\n",
       "rougher.state.floatbank10_a_air                0\n",
       "rougher.state.floatbank10_b_level              0\n",
       "rougher.state.floatbank10_b_air                0\n",
       "secondary_cleaner.state.floatbank6_a_air       0\n",
       "secondary_cleaner.state.floatbank5_b_level     0\n",
       "secondary_cleaner.state.floatbank5_b_air       0\n",
       "secondary_cleaner.state.floatbank5_a_level     0\n",
       "secondary_cleaner.state.floatbank5_a_air       0\n",
       "secondary_cleaner.state.floatbank4_b_level     0\n",
       "secondary_cleaner.state.floatbank4_b_air       0\n",
       "secondary_cleaner.state.floatbank4_a_level     0\n",
       "secondary_cleaner.state.floatbank4_a_air       0\n",
       "secondary_cleaner.state.floatbank3_b_level     0\n",
       "secondary_cleaner.state.floatbank3_b_air       0\n",
       "secondary_cleaner.state.floatbank3_a_level     0\n",
       "secondary_cleaner.state.floatbank2_b_level     0\n",
       "secondary_cleaner.state.floatbank2_a_level     0\n",
       "rougher.state.floatbank10_f_level              0\n",
       "rougher.state.floatbank10_f_air                0\n",
       "rougher.state.floatbank10_e_level              0\n",
       "rougher.state.floatbank10_e_air                0\n",
       "rougher.state.floatbank10_d_level              0\n",
       "rougher.state.floatbank10_d_air                0\n",
       "dtype: int64"
      ]
     },
     "execution_count": 11,
     "metadata": {},
     "output_type": "execute_result"
    }
   ],
   "source": [
    "gold_recovery_test.isnull().sum().sort_values(ascending = False).head(50)"
   ]
  },
  {
   "cell_type": "code",
   "execution_count": 12,
   "metadata": {},
   "outputs": [
    {
     "data": {
      "text/plain": [
       "secondary_cleaner.output.tail_sol                     1748\n",
       "rougher.input.floatbank11_xanthate                     453\n",
       "rougher.state.floatbank10_e_air                        436\n",
       "primary_cleaner.output.concentrate_sol                 370\n",
       "secondary_cleaner.state.floatbank2_a_air               220\n",
       "final.output.concentrate_sol                           211\n",
       "rougher.input.feed_size                                145\n",
       "primary_cleaner.output.concentrate_pb                  116\n",
       "primary_cleaner.input.xanthate                         104\n",
       "final.output.tail_pb                                   101\n",
       "rougher.input.feed_pb                                  100\n",
       "rougher.input.feed_sol                                  99\n",
       "primary_cleaner.output.tail_sol                         62\n",
       "rougher.input.floatbank11_sulfate                       44\n",
       "primary_cleaner.input.depressant                        37\n",
       "rougher.input.floatbank10_sulfate                       34\n",
       "primary_cleaner.input.sulfate                           24\n",
       "secondary_cleaner.state.floatbank2_b_air                23\n",
       "rougher.output.concentrate_sol                          23\n",
       "primary_cleaner.output.tail_pb                          21\n",
       "secondary_cleaner.state.floatbank3_a_air                13\n",
       "secondary_cleaner.output.tail_pb                        12\n",
       "rougher.input.feed_rate                                 11\n",
       "rougher.input.floatbank10_xanthate                       8\n",
       "secondary_cleaner.state.floatbank4_a_air                 6\n",
       "final.output.tail_sol                                    6\n",
       "primary_cleaner.state.floatbank8_a_air                   4\n",
       "primary_cleaner.state.floatbank8_b_air                   4\n",
       "primary_cleaner.output.tail_ag                           4\n",
       "primary_cleaner.state.floatbank8_d_air                   3\n",
       "rougher.calculation.floatbank10_sulfate_to_au_feed       2\n",
       "rougher.calculation.floatbank11_sulfate_to_au_feed       2\n",
       "primary_cleaner.state.floatbank8_c_air                   2\n",
       "rougher.calculation.sulfate_to_au_concentrate            2\n",
       "secondary_cleaner.state.floatbank6_a_air                 2\n",
       "secondary_cleaner.output.tail_ag                         2\n",
       "primary_cleaner.state.floatbank8_d_level                 1\n",
       "final.output.tail_ag                                     1\n",
       "primary_cleaner.state.floatbank8_c_level                 1\n",
       "final.output.concentrate_pb                              1\n",
       "final.output.concentrate_ag                              1\n",
       "primary_cleaner.state.floatbank8_b_level                 1\n",
       "primary_cleaner.state.floatbank8_a_level                 1\n",
       "secondary_cleaner.state.floatbank6_a_level               1\n",
       "rougher.state.floatbank10_a_level                        1\n",
       "rougher.state.floatbank10_a_air                          1\n",
       "secondary_cleaner.state.floatbank3_a_level               1\n",
       "secondary_cleaner.state.floatbank3_b_air                 1\n",
       "secondary_cleaner.state.floatbank3_b_level               1\n",
       "secondary_cleaner.state.floatbank4_a_level               1\n",
       "dtype: int64"
      ]
     },
     "execution_count": 12,
     "metadata": {},
     "output_type": "execute_result"
    }
   ],
   "source": [
    "gold_recovery_full.isnull().sum().sort_values(ascending = False).head(50)"
   ]
  },
  {
   "cell_type": "markdown",
   "metadata": {},
   "source": [
    "Рассмотрим данные"
   ]
  },
  {
   "cell_type": "code",
   "execution_count": 13,
   "metadata": {},
   "outputs": [
    {
     "data": {
      "text/html": [
       "<div>\n",
       "<style scoped>\n",
       "    .dataframe tbody tr th:only-of-type {\n",
       "        vertical-align: middle;\n",
       "    }\n",
       "\n",
       "    .dataframe tbody tr th {\n",
       "        vertical-align: top;\n",
       "    }\n",
       "\n",
       "    .dataframe thead th {\n",
       "        text-align: right;\n",
       "    }\n",
       "</style>\n",
       "<table border=\"1\" class=\"dataframe\">\n",
       "  <thead>\n",
       "    <tr style=\"text-align: right;\">\n",
       "      <th></th>\n",
       "      <th>final.output.concentrate_ag</th>\n",
       "      <th>final.output.concentrate_pb</th>\n",
       "      <th>final.output.concentrate_sol</th>\n",
       "      <th>final.output.concentrate_au</th>\n",
       "      <th>final.output.recovery</th>\n",
       "      <th>final.output.tail_ag</th>\n",
       "      <th>final.output.tail_pb</th>\n",
       "      <th>final.output.tail_sol</th>\n",
       "      <th>final.output.tail_au</th>\n",
       "      <th>primary_cleaner.input.sulfate</th>\n",
       "      <th>...</th>\n",
       "      <th>secondary_cleaner.state.floatbank4_a_air</th>\n",
       "      <th>secondary_cleaner.state.floatbank4_a_level</th>\n",
       "      <th>secondary_cleaner.state.floatbank4_b_air</th>\n",
       "      <th>secondary_cleaner.state.floatbank4_b_level</th>\n",
       "      <th>secondary_cleaner.state.floatbank5_a_air</th>\n",
       "      <th>secondary_cleaner.state.floatbank5_a_level</th>\n",
       "      <th>secondary_cleaner.state.floatbank5_b_air</th>\n",
       "      <th>secondary_cleaner.state.floatbank5_b_level</th>\n",
       "      <th>secondary_cleaner.state.floatbank6_a_air</th>\n",
       "      <th>secondary_cleaner.state.floatbank6_a_level</th>\n",
       "    </tr>\n",
       "  </thead>\n",
       "  <tbody>\n",
       "    <tr>\n",
       "      <td>count</td>\n",
       "      <td>14148.000000</td>\n",
       "      <td>14148.000000</td>\n",
       "      <td>13938.000000</td>\n",
       "      <td>14149.000000</td>\n",
       "      <td>14149.000000</td>\n",
       "      <td>14149.000000</td>\n",
       "      <td>14049.000000</td>\n",
       "      <td>14144.000000</td>\n",
       "      <td>14149.000000</td>\n",
       "      <td>14129.000000</td>\n",
       "      <td>...</td>\n",
       "      <td>14143.000000</td>\n",
       "      <td>14148.000000</td>\n",
       "      <td>14148.000000</td>\n",
       "      <td>14148.000000</td>\n",
       "      <td>14148.000000</td>\n",
       "      <td>14148.000000</td>\n",
       "      <td>14148.000000</td>\n",
       "      <td>14148.000000</td>\n",
       "      <td>14147.000000</td>\n",
       "      <td>14148.000000</td>\n",
       "    </tr>\n",
       "    <tr>\n",
       "      <td>mean</td>\n",
       "      <td>5.142034</td>\n",
       "      <td>10.132960</td>\n",
       "      <td>9.202849</td>\n",
       "      <td>44.003792</td>\n",
       "      <td>66.518832</td>\n",
       "      <td>9.607035</td>\n",
       "      <td>2.597298</td>\n",
       "      <td>10.512122</td>\n",
       "      <td>2.918421</td>\n",
       "      <td>133.320659</td>\n",
       "      <td>...</td>\n",
       "      <td>19.985454</td>\n",
       "      <td>-478.696836</td>\n",
       "      <td>15.487065</td>\n",
       "      <td>-460.229416</td>\n",
       "      <td>16.775136</td>\n",
       "      <td>-483.956022</td>\n",
       "      <td>13.064590</td>\n",
       "      <td>-483.966564</td>\n",
       "      <td>19.577539</td>\n",
       "      <td>-506.798480</td>\n",
       "    </tr>\n",
       "    <tr>\n",
       "      <td>std</td>\n",
       "      <td>1.369586</td>\n",
       "      <td>1.654930</td>\n",
       "      <td>2.790516</td>\n",
       "      <td>4.905261</td>\n",
       "      <td>10.295402</td>\n",
       "      <td>2.319069</td>\n",
       "      <td>0.971843</td>\n",
       "      <td>3.003617</td>\n",
       "      <td>0.903712</td>\n",
       "      <td>39.431659</td>\n",
       "      <td>...</td>\n",
       "      <td>5.657723</td>\n",
       "      <td>50.736021</td>\n",
       "      <td>5.255655</td>\n",
       "      <td>58.843586</td>\n",
       "      <td>5.831906</td>\n",
       "      <td>37.892788</td>\n",
       "      <td>5.765617</td>\n",
       "      <td>39.207913</td>\n",
       "      <td>5.764417</td>\n",
       "      <td>37.079249</td>\n",
       "    </tr>\n",
       "    <tr>\n",
       "      <td>min</td>\n",
       "      <td>0.000000</td>\n",
       "      <td>0.000000</td>\n",
       "      <td>0.000000</td>\n",
       "      <td>0.000000</td>\n",
       "      <td>0.000000</td>\n",
       "      <td>0.000000</td>\n",
       "      <td>0.000000</td>\n",
       "      <td>0.000000</td>\n",
       "      <td>0.000000</td>\n",
       "      <td>0.003112</td>\n",
       "      <td>...</td>\n",
       "      <td>0.000000</td>\n",
       "      <td>-799.709069</td>\n",
       "      <td>0.000000</td>\n",
       "      <td>-799.889113</td>\n",
       "      <td>-0.372054</td>\n",
       "      <td>-797.142475</td>\n",
       "      <td>0.646208</td>\n",
       "      <td>-800.006180</td>\n",
       "      <td>0.195324</td>\n",
       "      <td>-809.398668</td>\n",
       "    </tr>\n",
       "    <tr>\n",
       "      <td>25%</td>\n",
       "      <td>4.211620</td>\n",
       "      <td>9.297355</td>\n",
       "      <td>7.484645</td>\n",
       "      <td>43.276111</td>\n",
       "      <td>62.545817</td>\n",
       "      <td>7.997429</td>\n",
       "      <td>1.905973</td>\n",
       "      <td>8.811324</td>\n",
       "      <td>2.368607</td>\n",
       "      <td>107.006651</td>\n",
       "      <td>...</td>\n",
       "      <td>14.990775</td>\n",
       "      <td>-500.628656</td>\n",
       "      <td>11.894558</td>\n",
       "      <td>-500.149000</td>\n",
       "      <td>11.083980</td>\n",
       "      <td>-500.363177</td>\n",
       "      <td>8.994405</td>\n",
       "      <td>-500.105994</td>\n",
       "      <td>14.989304</td>\n",
       "      <td>-500.745104</td>\n",
       "    </tr>\n",
       "    <tr>\n",
       "      <td>50%</td>\n",
       "      <td>4.994652</td>\n",
       "      <td>10.297144</td>\n",
       "      <td>8.845462</td>\n",
       "      <td>44.872436</td>\n",
       "      <td>67.432775</td>\n",
       "      <td>9.480270</td>\n",
       "      <td>2.592022</td>\n",
       "      <td>10.514621</td>\n",
       "      <td>2.851025</td>\n",
       "      <td>133.018328</td>\n",
       "      <td>...</td>\n",
       "      <td>20.001789</td>\n",
       "      <td>-499.681450</td>\n",
       "      <td>14.975536</td>\n",
       "      <td>-499.388738</td>\n",
       "      <td>17.932223</td>\n",
       "      <td>-499.702452</td>\n",
       "      <td>11.997547</td>\n",
       "      <td>-499.914556</td>\n",
       "      <td>19.984175</td>\n",
       "      <td>-500.061431</td>\n",
       "    </tr>\n",
       "    <tr>\n",
       "      <td>75%</td>\n",
       "      <td>5.859540</td>\n",
       "      <td>11.170603</td>\n",
       "      <td>10.487508</td>\n",
       "      <td>46.166425</td>\n",
       "      <td>72.346428</td>\n",
       "      <td>11.003707</td>\n",
       "      <td>3.241723</td>\n",
       "      <td>11.933009</td>\n",
       "      <td>3.434764</td>\n",
       "      <td>159.825396</td>\n",
       "      <td>...</td>\n",
       "      <td>24.990826</td>\n",
       "      <td>-477.472413</td>\n",
       "      <td>20.059375</td>\n",
       "      <td>-400.039008</td>\n",
       "      <td>21.346550</td>\n",
       "      <td>-487.712108</td>\n",
       "      <td>17.982903</td>\n",
       "      <td>-453.186936</td>\n",
       "      <td>24.991623</td>\n",
       "      <td>-499.536466</td>\n",
       "    </tr>\n",
       "    <tr>\n",
       "      <td>max</td>\n",
       "      <td>16.001945</td>\n",
       "      <td>17.031899</td>\n",
       "      <td>18.124851</td>\n",
       "      <td>52.756638</td>\n",
       "      <td>100.000000</td>\n",
       "      <td>19.552149</td>\n",
       "      <td>5.639565</td>\n",
       "      <td>22.317730</td>\n",
       "      <td>8.197408</td>\n",
       "      <td>250.127834</td>\n",
       "      <td>...</td>\n",
       "      <td>30.115735</td>\n",
       "      <td>-245.239184</td>\n",
       "      <td>24.007913</td>\n",
       "      <td>-145.071088</td>\n",
       "      <td>43.709931</td>\n",
       "      <td>-275.073125</td>\n",
       "      <td>27.926001</td>\n",
       "      <td>-157.396071</td>\n",
       "      <td>32.188906</td>\n",
       "      <td>-104.427459</td>\n",
       "    </tr>\n",
       "  </tbody>\n",
       "</table>\n",
       "<p>8 rows × 86 columns</p>\n",
       "</div>"
      ],
      "text/plain": [
       "       final.output.concentrate_ag  final.output.concentrate_pb  \\\n",
       "count                 14148.000000                 14148.000000   \n",
       "mean                      5.142034                    10.132960   \n",
       "std                       1.369586                     1.654930   \n",
       "min                       0.000000                     0.000000   \n",
       "25%                       4.211620                     9.297355   \n",
       "50%                       4.994652                    10.297144   \n",
       "75%                       5.859540                    11.170603   \n",
       "max                      16.001945                    17.031899   \n",
       "\n",
       "       final.output.concentrate_sol  final.output.concentrate_au  \\\n",
       "count                  13938.000000                 14149.000000   \n",
       "mean                       9.202849                    44.003792   \n",
       "std                        2.790516                     4.905261   \n",
       "min                        0.000000                     0.000000   \n",
       "25%                        7.484645                    43.276111   \n",
       "50%                        8.845462                    44.872436   \n",
       "75%                       10.487508                    46.166425   \n",
       "max                       18.124851                    52.756638   \n",
       "\n",
       "       final.output.recovery  final.output.tail_ag  final.output.tail_pb  \\\n",
       "count           14149.000000          14149.000000          14049.000000   \n",
       "mean               66.518832              9.607035              2.597298   \n",
       "std                10.295402              2.319069              0.971843   \n",
       "min                 0.000000              0.000000              0.000000   \n",
       "25%                62.545817              7.997429              1.905973   \n",
       "50%                67.432775              9.480270              2.592022   \n",
       "75%                72.346428             11.003707              3.241723   \n",
       "max               100.000000             19.552149              5.639565   \n",
       "\n",
       "       final.output.tail_sol  final.output.tail_au  \\\n",
       "count           14144.000000          14149.000000   \n",
       "mean               10.512122              2.918421   \n",
       "std                 3.003617              0.903712   \n",
       "min                 0.000000              0.000000   \n",
       "25%                 8.811324              2.368607   \n",
       "50%                10.514621              2.851025   \n",
       "75%                11.933009              3.434764   \n",
       "max                22.317730              8.197408   \n",
       "\n",
       "       primary_cleaner.input.sulfate  ...  \\\n",
       "count                   14129.000000  ...   \n",
       "mean                      133.320659  ...   \n",
       "std                        39.431659  ...   \n",
       "min                         0.003112  ...   \n",
       "25%                       107.006651  ...   \n",
       "50%                       133.018328  ...   \n",
       "75%                       159.825396  ...   \n",
       "max                       250.127834  ...   \n",
       "\n",
       "       secondary_cleaner.state.floatbank4_a_air  \\\n",
       "count                              14143.000000   \n",
       "mean                                  19.985454   \n",
       "std                                    5.657723   \n",
       "min                                    0.000000   \n",
       "25%                                   14.990775   \n",
       "50%                                   20.001789   \n",
       "75%                                   24.990826   \n",
       "max                                   30.115735   \n",
       "\n",
       "       secondary_cleaner.state.floatbank4_a_level  \\\n",
       "count                                14148.000000   \n",
       "mean                                  -478.696836   \n",
       "std                                     50.736021   \n",
       "min                                   -799.709069   \n",
       "25%                                   -500.628656   \n",
       "50%                                   -499.681450   \n",
       "75%                                   -477.472413   \n",
       "max                                   -245.239184   \n",
       "\n",
       "       secondary_cleaner.state.floatbank4_b_air  \\\n",
       "count                              14148.000000   \n",
       "mean                                  15.487065   \n",
       "std                                    5.255655   \n",
       "min                                    0.000000   \n",
       "25%                                   11.894558   \n",
       "50%                                   14.975536   \n",
       "75%                                   20.059375   \n",
       "max                                   24.007913   \n",
       "\n",
       "       secondary_cleaner.state.floatbank4_b_level  \\\n",
       "count                                14148.000000   \n",
       "mean                                  -460.229416   \n",
       "std                                     58.843586   \n",
       "min                                   -799.889113   \n",
       "25%                                   -500.149000   \n",
       "50%                                   -499.388738   \n",
       "75%                                   -400.039008   \n",
       "max                                   -145.071088   \n",
       "\n",
       "       secondary_cleaner.state.floatbank5_a_air  \\\n",
       "count                              14148.000000   \n",
       "mean                                  16.775136   \n",
       "std                                    5.831906   \n",
       "min                                   -0.372054   \n",
       "25%                                   11.083980   \n",
       "50%                                   17.932223   \n",
       "75%                                   21.346550   \n",
       "max                                   43.709931   \n",
       "\n",
       "       secondary_cleaner.state.floatbank5_a_level  \\\n",
       "count                                14148.000000   \n",
       "mean                                  -483.956022   \n",
       "std                                     37.892788   \n",
       "min                                   -797.142475   \n",
       "25%                                   -500.363177   \n",
       "50%                                   -499.702452   \n",
       "75%                                   -487.712108   \n",
       "max                                   -275.073125   \n",
       "\n",
       "       secondary_cleaner.state.floatbank5_b_air  \\\n",
       "count                              14148.000000   \n",
       "mean                                  13.064590   \n",
       "std                                    5.765617   \n",
       "min                                    0.646208   \n",
       "25%                                    8.994405   \n",
       "50%                                   11.997547   \n",
       "75%                                   17.982903   \n",
       "max                                   27.926001   \n",
       "\n",
       "       secondary_cleaner.state.floatbank5_b_level  \\\n",
       "count                                14148.000000   \n",
       "mean                                  -483.966564   \n",
       "std                                     39.207913   \n",
       "min                                   -800.006180   \n",
       "25%                                   -500.105994   \n",
       "50%                                   -499.914556   \n",
       "75%                                   -453.186936   \n",
       "max                                   -157.396071   \n",
       "\n",
       "       secondary_cleaner.state.floatbank6_a_air  \\\n",
       "count                              14147.000000   \n",
       "mean                                  19.577539   \n",
       "std                                    5.764417   \n",
       "min                                    0.195324   \n",
       "25%                                   14.989304   \n",
       "50%                                   19.984175   \n",
       "75%                                   24.991623   \n",
       "max                                   32.188906   \n",
       "\n",
       "       secondary_cleaner.state.floatbank6_a_level  \n",
       "count                                14148.000000  \n",
       "mean                                  -506.798480  \n",
       "std                                     37.079249  \n",
       "min                                   -809.398668  \n",
       "25%                                   -500.745104  \n",
       "50%                                   -500.061431  \n",
       "75%                                   -499.536466  \n",
       "max                                   -104.427459  \n",
       "\n",
       "[8 rows x 86 columns]"
      ]
     },
     "execution_count": 13,
     "metadata": {},
     "output_type": "execute_result"
    }
   ],
   "source": [
    "gold_recovery_train.describe()"
   ]
  },
  {
   "cell_type": "markdown",
   "metadata": {},
   "source": [
    "**Вывод:** исходные данные содержат 19439 строк, из которых сформированы обучающая и тестовая выборки в соотношении примерно 70/30. Количество столбцов выборок различается. В данных есть пустые значения, а также нули. "
   ]
  },
  {
   "cell_type": "markdown",
   "metadata": {},
   "source": [
    "###  Расчет эффективности ### "
   ]
  },
  {
   "cell_type": "markdown",
   "metadata": {},
   "source": [
    "Проверьте, что эффективность обогащения рассчитана правильно. <br>Вычислите её на обучающей выборке для признака rougher.output.recovery. <br>Найдите MAE между вашими расчётами и значением признака. <br>Опишите выводы."
   ]
  },
  {
   "cell_type": "markdown",
   "metadata": {},
   "source": [
    "Эффективность рассчитывается по формуле:"
   ]
  },
  {
   "cell_type": "markdown",
   "metadata": {},
   "source": [
    "<img src=\"https://pictures.s3.yandex.net/resources/Recovery_1576238822.jpg\" width=\"700px\" align=\"left\" > "
   ]
  },
  {
   "cell_type": "markdown",
   "metadata": {},
   "source": [
    "где"
   ]
  },
  {
   "cell_type": "markdown",
   "metadata": {},
   "source": [
    "F — доля золота в сырье/концентрате до флотации/очистки;<br>\n",
    "C — доля золота в концентрате после флотации/очистки;<br>\n",
    "T — доля золота в отвальных хвостах после флотации/очистки.<br>"
   ]
  },
  {
   "cell_type": "markdown",
   "metadata": {},
   "source": [
    "Rougher feed — исходное сырье <br>\n",
    "Rougher Au — черновой концентрат золота<br>\n",
    "Final Au — финальный концентрат золота<br>"
   ]
  },
  {
   "cell_type": "code",
   "execution_count": 14,
   "metadata": {},
   "outputs": [],
   "source": [
    "def get_recovery(row):  \n",
    "    f = row['rougher.input.feed_au']\n",
    "    c = row['rougher.output.concentrate_au']\n",
    "    t = row['rougher.output.tail_au']\n",
    "    recovery = c*(f-t)/(f*(c-t))*100    \n",
    "    return recovery"
   ]
  },
  {
   "cell_type": "code",
   "execution_count": 15,
   "metadata": {},
   "outputs": [],
   "source": [
    "gold_recovery_train['rougher.output.recovery_new'] = gold_recovery_train.apply(get_recovery, axis=1)"
   ]
  },
  {
   "cell_type": "code",
   "execution_count": 16,
   "metadata": {},
   "outputs": [
    {
     "data": {
      "text/html": [
       "<div>\n",
       "<style scoped>\n",
       "    .dataframe tbody tr th:only-of-type {\n",
       "        vertical-align: middle;\n",
       "    }\n",
       "\n",
       "    .dataframe tbody tr th {\n",
       "        vertical-align: top;\n",
       "    }\n",
       "\n",
       "    .dataframe thead th {\n",
       "        text-align: right;\n",
       "    }\n",
       "</style>\n",
       "<table border=\"1\" class=\"dataframe\">\n",
       "  <thead>\n",
       "    <tr style=\"text-align: right;\">\n",
       "      <th></th>\n",
       "      <th>rougher.output.recovery</th>\n",
       "      <th>rougher.output.recovery_new</th>\n",
       "    </tr>\n",
       "  </thead>\n",
       "  <tbody>\n",
       "    <tr>\n",
       "      <td>0</td>\n",
       "      <td>87.107763</td>\n",
       "      <td>87.107763</td>\n",
       "    </tr>\n",
       "    <tr>\n",
       "      <td>1</td>\n",
       "      <td>86.843261</td>\n",
       "      <td>86.843261</td>\n",
       "    </tr>\n",
       "    <tr>\n",
       "      <td>2</td>\n",
       "      <td>86.842308</td>\n",
       "      <td>86.842308</td>\n",
       "    </tr>\n",
       "    <tr>\n",
       "      <td>3</td>\n",
       "      <td>87.226430</td>\n",
       "      <td>87.226430</td>\n",
       "    </tr>\n",
       "    <tr>\n",
       "      <td>4</td>\n",
       "      <td>86.688794</td>\n",
       "      <td>86.688794</td>\n",
       "    </tr>\n",
       "    <tr>\n",
       "      <td>...</td>\n",
       "      <td>...</td>\n",
       "      <td>...</td>\n",
       "    </tr>\n",
       "    <tr>\n",
       "      <td>14144</td>\n",
       "      <td>89.574376</td>\n",
       "      <td>89.574376</td>\n",
       "    </tr>\n",
       "    <tr>\n",
       "      <td>14145</td>\n",
       "      <td>87.724007</td>\n",
       "      <td>87.724007</td>\n",
       "    </tr>\n",
       "    <tr>\n",
       "      <td>14146</td>\n",
       "      <td>88.890579</td>\n",
       "      <td>88.890579</td>\n",
       "    </tr>\n",
       "    <tr>\n",
       "      <td>14147</td>\n",
       "      <td>89.858126</td>\n",
       "      <td>89.858126</td>\n",
       "    </tr>\n",
       "    <tr>\n",
       "      <td>14148</td>\n",
       "      <td>89.514960</td>\n",
       "      <td>89.514960</td>\n",
       "    </tr>\n",
       "  </tbody>\n",
       "</table>\n",
       "<p>14149 rows × 2 columns</p>\n",
       "</div>"
      ],
      "text/plain": [
       "       rougher.output.recovery  rougher.output.recovery_new\n",
       "0                    87.107763                    87.107763\n",
       "1                    86.843261                    86.843261\n",
       "2                    86.842308                    86.842308\n",
       "3                    87.226430                    87.226430\n",
       "4                    86.688794                    86.688794\n",
       "...                        ...                          ...\n",
       "14144                89.574376                    89.574376\n",
       "14145                87.724007                    87.724007\n",
       "14146                88.890579                    88.890579\n",
       "14147                89.858126                    89.858126\n",
       "14148                89.514960                    89.514960\n",
       "\n",
       "[14149 rows x 2 columns]"
      ]
     },
     "execution_count": 16,
     "metadata": {},
     "output_type": "execute_result"
    }
   ],
   "source": [
    "gold_recovery_train[['rougher.output.recovery', 'rougher.output.recovery_new']]"
   ]
  },
  {
   "cell_type": "code",
   "execution_count": 17,
   "metadata": {},
   "outputs": [
    {
     "name": "stdout",
     "output_type": "stream",
     "text": [
      "Средняя абсолютная ошибка: 9.682896147825551e-15\n"
     ]
    }
   ],
   "source": [
    "mae = mean_absolute_error(gold_recovery_train['rougher.output.recovery'],gold_recovery_train['rougher.output.recovery_new'])\n",
    "print('Средняя абсолютная ошибка:', mae)"
   ]
  },
  {
   "cell_type": "markdown",
   "metadata": {},
   "source": [
    "**Вывод:** можно сказать, что эффективность рассчитана правильно. "
   ]
  },
  {
   "cell_type": "markdown",
   "metadata": {},
   "source": [
    "### Анализ признаков ###"
   ]
  },
  {
   "cell_type": "markdown",
   "metadata": {},
   "source": [
    "Проанализируйте признаки, недоступные в тестовой выборке. Что это за параметры? К какому типу относятся?"
   ]
  },
  {
   "cell_type": "code",
   "execution_count": 18,
   "metadata": {},
   "outputs": [
    {
     "data": {
      "text/plain": [
       "0                           final.output.concentrate_ag\n",
       "1                           final.output.concentrate_au\n",
       "2                           final.output.concentrate_pb\n",
       "3                          final.output.concentrate_sol\n",
       "4                                 final.output.recovery\n",
       "5                                  final.output.tail_ag\n",
       "6                                  final.output.tail_au\n",
       "7                                  final.output.tail_pb\n",
       "8                                 final.output.tail_sol\n",
       "9                 primary_cleaner.output.concentrate_ag\n",
       "10                primary_cleaner.output.concentrate_au\n",
       "11                primary_cleaner.output.concentrate_pb\n",
       "12               primary_cleaner.output.concentrate_sol\n",
       "13                       primary_cleaner.output.tail_ag\n",
       "14                       primary_cleaner.output.tail_au\n",
       "15                       primary_cleaner.output.tail_pb\n",
       "16                      primary_cleaner.output.tail_sol\n",
       "17                      rougher.calculation.au_pb_ratio\n",
       "18    rougher.calculation.floatbank10_sulfate_to_au_...\n",
       "19    rougher.calculation.floatbank11_sulfate_to_au_...\n",
       "20        rougher.calculation.sulfate_to_au_concentrate\n",
       "21                        rougher.output.concentrate_ag\n",
       "22                        rougher.output.concentrate_au\n",
       "23                        rougher.output.concentrate_pb\n",
       "24                       rougher.output.concentrate_sol\n",
       "25                              rougher.output.recovery\n",
       "26                          rougher.output.recovery_new\n",
       "27                               rougher.output.tail_ag\n",
       "28                               rougher.output.tail_au\n",
       "29                               rougher.output.tail_pb\n",
       "30                              rougher.output.tail_sol\n",
       "31                     secondary_cleaner.output.tail_ag\n",
       "32                     secondary_cleaner.output.tail_au\n",
       "33                     secondary_cleaner.output.tail_pb\n",
       "34                    secondary_cleaner.output.tail_sol\n",
       "dtype: object"
      ]
     },
     "execution_count": 18,
     "metadata": {},
     "output_type": "execute_result"
    }
   ],
   "source": [
    "pd.Series(gold_recovery_train.columns.difference(gold_recovery_test.columns))"
   ]
  },
  {
   "cell_type": "markdown",
   "metadata": {},
   "source": [
    "В тестовой выборке отсутствует расчет эффективности (целевой признак),  а также параметры концентрации веществ на двух этапах очистки. Кроме этого отсутствуют некоторые расчетные признки (калькуляции). "
   ]
  },
  {
   "cell_type": "markdown",
   "metadata": {},
   "source": [
    "### Предобработка данных. ###"
   ]
  },
  {
   "cell_type": "markdown",
   "metadata": {},
   "source": [
    "Заполним пустые значения методом ffill"
   ]
  },
  {
   "cell_type": "code",
   "execution_count": 19,
   "metadata": {},
   "outputs": [],
   "source": [
    "gold_recovery_test.fillna(method='ffill', inplace=True)\n",
    "gold_recovery_train.fillna(method='ffill', inplace=True)\n",
    "gold_recovery_full.fillna(method='ffill', inplace=True)"
   ]
  },
  {
   "cell_type": "markdown",
   "metadata": {},
   "source": [
    "Приведем даты к типу date"
   ]
  },
  {
   "cell_type": "code",
   "execution_count": 20,
   "metadata": {},
   "outputs": [],
   "source": [
    "gold_recovery_train['date'] = pd.to_datetime(gold_recovery_train['date'], format='%Y-%m-%dT%H:%M:%S')\n",
    "gold_recovery_test['date'] = pd.to_datetime(gold_recovery_test['date'], format='%Y-%m-%dT%H:%M:%S')\n",
    "gold_recovery_full['date'] = pd.to_datetime(gold_recovery_full['date'], format='%Y-%m-%dT%H:%M:%S')"
   ]
  },
  {
   "cell_type": "markdown",
   "metadata": {},
   "source": [
    "Рассмотрим распределение целевых признаков\n",
    "rougher.output.recovery и final.output.recovery"
   ]
  },
  {
   "cell_type": "code",
   "execution_count": 21,
   "metadata": {},
   "outputs": [
    {
     "data": {
      "text/plain": [
       "<matplotlib.axes._subplots.AxesSubplot at 0x7ffa3ae12850>"
      ]
     },
     "execution_count": 21,
     "metadata": {},
     "output_type": "execute_result"
    },
    {
     "data": {
      "image/png": "[encoded data removed]",
      "text/plain": [
       "<Figure size 576x288 with 1 Axes>"
      ]
     },
     "metadata": {},
     "output_type": "display_data"
    }
   ],
   "source": [
    "plt.figure(figsize=(8,4))\n",
    "plt.title('Распределение целевых признаков')\n",
    "sns.distplot(gold_recovery_train['rougher.output.recovery'], color=\"Teal\", kde=False, bins=120)\n",
    "sns.distplot(gold_recovery_train['final.output.recovery'], color=\"Salmon\", kde=False, bins=120)"
   ]
  },
  {
   "cell_type": "code",
   "execution_count": 22,
   "metadata": {},
   "outputs": [
    {
     "data": {
      "text/plain": [
       "Text(0.5, 1.0, 'final')"
      ]
     },
     "execution_count": 22,
     "metadata": {},
     "output_type": "execute_result"
    },
    {
     "data": {
      "image/png": "[encoded data removed]",
      "text/plain": [
       "<Figure size 864x216 with 1 Axes>"
      ]
     },
     "metadata": {},
     "output_type": "display_data"
    },
    {
     "data": {
      "image/png": "[encoded data removed]",
      "text/plain": [
       "<Figure size 864x216 with 1 Axes>"
      ]
     },
     "metadata": {},
     "output_type": "display_data"
    }
   ],
   "source": [
    "sns.set(style=\"whitegrid\")\n",
    "plt.figure(figsize=(12,3))\n",
    "ax = sns.boxplot(data=gold_recovery_train, x='rougher.output.recovery', palette=\"Set3\")\n",
    "plt.title('rougher')\n",
    "plt.figure(figsize=(12,3))\n",
    "ax = sns.boxplot(data=gold_recovery_train, x='final.output.recovery', color=\"Salmon\")\n",
    "plt.title('final')\n"
   ]
  },
  {
   "cell_type": "markdown",
   "metadata": {},
   "source": [
    "Есть выбросы и нулевые значения, их лучше отрезать"
   ]
  },
  {
   "cell_type": "code",
   "execution_count": 23,
   "metadata": {},
   "outputs": [
    {
     "data": {
      "text/html": [
       "<div>\n",
       "<style scoped>\n",
       "    .dataframe tbody tr th:only-of-type {\n",
       "        vertical-align: middle;\n",
       "    }\n",
       "\n",
       "    .dataframe tbody tr th {\n",
       "        vertical-align: top;\n",
       "    }\n",
       "\n",
       "    .dataframe thead th {\n",
       "        text-align: right;\n",
       "    }\n",
       "</style>\n",
       "<table border=\"1\" class=\"dataframe\">\n",
       "  <thead>\n",
       "    <tr style=\"text-align: right;\">\n",
       "      <th></th>\n",
       "      <th>final.output.concentrate_ag</th>\n",
       "      <th>final.output.concentrate_pb</th>\n",
       "      <th>final.output.concentrate_sol</th>\n",
       "      <th>final.output.concentrate_au</th>\n",
       "      <th>final.output.recovery</th>\n",
       "      <th>final.output.tail_ag</th>\n",
       "      <th>final.output.tail_pb</th>\n",
       "      <th>final.output.tail_sol</th>\n",
       "      <th>final.output.tail_au</th>\n",
       "      <th>primary_cleaner.input.sulfate</th>\n",
       "      <th>...</th>\n",
       "      <th>secondary_cleaner.state.floatbank4_a_level</th>\n",
       "      <th>secondary_cleaner.state.floatbank4_b_air</th>\n",
       "      <th>secondary_cleaner.state.floatbank4_b_level</th>\n",
       "      <th>secondary_cleaner.state.floatbank5_a_air</th>\n",
       "      <th>secondary_cleaner.state.floatbank5_a_level</th>\n",
       "      <th>secondary_cleaner.state.floatbank5_b_air</th>\n",
       "      <th>secondary_cleaner.state.floatbank5_b_level</th>\n",
       "      <th>secondary_cleaner.state.floatbank6_a_air</th>\n",
       "      <th>secondary_cleaner.state.floatbank6_a_level</th>\n",
       "      <th>rougher.output.recovery_new</th>\n",
       "    </tr>\n",
       "  </thead>\n",
       "  <tbody>\n",
       "    <tr>\n",
       "      <td>count</td>\n",
       "      <td>13118.000000</td>\n",
       "      <td>13118.000000</td>\n",
       "      <td>13118.000000</td>\n",
       "      <td>13118.000000</td>\n",
       "      <td>13118.000000</td>\n",
       "      <td>13118.000000</td>\n",
       "      <td>13118.000000</td>\n",
       "      <td>13118.000000</td>\n",
       "      <td>13118.000000</td>\n",
       "      <td>13118.000000</td>\n",
       "      <td>...</td>\n",
       "      <td>13118.000000</td>\n",
       "      <td>13118.000000</td>\n",
       "      <td>13118.000000</td>\n",
       "      <td>13118.000000</td>\n",
       "      <td>13118.000000</td>\n",
       "      <td>13118.000000</td>\n",
       "      <td>13118.000000</td>\n",
       "      <td>13118.000000</td>\n",
       "      <td>13118.000000</td>\n",
       "      <td>13118.000000</td>\n",
       "    </tr>\n",
       "    <tr>\n",
       "      <td>mean</td>\n",
       "      <td>5.146812</td>\n",
       "      <td>10.183573</td>\n",
       "      <td>9.251640</td>\n",
       "      <td>44.315903</td>\n",
       "      <td>68.098488</td>\n",
       "      <td>9.656147</td>\n",
       "      <td>2.570024</td>\n",
       "      <td>10.556802</td>\n",
       "      <td>2.851457</td>\n",
       "      <td>135.684462</td>\n",
       "      <td>...</td>\n",
       "      <td>-477.979255</td>\n",
       "      <td>15.603243</td>\n",
       "      <td>-460.912300</td>\n",
       "      <td>16.907683</td>\n",
       "      <td>-483.658444</td>\n",
       "      <td>13.159048</td>\n",
       "      <td>-483.456115</td>\n",
       "      <td>19.694462</td>\n",
       "      <td>-507.147310</td>\n",
       "      <td>85.202821</td>\n",
       "    </tr>\n",
       "    <tr>\n",
       "      <td>std</td>\n",
       "      <td>1.299514</td>\n",
       "      <td>1.495026</td>\n",
       "      <td>2.823800</td>\n",
       "      <td>3.642224</td>\n",
       "      <td>7.277974</td>\n",
       "      <td>2.318075</td>\n",
       "      <td>0.967906</td>\n",
       "      <td>2.978198</td>\n",
       "      <td>0.816881</td>\n",
       "      <td>37.794518</td>\n",
       "      <td>...</td>\n",
       "      <td>50.806101</td>\n",
       "      <td>5.275779</td>\n",
       "      <td>58.322627</td>\n",
       "      <td>5.833610</td>\n",
       "      <td>38.136270</td>\n",
       "      <td>5.795557</td>\n",
       "      <td>38.329189</td>\n",
       "      <td>5.749437</td>\n",
       "      <td>37.272250</td>\n",
       "      <td>6.871821</td>\n",
       "    </tr>\n",
       "    <tr>\n",
       "      <td>min</td>\n",
       "      <td>0.289059</td>\n",
       "      <td>0.332391</td>\n",
       "      <td>0.291099</td>\n",
       "      <td>1.063992</td>\n",
       "      <td>50.010383</td>\n",
       "      <td>0.000000</td>\n",
       "      <td>0.000000</td>\n",
       "      <td>0.000000</td>\n",
       "      <td>0.000000</td>\n",
       "      <td>0.003112</td>\n",
       "      <td>...</td>\n",
       "      <td>-799.706757</td>\n",
       "      <td>0.000000</td>\n",
       "      <td>-799.860840</td>\n",
       "      <td>-0.372054</td>\n",
       "      <td>-797.142475</td>\n",
       "      <td>0.646208</td>\n",
       "      <td>-799.985879</td>\n",
       "      <td>0.195324</td>\n",
       "      <td>-809.398668</td>\n",
       "      <td>60.044710</td>\n",
       "    </tr>\n",
       "    <tr>\n",
       "      <td>25%</td>\n",
       "      <td>4.221933</td>\n",
       "      <td>9.310897</td>\n",
       "      <td>7.537723</td>\n",
       "      <td>43.382179</td>\n",
       "      <td>63.569442</td>\n",
       "      <td>8.027590</td>\n",
       "      <td>1.887746</td>\n",
       "      <td>8.842395</td>\n",
       "      <td>2.349893</td>\n",
       "      <td>110.192893</td>\n",
       "      <td>...</td>\n",
       "      <td>-500.616969</td>\n",
       "      <td>11.938721</td>\n",
       "      <td>-500.154501</td>\n",
       "      <td>11.914259</td>\n",
       "      <td>-500.359093</td>\n",
       "      <td>8.992910</td>\n",
       "      <td>-500.105078</td>\n",
       "      <td>14.990632</td>\n",
       "      <td>-500.760742</td>\n",
       "      <td>80.928058</td>\n",
       "    </tr>\n",
       "    <tr>\n",
       "      <td>50%</td>\n",
       "      <td>4.991137</td>\n",
       "      <td>10.306605</td>\n",
       "      <td>8.910384</td>\n",
       "      <td>44.904381</td>\n",
       "      <td>67.886967</td>\n",
       "      <td>9.566519</td>\n",
       "      <td>2.567692</td>\n",
       "      <td>10.549773</td>\n",
       "      <td>2.811884</td>\n",
       "      <td>134.855132</td>\n",
       "      <td>...</td>\n",
       "      <td>-499.671731</td>\n",
       "      <td>14.985402</td>\n",
       "      <td>-499.433363</td>\n",
       "      <td>17.958526</td>\n",
       "      <td>-499.700202</td>\n",
       "      <td>12.005754</td>\n",
       "      <td>-499.913189</td>\n",
       "      <td>19.988856</td>\n",
       "      <td>-500.067257</td>\n",
       "      <td>85.859920</td>\n",
       "    </tr>\n",
       "    <tr>\n",
       "      <td>75%</td>\n",
       "      <td>5.842961</td>\n",
       "      <td>11.174139</td>\n",
       "      <td>10.559044</td>\n",
       "      <td>46.148753</td>\n",
       "      <td>72.655133</td>\n",
       "      <td>11.053855</td>\n",
       "      <td>3.208999</td>\n",
       "      <td>11.940095</td>\n",
       "      <td>3.367648</td>\n",
       "      <td>160.809840</td>\n",
       "      <td>...</td>\n",
       "      <td>-414.456428</td>\n",
       "      <td>20.080575</td>\n",
       "      <td>-400.074484</td>\n",
       "      <td>22.000981</td>\n",
       "      <td>-453.687097</td>\n",
       "      <td>18.013381</td>\n",
       "      <td>-450.338655</td>\n",
       "      <td>24.992721</td>\n",
       "      <td>-499.545878</td>\n",
       "      <td>90.479728</td>\n",
       "    </tr>\n",
       "    <tr>\n",
       "      <td>max</td>\n",
       "      <td>16.001945</td>\n",
       "      <td>15.160977</td>\n",
       "      <td>18.046395</td>\n",
       "      <td>52.681725</td>\n",
       "      <td>100.000000</td>\n",
       "      <td>19.552149</td>\n",
       "      <td>5.639565</td>\n",
       "      <td>22.272019</td>\n",
       "      <td>6.892906</td>\n",
       "      <td>250.127834</td>\n",
       "      <td>...</td>\n",
       "      <td>-245.239184</td>\n",
       "      <td>24.007913</td>\n",
       "      <td>-145.071088</td>\n",
       "      <td>43.709931</td>\n",
       "      <td>-275.073125</td>\n",
       "      <td>27.926001</td>\n",
       "      <td>-157.396071</td>\n",
       "      <td>32.188906</td>\n",
       "      <td>-104.427459</td>\n",
       "      <td>100.000000</td>\n",
       "    </tr>\n",
       "  </tbody>\n",
       "</table>\n",
       "<p>8 rows × 87 columns</p>\n",
       "</div>"
      ],
      "text/plain": [
       "       final.output.concentrate_ag  final.output.concentrate_pb  \\\n",
       "count                 13118.000000                 13118.000000   \n",
       "mean                      5.146812                    10.183573   \n",
       "std                       1.299514                     1.495026   \n",
       "min                       0.289059                     0.332391   \n",
       "25%                       4.221933                     9.310897   \n",
       "50%                       4.991137                    10.306605   \n",
       "75%                       5.842961                    11.174139   \n",
       "max                      16.001945                    15.160977   \n",
       "\n",
       "       final.output.concentrate_sol  final.output.concentrate_au  \\\n",
       "count                  13118.000000                 13118.000000   \n",
       "mean                       9.251640                    44.315903   \n",
       "std                        2.823800                     3.642224   \n",
       "min                        0.291099                     1.063992   \n",
       "25%                        7.537723                    43.382179   \n",
       "50%                        8.910384                    44.904381   \n",
       "75%                       10.559044                    46.148753   \n",
       "max                       18.046395                    52.681725   \n",
       "\n",
       "       final.output.recovery  final.output.tail_ag  final.output.tail_pb  \\\n",
       "count           13118.000000          13118.000000          13118.000000   \n",
       "mean               68.098488              9.656147              2.570024   \n",
       "std                 7.277974              2.318075              0.967906   \n",
       "min                50.010383              0.000000              0.000000   \n",
       "25%                63.569442              8.027590              1.887746   \n",
       "50%                67.886967              9.566519              2.567692   \n",
       "75%                72.655133             11.053855              3.208999   \n",
       "max               100.000000             19.552149              5.639565   \n",
       "\n",
       "       final.output.tail_sol  final.output.tail_au  \\\n",
       "count           13118.000000          13118.000000   \n",
       "mean               10.556802              2.851457   \n",
       "std                 2.978198              0.816881   \n",
       "min                 0.000000              0.000000   \n",
       "25%                 8.842395              2.349893   \n",
       "50%                10.549773              2.811884   \n",
       "75%                11.940095              3.367648   \n",
       "max                22.272019              6.892906   \n",
       "\n",
       "       primary_cleaner.input.sulfate  ...  \\\n",
       "count                   13118.000000  ...   \n",
       "mean                      135.684462  ...   \n",
       "std                        37.794518  ...   \n",
       "min                         0.003112  ...   \n",
       "25%                       110.192893  ...   \n",
       "50%                       134.855132  ...   \n",
       "75%                       160.809840  ...   \n",
       "max                       250.127834  ...   \n",
       "\n",
       "       secondary_cleaner.state.floatbank4_a_level  \\\n",
       "count                                13118.000000   \n",
       "mean                                  -477.979255   \n",
       "std                                     50.806101   \n",
       "min                                   -799.706757   \n",
       "25%                                   -500.616969   \n",
       "50%                                   -499.671731   \n",
       "75%                                   -414.456428   \n",
       "max                                   -245.239184   \n",
       "\n",
       "       secondary_cleaner.state.floatbank4_b_air  \\\n",
       "count                              13118.000000   \n",
       "mean                                  15.603243   \n",
       "std                                    5.275779   \n",
       "min                                    0.000000   \n",
       "25%                                   11.938721   \n",
       "50%                                   14.985402   \n",
       "75%                                   20.080575   \n",
       "max                                   24.007913   \n",
       "\n",
       "       secondary_cleaner.state.floatbank4_b_level  \\\n",
       "count                                13118.000000   \n",
       "mean                                  -460.912300   \n",
       "std                                     58.322627   \n",
       "min                                   -799.860840   \n",
       "25%                                   -500.154501   \n",
       "50%                                   -499.433363   \n",
       "75%                                   -400.074484   \n",
       "max                                   -145.071088   \n",
       "\n",
       "       secondary_cleaner.state.floatbank5_a_air  \\\n",
       "count                              13118.000000   \n",
       "mean                                  16.907683   \n",
       "std                                    5.833610   \n",
       "min                                   -0.372054   \n",
       "25%                                   11.914259   \n",
       "50%                                   17.958526   \n",
       "75%                                   22.000981   \n",
       "max                                   43.709931   \n",
       "\n",
       "       secondary_cleaner.state.floatbank5_a_level  \\\n",
       "count                                13118.000000   \n",
       "mean                                  -483.658444   \n",
       "std                                     38.136270   \n",
       "min                                   -797.142475   \n",
       "25%                                   -500.359093   \n",
       "50%                                   -499.700202   \n",
       "75%                                   -453.687097   \n",
       "max                                   -275.073125   \n",
       "\n",
       "       secondary_cleaner.state.floatbank5_b_air  \\\n",
       "count                              13118.000000   \n",
       "mean                                  13.159048   \n",
       "std                                    5.795557   \n",
       "min                                    0.646208   \n",
       "25%                                    8.992910   \n",
       "50%                                   12.005754   \n",
       "75%                                   18.013381   \n",
       "max                                   27.926001   \n",
       "\n",
       "       secondary_cleaner.state.floatbank5_b_level  \\\n",
       "count                                13118.000000   \n",
       "mean                                  -483.456115   \n",
       "std                                     38.329189   \n",
       "min                                   -799.985879   \n",
       "25%                                   -500.105078   \n",
       "50%                                   -499.913189   \n",
       "75%                                   -450.338655   \n",
       "max                                   -157.396071   \n",
       "\n",
       "       secondary_cleaner.state.floatbank6_a_air  \\\n",
       "count                              13118.000000   \n",
       "mean                                  19.694462   \n",
       "std                                    5.749437   \n",
       "min                                    0.195324   \n",
       "25%                                   14.990632   \n",
       "50%                                   19.988856   \n",
       "75%                                   24.992721   \n",
       "max                                   32.188906   \n",
       "\n",
       "       secondary_cleaner.state.floatbank6_a_level  rougher.output.recovery_new  \n",
       "count                                13118.000000                 13118.000000  \n",
       "mean                                  -507.147310                    85.202821  \n",
       "std                                     37.272250                     6.871821  \n",
       "min                                   -809.398668                    60.044710  \n",
       "25%                                   -500.760742                    80.928058  \n",
       "50%                                   -500.067257                    85.859920  \n",
       "75%                                   -499.545878                    90.479728  \n",
       "max                                   -104.427459                   100.000000  \n",
       "\n",
       "[8 rows x 87 columns]"
      ]
     },
     "execution_count": 23,
     "metadata": {},
     "output_type": "execute_result"
    }
   ],
   "source": [
    "gold_recovery_train = gold_recovery_train[gold_recovery_train['rougher.output.recovery'] > 60]\n",
    "gold_recovery_train = gold_recovery_train[gold_recovery_train['final.output.recovery'] > 50]\n",
    "gold_recovery_train.describe()"
   ]
  },
  {
   "cell_type": "markdown",
   "metadata": {},
   "source": [
    "Признаки распределены нормально. После удаления выбросов потеряли примерно 7% данных, что в принципе допустимо. "
   ]
  },
  {
   "cell_type": "markdown",
   "metadata": {},
   "source": [
    "## Анализ данных ##"
   ]
  },
  {
   "cell_type": "markdown",
   "metadata": {},
   "source": [
    "###  Посмотрите, как меняется концентрация металлов (Au, Ag, Pb) на различных этапах очистки. Опишите выводы ###"
   ]
  },
  {
   "cell_type": "markdown",
   "metadata": {},
   "source": [
    "Построим графики концентрации"
   ]
  },
  {
   "cell_type": "code",
   "execution_count": 24,
   "metadata": {},
   "outputs": [
    {
     "data": {
      "image/png": "[encoded data removed]",
      "text/plain": [
       "<Figure size 864x432 with 1 Axes>"
      ]
     },
     "metadata": {},
     "output_type": "display_data"
    },
    {
     "data": {
      "image/png": "[encoded data removed]",
      "text/plain": [
       "<Figure size 864x432 with 1 Axes>"
      ]
     },
     "metadata": {},
     "output_type": "display_data"
    },
    {
     "data": {
      "image/png": "[encoded data removed]",
      "text/plain": [
       "<Figure size 864x432 with 1 Axes>"
      ]
     },
     "metadata": {},
     "output_type": "display_data"
    }
   ],
   "source": [
    "metals = ['au', 'ag', 'pb']\n",
    "\n",
    "for m in metals:\n",
    "    plt.figure(figsize=(12,6))\n",
    "    plt.title(m)\n",
    "    sns.kdeplot(data=gold_recovery_train['rougher.input.feed_'+m],label='сырье')\n",
    "    sns.kdeplot(data=gold_recovery_train['rougher.output.concentrate_'+m],label='флотация')\n",
    "    sns.kdeplot(data=gold_recovery_train['primary_cleaner.output.concentrate_'+m],label='первичная очистка')\n",
    "    sns.kdeplot(data=gold_recovery_train['final.output.concentrate_'+m],label='финальные характеристики')\n",
    "\n"
   ]
  },
  {
   "cell_type": "code",
   "execution_count": 25,
   "metadata": {},
   "outputs": [
    {
     "data": {
      "image/png": "[encoded data removed]",
      "text/plain": [
       "<Figure size 432x288 with 1 Axes>"
      ]
     },
     "metadata": {},
     "output_type": "display_data"
    }
   ],
   "source": [
    "for m in metals:    \n",
    "    plt.title(\"Хвосты после флотации\")\n",
    "    sns.kdeplot(data=gold_recovery_train['rougher.output.tail_'+m], label=m)"
   ]
  },
  {
   "cell_type": "code",
   "execution_count": 26,
   "metadata": {},
   "outputs": [
    {
     "data": {
      "image/png": "[encoded data removed]",
      "text/plain": [
       "<Figure size 432x288 with 1 Axes>"
      ]
     },
     "metadata": {},
     "output_type": "display_data"
    }
   ],
   "source": [
    "for m in metals:    \n",
    "    plt.title(\"Хвосты после первичной очистки\")\n",
    "    sns.kdeplot(data=gold_recovery_train['primary_cleaner.output.tail_'+m], label=m)\n",
    " "
   ]
  },
  {
   "cell_type": "code",
   "execution_count": 27,
   "metadata": {},
   "outputs": [
    {
     "data": {
      "image/png": "[encoded data removed]",
      "text/plain": [
       "<Figure size 432x288 with 1 Axes>"
      ]
     },
     "metadata": {},
     "output_type": "display_data"
    }
   ],
   "source": [
    "for m in metals:    \n",
    "    plt.title(\"Хвосты после финальной очистки\")\n",
    "    sns.kdeplot(data=gold_recovery_train['final.output.tail_'+m], label=m)\n",
    " "
   ]
  },
  {
   "cell_type": "markdown",
   "metadata": {},
   "source": [
    "Концентрация золота (au) меняется наиболее естественно, наименьшая концентрация в сырье, наибольшая - в финале. <br>\n",
    "После финальной очистки остается высокая концентрация золота и свинца и минимальная концентрация серебра. <br>\n",
    "Все серебро оказалось в хвостах. <br>\n",
    "\n",
    "\n"
   ]
  },
  {
   "cell_type": "markdown",
   "metadata": {},
   "source": [
    "### Сравните распределения размеров гранул сырья на обучающей и тестовой выборках. ###"
   ]
  },
  {
   "cell_type": "markdown",
   "metadata": {},
   "source": [
    "Если распределения сильно отличаются друг от друга, оценка модели будет неправильной."
   ]
  },
  {
   "cell_type": "markdown",
   "metadata": {},
   "source": [
    "Размер гранул сырья у нас встречается в исходном сырье и на этапе флотации. "
   ]
  },
  {
   "cell_type": "code",
   "execution_count": 28,
   "metadata": {},
   "outputs": [
    {
     "data": {
      "text/plain": [
       "<matplotlib.legend.Legend at 0x7ffa38baab10>"
      ]
     },
     "execution_count": 28,
     "metadata": {},
     "output_type": "execute_result"
    },
    {
     "data": {
      "image/png": "[encoded data removed]",
      "text/plain": [
       "<Figure size 720x432 with 1 Axes>"
      ]
     },
     "metadata": {},
     "output_type": "display_data"
    }
   ],
   "source": [
    "plt.figure(figsize=(10,6))\n",
    "plt.title('Распределение размеров гранул сырья')\n",
    "sns.distplot(gold_recovery_train['rougher.input.feed_size'], label='Обучающая выборка', color=\"Teal\", kde=True, bins=100)\n",
    "sns.distplot(gold_recovery_test['rougher.input.feed_size'], label='Тестовая выборка', color=\"Salmon\", kde=True, bins=100 )\n",
    "\n",
    "plt.legend()"
   ]
  },
  {
   "cell_type": "markdown",
   "metadata": {},
   "source": [
    "Распределения отличаются, но не критично"
   ]
  },
  {
   "cell_type": "code",
   "execution_count": 29,
   "metadata": {},
   "outputs": [
    {
     "data": {
      "text/plain": [
       "<matplotlib.legend.Legend at 0x7ffa38aac790>"
      ]
     },
     "execution_count": 29,
     "metadata": {},
     "output_type": "execute_result"
    },
    {
     "data": {
      "image/png": "[encoded data removed]",
      "text/plain": [
       "<Figure size 720x432 with 1 Axes>"
      ]
     },
     "metadata": {},
     "output_type": "display_data"
    }
   ],
   "source": [
    "plt.figure(figsize=(10,6))\n",
    "plt.title('Распределение размеров гранул сырья после флотации')\n",
    "sns.distplot(gold_recovery_train['primary_cleaner.input.feed_size'], label='Обучающая выборка', color=\"Teal\", kde=True, bins=100)\n",
    "sns.distplot(gold_recovery_test['primary_cleaner.input.feed_size'], label='Тестовая выборка', color=\"Salmon\", kde=True, bins=100 )\n",
    "\n",
    "plt.legend()\n"
   ]
  },
  {
   "cell_type": "markdown",
   "metadata": {},
   "source": [
    "Распределения одинаковы, значит можно строить модель. "
   ]
  },
  {
   "cell_type": "markdown",
   "metadata": {},
   "source": [
    "### Исследуйте суммарную концентрацию всех веществ на разных стадиях: в сырье, в черновом и финальном концентратах. ###\n"
   ]
  },
  {
   "cell_type": "code",
   "execution_count": 30,
   "metadata": {},
   "outputs": [],
   "source": [
    "metals = ['au', 'ag', 'pb', 'sol']\n",
    "stages = ['rougher.input.feed_'         \n",
    "         ,'rougher.output.concentrate_'\n",
    "         ,'primary_cleaner.output.concentrate_'\n",
    "         ,'final.output.concentrate_'\n",
    "         ]"
   ]
  },
  {
   "cell_type": "code",
   "execution_count": 31,
   "metadata": {},
   "outputs": [
    {
     "name": "stdout",
     "output_type": "stream",
     "text": [
      "rougher.input.feed_ 742498.0659639684\n",
      "rougher.output.concentrate_ 901094.1637305188\n",
      "primary_cleaner.output.concentrate_ 792044.2493616719\n",
      "final.output.concentrate_ 903803.0092746981\n"
     ]
    }
   ],
   "source": [
    "for stage in stages:\n",
    "    gold_recovery_train[stage+'sum'] = 0\n",
    "    for m in metals:  \n",
    "        gold_recovery_train[stage +'sum'] += gold_recovery_train[stage+m]    \n",
    "    print(stage, gold_recovery_train[stage +'sum'].sum() )\n",
    "\n"
   ]
  },
  {
   "cell_type": "code",
   "execution_count": 32,
   "metadata": {},
   "outputs": [
    {
     "data": {
      "text/html": [
       "<div>\n",
       "<style scoped>\n",
       "    .dataframe tbody tr th:only-of-type {\n",
       "        vertical-align: middle;\n",
       "    }\n",
       "\n",
       "    .dataframe tbody tr th {\n",
       "        vertical-align: top;\n",
       "    }\n",
       "\n",
       "    .dataframe thead th {\n",
       "        text-align: right;\n",
       "    }\n",
       "</style>\n",
       "<table border=\"1\" class=\"dataframe\">\n",
       "  <thead>\n",
       "    <tr style=\"text-align: right;\">\n",
       "      <th></th>\n",
       "      <th>date</th>\n",
       "      <th>final.output.concentrate_ag</th>\n",
       "      <th>final.output.concentrate_pb</th>\n",
       "      <th>final.output.concentrate_sol</th>\n",
       "      <th>final.output.concentrate_au</th>\n",
       "      <th>final.output.recovery</th>\n",
       "      <th>final.output.tail_ag</th>\n",
       "      <th>final.output.tail_pb</th>\n",
       "      <th>final.output.tail_sol</th>\n",
       "      <th>final.output.tail_au</th>\n",
       "      <th>...</th>\n",
       "      <th>secondary_cleaner.state.floatbank5_a_level</th>\n",
       "      <th>secondary_cleaner.state.floatbank5_b_air</th>\n",
       "      <th>secondary_cleaner.state.floatbank5_b_level</th>\n",
       "      <th>secondary_cleaner.state.floatbank6_a_air</th>\n",
       "      <th>secondary_cleaner.state.floatbank6_a_level</th>\n",
       "      <th>rougher.output.recovery_new</th>\n",
       "      <th>rougher.input.feed_sum</th>\n",
       "      <th>rougher.output.concentrate_sum</th>\n",
       "      <th>primary_cleaner.output.concentrate_sum</th>\n",
       "      <th>final.output.concentrate_sum</th>\n",
       "    </tr>\n",
       "  </thead>\n",
       "  <tbody>\n",
       "    <tr>\n",
       "      <td>0</td>\n",
       "      <td>2016-01-15 00:00:00</td>\n",
       "      <td>6.055403</td>\n",
       "      <td>9.889648</td>\n",
       "      <td>5.507324</td>\n",
       "      <td>42.192020</td>\n",
       "      <td>70.541216</td>\n",
       "      <td>10.411962</td>\n",
       "      <td>0.895447</td>\n",
       "      <td>16.904297</td>\n",
       "      <td>2.143149</td>\n",
       "      <td>...</td>\n",
       "      <td>-498.310211</td>\n",
       "      <td>8.079666</td>\n",
       "      <td>-500.470978</td>\n",
       "      <td>14.151341</td>\n",
       "      <td>-605.841980</td>\n",
       "      <td>87.107763</td>\n",
       "      <td>51.680034</td>\n",
       "      <td>66.42495</td>\n",
       "      <td>72.640924</td>\n",
       "      <td>63.644396</td>\n",
       "    </tr>\n",
       "    <tr>\n",
       "      <td>1</td>\n",
       "      <td>2016-01-15 01:00:00</td>\n",
       "      <td>6.029369</td>\n",
       "      <td>9.968944</td>\n",
       "      <td>5.257781</td>\n",
       "      <td>42.701629</td>\n",
       "      <td>69.266198</td>\n",
       "      <td>10.462676</td>\n",
       "      <td>0.927452</td>\n",
       "      <td>16.634514</td>\n",
       "      <td>2.224930</td>\n",
       "      <td>...</td>\n",
       "      <td>-500.169983</td>\n",
       "      <td>7.984757</td>\n",
       "      <td>-500.582168</td>\n",
       "      <td>13.998353</td>\n",
       "      <td>-599.787184</td>\n",
       "      <td>86.843261</td>\n",
       "      <td>50.659114</td>\n",
       "      <td>67.01271</td>\n",
       "      <td>72.543485</td>\n",
       "      <td>63.957723</td>\n",
       "    </tr>\n",
       "  </tbody>\n",
       "</table>\n",
       "<p>2 rows × 92 columns</p>\n",
       "</div>"
      ],
      "text/plain": [
       "                 date  final.output.concentrate_ag  \\\n",
       "0 2016-01-15 00:00:00                     6.055403   \n",
       "1 2016-01-15 01:00:00                     6.029369   \n",
       "\n",
       "   final.output.concentrate_pb  final.output.concentrate_sol  \\\n",
       "0                     9.889648                      5.507324   \n",
       "1                     9.968944                      5.257781   \n",
       "\n",
       "   final.output.concentrate_au  final.output.recovery  final.output.tail_ag  \\\n",
       "0                    42.192020              70.541216             10.411962   \n",
       "1                    42.701629              69.266198             10.462676   \n",
       "\n",
       "   final.output.tail_pb  final.output.tail_sol  final.output.tail_au  ...  \\\n",
       "0              0.895447              16.904297              2.143149  ...   \n",
       "1              0.927452              16.634514              2.224930  ...   \n",
       "\n",
       "   secondary_cleaner.state.floatbank5_a_level  \\\n",
       "0                                 -498.310211   \n",
       "1                                 -500.169983   \n",
       "\n",
       "   secondary_cleaner.state.floatbank5_b_air  \\\n",
       "0                                  8.079666   \n",
       "1                                  7.984757   \n",
       "\n",
       "   secondary_cleaner.state.floatbank5_b_level  \\\n",
       "0                                 -500.470978   \n",
       "1                                 -500.582168   \n",
       "\n",
       "   secondary_cleaner.state.floatbank6_a_air  \\\n",
       "0                                 14.151341   \n",
       "1                                 13.998353   \n",
       "\n",
       "   secondary_cleaner.state.floatbank6_a_level  rougher.output.recovery_new  \\\n",
       "0                                 -605.841980                    87.107763   \n",
       "1                                 -599.787184                    86.843261   \n",
       "\n",
       "   rougher.input.feed_sum  rougher.output.concentrate_sum  \\\n",
       "0               51.680034                        66.42495   \n",
       "1               50.659114                        67.01271   \n",
       "\n",
       "   primary_cleaner.output.concentrate_sum  final.output.concentrate_sum  \n",
       "0                               72.640924                     63.644396  \n",
       "1                               72.543485                     63.957723  \n",
       "\n",
       "[2 rows x 92 columns]"
      ]
     },
     "execution_count": 32,
     "metadata": {},
     "output_type": "execute_result"
    }
   ],
   "source": [
    "gold_recovery_train.head(2)\n"
   ]
  },
  {
   "cell_type": "code",
   "execution_count": 33,
   "metadata": {},
   "outputs": [
    {
     "data": {
      "text/plain": [
       "<matplotlib.axes._subplots.AxesSubplot at 0x7ffa38d4d950>"
      ]
     },
     "execution_count": 33,
     "metadata": {},
     "output_type": "execute_result"
    },
    {
     "data": {
      "image/png": "[encoded data removed]",
      "text/plain": [
       "<Figure size 864x432 with 1 Axes>"
      ]
     },
     "metadata": {},
     "output_type": "display_data"
    }
   ],
   "source": [
    "plt.figure(figsize=(12,6))\n",
    "plt.title('Cуммарная концентрация')\n",
    "sns.kdeplot(data=gold_recovery_train['rougher.input.feed_sum'],label='сырье')\n",
    "sns.kdeplot(data=gold_recovery_train['rougher.output.concentrate_sum'],label='флотация')\n",
    "sns.kdeplot(data=gold_recovery_train['primary_cleaner.output.concentrate_sum'],label='первичная очистка')\n",
    "sns.kdeplot(data=gold_recovery_train['final.output.concentrate_sum'],label='финальные характеристики')"
   ]
  },
  {
   "cell_type": "markdown",
   "metadata": {},
   "source": [
    "На графике заметны аномальные значения около нуля на стадии первичной очистки. Посмотрим и удалим выбросы. "
   ]
  },
  {
   "cell_type": "code",
   "execution_count": 34,
   "metadata": {},
   "outputs": [
    {
     "data": {
      "image/png": "[encoded data removed]",
      "text/plain": [
       "<Figure size 432x288 with 1 Axes>"
      ]
     },
     "metadata": {},
     "output_type": "display_data"
    }
   ],
   "source": [
    "sns.boxplot(x=gold_recovery_train[\"primary_cleaner.output.concentrate_sum\"], whis=3)\n",
    "\n",
    "gold_recovery_train = gold_recovery_train[gold_recovery_train['primary_cleaner.output.concentrate_sum'] > 10]"
   ]
  },
  {
   "cell_type": "markdown",
   "metadata": {},
   "source": [
    "**Вывод:** суммарная концентрация распределена нормально, наиболее высокая на финальной стадии. "
   ]
  },
  {
   "cell_type": "markdown",
   "metadata": {},
   "source": [
    "Это очень интересная информация, я даже пыталась найти ее. <br>\n",
    "В качестве эксперимента изменила интервал на q3+-3iqr, эти границы мне понравились больше. <br>\n",
    "\n",
    "Согласна с тем, что надо отличать ошибки измерений от реальных аномальных показателей, вдруг следующий набор тестовых данных будет содержать их большое количество. "
   ]
  },
  {
   "cell_type": "markdown",
   "metadata": {},
   "source": [
    "## Модель"
   ]
  },
  {
   "cell_type": "markdown",
   "metadata": {},
   "source": [
    "### Функция для вычисления итоговой sMAPE. ###"
   ]
  },
  {
   "cell_type": "markdown",
   "metadata": {},
   "source": [
    "<img src=\"https://pictures.s3.yandex.net/resources/smape_1576239058.jpg\" width=\"700px\" align=\"left\" > "
   ]
  },
  {
   "cell_type": "markdown",
   "metadata": {},
   "source": [
    "<img src=\"https://pictures.s3.yandex.net/resources/_smape_1576239054.jpg\" width=\"700px\" align=\"left\" > "
   ]
  },
  {
   "cell_type": "code",
   "execution_count": 35,
   "metadata": {},
   "outputs": [],
   "source": [
    "def sMAPE(target, predict):\n",
    "    return 1/len(target) * np.sum(np.abs(target-predict) / ((np.abs(target) + np.abs(predict))/2)*100)"
   ]
  },
  {
   "cell_type": "code",
   "execution_count": 36,
   "metadata": {},
   "outputs": [],
   "source": [
    "def final_sMAPE(smape_rougher, smape_final):\n",
    "    return 0.25*smape_rougher + 0.75*smape_final"
   ]
  },
  {
   "cell_type": "markdown",
   "metadata": {},
   "source": [
    "### Обучите разные модели и оцените их качество кросс-валидацией. Выберите лучшую модель и проверьте её на тестовой выборке. ###"
   ]
  },
  {
   "cell_type": "markdown",
   "metadata": {},
   "source": [
    "Создадим переменные для признаков и целевого признака.<br>\n",
    "Уберем из обучающей выборки столбцы, отсутствующие в тестовой выборке, а так же столбец date, так как для модели он не нужен. \n"
   ]
  },
  {
   "cell_type": "code",
   "execution_count": 37,
   "metadata": {},
   "outputs": [],
   "source": [
    "features_train = gold_recovery_train.drop(['rougher.output.recovery','final.output.recovery'],axis=1)\n",
    "features_train = features_train[gold_recovery_test.columns] \n",
    "features_train = features_train.drop(['date'],axis=1)\n",
    "\n",
    "target_train = gold_recovery_train['rougher.output.recovery']\n",
    "target_train_final = gold_recovery_train['final.output.recovery']"
   ]
  },
  {
   "cell_type": "markdown",
   "metadata": {},
   "source": [
    "Создадим пользовательскую метрику sMAPE"
   ]
  },
  {
   "cell_type": "code",
   "execution_count": 38,
   "metadata": {},
   "outputs": [],
   "source": [
    "custom_score = make_scorer(sMAPE,greater_is_better=False)"
   ]
  },
  {
   "cell_type": "markdown",
   "metadata": {},
   "source": [
    "Выберем лучшую модель с помощью сетки GridSearchCV. <br>\n",
    "Будем рассматривать три модели регрессии, решающее дерево, случайный лес и линейную регрессию.  <br>\n",
    "Параметр кросс-валидации cv поставим равным 5. \n"
   ]
  },
  {
   "cell_type": "code",
   "execution_count": 39,
   "metadata": {},
   "outputs": [],
   "source": [
    "models = {\n",
    "    'DecisionTreeRegressor': DecisionTreeRegressor(),\n",
    "    'RandomForestRegressor': RandomForestRegressor(),\n",
    "    'LinearRegression': LinearRegression()\n",
    "}\n",
    "\n",
    "params = {\n",
    "    'DecisionTreeRegressor':{ \n",
    "        'max_depth': range(2,10,2)        \n",
    "        },\n",
    "    'RandomForestRegressor': {\n",
    "        'max_depth': [5], # тут было range(1,12,2),\n",
    "        'n_estimators': [61] # тут было range (1,100,20)         \n",
    "        },\n",
    "    'LinearRegression':  {\n",
    "        'fit_intercept':[True,False], \n",
    "        'normalize':[True,False], \n",
    "        'copy_X':[True, False]}\n",
    "}"
   ]
  },
  {
   "cell_type": "code",
   "execution_count": 40,
   "metadata": {},
   "outputs": [],
   "source": [
    "def fit_model(features_train, target_train):\n",
    "    best_result = 100\n",
    "    for name in models.keys():          \n",
    "        grid = GridSearchCV(models[name], params[name], scoring = custom_score, cv = 5)\n",
    "        grid.fit(features_train, target_train)\n",
    "        print('Best model:', grid.best_params_)\n",
    "        print('Best params:', grid.best_params_)\n",
    "        print('Best sMAPE:', -grid.best_score_)\n",
    "        result = -grid.best_score_\n",
    "        if result < best_result:\n",
    "            best_result = -grid.best_score_\n",
    "    return best_result"
   ]
  },
  {
   "cell_type": "code",
   "execution_count": 41,
   "metadata": {},
   "outputs": [
    {
     "name": "stdout",
     "output_type": "stream",
     "text": [
      "Best model: DecisionTreeRegressor(criterion='mse', max_depth=None, max_features=None,\n",
      "                      max_leaf_nodes=None, min_impurity_decrease=0.0,\n",
      "                      min_impurity_split=None, min_samples_leaf=1,\n",
      "                      min_samples_split=2, min_weight_fraction_leaf=0.0,\n",
      "                      presort=False, random_state=None, splitter='best')\n",
      "Best params: {'max_depth': 4}\n",
      "Best sMAPE: 6.214057199783837\n",
      "Best model: RandomForestRegressor(bootstrap=True, criterion='mse', max_depth=None,\n",
      "                      max_features='auto', max_leaf_nodes=None,\n",
      "                      min_impurity_decrease=0.0, min_impurity_split=None,\n",
      "                      min_samples_leaf=1, min_samples_split=2,\n",
      "                      min_weight_fraction_leaf=0.0, n_estimators='warn',\n",
      "                      n_jobs=None, oob_score=False, random_state=None,\n",
      "                      verbose=0, warm_start=False)\n",
      "Best params: {'max_depth': 5, 'n_estimators': 61}\n",
      "Best sMAPE: 5.948726960689661\n",
      "Best model: LinearRegression(copy_X=True, fit_intercept=True, n_jobs=None, normalize=False)\n",
      "Best params: {'copy_X': True, 'fit_intercept': True, 'normalize': True}\n",
      "Best sMAPE: 6.159691027930671\n"
     ]
    }
   ],
   "source": [
    "smape_rougher = fit_model(features_train,target_train)"
   ]
  },
  {
   "cell_type": "code",
   "execution_count": 42,
   "metadata": {},
   "outputs": [
    {
     "name": "stdout",
     "output_type": "stream",
     "text": [
      "5.948726960689661\n"
     ]
    }
   ],
   "source": [
    "print(smape_rougher)"
   ]
  },
  {
   "cell_type": "code",
   "execution_count": 43,
   "metadata": {},
   "outputs": [
    {
     "name": "stdout",
     "output_type": "stream",
     "text": [
      "Best model: DecisionTreeRegressor(criterion='mse', max_depth=None, max_features=None,\n",
      "                      max_leaf_nodes=None, min_impurity_decrease=0.0,\n",
      "                      min_impurity_split=None, min_samples_leaf=1,\n",
      "                      min_samples_split=2, min_weight_fraction_leaf=0.0,\n",
      "                      presort=False, random_state=None, splitter='best')\n",
      "Best params: {'max_depth': 4}\n",
      "Best sMAPE: 7.906696985176684\n",
      "Best model: RandomForestRegressor(bootstrap=True, criterion='mse', max_depth=None,\n",
      "                      max_features='auto', max_leaf_nodes=None,\n",
      "                      min_impurity_decrease=0.0, min_impurity_split=None,\n",
      "                      min_samples_leaf=1, min_samples_split=2,\n",
      "                      min_weight_fraction_leaf=0.0, n_estimators='warn',\n",
      "                      n_jobs=None, oob_score=False, random_state=None,\n",
      "                      verbose=0, warm_start=False)\n",
      "Best params: {'max_depth': 5, 'n_estimators': 61}\n",
      "Best sMAPE: 7.265277071747108\n",
      "Best model: LinearRegression(copy_X=True, fit_intercept=True, n_jobs=None, normalize=False)\n",
      "Best params: {'copy_X': True, 'fit_intercept': True, 'normalize': False}\n",
      "Best sMAPE: 8.352424391448617\n"
     ]
    }
   ],
   "source": [
    "smape_final = fit_model(features_train,target_train_final)"
   ]
  },
  {
   "cell_type": "code",
   "execution_count": 44,
   "metadata": {},
   "outputs": [
    {
     "name": "stdout",
     "output_type": "stream",
     "text": [
      "7.265277071747108\n"
     ]
    }
   ],
   "source": [
    "print(smape_final)"
   ]
  },
  {
   "cell_type": "code",
   "execution_count": 45,
   "metadata": {},
   "outputs": [
    {
     "name": "stdout",
     "output_type": "stream",
     "text": [
      "Итоговая sMAPE на обучающей выборке: 6.936139543982747\n"
     ]
    }
   ],
   "source": [
    "print('Итоговая sMAPE на обучающей выборке:', final_sMAPE(smape_rougher,smape_final))"
   ]
  },
  {
   "cell_type": "markdown",
   "metadata": {},
   "source": [
    "**Вывод:** лучшей моделью оказался случайный лес с параметрами: max_depth = 5, n_estimators = 61, sMAPE составляет примерно 6 для чернового концентрата и 7.30 для финального. Итоговая sMAPE на обучающей выборке - 6.93"
   ]
  },
  {
   "cell_type": "markdown",
   "metadata": {},
   "source": [
    "### Проверка модели на тестовой выборке ###\n"
   ]
  },
  {
   "cell_type": "markdown",
   "metadata": {},
   "source": [
    "Добавим в тестовую выборку столбцы recovery из полной выборки "
   ]
  },
  {
   "cell_type": "code",
   "execution_count": 46,
   "metadata": {},
   "outputs": [],
   "source": [
    "targets=gold_recovery_full[['date','rougher.output.recovery','final.output.recovery']]"
   ]
  },
  {
   "cell_type": "code",
   "execution_count": 47,
   "metadata": {},
   "outputs": [],
   "source": [
    "gold_recovery_test1=gold_recovery_test.merge(targets,on=['date'],how='left')"
   ]
  },
  {
   "cell_type": "markdown",
   "metadata": {},
   "source": [
    "Создадим переменные для признаков и целевого признака.<br>"
   ]
  },
  {
   "cell_type": "code",
   "execution_count": 48,
   "metadata": {},
   "outputs": [],
   "source": [
    "features_test = gold_recovery_test1.drop(['date', 'rougher.output.recovery','final.output.recovery'],axis=1)\n",
    "target_test = gold_recovery_test1['rougher.output.recovery']\n",
    "target_test_final = gold_recovery_test1['final.output.recovery']"
   ]
  },
  {
   "cell_type": "markdown",
   "metadata": {},
   "source": [
    "Обучим лучшую модель"
   ]
  },
  {
   "cell_type": "code",
   "execution_count": 49,
   "metadata": {},
   "outputs": [
    {
     "name": "stdout",
     "output_type": "stream",
     "text": [
      "7.938474592842317 9.133999282627132\n",
      "Итоговая sMAPE: 8.835118110180929\n"
     ]
    }
   ],
   "source": [
    "model = RandomForestRegressor(n_estimators=61, max_depth=5)\n",
    "model.fit(features_train, target_train) \n",
    "predictions_test = model.predict(features_test) \n",
    "smape_rougher_test = sMAPE(target_test, predictions_test)\n",
    "\n",
    "model_final = RandomForestRegressor(n_estimators=61, max_depth=5)\n",
    "model_final.fit(features_train, target_train_final) \n",
    "predictions_test_final = model_final.predict(features_test) \n",
    "smape_final_test = sMAPE(target_test_final, predictions_test_final)\n",
    "\n",
    "print(smape_rougher_test, smape_final_test)\n",
    "print('Итоговая sMAPE:', final_sMAPE(smape_rougher_test,smape_final_test))"
   ]
  },
  {
   "cell_type": "markdown",
   "metadata": {},
   "source": [
    "## Общий вывод ##"
   ]
  },
  {
   "cell_type": "markdown",
   "metadata": {},
   "source": [
    "Мы проанализировали данные по параметрам добычи и очистки золотосодержащей руды, построили и обучили модели. <br> \n",
    "Обработали и исправили данные из трех выборок, заполнили пропуски, удалили аномальные выбросы. Проверили формулы расчета эффективности обогащения концентрата и предсказали коэффициент восстановления золота из золотосодержащей руды.<br> \n",
    "Средняя абсолютная ошибка эффективности обогащения = 9.9019589057752e-15\n",
    "\n",
    "Добытая руда проходит три стадии стадии очистки, от сырья до финального концентрата. На каждом этапе мы рассмотрели изменение концентрации веществ и сравнили распределения гранул сырья. \n",
    "\n",
    "На каждой стадии концентрация металлов увеличиваются и образуются \"отвальные хвосты\". На финальном этапе максимальную концентрацию имеют золото и свинец, а вот концентрация серебра уменьшается. \n",
    "\n",
    "Используя метрики качества обогащения, мы обучили три модели регрессии - решающее дерево, случайный лес и линейную регрессию, оценили качество кросс-валидацией и получили предсказания для двух целевых признаков, финального и промежуточного. Для построения модели мы также выделили признаки, которые изначально присутствуют в тестовых данных и не являются расчетными в ходе очистки. \n",
    "\n",
    "Лучший показатель метрики качества sMAPE у модели Случайный Лес с параметрами: max_depth = 5, n_estimators = 61. \n",
    "Средняя sMAPE составляет примерно 6 для чернового концентрата и 8 для финального.\n",
    "\n",
    "Итоговая метрика состоит из метрик качества чернового и финального концентрата и составляет примерно 7 для модели и 8.7 для тестовых данных. "
   ]
  },
  {
   "cell_type": "raw",
   "metadata": {},
   "source": [
    "dummy_regressor_rougher = DummyRegressor(strategy=\"median\")\n",
    "dummy_regressor_rougher.fit(X_train, y_train_rougher)\n",
    "dummy_rougher_pred = dummy_regressor_rougher.predict(X_test)\n",
    "smape_dummy_rougher = smape(y_test_rougher, dummy_rougher_pred)\n",
    "print(smape_dummy_rougher)"
   ]
  },
  {
   "cell_type": "code",
   "execution_count": 50,
   "metadata": {},
   "outputs": [
    {
     "name": "stdout",
     "output_type": "stream",
     "text": [
      "smape_dummy_rougher 8.3944012200724\n",
      "smape_dummy_final 9.595044809477468\n",
      "Итоговая dummy sMAPE: 9.2948839121262\n"
     ]
    }
   ],
   "source": [
    "dummy_model = DummyRegressor(strategy=\"median\")\n",
    "dummy_model_final = DummyRegressor(strategy=\"median\")\n",
    "\n",
    "dummy_model.fit(features_train,target_train)\n",
    "dummy_model_final.fit(features_train,target_train_final)\n",
    "\n",
    "dummy_rougher_pred = dummy_model.predict(features_test)\n",
    "smape_dummy_rougher = sMAPE(target_test, dummy_rougher_pred)\n",
    "print('smape_dummy_rougher', smape_dummy_rougher)\n",
    "\n",
    "dummy_final_pred = dummy_model_final.predict(features_test)\n",
    "smape_dummy_final = sMAPE(target_test_final, dummy_final_pred)\n",
    "print('smape_dummy_final', smape_dummy_final)\n",
    "\n",
    "print('Итоговая dummy sMAPE:', final_sMAPE(smape_dummy_rougher,smape_dummy_final))\n"
   ]
  },
  {
   "cell_type": "markdown",
   "metadata": {},
   "source": [
    "Наша метрика - 8.78, метрика dummy-модели - 9.29. <br>\n",
    "Вывод - наша модель адекватна и предсказывает лучше. "
   ]
  }
 ],
 "metadata": {
  "ExecuteTimeLog": [
   {
    "duration": 1449,
    "start_time": "2021-07-01T21:44:59.207Z"
   },
   {
    "duration": 343,
    "start_time": "2021-07-01T21:45:00.658Z"
   },
   {
    "duration": 105,
    "start_time": "2021-07-01T21:45:01.004Z"
   },
   {
    "duration": 457,
    "start_time": "2021-07-01T21:45:01.112Z"
   },
   {
    "duration": 24,
    "start_time": "2021-07-01T21:45:20.345Z"
   },
   {
    "duration": 24,
    "start_time": "2021-07-01T21:45:37.245Z"
   },
   {
    "duration": 34,
    "start_time": "2021-07-01T21:46:03.519Z"
   },
   {
    "duration": 15,
    "start_time": "2021-07-01T21:47:32.021Z"
   },
   {
    "duration": 385,
    "start_time": "2021-07-01T21:48:18.659Z"
   },
   {
    "duration": 16,
    "start_time": "2021-07-01T21:48:23.347Z"
   },
   {
    "duration": 13,
    "start_time": "2021-07-01T21:48:59.101Z"
   },
   {
    "duration": 1024,
    "start_time": "2021-07-01T21:49:20.343Z"
   },
   {
    "duration": 14,
    "start_time": "2021-07-01T21:49:27.085Z"
   },
   {
    "duration": 12,
    "start_time": "2021-07-01T21:49:40.581Z"
   },
   {
    "duration": 13,
    "start_time": "2021-07-01T21:50:32.527Z"
   },
   {
    "duration": 417,
    "start_time": "2021-07-03T20:20:29.377Z"
   },
   {
    "duration": 1479,
    "start_time": "2021-07-03T20:20:33.075Z"
   },
   {
    "duration": 360,
    "start_time": "2021-07-03T20:20:34.557Z"
   },
   {
    "duration": 106,
    "start_time": "2021-07-03T20:20:34.920Z"
   },
   {
    "duration": 465,
    "start_time": "2021-07-03T20:20:35.029Z"
   },
   {
    "duration": 15,
    "start_time": "2021-07-03T20:20:35.497Z"
   },
   {
    "duration": 42,
    "start_time": "2021-07-03T20:20:35.514Z"
   },
   {
    "duration": 348,
    "start_time": "2021-07-03T20:40:28.365Z"
   },
   {
    "duration": 3,
    "start_time": "2021-07-03T20:42:34.267Z"
   },
   {
    "duration": 13,
    "start_time": "2021-07-03T20:42:53.960Z"
   },
   {
    "duration": 13,
    "start_time": "2021-07-03T20:42:57.144Z"
   },
   {
    "duration": 23,
    "start_time": "2021-07-03T20:42:59.897Z"
   },
   {
    "duration": 270,
    "start_time": "2021-07-03T20:43:34.030Z"
   },
   {
    "duration": 325,
    "start_time": "2021-07-03T20:43:46.218Z"
   },
   {
    "duration": 7,
    "start_time": "2021-07-03T20:43:51.073Z"
   },
   {
    "duration": 7,
    "start_time": "2021-07-03T20:44:58.608Z"
   },
   {
    "duration": 10,
    "start_time": "2021-07-03T20:46:24.231Z"
   },
   {
    "duration": 8,
    "start_time": "2021-07-03T22:18:12.210Z"
   },
   {
    "duration": 7,
    "start_time": "2021-07-03T22:19:13.736Z"
   },
   {
    "duration": 7,
    "start_time": "2021-07-03T22:19:25.871Z"
   },
   {
    "duration": 7,
    "start_time": "2021-07-03T22:19:27.822Z"
   },
   {
    "duration": 5,
    "start_time": "2021-07-03T22:25:45.885Z"
   },
   {
    "duration": 664,
    "start_time": "2021-07-03T22:25:49.802Z"
   },
   {
    "duration": 4,
    "start_time": "2021-07-03T22:26:04.524Z"
   },
   {
    "duration": 635,
    "start_time": "2021-07-03T22:26:06.196Z"
   },
   {
    "duration": 43,
    "start_time": "2021-07-03T22:26:20.332Z"
   },
   {
    "duration": -462,
    "start_time": "2021-07-03T22:26:40.879Z"
   },
   {
    "duration": 6092,
    "start_time": "2021-07-03T22:26:48.642Z"
   },
   {
    "duration": 7,
    "start_time": "2021-07-03T22:27:02.167Z"
   },
   {
    "duration": 26,
    "start_time": "2021-07-03T22:28:03.180Z"
   },
   {
    "duration": 4,
    "start_time": "2021-07-03T22:53:49.884Z"
   },
   {
    "duration": 650,
    "start_time": "2021-07-03T22:53:51.778Z"
   },
   {
    "duration": 26,
    "start_time": "2021-07-03T22:53:52.430Z"
   },
   {
    "duration": 252,
    "start_time": "2021-07-03T22:54:21.144Z"
   },
   {
    "duration": 7,
    "start_time": "2021-07-03T22:54:51.666Z"
   },
   {
    "duration": 271,
    "start_time": "2021-07-03T22:54:56.291Z"
   },
   {
    "duration": 6,
    "start_time": "2021-07-03T22:55:23.915Z"
   },
   {
    "duration": 6,
    "start_time": "2021-07-03T22:55:33.569Z"
   },
   {
    "duration": 264,
    "start_time": "2021-07-05T22:53:23.444Z"
   },
   {
    "duration": 1174,
    "start_time": "2021-07-05T22:53:30.359Z"
   },
   {
    "duration": 284,
    "start_time": "2021-07-05T22:53:31.534Z"
   },
   {
    "duration": 79,
    "start_time": "2021-07-05T22:53:31.820Z"
   },
   {
    "duration": 363,
    "start_time": "2021-07-05T22:53:31.902Z"
   },
   {
    "duration": 10,
    "start_time": "2021-07-05T22:53:32.267Z"
   },
   {
    "duration": 26,
    "start_time": "2021-07-05T22:53:32.279Z"
   },
   {
    "duration": 9,
    "start_time": "2021-07-05T22:53:32.307Z"
   },
   {
    "duration": 3,
    "start_time": "2021-07-05T22:53:32.318Z"
   },
   {
    "duration": 12,
    "start_time": "2021-07-05T22:53:32.323Z"
   },
   {
    "duration": 9,
    "start_time": "2021-07-05T22:53:32.336Z"
   },
   {
    "duration": 3,
    "start_time": "2021-07-05T22:53:32.347Z"
   },
   {
    "duration": 443,
    "start_time": "2021-07-05T22:53:32.352Z"
   },
   {
    "duration": 19,
    "start_time": "2021-07-05T22:53:32.797Z"
   },
   {
    "duration": 4,
    "start_time": "2021-07-05T22:53:32.817Z"
   },
   {
    "duration": -1904,
    "start_time": "2021-07-05T23:54:23.147Z"
   },
   {
    "duration": 10,
    "start_time": "2021-07-05T23:54:21.822Z"
   },
   {
    "duration": 5,
    "start_time": "2021-07-06T00:47:57.970Z"
   },
   {
    "duration": 730,
    "start_time": "2021-07-06T00:54:00.918Z"
   },
   {
    "duration": 536,
    "start_time": "2021-07-06T00:54:10.064Z"
   },
   {
    "duration": 635,
    "start_time": "2021-07-06T00:54:19.255Z"
   },
   {
    "duration": 553,
    "start_time": "2021-07-06T00:54:24.376Z"
   },
   {
    "duration": 539,
    "start_time": "2021-07-06T00:54:32.263Z"
   },
   {
    "duration": 5,
    "start_time": "2021-07-06T00:55:08.054Z"
   },
   {
    "duration": 4,
    "start_time": "2021-07-06T00:55:08.590Z"
   },
   {
    "duration": 554,
    "start_time": "2021-07-06T00:55:12.390Z"
   },
   {
    "duration": 6,
    "start_time": "2021-07-06T00:55:29.326Z"
   },
   {
    "duration": 11,
    "start_time": "2021-07-06T00:55:42.975Z"
   },
   {
    "duration": 1095,
    "start_time": "2021-07-06T00:55:52.920Z"
   },
   {
    "duration": 287,
    "start_time": "2021-07-06T00:55:54.017Z"
   },
   {
    "duration": 81,
    "start_time": "2021-07-06T00:55:54.306Z"
   },
   {
    "duration": 358,
    "start_time": "2021-07-06T00:55:54.389Z"
   },
   {
    "duration": 10,
    "start_time": "2021-07-06T00:55:54.749Z"
   },
   {
    "duration": 14,
    "start_time": "2021-07-06T00:55:54.761Z"
   },
   {
    "duration": 22,
    "start_time": "2021-07-06T00:55:54.776Z"
   },
   {
    "duration": 4,
    "start_time": "2021-07-06T00:55:54.799Z"
   },
   {
    "duration": 13,
    "start_time": "2021-07-06T00:55:54.805Z"
   },
   {
    "duration": 9,
    "start_time": "2021-07-06T00:55:54.819Z"
   },
   {
    "duration": 3,
    "start_time": "2021-07-06T00:55:54.829Z"
   },
   {
    "duration": 416,
    "start_time": "2021-07-06T00:55:54.833Z"
   },
   {
    "duration": 17,
    "start_time": "2021-07-06T00:55:55.250Z"
   },
   {
    "duration": 4,
    "start_time": "2021-07-06T00:55:55.268Z"
   },
   {
    "duration": 24,
    "start_time": "2021-07-06T00:55:55.273Z"
   },
   {
    "duration": 4,
    "start_time": "2021-07-06T00:55:55.299Z"
   },
   {
    "duration": 669,
    "start_time": "2021-07-06T00:55:55.305Z"
   },
   {
    "duration": 438,
    "start_time": "2021-07-06T00:56:06.768Z"
   },
   {
    "duration": 682,
    "start_time": "2021-07-06T00:56:14.585Z"
   },
   {
    "duration": 411,
    "start_time": "2021-07-06T00:57:12.736Z"
   },
   {
    "duration": 278,
    "start_time": "2021-07-06T00:57:29.279Z"
   },
   {
    "duration": 76,
    "start_time": "2021-07-06T00:58:52.768Z"
   },
   {
    "duration": 541,
    "start_time": "2021-07-06T00:58:59.567Z"
   },
   {
    "duration": 245,
    "start_time": "2021-07-06T00:59:51.702Z"
   },
   {
    "duration": 14,
    "start_time": "2021-07-06T01:00:06.661Z"
   },
   {
    "duration": 224,
    "start_time": "2021-07-06T01:00:36.328Z"
   },
   {
    "duration": 592,
    "start_time": "2021-07-06T01:00:54.319Z"
   },
   {
    "duration": 327,
    "start_time": "2021-07-06T01:00:59.973Z"
   },
   {
    "duration": 239,
    "start_time": "2021-07-06T01:01:40.715Z"
   },
   {
    "duration": 270,
    "start_time": "2021-07-06T01:02:08.148Z"
   },
   {
    "duration": 4,
    "start_time": "2021-07-06T01:02:38.780Z"
   },
   {
    "duration": 12,
    "start_time": "2021-07-06T01:02:51.706Z"
   },
   {
    "duration": 459,
    "start_time": "2021-07-06T01:03:31.043Z"
   },
   {
    "duration": 466,
    "start_time": "2021-07-06T01:03:36.587Z"
   },
   {
    "duration": 556,
    "start_time": "2021-07-06T01:03:41.556Z"
   },
   {
    "duration": 231,
    "start_time": "2021-07-06T01:03:53.369Z"
   },
   {
    "duration": 456,
    "start_time": "2021-07-06T01:04:04.697Z"
   },
   {
    "duration": 393,
    "start_time": "2021-07-06T01:04:13.993Z"
   },
   {
    "duration": 4,
    "start_time": "2021-07-06T01:05:34.094Z"
   },
   {
    "duration": 6,
    "start_time": "2021-07-06T01:05:39.529Z"
   },
   {
    "duration": 15,
    "start_time": "2021-07-06T01:05:47.048Z"
   },
   {
    "duration": 94,
    "start_time": "2021-07-06T01:05:55.951Z"
   },
   {
    "duration": 12,
    "start_time": "2021-07-06T01:06:01.734Z"
   },
   {
    "duration": 10,
    "start_time": "2021-07-06T01:06:09.048Z"
   },
   {
    "duration": 9,
    "start_time": "2021-07-06T01:06:13.711Z"
   },
   {
    "duration": 480,
    "start_time": "2021-07-06T01:06:15.983Z"
   },
   {
    "duration": 637,
    "start_time": "2021-07-06T01:06:24.415Z"
   },
   {
    "duration": 9,
    "start_time": "2021-07-06T01:06:39.869Z"
   },
   {
    "duration": 746,
    "start_time": "2021-07-06T01:06:44.504Z"
   },
   {
    "duration": 10,
    "start_time": "2021-07-06T01:07:14.950Z"
   },
   {
    "duration": 621,
    "start_time": "2021-07-06T01:07:17.049Z"
   },
   {
    "duration": 250,
    "start_time": "2021-07-06T01:45:19.329Z"
   },
   {
    "duration": 248,
    "start_time": "2021-07-06T01:46:20.384Z"
   },
   {
    "duration": 240,
    "start_time": "2021-07-06T01:46:30.624Z"
   },
   {
    "duration": 231,
    "start_time": "2021-07-06T01:46:55.912Z"
   },
   {
    "duration": 4,
    "start_time": "2021-07-06T01:47:40.482Z"
   },
   {
    "duration": 4,
    "start_time": "2021-07-06T01:49:22.078Z"
   },
   {
    "duration": 5,
    "start_time": "2021-07-06T01:49:30.231Z"
   },
   {
    "duration": 5,
    "start_time": "2021-07-06T01:49:35.309Z"
   },
   {
    "duration": 5,
    "start_time": "2021-07-06T01:49:46.112Z"
   },
   {
    "duration": 4,
    "start_time": "2021-07-06T01:50:44.870Z"
   },
   {
    "duration": 9,
    "start_time": "2021-07-06T01:50:48.347Z"
   },
   {
    "duration": 8,
    "start_time": "2021-07-06T01:51:00.284Z"
   },
   {
    "duration": 8,
    "start_time": "2021-07-06T01:51:13.213Z"
   },
   {
    "duration": 253,
    "start_time": "2021-07-06T01:51:33.029Z"
   },
   {
    "duration": 6,
    "start_time": "2021-07-06T01:51:38.866Z"
   },
   {
    "duration": 248,
    "start_time": "2021-07-06T01:51:55.745Z"
   },
   {
    "duration": 248,
    "start_time": "2021-07-06T01:52:00.308Z"
   },
   {
    "duration": 6,
    "start_time": "2021-07-06T01:52:03.822Z"
   },
   {
    "duration": 5,
    "start_time": "2021-07-06T01:52:18.766Z"
   },
   {
    "duration": 5,
    "start_time": "2021-07-06T01:52:23.573Z"
   },
   {
    "duration": 4,
    "start_time": "2021-07-06T18:51:19.035Z"
   },
   {
    "duration": 361,
    "start_time": "2021-07-06T18:51:19.201Z"
   },
   {
    "duration": 98,
    "start_time": "2021-07-06T18:51:19.564Z"
   },
   {
    "duration": 473,
    "start_time": "2021-07-06T18:51:19.665Z"
   },
   {
    "duration": 11,
    "start_time": "2021-07-06T18:51:20.140Z"
   },
   {
    "duration": 29,
    "start_time": "2021-07-06T18:51:20.153Z"
   },
   {
    "duration": 16,
    "start_time": "2021-07-06T18:51:20.184Z"
   },
   {
    "duration": 4,
    "start_time": "2021-07-06T18:51:20.202Z"
   },
   {
    "duration": 3,
    "start_time": "2021-07-06T18:51:20.422Z"
   },
   {
    "duration": 12,
    "start_time": "2021-07-06T18:51:21.374Z"
   },
   {
    "duration": 4,
    "start_time": "2021-07-06T18:51:23.902Z"
   },
   {
    "duration": 367,
    "start_time": "2021-07-06T18:51:24.667Z"
   },
   {
    "duration": 14,
    "start_time": "2021-07-06T18:51:26.135Z"
   },
   {
    "duration": 4,
    "start_time": "2021-07-06T18:51:27.654Z"
   },
   {
    "duration": 5,
    "start_time": "2021-07-06T18:52:01.462Z"
   },
   {
    "duration": 6,
    "start_time": "2021-07-06T18:52:14.995Z"
   },
   {
    "duration": 9,
    "start_time": "2021-07-06T18:52:15.235Z"
   },
   {
    "duration": 10,
    "start_time": "2021-07-06T18:52:17.891Z"
   },
   {
    "duration": 3,
    "start_time": "2021-07-06T18:52:19.658Z"
   },
   {
    "duration": 394,
    "start_time": "2021-07-06T18:52:20.139Z"
   },
   {
    "duration": 10,
    "start_time": "2021-07-06T18:52:20.917Z"
   },
   {
    "duration": 5,
    "start_time": "2021-07-06T18:52:24.171Z"
   },
   {
    "duration": 5,
    "start_time": "2021-07-06T21:54:19.435Z"
   },
   {
    "duration": 9,
    "start_time": "2021-07-06T21:54:21.738Z"
   },
   {
    "duration": 9,
    "start_time": "2021-07-06T21:54:22.659Z"
   },
   {
    "duration": 3,
    "start_time": "2021-07-06T21:54:26.201Z"
   },
   {
    "duration": 365,
    "start_time": "2021-07-06T21:54:26.537Z"
   },
   {
    "duration": 9,
    "start_time": "2021-07-06T21:54:26.939Z"
   },
   {
    "duration": 4,
    "start_time": "2021-07-06T21:54:31.570Z"
   },
   {
    "duration": 1250,
    "start_time": "2021-07-06T21:54:31.759Z"
   },
   {
    "duration": 527,
    "start_time": "2021-07-06T21:54:33.011Z"
   },
   {
    "duration": 2871,
    "start_time": "2021-07-06T21:54:33.540Z"
   },
   {
    "duration": 9,
    "start_time": "2021-07-06T21:54:36.412Z"
   },
   {
    "duration": 13,
    "start_time": "2021-07-06T21:54:36.422Z"
   },
   {
    "duration": 8,
    "start_time": "2021-07-06T21:54:36.437Z"
   },
   {
    "duration": 7,
    "start_time": "2021-07-06T21:54:36.447Z"
   },
   {
    "duration": 11,
    "start_time": "2021-07-06T21:54:36.455Z"
   },
   {
    "duration": 28,
    "start_time": "2021-07-06T21:54:36.468Z"
   },
   {
    "duration": 2,
    "start_time": "2021-07-06T21:54:36.498Z"
   },
   {
    "duration": 373,
    "start_time": "2021-07-06T21:54:36.502Z"
   },
   {
    "duration": 17,
    "start_time": "2021-07-06T21:54:36.877Z"
   },
   {
    "duration": 4,
    "start_time": "2021-07-06T21:54:36.896Z"
   },
   {
    "duration": 12,
    "start_time": "2021-07-06T21:54:36.901Z"
   },
   {
    "duration": 5,
    "start_time": "2021-07-06T21:54:43.063Z"
   },
   {
    "duration": 398,
    "start_time": "2021-07-06T21:54:43.495Z"
   },
   {
    "duration": 10,
    "start_time": "2021-07-06T21:54:57.823Z"
   },
   {
    "duration": 14,
    "start_time": "2021-07-06T21:55:01.863Z"
   },
   {
    "duration": 608,
    "start_time": "2021-07-06T22:24:44.640Z"
   },
   {
    "duration": 719,
    "start_time": "2021-07-06T22:25:23.479Z"
   },
   {
    "duration": 1116,
    "start_time": "2021-07-06T22:25:37.580Z"
   },
   {
    "duration": 268,
    "start_time": "2021-07-06T22:25:38.697Z"
   },
   {
    "duration": 76,
    "start_time": "2021-07-06T22:25:38.967Z"
   },
   {
    "duration": 344,
    "start_time": "2021-07-06T22:25:39.045Z"
   },
   {
    "duration": 11,
    "start_time": "2021-07-06T22:25:39.391Z"
   },
   {
    "duration": 14,
    "start_time": "2021-07-06T22:25:39.404Z"
   },
   {
    "duration": 10,
    "start_time": "2021-07-06T22:25:39.420Z"
   },
   {
    "duration": 2,
    "start_time": "2021-07-06T22:25:39.432Z"
   },
   {
    "duration": 5,
    "start_time": "2021-07-06T22:25:39.437Z"
   },
   {
    "duration": 11,
    "start_time": "2021-07-06T22:25:39.444Z"
   },
   {
    "duration": 349,
    "start_time": "2021-07-06T22:25:39.457Z"
   },
   {
    "duration": -868,
    "start_time": "2021-07-06T22:25:40.675Z"
   },
   {
    "duration": -872,
    "start_time": "2021-07-06T22:25:40.680Z"
   },
   {
    "duration": -873,
    "start_time": "2021-07-06T22:25:40.682Z"
   },
   {
    "duration": -875,
    "start_time": "2021-07-06T22:25:40.685Z"
   },
   {
    "duration": -876,
    "start_time": "2021-07-06T22:25:40.687Z"
   },
   {
    "duration": -877,
    "start_time": "2021-07-06T22:25:40.689Z"
   },
   {
    "duration": -878,
    "start_time": "2021-07-06T22:25:40.691Z"
   },
   {
    "duration": -883,
    "start_time": "2021-07-06T22:25:40.697Z"
   },
   {
    "duration": -887,
    "start_time": "2021-07-06T22:25:40.702Z"
   },
   {
    "duration": -888,
    "start_time": "2021-07-06T22:25:40.704Z"
   },
   {
    "duration": -889,
    "start_time": "2021-07-06T22:25:40.706Z"
   },
   {
    "duration": 1068,
    "start_time": "2021-07-06T22:25:56.028Z"
   },
   {
    "duration": 263,
    "start_time": "2021-07-06T22:25:57.097Z"
   },
   {
    "duration": 74,
    "start_time": "2021-07-06T22:25:57.362Z"
   },
   {
    "duration": 344,
    "start_time": "2021-07-06T22:25:57.438Z"
   },
   {
    "duration": 14,
    "start_time": "2021-07-06T22:25:57.784Z"
   },
   {
    "duration": 13,
    "start_time": "2021-07-06T22:25:57.800Z"
   },
   {
    "duration": 8,
    "start_time": "2021-07-06T22:25:57.815Z"
   },
   {
    "duration": 2,
    "start_time": "2021-07-06T22:25:57.824Z"
   },
   {
    "duration": 9,
    "start_time": "2021-07-06T22:25:57.828Z"
   },
   {
    "duration": 13,
    "start_time": "2021-07-06T22:25:57.838Z"
   },
   {
    "duration": 3,
    "start_time": "2021-07-06T22:25:57.852Z"
   },
   {
    "duration": 418,
    "start_time": "2021-07-06T22:25:57.856Z"
   },
   {
    "duration": 26,
    "start_time": "2021-07-06T22:25:58.276Z"
   },
   {
    "duration": 3,
    "start_time": "2021-07-06T22:25:58.304Z"
   },
   {
    "duration": 11,
    "start_time": "2021-07-06T22:25:58.309Z"
   },
   {
    "duration": 7,
    "start_time": "2021-07-06T22:25:58.321Z"
   },
   {
    "duration": 423,
    "start_time": "2021-07-06T22:25:58.330Z"
   },
   {
    "duration": 5,
    "start_time": "2021-07-06T22:25:58.755Z"
   },
   {
    "duration": 13,
    "start_time": "2021-07-06T22:25:58.762Z"
   },
   {
    "duration": 659,
    "start_time": "2021-07-06T22:25:58.776Z"
   },
   {
    "duration": 683,
    "start_time": "2021-07-06T22:25:59.437Z"
   },
   {
    "duration": 5,
    "start_time": "2021-07-06T22:38:29.257Z"
   },
   {
    "duration": 8,
    "start_time": "2021-07-06T22:38:29.550Z"
   },
   {
    "duration": 407,
    "start_time": "2021-07-06T22:38:29.799Z"
   },
   {
    "duration": 219,
    "start_time": "2021-07-06T22:38:34.143Z"
   },
   {
    "duration": 222,
    "start_time": "2021-07-06T22:38:34.447Z"
   },
   {
    "duration": 221,
    "start_time": "2021-07-06T22:38:35.095Z"
   },
   {
    "duration": 279,
    "start_time": "2021-07-06T22:38:46.703Z"
   },
   {
    "duration": 77,
    "start_time": "2021-07-06T22:38:46.984Z"
   },
   {
    "duration": 361,
    "start_time": "2021-07-06T22:38:47.087Z"
   },
   {
    "duration": 10,
    "start_time": "2021-07-06T22:38:47.450Z"
   },
   {
    "duration": 13,
    "start_time": "2021-07-06T22:38:47.462Z"
   },
   {
    "duration": 10,
    "start_time": "2021-07-06T22:38:47.731Z"
   },
   {
    "duration": 5,
    "start_time": "2021-07-06T22:38:48.213Z"
   },
   {
    "duration": 8,
    "start_time": "2021-07-06T22:38:50.010Z"
   },
   {
    "duration": 235,
    "start_time": "2021-07-06T22:38:52.001Z"
   },
   {
    "duration": 255,
    "start_time": "2021-07-06T22:38:59.247Z"
   },
   {
    "duration": 273,
    "start_time": "2021-07-06T22:39:03.037Z"
   },
   {
    "duration": 71,
    "start_time": "2021-07-06T22:39:03.312Z"
   },
   {
    "duration": 351,
    "start_time": "2021-07-06T22:39:03.455Z"
   },
   {
    "duration": 9,
    "start_time": "2021-07-06T22:39:03.808Z"
   },
   {
    "duration": 10,
    "start_time": "2021-07-06T22:39:12.487Z"
   },
   {
    "duration": 15,
    "start_time": "2021-07-06T22:39:13.217Z"
   },
   {
    "duration": 11,
    "start_time": "2021-07-06T22:39:14.967Z"
   },
   {
    "duration": 4,
    "start_time": "2021-07-06T22:39:15.583Z"
   },
   {
    "duration": 12,
    "start_time": "2021-07-06T22:39:16.257Z"
   },
   {
    "duration": 10,
    "start_time": "2021-07-06T22:39:16.761Z"
   },
   {
    "duration": 222,
    "start_time": "2021-07-06T22:42:36.895Z"
   },
   {
    "duration": 10,
    "start_time": "2021-07-06T22:42:45.870Z"
   },
   {
    "duration": 4,
    "start_time": "2021-07-06T22:43:52.124Z"
   },
   {
    "duration": 11,
    "start_time": "2021-07-06T22:43:55.315Z"
   },
   {
    "duration": 571,
    "start_time": "2021-07-06T22:44:03.420Z"
   },
   {
    "duration": 604,
    "start_time": "2021-07-06T22:44:27.277Z"
   },
   {
    "duration": 607,
    "start_time": "2021-07-06T22:44:57.468Z"
   },
   {
    "duration": 435,
    "start_time": "2021-07-06T22:49:53.136Z"
   },
   {
    "duration": 402,
    "start_time": "2021-07-06T22:50:03.692Z"
   },
   {
    "duration": 5894,
    "start_time": "2021-07-06T22:50:22.697Z"
   },
   {
    "duration": 235,
    "start_time": "2021-07-06T22:51:14.717Z"
   },
   {
    "duration": 232,
    "start_time": "2021-07-06T22:51:41.076Z"
   },
   {
    "duration": 11,
    "start_time": "2021-07-06T22:51:56.548Z"
   },
   {
    "duration": 5788,
    "start_time": "2021-07-06T22:52:03.905Z"
   },
   {
    "duration": 77,
    "start_time": "2021-07-06T22:52:51.945Z"
   },
   {
    "duration": 228,
    "start_time": "2021-07-06T22:52:56.312Z"
   },
   {
    "duration": 225,
    "start_time": "2021-07-06T22:53:07.934Z"
   },
   {
    "duration": 11,
    "start_time": "2021-07-06T22:53:30.039Z"
   },
   {
    "duration": 300,
    "start_time": "2021-07-06T22:53:44.319Z"
   },
   {
    "duration": 310,
    "start_time": "2021-07-06T22:55:15.516Z"
   },
   {
    "duration": 528,
    "start_time": "2021-07-06T22:55:36.541Z"
   },
   {
    "duration": 472,
    "start_time": "2021-07-06T22:56:07.887Z"
   },
   {
    "duration": 526,
    "start_time": "2021-07-06T22:56:45.896Z"
   },
   {
    "duration": 483,
    "start_time": "2021-07-06T22:57:56.419Z"
   },
   {
    "duration": 272,
    "start_time": "2021-07-06T22:58:00.252Z"
   },
   {
    "duration": 307,
    "start_time": "2021-07-06T22:58:05.820Z"
   },
   {
    "duration": 274,
    "start_time": "2021-07-06T22:58:16.299Z"
   },
   {
    "duration": 72,
    "start_time": "2021-07-06T22:58:16.580Z"
   },
   {
    "duration": 337,
    "start_time": "2021-07-06T22:58:16.876Z"
   },
   {
    "duration": 9,
    "start_time": "2021-07-06T22:58:19.644Z"
   },
   {
    "duration": 10,
    "start_time": "2021-07-06T22:58:57.796Z"
   },
   {
    "duration": 9,
    "start_time": "2021-07-06T22:59:00.291Z"
   },
   {
    "duration": 14,
    "start_time": "2021-07-06T22:59:10.186Z"
   },
   {
    "duration": 8,
    "start_time": "2021-07-06T22:59:10.761Z"
   },
   {
    "duration": 3,
    "start_time": "2021-07-06T22:59:13.546Z"
   },
   {
    "duration": 278,
    "start_time": "2021-07-06T22:59:13.827Z"
   },
   {
    "duration": 13,
    "start_time": "2021-07-06T22:59:14.189Z"
   },
   {
    "duration": 5,
    "start_time": "2021-07-06T22:59:15.019Z"
   },
   {
    "duration": 12,
    "start_time": "2021-07-06T22:59:19.101Z"
   },
   {
    "duration": 721,
    "start_time": "2021-07-06T22:59:19.579Z"
   },
   {
    "duration": 309,
    "start_time": "2021-07-06T22:59:20.302Z"
   },
   {
    "duration": 302,
    "start_time": "2021-07-06T23:00:15.186Z"
   },
   {
    "duration": 292,
    "start_time": "2021-07-06T23:00:37.434Z"
   },
   {
    "duration": 303,
    "start_time": "2021-07-06T23:01:50.056Z"
   },
   {
    "duration": 7195,
    "start_time": "2021-07-06T23:02:06.435Z"
   },
   {
    "duration": 289,
    "start_time": "2021-07-06T23:02:27.184Z"
   },
   {
    "duration": 5940,
    "start_time": "2021-07-06T23:02:27.561Z"
   },
   {
    "duration": 6328,
    "start_time": "2021-07-06T23:03:08.731Z"
   },
   {
    "duration": 298,
    "start_time": "2021-07-06T23:03:25.075Z"
   },
   {
    "duration": 293,
    "start_time": "2021-07-06T23:03:30.992Z"
   },
   {
    "duration": 318,
    "start_time": "2021-07-06T23:04:21.065Z"
   },
   {
    "duration": 312,
    "start_time": "2021-07-06T23:04:26.816Z"
   },
   {
    "duration": 619,
    "start_time": "2021-07-06T23:04:47.801Z"
   },
   {
    "duration": 331,
    "start_time": "2021-07-06T23:04:54.041Z"
   },
   {
    "duration": 846,
    "start_time": "2021-07-07T00:46:28.577Z"
   },
   {
    "duration": 882,
    "start_time": "2021-07-07T00:46:43.761Z"
   },
   {
    "duration": 876,
    "start_time": "2021-07-07T00:47:01.984Z"
   },
   {
    "duration": 5,
    "start_time": "2021-07-07T00:47:02.866Z"
   },
   {
    "duration": 440,
    "start_time": "2021-07-07T00:49:01.902Z"
   },
   {
    "duration": 218,
    "start_time": "2021-07-07T00:49:11.364Z"
   },
   {
    "duration": 259,
    "start_time": "2021-07-07T00:49:37.753Z"
   },
   {
    "duration": 605,
    "start_time": "2021-07-07T00:49:47.816Z"
   },
   {
    "duration": 786,
    "start_time": "2021-07-07T00:50:06.505Z"
   },
   {
    "duration": 478,
    "start_time": "2021-07-07T00:50:23.161Z"
   },
   {
    "duration": 260,
    "start_time": "2021-07-07T00:50:29.578Z"
   },
   {
    "duration": 79,
    "start_time": "2021-07-07T11:34:44.316Z"
   },
   {
    "duration": 3,
    "start_time": "2021-07-07T11:38:29.753Z"
   },
   {
    "duration": 3,
    "start_time": "2021-07-07T11:38:37.725Z"
   },
   {
    "duration": 7,
    "start_time": "2021-07-07T11:58:15.250Z"
   },
   {
    "duration": 6,
    "start_time": "2021-07-08T15:23:46.158Z"
   },
   {
    "duration": 6,
    "start_time": "2021-07-08T15:29:24.302Z"
   },
   {
    "duration": 6,
    "start_time": "2021-07-08T15:29:33.025Z"
   },
   {
    "duration": 92,
    "start_time": "2021-07-08T15:47:54.131Z"
   },
   {
    "duration": 21,
    "start_time": "2021-07-08T15:48:07.934Z"
   },
   {
    "duration": 676,
    "start_time": "2021-07-08T15:48:28.345Z"
   },
   {
    "duration": 8,
    "start_time": "2021-07-08T15:48:32.622Z"
   },
   {
    "duration": 634,
    "start_time": "2021-07-08T15:48:34.495Z"
   },
   {
    "duration": 4,
    "start_time": "2021-07-08T15:48:39.597Z"
   },
   {
    "duration": 1055,
    "start_time": "2021-07-08T15:49:10.644Z"
   },
   {
    "duration": 266,
    "start_time": "2021-07-08T15:49:11.701Z"
   },
   {
    "duration": 75,
    "start_time": "2021-07-08T15:49:11.969Z"
   },
   {
    "duration": 349,
    "start_time": "2021-07-08T15:49:12.046Z"
   },
   {
    "duration": 10,
    "start_time": "2021-07-08T15:49:12.397Z"
   },
   {
    "duration": 13,
    "start_time": "2021-07-08T15:49:12.409Z"
   },
   {
    "duration": 9,
    "start_time": "2021-07-08T15:49:12.423Z"
   },
   {
    "duration": 2,
    "start_time": "2021-07-08T15:49:12.433Z"
   },
   {
    "duration": 20,
    "start_time": "2021-07-08T15:49:12.437Z"
   },
   {
    "duration": 7,
    "start_time": "2021-07-08T15:49:12.459Z"
   },
   {
    "duration": 3,
    "start_time": "2021-07-08T15:49:12.491Z"
   },
   {
    "duration": 298,
    "start_time": "2021-07-08T15:49:12.495Z"
   },
   {
    "duration": 14,
    "start_time": "2021-07-08T15:49:12.795Z"
   },
   {
    "duration": 4,
    "start_time": "2021-07-08T15:49:12.810Z"
   },
   {
    "duration": 13,
    "start_time": "2021-07-08T15:49:12.815Z"
   },
   {
    "duration": 901,
    "start_time": "2021-07-08T15:49:12.829Z"
   },
   {
    "duration": 278,
    "start_time": "2021-07-08T15:49:13.731Z"
   },
   {
    "duration": 542,
    "start_time": "2021-07-08T15:49:14.010Z"
   },
   {
    "duration": 333,
    "start_time": "2021-07-08T15:49:14.220Z"
   },
   {
    "duration": 330,
    "start_time": "2021-07-08T15:49:14.224Z"
   },
   {
    "duration": 328,
    "start_time": "2021-07-08T15:49:14.227Z"
   },
   {
    "duration": 327,
    "start_time": "2021-07-08T15:49:14.229Z"
   },
   {
    "duration": 326,
    "start_time": "2021-07-08T15:49:14.231Z"
   },
   {
    "duration": 325,
    "start_time": "2021-07-08T15:49:14.233Z"
   },
   {
    "duration": 318,
    "start_time": "2021-07-08T15:49:14.241Z"
   },
   {
    "duration": 314,
    "start_time": "2021-07-08T15:49:14.245Z"
   },
   {
    "duration": 313,
    "start_time": "2021-07-08T15:49:14.247Z"
   },
   {
    "duration": 312,
    "start_time": "2021-07-08T15:49:14.249Z"
   },
   {
    "duration": 304,
    "start_time": "2021-07-08T16:10:40.762Z"
   },
   {
    "duration": 9,
    "start_time": "2021-07-08T16:10:42.739Z"
   },
   {
    "duration": 253,
    "start_time": "2021-07-08T16:10:50.576Z"
   },
   {
    "duration": 247,
    "start_time": "2021-07-08T16:11:05.415Z"
   },
   {
    "duration": 12,
    "start_time": "2021-07-08T16:11:39.142Z"
   },
   {
    "duration": 798,
    "start_time": "2021-07-08T16:11:39.349Z"
   },
   {
    "duration": 11,
    "start_time": "2021-07-08T16:12:10.766Z"
   },
   {
    "duration": 231,
    "start_time": "2021-07-08T16:12:21.373Z"
   },
   {
    "duration": 12,
    "start_time": "2021-07-08T16:12:31.045Z"
   },
   {
    "duration": 12,
    "start_time": "2021-07-08T16:13:03.766Z"
   },
   {
    "duration": 24,
    "start_time": "2021-07-08T16:13:16.704Z"
   },
   {
    "duration": 26,
    "start_time": "2021-07-08T16:13:20.807Z"
   },
   {
    "duration": 18,
    "start_time": "2021-07-08T16:13:37.124Z"
   },
   {
    "duration": 532,
    "start_time": "2021-07-08T16:16:07.868Z"
   },
   {
    "duration": 180,
    "start_time": "2021-07-08T17:59:06.016Z"
   },
   {
    "duration": 198,
    "start_time": "2021-07-08T17:59:22.311Z"
   },
   {
    "duration": 179,
    "start_time": "2021-07-08T17:59:27.599Z"
   },
   {
    "duration": 189,
    "start_time": "2021-07-08T17:59:29.983Z"
   },
   {
    "duration": 308,
    "start_time": "2021-07-08T18:43:06.657Z"
   },
   {
    "duration": 233,
    "start_time": "2021-07-08T18:43:29.104Z"
   },
   {
    "duration": 256,
    "start_time": "2021-07-08T18:44:07.343Z"
   },
   {
    "duration": 80,
    "start_time": "2021-07-08T18:44:31.570Z"
   },
   {
    "duration": 275,
    "start_time": "2021-07-08T18:45:00.785Z"
   },
   {
    "duration": 15,
    "start_time": "2021-07-08T18:45:12.349Z"
   },
   {
    "duration": 180,
    "start_time": "2021-07-08T18:45:26.551Z"
   },
   {
    "duration": 183,
    "start_time": "2021-07-08T18:45:32.085Z"
   },
   {
    "duration": 726,
    "start_time": "2021-07-08T18:46:00.452Z"
   },
   {
    "duration": 82,
    "start_time": "2021-07-08T18:46:46.425Z"
   },
   {
    "duration": 92,
    "start_time": "2021-07-08T18:47:04.900Z"
   },
   {
    "duration": 88,
    "start_time": "2021-07-08T18:47:19.048Z"
   },
   {
    "duration": 8,
    "start_time": "2021-07-08T18:48:42.739Z"
   },
   {
    "duration": 29,
    "start_time": "2021-07-08T18:48:45.594Z"
   },
   {
    "duration": 27,
    "start_time": "2021-07-08T18:49:15.297Z"
   },
   {
    "duration": 911,
    "start_time": "2021-07-08T18:49:56.302Z"
   },
   {
    "duration": 29,
    "start_time": "2021-07-08T18:50:59.060Z"
   },
   {
    "duration": 34,
    "start_time": "2021-07-08T18:51:32.108Z"
   },
   {
    "duration": 183,
    "start_time": "2021-07-08T18:51:53.010Z"
   },
   {
    "duration": 32,
    "start_time": "2021-07-08T18:52:08.243Z"
   },
   {
    "duration": 35,
    "start_time": "2021-07-08T18:52:16.410Z"
   },
   {
    "duration": 186,
    "start_time": "2021-07-08T18:52:20.177Z"
   },
   {
    "duration": 756,
    "start_time": "2021-07-08T18:52:36.056Z"
   },
   {
    "duration": 54,
    "start_time": "2021-07-08T18:52:49.371Z"
   },
   {
    "duration": 529,
    "start_time": "2021-07-08T18:52:52.367Z"
   },
   {
    "duration": 648,
    "start_time": "2021-07-08T18:53:08.969Z"
   },
   {
    "duration": 35,
    "start_time": "2021-07-08T18:53:20.211Z"
   },
   {
    "duration": 615,
    "start_time": "2021-07-08T18:53:23.569Z"
   },
   {
    "duration": 15,
    "start_time": "2021-07-08T18:53:42.537Z"
   },
   {
    "duration": 13,
    "start_time": "2021-07-08T19:00:56.283Z"
   },
   {
    "duration": 915,
    "start_time": "2021-07-08T19:01:01.509Z"
   },
   {
    "duration": 882,
    "start_time": "2021-07-08T19:01:08.211Z"
   },
   {
    "duration": 258,
    "start_time": "2021-07-08T19:01:15.116Z"
   },
   {
    "duration": 10,
    "start_time": "2021-07-08T19:01:29.803Z"
   },
   {
    "duration": 608,
    "start_time": "2021-07-08T19:01:31.148Z"
   },
   {
    "duration": 243,
    "start_time": "2021-07-08T19:10:05.135Z"
   },
   {
    "duration": 2,
    "start_time": "2021-07-08T19:10:12.606Z"
   },
   {
    "duration": 10,
    "start_time": "2021-07-08T19:10:17.462Z"
   },
   {
    "duration": 24,
    "start_time": "2021-07-08T19:10:26.813Z"
   },
   {
    "duration": 13,
    "start_time": "2021-07-08T19:10:35.269Z"
   },
   {
    "duration": 25,
    "start_time": "2021-07-08T19:10:37.394Z"
   },
   {
    "duration": 14,
    "start_time": "2021-07-08T19:11:13.896Z"
   },
   {
    "duration": 25,
    "start_time": "2021-07-08T19:11:36.647Z"
   },
   {
    "duration": 6,
    "start_time": "2021-07-08T19:14:39.861Z"
   },
   {
    "duration": 6,
    "start_time": "2021-07-08T22:26:19.637Z"
   },
   {
    "duration": 352,
    "start_time": "2021-07-08T22:28:05.963Z"
   },
   {
    "duration": 1086,
    "start_time": "2021-07-08T22:28:37.954Z"
   },
   {
    "duration": 271,
    "start_time": "2021-07-08T22:28:39.041Z"
   },
   {
    "duration": 76,
    "start_time": "2021-07-08T22:28:39.314Z"
   },
   {
    "duration": 349,
    "start_time": "2021-07-08T22:28:39.392Z"
   },
   {
    "duration": 10,
    "start_time": "2021-07-08T22:28:39.743Z"
   },
   {
    "duration": 13,
    "start_time": "2021-07-08T22:28:39.754Z"
   },
   {
    "duration": 25,
    "start_time": "2021-07-08T22:28:39.768Z"
   },
   {
    "duration": 2,
    "start_time": "2021-07-08T22:28:39.795Z"
   },
   {
    "duration": 16,
    "start_time": "2021-07-08T22:28:39.799Z"
   },
   {
    "duration": 7,
    "start_time": "2021-07-08T22:28:39.817Z"
   },
   {
    "duration": 2,
    "start_time": "2021-07-08T22:28:39.826Z"
   },
   {
    "duration": 322,
    "start_time": "2021-07-08T22:28:39.830Z"
   },
   {
    "duration": 14,
    "start_time": "2021-07-08T22:28:40.153Z"
   },
   {
    "duration": 4,
    "start_time": "2021-07-08T22:28:40.169Z"
   },
   {
    "duration": 25,
    "start_time": "2021-07-08T22:28:40.174Z"
   },
   {
    "duration": 900,
    "start_time": "2021-07-08T22:28:40.200Z"
   },
   {
    "duration": 289,
    "start_time": "2021-07-08T22:28:41.102Z"
   },
   {
    "duration": 11,
    "start_time": "2021-07-08T22:28:41.393Z"
   },
   {
    "duration": 697,
    "start_time": "2021-07-08T22:28:41.405Z"
   },
   {
    "duration": 5,
    "start_time": "2021-07-08T22:28:42.104Z"
   },
   {
    "duration": 414,
    "start_time": "2021-07-08T22:28:42.111Z"
   },
   {
    "duration": 6,
    "start_time": "2021-07-08T22:28:42.526Z"
   },
   {
    "duration": 3,
    "start_time": "2021-07-08T22:28:42.535Z"
   },
   {
    "duration": 4,
    "start_time": "2021-07-08T22:28:42.540Z"
   },
   {
    "duration": 297,
    "start_time": "2021-07-08T22:28:42.546Z"
   },
   {
    "duration": 105,
    "start_time": "2021-07-08T22:28:42.740Z"
   },
   {
    "duration": 103,
    "start_time": "2021-07-08T22:28:42.743Z"
   },
   {
    "duration": 102,
    "start_time": "2021-07-08T22:28:42.745Z"
   },
   {
    "duration": 101,
    "start_time": "2021-07-08T22:28:42.747Z"
   },
   {
    "duration": 99,
    "start_time": "2021-07-08T22:28:42.750Z"
   },
   {
    "duration": 98,
    "start_time": "2021-07-08T22:28:42.752Z"
   },
   {
    "duration": 94,
    "start_time": "2021-07-08T22:28:42.756Z"
   },
   {
    "duration": 93,
    "start_time": "2021-07-08T22:28:42.758Z"
   },
   {
    "duration": 92,
    "start_time": "2021-07-08T22:28:42.760Z"
   },
   {
    "duration": 91,
    "start_time": "2021-07-08T22:28:42.762Z"
   },
   {
    "duration": 243,
    "start_time": "2021-07-09T00:37:35.790Z"
   },
   {
    "duration": 226,
    "start_time": "2021-07-09T00:38:49.212Z"
   },
   {
    "duration": 23,
    "start_time": "2021-07-09T00:38:56.259Z"
   },
   {
    "duration": 225,
    "start_time": "2021-07-09T00:39:05.909Z"
   },
   {
    "duration": 232,
    "start_time": "2021-07-09T00:39:07.995Z"
   },
   {
    "duration": 229,
    "start_time": "2021-07-09T00:39:11.410Z"
   },
   {
    "duration": 1124,
    "start_time": "2021-07-09T00:39:18.293Z"
   },
   {
    "duration": 264,
    "start_time": "2021-07-09T00:39:19.419Z"
   },
   {
    "duration": 74,
    "start_time": "2021-07-09T00:39:19.685Z"
   },
   {
    "duration": 344,
    "start_time": "2021-07-09T00:39:19.761Z"
   },
   {
    "duration": 10,
    "start_time": "2021-07-09T00:39:20.106Z"
   },
   {
    "duration": 14,
    "start_time": "2021-07-09T00:39:20.118Z"
   },
   {
    "duration": 8,
    "start_time": "2021-07-09T00:39:20.133Z"
   },
   {
    "duration": 3,
    "start_time": "2021-07-09T00:39:20.144Z"
   },
   {
    "duration": 45,
    "start_time": "2021-07-09T00:39:20.149Z"
   },
   {
    "duration": 9,
    "start_time": "2021-07-09T00:39:20.196Z"
   },
   {
    "duration": 3,
    "start_time": "2021-07-09T00:39:20.207Z"
   },
   {
    "duration": 316,
    "start_time": "2021-07-09T00:39:20.212Z"
   },
   {
    "duration": 15,
    "start_time": "2021-07-09T00:39:20.529Z"
   },
   {
    "duration": 4,
    "start_time": "2021-07-09T00:39:20.546Z"
   },
   {
    "duration": 15,
    "start_time": "2021-07-09T00:39:20.552Z"
   },
   {
    "duration": 1009,
    "start_time": "2021-07-09T00:39:20.569Z"
   },
   {
    "duration": 275,
    "start_time": "2021-07-09T00:39:21.580Z"
   },
   {
    "duration": 11,
    "start_time": "2021-07-09T00:39:21.857Z"
   },
   {
    "duration": 681,
    "start_time": "2021-07-09T00:39:21.869Z"
   },
   {
    "duration": 6,
    "start_time": "2021-07-09T00:39:22.552Z"
   },
   {
    "duration": 404,
    "start_time": "2021-07-09T00:39:22.560Z"
   },
   {
    "duration": 5,
    "start_time": "2021-07-09T00:39:22.965Z"
   },
   {
    "duration": 11,
    "start_time": "2021-07-09T00:39:22.973Z"
   },
   {
    "duration": 4,
    "start_time": "2021-07-09T00:39:22.991Z"
   },
   {
    "duration": 304,
    "start_time": "2021-07-09T00:39:22.996Z"
   },
   {
    "duration": 36,
    "start_time": "2021-07-09T00:39:23.266Z"
   },
   {
    "duration": 32,
    "start_time": "2021-07-09T00:39:23.271Z"
   },
   {
    "duration": 31,
    "start_time": "2021-07-09T00:39:23.273Z"
   },
   {
    "duration": 27,
    "start_time": "2021-07-09T00:39:23.277Z"
   },
   {
    "duration": 26,
    "start_time": "2021-07-09T00:39:23.279Z"
   },
   {
    "duration": 24,
    "start_time": "2021-07-09T00:39:23.282Z"
   },
   {
    "duration": 23,
    "start_time": "2021-07-09T00:39:23.284Z"
   },
   {
    "duration": 15,
    "start_time": "2021-07-09T00:39:23.292Z"
   },
   {
    "duration": 13,
    "start_time": "2021-07-09T00:39:23.295Z"
   },
   {
    "duration": 11,
    "start_time": "2021-07-09T00:39:23.298Z"
   },
   {
    "duration": 10,
    "start_time": "2021-07-09T00:39:23.300Z"
   },
   {
    "duration": 232,
    "start_time": "2021-07-09T00:53:42.966Z"
   },
   {
    "duration": 14,
    "start_time": "2021-07-09T00:53:47.132Z"
   },
   {
    "duration": 4,
    "start_time": "2021-07-09T00:54:00.927Z"
   },
   {
    "duration": 304,
    "start_time": "2021-07-09T00:54:01.187Z"
   },
   {
    "duration": 9,
    "start_time": "2021-07-09T00:54:01.581Z"
   },
   {
    "duration": 6,
    "start_time": "2021-07-09T00:54:02.031Z"
   },
   {
    "duration": 11,
    "start_time": "2021-07-09T00:54:03.292Z"
   },
   {
    "duration": 980,
    "start_time": "2021-07-09T00:54:03.676Z"
   },
   {
    "duration": 375,
    "start_time": "2021-07-09T00:54:04.658Z"
   },
   {
    "duration": 9,
    "start_time": "2021-07-09T00:54:05.035Z"
   },
   {
    "duration": 729,
    "start_time": "2021-07-09T00:54:05.045Z"
   },
   {
    "duration": 6,
    "start_time": "2021-07-09T00:54:05.776Z"
   },
   {
    "duration": 400,
    "start_time": "2021-07-09T00:54:06.092Z"
   },
   {
    "duration": 6,
    "start_time": "2021-07-09T00:54:08.341Z"
   },
   {
    "duration": 3,
    "start_time": "2021-07-09T00:54:11.028Z"
   },
   {
    "duration": 3,
    "start_time": "2021-07-09T00:54:15.906Z"
   },
   {
    "duration": 2,
    "start_time": "2021-07-09T00:54:16.182Z"
   },
   {
    "duration": 444,
    "start_time": "2021-07-09T00:54:16.387Z"
   },
   {
    "duration": 15,
    "start_time": "2021-07-09T00:54:16.818Z"
   },
   {
    "duration": 9,
    "start_time": "2021-07-09T00:54:16.825Z"
   },
   {
    "duration": 178,
    "start_time": "2021-07-09T00:54:17.019Z"
   },
   {
    "duration": 13,
    "start_time": "2021-07-09T00:54:17.227Z"
   },
   {
    "duration": 501,
    "start_time": "2021-07-09T00:54:27.090Z"
   },
   {
    "duration": 16,
    "start_time": "2021-07-09T00:54:30.388Z"
   },
   {
    "duration": 192,
    "start_time": "2021-07-09T00:54:30.652Z"
   },
   {
    "duration": 183,
    "start_time": "2021-07-09T00:54:31.015Z"
   },
   {
    "duration": 11,
    "start_time": "2021-07-09T00:54:31.463Z"
   },
   {
    "duration": 242,
    "start_time": "2021-07-09T00:54:32.223Z"
   },
   {
    "duration": 184,
    "start_time": "2021-07-09T00:54:36.647Z"
   },
   {
    "duration": 14,
    "start_time": "2021-07-09T00:54:37.996Z"
   },
   {
    "duration": 14,
    "start_time": "2021-07-09T00:54:38.923Z"
   },
   {
    "duration": 275,
    "start_time": "2021-07-09T00:54:41.612Z"
   },
   {
    "duration": 264,
    "start_time": "2021-07-09T00:55:11.453Z"
   },
   {
    "duration": 288,
    "start_time": "2021-07-09T00:55:15.375Z"
   },
   {
    "duration": 232,
    "start_time": "2021-07-09T00:56:43.295Z"
   },
   {
    "duration": 3,
    "start_time": "2021-07-09T00:57:41.282Z"
   },
   {
    "duration": 3,
    "start_time": "2021-07-09T00:58:04.993Z"
   },
   {
    "duration": 14,
    "start_time": "2021-07-09T00:58:32.346Z"
   },
   {
    "duration": 2,
    "start_time": "2021-07-09T00:58:32.661Z"
   },
   {
    "duration": 3,
    "start_time": "2021-07-09T00:58:33.066Z"
   },
   {
    "duration": 3,
    "start_time": "2021-07-09T00:58:33.690Z"
   },
   {
    "duration": 231,
    "start_time": "2021-07-09T00:58:42.032Z"
   },
   {
    "duration": -21,
    "start_time": "2021-07-09T01:01:14.891Z"
   },
   {
    "duration": -22,
    "start_time": "2021-07-09T01:01:14.894Z"
   },
   {
    "duration": -23,
    "start_time": "2021-07-09T01:01:14.896Z"
   },
   {
    "duration": -26,
    "start_time": "2021-07-09T01:01:14.899Z"
   },
   {
    "duration": 19516,
    "start_time": "2021-07-09T01:01:18.042Z"
   },
   {
    "duration": 225,
    "start_time": "2021-07-09T01:01:37.559Z"
   },
   {
    "duration": 35,
    "start_time": "2021-07-09T01:01:37.751Z"
   },
   {
    "duration": 33,
    "start_time": "2021-07-09T01:01:37.753Z"
   },
   {
    "duration": 11,
    "start_time": "2021-07-09T01:02:51.432Z"
   },
   {
    "duration": 3,
    "start_time": "2021-07-09T01:02:58.734Z"
   },
   {
    "duration": 4,
    "start_time": "2021-07-09T01:03:12.746Z"
   },
   {
    "duration": 229,
    "start_time": "2021-07-09T01:03:43.541Z"
   },
   {
    "duration": 226,
    "start_time": "2021-07-09T01:03:48.033Z"
   },
   {
    "duration": 3,
    "start_time": "2021-07-09T01:04:16.735Z"
   },
   {
    "duration": 703,
    "start_time": "2021-07-09T01:04:26.658Z"
   },
   {
    "duration": 287,
    "start_time": "2021-07-09T01:21:47.324Z"
   },
   {
    "duration": 332,
    "start_time": "2021-07-09T01:21:56.921Z"
   },
   {
    "duration": 319,
    "start_time": "2021-07-09T01:23:31.467Z"
   },
   {
    "duration": 332,
    "start_time": "2021-07-09T01:23:45.623Z"
   },
   {
    "duration": 1376,
    "start_time": "2021-07-09T01:24:40.190Z"
   },
   {
    "duration": 1348,
    "start_time": "2021-07-09T01:24:51.027Z"
   },
   {
    "duration": 1007,
    "start_time": "2021-07-09T01:24:57.394Z"
   },
   {
    "duration": 1370,
    "start_time": "2021-07-09T01:25:34.714Z"
   },
   {
    "duration": 1096,
    "start_time": "2021-07-09T01:26:18.202Z"
   },
   {
    "duration": 1157,
    "start_time": "2021-07-09T01:41:17.139Z"
   },
   {
    "duration": 1226,
    "start_time": "2021-07-09T01:41:23.673Z"
   },
   {
    "duration": 294,
    "start_time": "2021-07-09T01:42:32.142Z"
   },
   {
    "duration": -31,
    "start_time": "2021-07-09T01:55:25.614Z"
   },
   {
    "duration": 12370,
    "start_time": "2021-07-09T01:56:22.978Z"
   },
   {
    "duration": 242,
    "start_time": "2021-07-09T01:57:56.225Z"
   },
   {
    "duration": 955,
    "start_time": "2021-07-09T02:34:56.839Z"
   },
   {
    "duration": 6276,
    "start_time": "2021-07-09T02:35:04.089Z"
   },
   {
    "duration": 1391,
    "start_time": "2021-07-09T02:35:12.302Z"
   },
   {
    "duration": 4,
    "start_time": "2021-07-09T02:54:09.247Z"
   },
   {
    "duration": 1334,
    "start_time": "2021-07-09T02:54:09.767Z"
   },
   {
    "duration": 12365,
    "start_time": "2021-07-09T02:54:11.193Z"
   },
   {
    "duration": 6278,
    "start_time": "2021-07-09T02:54:23.560Z"
   },
   {
    "duration": 237,
    "start_time": "2021-07-09T02:54:29.840Z"
   },
   {
    "duration": 3,
    "start_time": "2021-07-09T02:57:37.202Z"
   },
   {
    "duration": 4,
    "start_time": "2021-07-09T03:00:03.417Z"
   },
   {
    "duration": 4,
    "start_time": "2021-07-09T03:01:28.857Z"
   },
   {
    "duration": 4,
    "start_time": "2021-07-09T03:01:30.754Z"
   },
   {
    "duration": 222,
    "start_time": "2021-07-09T03:06:46.173Z"
   },
   {
    "duration": 492,
    "start_time": "2021-07-09T03:07:07.565Z"
   },
   {
    "duration": 4,
    "start_time": "2021-07-09T03:07:36.012Z"
   },
   {
    "duration": 3,
    "start_time": "2021-07-09T03:07:38.461Z"
   },
   {
    "duration": 452,
    "start_time": "2021-07-09T03:07:40.740Z"
   },
   {
    "duration": 4,
    "start_time": "2021-07-09T03:08:36.468Z"
   },
   {
    "duration": 474,
    "start_time": "2021-07-09T03:08:38.663Z"
   },
   {
    "duration": 3,
    "start_time": "2021-07-09T03:08:48.670Z"
   },
   {
    "duration": 461,
    "start_time": "2021-07-09T03:08:50.420Z"
   },
   {
    "duration": 4,
    "start_time": "2021-07-09T03:09:29.891Z"
   },
   {
    "duration": 809,
    "start_time": "2021-07-09T03:09:32.676Z"
   },
   {
    "duration": 4,
    "start_time": "2021-07-09T03:09:55.123Z"
   },
   {
    "duration": 457,
    "start_time": "2021-07-09T03:09:57.544Z"
   },
   {
    "duration": 3,
    "start_time": "2021-07-09T03:11:11.915Z"
   },
   {
    "duration": 28498,
    "start_time": "2021-07-09T03:11:15.699Z"
   },
   {
    "duration": 93,
    "start_time": "2021-07-09T03:11:44.199Z"
   },
   {
    "duration": 3,
    "start_time": "2021-07-09T03:12:31.147Z"
   },
   {
    "duration": 3,
    "start_time": "2021-07-09T03:12:35.654Z"
   },
   {
    "duration": 28210,
    "start_time": "2021-07-09T03:12:40.298Z"
   },
   {
    "duration": 4,
    "start_time": "2021-07-09T03:13:48.320Z"
   },
   {
    "duration": 4,
    "start_time": "2021-07-09T03:13:49.729Z"
   },
   {
    "duration": 272,
    "start_time": "2021-07-09T03:13:52.938Z"
   },
   {
    "duration": -77,
    "start_time": "2021-07-09T03:19:25.188Z"
   },
   {
    "duration": 3,
    "start_time": "2021-07-09T03:19:56.661Z"
   },
   {
    "duration": 4,
    "start_time": "2021-07-09T03:19:58.646Z"
   },
   {
    "duration": 96,
    "start_time": "2021-07-09T03:24:11.295Z"
   },
   {
    "duration": 6,
    "start_time": "2021-07-09T03:24:11.393Z"
   },
   {
    "duration": 217999,
    "start_time": "2021-07-09T03:24:11.400Z"
   },
   {
    "duration": 33897,
    "start_time": "2021-07-09T03:31:35.078Z"
   },
   {
    "duration": 4,
    "start_time": "2021-07-09T03:32:44.705Z"
   },
   {
    "duration": 4,
    "start_time": "2021-07-09T03:32:48.692Z"
   },
   {
    "duration": 1510035,
    "start_time": "2021-07-09T03:32:56.462Z"
   },
   {
    "duration": 4,
    "start_time": "2021-07-09T09:16:35.037Z"
   },
   {
    "duration": 112296,
    "start_time": "2021-07-09T09:19:22.805Z"
   },
   {
    "duration": 6047,
    "start_time": "2021-07-09T09:22:37.732Z"
   },
   {
    "duration": 1130,
    "start_time": "2021-07-09T09:22:47.395Z"
   },
   {
    "duration": 272,
    "start_time": "2021-07-09T09:22:48.526Z"
   },
   {
    "duration": 76,
    "start_time": "2021-07-09T09:22:48.800Z"
   },
   {
    "duration": 352,
    "start_time": "2021-07-09T09:22:48.878Z"
   },
   {
    "duration": 10,
    "start_time": "2021-07-09T09:22:49.231Z"
   },
   {
    "duration": 13,
    "start_time": "2021-07-09T09:22:49.243Z"
   },
   {
    "duration": 8,
    "start_time": "2021-07-09T09:22:49.258Z"
   },
   {
    "duration": 2,
    "start_time": "2021-07-09T09:22:49.292Z"
   },
   {
    "duration": 20,
    "start_time": "2021-07-09T09:22:49.295Z"
   },
   {
    "duration": 7,
    "start_time": "2021-07-09T09:22:49.317Z"
   },
   {
    "duration": 2,
    "start_time": "2021-07-09T09:22:49.326Z"
   },
   {
    "duration": 319,
    "start_time": "2021-07-09T09:22:49.330Z"
   },
   {
    "duration": 14,
    "start_time": "2021-07-09T09:22:49.651Z"
   },
   {
    "duration": 4,
    "start_time": "2021-07-09T09:22:49.666Z"
   },
   {
    "duration": 11,
    "start_time": "2021-07-09T09:22:49.692Z"
   },
   {
    "duration": 912,
    "start_time": "2021-07-09T09:22:49.704Z"
   },
   {
    "duration": 277,
    "start_time": "2021-07-09T09:22:50.617Z"
   },
   {
    "duration": 10,
    "start_time": "2021-07-09T09:22:50.895Z"
   },
   {
    "duration": 722,
    "start_time": "2021-07-09T09:22:50.906Z"
   },
   {
    "duration": 5,
    "start_time": "2021-07-09T09:22:51.629Z"
   },
   {
    "duration": 422,
    "start_time": "2021-07-09T09:22:51.636Z"
   },
   {
    "duration": 6,
    "start_time": "2021-07-09T09:22:52.059Z"
   },
   {
    "duration": 4,
    "start_time": "2021-07-09T09:22:52.068Z"
   },
   {
    "duration": 17,
    "start_time": "2021-07-09T09:22:52.074Z"
   },
   {
    "duration": 7,
    "start_time": "2021-07-09T09:22:52.093Z"
   },
   {
    "duration": 5,
    "start_time": "2021-07-09T09:22:52.101Z"
   },
   {
    "duration": 548,
    "start_time": "2021-07-09T09:22:52.107Z"
   },
   {
    "duration": 17,
    "start_time": "2021-07-09T09:22:52.656Z"
   },
   {
    "duration": 197,
    "start_time": "2021-07-09T09:22:52.675Z"
   },
   {
    "duration": 215,
    "start_time": "2021-07-09T09:22:52.873Z"
   },
   {
    "duration": 14,
    "start_time": "2021-07-09T09:22:53.090Z"
   },
   {
    "duration": 228,
    "start_time": "2021-07-09T09:22:53.106Z"
   },
   {
    "duration": 14,
    "start_time": "2021-07-09T09:22:53.335Z"
   },
   {
    "duration": 12,
    "start_time": "2021-07-09T09:22:53.351Z"
   },
   {
    "duration": 7,
    "start_time": "2021-07-09T09:22:53.365Z"
   },
   {
    "duration": 3,
    "start_time": "2021-07-09T09:22:53.392Z"
   },
   {
    "duration": 20646,
    "start_time": "2021-07-09T09:22:53.397Z"
   },
   {
    "duration": 3,
    "start_time": "2021-07-09T09:23:14.045Z"
   },
   {
    "duration": 6,
    "start_time": "2021-07-09T09:23:14.050Z"
   },
   {
    "duration": 123134,
    "start_time": "2021-07-09T09:23:14.057Z"
   },
   {
    "duration": 108100,
    "start_time": "2021-07-09T09:25:17.194Z"
   },
   {
    "duration": 5,
    "start_time": "2021-07-09T09:27:05.296Z"
   },
   {
    "duration": 355,
    "start_time": "2021-07-10T01:28:19.878Z"
   },
   {
    "duration": 16,
    "start_time": "2021-07-10T01:28:50.703Z"
   },
   {
    "duration": 6,
    "start_time": "2021-07-10T01:32:11.343Z"
   },
   {
    "duration": 8,
    "start_time": "2021-07-10T01:32:15.879Z"
   },
   {
    "duration": 5,
    "start_time": "2021-07-10T01:32:23.760Z"
   },
   {
    "duration": 275,
    "start_time": "2021-07-10T01:32:24.487Z"
   },
   {
    "duration": 78,
    "start_time": "2021-07-10T01:32:24.764Z"
   },
   {
    "duration": 357,
    "start_time": "2021-07-10T01:32:24.844Z"
   },
   {
    "duration": 14,
    "start_time": "2021-07-10T01:32:25.202Z"
   },
   {
    "duration": 9,
    "start_time": "2021-07-10T01:32:25.218Z"
   },
   {
    "duration": 17,
    "start_time": "2021-07-10T01:32:25.281Z"
   },
   {
    "duration": 9,
    "start_time": "2021-07-10T01:32:25.445Z"
   },
   {
    "duration": 6,
    "start_time": "2021-07-10T01:32:25.612Z"
   },
   {
    "duration": 18,
    "start_time": "2021-07-10T01:57:41.800Z"
   },
   {
    "duration": 9,
    "start_time": "2021-07-10T01:58:12.544Z"
   },
   {
    "duration": 7,
    "start_time": "2021-07-10T01:58:14.623Z"
   },
   {
    "duration": 11,
    "start_time": "2021-07-10T01:58:29.079Z"
   },
   {
    "duration": 10,
    "start_time": "2021-07-10T02:02:29.758Z"
   },
   {
    "duration": 10,
    "start_time": "2021-07-10T02:02:33.301Z"
   },
   {
    "duration": 11,
    "start_time": "2021-07-10T02:02:52.557Z"
   },
   {
    "duration": 11,
    "start_time": "2021-07-10T02:03:31.620Z"
   },
   {
    "duration": 10,
    "start_time": "2021-07-10T02:03:37.974Z"
   },
   {
    "duration": 7,
    "start_time": "2021-07-10T02:03:38.589Z"
   },
   {
    "duration": 11,
    "start_time": "2021-07-10T02:03:38.980Z"
   },
   {
    "duration": 11,
    "start_time": "2021-07-10T02:03:53.247Z"
   },
   {
    "duration": 6,
    "start_time": "2021-07-10T02:03:57.804Z"
   },
   {
    "duration": 9,
    "start_time": "2021-07-10T02:04:11.320Z"
   },
   {
    "duration": 194,
    "start_time": "2021-07-10T02:04:45.134Z"
   },
   {
    "duration": 317,
    "start_time": "2021-07-10T02:05:16.256Z"
   },
   {
    "duration": 4,
    "start_time": "2021-07-10T02:05:24.059Z"
   },
   {
    "duration": 4,
    "start_time": "2021-07-10T02:05:38.076Z"
   },
   {
    "duration": 4,
    "start_time": "2021-07-10T02:05:55.189Z"
   },
   {
    "duration": 15,
    "start_time": "2021-07-10T02:35:28.609Z"
   },
   {
    "duration": 15,
    "start_time": "2021-07-10T02:35:50.409Z"
   },
   {
    "duration": 10,
    "start_time": "2021-07-10T02:35:57.650Z"
   },
   {
    "duration": 193,
    "start_time": "2021-07-10T02:36:02.938Z"
   },
   {
    "duration": 77,
    "start_time": "2021-07-10T02:40:40.351Z"
   },
   {
    "duration": 371,
    "start_time": "2021-07-10T02:41:39.550Z"
   },
   {
    "duration": 14,
    "start_time": "2021-07-10T02:41:43.425Z"
   },
   {
    "duration": 4,
    "start_time": "2021-07-10T02:41:47.554Z"
   },
   {
    "duration": 189,
    "start_time": "2021-07-10T02:44:19.005Z"
   },
   {
    "duration": 4,
    "start_time": "2021-07-10T02:46:03.452Z"
   },
   {
    "duration": 206,
    "start_time": "2021-07-10T02:46:06.085Z"
   },
   {
    "duration": 84,
    "start_time": "2021-07-10T02:46:12.088Z"
   },
   {
    "duration": 74,
    "start_time": "2021-07-10T02:46:15.308Z"
   },
   {
    "duration": 4,
    "start_time": "2021-07-10T02:46:17.539Z"
   },
   {
    "duration": 5,
    "start_time": "2021-07-10T02:46:24.627Z"
   },
   {
    "duration": 268,
    "start_time": "2021-07-10T02:46:25.347Z"
   },
   {
    "duration": 80,
    "start_time": "2021-07-10T02:46:25.617Z"
   },
   {
    "duration": 350,
    "start_time": "2021-07-10T02:46:25.699Z"
   },
   {
    "duration": 3,
    "start_time": "2021-07-10T02:46:26.051Z"
   },
   {
    "duration": 18,
    "start_time": "2021-07-10T02:46:26.056Z"
   },
   {
    "duration": 10,
    "start_time": "2021-07-10T02:46:26.109Z"
   },
   {
    "duration": 15,
    "start_time": "2021-07-10T02:46:26.244Z"
   },
   {
    "duration": 18,
    "start_time": "2021-07-10T02:46:26.750Z"
   },
   {
    "duration": 9,
    "start_time": "2021-07-10T02:46:26.921Z"
   },
   {
    "duration": 7,
    "start_time": "2021-07-10T02:46:27.044Z"
   },
   {
    "duration": 11,
    "start_time": "2021-07-10T02:46:27.251Z"
   },
   {
    "duration": 194,
    "start_time": "2021-07-10T02:46:27.647Z"
   },
   {
    "duration": 15,
    "start_time": "2021-07-10T02:46:30.401Z"
   },
   {
    "duration": 3,
    "start_time": "2021-07-10T02:46:34.843Z"
   },
   {
    "duration": 362,
    "start_time": "2021-07-10T02:46:36.451Z"
   },
   {
    "duration": 14,
    "start_time": "2021-07-10T02:46:37.147Z"
   },
   {
    "duration": 5,
    "start_time": "2021-07-10T02:46:37.386Z"
   },
   {
    "duration": 189,
    "start_time": "2021-07-10T02:46:38.644Z"
   },
   {
    "duration": 7,
    "start_time": "2021-07-10T02:46:41.337Z"
   },
   {
    "duration": 194,
    "start_time": "2021-07-10T02:46:43.810Z"
   },
   {
    "duration": 5,
    "start_time": "2021-07-10T02:46:46.691Z"
   },
   {
    "duration": 352,
    "start_time": "2021-07-10T02:47:00.219Z"
   },
   {
    "duration": 9,
    "start_time": "2021-07-10T02:47:01.527Z"
   },
   {
    "duration": 4,
    "start_time": "2021-07-10T02:47:11.987Z"
   },
   {
    "duration": 9,
    "start_time": "2021-07-10T02:47:25.571Z"
   },
   {
    "duration": 193,
    "start_time": "2021-07-10T02:47:31.507Z"
   },
   {
    "duration": 11,
    "start_time": "2021-07-10T02:48:56.374Z"
   },
   {
    "duration": 3,
    "start_time": "2021-07-10T02:49:01.322Z"
   },
   {
    "duration": 350,
    "start_time": "2021-07-10T02:49:01.745Z"
   },
   {
    "duration": 15,
    "start_time": "2021-07-10T02:49:02.274Z"
   },
   {
    "duration": 4,
    "start_time": "2021-07-10T02:49:06.370Z"
   },
   {
    "duration": 198,
    "start_time": "2021-07-10T02:49:09.599Z"
   },
   {
    "duration": 10,
    "start_time": "2021-07-10T02:49:15.185Z"
   },
   {
    "duration": 251,
    "start_time": "2021-07-10T02:49:17.145Z"
   },
   {
    "duration": 244,
    "start_time": "2021-07-10T02:49:19.654Z"
   },
   {
    "duration": 341,
    "start_time": "2021-07-10T02:49:23.105Z"
   },
   {
    "duration": 13,
    "start_time": "2021-07-10T02:49:23.457Z"
   },
   {
    "duration": 5,
    "start_time": "2021-07-10T02:49:24.033Z"
   },
   {
    "duration": 9,
    "start_time": "2021-07-10T02:49:51.850Z"
   },
   {
    "duration": 10,
    "start_time": "2021-07-10T02:49:58.450Z"
   },
   {
    "duration": 10,
    "start_time": "2021-07-10T02:50:04.690Z"
   },
   {
    "duration": 8,
    "start_time": "2021-07-10T02:50:19.002Z"
   },
   {
    "duration": 5,
    "start_time": "2021-07-10T02:50:24.569Z"
   },
   {
    "duration": 269,
    "start_time": "2021-07-10T02:50:25.368Z"
   },
   {
    "duration": 69,
    "start_time": "2021-07-10T02:50:25.639Z"
   },
   {
    "duration": 332,
    "start_time": "2021-07-10T02:50:25.710Z"
   },
   {
    "duration": 3,
    "start_time": "2021-07-10T02:50:26.044Z"
   },
   {
    "duration": 16,
    "start_time": "2021-07-10T02:50:26.048Z"
   },
   {
    "duration": 9,
    "start_time": "2021-07-10T02:50:26.111Z"
   },
   {
    "duration": 16,
    "start_time": "2021-07-10T02:50:27.198Z"
   },
   {
    "duration": 18,
    "start_time": "2021-07-10T02:50:30.610Z"
   },
   {
    "duration": 10,
    "start_time": "2021-07-10T02:50:32.112Z"
   },
   {
    "duration": 10,
    "start_time": "2021-07-10T02:50:34.874Z"
   },
   {
    "duration": 8,
    "start_time": "2021-07-10T02:50:45.458Z"
   },
   {
    "duration": 11,
    "start_time": "2021-07-10T02:51:00.669Z"
   },
   {
    "duration": 199,
    "start_time": "2021-07-10T02:51:56.233Z"
   },
   {
    "duration": 5534,
    "start_time": "2021-07-10T02:52:14.001Z"
   },
   {
    "duration": -869,
    "start_time": "2021-07-10T02:52:20.406Z"
   },
   {
    "duration": 231,
    "start_time": "2021-07-10T02:52:19.559Z"
   },
   {
    "duration": 4,
    "start_time": "2021-07-10T02:52:24.531Z"
   },
   {
    "duration": 360,
    "start_time": "2021-07-10T02:52:24.920Z"
   },
   {
    "duration": 14,
    "start_time": "2021-07-10T02:52:25.584Z"
   },
   {
    "duration": 4,
    "start_time": "2021-07-10T02:52:27.103Z"
   },
   {
    "duration": 194,
    "start_time": "2021-07-10T02:52:34.970Z"
   },
   {
    "duration": 195,
    "start_time": "2021-07-10T02:52:39.449Z"
   },
   {
    "duration": 5,
    "start_time": "2021-07-10T03:32:25.729Z"
   },
   {
    "duration": 6,
    "start_time": "2021-07-10T03:32:37.761Z"
   },
   {
    "duration": 5,
    "start_time": "2021-07-10T03:32:44.985Z"
   },
   {
    "duration": 6,
    "start_time": "2021-07-10T03:38:35.754Z"
   },
   {
    "duration": 278,
    "start_time": "2021-07-10T03:38:36.517Z"
   },
   {
    "duration": 81,
    "start_time": "2021-07-10T03:38:36.797Z"
   },
   {
    "duration": 365,
    "start_time": "2021-07-10T03:38:36.880Z"
   },
   {
    "duration": 3,
    "start_time": "2021-07-10T03:38:37.247Z"
   },
   {
    "duration": 15,
    "start_time": "2021-07-10T03:38:37.252Z"
   },
   {
    "duration": 17,
    "start_time": "2021-07-10T03:38:37.275Z"
   },
   {
    "duration": 17,
    "start_time": "2021-07-10T03:38:37.427Z"
   },
   {
    "duration": 17,
    "start_time": "2021-07-10T03:38:37.829Z"
   },
   {
    "duration": 10,
    "start_time": "2021-07-10T03:38:38.476Z"
   },
   {
    "duration": 8,
    "start_time": "2021-07-10T03:38:38.772Z"
   },
   {
    "duration": 11,
    "start_time": "2021-07-10T03:38:39.189Z"
   },
   {
    "duration": 200,
    "start_time": "2021-07-10T03:38:39.999Z"
   },
   {
    "duration": 3,
    "start_time": "2021-07-10T03:38:44.326Z"
   },
   {
    "duration": 368,
    "start_time": "2021-07-10T03:38:44.756Z"
   },
   {
    "duration": 14,
    "start_time": "2021-07-10T03:38:45.293Z"
   },
   {
    "duration": 5,
    "start_time": "2021-07-10T03:38:45.710Z"
   },
   {
    "duration": 5,
    "start_time": "2021-07-10T03:38:57.117Z"
   },
   {
    "duration": 15,
    "start_time": "2021-07-10T03:39:00.749Z"
   },
   {
    "duration": 89,
    "start_time": "2021-07-10T03:40:42.748Z"
   },
   {
    "duration": 11,
    "start_time": "2021-07-10T03:42:10.663Z"
   },
   {
    "duration": 4,
    "start_time": "2021-07-10T03:43:11.622Z"
   },
   {
    "duration": 22,
    "start_time": "2021-07-10T03:43:15.577Z"
   },
   {
    "duration": 23,
    "start_time": "2021-07-10T03:43:30.385Z"
   },
   {
    "duration": 11,
    "start_time": "2021-07-10T03:44:17.580Z"
   },
   {
    "duration": 13,
    "start_time": "2021-07-10T03:44:30.364Z"
   },
   {
    "duration": 14,
    "start_time": "2021-07-10T03:45:28.258Z"
   },
   {
    "duration": 7859,
    "start_time": "2021-07-10T03:47:32.854Z"
   },
   {
    "duration": 11578,
    "start_time": "2021-07-10T03:47:53.913Z"
   },
   {
    "duration": 11949,
    "start_time": "2021-07-10T03:48:36.521Z"
   },
   {
    "duration": 12204,
    "start_time": "2021-07-10T03:49:05.273Z"
   },
   {
    "duration": 11558,
    "start_time": "2021-07-10T03:49:26.639Z"
   },
   {
    "duration": 479,
    "start_time": "2021-07-10T14:20:13.185Z"
   },
   {
    "duration": 5,
    "start_time": "2021-07-10T14:20:26.624Z"
   },
   {
    "duration": 253,
    "start_time": "2021-07-10T14:20:27.504Z"
   },
   {
    "duration": 68,
    "start_time": "2021-07-10T14:20:27.759Z"
   },
   {
    "duration": 318,
    "start_time": "2021-07-10T14:20:27.829Z"
   },
   {
    "duration": 4,
    "start_time": "2021-07-10T14:20:28.149Z"
   },
   {
    "duration": 17,
    "start_time": "2021-07-10T14:20:28.154Z"
   },
   {
    "duration": 11,
    "start_time": "2021-07-10T14:20:28.318Z"
   },
   {
    "duration": 15,
    "start_time": "2021-07-10T14:20:28.480Z"
   },
   {
    "duration": 18,
    "start_time": "2021-07-10T14:20:28.799Z"
   },
   {
    "duration": 9,
    "start_time": "2021-07-10T14:20:29.167Z"
   },
   {
    "duration": 8,
    "start_time": "2021-07-10T14:20:29.351Z"
   },
   {
    "duration": 11,
    "start_time": "2021-07-10T14:20:29.519Z"
   },
   {
    "duration": 201,
    "start_time": "2021-07-10T14:20:29.881Z"
   },
   {
    "duration": 3,
    "start_time": "2021-07-10T14:20:32.393Z"
   },
   {
    "duration": 352,
    "start_time": "2021-07-10T14:20:32.559Z"
   },
   {
    "duration": 13,
    "start_time": "2021-07-10T14:20:32.913Z"
   },
   {
    "duration": 4,
    "start_time": "2021-07-10T14:20:32.928Z"
   },
   {
    "duration": 6,
    "start_time": "2021-07-10T14:20:33.952Z"
   },
   {
    "duration": 14,
    "start_time": "2021-07-10T14:20:35.278Z"
   },
   {
    "duration": 14,
    "start_time": "2021-07-10T14:20:35.495Z"
   },
   {
    "duration": 3,
    "start_time": "2021-07-10T14:20:36.839Z"
   },
   {
    "duration": 709,
    "start_time": "2021-07-10T14:20:37.264Z"
   },
   {
    "duration": 5,
    "start_time": "2021-07-10T14:21:12.451Z"
   },
   {
    "duration": 248,
    "start_time": "2021-07-10T14:21:13.215Z"
   },
   {
    "duration": 68,
    "start_time": "2021-07-10T14:21:13.464Z"
   },
   {
    "duration": 317,
    "start_time": "2021-07-10T14:21:13.534Z"
   },
   {
    "duration": 3,
    "start_time": "2021-07-10T14:21:13.852Z"
   },
   {
    "duration": 30,
    "start_time": "2021-07-10T14:21:13.857Z"
   },
   {
    "duration": 11,
    "start_time": "2021-07-10T14:21:13.982Z"
   },
   {
    "duration": 16,
    "start_time": "2021-07-10T14:21:14.143Z"
   },
   {
    "duration": 19,
    "start_time": "2021-07-10T14:21:14.463Z"
   },
   {
    "duration": 10,
    "start_time": "2021-07-10T14:21:14.799Z"
   },
   {
    "duration": 8,
    "start_time": "2021-07-10T14:21:14.975Z"
   },
   {
    "duration": 11,
    "start_time": "2021-07-10T14:21:15.152Z"
   },
   {
    "duration": 198,
    "start_time": "2021-07-10T14:21:15.494Z"
   },
   {
    "duration": 3,
    "start_time": "2021-07-10T14:21:18.094Z"
   },
   {
    "duration": 356,
    "start_time": "2021-07-10T14:21:18.261Z"
   },
   {
    "duration": 14,
    "start_time": "2021-07-10T14:21:18.619Z"
   },
   {
    "duration": 4,
    "start_time": "2021-07-10T14:21:18.806Z"
   },
   {
    "duration": 6,
    "start_time": "2021-07-10T14:21:20.944Z"
   },
   {
    "duration": 15,
    "start_time": "2021-07-10T14:21:25.759Z"
   },
   {
    "duration": 3,
    "start_time": "2021-07-10T14:21:28.023Z"
   },
   {
    "duration": 513,
    "start_time": "2021-07-10T14:21:28.448Z"
   },
   {
    "duration": 694,
    "start_time": "2021-07-10T14:21:46.697Z"
   },
   {
    "duration": 558,
    "start_time": "2021-07-10T15:22:13.869Z"
   },
   {
    "duration": 447,
    "start_time": "2021-07-10T15:22:31.635Z"
   },
   {
    "duration": 377,
    "start_time": "2021-07-10T15:22:41.915Z"
   },
   {
    "duration": 565,
    "start_time": "2021-07-10T15:23:03.739Z"
   },
   {
    "duration": 574,
    "start_time": "2021-07-10T15:23:07.732Z"
   },
   {
    "duration": 376,
    "start_time": "2021-07-10T15:23:17.747Z"
   },
   {
    "duration": 394,
    "start_time": "2021-07-10T15:23:24.875Z"
   },
   {
    "duration": 15,
    "start_time": "2021-07-10T15:25:29.332Z"
   },
   {
    "duration": 17,
    "start_time": "2021-07-10T15:25:41.494Z"
   },
   {
    "duration": 17,
    "start_time": "2021-07-10T15:25:46.196Z"
   },
   {
    "duration": 29,
    "start_time": "2021-07-10T15:25:51.074Z"
   },
   {
    "duration": 17,
    "start_time": "2021-07-10T15:25:55.908Z"
   },
   {
    "duration": 19,
    "start_time": "2021-07-10T15:27:28.469Z"
   },
   {
    "duration": 412,
    "start_time": "2021-07-10T15:29:25.816Z"
   },
   {
    "duration": 20,
    "start_time": "2021-07-10T15:29:28.720Z"
   },
   {
    "duration": 900,
    "start_time": "2021-07-10T15:31:39.177Z"
   },
   {
    "duration": 86,
    "start_time": "2021-07-10T15:31:59.378Z"
   },
   {
    "duration": 890,
    "start_time": "2021-07-10T15:32:07.696Z"
   },
   {
    "duration": 73,
    "start_time": "2021-07-10T15:40:55.926Z"
   },
   {
    "duration": 891,
    "start_time": "2021-07-10T15:41:06.681Z"
   },
   {
    "duration": 1309,
    "start_time": "2021-07-10T15:41:32.273Z"
   },
   {
    "duration": 827,
    "start_time": "2021-07-10T15:47:08.071Z"
   },
   {
    "duration": 836,
    "start_time": "2021-07-10T15:47:15.326Z"
   },
   {
    "duration": 1014,
    "start_time": "2021-07-10T15:47:22.434Z"
   },
   {
    "duration": 901,
    "start_time": "2021-07-10T15:47:59.932Z"
   },
   {
    "duration": 923,
    "start_time": "2021-07-10T15:48:15.894Z"
   },
   {
    "duration": 800,
    "start_time": "2021-07-10T15:50:12.726Z"
   },
   {
    "duration": 242,
    "start_time": "2021-07-10T16:04:18.884Z"
   },
   {
    "duration": 803,
    "start_time": "2021-07-10T16:04:26.277Z"
   },
   {
    "duration": 937,
    "start_time": "2021-07-10T16:04:40.387Z"
   },
   {
    "duration": 243,
    "start_time": "2021-07-10T16:04:45.331Z"
   },
   {
    "duration": 1167,
    "start_time": "2021-07-10T16:04:53.085Z"
   },
   {
    "duration": 248,
    "start_time": "2021-07-10T16:04:58.115Z"
   },
   {
    "duration": 234,
    "start_time": "2021-07-10T16:05:07.426Z"
   },
   {
    "duration": 84,
    "start_time": "2021-07-10T16:12:04.959Z"
   },
   {
    "duration": 245,
    "start_time": "2021-07-10T16:12:29.146Z"
   },
   {
    "duration": 589,
    "start_time": "2021-07-10T16:17:00.315Z"
   },
   {
    "duration": 614,
    "start_time": "2021-07-10T16:17:42.043Z"
   },
   {
    "duration": 1113,
    "start_time": "2021-07-10T16:17:46.868Z"
   },
   {
    "duration": 1132,
    "start_time": "2021-07-10T16:18:06.275Z"
   },
   {
    "duration": 595,
    "start_time": "2021-07-10T16:18:11.924Z"
   },
   {
    "duration": 1136,
    "start_time": "2021-07-10T16:18:16.956Z"
   },
   {
    "duration": 272,
    "start_time": "2021-07-10T16:20:17.748Z"
   },
   {
    "duration": 767,
    "start_time": "2021-07-10T16:20:23.594Z"
   },
   {
    "duration": 473,
    "start_time": "2021-07-10T16:20:42.499Z"
   },
   {
    "duration": 277,
    "start_time": "2021-07-10T16:20:49.336Z"
   },
   {
    "duration": 945,
    "start_time": "2021-07-10T16:20:54.378Z"
   },
   {
    "duration": 273,
    "start_time": "2021-07-10T16:21:19.571Z"
   },
   {
    "duration": 235,
    "start_time": "2021-07-10T16:21:26.361Z"
   },
   {
    "duration": 237,
    "start_time": "2021-07-10T16:21:36.300Z"
   },
   {
    "duration": 792,
    "start_time": "2021-07-10T16:21:55.658Z"
   },
   {
    "duration": 258,
    "start_time": "2021-07-10T16:22:02.737Z"
   },
   {
    "duration": 236,
    "start_time": "2021-07-10T16:22:13.745Z"
   },
   {
    "duration": 77,
    "start_time": "2021-07-10T16:23:30.728Z"
   },
   {
    "duration": 79,
    "start_time": "2021-07-10T16:23:34.584Z"
   },
   {
    "duration": 239,
    "start_time": "2021-07-10T16:23:38.585Z"
   },
   {
    "duration": 462,
    "start_time": "2021-07-10T16:24:00.118Z"
   },
   {
    "duration": 268,
    "start_time": "2021-07-10T16:24:04.768Z"
   },
   {
    "duration": 838,
    "start_time": "2021-07-10T16:24:17.094Z"
   },
   {
    "duration": 247,
    "start_time": "2021-07-10T16:25:18.082Z"
   },
   {
    "duration": 234,
    "start_time": "2021-07-10T16:25:25.081Z"
   },
   {
    "duration": 227,
    "start_time": "2021-07-10T16:26:13.715Z"
   },
   {
    "duration": 467,
    "start_time": "2021-07-10T16:26:28.227Z"
   },
   {
    "duration": 438,
    "start_time": "2021-07-10T16:26:31.512Z"
   },
   {
    "duration": 440,
    "start_time": "2021-07-10T16:26:52.307Z"
   },
   {
    "duration": 447,
    "start_time": "2021-07-10T16:26:59.882Z"
   },
   {
    "duration": 458,
    "start_time": "2021-07-10T16:27:38.071Z"
   },
   {
    "duration": 234,
    "start_time": "2021-07-10T16:28:05.127Z"
   },
   {
    "duration": 365,
    "start_time": "2021-07-10T16:28:15.368Z"
   },
   {
    "duration": 933,
    "start_time": "2021-07-10T16:28:28.671Z"
   },
   {
    "duration": 840,
    "start_time": "2021-07-10T16:28:34.480Z"
   },
   {
    "duration": 888,
    "start_time": "2021-07-10T16:28:40.536Z"
   },
   {
    "duration": 805,
    "start_time": "2021-07-10T16:28:49.679Z"
   },
   {
    "duration": 235,
    "start_time": "2021-07-10T16:29:04.189Z"
   },
   {
    "duration": 240,
    "start_time": "2021-07-10T16:29:20.342Z"
   },
   {
    "duration": 238,
    "start_time": "2021-07-10T16:29:39.976Z"
   },
   {
    "duration": 274,
    "start_time": "2021-07-10T16:29:44.505Z"
   },
   {
    "duration": 253,
    "start_time": "2021-07-10T16:29:49.807Z"
   },
   {
    "duration": 270,
    "start_time": "2021-07-10T16:30:08.213Z"
   },
   {
    "duration": 4,
    "start_time": "2021-07-10T16:30:21.902Z"
   },
   {
    "duration": 917,
    "start_time": "2021-07-10T16:30:24.999Z"
   },
   {
    "duration": 715,
    "start_time": "2021-07-10T16:30:32.479Z"
   },
   {
    "duration": 243,
    "start_time": "2021-07-10T16:30:46.288Z"
   },
   {
    "duration": 227,
    "start_time": "2021-07-10T16:31:01.966Z"
   },
   {
    "duration": 1423,
    "start_time": "2021-07-10T16:32:04.510Z"
   },
   {
    "duration": 267,
    "start_time": "2021-07-10T17:00:20.750Z"
   },
   {
    "duration": 632,
    "start_time": "2021-07-10T17:00:37.941Z"
   },
   {
    "duration": 813,
    "start_time": "2021-07-10T17:00:59.071Z"
   },
   {
    "duration": 615,
    "start_time": "2021-07-10T17:01:19.431Z"
   },
   {
    "duration": 647,
    "start_time": "2021-07-10T17:01:30.052Z"
   },
   {
    "duration": 9,
    "start_time": "2021-07-10T17:01:54.300Z"
   },
   {
    "duration": 1218,
    "start_time": "2021-07-10T17:02:00.509Z"
   },
   {
    "duration": 650,
    "start_time": "2021-07-10T17:02:05.829Z"
   },
   {
    "duration": 802,
    "start_time": "2021-07-10T17:02:19.572Z"
   },
   {
    "duration": 653,
    "start_time": "2021-07-10T17:02:27.171Z"
   },
   {
    "duration": 643,
    "start_time": "2021-07-10T17:02:32.273Z"
   },
   {
    "duration": 394,
    "start_time": "2021-07-10T17:03:28.427Z"
   },
   {
    "duration": 414,
    "start_time": "2021-07-10T17:03:57.970Z"
   },
   {
    "duration": 14,
    "start_time": "2021-07-10T17:04:24.004Z"
   },
   {
    "duration": 676,
    "start_time": "2021-07-10T17:04:27.962Z"
   },
   {
    "duration": 297,
    "start_time": "2021-07-10T17:04:33.713Z"
   },
   {
    "duration": 3016,
    "start_time": "2021-07-10T17:04:59.298Z"
   },
   {
    "duration": 250,
    "start_time": "2021-07-10T17:05:02.553Z"
   },
   {
    "duration": 270,
    "start_time": "2021-07-10T17:05:13.111Z"
   },
   {
    "duration": 69,
    "start_time": "2021-07-10T17:05:13.383Z"
   },
   {
    "duration": 341,
    "start_time": "2021-07-10T17:05:13.454Z"
   },
   {
    "duration": 3,
    "start_time": "2021-07-10T17:05:13.797Z"
   },
   {
    "duration": 17,
    "start_time": "2021-07-10T17:05:13.802Z"
   },
   {
    "duration": 8,
    "start_time": "2021-07-10T17:05:13.821Z"
   },
   {
    "duration": 18,
    "start_time": "2021-07-10T17:05:13.946Z"
   },
   {
    "duration": 17,
    "start_time": "2021-07-10T17:05:14.193Z"
   },
   {
    "duration": 11,
    "start_time": "2021-07-10T17:05:14.471Z"
   },
   {
    "duration": 7,
    "start_time": "2021-07-10T17:05:14.624Z"
   },
   {
    "duration": 12,
    "start_time": "2021-07-10T17:05:14.767Z"
   },
   {
    "duration": 199,
    "start_time": "2021-07-10T17:05:15.059Z"
   },
   {
    "duration": 3,
    "start_time": "2021-07-10T17:05:16.395Z"
   },
   {
    "duration": 360,
    "start_time": "2021-07-10T17:05:16.545Z"
   },
   {
    "duration": 13,
    "start_time": "2021-07-10T17:05:16.907Z"
   },
   {
    "duration": 4,
    "start_time": "2021-07-10T17:05:16.922Z"
   },
   {
    "duration": 6,
    "start_time": "2021-07-10T17:05:17.537Z"
   },
   {
    "duration": 14,
    "start_time": "2021-07-10T17:05:18.185Z"
   },
   {
    "duration": 567,
    "start_time": "2021-07-10T17:05:18.674Z"
   },
   {
    "duration": 412,
    "start_time": "2021-07-10T17:05:19.243Z"
   },
   {
    "duration": 19,
    "start_time": "2021-07-10T17:05:19.657Z"
   },
   {
    "duration": 903,
    "start_time": "2021-07-10T17:05:20.642Z"
   },
   {
    "duration": 254,
    "start_time": "2021-07-10T17:05:21.546Z"
   },
   {
    "duration": 256,
    "start_time": "2021-07-10T17:05:21.802Z"
   },
   {
    "duration": 242,
    "start_time": "2021-07-10T17:05:22.059Z"
   },
   {
    "duration": 660,
    "start_time": "2021-07-10T17:05:22.302Z"
   },
   {
    "duration": 410,
    "start_time": "2021-07-10T17:05:26.064Z"
   },
   {
    "duration": 10,
    "start_time": "2021-07-10T17:05:28.872Z"
   },
   {
    "duration": 653,
    "start_time": "2021-07-10T17:05:46.120Z"
   },
   {
    "duration": -1286,
    "start_time": "2021-07-10T17:07:20.060Z"
   },
   {
    "duration": -1289,
    "start_time": "2021-07-10T17:07:20.065Z"
   },
   {
    "duration": -1294,
    "start_time": "2021-07-10T17:07:20.071Z"
   },
   {
    "duration": -1301,
    "start_time": "2021-07-10T17:07:20.085Z"
   },
   {
    "duration": -1306,
    "start_time": "2021-07-10T17:07:20.091Z"
   },
   {
    "duration": -1311,
    "start_time": "2021-07-10T17:07:20.096Z"
   },
   {
    "duration": -1314,
    "start_time": "2021-07-10T17:07:20.100Z"
   },
   {
    "duration": -1318,
    "start_time": "2021-07-10T17:07:20.105Z"
   },
   {
    "duration": -1321,
    "start_time": "2021-07-10T17:07:20.109Z"
   },
   {
    "duration": -1325,
    "start_time": "2021-07-10T17:07:20.114Z"
   },
   {
    "duration": -1328,
    "start_time": "2021-07-10T17:07:20.118Z"
   },
   {
    "duration": -1331,
    "start_time": "2021-07-10T17:07:20.123Z"
   },
   {
    "duration": -1334,
    "start_time": "2021-07-10T17:07:20.126Z"
   },
   {
    "duration": -1337,
    "start_time": "2021-07-10T17:07:20.130Z"
   },
   {
    "duration": -1340,
    "start_time": "2021-07-10T17:07:20.134Z"
   },
   {
    "duration": -1345,
    "start_time": "2021-07-10T17:07:20.140Z"
   },
   {
    "duration": -1349,
    "start_time": "2021-07-10T17:07:20.144Z"
   },
   {
    "duration": -1353,
    "start_time": "2021-07-10T17:07:20.149Z"
   },
   {
    "duration": -1355,
    "start_time": "2021-07-10T17:07:20.152Z"
   },
   {
    "duration": -1358,
    "start_time": "2021-07-10T17:07:20.156Z"
   },
   {
    "duration": -1361,
    "start_time": "2021-07-10T17:07:20.160Z"
   },
   {
    "duration": -1371,
    "start_time": "2021-07-10T17:07:20.170Z"
   },
   {
    "duration": -1374,
    "start_time": "2021-07-10T17:07:20.174Z"
   },
   {
    "duration": -1377,
    "start_time": "2021-07-10T17:07:20.178Z"
   },
   {
    "duration": -1380,
    "start_time": "2021-07-10T17:07:20.182Z"
   },
   {
    "duration": -1394,
    "start_time": "2021-07-10T17:07:20.197Z"
   },
   {
    "duration": -1402,
    "start_time": "2021-07-10T17:07:20.206Z"
   },
   {
    "duration": -1406,
    "start_time": "2021-07-10T17:07:20.210Z"
   },
   {
    "duration": 265,
    "start_time": "2021-07-10T17:07:22.088Z"
   },
   {
    "duration": 68,
    "start_time": "2021-07-10T17:07:22.355Z"
   },
   {
    "duration": 329,
    "start_time": "2021-07-10T17:07:22.439Z"
   },
   {
    "duration": 4,
    "start_time": "2021-07-10T17:07:22.770Z"
   },
   {
    "duration": 24,
    "start_time": "2021-07-10T17:07:22.775Z"
   },
   {
    "duration": 9,
    "start_time": "2021-07-10T17:07:22.873Z"
   },
   {
    "duration": 16,
    "start_time": "2021-07-10T17:07:23.024Z"
   },
   {
    "duration": 17,
    "start_time": "2021-07-10T17:07:23.296Z"
   },
   {
    "duration": 10,
    "start_time": "2021-07-10T17:07:23.592Z"
   },
   {
    "duration": 8,
    "start_time": "2021-07-10T17:07:23.742Z"
   },
   {
    "duration": 11,
    "start_time": "2021-07-10T17:07:23.886Z"
   },
   {
    "duration": 194,
    "start_time": "2021-07-10T17:07:24.184Z"
   },
   {
    "duration": 3,
    "start_time": "2021-07-10T17:07:25.561Z"
   },
   {
    "duration": 355,
    "start_time": "2021-07-10T17:07:25.719Z"
   },
   {
    "duration": 17,
    "start_time": "2021-07-10T17:07:26.076Z"
   },
   {
    "duration": 4,
    "start_time": "2021-07-10T17:07:26.095Z"
   },
   {
    "duration": 5,
    "start_time": "2021-07-10T17:07:26.720Z"
   },
   {
    "duration": 15,
    "start_time": "2021-07-10T17:07:27.464Z"
   },
   {
    "duration": 561,
    "start_time": "2021-07-10T17:07:27.928Z"
   },
   {
    "duration": 406,
    "start_time": "2021-07-10T17:07:28.491Z"
   },
   {
    "duration": 21,
    "start_time": "2021-07-10T17:07:28.899Z"
   },
   {
    "duration": 1896,
    "start_time": "2021-07-10T17:07:29.160Z"
   },
   {
    "duration": 256,
    "start_time": "2021-07-10T17:07:31.058Z"
   },
   {
    "duration": 268,
    "start_time": "2021-07-10T17:07:31.315Z"
   },
   {
    "duration": 241,
    "start_time": "2021-07-10T17:07:31.585Z"
   },
   {
    "duration": 649,
    "start_time": "2021-07-10T17:07:31.828Z"
   },
   {
    "duration": 409,
    "start_time": "2021-07-10T17:07:32.478Z"
   },
   {
    "duration": 9,
    "start_time": "2021-07-10T17:07:32.888Z"
   },
   {
    "duration": 6,
    "start_time": "2021-07-10T17:07:32.898Z"
   },
   {
    "duration": 3,
    "start_time": "2021-07-10T17:07:32.905Z"
   },
   {
    "duration": 3,
    "start_time": "2021-07-10T17:07:33.678Z"
   },
   {
    "duration": 3,
    "start_time": "2021-07-10T17:07:33.831Z"
   },
   {
    "duration": 2,
    "start_time": "2021-07-10T17:07:34.640Z"
   },
   {
    "duration": 2,
    "start_time": "2021-07-10T17:07:34.849Z"
   },
   {
    "duration": 537,
    "start_time": "2021-07-10T17:07:35.297Z"
   },
   {
    "duration": 15,
    "start_time": "2021-07-10T17:07:36.183Z"
   },
   {
    "duration": 9,
    "start_time": "2021-07-10T17:08:13.551Z"
   },
   {
    "duration": 643,
    "start_time": "2021-07-10T17:08:16.858Z"
   },
   {
    "duration": 649,
    "start_time": "2021-07-10T17:08:21.649Z"
   },
   {
    "duration": 402,
    "start_time": "2021-07-10T17:08:24.955Z"
   },
   {
    "duration": 9,
    "start_time": "2021-07-10T17:08:38.768Z"
   },
   {
    "duration": 655,
    "start_time": "2021-07-10T17:08:44.643Z"
   },
   {
    "duration": 8,
    "start_time": "2021-07-10T17:08:53.640Z"
   },
   {
    "duration": 656,
    "start_time": "2021-07-10T17:08:58.337Z"
   },
   {
    "duration": 28,
    "start_time": "2021-07-10T17:09:27.006Z"
   },
   {
    "duration": 28,
    "start_time": "2021-07-10T17:09:40.233Z"
   },
   {
    "duration": 27,
    "start_time": "2021-07-10T17:10:39.464Z"
   },
   {
    "duration": 10,
    "start_time": "2021-07-10T17:10:53.015Z"
   },
   {
    "duration": 5990,
    "start_time": "2021-07-10T17:12:33.942Z"
   },
   {
    "duration": 6415,
    "start_time": "2021-07-10T17:12:43.055Z"
   },
   {
    "duration": 660,
    "start_time": "2021-07-10T17:13:24.446Z"
   },
   {
    "duration": 6656,
    "start_time": "2021-07-10T17:13:36.614Z"
   },
   {
    "duration": 6019,
    "start_time": "2021-07-10T17:15:27.956Z"
   },
   {
    "duration": 665,
    "start_time": "2021-07-10T17:15:43.199Z"
   },
   {
    "duration": 691,
    "start_time": "2021-07-10T17:15:53.445Z"
   },
   {
    "duration": 622,
    "start_time": "2021-07-10T17:15:58.964Z"
   },
   {
    "duration": 621,
    "start_time": "2021-07-10T17:16:09.214Z"
   },
   {
    "duration": 624,
    "start_time": "2021-07-10T17:16:27.612Z"
   },
   {
    "duration": 72,
    "start_time": "2021-07-10T17:17:05.871Z"
   },
   {
    "duration": 273,
    "start_time": "2021-07-10T17:23:36.192Z"
   },
   {
    "duration": 8,
    "start_time": "2021-07-10T17:24:56.838Z"
   },
   {
    "duration": 6,
    "start_time": "2021-07-10T17:26:39.808Z"
   },
   {
    "duration": 9,
    "start_time": "2021-07-10T17:26:45.270Z"
   },
   {
    "duration": 5989,
    "start_time": "2021-07-10T17:27:54.384Z"
   },
   {
    "duration": -1296,
    "start_time": "2021-07-10T17:28:01.670Z"
   },
   {
    "duration": 7,
    "start_time": "2021-07-10T17:28:18.228Z"
   },
   {
    "duration": 8,
    "start_time": "2021-07-10T17:28:44.939Z"
   },
   {
    "duration": 79,
    "start_time": "2021-07-10T17:30:56.388Z"
   },
   {
    "duration": 6,
    "start_time": "2021-07-10T17:32:36.762Z"
   },
   {
    "duration": 9,
    "start_time": "2021-07-10T17:32:45.579Z"
   },
   {
    "duration": 7,
    "start_time": "2021-07-10T17:33:09.994Z"
   },
   {
    "duration": 8,
    "start_time": "2021-07-10T17:33:12.473Z"
   },
   {
    "duration": 6,
    "start_time": "2021-07-10T17:33:18.712Z"
   },
   {
    "duration": 10,
    "start_time": "2021-07-10T17:33:21.585Z"
   },
   {
    "duration": 5,
    "start_time": "2021-07-10T17:33:37.809Z"
   },
   {
    "duration": 7,
    "start_time": "2021-07-10T17:33:40.970Z"
   },
   {
    "duration": 5,
    "start_time": "2021-07-10T17:33:46.169Z"
   },
   {
    "duration": 5,
    "start_time": "2021-07-10T17:33:48.249Z"
   },
   {
    "duration": 5,
    "start_time": "2021-07-10T17:33:50.040Z"
   },
   {
    "duration": 241,
    "start_time": "2021-07-10T17:34:42.872Z"
   },
   {
    "duration": 257,
    "start_time": "2021-07-10T17:34:48.866Z"
   },
   {
    "duration": 240,
    "start_time": "2021-07-10T17:35:17.985Z"
   },
   {
    "duration": 5,
    "start_time": "2021-07-10T17:35:29.046Z"
   },
   {
    "duration": 5,
    "start_time": "2021-07-10T17:35:33.240Z"
   },
   {
    "duration": 3,
    "start_time": "2021-07-10T17:35:40.552Z"
   },
   {
    "duration": 8,
    "start_time": "2021-07-10T17:35:42.304Z"
   },
   {
    "duration": 6,
    "start_time": "2021-07-10T17:35:44.720Z"
   },
   {
    "duration": 6,
    "start_time": "2021-07-10T17:35:47.159Z"
   },
   {
    "duration": 5,
    "start_time": "2021-07-10T17:37:21.706Z"
   },
   {
    "duration": 5,
    "start_time": "2021-07-10T17:37:38.823Z"
   },
   {
    "duration": 6,
    "start_time": "2021-07-10T17:37:59.171Z"
   },
   {
    "duration": 7,
    "start_time": "2021-07-10T17:38:01.195Z"
   },
   {
    "duration": 4,
    "start_time": "2021-07-10T17:38:01.876Z"
   },
   {
    "duration": 7,
    "start_time": "2021-07-10T17:38:04.251Z"
   },
   {
    "duration": 5,
    "start_time": "2021-07-10T17:38:06.600Z"
   },
   {
    "duration": 6,
    "start_time": "2021-07-10T17:38:10.538Z"
   },
   {
    "duration": 5,
    "start_time": "2021-07-10T17:38:23.103Z"
   },
   {
    "duration": 5,
    "start_time": "2021-07-10T17:38:32.715Z"
   },
   {
    "duration": 5,
    "start_time": "2021-07-10T17:38:35.755Z"
   },
   {
    "duration": 7,
    "start_time": "2021-07-10T17:38:49.052Z"
   },
   {
    "duration": 7,
    "start_time": "2021-07-10T17:38:54.658Z"
   },
   {
    "duration": 7,
    "start_time": "2021-07-10T17:39:01.895Z"
   },
   {
    "duration": 8,
    "start_time": "2021-07-10T17:39:03.962Z"
   },
   {
    "duration": 2,
    "start_time": "2021-07-10T17:39:08.008Z"
   },
   {
    "duration": 5,
    "start_time": "2021-07-10T17:39:10.943Z"
   },
   {
    "duration": 3,
    "start_time": "2021-07-10T17:39:28.889Z"
   },
   {
    "duration": 7,
    "start_time": "2021-07-10T17:39:30.529Z"
   },
   {
    "duration": 8,
    "start_time": "2021-07-10T17:39:33.217Z"
   },
   {
    "duration": 5,
    "start_time": "2021-07-10T17:39:41.416Z"
   },
   {
    "duration": 8,
    "start_time": "2021-07-10T17:39:43.660Z"
   },
   {
    "duration": 9,
    "start_time": "2021-07-10T17:39:45.679Z"
   },
   {
    "duration": 3,
    "start_time": "2021-07-10T17:40:23.023Z"
   },
   {
    "duration": 6,
    "start_time": "2021-07-10T17:40:25.920Z"
   },
   {
    "duration": 7,
    "start_time": "2021-07-10T17:40:40.904Z"
   },
   {
    "duration": 7,
    "start_time": "2021-07-10T17:40:50.812Z"
   },
   {
    "duration": 7,
    "start_time": "2021-07-10T17:40:52.376Z"
   },
   {
    "duration": 7,
    "start_time": "2021-07-10T17:40:54.487Z"
   },
   {
    "duration": 4,
    "start_time": "2021-07-10T17:41:06.671Z"
   },
   {
    "duration": 6,
    "start_time": "2021-07-10T17:41:09.431Z"
   },
   {
    "duration": 4,
    "start_time": "2021-07-10T17:41:12.431Z"
   },
   {
    "duration": 3,
    "start_time": "2021-07-10T17:41:21.040Z"
   },
   {
    "duration": 8,
    "start_time": "2021-07-10T17:41:27.416Z"
   },
   {
    "duration": 8,
    "start_time": "2021-07-10T17:41:42.937Z"
   },
   {
    "duration": 4,
    "start_time": "2021-07-10T17:41:48.176Z"
   },
   {
    "duration": 4,
    "start_time": "2021-07-10T17:41:50.345Z"
   },
   {
    "duration": 4,
    "start_time": "2021-07-10T17:41:52.760Z"
   },
   {
    "duration": 5,
    "start_time": "2021-07-10T17:41:54.112Z"
   },
   {
    "duration": 5,
    "start_time": "2021-07-10T17:41:56.023Z"
   },
   {
    "duration": 5,
    "start_time": "2021-07-10T17:41:59.348Z"
   },
   {
    "duration": 2,
    "start_time": "2021-07-10T17:42:10.567Z"
   },
   {
    "duration": 7,
    "start_time": "2021-07-10T17:42:21.497Z"
   },
   {
    "duration": 4,
    "start_time": "2021-07-10T17:42:24.145Z"
   },
   {
    "duration": 7,
    "start_time": "2021-07-10T17:42:27.895Z"
   },
   {
    "duration": 5,
    "start_time": "2021-07-10T17:42:31.588Z"
   },
   {
    "duration": 5,
    "start_time": "2021-07-10T17:42:36.494Z"
   },
   {
    "duration": 4,
    "start_time": "2021-07-10T17:42:38.093Z"
   },
   {
    "duration": 7,
    "start_time": "2021-07-10T17:42:38.382Z"
   },
   {
    "duration": 4,
    "start_time": "2021-07-10T17:43:05.071Z"
   },
   {
    "duration": 4,
    "start_time": "2021-07-10T17:43:09.208Z"
   },
   {
    "duration": 5,
    "start_time": "2021-07-10T17:43:12.040Z"
   },
   {
    "duration": 4,
    "start_time": "2021-07-10T17:43:13.632Z"
   },
   {
    "duration": 6,
    "start_time": "2021-07-10T17:43:17.107Z"
   },
   {
    "duration": 5,
    "start_time": "2021-07-10T17:43:18.509Z"
   },
   {
    "duration": 84,
    "start_time": "2021-07-10T17:43:31.414Z"
   },
   {
    "duration": 8,
    "start_time": "2021-07-10T17:43:41.359Z"
   },
   {
    "duration": 5,
    "start_time": "2021-07-10T17:43:43.758Z"
   },
   {
    "duration": 83,
    "start_time": "2021-07-10T17:43:52.903Z"
   },
   {
    "duration": 75,
    "start_time": "2021-07-10T17:43:56.774Z"
   },
   {
    "duration": 87,
    "start_time": "2021-07-10T17:43:59.777Z"
   },
   {
    "duration": 5,
    "start_time": "2021-07-10T17:44:13.725Z"
   },
   {
    "duration": 5,
    "start_time": "2021-07-10T17:44:16.174Z"
   },
   {
    "duration": 4,
    "start_time": "2021-07-10T17:44:17.606Z"
   },
   {
    "duration": 5,
    "start_time": "2021-07-10T17:44:25.743Z"
   },
   {
    "duration": 4,
    "start_time": "2021-07-10T17:44:27.240Z"
   },
   {
    "duration": 5,
    "start_time": "2021-07-10T17:44:28.942Z"
   },
   {
    "duration": 5,
    "start_time": "2021-07-10T17:44:30.478Z"
   },
   {
    "duration": 7,
    "start_time": "2021-07-10T17:44:31.789Z"
   },
   {
    "duration": 5,
    "start_time": "2021-07-10T17:44:33.085Z"
   },
   {
    "duration": 6,
    "start_time": "2021-07-10T17:44:34.422Z"
   },
   {
    "duration": 6,
    "start_time": "2021-07-10T17:44:46.476Z"
   },
   {
    "duration": 5,
    "start_time": "2021-07-10T17:44:52.638Z"
   },
   {
    "duration": 8,
    "start_time": "2021-07-10T17:44:53.645Z"
   },
   {
    "duration": 7,
    "start_time": "2021-07-10T17:45:07.189Z"
   },
   {
    "duration": 6,
    "start_time": "2021-07-10T17:45:08.718Z"
   },
   {
    "duration": 6,
    "start_time": "2021-07-10T17:45:10.604Z"
   },
   {
    "duration": 5,
    "start_time": "2021-07-10T17:45:12.094Z"
   },
   {
    "duration": 5,
    "start_time": "2021-07-10T17:45:14.908Z"
   },
   {
    "duration": 5,
    "start_time": "2021-07-10T17:45:16.276Z"
   },
   {
    "duration": 6,
    "start_time": "2021-07-10T17:45:22.245Z"
   },
   {
    "duration": 5,
    "start_time": "2021-07-10T17:45:23.477Z"
   },
   {
    "duration": 3,
    "start_time": "2021-07-10T17:45:31.965Z"
   },
   {
    "duration": 7,
    "start_time": "2021-07-10T17:45:33.548Z"
   },
   {
    "duration": 5,
    "start_time": "2021-07-10T17:45:34.831Z"
   },
   {
    "duration": 7,
    "start_time": "2021-07-10T17:45:54.797Z"
   },
   {
    "duration": 5,
    "start_time": "2021-07-10T17:46:00.684Z"
   },
   {
    "duration": 5,
    "start_time": "2021-07-10T17:48:10.278Z"
   },
   {
    "duration": 5,
    "start_time": "2021-07-10T17:48:16.251Z"
   },
   {
    "duration": 6,
    "start_time": "2021-07-10T17:48:19.947Z"
   },
   {
    "duration": 243,
    "start_time": "2021-07-10T18:06:00.497Z"
   },
   {
    "duration": 2,
    "start_time": "2021-07-10T18:06:06.721Z"
   },
   {
    "duration": 5672,
    "start_time": "2021-07-10T18:06:09.009Z"
   },
   {
    "duration": 5717,
    "start_time": "2021-07-10T18:06:39.041Z"
   },
   {
    "duration": 3,
    "start_time": "2021-07-10T18:07:06.673Z"
   },
   {
    "duration": 6,
    "start_time": "2021-07-10T18:07:16.225Z"
   },
   {
    "duration": 29,
    "start_time": "2021-07-10T18:07:21.923Z"
   },
   {
    "duration": 5713,
    "start_time": "2021-07-10T18:07:43.031Z"
   },
   {
    "duration": 5997,
    "start_time": "2021-07-10T18:08:41.447Z"
   },
   {
    "duration": -1323,
    "start_time": "2021-07-10T18:08:48.769Z"
   },
   {
    "duration": 5968,
    "start_time": "2021-07-10T18:08:51.617Z"
   },
   {
    "duration": -1317,
    "start_time": "2021-07-10T18:08:58.903Z"
   },
   {
    "duration": 76,
    "start_time": "2021-07-10T18:09:27.512Z"
   },
   {
    "duration": 7,
    "start_time": "2021-07-10T18:09:34.877Z"
   },
   {
    "duration": 29,
    "start_time": "2021-07-10T18:09:36.880Z"
   },
   {
    "duration": 7,
    "start_time": "2021-07-10T18:09:56.934Z"
   },
   {
    "duration": 11351,
    "start_time": "2021-07-10T18:09:58.432Z"
   },
   {
    "duration": -1358,
    "start_time": "2021-07-10T18:10:11.145Z"
   },
   {
    "duration": -1364,
    "start_time": "2021-07-10T18:10:11.152Z"
   },
   {
    "duration": 3,
    "start_time": "2021-07-10T18:10:31.621Z"
   },
   {
    "duration": 6,
    "start_time": "2021-07-10T18:10:33.543Z"
   },
   {
    "duration": 26,
    "start_time": "2021-07-10T18:10:34.991Z"
   },
   {
    "duration": 7,
    "start_time": "2021-07-10T18:10:57.669Z"
   },
   {
    "duration": 27,
    "start_time": "2021-07-10T18:10:59.536Z"
   },
   {
    "duration": 267,
    "start_time": "2021-07-10T18:11:11.468Z"
   },
   {
    "duration": 97,
    "start_time": "2021-07-10T18:11:11.737Z"
   },
   {
    "duration": 373,
    "start_time": "2021-07-10T18:11:11.861Z"
   },
   {
    "duration": 2,
    "start_time": "2021-07-10T18:11:15.566Z"
   },
   {
    "duration": 7,
    "start_time": "2021-07-10T18:11:16.884Z"
   },
   {
    "duration": 26,
    "start_time": "2021-07-10T18:11:22.407Z"
   },
   {
    "duration": 19,
    "start_time": "2021-07-10T18:11:29.185Z"
   },
   {
    "duration": 6200,
    "start_time": "2021-07-10T18:11:49.077Z"
   },
   {
    "duration": -1326,
    "start_time": "2021-07-10T18:11:56.606Z"
   },
   {
    "duration": 8,
    "start_time": "2021-07-10T18:15:20.831Z"
   },
   {
    "duration": 8,
    "start_time": "2021-07-10T18:21:46.313Z"
   },
   {
    "duration": 18,
    "start_time": "2021-07-10T18:21:48.335Z"
   },
   {
    "duration": 7,
    "start_time": "2021-07-10T18:22:25.529Z"
   },
   {
    "duration": 18,
    "start_time": "2021-07-10T18:22:29.569Z"
   },
   {
    "duration": 3,
    "start_time": "2021-07-10T18:22:37.824Z"
   },
   {
    "duration": 9,
    "start_time": "2021-07-10T18:22:40.111Z"
   },
   {
    "duration": 17,
    "start_time": "2021-07-10T18:22:46.797Z"
   },
   {
    "duration": 3,
    "start_time": "2021-07-10T18:22:57.489Z"
   },
   {
    "duration": 5714,
    "start_time": "2021-07-10T18:22:59.302Z"
   },
   {
    "duration": -1327,
    "start_time": "2021-07-10T18:23:06.346Z"
   },
   {
    "duration": 3,
    "start_time": "2021-07-10T18:23:26.702Z"
   },
   {
    "duration": 11,
    "start_time": "2021-07-10T18:23:28.543Z"
   },
   {
    "duration": 18,
    "start_time": "2021-07-10T18:23:30.808Z"
   },
   {
    "duration": 3,
    "start_time": "2021-07-10T18:23:39.300Z"
   },
   {
    "duration": 13,
    "start_time": "2021-07-10T18:23:40.984Z"
   },
   {
    "duration": 18,
    "start_time": "2021-07-10T18:23:45.000Z"
   },
   {
    "duration": 9,
    "start_time": "2021-07-10T18:23:55.487Z"
   },
   {
    "duration": 5,
    "start_time": "2021-07-10T18:24:39.664Z"
   },
   {
    "duration": 5,
    "start_time": "2021-07-10T18:24:56.125Z"
   },
   {
    "duration": 6,
    "start_time": "2021-07-10T18:25:11.343Z"
   },
   {
    "duration": 12,
    "start_time": "2021-07-10T18:25:11.518Z"
   },
   {
    "duration": 18,
    "start_time": "2021-07-10T18:25:15.245Z"
   },
   {
    "duration": 5,
    "start_time": "2021-07-10T18:25:29.959Z"
   },
   {
    "duration": 5,
    "start_time": "2021-07-10T18:25:48.591Z"
   },
   {
    "duration": 256,
    "start_time": "2021-07-10T18:25:49.310Z"
   },
   {
    "duration": 70,
    "start_time": "2021-07-10T18:25:49.568Z"
   },
   {
    "duration": 329,
    "start_time": "2021-07-10T18:25:49.640Z"
   },
   {
    "duration": 3,
    "start_time": "2021-07-10T18:25:49.971Z"
   },
   {
    "duration": 30,
    "start_time": "2021-07-10T18:25:49.976Z"
   },
   {
    "duration": 10,
    "start_time": "2021-07-10T18:25:50.008Z"
   },
   {
    "duration": 17,
    "start_time": "2021-07-10T18:25:50.099Z"
   },
   {
    "duration": 36,
    "start_time": "2021-07-10T18:25:50.325Z"
   },
   {
    "duration": 11,
    "start_time": "2021-07-10T18:25:50.590Z"
   },
   {
    "duration": 8,
    "start_time": "2021-07-10T18:25:50.726Z"
   },
   {
    "duration": 11,
    "start_time": "2021-07-10T18:25:50.857Z"
   },
   {
    "duration": 202,
    "start_time": "2021-07-10T18:25:51.265Z"
   },
   {
    "duration": 3,
    "start_time": "2021-07-10T18:25:52.686Z"
   },
   {
    "duration": 363,
    "start_time": "2021-07-10T18:25:52.858Z"
   },
   {
    "duration": 15,
    "start_time": "2021-07-10T18:25:53.223Z"
   },
   {
    "duration": 5,
    "start_time": "2021-07-10T18:25:53.240Z"
   },
   {
    "duration": 7,
    "start_time": "2021-07-10T18:25:53.854Z"
   },
   {
    "duration": 16,
    "start_time": "2021-07-10T18:25:54.717Z"
   },
   {
    "duration": 581,
    "start_time": "2021-07-10T18:25:55.038Z"
   },
   {
    "duration": 416,
    "start_time": "2021-07-10T18:25:55.621Z"
   },
   {
    "duration": 25,
    "start_time": "2021-07-10T18:25:56.038Z"
   },
   {
    "duration": 1427,
    "start_time": "2021-07-10T18:25:56.759Z"
   },
   {
    "duration": 393,
    "start_time": "2021-07-10T18:25:58.188Z"
   },
   {
    "duration": 403,
    "start_time": "2021-07-10T18:25:58.591Z"
   },
   {
    "duration": 360,
    "start_time": "2021-07-10T18:25:58.996Z"
   },
   {
    "duration": 990,
    "start_time": "2021-07-10T18:25:59.358Z"
   },
   {
    "duration": 671,
    "start_time": "2021-07-10T18:26:00.350Z"
   },
   {
    "duration": 3,
    "start_time": "2021-07-10T18:26:03.221Z"
   },
   {
    "duration": 15,
    "start_time": "2021-07-10T18:26:04.390Z"
   },
   {
    "duration": 19,
    "start_time": "2021-07-10T18:26:05.551Z"
   },
   {
    "duration": 5877,
    "start_time": "2021-07-10T18:26:11.022Z"
   },
   {
    "duration": 6,
    "start_time": "2021-07-10T18:26:21.093Z"
   },
   {
    "duration": 6,
    "start_time": "2021-07-10T18:26:26.219Z"
   },
   {
    "duration": 6043,
    "start_time": "2021-07-10T18:26:34.880Z"
   },
   {
    "duration": -1329,
    "start_time": "2021-07-10T18:26:42.255Z"
   },
   {
    "duration": 5672,
    "start_time": "2021-07-10T18:26:43.704Z"
   },
   {
    "duration": 18,
    "start_time": "2021-07-10T18:27:07.029Z"
   },
   {
    "duration": 34,
    "start_time": "2021-07-10T18:28:56.577Z"
   },
   {
    "duration": 17,
    "start_time": "2021-07-10T18:29:04.404Z"
   },
   {
    "duration": 19,
    "start_time": "2021-07-10T18:29:07.299Z"
   },
   {
    "duration": 15,
    "start_time": "2021-07-10T18:29:16.381Z"
   },
   {
    "duration": 265,
    "start_time": "2021-07-10T18:31:14.761Z"
   },
   {
    "duration": 300,
    "start_time": "2021-07-10T18:33:04.703Z"
   },
   {
    "duration": 307,
    "start_time": "2021-07-10T18:33:34.419Z"
   },
   {
    "duration": 445,
    "start_time": "2021-07-10T18:33:37.537Z"
   },
   {
    "duration": 450,
    "start_time": "2021-07-10T18:34:09.145Z"
   },
   {
    "duration": 308,
    "start_time": "2021-07-10T18:35:40.821Z"
   },
   {
    "duration": 201,
    "start_time": "2021-07-10T18:36:27.298Z"
   },
   {
    "duration": 4,
    "start_time": "2021-07-10T18:36:34.360Z"
   },
   {
    "duration": 28,
    "start_time": "2021-07-10T18:36:34.817Z"
   },
   {
    "duration": 17,
    "start_time": "2021-07-10T18:36:37.623Z"
   },
   {
    "duration": 302,
    "start_time": "2021-07-10T18:36:39.608Z"
   },
   {
    "duration": 213,
    "start_time": "2021-07-10T18:36:55.183Z"
   },
   {
    "duration": 212,
    "start_time": "2021-07-10T18:37:04.346Z"
   },
   {
    "duration": 197,
    "start_time": "2021-07-10T18:37:07.721Z"
   },
   {
    "duration": 22,
    "start_time": "2021-07-10T18:37:12.689Z"
   },
   {
    "duration": 17,
    "start_time": "2021-07-10T18:37:15.383Z"
   },
   {
    "duration": 304,
    "start_time": "2021-07-10T18:37:20.734Z"
   },
   {
    "duration": 201,
    "start_time": "2021-07-10T18:39:04.765Z"
   },
   {
    "duration": 3,
    "start_time": "2021-07-10T18:40:38.190Z"
   },
   {
    "duration": 78,
    "start_time": "2021-07-10T18:41:10.032Z"
   },
   {
    "duration": 4,
    "start_time": "2021-07-10T18:41:23.626Z"
   },
   {
    "duration": 3,
    "start_time": "2021-07-10T18:41:25.636Z"
   },
   {
    "duration": 3,
    "start_time": "2021-07-10T18:41:57.510Z"
   },
   {
    "duration": 196,
    "start_time": "2021-07-10T18:42:11.516Z"
   },
   {
    "duration": 74,
    "start_time": "2021-07-10T18:44:08.596Z"
   },
   {
    "duration": 3,
    "start_time": "2021-07-10T18:44:14.154Z"
   },
   {
    "duration": 11,
    "start_time": "2021-07-10T18:44:20.979Z"
   },
   {
    "duration": 3,
    "start_time": "2021-07-10T18:45:02.898Z"
   },
   {
    "duration": 78,
    "start_time": "2021-07-10T18:45:51.968Z"
   },
   {
    "duration": 4,
    "start_time": "2021-07-10T18:47:07.587Z"
   },
   {
    "duration": 12,
    "start_time": "2021-07-10T18:47:11.192Z"
   },
   {
    "duration": 3,
    "start_time": "2021-07-10T18:47:12.087Z"
   },
   {
    "duration": 4,
    "start_time": "2021-07-10T18:47:12.952Z"
   },
   {
    "duration": 3,
    "start_time": "2021-07-10T18:47:28.664Z"
   },
   {
    "duration": 13,
    "start_time": "2021-07-10T18:59:40.258Z"
   },
   {
    "duration": 3,
    "start_time": "2021-07-10T18:59:40.793Z"
   },
   {
    "duration": 5,
    "start_time": "2021-07-10T18:59:41.872Z"
   },
   {
    "duration": 4,
    "start_time": "2021-07-10T18:59:42.661Z"
   },
   {
    "duration": 143441,
    "start_time": "2021-07-10T18:59:44.050Z"
   },
   {
    "duration": 4,
    "start_time": "2021-07-10T20:36:23.249Z"
   },
   {
    "duration": 3,
    "start_time": "2021-07-10T20:40:07.518Z"
   },
   {
    "duration": 4,
    "start_time": "2021-07-10T20:42:38.195Z"
   },
   {
    "duration": 101,
    "start_time": "2021-07-10T20:42:38.201Z"
   },
   {
    "duration": 4,
    "start_time": "2021-07-10T20:42:38.304Z"
   },
   {
    "duration": 6,
    "start_time": "2021-07-10T20:42:38.310Z"
   },
   {
    "duration": 4,
    "start_time": "2021-07-10T20:42:38.318Z"
   },
   {
    "duration": 88754,
    "start_time": "2021-07-10T20:42:38.324Z"
   },
   {
    "duration": 3,
    "start_time": "2021-07-10T20:44:11.039Z"
   },
   {
    "duration": 138781,
    "start_time": "2021-07-10T20:44:14.711Z"
   },
   {
    "duration": 3,
    "start_time": "2021-07-10T20:48:17.307Z"
   },
   {
    "duration": 12008,
    "start_time": "2021-07-10T20:48:39.001Z"
   },
   {
    "duration": -1413,
    "start_time": "2021-07-10T20:48:52.424Z"
   },
   {
    "duration": 3,
    "start_time": "2021-07-10T20:48:52.290Z"
   },
   {
    "duration": 136868,
    "start_time": "2021-07-10T20:48:55.923Z"
   },
   {
    "duration": 3,
    "start_time": "2021-07-10T21:06:44.720Z"
   },
   {
    "duration": 2,
    "start_time": "2021-07-10T21:06:48.200Z"
   },
   {
    "duration": 78462,
    "start_time": "2021-07-10T21:06:52.983Z"
   },
   {
    "duration": -1459,
    "start_time": "2021-07-10T21:08:12.906Z"
   },
   {
    "duration": -1464,
    "start_time": "2021-07-10T21:08:12.912Z"
   },
   {
    "duration": 58284,
    "start_time": "2021-07-10T21:08:12.721Z"
   },
   {
    "duration": -1492,
    "start_time": "2021-07-10T21:09:12.499Z"
   },
   {
    "duration": -1495,
    "start_time": "2021-07-10T21:09:12.504Z"
   },
   {
    "duration": -1433,
    "start_time": "2021-07-10T21:10:46.215Z"
   },
   {
    "duration": -1437,
    "start_time": "2021-07-10T21:10:46.220Z"
   },
   {
    "duration": 3,
    "start_time": "2021-07-10T21:10:45.968Z"
   },
   {
    "duration": 38044,
    "start_time": "2021-07-10T21:10:49.106Z"
   },
   {
    "duration": 3,
    "start_time": "2021-07-10T21:11:39.503Z"
   },
   {
    "duration": 3,
    "start_time": "2021-07-10T21:11:42.685Z"
   },
   {
    "duration": 2,
    "start_time": "2021-07-10T21:11:46.045Z"
   },
   {
    "duration": 11779,
    "start_time": "2021-07-10T21:11:48.142Z"
   },
   {
    "duration": -1449,
    "start_time": "2021-07-10T21:12:01.372Z"
   },
   {
    "duration": 15971,
    "start_time": "2021-07-10T21:12:01.326Z"
   },
   {
    "duration": 3,
    "start_time": "2021-07-10T21:12:24.749Z"
   },
   {
    "duration": 2,
    "start_time": "2021-07-10T21:12:27.364Z"
   },
   {
    "duration": 12,
    "start_time": "2021-07-10T21:12:27.957Z"
   },
   {
    "duration": 2,
    "start_time": "2021-07-10T21:12:28.676Z"
   },
   {
    "duration": 4,
    "start_time": "2021-07-10T21:12:29.708Z"
   },
   {
    "duration": 3,
    "start_time": "2021-07-10T21:12:31.044Z"
   },
   {
    "duration": 4411,
    "start_time": "2021-07-10T21:12:32.119Z"
   },
   {
    "duration": 3,
    "start_time": "2021-07-10T21:12:47.235Z"
   },
   {
    "duration": 3,
    "start_time": "2021-07-10T21:12:53.004Z"
   },
   {
    "duration": 3,
    "start_time": "2021-07-10T21:13:00.707Z"
   },
   {
    "duration": 22380,
    "start_time": "2021-07-10T21:13:03.510Z"
   },
   {
    "duration": -1492,
    "start_time": "2021-07-10T21:13:27.384Z"
   },
   {
    "duration": -1498,
    "start_time": "2021-07-10T21:13:27.390Z"
   },
   {
    "duration": 3,
    "start_time": "2021-07-10T21:13:28.123Z"
   },
   {
    "duration": -1434,
    "start_time": "2021-07-10T21:14:44.436Z"
   },
   {
    "duration": -1446,
    "start_time": "2021-07-10T21:14:44.449Z"
   },
   {
    "duration": -1449,
    "start_time": "2021-07-10T21:14:44.454Z"
   },
   {
    "duration": 46124,
    "start_time": "2021-07-10T21:14:48.772Z"
   },
   {
    "duration": -1453,
    "start_time": "2021-07-10T21:15:36.352Z"
   },
   {
    "duration": -1457,
    "start_time": "2021-07-10T21:15:36.357Z"
   },
   {
    "duration": -1461,
    "start_time": "2021-07-10T21:15:36.361Z"
   },
   {
    "duration": -1465,
    "start_time": "2021-07-10T21:15:36.366Z"
   },
   {
    "duration": 3,
    "start_time": "2021-07-10T21:15:37.762Z"
   },
   {
    "duration": 3,
    "start_time": "2021-07-10T21:15:38.162Z"
   },
   {
    "duration": 3,
    "start_time": "2021-07-10T21:15:38.977Z"
   },
   {
    "duration": 15,
    "start_time": "2021-07-10T21:15:39.425Z"
   },
   {
    "duration": 2,
    "start_time": "2021-07-10T21:15:39.953Z"
   },
   {
    "duration": 3,
    "start_time": "2021-07-10T21:15:41.659Z"
   },
   {
    "duration": 4,
    "start_time": "2021-07-10T21:15:42.689Z"
   },
   {
    "duration": -1438,
    "start_time": "2021-07-10T21:17:03.647Z"
   },
   {
    "duration": -1442,
    "start_time": "2021-07-10T21:17:03.652Z"
   },
   {
    "duration": -1446,
    "start_time": "2021-07-10T21:17:03.657Z"
   },
   {
    "duration": 4,
    "start_time": "2021-07-10T21:17:04.683Z"
   },
   {
    "duration": 477,
    "start_time": "2021-07-10T21:17:06.782Z"
   },
   {
    "duration": 3,
    "start_time": "2021-07-10T21:17:18.715Z"
   },
   {
    "duration": 7,
    "start_time": "2021-07-10T21:18:18.195Z"
   },
   {
    "duration": 3,
    "start_time": "2021-07-10T21:18:18.293Z"
   },
   {
    "duration": -1456,
    "start_time": "2021-07-10T21:18:56.290Z"
   },
   {
    "duration": -1462,
    "start_time": "2021-07-10T21:18:56.297Z"
   },
   {
    "duration": -1473,
    "start_time": "2021-07-10T21:18:56.310Z"
   },
   {
    "duration": -1488,
    "start_time": "2021-07-10T21:18:56.326Z"
   },
   {
    "duration": 3,
    "start_time": "2021-07-10T21:18:58.576Z"
   },
   {
    "duration": 4,
    "start_time": "2021-07-10T21:19:03.617Z"
   },
   {
    "duration": 71480,
    "start_time": "2021-07-10T21:19:04.128Z"
   },
   {
    "duration": 3,
    "start_time": "2021-07-10T21:21:30.754Z"
   },
   {
    "duration": 9148,
    "start_time": "2021-07-10T21:21:32.646Z"
   },
   {
    "duration": 3,
    "start_time": "2021-07-10T21:22:49.118Z"
   },
   {
    "duration": 2,
    "start_time": "2021-07-10T21:23:06.243Z"
   },
   {
    "duration": 3,
    "start_time": "2021-07-10T21:23:09.397Z"
   },
   {
    "duration": 13,
    "start_time": "2021-07-10T21:23:10.653Z"
   },
   {
    "duration": 3,
    "start_time": "2021-07-10T21:23:12.069Z"
   },
   {
    "duration": 4,
    "start_time": "2021-07-10T21:23:12.923Z"
   },
   {
    "duration": 3,
    "start_time": "2021-07-10T21:23:13.310Z"
   },
   {
    "duration": 23529,
    "start_time": "2021-07-10T21:23:14.795Z"
   },
   {
    "duration": -1446,
    "start_time": "2021-07-10T21:24:03.612Z"
   },
   {
    "duration": -1450,
    "start_time": "2021-07-10T21:24:03.617Z"
   },
   {
    "duration": -1454,
    "start_time": "2021-07-10T21:24:03.622Z"
   },
   {
    "duration": 3,
    "start_time": "2021-07-10T21:24:07.885Z"
   },
   {
    "duration": 4,
    "start_time": "2021-07-10T21:24:08.243Z"
   },
   {
    "duration": 4,
    "start_time": "2021-07-10T21:24:08.401Z"
   },
   {
    "duration": 46877,
    "start_time": "2021-07-10T21:24:08.562Z"
   },
   {
    "duration": -1480,
    "start_time": "2021-07-10T21:24:56.921Z"
   },
   {
    "duration": 3,
    "start_time": "2021-07-10T21:24:56.932Z"
   },
   {
    "duration": 5479,
    "start_time": "2021-07-10T21:25:00.870Z"
   },
   {
    "duration": 3,
    "start_time": "2021-07-10T21:25:30.052Z"
   },
   {
    "duration": 3,
    "start_time": "2021-07-10T21:25:34.790Z"
   },
   {
    "duration": 8883,
    "start_time": "2021-07-10T21:25:44.902Z"
   },
   {
    "duration": 3,
    "start_time": "2021-07-10T21:25:55.046Z"
   },
   {
    "duration": 2,
    "start_time": "2021-07-10T21:25:57.627Z"
   },
   {
    "duration": 14,
    "start_time": "2021-07-10T21:25:57.940Z"
   },
   {
    "duration": 3,
    "start_time": "2021-07-10T21:25:58.220Z"
   },
   {
    "duration": 4,
    "start_time": "2021-07-10T21:25:58.596Z"
   },
   {
    "duration": 4,
    "start_time": "2021-07-10T21:25:58.755Z"
   },
   {
    "duration": 52229,
    "start_time": "2021-07-10T21:25:59.416Z"
   },
   {
    "duration": -1509,
    "start_time": "2021-07-10T21:26:53.157Z"
   },
   {
    "duration": 77,
    "start_time": "2021-07-10T21:26:52.763Z"
   },
   {
    "duration": 3,
    "start_time": "2021-07-10T21:27:02.907Z"
   },
   {
    "duration": 33242,
    "start_time": "2021-07-10T21:27:07.017Z"
   },
   {
    "duration": -1465,
    "start_time": "2021-07-10T21:27:41.726Z"
   },
   {
    "duration": 3,
    "start_time": "2021-07-10T21:27:41.500Z"
   },
   {
    "duration": 17333,
    "start_time": "2021-07-10T21:27:44.365Z"
   },
   {
    "duration": -1476,
    "start_time": "2021-07-10T21:28:03.176Z"
   },
   {
    "duration": 3,
    "start_time": "2021-07-10T21:28:07.939Z"
   },
   {
    "duration": 2,
    "start_time": "2021-07-10T21:28:08.642Z"
   },
   {
    "duration": 3,
    "start_time": "2021-07-10T21:28:08.794Z"
   },
   {
    "duration": 2,
    "start_time": "2021-07-10T21:28:09.243Z"
   },
   {
    "duration": 13,
    "start_time": "2021-07-10T21:28:09.538Z"
   },
   {
    "duration": 3,
    "start_time": "2021-07-10T21:28:09.832Z"
   },
   {
    "duration": 4,
    "start_time": "2021-07-10T21:28:10.132Z"
   },
   {
    "duration": 3,
    "start_time": "2021-07-10T21:28:10.276Z"
   },
   {
    "duration": 763,
    "start_time": "2021-07-10T21:28:10.427Z"
   },
   {
    "duration": 3,
    "start_time": "2021-07-10T21:28:17.203Z"
   },
   {
    "duration": 776,
    "start_time": "2021-07-10T21:28:31.828Z"
   },
   {
    "duration": 3,
    "start_time": "2021-07-10T21:28:44.080Z"
   },
   {
    "duration": 864,
    "start_time": "2021-07-10T21:28:48.779Z"
   },
   {
    "duration": 83,
    "start_time": "2021-07-10T21:28:59.444Z"
   },
   {
    "duration": 3,
    "start_time": "2021-07-10T21:29:02.611Z"
   },
   {
    "duration": 798,
    "start_time": "2021-07-10T21:29:06.092Z"
   },
   {
    "duration": 79,
    "start_time": "2021-07-10T21:29:12.100Z"
   },
   {
    "duration": 106,
    "start_time": "2021-07-10T21:29:16.826Z"
   },
   {
    "duration": 3,
    "start_time": "2021-07-10T21:29:29.876Z"
   },
   {
    "duration": 781,
    "start_time": "2021-07-10T21:29:33.187Z"
   },
   {
    "duration": 3,
    "start_time": "2021-07-10T21:29:58.868Z"
   },
   {
    "duration": 846,
    "start_time": "2021-07-10T21:30:02.899Z"
   },
   {
    "duration": 4,
    "start_time": "2021-07-10T21:30:13.458Z"
   },
   {
    "duration": 3,
    "start_time": "2021-07-10T21:30:13.842Z"
   },
   {
    "duration": 754,
    "start_time": "2021-07-10T21:30:14.250Z"
   },
   {
    "duration": 3,
    "start_time": "2021-07-10T21:30:31.745Z"
   },
   {
    "duration": 3,
    "start_time": "2021-07-10T21:30:36.594Z"
   },
   {
    "duration": 2,
    "start_time": "2021-07-10T21:30:37.514Z"
   },
   {
    "duration": 3,
    "start_time": "2021-07-10T21:30:38.754Z"
   },
   {
    "duration": 824,
    "start_time": "2021-07-10T21:30:43.674Z"
   },
   {
    "duration": 2,
    "start_time": "2021-07-10T21:31:04.688Z"
   },
   {
    "duration": 3,
    "start_time": "2021-07-10T21:31:05.706Z"
   },
   {
    "duration": 1136,
    "start_time": "2021-07-10T21:31:19.375Z"
   },
   {
    "duration": 273,
    "start_time": "2021-07-10T21:31:20.513Z"
   },
   {
    "duration": 79,
    "start_time": "2021-07-10T21:31:20.789Z"
   },
   {
    "duration": 351,
    "start_time": "2021-07-10T21:31:20.870Z"
   },
   {
    "duration": 3,
    "start_time": "2021-07-10T21:31:21.222Z"
   },
   {
    "duration": 20,
    "start_time": "2021-07-10T21:31:21.227Z"
   },
   {
    "duration": 8,
    "start_time": "2021-07-10T21:31:21.249Z"
   },
   {
    "duration": 35,
    "start_time": "2021-07-10T21:31:21.260Z"
   },
   {
    "duration": 20,
    "start_time": "2021-07-10T21:31:21.298Z"
   },
   {
    "duration": 10,
    "start_time": "2021-07-10T21:31:21.319Z"
   },
   {
    "duration": 7,
    "start_time": "2021-07-10T21:31:21.330Z"
   },
   {
    "duration": 11,
    "start_time": "2021-07-10T21:31:21.338Z"
   },
   {
    "duration": 247,
    "start_time": "2021-07-10T21:31:21.350Z"
   },
   {
    "duration": 2,
    "start_time": "2021-07-10T21:31:21.599Z"
   },
   {
    "duration": 395,
    "start_time": "2021-07-10T21:31:21.603Z"
   },
   {
    "duration": 15,
    "start_time": "2021-07-10T21:31:22.000Z"
   },
   {
    "duration": 4,
    "start_time": "2021-07-10T21:31:22.017Z"
   },
   {
    "duration": 6,
    "start_time": "2021-07-10T21:31:22.023Z"
   },
   {
    "duration": 15,
    "start_time": "2021-07-10T21:31:22.031Z"
   },
   {
    "duration": 625,
    "start_time": "2021-07-10T21:31:22.048Z"
   },
   {
    "duration": 498,
    "start_time": "2021-07-10T21:31:22.675Z"
   },
   {
    "duration": 31,
    "start_time": "2021-07-10T21:31:23.175Z"
   },
   {
    "duration": 1084,
    "start_time": "2021-07-10T21:31:23.209Z"
   },
   {
    "duration": 262,
    "start_time": "2021-07-10T21:31:24.295Z"
   },
   {
    "duration": 263,
    "start_time": "2021-07-10T21:31:24.558Z"
   },
   {
    "duration": 240,
    "start_time": "2021-07-10T21:31:24.822Z"
   },
   {
    "duration": 622,
    "start_time": "2021-07-10T21:31:25.064Z"
   },
   {
    "duration": 745,
    "start_time": "2021-07-10T21:31:25.688Z"
   },
   {
    "duration": 3,
    "start_time": "2021-07-10T21:31:26.434Z"
   },
   {
    "duration": 22,
    "start_time": "2021-07-10T21:31:26.439Z"
   },
   {
    "duration": 36,
    "start_time": "2021-07-10T21:31:26.462Z"
   },
   {
    "duration": 315,
    "start_time": "2021-07-10T21:31:26.499Z"
   },
   {
    "duration": 221,
    "start_time": "2021-07-10T21:31:26.816Z"
   },
   {
    "duration": 3,
    "start_time": "2021-07-10T21:31:27.039Z"
   },
   {
    "duration": 5,
    "start_time": "2021-07-10T21:31:27.043Z"
   },
   {
    "duration": 6,
    "start_time": "2021-07-10T21:31:27.049Z"
   },
   {
    "duration": 5,
    "start_time": "2021-07-10T21:31:27.056Z"
   },
   {
    "duration": 37,
    "start_time": "2021-07-10T21:31:27.062Z"
   },
   {
    "duration": 3,
    "start_time": "2021-07-10T21:31:27.101Z"
   },
   {
    "duration": 13,
    "start_time": "2021-07-10T21:31:27.105Z"
   },
   {
    "duration": 8,
    "start_time": "2021-07-10T21:31:27.119Z"
   },
   {
    "duration": 111440,
    "start_time": "2021-07-10T21:31:27.129Z"
   },
   {
    "duration": -1454,
    "start_time": "2021-07-10T21:33:20.025Z"
   },
   {
    "duration": -1458,
    "start_time": "2021-07-10T21:33:20.030Z"
   },
   {
    "duration": -1461,
    "start_time": "2021-07-10T21:33:20.035Z"
   },
   {
    "duration": -1464,
    "start_time": "2021-07-10T21:33:20.039Z"
   },
   {
    "duration": 3,
    "start_time": "2021-07-10T21:33:32.377Z"
   },
   {
    "duration": 26353,
    "start_time": "2021-07-10T21:33:35.843Z"
   },
   {
    "duration": 3,
    "start_time": "2021-07-10T21:34:06.408Z"
   },
   {
    "duration": 18538,
    "start_time": "2021-07-10T21:34:10.315Z"
   },
   {
    "duration": -1470,
    "start_time": "2021-07-10T21:34:30.325Z"
   },
   {
    "duration": 9947,
    "start_time": "2021-07-10T21:35:15.889Z"
   },
   {
    "duration": -1466,
    "start_time": "2021-07-10T21:35:27.304Z"
   },
   {
    "duration": 3,
    "start_time": "2021-07-10T21:35:29.544Z"
   },
   {
    "duration": 3,
    "start_time": "2021-07-10T21:35:31.606Z"
   },
   {
    "duration": 30489,
    "start_time": "2021-07-10T21:35:34.673Z"
   },
   {
    "duration": 3,
    "start_time": "2021-07-10T21:36:10.559Z"
   },
   {
    "duration": 3,
    "start_time": "2021-07-10T21:36:13.758Z"
   },
   {
    "duration": 3,
    "start_time": "2021-07-10T21:36:14.103Z"
   },
   {
    "duration": 2,
    "start_time": "2021-07-10T21:36:14.599Z"
   },
   {
    "duration": 11,
    "start_time": "2021-07-10T21:36:14.882Z"
   },
   {
    "duration": 3,
    "start_time": "2021-07-10T21:36:15.172Z"
   },
   {
    "duration": 4,
    "start_time": "2021-07-10T21:36:15.454Z"
   },
   {
    "duration": 4,
    "start_time": "2021-07-10T21:36:15.591Z"
   },
   {
    "duration": 9826,
    "start_time": "2021-07-10T21:36:15.776Z"
   },
   {
    "duration": -1503,
    "start_time": "2021-07-10T21:36:27.108Z"
   },
   {
    "duration": 3,
    "start_time": "2021-07-10T21:36:28.061Z"
   },
   {
    "duration": 5645,
    "start_time": "2021-07-10T21:36:33.801Z"
   },
   {
    "duration": 1106,
    "start_time": "2021-07-10T21:36:43.103Z"
   },
   {
    "duration": 265,
    "start_time": "2021-07-10T21:36:44.210Z"
   },
   {
    "duration": 75,
    "start_time": "2021-07-10T21:36:44.477Z"
   },
   {
    "duration": 342,
    "start_time": "2021-07-10T21:36:44.554Z"
   },
   {
    "duration": 3,
    "start_time": "2021-07-10T21:36:44.898Z"
   },
   {
    "duration": 23,
    "start_time": "2021-07-10T21:36:44.903Z"
   },
   {
    "duration": 9,
    "start_time": "2021-07-10T21:36:44.928Z"
   },
   {
    "duration": 15,
    "start_time": "2021-07-10T21:36:44.938Z"
   },
   {
    "duration": 40,
    "start_time": "2021-07-10T21:36:44.955Z"
   },
   {
    "duration": 10,
    "start_time": "2021-07-10T21:36:44.997Z"
   },
   {
    "duration": 12,
    "start_time": "2021-07-10T21:36:45.009Z"
   },
   {
    "duration": 11,
    "start_time": "2021-07-10T21:36:45.022Z"
   },
   {
    "duration": 250,
    "start_time": "2021-07-10T21:36:45.034Z"
   },
   {
    "duration": 2,
    "start_time": "2021-07-10T21:36:45.286Z"
   },
   {
    "duration": 401,
    "start_time": "2021-07-10T21:36:45.290Z"
   },
   {
    "duration": 15,
    "start_time": "2021-07-10T21:36:45.693Z"
   },
   {
    "duration": 4,
    "start_time": "2021-07-10T21:36:45.709Z"
   },
   {
    "duration": 7,
    "start_time": "2021-07-10T21:36:45.714Z"
   },
   {
    "duration": 16,
    "start_time": "2021-07-10T21:36:45.723Z"
   },
   {
    "duration": 612,
    "start_time": "2021-07-10T21:36:45.741Z"
   },
   {
    "duration": 476,
    "start_time": "2021-07-10T21:36:46.355Z"
   },
   {
    "duration": 21,
    "start_time": "2021-07-10T21:36:46.833Z"
   },
   {
    "duration": 955,
    "start_time": "2021-07-10T21:36:46.856Z"
   },
   {
    "duration": 259,
    "start_time": "2021-07-10T21:36:47.813Z"
   },
   {
    "duration": 265,
    "start_time": "2021-07-10T21:36:48.074Z"
   },
   {
    "duration": 244,
    "start_time": "2021-07-10T21:36:48.341Z"
   },
   {
    "duration": 646,
    "start_time": "2021-07-10T21:36:48.588Z"
   },
   {
    "duration": 747,
    "start_time": "2021-07-10T21:36:49.237Z"
   },
   {
    "duration": 6,
    "start_time": "2021-07-10T21:36:49.986Z"
   },
   {
    "duration": 22,
    "start_time": "2021-07-10T21:36:49.993Z"
   },
   {
    "duration": 16,
    "start_time": "2021-07-10T21:36:50.017Z"
   },
   {
    "duration": 325,
    "start_time": "2021-07-10T21:36:50.035Z"
   },
   {
    "duration": 220,
    "start_time": "2021-07-10T21:36:50.362Z"
   },
   {
    "duration": 2,
    "start_time": "2021-07-10T21:36:50.584Z"
   },
   {
    "duration": 5,
    "start_time": "2021-07-10T21:36:50.587Z"
   },
   {
    "duration": 4,
    "start_time": "2021-07-10T21:36:50.594Z"
   },
   {
    "duration": 6,
    "start_time": "2021-07-10T21:36:50.600Z"
   },
   {
    "duration": 19,
    "start_time": "2021-07-10T21:36:50.607Z"
   },
   {
    "duration": 313,
    "start_time": "2021-07-10T21:36:50.628Z"
   },
   {
    "duration": -1424,
    "start_time": "2021-07-10T21:36:52.368Z"
   },
   {
    "duration": -1429,
    "start_time": "2021-07-10T21:36:52.374Z"
   },
   {
    "duration": -1432,
    "start_time": "2021-07-10T21:36:52.378Z"
   },
   {
    "duration": -1434,
    "start_time": "2021-07-10T21:36:52.382Z"
   },
   {
    "duration": -1437,
    "start_time": "2021-07-10T21:36:52.386Z"
   },
   {
    "duration": -1442,
    "start_time": "2021-07-10T21:36:52.392Z"
   },
   {
    "duration": -1445,
    "start_time": "2021-07-10T21:36:52.397Z"
   },
   {
    "duration": 3,
    "start_time": "2021-07-10T21:39:17.935Z"
   },
   {
    "duration": 236,
    "start_time": "2021-07-10T21:39:23.664Z"
   },
   {
    "duration": 3,
    "start_time": "2021-07-10T21:39:36.783Z"
   },
   {
    "duration": 3,
    "start_time": "2021-07-10T21:39:40.353Z"
   },
   {
    "duration": 4,
    "start_time": "2021-07-10T21:39:41.551Z"
   },
   {
    "duration": 3,
    "start_time": "2021-07-10T21:39:41.959Z"
   },
   {
    "duration": 763,
    "start_time": "2021-07-10T21:39:42.369Z"
   },
   {
    "duration": 3,
    "start_time": "2021-07-10T21:39:59.488Z"
   },
   {
    "duration": 1159,
    "start_time": "2021-07-10T21:40:07.970Z"
   },
   {
    "duration": 1125,
    "start_time": "2021-07-10T21:40:24.091Z"
   },
   {
    "duration": 268,
    "start_time": "2021-07-10T21:40:25.217Z"
   },
   {
    "duration": 79,
    "start_time": "2021-07-10T21:40:25.487Z"
   },
   {
    "duration": 345,
    "start_time": "2021-07-10T21:40:25.568Z"
   },
   {
    "duration": 4,
    "start_time": "2021-07-10T21:40:25.915Z"
   },
   {
    "duration": 33,
    "start_time": "2021-07-10T21:40:25.920Z"
   },
   {
    "duration": 8,
    "start_time": "2021-07-10T21:40:25.955Z"
   },
   {
    "duration": 26,
    "start_time": "2021-07-10T21:40:25.966Z"
   },
   {
    "duration": 18,
    "start_time": "2021-07-10T21:40:25.994Z"
   },
   {
    "duration": 18,
    "start_time": "2021-07-10T21:40:26.013Z"
   },
   {
    "duration": 12,
    "start_time": "2021-07-10T21:40:26.033Z"
   },
   {
    "duration": 10,
    "start_time": "2021-07-10T21:40:26.047Z"
   },
   {
    "duration": 223,
    "start_time": "2021-07-10T21:40:26.059Z"
   },
   {
    "duration": 3,
    "start_time": "2021-07-10T21:40:26.292Z"
   },
   {
    "duration": 394,
    "start_time": "2021-07-10T21:40:26.297Z"
   },
   {
    "duration": 15,
    "start_time": "2021-07-10T21:40:26.692Z"
   },
   {
    "duration": 4,
    "start_time": "2021-07-10T21:40:26.709Z"
   },
   {
    "duration": 27,
    "start_time": "2021-07-10T21:40:26.714Z"
   },
   {
    "duration": 21,
    "start_time": "2021-07-10T21:40:26.742Z"
   },
   {
    "duration": 569,
    "start_time": "2021-07-10T21:40:26.764Z"
   },
   {
    "duration": 469,
    "start_time": "2021-07-10T21:40:27.335Z"
   },
   {
    "duration": 19,
    "start_time": "2021-07-10T21:40:27.806Z"
   },
   {
    "duration": 929,
    "start_time": "2021-07-10T21:40:27.828Z"
   },
   {
    "duration": 253,
    "start_time": "2021-07-10T21:40:28.759Z"
   },
   {
    "duration": 263,
    "start_time": "2021-07-10T21:40:29.013Z"
   },
   {
    "duration": 235,
    "start_time": "2021-07-10T21:40:29.278Z"
   },
   {
    "duration": 619,
    "start_time": "2021-07-10T21:40:29.514Z"
   },
   {
    "duration": 747,
    "start_time": "2021-07-10T21:40:30.134Z"
   },
   {
    "duration": 8,
    "start_time": "2021-07-10T21:40:30.883Z"
   },
   {
    "duration": 36,
    "start_time": "2021-07-10T21:40:30.892Z"
   },
   {
    "duration": 15,
    "start_time": "2021-07-10T21:40:30.929Z"
   },
   {
    "duration": 311,
    "start_time": "2021-07-10T21:40:30.945Z"
   },
   {
    "duration": 221,
    "start_time": "2021-07-10T21:40:31.258Z"
   },
   {
    "duration": 2,
    "start_time": "2021-07-10T21:40:31.481Z"
   },
   {
    "duration": 3,
    "start_time": "2021-07-10T21:40:31.491Z"
   },
   {
    "duration": 4,
    "start_time": "2021-07-10T21:40:31.496Z"
   },
   {
    "duration": 5,
    "start_time": "2021-07-10T21:40:31.501Z"
   },
   {
    "duration": 22,
    "start_time": "2021-07-10T21:40:31.507Z"
   },
   {
    "duration": 3,
    "start_time": "2021-07-10T21:40:31.530Z"
   },
   {
    "duration": 11,
    "start_time": "2021-07-10T21:40:31.534Z"
   },
   {
    "duration": 12,
    "start_time": "2021-07-10T21:40:31.546Z"
   },
   {
    "duration": 129233,
    "start_time": "2021-07-10T21:40:31.559Z"
   },
   {
    "duration": 387,
    "start_time": "2021-07-10T21:42:40.794Z"
   },
   {
    "duration": -1431,
    "start_time": "2021-07-10T21:42:42.613Z"
   },
   {
    "duration": -1445,
    "start_time": "2021-07-10T21:42:42.628Z"
   },
   {
    "duration": -1457,
    "start_time": "2021-07-10T21:42:42.641Z"
   },
   {
    "duration": 3,
    "start_time": "2021-07-10T21:45:30.605Z"
   },
   {
    "duration": 10617,
    "start_time": "2021-07-10T21:45:42.693Z"
   },
   {
    "duration": 3,
    "start_time": "2021-07-10T21:45:58.406Z"
   },
   {
    "duration": 3,
    "start_time": "2021-07-10T21:46:01.374Z"
   },
   {
    "duration": 6837,
    "start_time": "2021-07-10T21:46:04.232Z"
   },
   {
    "duration": 3,
    "start_time": "2021-07-10T21:46:27.279Z"
   },
   {
    "duration": 2,
    "start_time": "2021-07-10T21:46:34.016Z"
   },
   {
    "duration": -1470,
    "start_time": "2021-07-10T21:46:54.131Z"
   },
   {
    "duration": -1474,
    "start_time": "2021-07-10T21:46:54.136Z"
   },
   {
    "duration": 1107,
    "start_time": "2021-07-10T21:47:18.795Z"
   },
   {
    "duration": 268,
    "start_time": "2021-07-10T21:47:19.904Z"
   },
   {
    "duration": 76,
    "start_time": "2021-07-10T21:47:20.177Z"
   },
   {
    "duration": 451,
    "start_time": "2021-07-10T21:47:20.255Z"
   },
   {
    "duration": 4,
    "start_time": "2021-07-10T21:47:20.708Z"
   },
   {
    "duration": 19,
    "start_time": "2021-07-10T21:47:20.713Z"
   },
   {
    "duration": 11,
    "start_time": "2021-07-10T21:47:20.734Z"
   },
   {
    "duration": 49,
    "start_time": "2021-07-10T21:47:20.747Z"
   },
   {
    "duration": 21,
    "start_time": "2021-07-10T21:47:20.798Z"
   },
   {
    "duration": 10,
    "start_time": "2021-07-10T21:47:20.821Z"
   },
   {
    "duration": 8,
    "start_time": "2021-07-10T21:47:20.833Z"
   },
   {
    "duration": 52,
    "start_time": "2021-07-10T21:47:20.842Z"
   },
   {
    "duration": 214,
    "start_time": "2021-07-10T21:47:20.897Z"
   },
   {
    "duration": 4,
    "start_time": "2021-07-10T21:47:21.112Z"
   },
   {
    "duration": 401,
    "start_time": "2021-07-10T21:47:21.118Z"
   },
   {
    "duration": 16,
    "start_time": "2021-07-10T21:47:21.521Z"
   },
   {
    "duration": 5,
    "start_time": "2021-07-10T21:47:21.539Z"
   },
   {
    "duration": 7,
    "start_time": "2021-07-10T21:47:21.545Z"
   },
   {
    "duration": 46,
    "start_time": "2021-07-10T21:47:21.554Z"
   },
   {
    "duration": 590,
    "start_time": "2021-07-10T21:47:21.602Z"
   },
   {
    "duration": 471,
    "start_time": "2021-07-10T21:47:22.194Z"
   },
   {
    "duration": 28,
    "start_time": "2021-07-10T21:47:22.669Z"
   },
   {
    "duration": 1030,
    "start_time": "2021-07-10T21:47:22.700Z"
   },
   {
    "duration": 252,
    "start_time": "2021-07-10T21:47:23.732Z"
   },
   {
    "duration": 357,
    "start_time": "2021-07-10T21:47:23.986Z"
   },
   {
    "duration": 234,
    "start_time": "2021-07-10T21:47:24.344Z"
   },
   {
    "duration": 711,
    "start_time": "2021-07-10T21:47:24.580Z"
   },
   {
    "duration": 914,
    "start_time": "2021-07-10T21:47:25.293Z"
   },
   {
    "duration": 3,
    "start_time": "2021-07-10T21:47:26.208Z"
   },
   {
    "duration": 22,
    "start_time": "2021-07-10T21:47:26.212Z"
   },
   {
    "duration": 16,
    "start_time": "2021-07-10T21:47:26.236Z"
   },
   {
    "duration": 338,
    "start_time": "2021-07-10T21:47:26.253Z"
   },
   {
    "duration": 218,
    "start_time": "2021-07-10T21:47:26.593Z"
   },
   {
    "duration": 3,
    "start_time": "2021-07-10T21:47:26.812Z"
   },
   {
    "duration": 5,
    "start_time": "2021-07-10T21:47:26.816Z"
   },
   {
    "duration": 4,
    "start_time": "2021-07-10T21:47:26.823Z"
   },
   {
    "duration": 4,
    "start_time": "2021-07-10T21:47:26.828Z"
   },
   {
    "duration": 17,
    "start_time": "2021-07-10T21:47:26.834Z"
   },
   {
    "duration": 2,
    "start_time": "2021-07-10T21:47:26.852Z"
   },
   {
    "duration": 7,
    "start_time": "2021-07-10T21:47:26.856Z"
   },
   {
    "duration": 3,
    "start_time": "2021-07-10T21:47:26.891Z"
   },
   {
    "duration": 9771,
    "start_time": "2021-07-10T21:47:26.896Z"
   },
   {
    "duration": -1475,
    "start_time": "2021-07-10T21:47:38.143Z"
   },
   {
    "duration": -1479,
    "start_time": "2021-07-10T21:47:38.148Z"
   },
   {
    "duration": -1481,
    "start_time": "2021-07-10T21:47:38.152Z"
   },
   {
    "duration": -1486,
    "start_time": "2021-07-10T21:47:38.158Z"
   },
   {
    "duration": 3,
    "start_time": "2021-07-10T21:48:06.551Z"
   },
   {
    "duration": 12580,
    "start_time": "2021-07-10T21:48:10.223Z"
   },
   {
    "duration": 3,
    "start_time": "2021-07-10T21:48:39.486Z"
   },
   {
    "duration": 3,
    "start_time": "2021-07-10T21:48:39.694Z"
   },
   {
    "duration": 2,
    "start_time": "2021-07-10T21:48:39.847Z"
   },
   {
    "duration": 3,
    "start_time": "2021-07-10T21:48:39.982Z"
   },
   {
    "duration": 3,
    "start_time": "2021-07-10T21:48:40.412Z"
   },
   {
    "duration": 15,
    "start_time": "2021-07-10T21:48:40.668Z"
   },
   {
    "duration": 2,
    "start_time": "2021-07-10T21:48:40.979Z"
   },
   {
    "duration": 6,
    "start_time": "2021-07-10T21:48:41.284Z"
   },
   {
    "duration": 4,
    "start_time": "2021-07-10T21:48:41.446Z"
   },
   {
    "duration": 7823,
    "start_time": "2021-07-10T21:48:41.600Z"
   },
   {
    "duration": 3,
    "start_time": "2021-07-10T21:49:01.471Z"
   },
   {
    "duration": 3,
    "start_time": "2021-07-10T21:49:03.710Z"
   },
   {
    "duration": 3,
    "start_time": "2021-07-10T21:49:03.878Z"
   },
   {
    "duration": 2,
    "start_time": "2021-07-10T21:49:04.022Z"
   },
   {
    "duration": 3,
    "start_time": "2021-07-10T21:49:04.159Z"
   },
   {
    "duration": 3,
    "start_time": "2021-07-10T21:49:04.574Z"
   },
   {
    "duration": 16,
    "start_time": "2021-07-10T21:49:04.846Z"
   },
   {
    "duration": 2,
    "start_time": "2021-07-10T21:49:05.141Z"
   },
   {
    "duration": 4,
    "start_time": "2021-07-10T21:49:05.396Z"
   },
   {
    "duration": 4,
    "start_time": "2021-07-10T21:49:05.557Z"
   },
   {
    "duration": 16955,
    "start_time": "2021-07-10T21:49:05.696Z"
   },
   {
    "duration": 4,
    "start_time": "2021-07-10T22:01:36.855Z"
   },
   {
    "duration": 3,
    "start_time": "2021-07-10T22:01:45.128Z"
   },
   {
    "duration": 344,
    "start_time": "2021-07-10T22:02:01.785Z"
   },
   {
    "duration": 4,
    "start_time": "2021-07-10T22:28:17.585Z"
   },
   {
    "duration": 4,
    "start_time": "2021-07-10T22:29:25.614Z"
   },
   {
    "duration": 363,
    "start_time": "2021-07-10T22:29:43.325Z"
   },
   {
    "duration": 4,
    "start_time": "2021-07-10T22:30:10.759Z"
   },
   {
    "duration": 128021,
    "start_time": "2021-07-10T22:30:13.179Z"
   },
   {
    "duration": 244,
    "start_time": "2021-07-10T22:34:29.507Z"
   },
   {
    "duration": 152200,
    "start_time": "2021-07-10T22:34:36.101Z"
   },
   {
    "duration": 126960,
    "start_time": "2021-07-10T22:41:46.530Z"
   },
   {
    "duration": 4,
    "start_time": "2021-07-10T22:44:10.886Z"
   },
   {
    "duration": 5,
    "start_time": "2021-07-10T23:10:36.694Z"
   },
   {
    "duration": 12,
    "start_time": "2021-07-10T23:10:44.053Z"
   },
   {
    "duration": 24,
    "start_time": "2021-07-10T23:10:46.446Z"
   },
   {
    "duration": 8,
    "start_time": "2021-07-10T23:13:02.062Z"
   },
   {
    "duration": 10,
    "start_time": "2021-07-10T23:13:34.047Z"
   },
   {
    "duration": 14,
    "start_time": "2021-07-10T23:13:39.701Z"
   },
   {
    "duration": 8,
    "start_time": "2021-07-10T23:15:19.525Z"
   },
   {
    "duration": 5,
    "start_time": "2021-07-10T23:15:25.907Z"
   },
   {
    "duration": 11,
    "start_time": "2021-07-10T23:15:32.277Z"
   },
   {
    "duration": 14,
    "start_time": "2021-07-10T23:15:34.501Z"
   },
   {
    "duration": 4,
    "start_time": "2021-07-10T23:15:44.165Z"
   },
   {
    "duration": 8,
    "start_time": "2021-07-10T23:15:45.964Z"
   },
   {
    "duration": 24,
    "start_time": "2021-07-10T23:15:47.803Z"
   },
   {
    "duration": 116,
    "start_time": "2021-07-10T23:16:19.319Z"
   },
   {
    "duration": 250,
    "start_time": "2021-07-10T23:16:42.950Z"
   },
   {
    "duration": 241,
    "start_time": "2021-07-10T23:16:57.132Z"
   },
   {
    "duration": 8,
    "start_time": "2021-07-10T23:17:18.356Z"
   },
   {
    "duration": 8,
    "start_time": "2021-07-10T23:17:31.405Z"
   },
   {
    "duration": 7,
    "start_time": "2021-07-10T23:19:43.033Z"
   },
   {
    "duration": 23,
    "start_time": "2021-07-10T23:19:47.154Z"
   },
   {
    "duration": 3,
    "start_time": "2021-07-10T23:22:35.230Z"
   },
   {
    "duration": 6,
    "start_time": "2021-07-10T23:22:46.224Z"
   },
   {
    "duration": 5605,
    "start_time": "2021-07-10T23:22:54.319Z"
   },
   {
    "duration": 236,
    "start_time": "2021-07-10T23:23:04.279Z"
   },
   {
    "duration": 4,
    "start_time": "2021-07-10T23:23:26.664Z"
   },
   {
    "duration": 9,
    "start_time": "2021-07-10T23:23:26.942Z"
   },
   {
    "duration": 6,
    "start_time": "2021-07-10T23:23:27.416Z"
   },
   {
    "duration": 4,
    "start_time": "2021-07-10T23:24:28.856Z"
   },
   {
    "duration": 8,
    "start_time": "2021-07-10T23:24:29.072Z"
   },
   {
    "duration": 240,
    "start_time": "2021-07-10T23:24:29.623Z"
   },
   {
    "duration": 236,
    "start_time": "2021-07-10T23:24:37.920Z"
   },
   {
    "duration": 4,
    "start_time": "2021-07-10T23:24:48.839Z"
   },
   {
    "duration": 10,
    "start_time": "2021-07-10T23:24:51.232Z"
   },
   {
    "duration": 8,
    "start_time": "2021-07-10T23:24:56.903Z"
   },
   {
    "duration": 232,
    "start_time": "2021-07-10T23:30:48.531Z"
   },
   {
    "duration": 4,
    "start_time": "2021-07-10T23:30:52.822Z"
   },
   {
    "duration": 4,
    "start_time": "2021-07-10T23:32:58.649Z"
   },
   {
    "duration": 12,
    "start_time": "2021-07-10T23:32:58.874Z"
   },
   {
    "duration": 241,
    "start_time": "2021-07-10T23:32:59.569Z"
   },
   {
    "duration": -1483,
    "start_time": "2021-07-10T23:33:18.392Z"
   },
   {
    "duration": -1493,
    "start_time": "2021-07-10T23:33:18.403Z"
   },
   {
    "duration": -1496,
    "start_time": "2021-07-10T23:33:18.407Z"
   },
   {
    "duration": 13946,
    "start_time": "2021-07-10T23:33:17.291Z"
   },
   {
    "duration": 14294,
    "start_time": "2021-07-10T23:34:10.898Z"
   },
   {
    "duration": 14429,
    "start_time": "2021-07-10T23:38:51.752Z"
   },
   {
    "duration": 6,
    "start_time": "2021-07-10T23:39:45.421Z"
   },
   {
    "duration": 256,
    "start_time": "2021-07-10T23:40:27.295Z"
   },
   {
    "duration": 1121,
    "start_time": "2021-07-10T23:40:39.888Z"
   },
   {
    "duration": 265,
    "start_time": "2021-07-10T23:40:41.011Z"
   },
   {
    "duration": 79,
    "start_time": "2021-07-10T23:40:41.278Z"
   },
   {
    "duration": 348,
    "start_time": "2021-07-10T23:40:41.358Z"
   },
   {
    "duration": 3,
    "start_time": "2021-07-10T23:40:41.708Z"
   },
   {
    "duration": 24,
    "start_time": "2021-07-10T23:40:41.713Z"
   },
   {
    "duration": 9,
    "start_time": "2021-07-10T23:40:41.739Z"
   },
   {
    "duration": 17,
    "start_time": "2021-07-10T23:40:41.750Z"
   },
   {
    "duration": 20,
    "start_time": "2021-07-10T23:40:41.791Z"
   },
   {
    "duration": 9,
    "start_time": "2021-07-10T23:40:41.812Z"
   },
   {
    "duration": 8,
    "start_time": "2021-07-10T23:40:41.823Z"
   },
   {
    "duration": 13,
    "start_time": "2021-07-10T23:40:41.833Z"
   },
   {
    "duration": 230,
    "start_time": "2021-07-10T23:40:41.847Z"
   },
   {
    "duration": 12,
    "start_time": "2021-07-10T23:40:42.079Z"
   },
   {
    "duration": 382,
    "start_time": "2021-07-10T23:40:42.093Z"
   },
   {
    "duration": 20,
    "start_time": "2021-07-10T23:40:42.477Z"
   },
   {
    "duration": 5,
    "start_time": "2021-07-10T23:40:42.498Z"
   },
   {
    "duration": 10,
    "start_time": "2021-07-10T23:40:42.504Z"
   },
   {
    "duration": 18,
    "start_time": "2021-07-10T23:40:42.516Z"
   },
   {
    "duration": 13,
    "start_time": "2021-07-10T23:40:42.536Z"
   },
   {
    "duration": 583,
    "start_time": "2021-07-10T23:40:42.550Z"
   },
   {
    "duration": 472,
    "start_time": "2021-07-10T23:40:43.134Z"
   },
   {
    "duration": 18,
    "start_time": "2021-07-10T23:40:43.609Z"
   },
   {
    "duration": 928,
    "start_time": "2021-07-10T23:40:43.629Z"
   },
   {
    "duration": 252,
    "start_time": "2021-07-10T23:40:44.559Z"
   },
   {
    "duration": 258,
    "start_time": "2021-07-10T23:40:44.812Z"
   },
   {
    "duration": 240,
    "start_time": "2021-07-10T23:40:45.072Z"
   },
   {
    "duration": 614,
    "start_time": "2021-07-10T23:40:45.313Z"
   },
   {
    "duration": 716,
    "start_time": "2021-07-10T23:40:45.928Z"
   },
   {
    "duration": 3,
    "start_time": "2021-07-10T23:40:46.646Z"
   },
   {
    "duration": 24,
    "start_time": "2021-07-10T23:40:46.650Z"
   },
   {
    "duration": 30,
    "start_time": "2021-07-10T23:40:46.676Z"
   },
   {
    "duration": 333,
    "start_time": "2021-07-10T23:40:46.708Z"
   },
   {
    "duration": 225,
    "start_time": "2021-07-10T23:40:47.043Z"
   },
   {
    "duration": 3,
    "start_time": "2021-07-10T23:40:47.270Z"
   },
   {
    "duration": 5,
    "start_time": "2021-07-10T23:40:47.274Z"
   },
   {
    "duration": 10,
    "start_time": "2021-07-10T23:40:47.291Z"
   },
   {
    "duration": 9,
    "start_time": "2021-07-10T23:40:47.303Z"
   },
   {
    "duration": 5,
    "start_time": "2021-07-10T23:40:47.313Z"
   },
   {
    "duration": 6,
    "start_time": "2021-07-10T23:40:47.319Z"
   },
   {
    "duration": 43561,
    "start_time": "2021-07-10T23:40:47.326Z"
   },
   {
    "duration": -1514,
    "start_time": "2021-07-10T23:41:32.402Z"
   },
   {
    "duration": -1517,
    "start_time": "2021-07-10T23:41:32.406Z"
   },
   {
    "duration": -1521,
    "start_time": "2021-07-10T23:41:32.411Z"
   },
   {
    "duration": -1524,
    "start_time": "2021-07-10T23:41:32.415Z"
   },
   {
    "duration": -1527,
    "start_time": "2021-07-10T23:41:32.419Z"
   },
   {
    "duration": -1530,
    "start_time": "2021-07-10T23:41:32.423Z"
   },
   {
    "duration": -1533,
    "start_time": "2021-07-10T23:41:32.427Z"
   },
   {
    "duration": 4,
    "start_time": "2021-07-10T23:41:42.754Z"
   },
   {
    "duration": 3,
    "start_time": "2021-07-10T23:41:44.155Z"
   },
   {
    "duration": 11946,
    "start_time": "2021-07-10T23:41:44.861Z"
   },
   {
    "duration": 4,
    "start_time": "2021-07-10T23:42:18.481Z"
   },
   {
    "duration": 4,
    "start_time": "2021-07-10T23:42:18.931Z"
   },
   {
    "duration": 88794,
    "start_time": "2021-07-10T23:42:19.203Z"
   },
   {
    "duration": 90098,
    "start_time": "2021-07-10T23:43:48.000Z"
   },
   {
    "duration": 4,
    "start_time": "2021-07-10T23:45:24.248Z"
   },
   {
    "duration": 5,
    "start_time": "2021-07-10T23:45:25.808Z"
   },
   {
    "duration": 10,
    "start_time": "2021-07-10T23:45:26.337Z"
   },
   {
    "duration": 5,
    "start_time": "2021-07-10T23:45:29.592Z"
   },
   {
    "duration": 7,
    "start_time": "2021-07-10T23:45:30.790Z"
   },
   {
    "duration": 13930,
    "start_time": "2021-07-10T23:45:32.067Z"
   },
   {
    "duration": 13571,
    "start_time": "2021-07-10T23:46:23.241Z"
   },
   {
    "duration": 14062,
    "start_time": "2021-07-10T23:47:39.958Z"
   },
   {
    "duration": 13912,
    "start_time": "2021-07-10T23:51:15.316Z"
   },
   {
    "duration": 28123,
    "start_time": "2021-07-10T23:51:42.235Z"
   },
   {
    "duration": 28683,
    "start_time": "2021-07-10T23:52:34.345Z"
   },
   {
    "duration": 81,
    "start_time": "2021-07-10T23:53:16.707Z"
   },
   {
    "duration": 4,
    "start_time": "2021-07-10T23:53:25.326Z"
   },
   {
    "duration": 4,
    "start_time": "2021-07-10T23:53:38.429Z"
   },
   {
    "duration": 9372,
    "start_time": "2021-07-10T23:54:41.516Z"
   },
   {
    "duration": 590,
    "start_time": "2021-07-10T23:54:59.756Z"
   },
   {
    "duration": 13711,
    "start_time": "2021-07-10T23:55:25.421Z"
   },
   {
    "duration": 99,
    "start_time": "2021-07-10T23:56:00.389Z"
   },
   {
    "duration": 3,
    "start_time": "2021-07-10T23:57:09.491Z"
   },
   {
    "duration": 1126,
    "start_time": "2021-07-10T23:57:34.819Z"
   },
   {
    "duration": 266,
    "start_time": "2021-07-10T23:57:35.947Z"
   },
   {
    "duration": 75,
    "start_time": "2021-07-10T23:57:36.215Z"
   },
   {
    "duration": 343,
    "start_time": "2021-07-10T23:57:36.292Z"
   },
   {
    "duration": 3,
    "start_time": "2021-07-10T23:57:36.636Z"
   },
   {
    "duration": 17,
    "start_time": "2021-07-10T23:57:36.641Z"
   },
   {
    "duration": 8,
    "start_time": "2021-07-10T23:57:36.659Z"
   },
   {
    "duration": 31,
    "start_time": "2021-07-10T23:57:36.670Z"
   },
   {
    "duration": 19,
    "start_time": "2021-07-10T23:57:36.702Z"
   },
   {
    "duration": 10,
    "start_time": "2021-07-10T23:57:36.722Z"
   },
   {
    "duration": 5,
    "start_time": "2021-07-10T23:57:36.733Z"
   },
   {
    "duration": 10,
    "start_time": "2021-07-10T23:57:36.740Z"
   },
   {
    "duration": 200,
    "start_time": "2021-07-10T23:57:36.791Z"
   },
   {
    "duration": 2,
    "start_time": "2021-07-10T23:57:36.993Z"
   },
   {
    "duration": 386,
    "start_time": "2021-07-10T23:57:36.997Z"
   },
   {
    "duration": 19,
    "start_time": "2021-07-10T23:57:37.384Z"
   },
   {
    "duration": 4,
    "start_time": "2021-07-10T23:57:37.405Z"
   },
   {
    "duration": 6,
    "start_time": "2021-07-10T23:57:37.410Z"
   },
   {
    "duration": 14,
    "start_time": "2021-07-10T23:57:37.417Z"
   },
   {
    "duration": 13,
    "start_time": "2021-07-10T23:57:37.433Z"
   },
   {
    "duration": 598,
    "start_time": "2021-07-10T23:57:37.447Z"
   },
   {
    "duration": 468,
    "start_time": "2021-07-10T23:57:38.046Z"
   },
   {
    "duration": 18,
    "start_time": "2021-07-10T23:57:38.518Z"
   },
   {
    "duration": 1033,
    "start_time": "2021-07-10T23:57:38.538Z"
   },
   {
    "duration": 247,
    "start_time": "2021-07-10T23:57:39.573Z"
   },
   {
    "duration": 360,
    "start_time": "2021-07-10T23:57:39.822Z"
   },
   {
    "duration": 238,
    "start_time": "2021-07-10T23:57:40.183Z"
   },
   {
    "duration": 607,
    "start_time": "2021-07-10T23:57:40.422Z"
   },
   {
    "duration": 711,
    "start_time": "2021-07-10T23:57:41.031Z"
   },
   {
    "duration": 3,
    "start_time": "2021-07-10T23:57:41.743Z"
   },
   {
    "duration": 22,
    "start_time": "2021-07-10T23:57:41.747Z"
   },
   {
    "duration": 35,
    "start_time": "2021-07-10T23:57:41.770Z"
   },
   {
    "duration": 310,
    "start_time": "2021-07-10T23:57:41.807Z"
   },
   {
    "duration": 219,
    "start_time": "2021-07-10T23:57:42.119Z"
   },
   {
    "duration": 3,
    "start_time": "2021-07-10T23:57:42.339Z"
   },
   {
    "duration": 6,
    "start_time": "2021-07-10T23:57:42.343Z"
   },
   {
    "duration": 27,
    "start_time": "2021-07-10T23:57:42.350Z"
   },
   {
    "duration": 8,
    "start_time": "2021-07-10T23:57:42.379Z"
   },
   {
    "duration": 19,
    "start_time": "2021-07-10T23:57:42.388Z"
   },
   {
    "duration": 21,
    "start_time": "2021-07-10T23:57:42.409Z"
   },
   {
    "duration": 987964,
    "start_time": "2021-07-10T23:57:42.432Z"
   },
   {
    "duration": 26881,
    "start_time": "2021-07-11T00:14:10.398Z"
   },
   {
    "duration": -1572,
    "start_time": "2021-07-11T00:14:38.853Z"
   },
   {
    "duration": -1576,
    "start_time": "2021-07-11T00:14:38.858Z"
   },
   {
    "duration": -1579,
    "start_time": "2021-07-11T00:14:38.862Z"
   },
   {
    "duration": -1584,
    "start_time": "2021-07-11T00:14:38.868Z"
   },
   {
    "duration": -1587,
    "start_time": "2021-07-11T00:14:38.872Z"
   },
   {
    "duration": 86,
    "start_time": "2021-07-11T00:15:14.183Z"
   },
   {
    "duration": 4,
    "start_time": "2021-07-11T00:15:14.334Z"
   },
   {
    "duration": 84,
    "start_time": "2021-07-11T00:15:16.968Z"
   },
   {
    "duration": 77,
    "start_time": "2021-07-11T00:15:41.588Z"
   },
   {
    "duration": 89,
    "start_time": "2021-07-11T00:16:01.318Z"
   },
   {
    "duration": 86,
    "start_time": "2021-07-11T00:16:27.560Z"
   },
   {
    "duration": 4,
    "start_time": "2021-07-11T00:16:34.354Z"
   },
   {
    "duration": 3,
    "start_time": "2021-07-11T00:16:42.993Z"
   },
   {
    "duration": 3,
    "start_time": "2021-07-11T00:16:51.529Z"
   },
   {
    "duration": 3,
    "start_time": "2021-07-11T00:16:58.375Z"
   },
   {
    "duration": 4,
    "start_time": "2021-07-11T00:17:03.156Z"
   },
   {
    "duration": 23503,
    "start_time": "2021-07-11T00:17:03.566Z"
   },
   {
    "duration": -1547,
    "start_time": "2021-07-11T00:17:28.621Z"
   },
   {
    "duration": -1549,
    "start_time": "2021-07-11T00:17:28.625Z"
   },
   {
    "duration": 4,
    "start_time": "2021-07-11T00:17:30.569Z"
   },
   {
    "duration": 4,
    "start_time": "2021-07-11T00:17:30.845Z"
   },
   {
    "duration": 82082,
    "start_time": "2021-07-11T00:17:31.423Z"
   },
   {
    "duration": 83500,
    "start_time": "2021-07-11T00:18:53.593Z"
   },
   {
    "duration": 6768,
    "start_time": "2021-07-11T00:21:57.213Z"
   },
   {
    "duration": 4,
    "start_time": "2021-07-11T00:22:16.293Z"
   },
   {
    "duration": 13,
    "start_time": "2021-07-11T00:27:18.083Z"
   },
   {
    "duration": 22,
    "start_time": "2021-07-11T00:27:45.863Z"
   },
   {
    "duration": 36,
    "start_time": "2021-07-11T00:27:55.502Z"
   },
   {
    "duration": 26,
    "start_time": "2021-07-11T00:28:04.081Z"
   },
   {
    "duration": 282,
    "start_time": "2021-07-11T00:28:12.401Z"
   },
   {
    "duration": 258,
    "start_time": "2021-07-11T00:28:16.854Z"
   },
   {
    "duration": 218,
    "start_time": "2021-07-11T00:28:26.240Z"
   },
   {
    "duration": 9,
    "start_time": "2021-07-11T00:29:02.087Z"
   },
   {
    "duration": 7488,
    "start_time": "2021-07-11T00:29:02.911Z"
   },
   {
    "duration": -1501,
    "start_time": "2021-07-11T00:29:11.902Z"
   },
   {
    "duration": 6266,
    "start_time": "2021-07-11T00:29:12.733Z"
   },
   {
    "duration": 254,
    "start_time": "2021-07-11T00:30:09.654Z"
   },
   {
    "duration": 9,
    "start_time": "2021-07-11T00:30:14.748Z"
   },
   {
    "duration": 5,
    "start_time": "2021-07-11T00:30:15.516Z"
   },
   {
    "duration": 13912,
    "start_time": "2021-07-11T00:30:34.426Z"
   },
   {
    "duration": 275,
    "start_time": "2021-07-11T00:31:15.586Z"
   },
   {
    "duration": 72,
    "start_time": "2021-07-11T00:31:15.862Z"
   },
   {
    "duration": 347,
    "start_time": "2021-07-11T00:31:15.936Z"
   },
   {
    "duration": 8,
    "start_time": "2021-07-11T00:31:16.285Z"
   },
   {
    "duration": 16,
    "start_time": "2021-07-11T00:31:16.294Z"
   },
   {
    "duration": 9,
    "start_time": "2021-07-11T00:31:16.374Z"
   },
   {
    "duration": 4,
    "start_time": "2021-07-11T00:31:22.924Z"
   },
   {
    "duration": 12,
    "start_time": "2021-07-11T00:31:23.099Z"
   },
   {
    "duration": 6,
    "start_time": "2021-07-11T00:31:23.420Z"
   },
   {
    "duration": 13899,
    "start_time": "2021-07-11T00:31:23.789Z"
   },
   {
    "duration": 14133,
    "start_time": "2021-07-11T00:33:31.339Z"
   },
   {
    "duration": 1246,
    "start_time": "2021-07-11T00:33:55.197Z"
   },
   {
    "duration": 295,
    "start_time": "2021-07-11T00:33:56.445Z"
   },
   {
    "duration": 85,
    "start_time": "2021-07-11T00:33:56.742Z"
   },
   {
    "duration": 386,
    "start_time": "2021-07-11T00:33:56.829Z"
   },
   {
    "duration": 4,
    "start_time": "2021-07-11T00:33:57.216Z"
   },
   {
    "duration": 18,
    "start_time": "2021-07-11T00:33:57.221Z"
   },
   {
    "duration": 10,
    "start_time": "2021-07-11T00:33:57.240Z"
   },
   {
    "duration": 41,
    "start_time": "2021-07-11T00:33:57.252Z"
   },
   {
    "duration": 22,
    "start_time": "2021-07-11T00:33:57.296Z"
   },
   {
    "duration": 13,
    "start_time": "2021-07-11T00:33:57.320Z"
   },
   {
    "duration": 35,
    "start_time": "2021-07-11T00:33:57.344Z"
   },
   {
    "duration": 36,
    "start_time": "2021-07-11T00:33:57.383Z"
   },
   {
    "duration": 214,
    "start_time": "2021-07-11T00:33:57.421Z"
   },
   {
    "duration": 3,
    "start_time": "2021-07-11T00:33:57.637Z"
   },
   {
    "duration": 414,
    "start_time": "2021-07-11T00:33:57.642Z"
   },
   {
    "duration": 17,
    "start_time": "2021-07-11T00:33:58.057Z"
   },
   {
    "duration": 16,
    "start_time": "2021-07-11T00:33:58.075Z"
   },
   {
    "duration": 9,
    "start_time": "2021-07-11T00:33:58.094Z"
   },
   {
    "duration": 14,
    "start_time": "2021-07-11T00:33:58.105Z"
   },
   {
    "duration": 15,
    "start_time": "2021-07-11T00:33:58.121Z"
   },
   {
    "duration": 615,
    "start_time": "2021-07-11T00:33:58.137Z"
   },
   {
    "duration": 484,
    "start_time": "2021-07-11T00:33:58.753Z"
   },
   {
    "duration": 210,
    "start_time": "2021-07-11T00:33:59.241Z"
   },
   {
    "duration": 991,
    "start_time": "2021-07-11T00:33:59.453Z"
   },
   {
    "duration": 270,
    "start_time": "2021-07-11T00:34:00.446Z"
   },
   {
    "duration": 268,
    "start_time": "2021-07-11T00:34:00.718Z"
   },
   {
    "duration": 251,
    "start_time": "2021-07-11T00:34:00.987Z"
   },
   {
    "duration": 646,
    "start_time": "2021-07-11T00:34:01.239Z"
   },
   {
    "duration": 872,
    "start_time": "2021-07-11T00:34:01.886Z"
   },
   {
    "duration": 2,
    "start_time": "2021-07-11T00:34:02.760Z"
   },
   {
    "duration": 29,
    "start_time": "2021-07-11T00:34:02.763Z"
   },
   {
    "duration": 16,
    "start_time": "2021-07-11T00:34:02.793Z"
   },
   {
    "duration": 344,
    "start_time": "2021-07-11T00:34:02.811Z"
   },
   {
    "duration": 223,
    "start_time": "2021-07-11T00:34:03.156Z"
   },
   {
    "duration": 3,
    "start_time": "2021-07-11T00:34:03.381Z"
   },
   {
    "duration": 5,
    "start_time": "2021-07-11T00:34:03.392Z"
   },
   {
    "duration": 17,
    "start_time": "2021-07-11T00:34:03.400Z"
   },
   {
    "duration": 14,
    "start_time": "2021-07-11T00:34:03.419Z"
   },
   {
    "duration": 9,
    "start_time": "2021-07-11T00:34:03.434Z"
   },
   {
    "duration": 12,
    "start_time": "2021-07-11T00:34:03.444Z"
   },
   {
    "duration": 84834,
    "start_time": "2021-07-11T00:34:03.457Z"
   },
   {
    "duration": 82598,
    "start_time": "2021-07-11T00:35:28.294Z"
   },
   {
    "duration": 95,
    "start_time": "2021-07-11T00:36:50.898Z"
   },
   {
    "duration": 4,
    "start_time": "2021-07-11T00:36:50.995Z"
   },
   {
    "duration": 11,
    "start_time": "2021-07-11T00:36:51.001Z"
   },
   {
    "duration": 5,
    "start_time": "2021-07-11T00:36:51.013Z"
   },
   {
    "duration": 27842,
    "start_time": "2021-07-11T00:36:51.019Z"
   },
   {
    "duration": 3,
    "start_time": "2021-07-11T01:32:42.586Z"
   },
   {
    "duration": 1146,
    "start_time": "2021-07-11T01:58:07.770Z"
   },
   {
    "duration": 275,
    "start_time": "2021-07-11T01:58:08.918Z"
   },
   {
    "duration": 77,
    "start_time": "2021-07-11T01:58:09.195Z"
   },
   {
    "duration": 356,
    "start_time": "2021-07-11T01:58:09.273Z"
   },
   {
    "duration": 3,
    "start_time": "2021-07-11T01:58:09.631Z"
   },
   {
    "duration": 18,
    "start_time": "2021-07-11T01:58:09.635Z"
   },
   {
    "duration": 8,
    "start_time": "2021-07-11T01:58:09.655Z"
   },
   {
    "duration": 32,
    "start_time": "2021-07-11T01:58:09.664Z"
   },
   {
    "duration": 18,
    "start_time": "2021-07-11T01:58:09.698Z"
   },
   {
    "duration": 8,
    "start_time": "2021-07-11T01:58:09.718Z"
   },
   {
    "duration": 6,
    "start_time": "2021-07-11T01:58:09.727Z"
   },
   {
    "duration": 10,
    "start_time": "2021-07-11T01:58:09.734Z"
   },
   {
    "duration": 223,
    "start_time": "2021-07-11T01:58:09.746Z"
   },
   {
    "duration": 2,
    "start_time": "2021-07-11T01:58:09.971Z"
   },
   {
    "duration": 382,
    "start_time": "2021-07-11T01:58:09.975Z"
   },
   {
    "duration": 16,
    "start_time": "2021-07-11T01:58:10.358Z"
   },
   {
    "duration": 4,
    "start_time": "2021-07-11T01:58:10.375Z"
   },
   {
    "duration": 5,
    "start_time": "2021-07-11T01:58:10.391Z"
   },
   {
    "duration": 18,
    "start_time": "2021-07-11T01:58:10.397Z"
   },
   {
    "duration": 13,
    "start_time": "2021-07-11T01:58:10.416Z"
   },
   {
    "duration": 578,
    "start_time": "2021-07-11T01:58:10.430Z"
   },
   {
    "duration": 474,
    "start_time": "2021-07-11T01:58:11.009Z"
   },
   {
    "duration": 200,
    "start_time": "2021-07-11T01:58:11.485Z"
   },
   {
    "duration": 902,
    "start_time": "2021-07-11T01:58:11.691Z"
   },
   {
    "duration": 244,
    "start_time": "2021-07-11T01:58:12.595Z"
   },
   {
    "duration": 255,
    "start_time": "2021-07-11T01:58:12.841Z"
   },
   {
    "duration": 235,
    "start_time": "2021-07-11T01:58:13.099Z"
   },
   {
    "duration": 601,
    "start_time": "2021-07-11T01:58:13.336Z"
   },
   {
    "duration": 704,
    "start_time": "2021-07-11T01:58:13.939Z"
   },
   {
    "duration": 2,
    "start_time": "2021-07-11T01:58:14.645Z"
   },
   {
    "duration": 23,
    "start_time": "2021-07-11T01:58:14.648Z"
   },
   {
    "duration": 24,
    "start_time": "2021-07-11T01:58:14.673Z"
   },
   {
    "duration": 322,
    "start_time": "2021-07-11T01:58:14.698Z"
   },
   {
    "duration": 215,
    "start_time": "2021-07-11T01:58:15.022Z"
   },
   {
    "duration": 2,
    "start_time": "2021-07-11T01:58:15.239Z"
   },
   {
    "duration": 6,
    "start_time": "2021-07-11T01:58:15.242Z"
   },
   {
    "duration": 12,
    "start_time": "2021-07-11T01:58:15.249Z"
   },
   {
    "duration": 6,
    "start_time": "2021-07-11T01:58:15.262Z"
   },
   {
    "duration": 4,
    "start_time": "2021-07-11T01:58:15.270Z"
   },
   {
    "duration": 17,
    "start_time": "2021-07-11T01:58:15.275Z"
   },
   {
    "duration": 81802,
    "start_time": "2021-07-11T01:58:15.293Z"
   },
   {
    "duration": 83304,
    "start_time": "2021-07-11T01:59:37.097Z"
   },
   {
    "duration": 5,
    "start_time": "2021-07-11T02:01:00.493Z"
   },
   {
    "duration": 97,
    "start_time": "2021-07-11T02:01:00.500Z"
   },
   {
    "duration": 12,
    "start_time": "2021-07-11T02:01:00.599Z"
   },
   {
    "duration": 5,
    "start_time": "2021-07-11T02:01:00.612Z"
   },
   {
    "duration": 27319,
    "start_time": "2021-07-11T02:01:00.619Z"
   },
   {
    "duration": 85,
    "start_time": "2021-07-11T02:12:48.075Z"
   },
   {
    "duration": 5,
    "start_time": "2021-07-11T02:12:51.474Z"
   },
   {
    "duration": 4,
    "start_time": "2021-07-11T02:12:57.362Z"
   },
   {
    "duration": 4,
    "start_time": "2021-07-11T02:13:10.848Z"
   },
   {
    "duration": 1447,
    "start_time": "2021-07-11T04:50:38.544Z"
   },
   {
    "duration": 320,
    "start_time": "2021-07-11T04:50:40.059Z"
   },
   {
    "duration": 92,
    "start_time": "2021-07-11T04:50:40.381Z"
   },
   {
    "duration": 438,
    "start_time": "2021-07-11T04:50:40.475Z"
   },
   {
    "duration": 4,
    "start_time": "2021-07-11T04:50:40.916Z"
   },
   {
    "duration": 23,
    "start_time": "2021-07-11T04:50:41.109Z"
   },
   {
    "duration": 17,
    "start_time": "2021-07-11T04:50:41.260Z"
   },
   {
    "duration": 27,
    "start_time": "2021-07-11T04:50:41.437Z"
   },
   {
    "duration": 35,
    "start_time": "2021-07-11T04:50:41.756Z"
   },
   {
    "duration": 14,
    "start_time": "2021-07-11T04:50:42.234Z"
   },
   {
    "duration": 11,
    "start_time": "2021-07-11T04:50:42.561Z"
   },
   {
    "duration": 16,
    "start_time": "2021-07-11T04:50:43.497Z"
   },
   {
    "duration": 334,
    "start_time": "2021-07-11T04:50:43.839Z"
   },
   {
    "duration": 5,
    "start_time": "2021-07-11T04:50:46.944Z"
   },
   {
    "duration": 614,
    "start_time": "2021-07-11T04:50:47.164Z"
   },
   {
    "duration": 31,
    "start_time": "2021-07-11T04:50:47.781Z"
   },
   {
    "duration": 8,
    "start_time": "2021-07-11T04:50:47.816Z"
   },
   {
    "duration": 8,
    "start_time": "2021-07-11T04:50:48.600Z"
   },
   {
    "duration": 18,
    "start_time": "2021-07-11T04:50:49.473Z"
   },
   {
    "duration": 22,
    "start_time": "2021-07-11T04:50:50.101Z"
   },
   {
    "duration": 1069,
    "start_time": "2021-07-11T04:50:50.439Z"
   },
   {
    "duration": 793,
    "start_time": "2021-07-11T04:50:51.512Z"
   },
   {
    "duration": 352,
    "start_time": "2021-07-11T04:50:52.308Z"
   },
   {
    "duration": 1684,
    "start_time": "2021-07-11T04:51:59.116Z"
   },
   {
    "duration": 442,
    "start_time": "2021-07-11T04:52:00.803Z"
   },
   {
    "duration": 463,
    "start_time": "2021-07-11T04:52:01.249Z"
   },
   {
    "duration": 437,
    "start_time": "2021-07-11T04:52:01.715Z"
   },
   {
    "duration": 1281,
    "start_time": "2021-07-11T04:52:02.154Z"
   },
   {
    "duration": 1286,
    "start_time": "2021-07-11T04:52:03.438Z"
   },
   {
    "duration": 4,
    "start_time": "2021-07-11T04:52:04.726Z"
   },
   {
    "duration": 32,
    "start_time": "2021-07-11T04:52:04.732Z"
   },
   {
    "duration": 50,
    "start_time": "2021-07-11T04:52:04.766Z"
   },
   {
    "duration": 553,
    "start_time": "2021-07-11T04:52:04.818Z"
   },
   {
    "duration": 379,
    "start_time": "2021-07-11T04:52:05.374Z"
   },
   {
    "duration": 5,
    "start_time": "2021-07-11T04:52:08.881Z"
   },
   {
    "duration": 19,
    "start_time": "2021-07-11T04:52:08.890Z"
   },
   {
    "duration": 15,
    "start_time": "2021-07-11T04:52:29.399Z"
   },
   {
    "duration": 4,
    "start_time": "2021-07-11T04:53:24.759Z"
   },
   {
    "duration": 5,
    "start_time": "2021-07-11T04:53:44.872Z"
   },
   {
    "duration": 6,
    "start_time": "2021-07-11T04:53:45.929Z"
   },
   {
    "duration": 1603,
    "start_time": "2021-07-11T20:08:54.313Z"
   },
   {
    "duration": 344,
    "start_time": "2021-07-11T20:08:55.918Z"
   },
   {
    "duration": 96,
    "start_time": "2021-07-11T20:08:56.265Z"
   },
   {
    "duration": 443,
    "start_time": "2021-07-11T20:08:56.364Z"
   },
   {
    "duration": 5,
    "start_time": "2021-07-11T20:08:56.809Z"
   },
   {
    "duration": 29,
    "start_time": "2021-07-11T20:08:56.816Z"
   },
   {
    "duration": 16,
    "start_time": "2021-07-11T20:08:56.868Z"
   },
   {
    "duration": 25,
    "start_time": "2021-07-11T20:08:56.887Z"
   },
   {
    "duration": 72,
    "start_time": "2021-07-11T20:08:56.916Z"
   },
   {
    "duration": 16,
    "start_time": "2021-07-11T20:08:56.991Z"
   },
   {
    "duration": 10,
    "start_time": "2021-07-11T20:08:57.011Z"
   },
   {
    "duration": 15,
    "start_time": "2021-07-11T20:08:57.068Z"
   },
   {
    "duration": 376,
    "start_time": "2021-07-11T20:08:57.085Z"
   },
   {
    "duration": 5,
    "start_time": "2021-07-11T20:08:57.466Z"
   },
   {
    "duration": 702,
    "start_time": "2021-07-11T20:08:57.473Z"
   },
   {
    "duration": 21,
    "start_time": "2021-07-11T20:08:58.178Z"
   },
   {
    "duration": 6,
    "start_time": "2021-07-11T20:08:58.201Z"
   },
   {
    "duration": 9,
    "start_time": "2021-07-11T20:08:58.209Z"
   },
   {
    "duration": 55,
    "start_time": "2021-07-11T20:08:58.220Z"
   },
   {
    "duration": 20,
    "start_time": "2021-07-11T20:08:58.277Z"
   },
   {
    "duration": 1128,
    "start_time": "2021-07-11T20:08:58.300Z"
   },
   {
    "duration": 849,
    "start_time": "2021-07-11T20:08:59.430Z"
   },
   {
    "duration": 382,
    "start_time": "2021-07-11T20:09:00.285Z"
   },
   {
    "duration": 1760,
    "start_time": "2021-07-11T20:09:00.670Z"
   },
   {
    "duration": 474,
    "start_time": "2021-07-11T20:09:02.432Z"
   },
   {
    "duration": 478,
    "start_time": "2021-07-11T20:09:02.909Z"
   },
   {
    "duration": 447,
    "start_time": "2021-07-11T20:09:03.390Z"
   },
   {
    "duration": 1214,
    "start_time": "2021-07-11T20:09:03.839Z"
   },
   {
    "duration": 1342,
    "start_time": "2021-07-11T20:09:05.056Z"
   },
   {
    "duration": 4,
    "start_time": "2021-07-11T20:09:06.400Z"
   },
   {
    "duration": 35,
    "start_time": "2021-07-11T20:09:06.406Z"
   },
   {
    "duration": 52,
    "start_time": "2021-07-11T20:09:06.443Z"
   },
   {
    "duration": 595,
    "start_time": "2021-07-11T20:09:06.498Z"
   },
   {
    "duration": 411,
    "start_time": "2021-07-11T20:09:07.095Z"
   },
   {
    "duration": 4,
    "start_time": "2021-07-11T20:09:07.509Z"
   },
   {
    "duration": 7,
    "start_time": "2021-07-11T20:09:07.516Z"
   },
   {
    "duration": 43,
    "start_time": "2021-07-11T20:09:07.525Z"
   },
   {
    "duration": 6,
    "start_time": "2021-07-11T20:09:07.571Z"
   },
   {
    "duration": 7,
    "start_time": "2021-07-11T20:09:07.580Z"
   },
   {
    "duration": 12,
    "start_time": "2021-07-11T20:09:07.590Z"
   },
   {
    "duration": 116765,
    "start_time": "2021-07-11T20:09:07.604Z"
   },
   {
    "duration": 117206,
    "start_time": "2021-07-11T20:11:04.372Z"
   },
   {
    "duration": 95,
    "start_time": "2021-07-11T20:13:01.673Z"
   },
   {
    "duration": 5,
    "start_time": "2021-07-11T20:13:01.770Z"
   },
   {
    "duration": 22,
    "start_time": "2021-07-11T20:13:01.778Z"
   },
   {
    "duration": 10,
    "start_time": "2021-07-11T20:13:01.803Z"
   },
   {
    "duration": 39017,
    "start_time": "2021-07-11T20:13:01.816Z"
   },
   {
    "duration": 519,
    "start_time": "2021-07-11T20:13:40.835Z"
   },
   {
    "duration": 9,
    "start_time": "2021-07-11T20:14:49.886Z"
   },
   {
    "duration": 9,
    "start_time": "2021-07-11T20:16:29.298Z"
   },
   {
    "duration": 11,
    "start_time": "2021-07-11T20:18:27.765Z"
   },
   {
    "duration": 42655,
    "start_time": "2021-07-11T20:19:24.266Z"
   },
   {
    "duration": 19560,
    "start_time": "2021-07-11T20:20:55.963Z"
   },
   {
    "duration": 38995,
    "start_time": "2021-07-11T20:23:58.606Z"
   },
   {
    "duration": 14,
    "start_time": "2021-07-11T20:41:35.603Z"
   },
   {
    "duration": 14,
    "start_time": "2021-07-11T20:41:54.043Z"
   },
   {
    "duration": 14,
    "start_time": "2021-07-11T20:42:41.827Z"
   },
   {
    "duration": 330,
    "start_time": "2021-07-11T21:25:33.794Z"
   },
   {
    "duration": 13,
    "start_time": "2021-07-11T21:25:37.117Z"
   },
   {
    "duration": 348,
    "start_time": "2021-07-11T21:25:40.200Z"
   },
   {
    "duration": 1605,
    "start_time": "2021-07-11T21:33:08.495Z"
   },
   {
    "duration": 368,
    "start_time": "2021-07-11T21:33:10.103Z"
   },
   {
    "duration": 97,
    "start_time": "2021-07-11T21:33:10.474Z"
   },
   {
    "duration": 462,
    "start_time": "2021-07-11T21:33:10.574Z"
   },
   {
    "duration": 6,
    "start_time": "2021-07-11T21:33:11.039Z"
   },
   {
    "duration": 39,
    "start_time": "2021-07-11T21:33:11.048Z"
   },
   {
    "duration": 17,
    "start_time": "2021-07-11T21:33:11.089Z"
   },
   {
    "duration": 26,
    "start_time": "2021-07-11T21:33:11.109Z"
   },
   {
    "duration": 63,
    "start_time": "2021-07-11T21:33:11.137Z"
   },
   {
    "duration": 13,
    "start_time": "2021-07-11T21:33:11.202Z"
   },
   {
    "duration": 10,
    "start_time": "2021-07-11T21:33:11.217Z"
   },
   {
    "duration": 47,
    "start_time": "2021-07-11T21:33:11.229Z"
   },
   {
    "duration": 379,
    "start_time": "2021-07-11T21:33:11.279Z"
   },
   {
    "duration": 9,
    "start_time": "2021-07-11T21:33:11.660Z"
   },
   {
    "duration": 686,
    "start_time": "2021-07-11T21:33:11.671Z"
   },
   {
    "duration": 26,
    "start_time": "2021-07-11T21:33:12.359Z"
   },
   {
    "duration": 6,
    "start_time": "2021-07-11T21:33:12.387Z"
   },
   {
    "duration": 11,
    "start_time": "2021-07-11T21:33:12.395Z"
   },
   {
    "duration": 17,
    "start_time": "2021-07-11T21:33:12.409Z"
   },
   {
    "duration": 57,
    "start_time": "2021-07-11T21:33:12.429Z"
   },
   {
    "duration": 1154,
    "start_time": "2021-07-11T21:33:12.488Z"
   },
   {
    "duration": 834,
    "start_time": "2021-07-11T21:33:13.645Z"
   },
   {
    "duration": 383,
    "start_time": "2021-07-11T21:33:14.486Z"
   },
   {
    "duration": 1766,
    "start_time": "2021-07-11T21:33:14.872Z"
   },
   {
    "duration": 478,
    "start_time": "2021-07-11T21:33:16.640Z"
   },
   {
    "duration": 499,
    "start_time": "2021-07-11T21:33:17.120Z"
   },
   {
    "duration": 478,
    "start_time": "2021-07-11T21:33:17.622Z"
   },
   {
    "duration": 1293,
    "start_time": "2021-07-11T21:33:18.103Z"
   },
   {
    "duration": 1393,
    "start_time": "2021-07-11T21:33:19.398Z"
   },
   {
    "duration": 4,
    "start_time": "2021-07-11T21:33:20.793Z"
   },
   {
    "duration": 34,
    "start_time": "2021-07-11T21:33:20.799Z"
   },
   {
    "duration": 47,
    "start_time": "2021-07-11T21:33:20.836Z"
   },
   {
    "duration": 631,
    "start_time": "2021-07-11T21:33:20.886Z"
   },
   {
    "duration": 409,
    "start_time": "2021-07-11T21:33:21.520Z"
   },
   {
    "duration": 4,
    "start_time": "2021-07-11T21:33:21.932Z"
   },
   {
    "duration": 9,
    "start_time": "2021-07-11T21:33:21.938Z"
   },
   {
    "duration": 42,
    "start_time": "2021-07-11T21:33:21.949Z"
   },
   {
    "duration": 3,
    "start_time": "2021-07-11T21:33:21.994Z"
   },
   {
    "duration": 8,
    "start_time": "2021-07-11T21:33:22.000Z"
   },
   {
    "duration": 12,
    "start_time": "2021-07-11T21:33:22.010Z"
   },
   {
    "duration": 121956,
    "start_time": "2021-07-11T21:33:22.024Z"
   },
   {
    "duration": 120990,
    "start_time": "2021-07-11T21:35:23.983Z"
   },
   {
    "duration": 92,
    "start_time": "2021-07-11T21:37:24.977Z"
   },
   {
    "duration": 17,
    "start_time": "2021-07-11T21:37:25.071Z"
   },
   {
    "duration": 77,
    "start_time": "2021-07-11T21:37:25.090Z"
   },
   {
    "duration": 7,
    "start_time": "2021-07-11T21:37:25.170Z"
   },
   {
    "duration": 40342,
    "start_time": "2021-07-11T21:37:25.180Z"
   },
   {
    "duration": 19931,
    "start_time": "2021-07-11T21:38:05.524Z"
   },
   {
    "duration": 18,
    "start_time": "2021-07-11T21:38:25.458Z"
   },
   {
    "duration": 1581,
    "start_time": "2021-07-11T21:53:05.709Z"
   },
   {
    "duration": 355,
    "start_time": "2021-07-11T21:53:07.293Z"
   },
   {
    "duration": 98,
    "start_time": "2021-07-11T21:53:07.651Z"
   },
   {
    "duration": 458,
    "start_time": "2021-07-11T21:53:07.752Z"
   },
   {
    "duration": 5,
    "start_time": "2021-07-11T21:53:08.212Z"
   },
   {
    "duration": 27,
    "start_time": "2021-07-11T21:53:08.219Z"
   },
   {
    "duration": 32,
    "start_time": "2021-07-11T21:53:08.248Z"
   },
   {
    "duration": 24,
    "start_time": "2021-07-11T21:53:08.283Z"
   },
   {
    "duration": 63,
    "start_time": "2021-07-11T21:53:08.311Z"
   },
   {
    "duration": 13,
    "start_time": "2021-07-11T21:53:08.377Z"
   },
   {
    "duration": 9,
    "start_time": "2021-07-11T21:53:08.393Z"
   },
   {
    "duration": 15,
    "start_time": "2021-07-11T21:53:08.405Z"
   },
   {
    "duration": 405,
    "start_time": "2021-07-11T21:53:08.422Z"
   },
   {
    "duration": 4,
    "start_time": "2021-07-11T21:53:08.829Z"
   },
   {
    "duration": 670,
    "start_time": "2021-07-11T21:53:08.835Z"
   },
   {
    "duration": 22,
    "start_time": "2021-07-11T21:53:09.508Z"
   },
   {
    "duration": 6,
    "start_time": "2021-07-11T21:53:09.532Z"
   },
   {
    "duration": 32,
    "start_time": "2021-07-11T21:53:09.541Z"
   },
   {
    "duration": 20,
    "start_time": "2021-07-11T21:53:09.576Z"
   },
   {
    "duration": 23,
    "start_time": "2021-07-11T21:53:09.598Z"
   },
   {
    "duration": 1169,
    "start_time": "2021-07-11T21:53:09.623Z"
   },
   {
    "duration": 946,
    "start_time": "2021-07-11T21:53:10.795Z"
   },
   {
    "duration": 3,
    "start_time": "2021-07-11T21:53:11.744Z"
   },
   {
    "duration": 1749,
    "start_time": "2021-07-11T21:53:11.749Z"
   },
   {
    "duration": 480,
    "start_time": "2021-07-11T21:53:13.500Z"
   },
   {
    "duration": 491,
    "start_time": "2021-07-11T21:53:13.983Z"
   },
   {
    "duration": 467,
    "start_time": "2021-07-11T21:53:14.479Z"
   },
   {
    "duration": 1205,
    "start_time": "2021-07-11T21:53:14.950Z"
   },
   {
    "duration": 1403,
    "start_time": "2021-07-11T21:53:16.157Z"
   },
   {
    "duration": 4,
    "start_time": "2021-07-11T21:53:17.563Z"
   },
   {
    "duration": 36,
    "start_time": "2021-07-11T21:53:17.569Z"
   },
   {
    "duration": 30,
    "start_time": "2021-07-11T21:53:17.607Z"
   },
   {
    "duration": 576,
    "start_time": "2021-07-11T21:53:17.667Z"
   },
   {
    "duration": 395,
    "start_time": "2021-07-11T21:53:18.245Z"
   },
   {
    "duration": 4,
    "start_time": "2021-07-11T21:53:18.643Z"
   },
   {
    "duration": 9,
    "start_time": "2021-07-11T21:53:18.649Z"
   },
   {
    "duration": 27,
    "start_time": "2021-07-11T21:53:18.667Z"
   },
   {
    "duration": 3,
    "start_time": "2021-07-11T21:53:18.696Z"
   },
   {
    "duration": 7,
    "start_time": "2021-07-11T21:53:18.702Z"
   },
   {
    "duration": 11,
    "start_time": "2021-07-11T21:53:18.711Z"
   },
   {
    "duration": 132553,
    "start_time": "2021-07-11T21:53:18.724Z"
   },
   {
    "duration": 132486,
    "start_time": "2021-07-11T21:55:31.281Z"
   },
   {
    "duration": 93,
    "start_time": "2021-07-11T21:57:43.776Z"
   },
   {
    "duration": 7,
    "start_time": "2021-07-11T21:57:43.872Z"
   },
   {
    "duration": 18,
    "start_time": "2021-07-11T21:57:43.881Z"
   },
   {
    "duration": 6,
    "start_time": "2021-07-11T21:57:43.902Z"
   },
   {
    "duration": 45239,
    "start_time": "2021-07-11T21:57:43.911Z"
   },
   {
    "duration": 25,
    "start_time": "2021-07-11T21:58:29.152Z"
   },
   {
    "duration": 391,
    "start_time": "2021-07-11T22:19:05.602Z"
   },
   {
    "duration": 1641,
    "start_time": "2021-07-11T22:19:13.262Z"
   },
   {
    "duration": 368,
    "start_time": "2021-07-11T22:19:14.906Z"
   },
   {
    "duration": 97,
    "start_time": "2021-07-11T22:19:15.277Z"
   },
   {
    "duration": 621,
    "start_time": "2021-07-11T22:19:15.377Z"
   },
   {
    "duration": 6,
    "start_time": "2021-07-11T22:19:16.001Z"
   },
   {
    "duration": 32,
    "start_time": "2021-07-11T22:19:16.009Z"
   },
   {
    "duration": 36,
    "start_time": "2021-07-11T22:19:16.044Z"
   },
   {
    "duration": 25,
    "start_time": "2021-07-11T22:19:16.082Z"
   },
   {
    "duration": 69,
    "start_time": "2021-07-11T22:19:16.111Z"
   },
   {
    "duration": 13,
    "start_time": "2021-07-11T22:19:16.183Z"
   },
   {
    "duration": 12,
    "start_time": "2021-07-11T22:19:16.199Z"
   },
   {
    "duration": 14,
    "start_time": "2021-07-11T22:19:16.214Z"
   },
   {
    "duration": 396,
    "start_time": "2021-07-11T22:19:16.230Z"
   },
   {
    "duration": 4,
    "start_time": "2021-07-11T22:19:16.628Z"
   },
   {
    "duration": 703,
    "start_time": "2021-07-11T22:19:16.634Z"
   },
   {
    "duration": 30,
    "start_time": "2021-07-11T22:19:17.339Z"
   },
   {
    "duration": 6,
    "start_time": "2021-07-11T22:19:17.372Z"
   },
   {
    "duration": 10,
    "start_time": "2021-07-11T22:19:17.381Z"
   },
   {
    "duration": 20,
    "start_time": "2021-07-11T22:19:17.394Z"
   },
   {
    "duration": 59,
    "start_time": "2021-07-11T22:19:17.416Z"
   },
   {
    "duration": 1132,
    "start_time": "2021-07-11T22:19:17.477Z"
   },
   {
    "duration": 882,
    "start_time": "2021-07-11T22:19:18.616Z"
   },
   {
    "duration": 383,
    "start_time": "2021-07-11T22:19:19.501Z"
   },
   {
    "duration": 1713,
    "start_time": "2021-07-11T22:19:19.887Z"
   },
   {
    "duration": 461,
    "start_time": "2021-07-11T22:19:21.602Z"
   },
   {
    "duration": 482,
    "start_time": "2021-07-11T22:19:22.068Z"
   },
   {
    "duration": 441,
    "start_time": "2021-07-11T22:19:22.555Z"
   },
   {
    "duration": 1192,
    "start_time": "2021-07-11T22:19:22.999Z"
   },
   {
    "duration": 1348,
    "start_time": "2021-07-11T22:19:24.193Z"
   },
   {
    "duration": 3,
    "start_time": "2021-07-11T22:19:25.544Z"
   },
   {
    "duration": 52,
    "start_time": "2021-07-11T22:19:25.550Z"
   },
   {
    "duration": 28,
    "start_time": "2021-07-11T22:19:25.605Z"
   },
   {
    "duration": 591,
    "start_time": "2021-07-11T22:19:25.636Z"
   },
   {
    "duration": 394,
    "start_time": "2021-07-11T22:19:26.230Z"
   },
   {
    "duration": 4,
    "start_time": "2021-07-11T22:19:26.626Z"
   },
   {
    "duration": 13,
    "start_time": "2021-07-11T22:19:26.632Z"
   },
   {
    "duration": 42,
    "start_time": "2021-07-11T22:19:26.647Z"
   },
   {
    "duration": 3,
    "start_time": "2021-07-11T22:19:26.692Z"
   },
   {
    "duration": 13,
    "start_time": "2021-07-11T22:19:26.697Z"
   },
   {
    "duration": 25,
    "start_time": "2021-07-11T22:19:26.712Z"
   },
   {
    "duration": 120037,
    "start_time": "2021-07-11T22:19:26.740Z"
   },
   {
    "duration": 121986,
    "start_time": "2021-07-11T22:21:26.780Z"
   },
   {
    "duration": 7,
    "start_time": "2021-07-11T22:23:28.770Z"
   },
   {
    "duration": 7,
    "start_time": "2021-07-11T22:23:28.869Z"
   },
   {
    "duration": 17,
    "start_time": "2021-07-11T22:23:28.879Z"
   },
   {
    "duration": 7,
    "start_time": "2021-07-11T22:23:28.899Z"
   },
   {
    "duration": 40777,
    "start_time": "2021-07-11T22:23:28.909Z"
   },
   {
    "duration": 13,
    "start_time": "2021-07-11T22:24:09.689Z"
   },
   {
    "duration": 14,
    "start_time": "2021-07-11T22:28:33.214Z"
   },
   {
    "duration": 14,
    "start_time": "2021-07-11T22:28:34.875Z"
   },
   {
    "duration": 13,
    "start_time": "2021-07-11T22:28:37.924Z"
   },
   {
    "duration": 1609,
    "start_time": "2021-07-11T22:33:26.730Z"
   },
   {
    "duration": 453,
    "start_time": "2021-07-11T22:33:28.342Z"
   },
   {
    "duration": 96,
    "start_time": "2021-07-11T22:33:28.797Z"
   },
   {
    "duration": 453,
    "start_time": "2021-07-11T22:33:28.896Z"
   },
   {
    "duration": 5,
    "start_time": "2021-07-11T22:33:29.351Z"
   },
   {
    "duration": 38,
    "start_time": "2021-07-11T22:33:29.359Z"
   },
   {
    "duration": 15,
    "start_time": "2021-07-11T22:33:29.400Z"
   },
   {
    "duration": 51,
    "start_time": "2021-07-11T22:33:29.418Z"
   },
   {
    "duration": 36,
    "start_time": "2021-07-11T22:33:29.473Z"
   },
   {
    "duration": 13,
    "start_time": "2021-07-11T22:33:29.512Z"
   },
   {
    "duration": 40,
    "start_time": "2021-07-11T22:33:29.528Z"
   },
   {
    "duration": 15,
    "start_time": "2021-07-11T22:33:29.571Z"
   },
   {
    "duration": 379,
    "start_time": "2021-07-11T22:33:29.589Z"
   },
   {
    "duration": 5,
    "start_time": "2021-07-11T22:33:29.971Z"
   },
   {
    "duration": 677,
    "start_time": "2021-07-11T22:33:29.978Z"
   },
   {
    "duration": 25,
    "start_time": "2021-07-11T22:33:30.657Z"
   },
   {
    "duration": 7,
    "start_time": "2021-07-11T22:33:30.684Z"
   },
   {
    "duration": 23,
    "start_time": "2021-07-11T22:33:30.694Z"
   },
   {
    "duration": 29,
    "start_time": "2021-07-11T22:33:30.720Z"
   },
   {
    "duration": 46,
    "start_time": "2021-07-11T22:33:30.751Z"
   },
   {
    "duration": 1107,
    "start_time": "2021-07-11T22:33:30.799Z"
   },
   {
    "duration": 844,
    "start_time": "2021-07-11T22:33:31.910Z"
   },
   {
    "duration": 370,
    "start_time": "2021-07-11T22:33:32.756Z"
   },
   {
    "duration": 1727,
    "start_time": "2021-07-11T22:33:33.128Z"
   },
   {
    "duration": 468,
    "start_time": "2021-07-11T22:33:34.858Z"
   },
   {
    "duration": 490,
    "start_time": "2021-07-11T22:33:35.329Z"
   },
   {
    "duration": 451,
    "start_time": "2021-07-11T22:33:35.826Z"
   },
   {
    "duration": 1218,
    "start_time": "2021-07-11T22:33:36.282Z"
   },
   {
    "duration": 1329,
    "start_time": "2021-07-11T22:33:37.503Z"
   },
   {
    "duration": 3,
    "start_time": "2021-07-11T22:33:38.835Z"
   },
   {
    "duration": 53,
    "start_time": "2021-07-11T22:33:38.841Z"
   },
   {
    "duration": 31,
    "start_time": "2021-07-11T22:33:38.896Z"
   },
   {
    "duration": 598,
    "start_time": "2021-07-11T22:33:38.930Z"
   },
   {
    "duration": 412,
    "start_time": "2021-07-11T22:33:39.530Z"
   },
   {
    "duration": 4,
    "start_time": "2021-07-11T22:33:39.944Z"
   },
   {
    "duration": 16,
    "start_time": "2021-07-11T22:33:39.951Z"
   },
   {
    "duration": 23,
    "start_time": "2021-07-11T22:33:39.970Z"
   },
   {
    "duration": 4,
    "start_time": "2021-07-11T22:33:39.996Z"
   },
   {
    "duration": 7,
    "start_time": "2021-07-11T22:33:40.003Z"
   },
   {
    "duration": 16,
    "start_time": "2021-07-11T22:33:40.013Z"
   },
   {
    "duration": 120340,
    "start_time": "2021-07-11T22:33:40.032Z"
   },
   {
    "duration": 122400,
    "start_time": "2021-07-11T22:35:40.376Z"
   },
   {
    "duration": 95,
    "start_time": "2021-07-11T22:37:42.873Z"
   },
   {
    "duration": 5,
    "start_time": "2021-07-11T22:37:42.971Z"
   },
   {
    "duration": 16,
    "start_time": "2021-07-11T22:37:42.978Z"
   },
   {
    "duration": 6,
    "start_time": "2021-07-11T22:37:42.997Z"
   },
   {
    "duration": 40719,
    "start_time": "2021-07-11T22:37:43.006Z"
   },
   {
    "duration": 13,
    "start_time": "2021-07-11T22:38:23.728Z"
   },
   {
    "duration": 1634,
    "start_time": "2021-07-11T22:40:22.360Z"
   },
   {
    "duration": 372,
    "start_time": "2021-07-11T22:40:23.997Z"
   },
   {
    "duration": 107,
    "start_time": "2021-07-11T22:40:24.375Z"
   },
   {
    "duration": 466,
    "start_time": "2021-07-11T22:40:24.484Z"
   },
   {
    "duration": 5,
    "start_time": "2021-07-11T22:40:24.953Z"
   },
   {
    "duration": 24,
    "start_time": "2021-07-11T22:40:24.967Z"
   },
   {
    "duration": 16,
    "start_time": "2021-07-11T22:40:24.995Z"
   },
   {
    "duration": 56,
    "start_time": "2021-07-11T22:40:25.015Z"
   },
   {
    "duration": 36,
    "start_time": "2021-07-11T22:40:25.073Z"
   },
   {
    "duration": 14,
    "start_time": "2021-07-11T22:40:25.112Z"
   },
   {
    "duration": 47,
    "start_time": "2021-07-11T22:40:25.128Z"
   },
   {
    "duration": 16,
    "start_time": "2021-07-11T22:40:25.177Z"
   },
   {
    "duration": 377,
    "start_time": "2021-07-11T22:40:25.196Z"
   },
   {
    "duration": 4,
    "start_time": "2021-07-11T22:40:25.575Z"
   },
   {
    "duration": 656,
    "start_time": "2021-07-11T22:40:25.581Z"
   },
   {
    "duration": 30,
    "start_time": "2021-07-11T22:40:26.240Z"
   },
   {
    "duration": 6,
    "start_time": "2021-07-11T22:40:26.273Z"
   },
   {
    "duration": 11,
    "start_time": "2021-07-11T22:40:26.281Z"
   },
   {
    "duration": 16,
    "start_time": "2021-07-11T22:40:26.294Z"
   },
   {
    "duration": 57,
    "start_time": "2021-07-11T22:40:26.313Z"
   },
   {
    "duration": 1125,
    "start_time": "2021-07-11T22:40:26.372Z"
   },
   {
    "duration": 851,
    "start_time": "2021-07-11T22:40:27.502Z"
   },
   {
    "duration": 376,
    "start_time": "2021-07-11T22:40:28.356Z"
   },
   {
    "duration": 1781,
    "start_time": "2021-07-11T22:40:28.734Z"
   },
   {
    "duration": 482,
    "start_time": "2021-07-11T22:40:30.518Z"
   },
   {
    "duration": 529,
    "start_time": "2021-07-11T22:40:31.003Z"
   },
   {
    "duration": 481,
    "start_time": "2021-07-11T22:40:31.535Z"
   },
   {
    "duration": 1264,
    "start_time": "2021-07-11T22:40:32.018Z"
   },
   {
    "duration": 1407,
    "start_time": "2021-07-11T22:40:33.284Z"
   },
   {
    "duration": 5,
    "start_time": "2021-07-11T22:40:34.694Z"
   },
   {
    "duration": 62,
    "start_time": "2021-07-11T22:40:34.702Z"
   },
   {
    "duration": 28,
    "start_time": "2021-07-11T22:40:34.766Z"
   },
   {
    "duration": 597,
    "start_time": "2021-07-11T22:40:34.796Z"
   },
   {
    "duration": 394,
    "start_time": "2021-07-11T22:40:35.396Z"
   },
   {
    "duration": 5,
    "start_time": "2021-07-11T22:40:35.794Z"
   },
   {
    "duration": 27,
    "start_time": "2021-07-11T22:40:35.802Z"
   },
   {
    "duration": 37,
    "start_time": "2021-07-11T22:40:35.832Z"
   },
   {
    "duration": 4,
    "start_time": "2021-07-11T22:40:35.871Z"
   },
   {
    "duration": 25,
    "start_time": "2021-07-11T22:40:35.877Z"
   },
   {
    "duration": 25,
    "start_time": "2021-07-11T22:40:35.905Z"
   },
   {
    "duration": 120937,
    "start_time": "2021-07-11T22:40:35.932Z"
   },
   {
    "duration": 95,
    "start_time": "2021-07-11T22:42:36.873Z"
   },
   {
    "duration": 26110,
    "start_time": "2021-07-11T22:42:36.971Z"
   },
   {
    "duration": -531,
    "start_time": "2021-07-11T22:43:03.616Z"
   },
   {
    "duration": -536,
    "start_time": "2021-07-11T22:43:03.623Z"
   },
   {
    "duration": -539,
    "start_time": "2021-07-11T22:43:03.628Z"
   },
   {
    "duration": -542,
    "start_time": "2021-07-11T22:43:03.633Z"
   },
   {
    "duration": -548,
    "start_time": "2021-07-11T22:43:03.641Z"
   },
   {
    "duration": -551,
    "start_time": "2021-07-11T22:43:03.647Z"
   },
   {
    "duration": -553,
    "start_time": "2021-07-11T22:43:03.651Z"
   },
   {
    "duration": 1661,
    "start_time": "2021-07-11T22:43:07.240Z"
   },
   {
    "duration": 367,
    "start_time": "2021-07-11T22:43:08.904Z"
   },
   {
    "duration": 97,
    "start_time": "2021-07-11T22:43:09.274Z"
   },
   {
    "duration": 480,
    "start_time": "2021-07-11T22:43:09.374Z"
   },
   {
    "duration": 13,
    "start_time": "2021-07-11T22:43:09.856Z"
   },
   {
    "duration": 33,
    "start_time": "2021-07-11T22:43:09.872Z"
   },
   {
    "duration": 16,
    "start_time": "2021-07-11T22:43:09.907Z"
   },
   {
    "duration": 52,
    "start_time": "2021-07-11T22:43:09.927Z"
   },
   {
    "duration": 35,
    "start_time": "2021-07-11T22:43:09.982Z"
   },
   {
    "duration": 21,
    "start_time": "2021-07-11T22:43:10.019Z"
   },
   {
    "duration": 33,
    "start_time": "2021-07-11T22:43:10.042Z"
   },
   {
    "duration": 18,
    "start_time": "2021-07-11T22:43:10.077Z"
   },
   {
    "duration": 392,
    "start_time": "2021-07-11T22:43:10.097Z"
   },
   {
    "duration": 4,
    "start_time": "2021-07-11T22:43:10.491Z"
   },
   {
    "duration": 674,
    "start_time": "2021-07-11T22:43:10.497Z"
   },
   {
    "duration": 22,
    "start_time": "2021-07-11T22:43:11.174Z"
   },
   {
    "duration": 5,
    "start_time": "2021-07-11T22:43:11.199Z"
   },
   {
    "duration": 10,
    "start_time": "2021-07-11T22:43:11.207Z"
   },
   {
    "duration": 50,
    "start_time": "2021-07-11T22:43:11.219Z"
   },
   {
    "duration": 21,
    "start_time": "2021-07-11T22:43:11.272Z"
   },
   {
    "duration": 1149,
    "start_time": "2021-07-11T22:43:11.295Z"
   },
   {
    "duration": 853,
    "start_time": "2021-07-11T22:43:12.447Z"
   },
   {
    "duration": 377,
    "start_time": "2021-07-11T22:43:13.305Z"
   },
   {
    "duration": 1775,
    "start_time": "2021-07-11T22:43:13.685Z"
   },
   {
    "duration": 483,
    "start_time": "2021-07-11T22:43:15.467Z"
   },
   {
    "duration": 505,
    "start_time": "2021-07-11T22:43:15.952Z"
   },
   {
    "duration": 458,
    "start_time": "2021-07-11T22:43:16.459Z"
   },
   {
    "duration": 1216,
    "start_time": "2021-07-11T22:43:16.920Z"
   },
   {
    "duration": 1338,
    "start_time": "2021-07-11T22:43:18.139Z"
   },
   {
    "duration": 3,
    "start_time": "2021-07-11T22:43:19.479Z"
   },
   {
    "duration": 43,
    "start_time": "2021-07-11T22:43:19.485Z"
   },
   {
    "duration": 48,
    "start_time": "2021-07-11T22:43:19.530Z"
   },
   {
    "duration": 604,
    "start_time": "2021-07-11T22:43:19.581Z"
   },
   {
    "duration": 401,
    "start_time": "2021-07-11T22:43:20.187Z"
   },
   {
    "duration": 5,
    "start_time": "2021-07-11T22:43:20.591Z"
   },
   {
    "duration": 20,
    "start_time": "2021-07-11T22:43:20.598Z"
   },
   {
    "duration": 38,
    "start_time": "2021-07-11T22:43:20.621Z"
   },
   {
    "duration": 3,
    "start_time": "2021-07-11T22:43:20.661Z"
   },
   {
    "duration": 5,
    "start_time": "2021-07-11T22:43:20.666Z"
   },
   {
    "duration": 24,
    "start_time": "2021-07-11T22:43:20.673Z"
   },
   {
    "duration": 109221,
    "start_time": "2021-07-11T22:43:20.700Z"
   },
   {
    "duration": -511,
    "start_time": "2021-07-11T22:45:10.436Z"
   },
   {
    "duration": -514,
    "start_time": "2021-07-11T22:45:10.441Z"
   },
   {
    "duration": -518,
    "start_time": "2021-07-11T22:45:10.447Z"
   },
   {
    "duration": -520,
    "start_time": "2021-07-11T22:45:10.451Z"
   },
   {
    "duration": -523,
    "start_time": "2021-07-11T22:45:10.456Z"
   },
   {
    "duration": -525,
    "start_time": "2021-07-11T22:45:10.460Z"
   },
   {
    "duration": -527,
    "start_time": "2021-07-11T22:45:10.465Z"
   },
   {
    "duration": -529,
    "start_time": "2021-07-11T22:45:10.469Z"
   },
   {
    "duration": -531,
    "start_time": "2021-07-11T22:45:10.473Z"
   },
   {
    "duration": 1599,
    "start_time": "2021-07-11T22:45:22.443Z"
   },
   {
    "duration": 355,
    "start_time": "2021-07-11T22:45:24.044Z"
   },
   {
    "duration": 101,
    "start_time": "2021-07-11T22:45:24.402Z"
   },
   {
    "duration": 455,
    "start_time": "2021-07-11T22:45:24.506Z"
   },
   {
    "duration": 6,
    "start_time": "2021-07-11T22:45:24.963Z"
   },
   {
    "duration": 33,
    "start_time": "2021-07-11T22:45:24.971Z"
   },
   {
    "duration": 15,
    "start_time": "2021-07-11T22:45:25.006Z"
   },
   {
    "duration": 57,
    "start_time": "2021-07-11T22:45:25.025Z"
   },
   {
    "duration": 34,
    "start_time": "2021-07-11T22:45:25.085Z"
   },
   {
    "duration": 14,
    "start_time": "2021-07-11T22:45:25.121Z"
   },
   {
    "duration": 39,
    "start_time": "2021-07-11T22:45:25.138Z"
   },
   {
    "duration": 21,
    "start_time": "2021-07-11T22:45:25.180Z"
   },
   {
    "duration": 399,
    "start_time": "2021-07-11T22:45:25.204Z"
   },
   {
    "duration": 4,
    "start_time": "2021-07-11T22:45:25.605Z"
   },
   {
    "duration": 878,
    "start_time": "2021-07-11T22:45:25.612Z"
   },
   {
    "duration": 24,
    "start_time": "2021-07-11T22:45:26.493Z"
   },
   {
    "duration": 7,
    "start_time": "2021-07-11T22:45:26.519Z"
   },
   {
    "duration": 39,
    "start_time": "2021-07-11T22:45:26.529Z"
   },
   {
    "duration": 17,
    "start_time": "2021-07-11T22:45:26.571Z"
   },
   {
    "duration": 21,
    "start_time": "2021-07-11T22:45:26.591Z"
   },
   {
    "duration": 1127,
    "start_time": "2021-07-11T22:45:26.614Z"
   },
   {
    "duration": 1345,
    "start_time": "2021-07-11T22:45:27.744Z"
   },
   {
    "duration": 373,
    "start_time": "2021-07-11T22:45:29.096Z"
   },
   {
    "duration": 1898,
    "start_time": "2021-07-11T22:45:29.472Z"
   },
   {
    "duration": 495,
    "start_time": "2021-07-11T22:45:31.372Z"
   },
   {
    "duration": 473,
    "start_time": "2021-07-11T22:45:31.869Z"
   },
   {
    "duration": 439,
    "start_time": "2021-07-11T22:45:32.345Z"
   },
   {
    "duration": 1301,
    "start_time": "2021-07-11T22:45:32.787Z"
   },
   {
    "duration": 1339,
    "start_time": "2021-07-11T22:45:34.091Z"
   },
   {
    "duration": 4,
    "start_time": "2021-07-11T22:45:35.432Z"
   },
   {
    "duration": 46,
    "start_time": "2021-07-11T22:45:35.439Z"
   },
   {
    "duration": 32,
    "start_time": "2021-07-11T22:45:35.487Z"
   },
   {
    "duration": 605,
    "start_time": "2021-07-11T22:45:35.522Z"
   },
   {
    "duration": 400,
    "start_time": "2021-07-11T22:45:36.130Z"
   },
   {
    "duration": 4,
    "start_time": "2021-07-11T22:45:36.533Z"
   },
   {
    "duration": 7,
    "start_time": "2021-07-11T22:45:36.539Z"
   },
   {
    "duration": 40,
    "start_time": "2021-07-11T22:45:36.548Z"
   },
   {
    "duration": 3,
    "start_time": "2021-07-11T22:45:36.591Z"
   },
   {
    "duration": 7,
    "start_time": "2021-07-11T22:45:36.596Z"
   },
   {
    "duration": 10,
    "start_time": "2021-07-11T22:45:36.605Z"
   },
   {
    "duration": 121455,
    "start_time": "2021-07-11T22:45:36.618Z"
   },
   {
    "duration": 94,
    "start_time": "2021-07-11T22:47:38.076Z"
   },
   {
    "duration": 120698,
    "start_time": "2021-07-11T22:47:38.174Z"
   },
   {
    "duration": 92,
    "start_time": "2021-07-11T22:49:38.875Z"
   },
   {
    "duration": 6,
    "start_time": "2021-07-11T22:49:38.970Z"
   },
   {
    "duration": 6,
    "start_time": "2021-07-11T22:49:38.979Z"
   },
   {
    "duration": 80,
    "start_time": "2021-07-11T22:49:38.987Z"
   },
   {
    "duration": 7,
    "start_time": "2021-07-11T22:49:39.070Z"
   },
   {
    "duration": 40906,
    "start_time": "2021-07-11T22:49:39.079Z"
   },
   {
    "duration": 14,
    "start_time": "2021-07-11T22:50:19.987Z"
   },
   {
    "duration": 5,
    "start_time": "2021-07-11T23:16:51.295Z"
   },
   {
    "duration": 41203,
    "start_time": "2021-07-11T23:18:09.493Z"
   },
   {
    "duration": 1568,
    "start_time": "2021-07-11T23:21:37.441Z"
   },
   {
    "duration": 357,
    "start_time": "2021-07-11T23:21:39.011Z"
   },
   {
    "duration": 97,
    "start_time": "2021-07-11T23:21:39.371Z"
   },
   {
    "duration": 474,
    "start_time": "2021-07-11T23:21:39.471Z"
   },
   {
    "duration": 4,
    "start_time": "2021-07-11T23:21:39.948Z"
   },
   {
    "duration": 35,
    "start_time": "2021-07-11T23:21:39.954Z"
   },
   {
    "duration": 15,
    "start_time": "2021-07-11T23:21:39.992Z"
   },
   {
    "duration": 56,
    "start_time": "2021-07-11T23:21:40.011Z"
   },
   {
    "duration": 35,
    "start_time": "2021-07-11T23:21:40.071Z"
   },
   {
    "duration": 18,
    "start_time": "2021-07-11T23:21:40.108Z"
   },
   {
    "duration": 10,
    "start_time": "2021-07-11T23:21:40.129Z"
   },
   {
    "duration": 17,
    "start_time": "2021-07-11T23:21:40.166Z"
   },
   {
    "duration": 392,
    "start_time": "2021-07-11T23:21:40.185Z"
   },
   {
    "duration": 5,
    "start_time": "2021-07-11T23:21:40.579Z"
   },
   {
    "duration": 770,
    "start_time": "2021-07-11T23:21:40.587Z"
   },
   {
    "duration": 21,
    "start_time": "2021-07-11T23:21:41.360Z"
   },
   {
    "duration": 5,
    "start_time": "2021-07-11T23:21:41.384Z"
   },
   {
    "duration": 8,
    "start_time": "2021-07-11T23:21:41.392Z"
   },
   {
    "duration": 18,
    "start_time": "2021-07-11T23:21:41.402Z"
   },
   {
    "duration": 61,
    "start_time": "2021-07-11T23:21:41.423Z"
   },
   {
    "duration": 1135,
    "start_time": "2021-07-11T23:21:41.487Z"
   },
   {
    "duration": 859,
    "start_time": "2021-07-11T23:21:42.624Z"
   },
   {
    "duration": 379,
    "start_time": "2021-07-11T23:21:43.488Z"
   },
   {
    "duration": 1780,
    "start_time": "2021-07-11T23:21:43.870Z"
   },
   {
    "duration": 471,
    "start_time": "2021-07-11T23:21:45.652Z"
   },
   {
    "duration": 491,
    "start_time": "2021-07-11T23:21:46.126Z"
   },
   {
    "duration": 472,
    "start_time": "2021-07-11T23:21:46.620Z"
   },
   {
    "duration": 1250,
    "start_time": "2021-07-11T23:21:47.094Z"
   },
   {
    "duration": 1380,
    "start_time": "2021-07-11T23:21:48.346Z"
   },
   {
    "duration": 4,
    "start_time": "2021-07-11T23:21:49.729Z"
   },
   {
    "duration": 48,
    "start_time": "2021-07-11T23:21:49.735Z"
   },
   {
    "duration": 33,
    "start_time": "2021-07-11T23:21:49.786Z"
   },
   {
    "duration": 612,
    "start_time": "2021-07-11T23:21:49.822Z"
   },
   {
    "duration": 410,
    "start_time": "2021-07-11T23:21:50.437Z"
   },
   {
    "duration": 17,
    "start_time": "2021-07-11T23:21:50.851Z"
   },
   {
    "duration": 7,
    "start_time": "2021-07-11T23:21:50.872Z"
   },
   {
    "duration": 28,
    "start_time": "2021-07-11T23:21:50.881Z"
   },
   {
    "duration": 5,
    "start_time": "2021-07-11T23:21:50.912Z"
   },
   {
    "duration": 7,
    "start_time": "2021-07-11T23:21:50.920Z"
   },
   {
    "duration": 7,
    "start_time": "2021-07-11T23:21:50.969Z"
   },
   {
    "duration": 119790,
    "start_time": "2021-07-11T23:21:50.979Z"
   },
   {
    "duration": 94,
    "start_time": "2021-07-11T23:23:50.773Z"
   },
   {
    "duration": 83523,
    "start_time": "2021-07-11T23:23:50.870Z"
   },
   {
    "duration": -587,
    "start_time": "2021-07-11T23:25:14.983Z"
   },
   {
    "duration": -592,
    "start_time": "2021-07-11T23:25:14.989Z"
   },
   {
    "duration": -595,
    "start_time": "2021-07-11T23:25:14.994Z"
   },
   {
    "duration": -598,
    "start_time": "2021-07-11T23:25:14.998Z"
   },
   {
    "duration": -602,
    "start_time": "2021-07-11T23:25:15.004Z"
   },
   {
    "duration": -605,
    "start_time": "2021-07-11T23:25:15.008Z"
   },
   {
    "duration": -608,
    "start_time": "2021-07-11T23:25:15.013Z"
   },
   {
    "duration": 1661,
    "start_time": "2021-07-11T23:26:33.837Z"
   },
   {
    "duration": 361,
    "start_time": "2021-07-11T23:26:35.501Z"
   },
   {
    "duration": 102,
    "start_time": "2021-07-11T23:26:35.869Z"
   },
   {
    "duration": 461,
    "start_time": "2021-07-11T23:26:35.974Z"
   },
   {
    "duration": 5,
    "start_time": "2021-07-11T23:26:36.438Z"
   },
   {
    "duration": 39,
    "start_time": "2021-07-11T23:26:36.446Z"
   },
   {
    "duration": 16,
    "start_time": "2021-07-11T23:26:36.488Z"
   },
   {
    "duration": 28,
    "start_time": "2021-07-11T23:26:36.508Z"
   },
   {
    "duration": 61,
    "start_time": "2021-07-11T23:26:36.539Z"
   },
   {
    "duration": 14,
    "start_time": "2021-07-11T23:26:36.603Z"
   },
   {
    "duration": 11,
    "start_time": "2021-07-11T23:26:36.620Z"
   },
   {
    "duration": 17,
    "start_time": "2021-07-11T23:26:36.668Z"
   },
   {
    "duration": 385,
    "start_time": "2021-07-11T23:26:36.687Z"
   },
   {
    "duration": 5,
    "start_time": "2021-07-11T23:26:37.074Z"
   },
   {
    "duration": 680,
    "start_time": "2021-07-11T23:26:37.081Z"
   },
   {
    "duration": 23,
    "start_time": "2021-07-11T23:26:37.767Z"
   },
   {
    "duration": 7,
    "start_time": "2021-07-11T23:26:37.792Z"
   },
   {
    "duration": 8,
    "start_time": "2021-07-11T23:26:37.801Z"
   },
   {
    "duration": 56,
    "start_time": "2021-07-11T23:26:37.811Z"
   },
   {
    "duration": 19,
    "start_time": "2021-07-11T23:26:37.870Z"
   },
   {
    "duration": 1135,
    "start_time": "2021-07-11T23:26:37.892Z"
   },
   {
    "duration": 828,
    "start_time": "2021-07-11T23:26:39.030Z"
   },
   {
    "duration": 376,
    "start_time": "2021-07-11T23:26:39.861Z"
   },
   {
    "duration": 1744,
    "start_time": "2021-07-11T23:26:40.240Z"
   },
   {
    "duration": 485,
    "start_time": "2021-07-11T23:26:41.987Z"
   },
   {
    "duration": 479,
    "start_time": "2021-07-11T23:26:42.478Z"
   },
   {
    "duration": 449,
    "start_time": "2021-07-11T23:26:42.960Z"
   },
   {
    "duration": 1217,
    "start_time": "2021-07-11T23:26:43.412Z"
   },
   {
    "duration": 1316,
    "start_time": "2021-07-11T23:26:44.631Z"
   },
   {
    "duration": 4,
    "start_time": "2021-07-11T23:26:45.949Z"
   },
   {
    "duration": 31,
    "start_time": "2021-07-11T23:26:45.967Z"
   },
   {
    "duration": 31,
    "start_time": "2021-07-11T23:26:46.000Z"
   },
   {
    "duration": 609,
    "start_time": "2021-07-11T23:26:46.033Z"
   },
   {
    "duration": 407,
    "start_time": "2021-07-11T23:26:46.645Z"
   },
   {
    "duration": 13,
    "start_time": "2021-07-11T23:26:47.055Z"
   },
   {
    "duration": 7,
    "start_time": "2021-07-11T23:26:47.070Z"
   },
   {
    "duration": 22,
    "start_time": "2021-07-11T23:26:47.079Z"
   },
   {
    "duration": 6,
    "start_time": "2021-07-11T23:26:47.104Z"
   },
   {
    "duration": 6,
    "start_time": "2021-07-11T23:26:47.112Z"
   },
   {
    "duration": 8,
    "start_time": "2021-07-11T23:26:47.121Z"
   },
   {
    "duration": 124038,
    "start_time": "2021-07-11T23:26:47.131Z"
   },
   {
    "duration": 95,
    "start_time": "2021-07-11T23:28:51.173Z"
   },
   {
    "duration": 124004,
    "start_time": "2021-07-11T23:28:51.271Z"
   },
   {
    "duration": 4,
    "start_time": "2021-07-11T23:30:55.368Z"
   },
   {
    "duration": 8,
    "start_time": "2021-07-11T23:30:55.375Z"
   },
   {
    "duration": 8,
    "start_time": "2021-07-11T23:30:55.385Z"
   },
   {
    "duration": 79,
    "start_time": "2021-07-11T23:30:55.396Z"
   },
   {
    "duration": 7,
    "start_time": "2021-07-11T23:30:55.478Z"
   },
   {
    "duration": 42162,
    "start_time": "2021-07-11T23:30:55.487Z"
   },
   {
    "duration": 22,
    "start_time": "2021-07-11T23:31:37.652Z"
   },
   {
    "duration": 6,
    "start_time": "2021-07-11T23:34:15.093Z"
   },
   {
    "duration": 6,
    "start_time": "2021-07-11T23:34:19.740Z"
   },
   {
    "duration": 23090,
    "start_time": "2021-07-11T23:36:15.076Z"
   },
   {
    "duration": 6,
    "start_time": "2021-07-11T23:36:49.667Z"
   },
   {
    "duration": 6,
    "start_time": "2021-07-11T23:36:51.868Z"
   },
   {
    "duration": 396834,
    "start_time": "2021-07-11T23:37:50.037Z"
   },
   {
    "duration": 374,
    "start_time": "2021-07-11T23:46:58.343Z"
   },
   {
    "duration": 365,
    "start_time": "2021-07-11T23:47:09.093Z"
   },
   {
    "duration": 1575,
    "start_time": "2021-07-11T23:47:17.324Z"
   },
   {
    "duration": 357,
    "start_time": "2021-07-11T23:47:18.902Z"
   },
   {
    "duration": 99,
    "start_time": "2021-07-11T23:47:19.262Z"
   },
   {
    "duration": 462,
    "start_time": "2021-07-11T23:47:19.363Z"
   },
   {
    "duration": 5,
    "start_time": "2021-07-11T23:47:19.828Z"
   },
   {
    "duration": 46,
    "start_time": "2021-07-11T23:47:19.836Z"
   },
   {
    "duration": 16,
    "start_time": "2021-07-11T23:47:19.884Z"
   },
   {
    "duration": 26,
    "start_time": "2021-07-11T23:47:19.903Z"
   },
   {
    "duration": 66,
    "start_time": "2021-07-11T23:47:19.933Z"
   },
   {
    "duration": 13,
    "start_time": "2021-07-11T23:47:20.002Z"
   },
   {
    "duration": 12,
    "start_time": "2021-07-11T23:47:20.018Z"
   },
   {
    "duration": 44,
    "start_time": "2021-07-11T23:47:20.032Z"
   },
   {
    "duration": 377,
    "start_time": "2021-07-11T23:47:20.078Z"
   },
   {
    "duration": 10,
    "start_time": "2021-07-11T23:47:20.458Z"
   },
   {
    "duration": 709,
    "start_time": "2021-07-11T23:47:20.470Z"
   },
   {
    "duration": 22,
    "start_time": "2021-07-11T23:47:21.182Z"
   },
   {
    "duration": 6,
    "start_time": "2021-07-11T23:47:21.206Z"
   },
   {
    "duration": 9,
    "start_time": "2021-07-11T23:47:21.215Z"
   },
   {
    "duration": 51,
    "start_time": "2021-07-11T23:47:21.226Z"
   },
   {
    "duration": 20,
    "start_time": "2021-07-11T23:47:21.280Z"
   },
   {
    "duration": 1179,
    "start_time": "2021-07-11T23:47:21.302Z"
   },
   {
    "duration": 844,
    "start_time": "2021-07-11T23:47:22.484Z"
   },
   {
    "duration": 380,
    "start_time": "2021-07-11T23:47:23.331Z"
   },
   {
    "duration": 1782,
    "start_time": "2021-07-11T23:47:23.714Z"
   },
   {
    "duration": 488,
    "start_time": "2021-07-11T23:47:25.499Z"
   },
   {
    "duration": 513,
    "start_time": "2021-07-11T23:47:25.990Z"
   },
   {
    "duration": 460,
    "start_time": "2021-07-11T23:47:26.510Z"
   },
   {
    "duration": 1258,
    "start_time": "2021-07-11T23:47:26.974Z"
   },
   {
    "duration": 1396,
    "start_time": "2021-07-11T23:47:28.235Z"
   },
   {
    "duration": 4,
    "start_time": "2021-07-11T23:47:29.633Z"
   },
   {
    "duration": 41,
    "start_time": "2021-07-11T23:47:29.639Z"
   },
   {
    "duration": 31,
    "start_time": "2021-07-11T23:47:29.683Z"
   },
   {
    "duration": 726,
    "start_time": "2021-07-11T23:47:29.716Z"
   },
   {
    "duration": 415,
    "start_time": "2021-07-11T23:47:30.444Z"
   },
   {
    "duration": 4,
    "start_time": "2021-07-11T23:47:30.867Z"
   },
   {
    "duration": 11,
    "start_time": "2021-07-11T23:47:30.873Z"
   },
   {
    "duration": 22,
    "start_time": "2021-07-11T23:47:30.887Z"
   },
   {
    "duration": 8,
    "start_time": "2021-07-11T23:47:30.912Z"
   },
   {
    "duration": 12,
    "start_time": "2021-07-11T23:47:30.923Z"
   },
   {
    "duration": 15,
    "start_time": "2021-07-11T23:47:30.937Z"
   },
   {
    "duration": 372518,
    "start_time": "2021-07-11T23:47:30.954Z"
   },
   {
    "duration": 6,
    "start_time": "2021-07-11T23:53:43.475Z"
   },
   {
    "duration": 373205,
    "start_time": "2021-07-11T23:53:43.569Z"
   },
   {
    "duration": 92,
    "start_time": "2021-07-11T23:59:56.777Z"
   },
   {
    "duration": 6,
    "start_time": "2021-07-11T23:59:56.873Z"
   },
   {
    "duration": 6,
    "start_time": "2021-07-11T23:59:56.967Z"
   },
   {
    "duration": 18,
    "start_time": "2021-07-11T23:59:56.976Z"
   },
   {
    "duration": 7,
    "start_time": "2021-07-11T23:59:56.996Z"
   },
   {
    "duration": 39502,
    "start_time": "2021-07-11T23:59:57.005Z"
   },
   {
    "duration": 14,
    "start_time": "2021-07-12T00:00:36.509Z"
   },
   {
    "duration": 387,
    "start_time": "2021-07-12T00:03:44.067Z"
   },
   {
    "duration": 384,
    "start_time": "2021-07-12T00:03:47.245Z"
   },
   {
    "duration": 388,
    "start_time": "2021-07-12T00:03:51.116Z"
   },
   {
    "duration": 380,
    "start_time": "2021-07-12T00:03:57.987Z"
   },
   {
    "duration": 382,
    "start_time": "2021-07-12T00:04:02.516Z"
   },
   {
    "duration": 808,
    "start_time": "2021-07-12T00:06:10.766Z"
   },
   {
    "duration": 890,
    "start_time": "2021-07-12T00:07:15.736Z"
   },
   {
    "duration": 375,
    "start_time": "2021-07-12T00:07:22.593Z"
   },
   {
    "duration": 98,
    "start_time": "2021-07-12T00:07:22.970Z"
   },
   {
    "duration": 469,
    "start_time": "2021-07-12T00:07:23.071Z"
   },
   {
    "duration": 5,
    "start_time": "2021-07-12T00:07:23.543Z"
   },
   {
    "duration": 39,
    "start_time": "2021-07-12T00:07:23.550Z"
   },
   {
    "duration": 17,
    "start_time": "2021-07-12T00:07:23.592Z"
   },
   {
    "duration": 26,
    "start_time": "2021-07-12T00:07:23.660Z"
   },
   {
    "duration": 32,
    "start_time": "2021-07-12T00:07:23.947Z"
   },
   {
    "duration": 15,
    "start_time": "2021-07-12T00:07:24.214Z"
   },
   {
    "duration": 13,
    "start_time": "2021-07-12T00:07:24.350Z"
   },
   {
    "duration": 15,
    "start_time": "2021-07-12T00:07:24.512Z"
   },
   {
    "duration": 356,
    "start_time": "2021-07-12T00:07:24.824Z"
   },
   {
    "duration": 772,
    "start_time": "2021-07-12T00:07:34.656Z"
   },
   {
    "duration": 371,
    "start_time": "2021-07-12T00:07:55.473Z"
   },
   {
    "duration": 1532,
    "start_time": "2021-07-12T00:08:16.971Z"
   },
   {
    "duration": 357,
    "start_time": "2021-07-12T00:08:18.505Z"
   },
   {
    "duration": 98,
    "start_time": "2021-07-12T00:08:18.865Z"
   },
   {
    "duration": 466,
    "start_time": "2021-07-12T00:08:18.965Z"
   },
   {
    "duration": 4,
    "start_time": "2021-07-12T00:08:19.433Z"
   },
   {
    "duration": 41,
    "start_time": "2021-07-12T00:08:19.440Z"
   },
   {
    "duration": 16,
    "start_time": "2021-07-12T00:08:19.483Z"
   },
   {
    "duration": 27,
    "start_time": "2021-07-12T00:08:19.501Z"
   },
   {
    "duration": 64,
    "start_time": "2021-07-12T00:08:19.532Z"
   },
   {
    "duration": 14,
    "start_time": "2021-07-12T00:08:19.598Z"
   },
   {
    "duration": 14,
    "start_time": "2021-07-12T00:08:19.614Z"
   },
   {
    "duration": 48,
    "start_time": "2021-07-12T00:08:19.630Z"
   },
   {
    "duration": 378,
    "start_time": "2021-07-12T00:08:19.681Z"
   },
   {
    "duration": 5,
    "start_time": "2021-07-12T00:08:20.066Z"
   },
   {
    "duration": 680,
    "start_time": "2021-07-12T00:08:20.073Z"
   },
   {
    "duration": 25,
    "start_time": "2021-07-12T00:08:20.755Z"
   },
   {
    "duration": 6,
    "start_time": "2021-07-12T00:08:20.782Z"
   },
   {
    "duration": 9,
    "start_time": "2021-07-12T00:08:20.790Z"
   },
   {
    "duration": 17,
    "start_time": "2021-07-12T00:08:20.802Z"
   },
   {
    "duration": 58,
    "start_time": "2021-07-12T00:08:20.821Z"
   },
   {
    "duration": 1120,
    "start_time": "2021-07-12T00:08:20.881Z"
   },
   {
    "duration": 823,
    "start_time": "2021-07-12T00:08:22.003Z"
   },
   {
    "duration": 370,
    "start_time": "2021-07-12T00:08:22.829Z"
   },
   {
    "duration": 1732,
    "start_time": "2021-07-12T00:08:23.202Z"
   },
   {
    "duration": 479,
    "start_time": "2021-07-12T00:08:24.936Z"
   },
   {
    "duration": 493,
    "start_time": "2021-07-12T00:08:25.418Z"
   },
   {
    "duration": 446,
    "start_time": "2021-07-12T00:08:25.916Z"
   },
   {
    "duration": 1208,
    "start_time": "2021-07-12T00:08:26.368Z"
   },
   {
    "duration": 1348,
    "start_time": "2021-07-12T00:08:27.578Z"
   },
   {
    "duration": 4,
    "start_time": "2021-07-12T00:08:28.929Z"
   },
   {
    "duration": 48,
    "start_time": "2021-07-12T00:08:28.936Z"
   },
   {
    "duration": 29,
    "start_time": "2021-07-12T00:08:28.986Z"
   },
   {
    "duration": 606,
    "start_time": "2021-07-12T00:08:29.017Z"
   },
   {
    "duration": 411,
    "start_time": "2021-07-12T00:08:29.626Z"
   },
   {
    "duration": 4,
    "start_time": "2021-07-12T00:08:30.039Z"
   },
   {
    "duration": 38,
    "start_time": "2021-07-12T00:08:30.046Z"
   },
   {
    "duration": 42,
    "start_time": "2021-07-12T00:08:30.087Z"
   },
   {
    "duration": 21,
    "start_time": "2021-07-12T00:08:30.131Z"
   },
   {
    "duration": 23,
    "start_time": "2021-07-12T00:08:30.154Z"
   },
   {
    "duration": 12,
    "start_time": "2021-07-12T00:08:30.179Z"
   },
   {
    "duration": 126681,
    "start_time": "2021-07-12T00:08:30.193Z"
   },
   {
    "duration": 91,
    "start_time": "2021-07-12T00:10:36.877Z"
   },
   {
    "duration": 126196,
    "start_time": "2021-07-12T00:10:36.973Z"
   },
   {
    "duration": 95,
    "start_time": "2021-07-12T00:12:43.172Z"
   },
   {
    "duration": 7,
    "start_time": "2021-07-12T00:12:43.270Z"
   },
   {
    "duration": 16,
    "start_time": "2021-07-12T00:12:43.279Z"
   },
   {
    "duration": 22,
    "start_time": "2021-07-12T00:12:43.297Z"
   },
   {
    "duration": 12,
    "start_time": "2021-07-12T00:12:43.322Z"
   },
   {
    "duration": 43513,
    "start_time": "2021-07-12T00:12:43.337Z"
   },
   {
    "duration": 22,
    "start_time": "2021-07-12T00:13:26.852Z"
   },
   {
    "duration": 46041,
    "start_time": "2021-07-12T00:13:49.005Z"
   },
   {
    "duration": 46764,
    "start_time": "2021-07-12T00:14:58.751Z"
   },
   {
    "duration": 57117,
    "start_time": "2021-07-12T00:17:13.386Z"
   },
   {
    "duration": 34060,
    "start_time": "2021-07-12T00:18:43.482Z"
   },
   {
    "duration": 375,
    "start_time": "2021-07-12T00:20:43.376Z"
   },
   {
    "duration": 1647,
    "start_time": "2021-07-12T00:20:51.142Z"
   },
   {
    "duration": 356,
    "start_time": "2021-07-12T00:20:52.791Z"
   },
   {
    "duration": 98,
    "start_time": "2021-07-12T00:20:53.150Z"
   },
   {
    "duration": 474,
    "start_time": "2021-07-12T00:20:53.251Z"
   },
   {
    "duration": 6,
    "start_time": "2021-07-12T00:20:53.728Z"
   },
   {
    "duration": 43,
    "start_time": "2021-07-12T00:20:53.737Z"
   },
   {
    "duration": 16,
    "start_time": "2021-07-12T00:20:53.783Z"
   },
   {
    "duration": 29,
    "start_time": "2021-07-12T00:20:53.803Z"
   },
   {
    "duration": 64,
    "start_time": "2021-07-12T00:20:53.836Z"
   },
   {
    "duration": 14,
    "start_time": "2021-07-12T00:20:53.903Z"
   },
   {
    "duration": 18,
    "start_time": "2021-07-12T00:20:53.920Z"
   },
   {
    "duration": 41,
    "start_time": "2021-07-12T00:20:53.940Z"
   },
   {
    "duration": 377,
    "start_time": "2021-07-12T00:20:53.983Z"
   },
   {
    "duration": 5,
    "start_time": "2021-07-12T00:20:54.366Z"
   },
   {
    "duration": 685,
    "start_time": "2021-07-12T00:20:54.373Z"
   },
   {
    "duration": 22,
    "start_time": "2021-07-12T00:20:55.060Z"
   },
   {
    "duration": 7,
    "start_time": "2021-07-12T00:20:55.084Z"
   },
   {
    "duration": 9,
    "start_time": "2021-07-12T00:20:55.094Z"
   },
   {
    "duration": 18,
    "start_time": "2021-07-12T00:20:55.105Z"
   },
   {
    "duration": 20,
    "start_time": "2021-07-12T00:20:55.167Z"
   },
   {
    "duration": 1123,
    "start_time": "2021-07-12T00:20:55.190Z"
   },
   {
    "duration": 838,
    "start_time": "2021-07-12T00:20:56.316Z"
   },
   {
    "duration": 360,
    "start_time": "2021-07-12T00:20:57.167Z"
   },
   {
    "duration": 1728,
    "start_time": "2021-07-12T00:20:57.530Z"
   },
   {
    "duration": 466,
    "start_time": "2021-07-12T00:20:59.261Z"
   },
   {
    "duration": 497,
    "start_time": "2021-07-12T00:20:59.730Z"
   },
   {
    "duration": 450,
    "start_time": "2021-07-12T00:21:00.229Z"
   },
   {
    "duration": 1219,
    "start_time": "2021-07-12T00:21:00.682Z"
   },
   {
    "duration": 1332,
    "start_time": "2021-07-12T00:21:01.904Z"
   },
   {
    "duration": 3,
    "start_time": "2021-07-12T00:21:03.239Z"
   },
   {
    "duration": 43,
    "start_time": "2021-07-12T00:21:03.244Z"
   },
   {
    "duration": 30,
    "start_time": "2021-07-12T00:21:03.289Z"
   },
   {
    "duration": 604,
    "start_time": "2021-07-12T00:21:03.321Z"
   },
   {
    "duration": 415,
    "start_time": "2021-07-12T00:21:03.928Z"
   },
   {
    "duration": 4,
    "start_time": "2021-07-12T00:21:04.346Z"
   },
   {
    "duration": 15,
    "start_time": "2021-07-12T00:21:04.353Z"
   },
   {
    "duration": 25,
    "start_time": "2021-07-12T00:21:04.371Z"
   },
   {
    "duration": 8,
    "start_time": "2021-07-12T00:21:04.399Z"
   },
   {
    "duration": 22,
    "start_time": "2021-07-12T00:21:04.410Z"
   },
   {
    "duration": 12,
    "start_time": "2021-07-12T00:21:04.435Z"
   },
   {
    "duration": 96122,
    "start_time": "2021-07-12T00:21:04.449Z"
   },
   {
    "duration": 6,
    "start_time": "2021-07-12T00:22:40.575Z"
   },
   {
    "duration": 97609,
    "start_time": "2021-07-12T00:22:40.668Z"
   },
   {
    "duration": 96,
    "start_time": "2021-07-12T00:24:18.372Z"
   },
   {
    "duration": 6,
    "start_time": "2021-07-12T00:24:18.471Z"
   },
   {
    "duration": 9,
    "start_time": "2021-07-12T00:24:18.479Z"
   },
   {
    "duration": 21,
    "start_time": "2021-07-12T00:24:18.491Z"
   },
   {
    "duration": 7,
    "start_time": "2021-07-12T00:24:18.514Z"
   },
   {
    "duration": 32911,
    "start_time": "2021-07-12T00:24:18.524Z"
   },
   {
    "duration": 13,
    "start_time": "2021-07-12T00:24:51.437Z"
   },
   {
    "duration": 35965,
    "start_time": "2021-07-12T00:45:10.202Z"
   },
   {
    "duration": 23434,
    "start_time": "2021-07-12T00:48:30.917Z"
   },
   {
    "duration": -545,
    "start_time": "2021-07-12T00:48:54.900Z"
   },
   {
    "duration": 1590,
    "start_time": "2021-07-12T00:49:06.282Z"
   },
   {
    "duration": 347,
    "start_time": "2021-07-12T00:49:07.875Z"
   },
   {
    "duration": 98,
    "start_time": "2021-07-12T00:49:08.225Z"
   },
   {
    "duration": 459,
    "start_time": "2021-07-12T00:49:08.326Z"
   },
   {
    "duration": 5,
    "start_time": "2021-07-12T00:49:08.787Z"
   },
   {
    "duration": 28,
    "start_time": "2021-07-12T00:49:08.794Z"
   },
   {
    "duration": 16,
    "start_time": "2021-07-12T00:49:08.824Z"
   },
   {
    "duration": 25,
    "start_time": "2021-07-12T00:49:08.869Z"
   },
   {
    "duration": 36,
    "start_time": "2021-07-12T00:49:08.898Z"
   },
   {
    "duration": 38,
    "start_time": "2021-07-12T00:49:08.936Z"
   },
   {
    "duration": 10,
    "start_time": "2021-07-12T00:49:08.977Z"
   },
   {
    "duration": 17,
    "start_time": "2021-07-12T00:49:08.989Z"
   },
   {
    "duration": 390,
    "start_time": "2021-07-12T00:49:09.009Z"
   },
   {
    "duration": 4,
    "start_time": "2021-07-12T00:49:09.402Z"
   },
   {
    "duration": 680,
    "start_time": "2021-07-12T00:49:09.408Z"
   },
   {
    "duration": 24,
    "start_time": "2021-07-12T00:49:10.091Z"
   },
   {
    "duration": 7,
    "start_time": "2021-07-12T00:49:10.117Z"
   },
   {
    "duration": 8,
    "start_time": "2021-07-12T00:49:10.126Z"
   },
   {
    "duration": 17,
    "start_time": "2021-07-12T00:49:10.168Z"
   },
   {
    "duration": 20,
    "start_time": "2021-07-12T00:49:10.187Z"
   },
   {
    "duration": 1149,
    "start_time": "2021-07-12T00:49:10.210Z"
   },
   {
    "duration": 835,
    "start_time": "2021-07-12T00:49:11.362Z"
   },
   {
    "duration": 378,
    "start_time": "2021-07-12T00:49:12.203Z"
   },
   {
    "duration": 1720,
    "start_time": "2021-07-12T00:49:12.584Z"
   },
   {
    "duration": 468,
    "start_time": "2021-07-12T00:49:14.306Z"
   },
   {
    "duration": 483,
    "start_time": "2021-07-12T00:49:14.776Z"
   },
   {
    "duration": 451,
    "start_time": "2021-07-12T00:49:15.261Z"
   },
   {
    "duration": 1255,
    "start_time": "2021-07-12T00:49:15.715Z"
   },
   {
    "duration": 1351,
    "start_time": "2021-07-12T00:49:16.973Z"
   },
   {
    "duration": 4,
    "start_time": "2021-07-12T00:49:18.326Z"
   },
   {
    "duration": 48,
    "start_time": "2021-07-12T00:49:18.332Z"
   },
   {
    "duration": 31,
    "start_time": "2021-07-12T00:49:18.382Z"
   },
   {
    "duration": 601,
    "start_time": "2021-07-12T00:49:18.415Z"
   },
   {
    "duration": 409,
    "start_time": "2021-07-12T00:49:19.018Z"
   },
   {
    "duration": 5,
    "start_time": "2021-07-12T00:49:19.429Z"
   },
   {
    "duration": 8,
    "start_time": "2021-07-12T00:49:19.436Z"
   },
   {
    "duration": 32,
    "start_time": "2021-07-12T00:49:19.447Z"
   },
   {
    "duration": 9,
    "start_time": "2021-07-12T00:49:19.481Z"
   },
   {
    "duration": 12,
    "start_time": "2021-07-12T00:49:19.493Z"
   },
   {
    "duration": 28,
    "start_time": "2021-07-12T00:49:19.507Z"
   },
   {
    "duration": 94832,
    "start_time": "2021-07-12T00:49:19.538Z"
   },
   {
    "duration": 7,
    "start_time": "2021-07-12T00:50:54.373Z"
   },
   {
    "duration": 96203,
    "start_time": "2021-07-12T00:50:54.468Z"
   },
   {
    "duration": 94,
    "start_time": "2021-07-12T00:52:30.674Z"
   },
   {
    "duration": 13,
    "start_time": "2021-07-12T00:52:30.771Z"
   },
   {
    "duration": 30,
    "start_time": "2021-07-12T00:52:30.786Z"
   },
   {
    "duration": 49,
    "start_time": "2021-07-12T00:52:30.818Z"
   },
   {
    "duration": 7,
    "start_time": "2021-07-12T00:52:30.870Z"
   },
   {
    "duration": 30013,
    "start_time": "2021-07-12T00:52:30.879Z"
   },
   {
    "duration": 13,
    "start_time": "2021-07-12T00:53:00.895Z"
   },
   {
    "duration": 1140,
    "start_time": "2021-08-17T14:48:38.210Z"
   },
   {
    "duration": 271,
    "start_time": "2021-08-17T14:48:39.351Z"
   },
   {
    "duration": 75,
    "start_time": "2021-08-17T14:48:39.624Z"
   },
   {
    "duration": 335,
    "start_time": "2021-08-17T14:48:39.700Z"
   },
   {
    "duration": 4,
    "start_time": "2021-08-17T14:48:40.036Z"
   },
   {
    "duration": 18,
    "start_time": "2021-08-17T14:48:40.041Z"
   },
   {
    "duration": 8,
    "start_time": "2021-08-17T14:48:40.061Z"
   },
   {
    "duration": 29,
    "start_time": "2021-08-17T14:48:40.071Z"
   },
   {
    "duration": 20,
    "start_time": "2021-08-17T14:48:40.102Z"
   },
   {
    "duration": 9,
    "start_time": "2021-08-17T14:48:40.123Z"
   },
   {
    "duration": 7,
    "start_time": "2021-08-17T14:48:40.133Z"
   },
   {
    "duration": 11,
    "start_time": "2021-08-17T14:48:40.141Z"
   },
   {
    "duration": 232,
    "start_time": "2021-08-17T14:48:40.153Z"
   },
   {
    "duration": 5,
    "start_time": "2021-08-17T14:48:40.386Z"
   },
   {
    "duration": 392,
    "start_time": "2021-08-17T14:48:40.393Z"
   },
   {
    "duration": 17,
    "start_time": "2021-08-17T14:48:40.787Z"
   },
   {
    "duration": 4,
    "start_time": "2021-08-17T14:48:40.805Z"
   },
   {
    "duration": 11,
    "start_time": "2021-08-17T14:48:40.811Z"
   },
   {
    "duration": 18,
    "start_time": "2021-08-17T14:48:40.823Z"
   },
   {
    "duration": 12,
    "start_time": "2021-08-17T14:48:40.842Z"
   },
   {
    "duration": 653,
    "start_time": "2021-08-17T14:48:40.856Z"
   },
   {
    "duration": 471,
    "start_time": "2021-08-17T14:48:41.511Z"
   },
   {
    "duration": 207,
    "start_time": "2021-08-17T14:48:41.985Z"
   },
   {
    "duration": 912,
    "start_time": "2021-08-17T14:48:42.194Z"
   },
   {
    "duration": 246,
    "start_time": "2021-08-17T14:48:43.107Z"
   },
   {
    "duration": 262,
    "start_time": "2021-08-17T14:48:43.355Z"
   },
   {
    "duration": 231,
    "start_time": "2021-08-17T14:48:43.618Z"
   },
   {
    "duration": 714,
    "start_time": "2021-08-17T14:48:43.850Z"
   },
   {
    "duration": 709,
    "start_time": "2021-08-17T14:48:44.566Z"
   },
   {
    "duration": 3,
    "start_time": "2021-08-17T14:48:45.276Z"
   },
   {
    "duration": 26,
    "start_time": "2021-08-17T14:48:45.280Z"
   },
   {
    "duration": 17,
    "start_time": "2021-08-17T14:48:45.307Z"
   },
   {
    "duration": 317,
    "start_time": "2021-08-17T14:48:45.325Z"
   },
   {
    "duration": 218,
    "start_time": "2021-08-17T14:48:45.644Z"
   },
   {
    "duration": 3,
    "start_time": "2021-08-17T14:48:45.864Z"
   },
   {
    "duration": 5,
    "start_time": "2021-08-17T14:48:45.869Z"
   },
   {
    "duration": 21,
    "start_time": "2021-08-17T14:48:45.875Z"
   },
   {
    "duration": 2,
    "start_time": "2021-08-17T14:48:45.897Z"
   },
   {
    "duration": 5,
    "start_time": "2021-08-17T14:48:45.901Z"
   },
   {
    "duration": 6,
    "start_time": "2021-08-17T14:48:45.907Z"
   },
   {
    "duration": 68791,
    "start_time": "2021-08-17T14:48:45.914Z"
   },
   {
    "duration": 3,
    "start_time": "2021-08-17T14:49:54.793Z"
   },
   {
    "duration": 69603,
    "start_time": "2021-08-17T14:49:54.798Z"
   },
   {
    "duration": 89,
    "start_time": "2021-08-17T14:51:04.403Z"
   },
   {
    "duration": 6,
    "start_time": "2021-08-17T14:51:04.495Z"
   },
   {
    "duration": 5,
    "start_time": "2021-08-17T14:51:04.592Z"
   },
   {
    "duration": 11,
    "start_time": "2021-08-17T14:51:04.599Z"
   },
   {
    "duration": 5,
    "start_time": "2021-08-17T14:51:04.611Z"
   },
   {
    "duration": 21478,
    "start_time": "2021-08-17T14:51:04.618Z"
   },
   {
    "duration": 9,
    "start_time": "2021-08-17T14:51:26.097Z"
   }
  ],
  "kernelspec": {
   "display_name": "Python 3 (ipykernel)",
   "language": "python",
   "name": "python3"
  },
  "language_info": {
   "codemirror_mode": {
    "name": "ipython",
    "version": 3
   },
   "file_extension": ".py",
   "mimetype": "text/x-python",
   "name": "python",
   "nbconvert_exporter": "python",
   "pygments_lexer": "ipython3",
   "version": "3.9.5"
  },
  "toc": {
   "base_numbering": 1,
   "nav_menu": {},
   "number_sections": true,
   "sideBar": true,
   "skip_h1_title": true,
   "title_cell": "Содержание",
   "title_sidebar": "Contents",
   "toc_cell": true,
   "toc_position": {
    "height": "calc(100% - 180px)",
    "left": "10px",
    "top": "150px",
    "width": "409.094px"
   },
   "toc_section_display": true,
   "toc_window_display": true
  }
 },
 "nbformat": 4,
 "nbformat_minor": 2
}
