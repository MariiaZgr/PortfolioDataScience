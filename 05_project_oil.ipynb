{
 "cells": [
  {
   "cell_type": "markdown",
   "metadata": {},
   "source": [
    "# Выбор локации для скважины"
   ]
  },
  {
   "cell_type": "markdown",
   "metadata": {},
   "source": [
    "Допустим, вы работаете в добывающей компании «ГлавРосГосНефть». Нужно решить, где бурить новую скважину.\n",
    "\n",
    "Вам предоставлены пробы нефти в трёх регионах: в каждом 10 000 месторождений, где измерили качество нефти и объём её запасов. Постройте модель машинного обучения, которая поможет определить регион, где добыча принесёт наибольшую прибыль. Проанализируйте возможную прибыль и риски техникой *Bootstrap.*\n",
    "\n",
    "Шаги для выбора локации:\n",
    "\n",
    "- В избранном регионе ищут месторождения, для каждого определяют значения признаков;\n",
    "- Строят модель и оценивают объём запасов;\n",
    "- Выбирают месторождения с самым высокими оценками значений. Количество месторождений зависит от бюджета компании и стоимости разработки одной скважины;\n",
    "- Прибыль равна суммарной прибыли отобранных месторождений."
   ]
  },
  {
   "cell_type": "markdown",
   "metadata": {},
   "source": [
    "**Описание данных<br>**\n",
    "\n",
    "id — уникальный идентификатор скважины;<br>\n",
    "f0, f1, f2 — три признака точек (неважно, что они означают, но сами признаки значимы);\n",
    "product — объём запасов в скважине (тыс. баррелей).<br>\n",
    "\n",
    "При разведке региона исследуют 500 точек, из которых с помощью машинного обучения выбирают 200 лучших для разработки.<br>\n",
    "Бюджет на разработку скважин в регионе — 10 млрд рублей.<br>\n",
    "При нынешних ценах один баррель сырья приносит 450 рублей дохода. Доход с каждой единицы продукта составляет 450 тыс. рублей, поскольку объём указан в тысячах баррелей.<br>"
   ]
  },
  {
   "cell_type": "markdown",
   "metadata": {},
   "source": [
    "**План выполнения проекта**\n",
    "\n",
    "Загрузим и подготовим данные. <br>\n",
    "Обучим и проверим модель для каждого региона: <br>\n",
    "2.1. Разобьем данные на обучающую и валидационную выборки в соотношении 75:25. <br>\n",
    "2.2. Обучим модель и сделаем предсказания на валидационной выборке. <br>\n",
    "2.3. Сохраним предсказания и правильные ответы на валидационной выборке. <br>\n",
    "2.4. Найдем средний запас предсказанного сырья и RMSE модели. <br>\n",
    "2.5. Проанализируем результаты. <br>\n",
    "\n",
    "Расчет прибыли: <br>\n",
    "3.1. Все ключевые значения для расчётов сохраним в отдельных переменных. <br>\n",
    "3.2. Рассчитаем достаточный объём сырья для безубыточной разработки новой скважины.  <br>Сравним полученный объём сырья со средним запасом в каждом регионе. <br>\n",
    "\n",
    "Напишем функцию для расчёта прибыли по выбранным скважинам и предсказаниям модели: <br>\n",
    "4.1. Выберем скважины с максимальными значениями предсказаний. <br>\n",
    "4.2. Просуммируем целевое значение объёма сырья, соответствующее этим предсказаниям. <br>\n",
    "4.3. Рассчитаем прибыль для полученного объёма сырья. <br>\n",
    "\n",
    "Риски и прибыль для каждого региона: <br>\n",
    "5.1. Применим технику Bootstrap с 1000 выборок, чтобы найти распределение прибыли.\n",
    "5.2. Найдем среднюю прибыль, 95%-й доверительный интервал и риск убытков. Убыток — это отрицательная прибыль. <br>\n",
    "5.3. Обоснуем выбор региона для разработки скважин. <br>"
   ]
  },
  {
   "cell_type": "markdown",
   "metadata": {},
   "source": [
    "## Загрузка и подготовка данных"
   ]
  },
  {
   "cell_type": "code",
   "execution_count": 1,
   "metadata": {},
   "outputs": [],
   "source": [
    "import pandas as pd\n",
    "import numpy as np\n",
    "\n",
    "from sklearn.linear_model import LinearRegression\n",
    "from sklearn.model_selection import train_test_split\n",
    "from sklearn.metrics import mean_squared_error\n",
    "from scipy import stats as st\n",
    "from sklearn.metrics import make_scorer\n",
    "\n",
    "import matplotlib.pyplot as plt\n",
    "import seaborn as sns\n",
    "sns.set(style=\"whitegrid\")\n",
    "\n",
    "import warnings\n",
    "warnings.filterwarnings('ignore')"
   ]
  },
  {
   "cell_type": "markdown",
   "metadata": {},
   "source": [
    "Изучим данные таблиц"
   ]
  },
  {
   "cell_type": "code",
   "execution_count": 2,
   "metadata": {},
   "outputs": [],
   "source": [
    "geo_data_0 = pd.read_csv('/datasets/geo_data_0.csv')"
   ]
  },
  {
   "cell_type": "code",
   "execution_count": 3,
   "metadata": {},
   "outputs": [],
   "source": [
    "geo_data_1 = pd.read_csv('/datasets/geo_data_1.csv')"
   ]
  },
  {
   "cell_type": "code",
   "execution_count": 4,
   "metadata": {},
   "outputs": [],
   "source": [
    "geo_data_2 = pd.read_csv('/datasets/geo_data_2.csv')"
   ]
  },
  {
   "cell_type": "code",
   "execution_count": 5,
   "metadata": {},
   "outputs": [
    {
     "name": "stdout",
     "output_type": "stream",
     "text": [
      "<class 'pandas.core.frame.DataFrame'>\n",
      "RangeIndex: 100000 entries, 0 to 99999\n",
      "Data columns (total 5 columns):\n",
      "id         100000 non-null object\n",
      "f0         100000 non-null float64\n",
      "f1         100000 non-null float64\n",
      "f2         100000 non-null float64\n",
      "product    100000 non-null float64\n",
      "dtypes: float64(4), object(1)\n",
      "memory usage: 3.8+ MB\n"
     ]
    }
   ],
   "source": [
    "geo_data_0.info()"
   ]
  },
  {
   "cell_type": "code",
   "execution_count": 6,
   "metadata": {},
   "outputs": [
    {
     "name": "stdout",
     "output_type": "stream",
     "text": [
      "<class 'pandas.core.frame.DataFrame'>\n",
      "RangeIndex: 100000 entries, 0 to 99999\n",
      "Data columns (total 5 columns):\n",
      "id         100000 non-null object\n",
      "f0         100000 non-null float64\n",
      "f1         100000 non-null float64\n",
      "f2         100000 non-null float64\n",
      "product    100000 non-null float64\n",
      "dtypes: float64(4), object(1)\n",
      "memory usage: 3.8+ MB\n"
     ]
    }
   ],
   "source": [
    "geo_data_1.info()"
   ]
  },
  {
   "cell_type": "code",
   "execution_count": 7,
   "metadata": {},
   "outputs": [
    {
     "name": "stdout",
     "output_type": "stream",
     "text": [
      "<class 'pandas.core.frame.DataFrame'>\n",
      "RangeIndex: 100000 entries, 0 to 99999\n",
      "Data columns (total 5 columns):\n",
      "id         100000 non-null object\n",
      "f0         100000 non-null float64\n",
      "f1         100000 non-null float64\n",
      "f2         100000 non-null float64\n",
      "product    100000 non-null float64\n",
      "dtypes: float64(4), object(1)\n",
      "memory usage: 3.8+ MB\n"
     ]
    }
   ],
   "source": [
    "geo_data_2.info()"
   ]
  },
  {
   "cell_type": "markdown",
   "metadata": {},
   "source": [
    "Каждый датасет содержит 100 000 записей без пропусков. "
   ]
  },
  {
   "cell_type": "code",
   "execution_count": 8,
   "metadata": {},
   "outputs": [
    {
     "data": {
      "text/html": [
       "<div>\n",
       "<style scoped>\n",
       "    .dataframe tbody tr th:only-of-type {\n",
       "        vertical-align: middle;\n",
       "    }\n",
       "\n",
       "    .dataframe tbody tr th {\n",
       "        vertical-align: top;\n",
       "    }\n",
       "\n",
       "    .dataframe thead th {\n",
       "        text-align: right;\n",
       "    }\n",
       "</style>\n",
       "<table border=\"1\" class=\"dataframe\">\n",
       "  <thead>\n",
       "    <tr style=\"text-align: right;\">\n",
       "      <th></th>\n",
       "      <th>id</th>\n",
       "      <th>f0</th>\n",
       "      <th>f1</th>\n",
       "      <th>f2</th>\n",
       "      <th>product</th>\n",
       "    </tr>\n",
       "  </thead>\n",
       "  <tbody>\n",
       "    <tr>\n",
       "      <td>0</td>\n",
       "      <td>txEyH</td>\n",
       "      <td>0.705745</td>\n",
       "      <td>-0.497823</td>\n",
       "      <td>1.221170</td>\n",
       "      <td>105.280062</td>\n",
       "    </tr>\n",
       "    <tr>\n",
       "      <td>1</td>\n",
       "      <td>2acmU</td>\n",
       "      <td>1.334711</td>\n",
       "      <td>-0.340164</td>\n",
       "      <td>4.365080</td>\n",
       "      <td>73.037750</td>\n",
       "    </tr>\n",
       "    <tr>\n",
       "      <td>2</td>\n",
       "      <td>409Wp</td>\n",
       "      <td>1.022732</td>\n",
       "      <td>0.151990</td>\n",
       "      <td>1.419926</td>\n",
       "      <td>85.265647</td>\n",
       "    </tr>\n",
       "    <tr>\n",
       "      <td>3</td>\n",
       "      <td>iJLyR</td>\n",
       "      <td>-0.032172</td>\n",
       "      <td>0.139033</td>\n",
       "      <td>2.978566</td>\n",
       "      <td>168.620776</td>\n",
       "    </tr>\n",
       "    <tr>\n",
       "      <td>4</td>\n",
       "      <td>Xdl7t</td>\n",
       "      <td>1.988431</td>\n",
       "      <td>0.155413</td>\n",
       "      <td>4.751769</td>\n",
       "      <td>154.036647</td>\n",
       "    </tr>\n",
       "  </tbody>\n",
       "</table>\n",
       "</div>"
      ],
      "text/plain": [
       "      id        f0        f1        f2     product\n",
       "0  txEyH  0.705745 -0.497823  1.221170  105.280062\n",
       "1  2acmU  1.334711 -0.340164  4.365080   73.037750\n",
       "2  409Wp  1.022732  0.151990  1.419926   85.265647\n",
       "3  iJLyR -0.032172  0.139033  2.978566  168.620776\n",
       "4  Xdl7t  1.988431  0.155413  4.751769  154.036647"
      ]
     },
     "execution_count": 8,
     "metadata": {},
     "output_type": "execute_result"
    }
   ],
   "source": [
    "geo_data_0.head()"
   ]
  },
  {
   "cell_type": "code",
   "execution_count": 9,
   "metadata": {},
   "outputs": [
    {
     "data": {
      "text/html": [
       "<div>\n",
       "<style scoped>\n",
       "    .dataframe tbody tr th:only-of-type {\n",
       "        vertical-align: middle;\n",
       "    }\n",
       "\n",
       "    .dataframe tbody tr th {\n",
       "        vertical-align: top;\n",
       "    }\n",
       "\n",
       "    .dataframe thead th {\n",
       "        text-align: right;\n",
       "    }\n",
       "</style>\n",
       "<table border=\"1\" class=\"dataframe\">\n",
       "  <thead>\n",
       "    <tr style=\"text-align: right;\">\n",
       "      <th></th>\n",
       "      <th>id</th>\n",
       "      <th>f0</th>\n",
       "      <th>f1</th>\n",
       "      <th>f2</th>\n",
       "      <th>product</th>\n",
       "    </tr>\n",
       "  </thead>\n",
       "  <tbody>\n",
       "    <tr>\n",
       "      <td>0</td>\n",
       "      <td>kBEdx</td>\n",
       "      <td>-15.001348</td>\n",
       "      <td>-8.276000</td>\n",
       "      <td>-0.005876</td>\n",
       "      <td>3.179103</td>\n",
       "    </tr>\n",
       "    <tr>\n",
       "      <td>1</td>\n",
       "      <td>62mP7</td>\n",
       "      <td>14.272088</td>\n",
       "      <td>-3.475083</td>\n",
       "      <td>0.999183</td>\n",
       "      <td>26.953261</td>\n",
       "    </tr>\n",
       "    <tr>\n",
       "      <td>2</td>\n",
       "      <td>vyE1P</td>\n",
       "      <td>6.263187</td>\n",
       "      <td>-5.948386</td>\n",
       "      <td>5.001160</td>\n",
       "      <td>134.766305</td>\n",
       "    </tr>\n",
       "    <tr>\n",
       "      <td>3</td>\n",
       "      <td>KcrkZ</td>\n",
       "      <td>-13.081196</td>\n",
       "      <td>-11.506057</td>\n",
       "      <td>4.999415</td>\n",
       "      <td>137.945408</td>\n",
       "    </tr>\n",
       "    <tr>\n",
       "      <td>4</td>\n",
       "      <td>AHL4O</td>\n",
       "      <td>12.702195</td>\n",
       "      <td>-8.147433</td>\n",
       "      <td>5.004363</td>\n",
       "      <td>134.766305</td>\n",
       "    </tr>\n",
       "  </tbody>\n",
       "</table>\n",
       "</div>"
      ],
      "text/plain": [
       "      id         f0         f1        f2     product\n",
       "0  kBEdx -15.001348  -8.276000 -0.005876    3.179103\n",
       "1  62mP7  14.272088  -3.475083  0.999183   26.953261\n",
       "2  vyE1P   6.263187  -5.948386  5.001160  134.766305\n",
       "3  KcrkZ -13.081196 -11.506057  4.999415  137.945408\n",
       "4  AHL4O  12.702195  -8.147433  5.004363  134.766305"
      ]
     },
     "execution_count": 9,
     "metadata": {},
     "output_type": "execute_result"
    }
   ],
   "source": [
    "geo_data_1.head()"
   ]
  },
  {
   "cell_type": "code",
   "execution_count": 10,
   "metadata": {},
   "outputs": [
    {
     "data": {
      "text/html": [
       "<div>\n",
       "<style scoped>\n",
       "    .dataframe tbody tr th:only-of-type {\n",
       "        vertical-align: middle;\n",
       "    }\n",
       "\n",
       "    .dataframe tbody tr th {\n",
       "        vertical-align: top;\n",
       "    }\n",
       "\n",
       "    .dataframe thead th {\n",
       "        text-align: right;\n",
       "    }\n",
       "</style>\n",
       "<table border=\"1\" class=\"dataframe\">\n",
       "  <thead>\n",
       "    <tr style=\"text-align: right;\">\n",
       "      <th></th>\n",
       "      <th>id</th>\n",
       "      <th>f0</th>\n",
       "      <th>f1</th>\n",
       "      <th>f2</th>\n",
       "      <th>product</th>\n",
       "    </tr>\n",
       "  </thead>\n",
       "  <tbody>\n",
       "    <tr>\n",
       "      <td>0</td>\n",
       "      <td>fwXo0</td>\n",
       "      <td>-1.146987</td>\n",
       "      <td>0.963328</td>\n",
       "      <td>-0.828965</td>\n",
       "      <td>27.758673</td>\n",
       "    </tr>\n",
       "    <tr>\n",
       "      <td>1</td>\n",
       "      <td>WJtFt</td>\n",
       "      <td>0.262778</td>\n",
       "      <td>0.269839</td>\n",
       "      <td>-2.530187</td>\n",
       "      <td>56.069697</td>\n",
       "    </tr>\n",
       "    <tr>\n",
       "      <td>2</td>\n",
       "      <td>ovLUW</td>\n",
       "      <td>0.194587</td>\n",
       "      <td>0.289035</td>\n",
       "      <td>-5.586433</td>\n",
       "      <td>62.871910</td>\n",
       "    </tr>\n",
       "    <tr>\n",
       "      <td>3</td>\n",
       "      <td>q6cA6</td>\n",
       "      <td>2.236060</td>\n",
       "      <td>-0.553760</td>\n",
       "      <td>0.930038</td>\n",
       "      <td>114.572842</td>\n",
       "    </tr>\n",
       "    <tr>\n",
       "      <td>4</td>\n",
       "      <td>WPMUX</td>\n",
       "      <td>-0.515993</td>\n",
       "      <td>1.716266</td>\n",
       "      <td>5.899011</td>\n",
       "      <td>149.600746</td>\n",
       "    </tr>\n",
       "  </tbody>\n",
       "</table>\n",
       "</div>"
      ],
      "text/plain": [
       "      id        f0        f1        f2     product\n",
       "0  fwXo0 -1.146987  0.963328 -0.828965   27.758673\n",
       "1  WJtFt  0.262778  0.269839 -2.530187   56.069697\n",
       "2  ovLUW  0.194587  0.289035 -5.586433   62.871910\n",
       "3  q6cA6  2.236060 -0.553760  0.930038  114.572842\n",
       "4  WPMUX -0.515993  1.716266  5.899011  149.600746"
      ]
     },
     "execution_count": 10,
     "metadata": {},
     "output_type": "execute_result"
    }
   ],
   "source": [
    "geo_data_2.head()"
   ]
  },
  {
   "cell_type": "markdown",
   "metadata": {},
   "source": [
    "Для начала рассмотрим распределение целевого признака. "
   ]
  },
  {
   "cell_type": "code",
   "execution_count": 11,
   "metadata": {},
   "outputs": [
    {
     "data": {
      "text/plain": [
       "<matplotlib.lines.Line2D at 0x7efd94cefdd0>"
      ]
     },
     "execution_count": 11,
     "metadata": {},
     "output_type": "execute_result"
    },
    {
     "data": {
      "image/png": "[encoded data removed]",
      "text/plain": [
       "<Figure size 576x288 with 1 Axes>"
      ]
     },
     "metadata": {},
     "output_type": "display_data"
    },
    {
     "data": {
      "image/png": "[encoded data removed]",
      "text/plain": [
       "<Figure size 576x288 with 1 Axes>"
      ]
     },
     "metadata": {},
     "output_type": "display_data"
    },
    {
     "data": {
      "image/png": "[encoded data removed]",
      "text/plain": [
       "<Figure size 576x288 with 1 Axes>"
      ]
     },
     "metadata": {},
     "output_type": "display_data"
    }
   ],
   "source": [
    "plt.figure(figsize=(8,4))\n",
    "plt.title('Распределение целевого признака первого региона')\n",
    "sns.distplot(geo_data_0['product'], color=\"Teal\", kde=False, bins=120)\n",
    "plt.axvline(np.mean(geo_data_0['product']),color='r', linestyle='--', label='product среднее')\n",
    "\n",
    "plt.figure(figsize=(8,4))\n",
    "plt.title('Распределение целевого признака второго региона')\n",
    "sns.distplot(geo_data_1['product'], color=\"Teal\", kde=False, bins=120)\n",
    "plt.axvline(np.mean(geo_data_1['product']),color='r', linestyle='--', label='product среднее')\n",
    "\n",
    "\n",
    "plt.figure(figsize=(8,4))\n",
    "plt.title('Распределение целевого признака третьего региона')\n",
    "sns.distplot(geo_data_2['product'], color=\"Teal\", kde=False, bins=120)\n",
    "plt.axvline(np.mean(geo_data_2['product']),color='r', linestyle='--', label='product среднее')\n"
   ]
  },
  {
   "cell_type": "markdown",
   "metadata": {},
   "source": [
    "Из графиков видно, что целевой признак второго региона распределен как несколько равных по размеру групп с одинаковым значением. <br>Признаки первого и третьего регионов распределены более нормально. <br>\n",
    "Возможно метод сбора данных для второго региона содержал в себе классифицирование, что не очень хорошо для построения модели регрессии. <br>"
   ]
  },
  {
   "cell_type": "code",
   "execution_count": 12,
   "metadata": {},
   "outputs": [
    {
     "data": {
      "text/plain": [
       "53.906522     8472\n",
       "26.953261     8468\n",
       "84.038886     8431\n",
       "57.085625     8390\n",
       "3.179103      8337\n",
       "80.859783     8320\n",
       "30.132364     8306\n",
       "134.766305    8304\n",
       "110.992147    8303\n",
       "0.000000      8235\n",
       "137.945408    8233\n",
       "107.813044    8201\n",
       "Name: product, dtype: int64"
      ]
     },
     "execution_count": 12,
     "metadata": {},
     "output_type": "execute_result"
    }
   ],
   "source": [
    "class_frequency = geo_data_1['product'].value_counts()\n",
    "class_frequency"
   ]
  },
  {
   "cell_type": "markdown",
   "metadata": {},
   "source": [
    "Рассмотрим корелляцию признаков, нет ли зависимых друг от друга. "
   ]
  },
  {
   "cell_type": "code",
   "execution_count": 13,
   "metadata": {},
   "outputs": [
    {
     "data": {
      "text/plain": [
       "<matplotlib.axes._subplots.AxesSubplot at 0x7efd94bd4550>"
      ]
     },
     "execution_count": 13,
     "metadata": {},
     "output_type": "execute_result"
    },
    {
     "data": {
      "image/png": "[encoded data removed]",
      "text/plain": [
       "<Figure size 432x288 with 1 Axes>"
      ]
     },
     "metadata": {},
     "output_type": "display_data"
    }
   ],
   "source": [
    "plt.figure(figsize=(6,4))\n",
    "plt.title('Корреляция признаков первого региона')\n",
    "sns.heatmap(geo_data_0.corr(), annot = True, cmap='coolwarm',\n",
    "            linecolor='black', linewidths=2, cbar=False)"
   ]
  },
  {
   "cell_type": "code",
   "execution_count": 14,
   "metadata": {},
   "outputs": [
    {
     "data": {
      "text/plain": [
       "<matplotlib.axes._subplots.AxesSubplot at 0x7efd94d74f50>"
      ]
     },
     "execution_count": 14,
     "metadata": {},
     "output_type": "execute_result"
    },
    {
     "data": {
      "image/png": "[encoded data removed]",
      "text/plain": [
       "<Figure size 432x288 with 1 Axes>"
      ]
     },
     "metadata": {},
     "output_type": "display_data"
    }
   ],
   "source": [
    "plt.figure(figsize=(6,4))\n",
    "plt.title('Корреляция признаков второго региона')\n",
    "sns.heatmap(geo_data_1.corr(), annot = True, cmap='coolwarm',\n",
    "            linecolor='black', linewidths=2, cbar=False)"
   ]
  },
  {
   "cell_type": "code",
   "execution_count": 15,
   "metadata": {},
   "outputs": [
    {
     "data": {
      "text/plain": [
       "<matplotlib.axes._subplots.AxesSubplot at 0x7efd952d5290>"
      ]
     },
     "execution_count": 15,
     "metadata": {},
     "output_type": "execute_result"
    },
    {
     "data": {
      "image/png": "[encoded data removed]",
      "text/plain": [
       "<Figure size 432x288 with 1 Axes>"
      ]
     },
     "metadata": {},
     "output_type": "display_data"
    }
   ],
   "source": [
    "plt.figure(figsize=(6,4))\n",
    "plt.title('Корреляция признаков третьего региона')\n",
    "sns.heatmap(geo_data_2.corr(), annot = True, cmap='coolwarm',\n",
    "            linecolor='black', linewidths=2, cbar=False)"
   ]
  },
  {
   "cell_type": "markdown",
   "metadata": {},
   "source": [
    "По второму региону имеется максимально сильная корреляция между признаком f2 и целевым признаком. <br>По другим регионам такой корреляции нет, что говорит о том, что в данных могла быть ошибка и, возможно, им не стоит полностью доверять. <br>\n",
    "Надо заметить, что при такой корреляции эта модель обучится предсказывать максимально точно."
   ]
  },
  {
   "cell_type": "markdown",
   "metadata": {},
   "source": [
    "**Вывод** <br>\n",
    "Мы загрузили и рассмотрели данные по трем регионам. Каждый датасет содержит 10 000 строк без пропусков, из них три признака и столбец \"Объем запасов в скважине\". <br>\n",
    "По второму региону данные по объему запасов вызывают сомнения,  так как содержат всего 12 уникальных значений и полностью коррелируют со столбцом f2."
   ]
  },
  {
   "cell_type": "markdown",
   "metadata": {},
   "source": [
    "## Обучение и проверка модели"
   ]
  },
  {
   "cell_type": "markdown",
   "metadata": {},
   "source": [
    "Создадим табличку для записи переменных"
   ]
  },
  {
   "cell_type": "code",
   "execution_count": 16,
   "metadata": {},
   "outputs": [],
   "source": [
    "targets = pd.DataFrame()\n",
    "preds = pd.DataFrame()\n",
    "\n",
    "d = {'Метрика': ['RMSE', 'Средний запас']}\n",
    "metrics1 = pd.DataFrame(data=d)"
   ]
  },
  {
   "cell_type": "markdown",
   "metadata": {},
   "source": [
    "Разобьем данные на обучающую и валидационную выборки в соотношении 75:25.<br>\n",
    "Удалим так же уникальный столбец id, для построения модели он не нужен.<br>\n",
    "Модель, которую будем использовать - линейная регрессия. "
   ]
  },
  {
   "cell_type": "code",
   "execution_count": 17,
   "metadata": {},
   "outputs": [],
   "source": [
    "def fit_model(data, count):   \n",
    "    \n",
    "    features = data.drop(['id', 'product'], axis=1)\n",
    "    target = data['product']\n",
    "    features_train, features_valid, target_train, target_valid = train_test_split(\n",
    "    features, target, test_size=0.25, random_state=12345)\n",
    "    \n",
    "    model = LinearRegression()\n",
    "    #обучим модель\n",
    "    model.fit(features, target) \n",
    "    #получим предсказания\n",
    "    predictions_valid = model.predict(features_valid)\n",
    "    \n",
    "    #рассчитаем метрики RMSE и средний запас product\n",
    "    rmse = mean_squared_error(target_valid, predictions_valid)**0.5    \n",
    "    mean_target = target.mean()   \n",
    "    \n",
    "    #сохраним данные\n",
    "    targets[count] = target_valid\n",
    "    preds[count] = predictions_valid\n",
    "    \n",
    "    #запишем в табличку\n",
    "    col = ('Регион ' + str(count))\n",
    "    metrics1.loc[0, col] = round(rmse, 3)\n",
    "    metrics1.loc[1, col] = round(mean_target, 2)\n",
    " "
   ]
  },
  {
   "cell_type": "markdown",
   "metadata": {},
   "source": [
    "Построим модели по трем регионам"
   ]
  },
  {
   "cell_type": "code",
   "execution_count": 18,
   "metadata": {},
   "outputs": [],
   "source": [
    "fit_model(geo_data_0, 0)\n",
    "fit_model(geo_data_1, 1)\n",
    "fit_model(geo_data_2, 2)"
   ]
  },
  {
   "cell_type": "code",
   "execution_count": 19,
   "metadata": {},
   "outputs": [
    {
     "data": {
      "text/html": [
       "<div>\n",
       "<style scoped>\n",
       "    .dataframe tbody tr th:only-of-type {\n",
       "        vertical-align: middle;\n",
       "    }\n",
       "\n",
       "    .dataframe tbody tr th {\n",
       "        vertical-align: top;\n",
       "    }\n",
       "\n",
       "    .dataframe thead th {\n",
       "        text-align: right;\n",
       "    }\n",
       "</style>\n",
       "<table border=\"1\" class=\"dataframe\">\n",
       "  <thead>\n",
       "    <tr style=\"text-align: right;\">\n",
       "      <th></th>\n",
       "      <th>Метрика</th>\n",
       "      <th>Регион 0</th>\n",
       "      <th>Регион 1</th>\n",
       "      <th>Регион 2</th>\n",
       "    </tr>\n",
       "  </thead>\n",
       "  <tbody>\n",
       "    <tr>\n",
       "      <td>0</td>\n",
       "      <td>RMSE</td>\n",
       "      <td>37.575</td>\n",
       "      <td>0.893</td>\n",
       "      <td>40.027</td>\n",
       "    </tr>\n",
       "    <tr>\n",
       "      <td>1</td>\n",
       "      <td>Средний запас</td>\n",
       "      <td>92.500</td>\n",
       "      <td>68.830</td>\n",
       "      <td>95.000</td>\n",
       "    </tr>\n",
       "  </tbody>\n",
       "</table>\n",
       "</div>"
      ],
      "text/plain": [
       "         Метрика  Регион 0  Регион 1  Регион 2\n",
       "0           RMSE    37.575     0.893    40.027\n",
       "1  Средний запас    92.500    68.830    95.000"
      ]
     },
     "execution_count": 19,
     "metadata": {},
     "output_type": "execute_result"
    }
   ],
   "source": [
    "metrics1"
   ]
  },
  {
   "cell_type": "markdown",
   "metadata": {},
   "source": [
    "**Вывод** <br>\n",
    "Мы создали и обучили модели линейной регрессии по всем трем регионам и получили предсказания. <br>\n",
    "\n",
    "Лучший показатель метрики RMSE у модели по второму региону, отклонения почти нет. \n",
    "Лучший средний запас сырья у третьего региона. "
   ]
  },
  {
   "cell_type": "markdown",
   "metadata": {},
   "source": [
    "## Подготовка к расчёту прибыли"
   ]
  },
  {
   "cell_type": "markdown",
   "metadata": {},
   "source": [
    "Исследуем 500 случайных точек, из которых выберем 200 лучших для разработки. \n",
    "\n",
    "Ключевые значения для расчётов сохраним в отдельных переменных."
   ]
  },
  {
   "cell_type": "markdown",
   "metadata": {},
   "source": [
    "Бюджет на разработку скважин в регионе - 10 млрд рублей.<br>\n",
    "Доход с каждой единицы продукта - 450 тыс. рублей <br>\n",
    "product - объём запасов в скважине (тыс. баррелей)<br>"
   ]
  },
  {
   "cell_type": "code",
   "execution_count": 20,
   "metadata": {},
   "outputs": [],
   "source": [
    "income_per_product = 450000\n",
    "budget = 10**10\n",
    "count_mines = 500\n",
    "count_top_mines = 200"
   ]
  },
  {
   "cell_type": "markdown",
   "metadata": {},
   "source": [
    "**Расчет достаточного объём сырья для безубыточной разработки новой скважины:**"
   ]
  },
  {
   "cell_type": "markdown",
   "metadata": {},
   "source": [
    "Бюджет на 200 скважин составляет 10 млрд. руб.\n",
    "Рассчитаем бюджет на одну скважину."
   ]
  },
  {
   "cell_type": "code",
   "execution_count": 21,
   "metadata": {},
   "outputs": [
    {
     "name": "stdout",
     "output_type": "stream",
     "text": [
      "Бюджет на одну скважину: 50000000 рублей\n"
     ]
    }
   ],
   "source": [
    "budget_per_mine = budget/count_top_mines\n",
    "print('Бюджет на одну скважину: {:.0f} рублей'.format(budget_per_mine))\n"
   ]
  },
  {
   "cell_type": "markdown",
   "metadata": {},
   "source": [
    "Объем сырья для безубыточной разработки должен составлять не менее:"
   ]
  },
  {
   "cell_type": "code",
   "execution_count": 22,
   "metadata": {},
   "outputs": [
    {
     "name": "stdout",
     "output_type": "stream",
     "text": [
      "Минимальный объем на одну скважину: 111.11 тыс. баррелей\n"
     ]
    }
   ],
   "source": [
    "volume_per_mine = budget_per_mine/income_per_product\n",
    "print('Минимальный объем на одну скважину:', round(volume_per_mine,2), 'тыс. баррелей')"
   ]
  },
  {
   "cell_type": "markdown",
   "metadata": {},
   "source": [
    "Сравним со средними запасами по регионам:"
   ]
  },
  {
   "cell_type": "code",
   "execution_count": 23,
   "metadata": {},
   "outputs": [
    {
     "data": {
      "text/html": [
       "<div>\n",
       "<style scoped>\n",
       "    .dataframe tbody tr th:only-of-type {\n",
       "        vertical-align: middle;\n",
       "    }\n",
       "\n",
       "    .dataframe tbody tr th {\n",
       "        vertical-align: top;\n",
       "    }\n",
       "\n",
       "    .dataframe thead th {\n",
       "        text-align: right;\n",
       "    }\n",
       "</style>\n",
       "<table border=\"1\" class=\"dataframe\">\n",
       "  <thead>\n",
       "    <tr style=\"text-align: right;\">\n",
       "      <th></th>\n",
       "      <th>Метрика</th>\n",
       "      <th>Регион 0</th>\n",
       "      <th>Регион 1</th>\n",
       "      <th>Регион 2</th>\n",
       "    </tr>\n",
       "  </thead>\n",
       "  <tbody>\n",
       "    <tr>\n",
       "      <td>0</td>\n",
       "      <td>RMSE</td>\n",
       "      <td>37.575</td>\n",
       "      <td>0.893</td>\n",
       "      <td>40.027</td>\n",
       "    </tr>\n",
       "    <tr>\n",
       "      <td>1</td>\n",
       "      <td>Средний запас</td>\n",
       "      <td>92.500</td>\n",
       "      <td>68.830</td>\n",
       "      <td>95.000</td>\n",
       "    </tr>\n",
       "  </tbody>\n",
       "</table>\n",
       "</div>"
      ],
      "text/plain": [
       "         Метрика  Регион 0  Регион 1  Регион 2\n",
       "0           RMSE    37.575     0.893    40.027\n",
       "1  Средний запас    92.500    68.830    95.000"
      ]
     },
     "execution_count": 23,
     "metadata": {},
     "output_type": "execute_result"
    }
   ],
   "source": [
    "metrics1"
   ]
  },
  {
   "cell_type": "markdown",
   "metadata": {},
   "source": [
    "**Вывод** <br>\n",
    "Для достижения точки безубыточности средний запас должен составлять 111 тыс. баррелей. Ни один регион не дотягивает до цифры 111 по среднему запасу продукта. "
   ]
  },
  {
   "cell_type": "markdown",
   "metadata": {},
   "source": [
    "## Расчёт прибыли по выбранным скважинам и предсказаниям модели:"
   ]
  },
  {
   "cell_type": "markdown",
   "metadata": {},
   "source": [
    "Функция для расчета прибыли по выбранным скважинам."
   ]
  },
  {
   "cell_type": "code",
   "execution_count": 37,
   "metadata": {},
   "outputs": [],
   "source": [
    "def revenue(target, predictions, count):\n",
    "   \n",
    "    predictions = pd.Series(predictions, index=target.index)    \n",
    "    #Выберем скважины с максимальными значениями предсказаний:\n",
    "    predictions_sorted = predictions.sort_values(ascending=False)[:count_top_mines]\n",
    "    #Просуммируем целевое значение сырья, соответствующее этим предсказаниям\n",
    "    selected = target[predictions_sorted.index]\n",
    "    sum_product = selected.sum()    \n",
    "    #Рассчитаем прибыль для полученного объема сырья\n",
    "    result = income_per_product * sum_product - budget\n",
    "    return result"
   ]
  },
  {
   "cell_type": "markdown",
   "metadata": {},
   "source": [
    "Прибыль для полученного объёма сырья:"
   ]
  },
  {
   "cell_type": "code",
   "execution_count": 25,
   "metadata": {},
   "outputs": [],
   "source": [
    "d = {'Метрика': ['Целевая прибыль, млрд. руб', \n",
    "                 'Средняя прибыль, млрд. руб', 'Риск убытков, %']}\n",
    "metrics = pd.DataFrame(data=d)\n",
    "metrics = metrics1.append(metrics).reset_index(drop=True)"
   ]
  },
  {
   "cell_type": "code",
   "execution_count": 26,
   "metadata": {},
   "outputs": [
    {
     "name": "stdout",
     "output_type": "stream",
     "text": [
      "Прибыль первого региона: 3.32 млрд рублей\n",
      "Прибыль второго региона: 2.42 млрд рублей\n",
      "Прибыль третьего региона: 2.73 млрд рублей\n"
     ]
    }
   ],
   "source": [
    "targets = targets.reset_index(drop=True)\n",
    "revenue_0 = revenue(targets[0], preds[0], count_top_mines)/10**9\n",
    "print('Прибыль первого региона: {:.2f} млрд рублей'.format(revenue_0))\n",
    "revenue_1 = revenue(targets[1], preds[1], count_top_mines)/10**9\n",
    "print('Прибыль второго региона: {:.2f} млрд рублей'.format(revenue_1))\n",
    "revenue_2 = revenue(targets[2], preds[2], count_top_mines)/10**9\n",
    "print('Прибыль третьего региона: {:.2f} млрд рублей'.format(revenue_2))"
   ]
  },
  {
   "cell_type": "code",
   "execution_count": 32,
   "metadata": {},
   "outputs": [
    {
     "data": {
      "text/html": [
       "<div>\n",
       "<style scoped>\n",
       "    .dataframe tbody tr th:only-of-type {\n",
       "        vertical-align: middle;\n",
       "    }\n",
       "\n",
       "    .dataframe tbody tr th {\n",
       "        vertical-align: top;\n",
       "    }\n",
       "\n",
       "    .dataframe thead th {\n",
       "        text-align: right;\n",
       "    }\n",
       "</style>\n",
       "<table border=\"1\" class=\"dataframe\">\n",
       "  <thead>\n",
       "    <tr style=\"text-align: right;\">\n",
       "      <th></th>\n",
       "      <th>Метрика</th>\n",
       "      <th>Регион 0</th>\n",
       "      <th>Регион 1</th>\n",
       "      <th>Регион 2</th>\n",
       "    </tr>\n",
       "  </thead>\n",
       "  <tbody>\n",
       "    <tr>\n",
       "      <td>0</td>\n",
       "      <td>RMSE</td>\n",
       "      <td>37.575</td>\n",
       "      <td>0.893</td>\n",
       "      <td>40.027</td>\n",
       "    </tr>\n",
       "    <tr>\n",
       "      <td>1</td>\n",
       "      <td>Средний запас</td>\n",
       "      <td>92.500</td>\n",
       "      <td>68.830</td>\n",
       "      <td>95.000</td>\n",
       "    </tr>\n",
       "    <tr>\n",
       "      <td>2</td>\n",
       "      <td>Целевая прибыль, млрд. руб</td>\n",
       "      <td>3.321</td>\n",
       "      <td>2.415</td>\n",
       "      <td>2.732</td>\n",
       "    </tr>\n",
       "    <tr>\n",
       "      <td>3</td>\n",
       "      <td>Средняя прибыль, млрд. руб</td>\n",
       "      <td>0.601</td>\n",
       "      <td>0.665</td>\n",
       "      <td>0.617</td>\n",
       "    </tr>\n",
       "    <tr>\n",
       "      <td>4</td>\n",
       "      <td>Риск убытков, %</td>\n",
       "      <td>2.100</td>\n",
       "      <td>0.300</td>\n",
       "      <td>3.100</td>\n",
       "    </tr>\n",
       "  </tbody>\n",
       "</table>\n",
       "</div>"
      ],
      "text/plain": [
       "                      Метрика  Регион 0  Регион 1  Регион 2\n",
       "0                        RMSE    37.575     0.893    40.027\n",
       "1               Средний запас    92.500    68.830    95.000\n",
       "2  Целевая прибыль, млрд. руб     3.321     2.415     2.732\n",
       "3  Средняя прибыль, млрд. руб     0.601     0.665     0.617\n",
       "4             Риск убытков, %     2.100     0.300     3.100"
      ]
     },
     "execution_count": 32,
     "metadata": {},
     "output_type": "execute_result"
    }
   ],
   "source": [
    "metrics.loc[2, 'Регион 0'] = round(revenue_0, 3)\n",
    "metrics.loc[2, 'Регион 1'] = round(revenue_1, 3)\n",
    "metrics.loc[2, 'Регион 2'] = round(revenue_2, 3)\n",
    "metrics"
   ]
  },
  {
   "cell_type": "markdown",
   "metadata": {},
   "source": [
    "**Вывод** <br>\n",
    "Мы исследовали 500 точек для разработки скважин и отобрали 200 лучших из них. <br>\n",
    "Прибыль по этим точкам составила 3.321 млрд. руб для первого региона,  2.415 для второго и 2.732 для третьего. Лучшая прибыль у первого региона. "
   ]
  },
  {
   "cell_type": "markdown",
   "metadata": {},
   "source": [
    "## Расчёт прибыли и рисков "
   ]
  },
  {
   "cell_type": "markdown",
   "metadata": {},
   "source": [
    "Применим технику Bootstrap с 1000 выборок, чтобы найти распределение прибыли.\n"
   ]
  },
  {
   "cell_type": "code",
   "execution_count": 34,
   "metadata": {},
   "outputs": [
    {
     "name": "stdout",
     "output_type": "stream",
     "text": [
      "Средняя прибыль первого региона: 0.43 млрд рублей\n",
      "95%-ый доверительный интервал: (0.41004796202303684, 0.44447706320639313)\n",
      "Риск убытков 6.0 %\n"
     ]
    }
   ],
   "source": [
    "targets = targets.reset_index(drop=True)\n",
    "state = np.random.RandomState(12345) \n",
    "values = []\n",
    "for i in range(1000):\n",
    "    target_subsample = pd.Series(targets[0]).sample(count_mines, replace=True, random_state=state)\n",
    "    probs_subsample = pd.Series(preds[0])[target_subsample.index]\n",
    "    values.append(revenue(target_subsample, probs_subsample, count_top_mines))\n",
    "\n",
    "values = pd.Series(values)\n",
    "mean = values.mean()\n",
    "risk_of_loss = values[values<0].count()/len(values)*100\n",
    "\n",
    "print('Средняя прибыль первого региона: {:.2f} млрд рублей'.format(mean/10**9))\n",
    "\n",
    "confidence_interval =  st.t.interval(\n",
    "    0.95, len(values)-1, mean/10**9, values.sem()/10**9) \n",
    "\n",
    "print(\"95%-ый доверительный интервал:\", confidence_interval)\n",
    "print(\"Риск убытков\", risk_of_loss, '%')\n",
    "\n",
    "metrics.loc[3, 'Регион 0'] = round(mean/10**9, 3)\n",
    "metrics.loc[4, 'Регион 0'] = risk_of_loss\n"
   ]
  },
  {
   "cell_type": "code",
   "execution_count": 35,
   "metadata": {},
   "outputs": [
    {
     "name": "stdout",
     "output_type": "stream",
     "text": [
      "Средняя прибыль второго региона : 0.52 млрд рублей\n",
      "95%-ый доверительный интервал: (0.5016229657067748, 0.5288254423721299)\n",
      "Риск убытков 1.0 %\n"
     ]
    }
   ],
   "source": [
    "targets = targets.reset_index(drop=True)\n",
    "state = np.random.RandomState(12345) \n",
    "values = []\n",
    "for i in range(1000):\n",
    "    target_subsample = pd.Series(targets[1]).sample(count_mines, replace=True, random_state=state)\n",
    "    probs_subsample = pd.Series(preds[1])[target_subsample.index]\n",
    "    values.append(revenue(target_subsample, probs_subsample, count_top_mines))\n",
    "\n",
    "values = pd.Series(values)\n",
    "mean = values.mean()\n",
    "risk_of_loss = values[values<0].count()/len(values)*100\n",
    "\n",
    "print('Средняя прибыль второго региона : {:.2f} млрд рублей'.format(mean/10**9))\n",
    "\n",
    "confidence_interval =  st.t.interval(\n",
    "    0.95, len(values)-1, mean/10**9, values.sem()/10**9) \n",
    "\n",
    "print(\"95%-ый доверительный интервал:\", confidence_interval)\n",
    "print(\"Риск убытков\", risk_of_loss, '%')\n",
    "\n",
    "metrics.loc[3, 'Регион 1'] = round(mean/10**9, 3)\n",
    "metrics.loc[4, 'Регион 1'] = risk_of_loss\n"
   ]
  },
  {
   "cell_type": "code",
   "execution_count": 36,
   "metadata": {},
   "outputs": [
    {
     "name": "stdout",
     "output_type": "stream",
     "text": [
      "Средняя прибыль третьего региона : 0.44 млрд рублей\n",
      "95%-ый доверительный интервал: (0.4190146118864122, 0.4541147065400758)\n",
      "Риск убытков 6.4 %\n"
     ]
    }
   ],
   "source": [
    "targets = targets.reset_index(drop=True)\n",
    "state = np.random.RandomState(12345) \n",
    "values = []\n",
    "for i in range(1000):\n",
    "    target_subsample = pd.Series(targets[2]).sample(count_mines, replace=True, random_state=state)\n",
    "    probs_subsample = pd.Series(preds[2])[target_subsample.index]\n",
    "    values.append(revenue(target_subsample, probs_subsample, count_top_mines))\n",
    "\n",
    "values = pd.Series(values)\n",
    "mean = values.mean()\n",
    "risk_of_loss = values[values<0].count()/len(values)*100\n",
    "\n",
    "\n",
    "print('Средняя прибыль третьего региона : {:.2f} млрд рублей'.format(mean/10**9))\n",
    "\n",
    "confidence_interval =  st.t.interval(\n",
    "    0.95, len(values)-1, mean/10**9, values.sem()/10**9) \n",
    "\n",
    "print(\"95%-ый доверительный интервал:\", confidence_interval)\n",
    "print(\"Риск убытков\", risk_of_loss, '%')\n",
    "\n",
    "metrics.loc[3, 'Регион 2'] = round(mean/10**9, 3)\n",
    "metrics.loc[4, 'Регион 2'] = risk_of_loss\n",
    "\n"
   ]
  },
  {
   "cell_type": "code",
   "execution_count": 31,
   "metadata": {},
   "outputs": [
    {
     "data": {
      "text/html": [
       "<div>\n",
       "<style scoped>\n",
       "    .dataframe tbody tr th:only-of-type {\n",
       "        vertical-align: middle;\n",
       "    }\n",
       "\n",
       "    .dataframe tbody tr th {\n",
       "        vertical-align: top;\n",
       "    }\n",
       "\n",
       "    .dataframe thead th {\n",
       "        text-align: right;\n",
       "    }\n",
       "</style>\n",
       "<table border=\"1\" class=\"dataframe\">\n",
       "  <thead>\n",
       "    <tr style=\"text-align: right;\">\n",
       "      <th></th>\n",
       "      <th>Метрика</th>\n",
       "      <th>Регион 0</th>\n",
       "      <th>Регион 1</th>\n",
       "      <th>Регион 2</th>\n",
       "    </tr>\n",
       "  </thead>\n",
       "  <tbody>\n",
       "    <tr>\n",
       "      <td>0</td>\n",
       "      <td>RMSE</td>\n",
       "      <td>37.575</td>\n",
       "      <td>0.893</td>\n",
       "      <td>40.027</td>\n",
       "    </tr>\n",
       "    <tr>\n",
       "      <td>1</td>\n",
       "      <td>Средний запас</td>\n",
       "      <td>92.500</td>\n",
       "      <td>68.830</td>\n",
       "      <td>95.000</td>\n",
       "    </tr>\n",
       "    <tr>\n",
       "      <td>2</td>\n",
       "      <td>Целевая прибыль, млрд. руб</td>\n",
       "      <td>3.321</td>\n",
       "      <td>2.415</td>\n",
       "      <td>2.732</td>\n",
       "    </tr>\n",
       "    <tr>\n",
       "      <td>3</td>\n",
       "      <td>Средняя прибыль, млрд. руб</td>\n",
       "      <td>0.601</td>\n",
       "      <td>0.665</td>\n",
       "      <td>0.617</td>\n",
       "    </tr>\n",
       "    <tr>\n",
       "      <td>4</td>\n",
       "      <td>Риск убытков, %</td>\n",
       "      <td>2.100</td>\n",
       "      <td>0.300</td>\n",
       "      <td>3.100</td>\n",
       "    </tr>\n",
       "  </tbody>\n",
       "</table>\n",
       "</div>"
      ],
      "text/plain": [
       "                      Метрика  Регион 0  Регион 1  Регион 2\n",
       "0                        RMSE    37.575     0.893    40.027\n",
       "1               Средний запас    92.500    68.830    95.000\n",
       "2  Целевая прибыль, млрд. руб     3.321     2.415     2.732\n",
       "3  Средняя прибыль, млрд. руб     0.601     0.665     0.617\n",
       "4             Риск убытков, %     2.100     0.300     3.100"
      ]
     },
     "execution_count": 31,
     "metadata": {},
     "output_type": "execute_result"
    }
   ],
   "source": [
    "metrics"
   ]
  },
  {
   "cell_type": "markdown",
   "metadata": {},
   "source": [
    "**Вывод**\n",
    "С помощью техники Bootstrap мы оценили распределение вероятности прибыли, доверительный интервал и риск убытков. <br>\n",
    "Средняя прибыль оказалась наибольшей у второго региона с минимальным риском убытков. <br>\n",
    "По третьему региону риск убытков превышает 2,5%, что заставляет исключить его из рассмотрения. <br>\n"
   ]
  },
  {
   "cell_type": "markdown",
   "metadata": {},
   "source": [
    "## Общий вывод"
   ]
  },
  {
   "cell_type": "markdown",
   "metadata": {},
   "source": [
    "Мы исследовали характеристики скважин по трем регионам, построили и обучили модели. \n",
    "Из десяти тысяч записей отобрали 500 случайных точек для разработки скважины и выбрали 200 из них с максимальными запасами сырья, а так же нашли общую прибыль по каждому региону с учетом нашего бюджета. \n",
    "\n",
    "Лучшей моделью оказалась модель для второго региона, с самой низкой метрикой RMSI.\n",
    "Однако полученные по этому региону данные выглядят не вполне достоверными, так как столбец с запасами сырья содержит всего двенадцать уникальных значений, которые полностью зависят от признака f2 и корреллируют с ним. \n",
    "\n",
    "Так же мы нашли распределение прибыли и среднее значение прибыли по каждому региону. \n",
    "Средняя прибыль по первому региону - 0.60, по второму - 0.66, по третьему - 0.61 млрд. руб. \n",
    "Риск убытков при этом составляет 2.1% для первого региона, 0.3% для второго, и 3.1% для третьего. \n",
    "\n",
    "Максимальный риск убытков, который мы можем себе позволить, составляет 2,5%, так что третий регион придется исключить. \n",
    "Прибыль максимальна по второму региону, а так же минимальный риск убытков, близкий к нулю. Однако это, несомненно, связано с особенностями полученных данных, поэтому, без дополнительного исследования или пояснений, мы не можем рекомендовать этот регион. \n",
    "\n",
    "Для разработки остается первый регион, хотя там и наименьшая средняя прибыль из трех, но риск убытков в пределах нормы. "
   ]
  }
 ],
 "metadata": {
  "ExecuteTimeLog": [
   {
    "duration": 2272,
    "start_time": "2021-06-21T19:57:05.645Z"
   },
   {
    "duration": 231,
    "start_time": "2021-06-21T20:01:32.819Z"
   },
   {
    "duration": 170,
    "start_time": "2021-06-21T20:01:49.055Z"
   },
   {
    "duration": 180,
    "start_time": "2021-06-21T20:01:56.424Z"
   },
   {
    "duration": 24,
    "start_time": "2021-06-21T20:02:08.480Z"
   },
   {
    "duration": 17,
    "start_time": "2021-06-21T20:02:28.719Z"
   },
   {
    "duration": 13,
    "start_time": "2021-06-21T20:02:40.278Z"
   },
   {
    "duration": 13,
    "start_time": "2021-06-21T20:02:44.695Z"
   },
   {
    "duration": 8,
    "start_time": "2021-06-21T20:30:47.881Z"
   },
   {
    "duration": 8,
    "start_time": "2021-06-21T21:08:38.071Z"
   },
   {
    "duration": 29,
    "start_time": "2021-06-21T21:08:58.267Z"
   },
   {
    "duration": 30,
    "start_time": "2021-06-21T21:09:05.876Z"
   },
   {
    "duration": 429,
    "start_time": "2021-06-21T21:09:58.663Z"
   },
   {
    "duration": 9,
    "start_time": "2021-06-21T21:10:30.024Z"
   },
   {
    "duration": 19,
    "start_time": "2021-06-21T21:10:32.823Z"
   },
   {
    "duration": 7,
    "start_time": "2021-06-21T21:10:37.805Z"
   },
   {
    "duration": 20,
    "start_time": "2021-06-21T21:10:38.318Z"
   },
   {
    "duration": 38,
    "start_time": "2021-06-21T21:10:39.817Z"
   },
   {
    "duration": 6,
    "start_time": "2021-06-21T21:11:27.584Z"
   },
   {
    "duration": 19,
    "start_time": "2021-06-21T21:11:28.696Z"
   },
   {
    "duration": 97,
    "start_time": "2021-06-21T21:11:29.759Z"
   },
   {
    "duration": 8,
    "start_time": "2021-06-21T21:11:53.126Z"
   },
   {
    "duration": 6,
    "start_time": "2021-06-21T21:12:11.948Z"
   },
   {
    "duration": 23,
    "start_time": "2021-06-21T21:12:12.246Z"
   },
   {
    "duration": 111,
    "start_time": "2021-06-21T21:12:12.750Z"
   },
   {
    "duration": 6,
    "start_time": "2021-06-21T21:12:25.430Z"
   },
   {
    "duration": 18,
    "start_time": "2021-06-21T21:12:26.239Z"
   },
   {
    "duration": 16,
    "start_time": "2021-06-21T21:12:26.807Z"
   },
   {
    "duration": 5,
    "start_time": "2021-06-21T21:12:41.862Z"
   },
   {
    "duration": 16,
    "start_time": "2021-06-21T21:12:57.199Z"
   },
   {
    "duration": 6,
    "start_time": "2021-06-21T21:13:01.637Z"
   },
   {
    "duration": 20,
    "start_time": "2021-06-21T21:13:02.111Z"
   },
   {
    "duration": 16,
    "start_time": "2021-06-21T21:13:03.047Z"
   },
   {
    "duration": 17,
    "start_time": "2021-06-21T21:13:07.048Z"
   },
   {
    "duration": 5,
    "start_time": "2021-06-21T21:14:27.149Z"
   },
   {
    "duration": 20,
    "start_time": "2021-06-21T21:14:27.643Z"
   },
   {
    "duration": 86,
    "start_time": "2021-06-21T21:14:28.773Z"
   },
   {
    "duration": 18,
    "start_time": "2021-06-21T21:15:37.660Z"
   },
   {
    "duration": 80,
    "start_time": "2021-06-21T21:15:44.277Z"
   },
   {
    "duration": 6,
    "start_time": "2021-06-21T21:15:51.940Z"
   },
   {
    "duration": 24,
    "start_time": "2021-06-21T21:15:52.261Z"
   },
   {
    "duration": 45,
    "start_time": "2021-06-21T21:15:52.813Z"
   },
   {
    "duration": 8,
    "start_time": "2021-06-21T21:15:56.612Z"
   },
   {
    "duration": 18,
    "start_time": "2021-06-21T21:15:56.956Z"
   },
   {
    "duration": 16,
    "start_time": "2021-06-21T21:15:57.524Z"
   },
   {
    "duration": 20,
    "start_time": "2021-06-21T21:16:00.971Z"
   },
   {
    "duration": 6,
    "start_time": "2021-06-21T21:16:05.076Z"
   },
   {
    "duration": 18,
    "start_time": "2021-06-21T21:16:05.453Z"
   },
   {
    "duration": 19,
    "start_time": "2021-06-21T21:16:08.395Z"
   },
   {
    "duration": 5,
    "start_time": "2021-06-24T22:12:15.147Z"
   },
   {
    "duration": 416,
    "start_time": "2021-06-24T22:57:47.425Z"
   },
   {
    "duration": 1477,
    "start_time": "2021-06-24T22:58:03.027Z"
   },
   {
    "duration": 161,
    "start_time": "2021-06-24T22:58:04.506Z"
   },
   {
    "duration": 147,
    "start_time": "2021-06-24T22:58:04.670Z"
   },
   {
    "duration": 153,
    "start_time": "2021-06-24T22:58:05.949Z"
   },
   {
    "duration": 15,
    "start_time": "2021-06-24T22:58:06.181Z"
   },
   {
    "duration": 18,
    "start_time": "2021-06-24T22:58:06.388Z"
   },
   {
    "duration": 12,
    "start_time": "2021-06-24T22:58:07.701Z"
   },
   {
    "duration": 12,
    "start_time": "2021-06-24T22:58:07.997Z"
   },
   {
    "duration": 371,
    "start_time": "2021-06-24T22:58:08.960Z"
   },
   {
    "duration": 306,
    "start_time": "2021-06-24T22:58:19.894Z"
   },
   {
    "duration": 310,
    "start_time": "2021-06-24T22:58:29.357Z"
   },
   {
    "duration": 286,
    "start_time": "2021-06-24T22:58:44.622Z"
   },
   {
    "duration": 23,
    "start_time": "2021-06-24T22:59:22.716Z"
   },
   {
    "duration": 31,
    "start_time": "2021-06-24T22:59:29.716Z"
   },
   {
    "duration": 314,
    "start_time": "2021-06-24T23:00:14.340Z"
   },
   {
    "duration": 333,
    "start_time": "2021-06-24T23:00:23.500Z"
   },
   {
    "duration": 381,
    "start_time": "2021-06-24T23:00:33.253Z"
   },
   {
    "duration": 6,
    "start_time": "2021-06-24T23:01:28.203Z"
   },
   {
    "duration": 20,
    "start_time": "2021-06-24T23:01:30.315Z"
   },
   {
    "duration": 41,
    "start_time": "2021-06-24T23:01:32.059Z"
   },
   {
    "duration": 6,
    "start_time": "2021-06-24T23:01:45.587Z"
   },
   {
    "duration": 21,
    "start_time": "2021-06-24T23:01:45.866Z"
   },
   {
    "duration": 19,
    "start_time": "2021-06-24T23:01:46.706Z"
   },
   {
    "duration": 6,
    "start_time": "2021-06-24T23:01:52.459Z"
   },
   {
    "duration": 21,
    "start_time": "2021-06-24T23:01:53.761Z"
   },
   {
    "duration": 26,
    "start_time": "2021-06-24T23:01:54.027Z"
   },
   {
    "duration": 17,
    "start_time": "2021-06-24T23:02:12.415Z"
   },
   {
    "duration": 16,
    "start_time": "2021-06-24T23:02:16.892Z"
   },
   {
    "duration": 17,
    "start_time": "2021-06-24T23:02:19.186Z"
   },
   {
    "duration": 6,
    "start_time": "2021-06-24T23:02:20.801Z"
   },
   {
    "duration": 17,
    "start_time": "2021-06-24T23:06:22.569Z"
   },
   {
    "duration": 6,
    "start_time": "2021-06-24T23:06:23.638Z"
   },
   {
    "duration": 44,
    "start_time": "2021-06-24T23:06:25.559Z"
   },
   {
    "duration": 91,
    "start_time": "2021-06-24T23:06:29.609Z"
   },
   {
    "duration": 6,
    "start_time": "2021-06-24T23:06:30.775Z"
   },
   {
    "duration": 16,
    "start_time": "2021-06-24T23:06:33.937Z"
   },
   {
    "duration": 76,
    "start_time": "2021-06-24T23:06:40.025Z"
   },
   {
    "duration": 19,
    "start_time": "2021-06-24T23:06:58.977Z"
   },
   {
    "duration": 16,
    "start_time": "2021-06-24T23:07:05.383Z"
   },
   {
    "duration": 18,
    "start_time": "2021-06-24T23:07:08.246Z"
   },
   {
    "duration": 17,
    "start_time": "2021-06-24T23:07:18.209Z"
   },
   {
    "duration": 16,
    "start_time": "2021-06-24T23:07:21.032Z"
   },
   {
    "duration": 16,
    "start_time": "2021-06-24T23:07:28.943Z"
   },
   {
    "duration": 17,
    "start_time": "2021-06-24T23:07:35.251Z"
   },
   {
    "duration": 363,
    "start_time": "2021-06-24T23:09:07.846Z"
   },
   {
    "duration": 18,
    "start_time": "2021-06-24T23:09:10.655Z"
   },
   {
    "duration": 18,
    "start_time": "2021-06-24T23:09:15.820Z"
   },
   {
    "duration": 17,
    "start_time": "2021-06-24T23:09:23.391Z"
   },
   {
    "duration": 18,
    "start_time": "2021-06-24T23:09:27.573Z"
   },
   {
    "duration": 716,
    "start_time": "2021-06-24T23:13:18.679Z"
   },
   {
    "duration": 642,
    "start_time": "2021-06-24T23:13:28.540Z"
   },
   {
    "duration": 1275,
    "start_time": "2021-06-24T23:13:38.685Z"
   },
   {
    "duration": 2043,
    "start_time": "2021-06-24T23:13:49.957Z"
   },
   {
    "duration": 1876,
    "start_time": "2021-06-24T23:13:56.365Z"
   },
   {
    "duration": 1883,
    "start_time": "2021-06-24T23:14:04.356Z"
   },
   {
    "duration": 2331,
    "start_time": "2021-06-24T23:14:26.932Z"
   },
   {
    "duration": 2331,
    "start_time": "2021-06-24T23:15:15.476Z"
   },
   {
    "duration": 15,
    "start_time": "2021-06-24T23:15:56.255Z"
   },
   {
    "duration": 14,
    "start_time": "2021-06-24T23:16:57.020Z"
   },
   {
    "duration": 13,
    "start_time": "2021-06-24T23:17:31.775Z"
   },
   {
    "duration": 13,
    "start_time": "2021-06-24T23:17:34.210Z"
   },
   {
    "duration": 1166,
    "start_time": "2021-06-24T23:18:20.610Z"
   },
   {
    "duration": 2365,
    "start_time": "2021-06-24T23:18:24.944Z"
   },
   {
    "duration": 2716,
    "start_time": "2021-06-24T23:18:45.802Z"
   },
   {
    "duration": 3,
    "start_time": "2021-06-24T23:20:07.700Z"
   },
   {
    "duration": 73,
    "start_time": "2021-06-24T23:54:01.331Z"
   },
   {
    "duration": 284,
    "start_time": "2021-06-24T23:54:06.018Z"
   },
   {
    "duration": 18,
    "start_time": "2021-06-24T23:54:09.541Z"
   },
   {
    "duration": 278,
    "start_time": "2021-06-25T01:00:50.692Z"
   },
   {
    "duration": 8,
    "start_time": "2021-06-25T01:01:06.510Z"
   },
   {
    "duration": 10,
    "start_time": "2021-06-25T01:01:10.717Z"
   },
   {
    "duration": 16,
    "start_time": "2021-06-25T01:43:54.266Z"
   },
   {
    "duration": 17,
    "start_time": "2021-06-25T01:43:59.636Z"
   },
   {
    "duration": 17,
    "start_time": "2021-06-25T01:44:08.013Z"
   },
   {
    "duration": 6,
    "start_time": "2021-06-25T01:44:15.156Z"
   },
   {
    "duration": 23,
    "start_time": "2021-06-25T01:44:15.844Z"
   },
   {
    "duration": 20,
    "start_time": "2021-06-25T01:44:17.588Z"
   },
   {
    "duration": 18,
    "start_time": "2021-06-25T01:44:20.348Z"
   },
   {
    "duration": 19,
    "start_time": "2021-06-25T01:44:23.452Z"
   },
   {
    "duration": 18,
    "start_time": "2021-06-25T01:44:28.372Z"
   },
   {
    "duration": 6,
    "start_time": "2021-06-25T01:44:32.091Z"
   },
   {
    "duration": 19,
    "start_time": "2021-06-25T01:44:32.532Z"
   },
   {
    "duration": 18,
    "start_time": "2021-06-25T01:44:34.612Z"
   },
   {
    "duration": 19,
    "start_time": "2021-06-25T01:44:44.798Z"
   },
   {
    "duration": 6,
    "start_time": "2021-06-25T01:44:46.555Z"
   },
   {
    "duration": 16,
    "start_time": "2021-06-25T01:44:46.931Z"
   },
   {
    "duration": 23,
    "start_time": "2021-06-25T01:44:47.507Z"
   },
   {
    "duration": 18,
    "start_time": "2021-06-25T01:44:51.812Z"
   },
   {
    "duration": 6,
    "start_time": "2021-06-25T01:44:54.635Z"
   },
   {
    "duration": 19,
    "start_time": "2021-06-25T01:44:55.035Z"
   },
   {
    "duration": 20,
    "start_time": "2021-06-25T01:44:57.387Z"
   },
   {
    "duration": 21,
    "start_time": "2021-06-25T01:45:01.892Z"
   },
   {
    "duration": 5,
    "start_time": "2021-06-25T14:21:35.104Z"
   },
   {
    "duration": 304,
    "start_time": "2021-06-25T14:22:20.524Z"
   },
   {
    "duration": 4,
    "start_time": "2021-06-25T14:22:24.679Z"
   },
   {
    "duration": 646,
    "start_time": "2021-06-25T14:22:26.065Z"
   },
   {
    "duration": 4223,
    "start_time": "2021-06-25T14:22:53.575Z"
   },
   {
    "duration": 519,
    "start_time": "2021-06-25T14:23:05.431Z"
   },
   {
    "duration": 4,
    "start_time": "2021-06-25T14:23:45.863Z"
   },
   {
    "duration": 348,
    "start_time": "2021-06-25T14:26:01.551Z"
   },
   {
    "duration": 5,
    "start_time": "2021-06-25T14:26:13.464Z"
   },
   {
    "duration": 269,
    "start_time": "2021-06-25T14:26:14.862Z"
   },
   {
    "duration": 5,
    "start_time": "2021-06-25T14:28:51.877Z"
   },
   {
    "duration": 15,
    "start_time": "2021-06-25T14:29:03.908Z"
   },
   {
    "duration": 5,
    "start_time": "2021-06-25T14:29:16.518Z"
   },
   {
    "duration": 15,
    "start_time": "2021-06-25T14:29:18.371Z"
   },
   {
    "duration": 4,
    "start_time": "2021-06-25T14:29:30.222Z"
   },
   {
    "duration": 14,
    "start_time": "2021-06-25T14:29:32.324Z"
   },
   {
    "duration": 3,
    "start_time": "2021-06-25T14:31:02.771Z"
   },
   {
    "duration": 5,
    "start_time": "2021-06-25T14:31:06.163Z"
   },
   {
    "duration": 4,
    "start_time": "2021-06-25T17:01:40.719Z"
   },
   {
    "duration": 14,
    "start_time": "2021-06-25T17:01:41.773Z"
   },
   {
    "duration": 5,
    "start_time": "2021-06-25T17:01:50.482Z"
   },
   {
    "duration": 4,
    "start_time": "2021-06-25T17:01:52.568Z"
   },
   {
    "duration": 4,
    "start_time": "2021-06-25T17:01:53.264Z"
   },
   {
    "duration": 14,
    "start_time": "2021-06-25T17:01:54.378Z"
   },
   {
    "duration": 5,
    "start_time": "2021-06-25T17:02:06.114Z"
   },
   {
    "duration": 14,
    "start_time": "2021-06-25T17:02:07.912Z"
   },
   {
    "duration": 4,
    "start_time": "2021-06-25T17:02:18.196Z"
   },
   {
    "duration": 14,
    "start_time": "2021-06-25T17:02:20.216Z"
   },
   {
    "duration": 4,
    "start_time": "2021-06-25T17:03:44.864Z"
   },
   {
    "duration": 13,
    "start_time": "2021-06-25T17:03:50.784Z"
   },
   {
    "duration": 4,
    "start_time": "2021-06-25T17:03:55.863Z"
   },
   {
    "duration": 13,
    "start_time": "2021-06-25T17:03:57.125Z"
   },
   {
    "duration": 19,
    "start_time": "2021-06-25T17:38:01.764Z"
   },
   {
    "duration": 18,
    "start_time": "2021-06-25T17:41:30.115Z"
   },
   {
    "duration": 21,
    "start_time": "2021-06-25T17:41:41.507Z"
   },
   {
    "duration": 88,
    "start_time": "2021-06-25T17:43:31.401Z"
   },
   {
    "duration": 84,
    "start_time": "2021-06-25T17:43:55.902Z"
   },
   {
    "duration": 99,
    "start_time": "2021-06-25T17:43:59.513Z"
   },
   {
    "duration": 4,
    "start_time": "2021-06-25T17:44:13.740Z"
   },
   {
    "duration": 5,
    "start_time": "2021-06-25T17:44:27.681Z"
   },
   {
    "duration": 5,
    "start_time": "2021-06-25T17:45:08.400Z"
   },
   {
    "duration": 5,
    "start_time": "2021-06-25T17:45:14.987Z"
   },
   {
    "duration": 528,
    "start_time": "2021-06-25T17:45:33.504Z"
   },
   {
    "duration": 29,
    "start_time": "2021-06-25T17:46:22.672Z"
   },
   {
    "duration": 6,
    "start_time": "2021-06-25T17:46:54.831Z"
   },
   {
    "duration": 6,
    "start_time": "2021-06-25T17:46:59.151Z"
   },
   {
    "duration": 6,
    "start_time": "2021-06-25T17:47:00.911Z"
   },
   {
    "duration": 19,
    "start_time": "2021-06-25T17:47:55.608Z"
   },
   {
    "duration": 21,
    "start_time": "2021-06-25T17:48:16.070Z"
   },
   {
    "duration": 6,
    "start_time": "2021-06-25T17:48:54.934Z"
   },
   {
    "duration": 20,
    "start_time": "2021-06-25T17:48:55.181Z"
   },
   {
    "duration": 18,
    "start_time": "2021-06-25T17:48:55.469Z"
   },
   {
    "duration": 21,
    "start_time": "2021-06-25T17:48:55.845Z"
   },
   {
    "duration": 28,
    "start_time": "2021-06-25T17:49:28.583Z"
   },
   {
    "duration": 21,
    "start_time": "2021-06-25T17:49:38.006Z"
   },
   {
    "duration": 21,
    "start_time": "2021-06-25T17:49:45.848Z"
   },
   {
    "duration": 23,
    "start_time": "2021-06-25T17:49:51.781Z"
   },
   {
    "duration": 125,
    "start_time": "2021-06-25T17:50:04.885Z"
   },
   {
    "duration": 343,
    "start_time": "2021-06-25T17:50:17.061Z"
   },
   {
    "duration": 258,
    "start_time": "2021-06-25T17:50:37.045Z"
   },
   {
    "duration": 4,
    "start_time": "2021-06-25T17:51:00.732Z"
   },
   {
    "duration": 4,
    "start_time": "2021-06-25T17:51:04.564Z"
   },
   {
    "duration": 14,
    "start_time": "2021-06-25T17:51:12.478Z"
   },
   {
    "duration": 30,
    "start_time": "2021-06-25T17:51:25.597Z"
   },
   {
    "duration": 29,
    "start_time": "2021-06-25T17:51:34.453Z"
   },
   {
    "duration": 28,
    "start_time": "2021-06-25T17:51:41.445Z"
   },
   {
    "duration": 4,
    "start_time": "2021-06-25T17:51:50.622Z"
   },
   {
    "duration": 27,
    "start_time": "2021-06-25T17:51:52.124Z"
   },
   {
    "duration": 4,
    "start_time": "2021-06-25T17:52:06.085Z"
   },
   {
    "duration": 29,
    "start_time": "2021-06-25T17:52:07.437Z"
   },
   {
    "duration": 4,
    "start_time": "2021-06-25T18:40:38.954Z"
   },
   {
    "duration": 26,
    "start_time": "2021-06-25T18:40:40.143Z"
   },
   {
    "duration": 4,
    "start_time": "2021-06-25T18:40:49.734Z"
   },
   {
    "duration": 28,
    "start_time": "2021-06-25T18:40:51.270Z"
   },
   {
    "duration": 5,
    "start_time": "2021-06-25T18:41:13.510Z"
   },
   {
    "duration": 278,
    "start_time": "2021-06-25T18:51:34.501Z"
   },
   {
    "duration": 5394,
    "start_time": "2021-06-25T18:51:44.249Z"
   },
   {
    "duration": 5455,
    "start_time": "2021-06-25T18:52:02.737Z"
   },
   {
    "duration": 280,
    "start_time": "2021-06-25T18:52:42.185Z"
   },
   {
    "duration": 4,
    "start_time": "2021-06-25T18:53:04.273Z"
   },
   {
    "duration": 29,
    "start_time": "2021-06-25T18:53:06.127Z"
   },
   {
    "duration": 5,
    "start_time": "2021-06-25T18:53:14.581Z"
   },
   {
    "duration": 27,
    "start_time": "2021-06-25T18:53:16.000Z"
   },
   {
    "duration": 8,
    "start_time": "2021-06-25T18:53:23.184Z"
   },
   {
    "duration": 5,
    "start_time": "2021-06-25T18:53:50.879Z"
   },
   {
    "duration": 5,
    "start_time": "2021-06-25T18:53:56.048Z"
   },
   {
    "duration": 4,
    "start_time": "2021-06-25T18:54:01.593Z"
   },
   {
    "duration": 28,
    "start_time": "2021-06-25T18:54:04.160Z"
   },
   {
    "duration": 7,
    "start_time": "2021-06-25T18:54:06.073Z"
   },
   {
    "duration": 263,
    "start_time": "2021-06-25T18:54:16.692Z"
   },
   {
    "duration": 4,
    "start_time": "2021-06-25T18:54:20.535Z"
   },
   {
    "duration": 5,
    "start_time": "2021-06-25T18:54:24.800Z"
   },
   {
    "duration": 5,
    "start_time": "2021-06-25T18:54:34.520Z"
   },
   {
    "duration": 5,
    "start_time": "2021-06-25T18:54:35.956Z"
   },
   {
    "duration": 30,
    "start_time": "2021-06-25T18:54:37.592Z"
   },
   {
    "duration": 332,
    "start_time": "2021-06-25T19:56:30.107Z"
   },
   {
    "duration": 266,
    "start_time": "2021-06-25T19:56:36.355Z"
   },
   {
    "duration": 4,
    "start_time": "2021-06-25T19:56:45.032Z"
   },
   {
    "duration": 275,
    "start_time": "2021-06-25T19:56:59.250Z"
   },
   {
    "duration": 555,
    "start_time": "2021-06-25T19:57:49.916Z"
   },
   {
    "duration": 269,
    "start_time": "2021-06-25T19:58:01.360Z"
   },
   {
    "duration": 4,
    "start_time": "2021-06-25T19:58:14.755Z"
   },
   {
    "duration": 530,
    "start_time": "2021-06-25T19:58:16.051Z"
   },
   {
    "duration": 5,
    "start_time": "2021-06-25T19:59:16.618Z"
   },
   {
    "duration": 272,
    "start_time": "2021-06-25T19:59:17.785Z"
   },
   {
    "duration": 4,
    "start_time": "2021-06-25T19:59:24.851Z"
   },
   {
    "duration": 283,
    "start_time": "2021-06-25T19:59:26.634Z"
   },
   {
    "duration": 5,
    "start_time": "2021-06-25T19:59:32.992Z"
   },
   {
    "duration": 5,
    "start_time": "2021-06-25T19:59:36.225Z"
   },
   {
    "duration": 540,
    "start_time": "2021-06-25T19:59:36.586Z"
   },
   {
    "duration": 3,
    "start_time": "2021-06-25T19:59:45.922Z"
   },
   {
    "duration": 4,
    "start_time": "2021-06-25T19:59:47.982Z"
   },
   {
    "duration": 31,
    "start_time": "2021-06-25T19:59:49.368Z"
   },
   {
    "duration": 5,
    "start_time": "2021-06-25T19:59:51.873Z"
   },
   {
    "duration": 5,
    "start_time": "2021-06-25T19:59:54.760Z"
   },
   {
    "duration": 29,
    "start_time": "2021-06-25T19:59:55.223Z"
   },
   {
    "duration": 5,
    "start_time": "2021-06-25T20:02:21.076Z"
   },
   {
    "duration": 13,
    "start_time": "2021-06-25T20:02:21.084Z"
   },
   {
    "duration": 30,
    "start_time": "2021-06-25T20:02:21.369Z"
   },
   {
    "duration": 262,
    "start_time": "2021-06-25T20:02:23.384Z"
   },
   {
    "duration": 5,
    "start_time": "2021-06-25T20:18:30.466Z"
   },
   {
    "duration": 11,
    "start_time": "2021-06-25T20:18:38.271Z"
   },
   {
    "duration": 10,
    "start_time": "2021-06-25T20:19:03.934Z"
   },
   {
    "duration": 282,
    "start_time": "2021-06-25T20:20:22.228Z"
   },
   {
    "duration": 7,
    "start_time": "2021-06-25T20:22:53.135Z"
   },
   {
    "duration": 15,
    "start_time": "2021-06-25T20:22:56.129Z"
   },
   {
    "duration": 89,
    "start_time": "2021-06-25T20:23:07.187Z"
   },
   {
    "duration": 96,
    "start_time": "2021-06-25T20:23:11.324Z"
   },
   {
    "duration": 15,
    "start_time": "2021-06-25T20:23:17.051Z"
   },
   {
    "duration": 327,
    "start_time": "2021-06-25T20:23:21.788Z"
   },
   {
    "duration": 15,
    "start_time": "2021-06-25T20:23:25.691Z"
   },
   {
    "duration": 8,
    "start_time": "2021-06-25T20:25:43.091Z"
   },
   {
    "duration": 14,
    "start_time": "2021-06-25T20:25:46.211Z"
   },
   {
    "duration": 13,
    "start_time": "2021-06-25T20:25:50.379Z"
   },
   {
    "duration": 15,
    "start_time": "2021-06-25T20:26:06.659Z"
   },
   {
    "duration": 13,
    "start_time": "2021-06-25T20:26:14.370Z"
   },
   {
    "duration": 19,
    "start_time": "2021-06-25T20:26:18.721Z"
   },
   {
    "duration": 272,
    "start_time": "2021-06-25T20:26:20.234Z"
   },
   {
    "duration": 12,
    "start_time": "2021-06-25T20:28:33.209Z"
   },
   {
    "duration": 9,
    "start_time": "2021-06-25T20:28:40.153Z"
   },
   {
    "duration": 3,
    "start_time": "2021-06-25T20:28:49.129Z"
   },
   {
    "duration": 301,
    "start_time": "2021-06-25T20:29:04.417Z"
   },
   {
    "duration": 4,
    "start_time": "2021-06-25T20:29:28.403Z"
   },
   {
    "duration": 279,
    "start_time": "2021-06-25T20:29:30.481Z"
   },
   {
    "duration": 284,
    "start_time": "2021-06-25T20:32:01.473Z"
   },
   {
    "duration": 5,
    "start_time": "2021-06-25T20:32:09.818Z"
   },
   {
    "duration": 7,
    "start_time": "2021-06-25T20:32:10.212Z"
   },
   {
    "duration": 24,
    "start_time": "2021-06-25T20:32:11.089Z"
   },
   {
    "duration": 10,
    "start_time": "2021-06-25T20:32:15.104Z"
   },
   {
    "duration": 5,
    "start_time": "2021-06-25T20:32:15.529Z"
   },
   {
    "duration": 7,
    "start_time": "2021-06-25T20:32:15.993Z"
   },
   {
    "duration": 23,
    "start_time": "2021-06-25T20:32:16.624Z"
   },
   {
    "duration": 21,
    "start_time": "2021-06-25T20:32:23.120Z"
   },
   {
    "duration": 11,
    "start_time": "2021-06-25T20:32:26.832Z"
   },
   {
    "duration": 21,
    "start_time": "2021-06-25T20:32:33.784Z"
   },
   {
    "duration": 19,
    "start_time": "2021-06-25T20:32:40.063Z"
   },
   {
    "duration": 21,
    "start_time": "2021-06-25T20:32:55.938Z"
   },
   {
    "duration": 5,
    "start_time": "2021-06-25T20:33:50.753Z"
   },
   {
    "duration": 6,
    "start_time": "2021-06-25T20:34:59.072Z"
   },
   {
    "duration": 6,
    "start_time": "2021-06-25T20:35:39.983Z"
   },
   {
    "duration": 55,
    "start_time": "2021-06-25T20:36:18.447Z"
   },
   {
    "duration": 169,
    "start_time": "2021-06-25T20:36:25.135Z"
   },
   {
    "duration": 530,
    "start_time": "2021-06-25T20:36:45.271Z"
   },
   {
    "duration": 7,
    "start_time": "2021-06-25T20:37:47.116Z"
   },
   {
    "duration": 511,
    "start_time": "2021-06-25T20:37:53.797Z"
   },
   {
    "duration": 561,
    "start_time": "2021-06-25T20:37:57.942Z"
   },
   {
    "duration": 113,
    "start_time": "2021-06-25T20:38:21.419Z"
   },
   {
    "duration": 7,
    "start_time": "2021-06-25T20:38:32.791Z"
   },
   {
    "duration": 655,
    "start_time": "2021-06-25T20:38:34.948Z"
   },
   {
    "duration": 11,
    "start_time": "2021-06-25T20:38:47.790Z"
   },
   {
    "duration": 8,
    "start_time": "2021-06-25T20:39:44.789Z"
   },
   {
    "duration": 155,
    "start_time": "2021-06-25T20:39:45.283Z"
   },
   {
    "duration": 147,
    "start_time": "2021-06-25T20:39:45.441Z"
   },
   {
    "duration": 155,
    "start_time": "2021-06-25T20:39:45.590Z"
   },
   {
    "duration": 30,
    "start_time": "2021-06-25T20:39:45.748Z"
   },
   {
    "duration": 14,
    "start_time": "2021-06-25T20:39:45.868Z"
   },
   {
    "duration": 14,
    "start_time": "2021-06-25T20:39:46.010Z"
   },
   {
    "duration": 13,
    "start_time": "2021-06-25T20:39:46.148Z"
   },
   {
    "duration": 379,
    "start_time": "2021-06-25T20:39:46.275Z"
   },
   {
    "duration": 383,
    "start_time": "2021-06-25T20:39:46.656Z"
   },
   {
    "duration": 367,
    "start_time": "2021-06-25T20:39:47.042Z"
   },
   {
    "duration": 2842,
    "start_time": "2021-06-25T20:39:47.411Z"
   },
   {
    "duration": 10,
    "start_time": "2021-06-25T20:39:50.256Z"
   },
   {
    "duration": 4,
    "start_time": "2021-06-25T20:39:50.269Z"
   },
   {
    "duration": 25,
    "start_time": "2021-06-25T20:39:50.276Z"
   },
   {
    "duration": 5,
    "start_time": "2021-06-25T20:39:50.304Z"
   },
   {
    "duration": 9,
    "start_time": "2021-06-25T20:39:50.312Z"
   },
   {
    "duration": 5,
    "start_time": "2021-06-25T20:39:50.325Z"
   },
   {
    "duration": 7,
    "start_time": "2021-06-25T20:39:50.332Z"
   },
   {
    "duration": 565,
    "start_time": "2021-06-25T20:39:50.342Z"
   },
   {
    "duration": 3,
    "start_time": "2021-06-25T20:39:51.001Z"
   },
   {
    "duration": 7,
    "start_time": "2021-06-25T20:40:02.114Z"
   },
   {
    "duration": 446,
    "start_time": "2021-06-25T20:40:03.260Z"
   },
   {
    "duration": 600,
    "start_time": "2021-06-25T20:40:09.803Z"
   },
   {
    "duration": 16,
    "start_time": "2021-06-25T20:40:16.859Z"
   },
   {
    "duration": 87,
    "start_time": "2021-06-25T20:40:39.603Z"
   },
   {
    "duration": 4,
    "start_time": "2021-06-25T20:40:43.204Z"
   },
   {
    "duration": 7,
    "start_time": "2021-06-25T20:40:45.418Z"
   },
   {
    "duration": 6,
    "start_time": "2021-06-25T20:40:50.731Z"
   },
   {
    "duration": 7,
    "start_time": "2021-06-25T20:40:52.050Z"
   },
   {
    "duration": 462,
    "start_time": "2021-06-25T20:40:53.963Z"
   },
   {
    "duration": 16,
    "start_time": "2021-06-25T20:41:02.267Z"
   },
   {
    "duration": 5,
    "start_time": "2021-06-25T20:41:21.499Z"
   },
   {
    "duration": 4,
    "start_time": "2021-06-25T20:41:24.090Z"
   },
   {
    "duration": 6,
    "start_time": "2021-06-25T20:41:26.018Z"
   },
   {
    "duration": 496,
    "start_time": "2021-06-25T20:41:28.105Z"
   },
   {
    "duration": 16,
    "start_time": "2021-06-25T20:41:30.282Z"
   },
   {
    "duration": 7,
    "start_time": "2021-06-25T20:41:36.899Z"
   },
   {
    "duration": 529,
    "start_time": "2021-06-25T20:41:38.472Z"
   },
   {
    "duration": 16,
    "start_time": "2021-06-25T20:41:40.041Z"
   },
   {
    "duration": 16,
    "start_time": "2021-06-25T20:41:46.249Z"
   },
   {
    "duration": 5,
    "start_time": "2021-06-25T20:41:52.193Z"
   },
   {
    "duration": 5,
    "start_time": "2021-06-25T20:41:55.009Z"
   },
   {
    "duration": 6,
    "start_time": "2021-06-25T20:42:01.824Z"
   },
   {
    "duration": 469,
    "start_time": "2021-06-25T20:42:03.136Z"
   },
   {
    "duration": 104,
    "start_time": "2021-06-25T20:42:03.608Z"
   },
   {
    "duration": 254,
    "start_time": "2021-06-25T20:42:13.034Z"
   },
   {
    "duration": 21,
    "start_time": "2021-06-25T20:42:16.721Z"
   },
   {
    "duration": 5,
    "start_time": "2021-06-25T20:43:19.856Z"
   },
   {
    "duration": 5,
    "start_time": "2021-06-25T20:43:20.095Z"
   },
   {
    "duration": 6,
    "start_time": "2021-06-25T20:43:21.961Z"
   },
   {
    "duration": 548,
    "start_time": "2021-06-25T20:43:22.257Z"
   },
   {
    "duration": 107,
    "start_time": "2021-06-25T20:43:22.809Z"
   },
   {
    "duration": 10,
    "start_time": "2021-06-25T20:43:22.919Z"
   },
   {
    "duration": 4,
    "start_time": "2021-06-25T20:43:30.040Z"
   },
   {
    "duration": 16,
    "start_time": "2021-06-25T20:43:58.961Z"
   },
   {
    "duration": 15,
    "start_time": "2021-06-25T20:44:16.095Z"
   },
   {
    "duration": 21,
    "start_time": "2021-06-25T20:44:30.766Z"
   },
   {
    "duration": 4,
    "start_time": "2021-06-25T20:44:33.159Z"
   },
   {
    "duration": 19,
    "start_time": "2021-06-25T20:44:34.804Z"
   },
   {
    "duration": 25,
    "start_time": "2021-06-25T20:44:48.871Z"
   },
   {
    "duration": 5,
    "start_time": "2021-06-25T20:45:16.024Z"
   },
   {
    "duration": 25,
    "start_time": "2021-06-25T20:45:17.597Z"
   },
   {
    "duration": 4,
    "start_time": "2021-06-25T20:45:22.406Z"
   },
   {
    "duration": 25,
    "start_time": "2021-06-25T20:45:23.816Z"
   },
   {
    "duration": 24,
    "start_time": "2021-06-25T20:45:34.461Z"
   },
   {
    "duration": 5,
    "start_time": "2021-06-25T20:46:11.391Z"
   },
   {
    "duration": 26,
    "start_time": "2021-06-25T20:46:12.934Z"
   },
   {
    "duration": 5,
    "start_time": "2021-06-25T20:46:16.327Z"
   },
   {
    "duration": 25,
    "start_time": "2021-06-25T20:46:17.669Z"
   },
   {
    "duration": 4,
    "start_time": "2021-06-25T20:46:56.780Z"
   },
   {
    "duration": 31,
    "start_time": "2021-06-25T20:46:57.900Z"
   },
   {
    "duration": 6,
    "start_time": "2021-06-25T20:48:11.374Z"
   },
   {
    "duration": 7,
    "start_time": "2021-06-25T20:48:18.562Z"
   },
   {
    "duration": 612,
    "start_time": "2021-06-25T20:48:18.916Z"
   },
   {
    "duration": 5,
    "start_time": "2021-06-25T20:48:53.524Z"
   },
   {
    "duration": 7,
    "start_time": "2021-06-25T20:48:56.474Z"
   },
   {
    "duration": 6,
    "start_time": "2021-06-25T20:49:03.436Z"
   },
   {
    "duration": 7,
    "start_time": "2021-06-25T20:49:13.971Z"
   },
   {
    "duration": 4,
    "start_time": "2021-06-25T20:49:34.532Z"
   },
   {
    "duration": 7,
    "start_time": "2021-06-25T20:49:36.172Z"
   },
   {
    "duration": 498,
    "start_time": "2021-06-25T20:49:37.803Z"
   },
   {
    "duration": 6,
    "start_time": "2021-06-25T20:49:41.117Z"
   },
   {
    "duration": 473,
    "start_time": "2021-06-25T20:49:43.128Z"
   },
   {
    "duration": 19,
    "start_time": "2021-06-25T20:49:43.701Z"
   },
   {
    "duration": 8,
    "start_time": "2021-06-25T20:49:52.139Z"
   },
   {
    "duration": 5,
    "start_time": "2021-06-25T20:49:55.626Z"
   },
   {
    "duration": 9,
    "start_time": "2021-06-25T20:50:00.755Z"
   },
   {
    "duration": 8,
    "start_time": "2021-06-25T20:50:11.212Z"
   },
   {
    "duration": 9,
    "start_time": "2021-06-25T20:50:18.854Z"
   },
   {
    "duration": 149,
    "start_time": "2021-06-25T20:50:19.234Z"
   },
   {
    "duration": 145,
    "start_time": "2021-06-25T20:50:19.385Z"
   },
   {
    "duration": 144,
    "start_time": "2021-06-25T20:50:19.533Z"
   },
   {
    "duration": 41,
    "start_time": "2021-06-25T20:50:19.679Z"
   },
   {
    "duration": 12,
    "start_time": "2021-06-25T20:50:19.811Z"
   },
   {
    "duration": 12,
    "start_time": "2021-06-25T20:50:19.955Z"
   },
   {
    "duration": 12,
    "start_time": "2021-06-25T20:50:20.106Z"
   },
   {
    "duration": 410,
    "start_time": "2021-06-25T20:50:20.266Z"
   },
   {
    "duration": 407,
    "start_time": "2021-06-25T20:50:20.678Z"
   },
   {
    "duration": 382,
    "start_time": "2021-06-25T20:50:21.088Z"
   },
   {
    "duration": 2605,
    "start_time": "2021-06-25T20:50:21.472Z"
   },
   {
    "duration": 5,
    "start_time": "2021-06-25T20:50:24.080Z"
   },
   {
    "duration": 20,
    "start_time": "2021-06-25T20:50:24.088Z"
   },
   {
    "duration": 6,
    "start_time": "2021-06-25T20:50:24.111Z"
   },
   {
    "duration": 5,
    "start_time": "2021-06-25T20:50:24.120Z"
   },
   {
    "duration": 5,
    "start_time": "2021-06-25T20:50:24.128Z"
   },
   {
    "duration": 3,
    "start_time": "2021-06-25T20:50:24.298Z"
   },
   {
    "duration": 7,
    "start_time": "2021-06-25T20:50:26.065Z"
   },
   {
    "duration": 505,
    "start_time": "2021-06-25T20:50:27.496Z"
   },
   {
    "duration": 7,
    "start_time": "2021-06-25T20:50:57.635Z"
   },
   {
    "duration": 570,
    "start_time": "2021-06-25T20:50:59.602Z"
   },
   {
    "duration": 20,
    "start_time": "2021-06-25T20:51:07.243Z"
   },
   {
    "duration": 3,
    "start_time": "2021-06-25T20:51:07.513Z"
   },
   {
    "duration": 3,
    "start_time": "2021-06-25T20:51:10.346Z"
   },
   {
    "duration": 3,
    "start_time": "2021-06-25T20:51:13.746Z"
   },
   {
    "duration": 5,
    "start_time": "2021-06-25T20:51:16.106Z"
   },
   {
    "duration": 181,
    "start_time": "2021-06-25T20:51:18.314Z"
   },
   {
    "duration": 4,
    "start_time": "2021-06-25T20:51:26.929Z"
   },
   {
    "duration": 35,
    "start_time": "2021-06-25T20:51:36.320Z"
   },
   {
    "duration": 7,
    "start_time": "2021-06-25T20:55:11.281Z"
   },
   {
    "duration": 7,
    "start_time": "2021-06-25T20:55:19.261Z"
   },
   {
    "duration": 408,
    "start_time": "2021-06-25T20:55:20.912Z"
   },
   {
    "duration": 4,
    "start_time": "2021-06-25T20:56:44.399Z"
   },
   {
    "duration": 537,
    "start_time": "2021-06-25T20:56:45.711Z"
   },
   {
    "duration": 477,
    "start_time": "2021-06-25T20:59:58.278Z"
   },
   {
    "duration": 441,
    "start_time": "2021-06-25T21:00:25.461Z"
   },
   {
    "duration": 6,
    "start_time": "2021-06-25T21:00:28.606Z"
   },
   {
    "duration": 1550,
    "start_time": "2021-06-26T13:36:27.164Z"
   },
   {
    "duration": 153,
    "start_time": "2021-06-26T13:43:34.755Z"
   },
   {
    "duration": 149,
    "start_time": "2021-06-26T13:43:35.022Z"
   },
   {
    "duration": 147,
    "start_time": "2021-06-26T13:43:35.278Z"
   },
   {
    "duration": 35,
    "start_time": "2021-06-26T13:43:41.716Z"
   },
   {
    "duration": 14,
    "start_time": "2021-06-26T13:44:03.160Z"
   },
   {
    "duration": 13,
    "start_time": "2021-06-26T13:44:03.438Z"
   },
   {
    "duration": 14,
    "start_time": "2021-06-26T13:44:03.904Z"
   },
   {
    "duration": 2810,
    "start_time": "2021-06-26T13:45:38.514Z"
   },
   {
    "duration": 2858,
    "start_time": "2021-06-26T13:46:06.824Z"
   },
   {
    "duration": 2847,
    "start_time": "2021-06-26T13:54:29.881Z"
   },
   {
    "duration": 413,
    "start_time": "2021-06-26T13:56:06.591Z"
   },
   {
    "duration": 11,
    "start_time": "2021-06-26T13:56:16.991Z"
   },
   {
    "duration": 9,
    "start_time": "2021-06-26T13:56:24.110Z"
   },
   {
    "duration": 436,
    "start_time": "2021-06-26T14:02:47.667Z"
   },
   {
    "duration": 280,
    "start_time": "2021-06-26T14:02:53.273Z"
   },
   {
    "duration": 11,
    "start_time": "2021-06-26T14:03:13.139Z"
   },
   {
    "duration": 12,
    "start_time": "2021-06-26T14:03:40.451Z"
   },
   {
    "duration": 11,
    "start_time": "2021-06-26T14:03:46.898Z"
   },
   {
    "duration": 11,
    "start_time": "2021-06-26T14:03:53.554Z"
   },
   {
    "duration": 9,
    "start_time": "2021-06-26T14:04:22.670Z"
   },
   {
    "duration": 11,
    "start_time": "2021-06-26T14:04:24.698Z"
   },
   {
    "duration": 12,
    "start_time": "2021-06-26T14:04:41.195Z"
   },
   {
    "duration": 385,
    "start_time": "2021-06-26T14:05:26.081Z"
   },
   {
    "duration": 403,
    "start_time": "2021-06-26T14:05:38.097Z"
   },
   {
    "duration": 379,
    "start_time": "2021-06-26T14:05:52.925Z"
   },
   {
    "duration": 397,
    "start_time": "2021-06-26T14:05:56.057Z"
   },
   {
    "duration": 486,
    "start_time": "2021-06-26T14:05:58.266Z"
   },
   {
    "duration": 7,
    "start_time": "2021-06-26T14:21:00.420Z"
   },
   {
    "duration": 6,
    "start_time": "2021-06-26T14:22:32.891Z"
   },
   {
    "duration": 7,
    "start_time": "2021-06-26T14:23:01.618Z"
   },
   {
    "duration": 7,
    "start_time": "2021-06-26T14:24:16.621Z"
   },
   {
    "duration": 8,
    "start_time": "2021-06-26T14:25:23.088Z"
   },
   {
    "duration": 7,
    "start_time": "2021-06-26T14:27:57.652Z"
   },
   {
    "duration": 7,
    "start_time": "2021-06-26T14:28:01.070Z"
   },
   {
    "duration": 576,
    "start_time": "2021-06-26T14:28:17.524Z"
   },
   {
    "duration": 21,
    "start_time": "2021-06-26T14:28:19.607Z"
   },
   {
    "duration": 12,
    "start_time": "2021-06-26T14:28:31.092Z"
   },
   {
    "duration": 9,
    "start_time": "2021-06-26T14:28:52.145Z"
   },
   {
    "duration": 14,
    "start_time": "2021-06-26T14:28:55.916Z"
   },
   {
    "duration": 6,
    "start_time": "2021-06-26T14:28:59.981Z"
   },
   {
    "duration": 7,
    "start_time": "2021-06-26T14:29:01.981Z"
   },
   {
    "duration": 551,
    "start_time": "2021-06-26T14:29:03.350Z"
   },
   {
    "duration": 11,
    "start_time": "2021-06-26T14:29:04.725Z"
   },
   {
    "duration": 6,
    "start_time": "2021-06-26T14:29:39.507Z"
   },
   {
    "duration": 10,
    "start_time": "2021-06-26T14:29:43.428Z"
   },
   {
    "duration": 8,
    "start_time": "2021-06-26T14:29:45.360Z"
   },
   {
    "duration": 484,
    "start_time": "2021-06-26T14:29:49.547Z"
   },
   {
    "duration": 14,
    "start_time": "2021-06-26T14:29:51.849Z"
   },
   {
    "duration": 7,
    "start_time": "2021-06-26T14:30:21.135Z"
   },
   {
    "duration": 11,
    "start_time": "2021-06-26T14:30:24.232Z"
   },
   {
    "duration": 7,
    "start_time": "2021-06-26T14:30:34.650Z"
   },
   {
    "duration": 436,
    "start_time": "2021-06-26T14:30:41.778Z"
   },
   {
    "duration": 10,
    "start_time": "2021-06-26T14:30:43.155Z"
   },
   {
    "duration": 6,
    "start_time": "2021-06-26T14:30:53.452Z"
   },
   {
    "duration": 166,
    "start_time": "2021-06-26T14:30:53.960Z"
   },
   {
    "duration": 162,
    "start_time": "2021-06-26T14:30:54.250Z"
   },
   {
    "duration": 160,
    "start_time": "2021-06-26T14:30:54.416Z"
   },
   {
    "duration": 13,
    "start_time": "2021-06-26T14:30:54.579Z"
   },
   {
    "duration": 16,
    "start_time": "2021-06-26T14:30:54.707Z"
   },
   {
    "duration": 14,
    "start_time": "2021-06-26T14:30:54.819Z"
   },
   {
    "duration": 13,
    "start_time": "2021-06-26T14:30:55.066Z"
   },
   {
    "duration": 17,
    "start_time": "2021-06-26T14:30:55.202Z"
   },
   {
    "duration": 12,
    "start_time": "2021-06-26T14:30:55.348Z"
   },
   {
    "duration": 3048,
    "start_time": "2021-06-26T14:30:55.626Z"
   },
   {
    "duration": 9,
    "start_time": "2021-06-26T14:30:58.677Z"
   },
   {
    "duration": 386,
    "start_time": "2021-06-26T14:30:58.689Z"
   },
   {
    "duration": 389,
    "start_time": "2021-06-26T14:30:59.079Z"
   },
   {
    "duration": 399,
    "start_time": "2021-06-26T14:30:59.471Z"
   },
   {
    "duration": 9,
    "start_time": "2021-06-26T14:30:59.873Z"
   },
   {
    "duration": 10,
    "start_time": "2021-06-26T14:31:03.624Z"
   },
   {
    "duration": 10,
    "start_time": "2021-06-26T14:31:06.555Z"
   },
   {
    "duration": 8,
    "start_time": "2021-06-26T14:31:09.602Z"
   },
   {
    "duration": 455,
    "start_time": "2021-06-26T14:31:13.371Z"
   },
   {
    "duration": 12,
    "start_time": "2021-06-26T14:31:15.426Z"
   },
   {
    "duration": 651,
    "start_time": "2021-06-26T14:31:32.132Z"
   },
   {
    "duration": 12,
    "start_time": "2021-06-26T14:31:40.794Z"
   },
   {
    "duration": 385,
    "start_time": "2021-06-26T14:31:43.436Z"
   },
   {
    "duration": 16,
    "start_time": "2021-06-26T14:31:44.905Z"
   },
   {
    "duration": 2881,
    "start_time": "2021-06-26T14:35:01.360Z"
   },
   {
    "duration": 10,
    "start_time": "2021-06-26T14:35:04.243Z"
   },
   {
    "duration": 538,
    "start_time": "2021-06-26T14:35:04.257Z"
   },
   {
    "duration": 372,
    "start_time": "2021-06-26T14:35:04.802Z"
   },
   {
    "duration": 403,
    "start_time": "2021-06-26T14:35:05.177Z"
   },
   {
    "duration": 19,
    "start_time": "2021-06-26T14:35:05.583Z"
   },
   {
    "duration": 11,
    "start_time": "2021-06-26T14:35:05.605Z"
   },
   {
    "duration": 485,
    "start_time": "2021-06-26T14:35:05.620Z"
   },
   {
    "duration": 95,
    "start_time": "2021-06-26T14:35:06.108Z"
   },
   {
    "duration": 5,
    "start_time": "2021-06-26T14:35:51.257Z"
   },
   {
    "duration": 4,
    "start_time": "2021-06-26T14:36:24.848Z"
   },
   {
    "duration": 5,
    "start_time": "2021-06-26T14:36:48.940Z"
   },
   {
    "duration": 11,
    "start_time": "2021-06-26T14:36:57.487Z"
   },
   {
    "duration": 91,
    "start_time": "2021-06-26T14:37:09.808Z"
   },
   {
    "duration": 4,
    "start_time": "2021-06-26T14:37:18.374Z"
   },
   {
    "duration": 6,
    "start_time": "2021-06-26T14:38:42.990Z"
   },
   {
    "duration": 5,
    "start_time": "2021-06-26T14:38:46.214Z"
   },
   {
    "duration": 29,
    "start_time": "2021-06-26T14:39:12.158Z"
   },
   {
    "duration": 27,
    "start_time": "2021-06-26T14:39:30.077Z"
   },
   {
    "duration": 26,
    "start_time": "2021-06-26T14:39:59.412Z"
   },
   {
    "duration": 25,
    "start_time": "2021-06-26T14:40:09.079Z"
   },
   {
    "duration": 25,
    "start_time": "2021-06-26T14:40:14.909Z"
   },
   {
    "duration": 25,
    "start_time": "2021-06-26T14:40:29.783Z"
   },
   {
    "duration": 25,
    "start_time": "2021-06-26T14:40:30.669Z"
   },
   {
    "duration": 4,
    "start_time": "2021-06-26T14:41:01.790Z"
   },
   {
    "duration": 4,
    "start_time": "2021-06-26T14:41:05.518Z"
   },
   {
    "duration": 5,
    "start_time": "2021-06-26T14:41:12.448Z"
   },
   {
    "duration": 7,
    "start_time": "2021-06-26T14:41:13.887Z"
   },
   {
    "duration": 4,
    "start_time": "2021-06-26T14:41:36.060Z"
   },
   {
    "duration": 6,
    "start_time": "2021-06-26T14:41:38.741Z"
   },
   {
    "duration": 7,
    "start_time": "2021-06-26T14:41:49.844Z"
   },
   {
    "duration": 4,
    "start_time": "2021-06-26T14:41:58.258Z"
   },
   {
    "duration": 5,
    "start_time": "2021-06-26T14:42:09.591Z"
   },
   {
    "duration": 4,
    "start_time": "2021-06-26T14:42:13.612Z"
   },
   {
    "duration": 284,
    "start_time": "2021-06-26T14:42:21.340Z"
   },
   {
    "duration": 24,
    "start_time": "2021-06-26T14:42:51.988Z"
   },
   {
    "duration": 5,
    "start_time": "2021-06-26T14:43:10.387Z"
   },
   {
    "duration": 28,
    "start_time": "2021-06-26T14:43:12.346Z"
   },
   {
    "duration": 8,
    "start_time": "2021-06-26T14:44:55.594Z"
   },
   {
    "duration": 13,
    "start_time": "2021-06-26T14:45:06.323Z"
   },
   {
    "duration": 87,
    "start_time": "2021-06-26T14:46:30.562Z"
   },
   {
    "duration": 105,
    "start_time": "2021-06-26T14:46:42.056Z"
   },
   {
    "duration": 36,
    "start_time": "2021-06-26T14:46:50.562Z"
   },
   {
    "duration": 308,
    "start_time": "2021-06-26T14:48:21.136Z"
   },
   {
    "duration": 288,
    "start_time": "2021-06-26T14:49:01.336Z"
   },
   {
    "duration": 283,
    "start_time": "2021-06-26T14:49:24.423Z"
   },
   {
    "duration": 291,
    "start_time": "2021-06-26T14:49:40.249Z"
   },
   {
    "duration": 276,
    "start_time": "2021-06-26T14:49:49.559Z"
   },
   {
    "duration": 284,
    "start_time": "2021-06-26T14:50:11.648Z"
   },
   {
    "duration": 303,
    "start_time": "2021-06-26T14:50:18.657Z"
   },
   {
    "duration": 7,
    "start_time": "2021-06-26T14:50:23.233Z"
   },
   {
    "duration": 295,
    "start_time": "2021-06-26T14:50:24.784Z"
   },
   {
    "duration": 269,
    "start_time": "2021-06-26T14:51:02.007Z"
   },
   {
    "duration": 6,
    "start_time": "2021-06-26T14:51:11.678Z"
   },
   {
    "duration": 3,
    "start_time": "2021-06-26T14:51:16.961Z"
   },
   {
    "duration": 26,
    "start_time": "2021-06-26T14:51:18.134Z"
   },
   {
    "duration": 31,
    "start_time": "2021-06-26T14:51:52.848Z"
   },
   {
    "duration": 44,
    "start_time": "2021-06-26T14:52:06.721Z"
   },
   {
    "duration": 38,
    "start_time": "2021-06-26T14:52:29.670Z"
   },
   {
    "duration": 29,
    "start_time": "2021-06-26T14:52:48.436Z"
   },
   {
    "duration": 37,
    "start_time": "2021-06-26T14:53:00.212Z"
   },
   {
    "duration": 8,
    "start_time": "2021-06-26T14:53:27.718Z"
   },
   {
    "duration": 38,
    "start_time": "2021-06-26T14:53:31.490Z"
   },
   {
    "duration": 12,
    "start_time": "2021-06-26T14:53:38.319Z"
   },
   {
    "duration": 7,
    "start_time": "2021-06-26T14:53:40.743Z"
   },
   {
    "duration": 558,
    "start_time": "2021-06-26T14:53:41.645Z"
   },
   {
    "duration": 7,
    "start_time": "2021-06-26T14:53:46.526Z"
   },
   {
    "duration": 37,
    "start_time": "2021-06-26T14:53:49.581Z"
   },
   {
    "duration": 38,
    "start_time": "2021-06-26T14:54:16.087Z"
   },
   {
    "duration": 37,
    "start_time": "2021-06-26T14:54:29.722Z"
   },
   {
    "duration": 38,
    "start_time": "2021-06-26T14:54:37.221Z"
   },
   {
    "duration": 38,
    "start_time": "2021-06-26T14:54:44.917Z"
   },
   {
    "duration": 16,
    "start_time": "2021-06-26T14:55:05.294Z"
   },
   {
    "duration": 25,
    "start_time": "2021-06-26T14:55:06.156Z"
   },
   {
    "duration": 9,
    "start_time": "2021-06-26T14:55:07.925Z"
   },
   {
    "duration": 17,
    "start_time": "2021-06-26T14:55:14.884Z"
   },
   {
    "duration": 15,
    "start_time": "2021-06-26T14:55:29.485Z"
   },
   {
    "duration": 10,
    "start_time": "2021-06-26T14:55:31.125Z"
   },
   {
    "duration": 667,
    "start_time": "2021-06-26T14:55:33.140Z"
   },
   {
    "duration": 9,
    "start_time": "2021-06-26T14:55:39.023Z"
   },
   {
    "duration": 492,
    "start_time": "2021-06-26T14:55:40.509Z"
   },
   {
    "duration": 15,
    "start_time": "2021-06-26T14:55:41.996Z"
   },
   {
    "duration": 5,
    "start_time": "2021-06-26T14:55:43.876Z"
   },
   {
    "duration": 6,
    "start_time": "2021-06-26T14:55:45.765Z"
   },
   {
    "duration": 7,
    "start_time": "2021-06-26T14:55:47.183Z"
   },
   {
    "duration": 16,
    "start_time": "2021-06-26T14:55:47.703Z"
   },
   {
    "duration": 6,
    "start_time": "2021-06-26T14:55:50.013Z"
   },
   {
    "duration": 8,
    "start_time": "2021-06-26T14:55:50.498Z"
   },
   {
    "duration": 25,
    "start_time": "2021-06-26T14:55:50.716Z"
   },
   {
    "duration": 20,
    "start_time": "2021-06-26T14:55:50.939Z"
   },
   {
    "duration": 291,
    "start_time": "2021-06-26T14:55:51.852Z"
   },
   {
    "duration": 4573,
    "start_time": "2021-06-26T14:57:01.129Z"
   },
   {
    "duration": 7441,
    "start_time": "2021-06-26T14:57:23.997Z"
   },
   {
    "duration": 7501,
    "start_time": "2021-06-26T14:57:32.901Z"
   },
   {
    "duration": 2122,
    "start_time": "2021-06-26T14:57:56.137Z"
   },
   {
    "duration": 166,
    "start_time": "2021-06-26T14:57:58.263Z"
   },
   {
    "duration": 154,
    "start_time": "2021-06-26T14:57:58.432Z"
   },
   {
    "duration": 159,
    "start_time": "2021-06-26T14:57:58.589Z"
   },
   {
    "duration": 16,
    "start_time": "2021-06-26T14:57:58.750Z"
   },
   {
    "duration": 35,
    "start_time": "2021-06-26T14:57:58.768Z"
   },
   {
    "duration": 16,
    "start_time": "2021-06-26T14:57:58.805Z"
   },
   {
    "duration": 16,
    "start_time": "2021-06-26T14:57:58.824Z"
   },
   {
    "duration": 57,
    "start_time": "2021-06-26T14:57:58.844Z"
   },
   {
    "duration": 13,
    "start_time": "2021-06-26T14:57:58.904Z"
   },
   {
    "duration": 2787,
    "start_time": "2021-06-26T14:57:58.920Z"
   },
   {
    "duration": 13,
    "start_time": "2021-06-26T14:58:01.710Z"
   },
   {
    "duration": 487,
    "start_time": "2021-06-26T14:58:01.726Z"
   },
   {
    "duration": 354,
    "start_time": "2021-06-26T14:58:02.216Z"
   },
   {
    "duration": 378,
    "start_time": "2021-06-26T14:58:02.572Z"
   },
   {
    "duration": 11,
    "start_time": "2021-06-26T14:58:02.952Z"
   },
   {
    "duration": 7,
    "start_time": "2021-06-26T14:58:02.966Z"
   },
   {
    "duration": 452,
    "start_time": "2021-06-26T14:58:02.976Z"
   },
   {
    "duration": 100,
    "start_time": "2021-06-26T14:58:03.502Z"
   },
   {
    "duration": 14,
    "start_time": "2021-06-26T14:58:03.605Z"
   },
   {
    "duration": 10,
    "start_time": "2021-06-26T14:58:03.621Z"
   },
   {
    "duration": 10,
    "start_time": "2021-06-26T14:58:03.634Z"
   },
   {
    "duration": 15,
    "start_time": "2021-06-26T14:58:03.647Z"
   },
   {
    "duration": 37,
    "start_time": "2021-06-26T14:58:03.664Z"
   },
   {
    "duration": 14,
    "start_time": "2021-06-26T14:58:03.704Z"
   },
   {
    "duration": 30,
    "start_time": "2021-06-26T14:58:03.721Z"
   },
   {
    "duration": 15,
    "start_time": "2021-06-26T14:58:03.756Z"
   },
   {
    "duration": 4513,
    "start_time": "2021-06-26T14:58:03.775Z"
   },
   {
    "duration": 4823,
    "start_time": "2021-06-26T14:58:08.300Z"
   },
   {
    "duration": 4546,
    "start_time": "2021-06-26T14:58:13.125Z"
   },
   {
    "duration": 11,
    "start_time": "2021-06-26T15:09:33.709Z"
   },
   {
    "duration": 11,
    "start_time": "2021-06-26T15:09:39.008Z"
   },
   {
    "duration": 2151,
    "start_time": "2021-06-26T15:10:34.505Z"
   },
   {
    "duration": 244,
    "start_time": "2021-06-26T15:10:36.660Z"
   },
   {
    "duration": 229,
    "start_time": "2021-06-26T15:10:36.908Z"
   },
   {
    "duration": 233,
    "start_time": "2021-06-26T15:10:37.141Z"
   },
   {
    "duration": 35,
    "start_time": "2021-06-26T15:10:37.378Z"
   },
   {
    "duration": 21,
    "start_time": "2021-06-26T15:10:37.416Z"
   },
   {
    "duration": 21,
    "start_time": "2021-06-26T15:10:37.440Z"
   },
   {
    "duration": 53,
    "start_time": "2021-06-26T15:10:37.467Z"
   },
   {
    "duration": 18,
    "start_time": "2021-06-26T15:10:37.525Z"
   },
   {
    "duration": 18,
    "start_time": "2021-06-26T15:10:37.547Z"
   },
   {
    "duration": 4313,
    "start_time": "2021-06-26T15:10:37.602Z"
   },
   {
    "duration": 14,
    "start_time": "2021-06-26T15:10:41.918Z"
   },
   {
    "duration": 557,
    "start_time": "2021-06-26T15:10:41.935Z"
   },
   {
    "duration": 531,
    "start_time": "2021-06-26T15:10:42.495Z"
   },
   {
    "duration": 395,
    "start_time": "2021-06-26T15:10:43.029Z"
   },
   {
    "duration": 15,
    "start_time": "2021-06-26T15:10:43.427Z"
   },
   {
    "duration": 11,
    "start_time": "2021-06-26T15:10:43.445Z"
   },
   {
    "duration": 1048,
    "start_time": "2021-06-26T15:10:43.459Z"
   },
   {
    "duration": -1115,
    "start_time": "2021-06-26T15:10:45.625Z"
   },
   {
    "duration": -1139,
    "start_time": "2021-06-26T15:10:45.651Z"
   },
   {
    "duration": -1150,
    "start_time": "2021-06-26T15:10:45.663Z"
   },
   {
    "duration": -1152,
    "start_time": "2021-06-26T15:10:45.666Z"
   },
   {
    "duration": -1154,
    "start_time": "2021-06-26T15:10:45.670Z"
   },
   {
    "duration": -1156,
    "start_time": "2021-06-26T15:10:45.673Z"
   },
   {
    "duration": -1157,
    "start_time": "2021-06-26T15:10:45.676Z"
   },
   {
    "duration": -1156,
    "start_time": "2021-06-26T15:10:45.678Z"
   },
   {
    "duration": -1157,
    "start_time": "2021-06-26T15:10:45.681Z"
   },
   {
    "duration": -1158,
    "start_time": "2021-06-26T15:10:45.684Z"
   },
   {
    "duration": -1160,
    "start_time": "2021-06-26T15:10:45.687Z"
   },
   {
    "duration": -1161,
    "start_time": "2021-06-26T15:10:45.690Z"
   },
   {
    "duration": -1163,
    "start_time": "2021-06-26T15:10:45.693Z"
   },
   {
    "duration": 15,
    "start_time": "2021-06-26T15:17:01.388Z"
   },
   {
    "duration": 6,
    "start_time": "2021-06-26T15:17:11.797Z"
   },
   {
    "duration": 1559,
    "start_time": "2021-06-26T15:17:16.461Z"
   },
   {
    "duration": 177,
    "start_time": "2021-06-26T15:17:18.024Z"
   },
   {
    "duration": 154,
    "start_time": "2021-06-26T15:17:18.205Z"
   },
   {
    "duration": 157,
    "start_time": "2021-06-26T15:17:18.362Z"
   },
   {
    "duration": 17,
    "start_time": "2021-06-26T15:17:18.522Z"
   },
   {
    "duration": 16,
    "start_time": "2021-06-26T15:17:18.543Z"
   },
   {
    "duration": 46,
    "start_time": "2021-06-26T15:17:18.561Z"
   },
   {
    "duration": 17,
    "start_time": "2021-06-26T15:17:18.612Z"
   },
   {
    "duration": 15,
    "start_time": "2021-06-26T15:17:18.633Z"
   },
   {
    "duration": 13,
    "start_time": "2021-06-26T15:17:18.651Z"
   },
   {
    "duration": 2737,
    "start_time": "2021-06-26T15:17:18.700Z"
   },
   {
    "duration": 11,
    "start_time": "2021-06-26T15:17:21.439Z"
   },
   {
    "duration": 539,
    "start_time": "2021-06-26T15:17:21.452Z"
   },
   {
    "duration": 386,
    "start_time": "2021-06-26T15:17:22.002Z"
   },
   {
    "duration": 380,
    "start_time": "2021-06-26T15:17:22.391Z"
   },
   {
    "duration": 5,
    "start_time": "2021-06-26T15:17:22.774Z"
   },
   {
    "duration": 19,
    "start_time": "2021-06-26T15:17:22.782Z"
   },
   {
    "duration": 496,
    "start_time": "2021-06-26T15:17:22.804Z"
   },
   {
    "duration": 410,
    "start_time": "2021-06-26T15:17:23.304Z"
   },
   {
    "duration": -1127,
    "start_time": "2021-06-26T15:17:24.846Z"
   },
   {
    "duration": -1129,
    "start_time": "2021-06-26T15:17:24.850Z"
   },
   {
    "duration": -1128,
    "start_time": "2021-06-26T15:17:24.852Z"
   },
   {
    "duration": -1135,
    "start_time": "2021-06-26T15:17:24.861Z"
   },
   {
    "duration": -1137,
    "start_time": "2021-06-26T15:17:24.865Z"
   },
   {
    "duration": -1137,
    "start_time": "2021-06-26T15:17:24.868Z"
   },
   {
    "duration": -1137,
    "start_time": "2021-06-26T15:17:24.871Z"
   },
   {
    "duration": -1137,
    "start_time": "2021-06-26T15:17:24.873Z"
   },
   {
    "duration": -1139,
    "start_time": "2021-06-26T15:17:24.877Z"
   },
   {
    "duration": -1139,
    "start_time": "2021-06-26T15:17:24.880Z"
   },
   {
    "duration": -1139,
    "start_time": "2021-06-26T15:17:24.882Z"
   },
   {
    "duration": -1140,
    "start_time": "2021-06-26T15:17:24.885Z"
   },
   {
    "duration": 11,
    "start_time": "2021-06-26T15:28:35.431Z"
   },
   {
    "duration": 3,
    "start_time": "2021-06-26T15:28:37.471Z"
   },
   {
    "duration": 5,
    "start_time": "2021-06-26T15:28:38.318Z"
   },
   {
    "duration": 5,
    "start_time": "2021-06-26T15:28:38.669Z"
   },
   {
    "duration": 11,
    "start_time": "2021-06-26T15:28:38.861Z"
   },
   {
    "duration": 1427,
    "start_time": "2021-06-26T15:31:34.053Z"
   },
   {
    "duration": 160,
    "start_time": "2021-06-26T15:31:35.482Z"
   },
   {
    "duration": 158,
    "start_time": "2021-06-26T15:31:35.648Z"
   },
   {
    "duration": 154,
    "start_time": "2021-06-26T15:31:35.809Z"
   },
   {
    "duration": 16,
    "start_time": "2021-06-26T15:31:35.965Z"
   },
   {
    "duration": 26,
    "start_time": "2021-06-26T15:31:35.983Z"
   },
   {
    "duration": 14,
    "start_time": "2021-06-26T15:31:36.011Z"
   },
   {
    "duration": 16,
    "start_time": "2021-06-26T15:31:36.030Z"
   },
   {
    "duration": 53,
    "start_time": "2021-06-26T15:31:36.048Z"
   },
   {
    "duration": 19,
    "start_time": "2021-06-26T15:31:36.104Z"
   },
   {
    "duration": 2661,
    "start_time": "2021-06-26T15:31:36.126Z"
   },
   {
    "duration": 18,
    "start_time": "2021-06-26T15:31:38.790Z"
   },
   {
    "duration": 448,
    "start_time": "2021-06-26T15:31:38.811Z"
   },
   {
    "duration": 416,
    "start_time": "2021-06-26T15:31:39.262Z"
   },
   {
    "duration": 397,
    "start_time": "2021-06-26T15:31:39.681Z"
   },
   {
    "duration": 6,
    "start_time": "2021-06-26T15:31:40.080Z"
   },
   {
    "duration": 6,
    "start_time": "2021-06-26T15:31:40.100Z"
   },
   {
    "duration": 492,
    "start_time": "2021-06-26T15:31:40.109Z"
   },
   {
    "duration": 101,
    "start_time": "2021-06-26T15:31:40.605Z"
   },
   {
    "duration": 7,
    "start_time": "2021-06-26T15:31:40.709Z"
   },
   {
    "duration": 12,
    "start_time": "2021-06-26T15:31:40.718Z"
   },
   {
    "duration": 11,
    "start_time": "2021-06-26T15:31:40.733Z"
   },
   {
    "duration": 17,
    "start_time": "2021-06-26T15:31:40.746Z"
   },
   {
    "duration": 5,
    "start_time": "2021-06-26T15:31:40.765Z"
   },
   {
    "duration": 35,
    "start_time": "2021-06-26T15:31:40.772Z"
   },
   {
    "duration": 27,
    "start_time": "2021-06-26T15:31:40.812Z"
   },
   {
    "duration": 15,
    "start_time": "2021-06-26T15:31:40.841Z"
   },
   {
    "duration": 5337,
    "start_time": "2021-06-26T15:31:40.858Z"
   },
   {
    "duration": 5001,
    "start_time": "2021-06-26T15:31:46.201Z"
   },
   {
    "duration": 4440,
    "start_time": "2021-06-26T15:31:51.205Z"
   },
   {
    "duration": 11,
    "start_time": "2021-06-26T15:31:55.648Z"
   },
   {
    "duration": 1620,
    "start_time": "2021-06-26T15:35:12.060Z"
   },
   {
    "duration": 153,
    "start_time": "2021-06-26T15:35:13.683Z"
   },
   {
    "duration": 152,
    "start_time": "2021-06-26T15:35:13.839Z"
   },
   {
    "duration": 148,
    "start_time": "2021-06-26T15:35:13.994Z"
   },
   {
    "duration": 13,
    "start_time": "2021-06-26T15:35:14.145Z"
   },
   {
    "duration": 14,
    "start_time": "2021-06-26T15:35:14.161Z"
   },
   {
    "duration": 14,
    "start_time": "2021-06-26T15:35:14.201Z"
   },
   {
    "duration": 19,
    "start_time": "2021-06-26T15:35:14.218Z"
   },
   {
    "duration": 12,
    "start_time": "2021-06-26T15:35:14.240Z"
   },
   {
    "duration": 48,
    "start_time": "2021-06-26T15:35:14.254Z"
   },
   {
    "duration": 2689,
    "start_time": "2021-06-26T15:35:14.304Z"
   },
   {
    "duration": 10,
    "start_time": "2021-06-26T15:35:17.000Z"
   },
   {
    "duration": 445,
    "start_time": "2021-06-26T15:35:17.013Z"
   },
   {
    "duration": 393,
    "start_time": "2021-06-26T15:35:17.460Z"
   },
   {
    "duration": 416,
    "start_time": "2021-06-26T15:35:17.856Z"
   },
   {
    "duration": 7,
    "start_time": "2021-06-26T15:35:18.274Z"
   },
   {
    "duration": 22,
    "start_time": "2021-06-26T15:35:18.284Z"
   },
   {
    "duration": 497,
    "start_time": "2021-06-26T15:35:18.309Z"
   },
   {
    "duration": 101,
    "start_time": "2021-06-26T15:35:18.809Z"
   },
   {
    "duration": 5,
    "start_time": "2021-06-26T15:35:18.912Z"
   },
   {
    "duration": 12,
    "start_time": "2021-06-26T15:35:18.919Z"
   },
   {
    "duration": 8,
    "start_time": "2021-06-26T15:35:18.933Z"
   },
   {
    "duration": 12,
    "start_time": "2021-06-26T15:35:18.946Z"
   },
   {
    "duration": 41,
    "start_time": "2021-06-26T15:35:18.961Z"
   },
   {
    "duration": 12,
    "start_time": "2021-06-26T15:35:19.005Z"
   },
   {
    "duration": 26,
    "start_time": "2021-06-26T15:35:19.019Z"
   },
   {
    "duration": 15,
    "start_time": "2021-06-26T15:35:19.047Z"
   },
   {
    "duration": 4415,
    "start_time": "2021-06-26T15:35:19.064Z"
   },
   {
    "duration": 4353,
    "start_time": "2021-06-26T15:35:23.482Z"
   },
   {
    "duration": 8688,
    "start_time": "2021-06-26T15:35:27.838Z"
   },
   {
    "duration": 72,
    "start_time": "2021-06-26T15:35:36.529Z"
   },
   {
    "duration": 6,
    "start_time": "2021-06-26T15:55:03.869Z"
   },
   {
    "duration": 417,
    "start_time": "2021-06-26T15:55:06.501Z"
   },
   {
    "duration": 5,
    "start_time": "2021-06-26T15:55:17.872Z"
   },
   {
    "duration": 293,
    "start_time": "2021-06-26T15:55:24.483Z"
   },
   {
    "duration": 7,
    "start_time": "2021-06-26T15:55:28.575Z"
   },
   {
    "duration": 289,
    "start_time": "2021-06-26T15:55:28.981Z"
   },
   {
    "duration": 315,
    "start_time": "2021-06-26T15:55:31.312Z"
   },
   {
    "duration": 5,
    "start_time": "2021-06-26T15:55:42.236Z"
   },
   {
    "duration": 5,
    "start_time": "2021-06-26T15:55:44.718Z"
   },
   {
    "duration": 25,
    "start_time": "2021-06-26T15:55:46.109Z"
   },
   {
    "duration": 8,
    "start_time": "2021-06-26T15:55:51.843Z"
   },
   {
    "duration": 26,
    "start_time": "2021-06-26T15:55:53.118Z"
   },
   {
    "duration": 16,
    "start_time": "2021-06-26T15:55:54.571Z"
   },
   {
    "duration": 5,
    "start_time": "2021-06-26T15:56:45.413Z"
   },
   {
    "duration": 7,
    "start_time": "2021-06-26T15:56:48.292Z"
   },
   {
    "duration": 24,
    "start_time": "2021-06-26T15:56:48.620Z"
   },
   {
    "duration": 16,
    "start_time": "2021-06-26T15:56:49.932Z"
   },
   {
    "duration": 8,
    "start_time": "2021-06-26T15:57:50.740Z"
   },
   {
    "duration": 7,
    "start_time": "2021-06-26T15:57:55.236Z"
   },
   {
    "duration": 25,
    "start_time": "2021-06-26T15:57:57.742Z"
   },
   {
    "duration": 15,
    "start_time": "2021-06-26T15:57:58.054Z"
   },
   {
    "duration": 1438,
    "start_time": "2021-06-26T16:22:07.733Z"
   },
   {
    "duration": 156,
    "start_time": "2021-06-26T16:22:09.174Z"
   },
   {
    "duration": 151,
    "start_time": "2021-06-26T16:22:09.333Z"
   },
   {
    "duration": 159,
    "start_time": "2021-06-26T16:22:09.487Z"
   },
   {
    "duration": 17,
    "start_time": "2021-06-26T16:22:09.648Z"
   },
   {
    "duration": 36,
    "start_time": "2021-06-26T16:22:09.668Z"
   },
   {
    "duration": 16,
    "start_time": "2021-06-26T16:22:09.707Z"
   },
   {
    "duration": 17,
    "start_time": "2021-06-26T16:22:09.725Z"
   },
   {
    "duration": 12,
    "start_time": "2021-06-26T16:22:09.746Z"
   },
   {
    "duration": 50,
    "start_time": "2021-06-26T16:22:09.761Z"
   },
   {
    "duration": 2724,
    "start_time": "2021-06-26T16:22:09.813Z"
   },
   {
    "duration": 10,
    "start_time": "2021-06-26T16:22:12.540Z"
   },
   {
    "duration": 486,
    "start_time": "2021-06-26T16:22:12.553Z"
   },
   {
    "duration": 367,
    "start_time": "2021-06-26T16:22:13.041Z"
   },
   {
    "duration": 355,
    "start_time": "2021-06-26T16:22:13.411Z"
   },
   {
    "duration": 6,
    "start_time": "2021-06-26T16:22:13.769Z"
   },
   {
    "duration": 25,
    "start_time": "2021-06-26T16:22:13.779Z"
   },
   {
    "duration": 495,
    "start_time": "2021-06-26T16:22:13.806Z"
   },
   {
    "duration": 102,
    "start_time": "2021-06-26T16:22:14.304Z"
   },
   {
    "duration": 5,
    "start_time": "2021-06-26T16:22:14.409Z"
   },
   {
    "duration": 22,
    "start_time": "2021-06-26T16:22:14.416Z"
   },
   {
    "duration": 14,
    "start_time": "2021-06-26T16:22:14.441Z"
   },
   {
    "duration": 19,
    "start_time": "2021-06-26T16:22:14.458Z"
   },
   {
    "duration": 21,
    "start_time": "2021-06-26T16:22:14.479Z"
   },
   {
    "duration": 24,
    "start_time": "2021-06-26T16:22:14.502Z"
   },
   {
    "duration": 27,
    "start_time": "2021-06-26T16:22:14.529Z"
   },
   {
    "duration": 15,
    "start_time": "2021-06-26T16:22:14.560Z"
   },
   {
    "duration": 4369,
    "start_time": "2021-06-26T16:22:14.577Z"
   },
   {
    "duration": 4381,
    "start_time": "2021-06-26T16:22:18.949Z"
   },
   {
    "duration": 4568,
    "start_time": "2021-06-26T16:22:23.333Z"
   },
   {
    "duration": 11,
    "start_time": "2021-06-26T16:22:27.903Z"
   },
   {
    "duration": 1523,
    "start_time": "2021-06-26T16:23:31.477Z"
   },
   {
    "duration": 161,
    "start_time": "2021-06-26T16:23:33.004Z"
   },
   {
    "duration": 148,
    "start_time": "2021-06-26T16:23:33.169Z"
   },
   {
    "duration": 157,
    "start_time": "2021-06-26T16:23:33.320Z"
   },
   {
    "duration": 26,
    "start_time": "2021-06-26T16:23:33.479Z"
   },
   {
    "duration": 12,
    "start_time": "2021-06-26T16:23:33.508Z"
   },
   {
    "duration": 13,
    "start_time": "2021-06-26T16:23:33.523Z"
   },
   {
    "duration": 17,
    "start_time": "2021-06-26T16:23:33.540Z"
   },
   {
    "duration": 50,
    "start_time": "2021-06-26T16:23:33.560Z"
   },
   {
    "duration": 13,
    "start_time": "2021-06-26T16:23:33.613Z"
   },
   {
    "duration": 2754,
    "start_time": "2021-06-26T16:23:33.628Z"
   },
   {
    "duration": 19,
    "start_time": "2021-06-26T16:23:36.384Z"
   },
   {
    "duration": 477,
    "start_time": "2021-06-26T16:23:36.405Z"
   },
   {
    "duration": 365,
    "start_time": "2021-06-26T16:23:36.884Z"
   },
   {
    "duration": 398,
    "start_time": "2021-06-26T16:23:37.251Z"
   },
   {
    "duration": 5,
    "start_time": "2021-06-26T16:23:37.652Z"
   },
   {
    "duration": 7,
    "start_time": "2021-06-26T16:23:37.660Z"
   },
   {
    "duration": 531,
    "start_time": "2021-06-26T16:23:37.670Z"
   },
   {
    "duration": 103,
    "start_time": "2021-06-26T16:23:38.205Z"
   },
   {
    "duration": 7,
    "start_time": "2021-06-26T16:23:38.310Z"
   },
   {
    "duration": 8,
    "start_time": "2021-06-26T16:23:38.320Z"
   },
   {
    "duration": 9,
    "start_time": "2021-06-26T16:23:38.331Z"
   },
   {
    "duration": 19,
    "start_time": "2021-06-26T16:23:38.345Z"
   },
   {
    "duration": 37,
    "start_time": "2021-06-26T16:23:38.367Z"
   },
   {
    "duration": 28,
    "start_time": "2021-06-26T16:23:38.407Z"
   },
   {
    "duration": 37,
    "start_time": "2021-06-26T16:23:38.438Z"
   },
   {
    "duration": 22,
    "start_time": "2021-06-26T16:23:38.478Z"
   },
   {
    "duration": 4435,
    "start_time": "2021-06-26T16:23:38.503Z"
   },
   {
    "duration": 4709,
    "start_time": "2021-06-26T16:23:42.940Z"
   },
   {
    "duration": 4297,
    "start_time": "2021-06-26T16:23:47.652Z"
   },
   {
    "duration": 10,
    "start_time": "2021-06-26T16:23:51.951Z"
   },
   {
    "duration": 8,
    "start_time": "2021-06-26T16:27:20.253Z"
   },
   {
    "duration": 24,
    "start_time": "2021-06-26T16:27:24.007Z"
   },
   {
    "duration": 14,
    "start_time": "2021-06-26T16:27:25.526Z"
   },
   {
    "duration": 1467,
    "start_time": "2021-06-27T07:06:01.374Z"
   },
   {
    "duration": 167,
    "start_time": "2021-06-27T07:06:02.843Z"
   },
   {
    "duration": 151,
    "start_time": "2021-06-27T07:06:03.013Z"
   },
   {
    "duration": 155,
    "start_time": "2021-06-27T07:06:03.167Z"
   },
   {
    "duration": 14,
    "start_time": "2021-06-27T07:06:03.325Z"
   },
   {
    "duration": 21,
    "start_time": "2021-06-27T07:06:03.342Z"
   },
   {
    "duration": 14,
    "start_time": "2021-06-27T07:06:03.365Z"
   },
   {
    "duration": 17,
    "start_time": "2021-06-27T07:06:03.383Z"
   },
   {
    "duration": 55,
    "start_time": "2021-06-27T07:06:03.403Z"
   },
   {
    "duration": 28,
    "start_time": "2021-06-27T07:06:03.461Z"
   },
   {
    "duration": 2851,
    "start_time": "2021-06-27T07:06:03.492Z"
   },
   {
    "duration": 14,
    "start_time": "2021-06-27T07:06:06.345Z"
   },
   {
    "duration": 470,
    "start_time": "2021-06-27T07:06:06.361Z"
   },
   {
    "duration": 393,
    "start_time": "2021-06-27T07:06:06.834Z"
   },
   {
    "duration": 399,
    "start_time": "2021-06-27T07:06:07.229Z"
   },
   {
    "duration": 6,
    "start_time": "2021-06-27T07:06:07.630Z"
   },
   {
    "duration": 7,
    "start_time": "2021-06-27T07:06:07.655Z"
   },
   {
    "duration": 494,
    "start_time": "2021-06-27T07:06:07.665Z"
   },
   {
    "duration": 95,
    "start_time": "2021-06-27T07:06:08.163Z"
   },
   {
    "duration": 8,
    "start_time": "2021-06-27T07:06:08.261Z"
   },
   {
    "duration": 18,
    "start_time": "2021-06-27T07:06:08.271Z"
   },
   {
    "duration": 15,
    "start_time": "2021-06-27T07:06:08.292Z"
   },
   {
    "duration": 13,
    "start_time": "2021-06-27T07:06:08.312Z"
   },
   {
    "duration": 30,
    "start_time": "2021-06-27T07:06:08.328Z"
   },
   {
    "duration": 10,
    "start_time": "2021-06-27T07:06:08.361Z"
   },
   {
    "duration": 28,
    "start_time": "2021-06-27T07:06:08.373Z"
   },
   {
    "duration": 14,
    "start_time": "2021-06-27T07:06:08.404Z"
   },
   {
    "duration": 4733,
    "start_time": "2021-06-27T07:06:08.421Z"
   },
   {
    "duration": 4329,
    "start_time": "2021-06-27T07:06:13.156Z"
   },
   {
    "duration": 4330,
    "start_time": "2021-06-27T07:06:17.488Z"
   },
   {
    "duration": 11,
    "start_time": "2021-06-27T07:06:21.820Z"
   },
   {
    "duration": 16,
    "start_time": "2021-06-27T07:06:24.102Z"
   },
   {
    "duration": 6,
    "start_time": "2021-06-27T07:08:58.721Z"
   },
   {
    "duration": 5534,
    "start_time": "2021-06-27T07:09:03.463Z"
   },
   {
    "duration": 5689,
    "start_time": "2021-06-27T07:09:12.118Z"
   },
   {
    "duration": 5294,
    "start_time": "2021-06-27T07:09:17.811Z"
   },
   {
    "duration": 5,
    "start_time": "2021-06-27T07:09:52.894Z"
   }
  ],
  "kernelspec": {
   "display_name": "Python 3 (ipykernel)",
   "language": "python",
   "name": "python3"
  },
  "language_info": {
   "codemirror_mode": {
    "name": "ipython",
    "version": 3
   },
   "file_extension": ".py",
   "mimetype": "text/x-python",
   "name": "python",
   "nbconvert_exporter": "python",
   "pygments_lexer": "ipython3",
   "version": "3.9.5"
  },
  "toc": {
   "base_numbering": 1,
   "nav_menu": {},
   "number_sections": true,
   "sideBar": true,
   "skip_h1_title": true,
   "title_cell": "Table of Contents",
   "title_sidebar": "Contents",
   "toc_cell": false,
   "toc_position": {
    "height": "calc(100% - 180px)",
    "left": "10px",
    "top": "150px",
    "width": "238.396px"
   },
   "toc_section_display": true,
   "toc_window_display": true
  }
 },
 "nbformat": 4,
 "nbformat_minor": 2
}
