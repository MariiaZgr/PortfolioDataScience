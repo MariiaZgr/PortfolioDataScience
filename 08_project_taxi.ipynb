{
 "cells": [
  {
   "cell_type": "markdown",
   "metadata": {
    "toc": true
   },
   "source": [
    "<h1>Содержание<span class=\"tocSkip\"></span></h1>\n",
    "<div class=\"toc\"><li><span><a href=\"#Подготовка\" data-toc-modified-id=\"Подготовка-1\"><span class=\"toc-item-num\">1&nbsp;&nbsp;</span>Подготовка</a></span></li><li><span><a href=\"#Анализ\" data-toc-modified-id=\"Анализ-2\"><span class=\"toc-item-num\">2&nbsp;&nbsp;</span>Анализ</a></span></li><li><span><a href=\"#Обучение\" data-toc-modified-id=\"Обучение-3\"><span class=\"toc-item-num\">3&nbsp;&nbsp;</span>Обучение</a></span><ul class=\"toc-item\"><li><span><a href=\"#LightGBM\" data-toc-modified-id=\"LightGBM-3.1\"><span class=\"toc-item-num\">3.1&nbsp;&nbsp;</span>LightGBM</a></span></li><li><span><a href=\"#LinearRegression\" data-toc-modified-id=\"LinearRegression-3.2\"><span class=\"toc-item-num\">3.2&nbsp;&nbsp;</span>LinearRegression</a></span></li><li><span><a href=\"#DecisionTreeRegressor\" data-toc-modified-id=\"DecisionTreeRegressor-3.3\"><span class=\"toc-item-num\">3.3&nbsp;&nbsp;</span>DecisionTreeRegressor</a></span></li></ul></li><li><span><a href=\"#Тестирование\" data-toc-modified-id=\"Тестирование-4\"><span class=\"toc-item-num\">4&nbsp;&nbsp;</span>Тестирование</a></span></li></ul></div>"
   ]
  },
  {
   "cell_type": "markdown",
   "metadata": {},
   "source": [
    "#  Прогнозирование заказов такси"
   ]
  },
  {
   "cell_type": "markdown",
   "metadata": {},
   "source": [
    "Компания «Чётенькое такси» собрала исторические данные о заказах такси в аэропортах. Чтобы привлекать больше водителей в период пиковой нагрузки, нужно спрогнозировать количество заказов такси на следующий час. Постройте модель для такого предсказания.\n",
    "\n",
    "Значение метрики *RMSE* на тестовой выборке должно быть не больше 48.\n",
    "\n",
    "Вам нужно:\n",
    "\n",
    "1. Загрузить данные и выполнить их ресемплирование по одному часу.\n",
    "2. Проанализировать данные.\n",
    "3. Обучить разные модели с различными гиперпараметрами. Сделать тестовую выборку размером 10% от исходных данных.\n",
    "4. Проверить данные на тестовой выборке и сделать выводы.\n",
    "\n",
    "\n",
    "Данные лежат в файле `taxi.csv`. Количество заказов находится в столбце `num_orders` (от англ. *number of orders*, «число заказов»)."
   ]
  },
  {
   "cell_type": "code",
   "execution_count": 1,
   "metadata": {},
   "outputs": [],
   "source": [
    "import pandas as pd\n",
    "import numpy as np\n",
    "import time\n",
    "\n",
    "from sklearn.model_selection import train_test_split\n",
    "from sklearn.metrics import mean_squared_error\n",
    "from scipy import stats as st\n",
    "from sklearn.metrics import roc_auc_score, roc_curve, precision_recall_curve, mean_absolute_error, make_scorer\n",
    "\n",
    "from sklearn.model_selection import cross_val_score\n",
    "from sklearn.model_selection import GridSearchCV\n",
    "from sklearn.linear_model import LinearRegression\n",
    "from sklearn.tree import DecisionTreeRegressor\n",
    "from sklearn.dummy import DummyRegressor\n",
    "from lightgbm import LGBMRegressor\n",
    "from statsmodels.tsa.seasonal import seasonal_decompose\n",
    "from sklearn.model_selection import train_test_split, GridSearchCV, TimeSeriesSplit\n",
    "\n",
    "import matplotlib.pyplot as plt\n",
    "import seaborn as sns\n",
    "sns.set(style=\"whitegrid\")\n",
    "\n",
    "import warnings\n",
    "warnings.filterwarnings('ignore')"
   ]
  },
  {
   "cell_type": "markdown",
   "metadata": {},
   "source": [
    "## Подготовка"
   ]
  },
  {
   "cell_type": "markdown",
   "metadata": {},
   "source": [
    "Изучим данные таблицы."
   ]
  },
  {
   "cell_type": "code",
   "execution_count": 2,
   "metadata": {},
   "outputs": [],
   "source": [
    "taxi = pd.read_csv('/datasets/taxi.csv', index_col=[0], parse_dates=[0])"
   ]
  },
  {
   "cell_type": "code",
   "execution_count": 3,
   "metadata": {},
   "outputs": [
    {
     "name": "stdout",
     "output_type": "stream",
     "text": [
      "<class 'pandas.core.frame.DataFrame'>\n",
      "DatetimeIndex: 26496 entries, 2018-03-01 00:00:00 to 2018-08-31 23:50:00\n",
      "Data columns (total 1 columns):\n",
      "num_orders    26496 non-null int64\n",
      "dtypes: int64(1)\n",
      "memory usage: 414.0 KB\n"
     ]
    }
   ],
   "source": [
    "taxi.info()"
   ]
  },
  {
   "cell_type": "code",
   "execution_count": 4,
   "metadata": {},
   "outputs": [
    {
     "data": {
      "text/html": [
       "<div>\n",
       "<style scoped>\n",
       "    .dataframe tbody tr th:only-of-type {\n",
       "        vertical-align: middle;\n",
       "    }\n",
       "\n",
       "    .dataframe tbody tr th {\n",
       "        vertical-align: top;\n",
       "    }\n",
       "\n",
       "    .dataframe thead th {\n",
       "        text-align: right;\n",
       "    }\n",
       "</style>\n",
       "<table border=\"1\" class=\"dataframe\">\n",
       "  <thead>\n",
       "    <tr style=\"text-align: right;\">\n",
       "      <th></th>\n",
       "      <th>num_orders</th>\n",
       "    </tr>\n",
       "    <tr>\n",
       "      <th>datetime</th>\n",
       "      <th></th>\n",
       "    </tr>\n",
       "  </thead>\n",
       "  <tbody>\n",
       "    <tr>\n",
       "      <td>2018-03-01 00:00:00</td>\n",
       "      <td>9</td>\n",
       "    </tr>\n",
       "    <tr>\n",
       "      <td>2018-03-01 00:10:00</td>\n",
       "      <td>14</td>\n",
       "    </tr>\n",
       "    <tr>\n",
       "      <td>2018-03-01 00:20:00</td>\n",
       "      <td>28</td>\n",
       "    </tr>\n",
       "    <tr>\n",
       "      <td>2018-03-01 00:30:00</td>\n",
       "      <td>20</td>\n",
       "    </tr>\n",
       "    <tr>\n",
       "      <td>2018-03-01 00:40:00</td>\n",
       "      <td>32</td>\n",
       "    </tr>\n",
       "    <tr>\n",
       "      <td>2018-03-01 00:50:00</td>\n",
       "      <td>21</td>\n",
       "    </tr>\n",
       "    <tr>\n",
       "      <td>2018-03-01 01:00:00</td>\n",
       "      <td>7</td>\n",
       "    </tr>\n",
       "    <tr>\n",
       "      <td>2018-03-01 01:10:00</td>\n",
       "      <td>5</td>\n",
       "    </tr>\n",
       "    <tr>\n",
       "      <td>2018-03-01 01:20:00</td>\n",
       "      <td>17</td>\n",
       "    </tr>\n",
       "    <tr>\n",
       "      <td>2018-03-01 01:30:00</td>\n",
       "      <td>12</td>\n",
       "    </tr>\n",
       "  </tbody>\n",
       "</table>\n",
       "</div>"
      ],
      "text/plain": [
       "                     num_orders\n",
       "datetime                       \n",
       "2018-03-01 00:00:00           9\n",
       "2018-03-01 00:10:00          14\n",
       "2018-03-01 00:20:00          28\n",
       "2018-03-01 00:30:00          20\n",
       "2018-03-01 00:40:00          32\n",
       "2018-03-01 00:50:00          21\n",
       "2018-03-01 01:00:00           7\n",
       "2018-03-01 01:10:00           5\n",
       "2018-03-01 01:20:00          17\n",
       "2018-03-01 01:30:00          12"
      ]
     },
     "execution_count": 4,
     "metadata": {},
     "output_type": "execute_result"
    }
   ],
   "source": [
    "taxi.head(10)"
   ]
  },
  {
   "cell_type": "markdown",
   "metadata": {},
   "source": [
    "В таблице мы видим количество заказов за интервал 10 минут. "
   ]
  },
  {
   "cell_type": "markdown",
   "metadata": {},
   "source": [
    "Чтобы проверить, в хронологическом ли порядке расположены даты и время, посмотрим атрибут индекса таблицы is_monotonic"
   ]
  },
  {
   "cell_type": "code",
   "execution_count": 5,
   "metadata": {},
   "outputs": [
    {
     "data": {
      "text/plain": [
       "True"
      ]
     },
     "execution_count": 5,
     "metadata": {},
     "output_type": "execute_result"
    }
   ],
   "source": [
    "taxi.index.is_monotonic"
   ]
  },
  {
   "cell_type": "markdown",
   "metadata": {},
   "source": [
    "Посмотрим границы периода"
   ]
  },
  {
   "cell_type": "code",
   "execution_count": 6,
   "metadata": {},
   "outputs": [
    {
     "name": "stdout",
     "output_type": "stream",
     "text": [
      "2018-03-01 00:00:00 2018-08-31 23:50:00\n"
     ]
    }
   ],
   "source": [
    "print(taxi.index.min(), taxi.index.max())"
   ]
  },
  {
   "cell_type": "code",
   "execution_count": 7,
   "metadata": {},
   "outputs": [
    {
     "data": {
      "text/plain": [
       "<matplotlib.axes._subplots.AxesSubplot at 0x7f6b1f3f75d0>"
      ]
     },
     "execution_count": 7,
     "metadata": {},
     "output_type": "execute_result"
    },
    {
     "data": {
      "image/png": "[encoded data removed]",
      "text/plain": [
       "<Figure size 1152x432 with 1 Axes>"
      ]
     },
     "metadata": {},
     "output_type": "display_data"
    }
   ],
   "source": [
    "taxi.plot(figsize=(16,6))\n"
   ]
  },
  {
   "cell_type": "markdown",
   "metadata": {},
   "source": [
    "## Анализ"
   ]
  },
  {
   "cell_type": "markdown",
   "metadata": {},
   "source": [
    "Проведем ресемплирование по 1 часу. "
   ]
  },
  {
   "cell_type": "code",
   "execution_count": 8,
   "metadata": {},
   "outputs": [
    {
     "data": {
      "text/plain": [
       "<matplotlib.axes._subplots.AxesSubplot at 0x7f6b1fec8cd0>"
      ]
     },
     "execution_count": 8,
     "metadata": {},
     "output_type": "execute_result"
    },
    {
     "data": {
      "image/png": "[encoded data removed]",
      "text/plain": [
       "<Figure size 1152x360 with 1 Axes>"
      ]
     },
     "metadata": {},
     "output_type": "display_data"
    }
   ],
   "source": [
    "taxi= taxi.resample('1H').sum()\n",
    "taxi.plot(figsize=(16,5))"
   ]
  },
  {
   "cell_type": "code",
   "execution_count": 9,
   "metadata": {},
   "outputs": [
    {
     "data": {
      "text/html": [
       "<div>\n",
       "<style scoped>\n",
       "    .dataframe tbody tr th:only-of-type {\n",
       "        vertical-align: middle;\n",
       "    }\n",
       "\n",
       "    .dataframe tbody tr th {\n",
       "        vertical-align: top;\n",
       "    }\n",
       "\n",
       "    .dataframe thead th {\n",
       "        text-align: right;\n",
       "    }\n",
       "</style>\n",
       "<table border=\"1\" class=\"dataframe\">\n",
       "  <thead>\n",
       "    <tr style=\"text-align: right;\">\n",
       "      <th></th>\n",
       "      <th>num_orders</th>\n",
       "    </tr>\n",
       "    <tr>\n",
       "      <th>datetime</th>\n",
       "      <th></th>\n",
       "    </tr>\n",
       "  </thead>\n",
       "  <tbody>\n",
       "    <tr>\n",
       "      <td>2018-03-01 00:00:00</td>\n",
       "      <td>124</td>\n",
       "    </tr>\n",
       "    <tr>\n",
       "      <td>2018-03-01 01:00:00</td>\n",
       "      <td>85</td>\n",
       "    </tr>\n",
       "    <tr>\n",
       "      <td>2018-03-01 02:00:00</td>\n",
       "      <td>71</td>\n",
       "    </tr>\n",
       "    <tr>\n",
       "      <td>2018-03-01 03:00:00</td>\n",
       "      <td>66</td>\n",
       "    </tr>\n",
       "    <tr>\n",
       "      <td>2018-03-01 04:00:00</td>\n",
       "      <td>43</td>\n",
       "    </tr>\n",
       "  </tbody>\n",
       "</table>\n",
       "</div>"
      ],
      "text/plain": [
       "                     num_orders\n",
       "datetime                       \n",
       "2018-03-01 00:00:00         124\n",
       "2018-03-01 01:00:00          85\n",
       "2018-03-01 02:00:00          71\n",
       "2018-03-01 03:00:00          66\n",
       "2018-03-01 04:00:00          43"
      ]
     },
     "execution_count": 9,
     "metadata": {},
     "output_type": "execute_result"
    }
   ],
   "source": [
    "taxi.head(5)"
   ]
  },
  {
   "cell_type": "markdown",
   "metadata": {},
   "source": [
    "<div class=\"alert alert-block alert-success\">\n",
    "<b>Успех:</b> Ресемплинг был сделан правильно.\n",
    "</div>"
   ]
  },
  {
   "cell_type": "markdown",
   "metadata": {},
   "source": [
    "Рассмотрим тренды и сезонность."
   ]
  },
  {
   "cell_type": "code",
   "execution_count": 10,
   "metadata": {},
   "outputs": [
    {
     "data": {
      "image/png": "[encoded data removed]",
      "text/plain": [
       "<Figure size 864x720 with 3 Axes>"
      ]
     },
     "metadata": {},
     "output_type": "display_data"
    }
   ],
   "source": [
    "decomposed = seasonal_decompose(taxi) \n",
    "\n",
    "plt.figure(figsize=(12, 10))\n",
    "plt.subplot(311)\n",
    "decomposed.trend.plot(ax=plt.gca())\n",
    "plt.title('Trend')\n",
    "plt.subplot(312)\n",
    "decomposed.seasonal.plot(ax=plt.gca())\n",
    "plt.title('Seasonality')\n",
    "plt.subplot(313)\n",
    "decomposed.resid.plot(ax=plt.gca())\n",
    "plt.title('Residuals')\n",
    "plt.tight_layout()"
   ]
  },
  {
   "cell_type": "markdown",
   "metadata": {},
   "source": [
    "Тренд говорит, что объем заказов плавно увеличивается. Сезонности на этом срезе данных не выявлено. Временной ряд не стационарен. \n",
    "<br>\n",
    "Рассмотрим подробнее один месяц"
   ]
  },
  {
   "cell_type": "code",
   "execution_count": 11,
   "metadata": {},
   "outputs": [
    {
     "data": {
      "image/png": "[encoded data removed]",
      "text/plain": [
       "<Figure size 864x720 with 3 Axes>"
      ]
     },
     "metadata": {},
     "output_type": "display_data"
    }
   ],
   "source": [
    "decomposed = seasonal_decompose(taxi['2018-08-01':'2018-08-31']) \n",
    "\n",
    "plt.figure(figsize=(12, 10))\n",
    "plt.subplot(311)\n",
    "decomposed.trend.plot(ax=plt.gca())\n",
    "plt.title('Trend')\n",
    "plt.subplot(312)\n",
    "decomposed.seasonal.plot(ax=plt.gca())\n",
    "plt.title('Seasonality')\n",
    "plt.subplot(313)\n",
    "decomposed.resid.plot(ax=plt.gca())\n",
    "plt.title('Residuals')\n",
    "plt.tight_layout()\n"
   ]
  },
  {
   "cell_type": "markdown",
   "metadata": {},
   "source": [
    "Количество заказов меняется в зависимости от дня недели (13, 20, 27 - понедельники) "
   ]
  },
  {
   "cell_type": "markdown",
   "metadata": {},
   "source": [
    "<div class=\"alert alert-block alert-success\">\n",
    "<b>Успех:</b> Декомпозиция была сделана корректно. Отлично, что сезонность была визуалиизрована на более коротком интервале.\n",
    "</div>"
   ]
  },
  {
   "cell_type": "markdown",
   "metadata": {},
   "source": [
    "Посмотрим на скользящее среднее и стандартное отклонение. "
   ]
  },
  {
   "cell_type": "code",
   "execution_count": 12,
   "metadata": {},
   "outputs": [],
   "source": [
    "#taxi.sort_index(inplace=True)\n",
    "#taxi -= taxi.shift()\n",
    "taxi['mean'] = taxi['num_orders'].rolling(15).mean()\n",
    "taxi['std'] = taxi['num_orders'].rolling(15).std()\n",
    "#taxi.plot(figsize=(12, 10))"
   ]
  },
  {
   "cell_type": "markdown",
   "metadata": {},
   "source": [
    "## Обучение"
   ]
  },
  {
   "cell_type": "markdown",
   "metadata": {},
   "source": [
    "Создадим признаки. Для нас имеют значение только день недели и час, более крупные интервалы не показательны. Отстающие значения (max_lag) позже надо будет подобрать. "
   ]
  },
  {
   "cell_type": "code",
   "execution_count": 13,
   "metadata": {},
   "outputs": [],
   "source": [
    "def make_features(data, max_lag, rolling_mean_size):\n",
    "    \n",
    "    data = data.copy()\n",
    "    data['dayofweek'] = data.index.dayofweek\n",
    "    data['hour'] = data.index.hour\n",
    "    \n",
    "    for lag in range(1, max_lag + 1):\n",
    "        data['lag_{}'.format(lag)] = taxi['num_orders'].shift(lag)\n",
    "    data['rolling_mean']  = data['num_orders'].shift().rolling(rolling_mean_size).mean()\n",
    "    return data  "
   ]
  },
  {
   "cell_type": "code",
   "execution_count": 14,
   "metadata": {},
   "outputs": [
    {
     "data": {
      "text/html": [
       "<div>\n",
       "<style scoped>\n",
       "    .dataframe tbody tr th:only-of-type {\n",
       "        vertical-align: middle;\n",
       "    }\n",
       "\n",
       "    .dataframe tbody tr th {\n",
       "        vertical-align: top;\n",
       "    }\n",
       "\n",
       "    .dataframe thead th {\n",
       "        text-align: right;\n",
       "    }\n",
       "</style>\n",
       "<table border=\"1\" class=\"dataframe\">\n",
       "  <thead>\n",
       "    <tr style=\"text-align: right;\">\n",
       "      <th></th>\n",
       "      <th>num_orders</th>\n",
       "      <th>mean</th>\n",
       "      <th>std</th>\n",
       "      <th>dayofweek</th>\n",
       "      <th>hour</th>\n",
       "      <th>lag_1</th>\n",
       "      <th>lag_2</th>\n",
       "      <th>lag_3</th>\n",
       "      <th>lag_4</th>\n",
       "      <th>lag_5</th>\n",
       "      <th>lag_6</th>\n",
       "      <th>lag_7</th>\n",
       "      <th>lag_8</th>\n",
       "      <th>lag_9</th>\n",
       "      <th>lag_10</th>\n",
       "      <th>lag_11</th>\n",
       "      <th>lag_12</th>\n",
       "      <th>rolling_mean</th>\n",
       "    </tr>\n",
       "    <tr>\n",
       "      <th>datetime</th>\n",
       "      <th></th>\n",
       "      <th></th>\n",
       "      <th></th>\n",
       "      <th></th>\n",
       "      <th></th>\n",
       "      <th></th>\n",
       "      <th></th>\n",
       "      <th></th>\n",
       "      <th></th>\n",
       "      <th></th>\n",
       "      <th></th>\n",
       "      <th></th>\n",
       "      <th></th>\n",
       "      <th></th>\n",
       "      <th></th>\n",
       "      <th></th>\n",
       "      <th></th>\n",
       "      <th></th>\n",
       "    </tr>\n",
       "  </thead>\n",
       "  <tbody>\n",
       "    <tr>\n",
       "      <td>2018-03-01 00:00:00</td>\n",
       "      <td>124</td>\n",
       "      <td>NaN</td>\n",
       "      <td>NaN</td>\n",
       "      <td>3</td>\n",
       "      <td>0</td>\n",
       "      <td>NaN</td>\n",
       "      <td>NaN</td>\n",
       "      <td>NaN</td>\n",
       "      <td>NaN</td>\n",
       "      <td>NaN</td>\n",
       "      <td>NaN</td>\n",
       "      <td>NaN</td>\n",
       "      <td>NaN</td>\n",
       "      <td>NaN</td>\n",
       "      <td>NaN</td>\n",
       "      <td>NaN</td>\n",
       "      <td>NaN</td>\n",
       "      <td>NaN</td>\n",
       "    </tr>\n",
       "    <tr>\n",
       "      <td>2018-03-01 01:00:00</td>\n",
       "      <td>85</td>\n",
       "      <td>NaN</td>\n",
       "      <td>NaN</td>\n",
       "      <td>3</td>\n",
       "      <td>1</td>\n",
       "      <td>124.0</td>\n",
       "      <td>NaN</td>\n",
       "      <td>NaN</td>\n",
       "      <td>NaN</td>\n",
       "      <td>NaN</td>\n",
       "      <td>NaN</td>\n",
       "      <td>NaN</td>\n",
       "      <td>NaN</td>\n",
       "      <td>NaN</td>\n",
       "      <td>NaN</td>\n",
       "      <td>NaN</td>\n",
       "      <td>NaN</td>\n",
       "      <td>NaN</td>\n",
       "    </tr>\n",
       "    <tr>\n",
       "      <td>2018-03-01 02:00:00</td>\n",
       "      <td>71</td>\n",
       "      <td>NaN</td>\n",
       "      <td>NaN</td>\n",
       "      <td>3</td>\n",
       "      <td>2</td>\n",
       "      <td>85.0</td>\n",
       "      <td>124.0</td>\n",
       "      <td>NaN</td>\n",
       "      <td>NaN</td>\n",
       "      <td>NaN</td>\n",
       "      <td>NaN</td>\n",
       "      <td>NaN</td>\n",
       "      <td>NaN</td>\n",
       "      <td>NaN</td>\n",
       "      <td>NaN</td>\n",
       "      <td>NaN</td>\n",
       "      <td>NaN</td>\n",
       "      <td>NaN</td>\n",
       "    </tr>\n",
       "    <tr>\n",
       "      <td>2018-03-01 03:00:00</td>\n",
       "      <td>66</td>\n",
       "      <td>NaN</td>\n",
       "      <td>NaN</td>\n",
       "      <td>3</td>\n",
       "      <td>3</td>\n",
       "      <td>71.0</td>\n",
       "      <td>85.0</td>\n",
       "      <td>124.0</td>\n",
       "      <td>NaN</td>\n",
       "      <td>NaN</td>\n",
       "      <td>NaN</td>\n",
       "      <td>NaN</td>\n",
       "      <td>NaN</td>\n",
       "      <td>NaN</td>\n",
       "      <td>NaN</td>\n",
       "      <td>NaN</td>\n",
       "      <td>NaN</td>\n",
       "      <td>NaN</td>\n",
       "    </tr>\n",
       "    <tr>\n",
       "      <td>2018-03-01 04:00:00</td>\n",
       "      <td>43</td>\n",
       "      <td>NaN</td>\n",
       "      <td>NaN</td>\n",
       "      <td>3</td>\n",
       "      <td>4</td>\n",
       "      <td>66.0</td>\n",
       "      <td>71.0</td>\n",
       "      <td>85.0</td>\n",
       "      <td>124.0</td>\n",
       "      <td>NaN</td>\n",
       "      <td>NaN</td>\n",
       "      <td>NaN</td>\n",
       "      <td>NaN</td>\n",
       "      <td>NaN</td>\n",
       "      <td>NaN</td>\n",
       "      <td>NaN</td>\n",
       "      <td>NaN</td>\n",
       "      <td>NaN</td>\n",
       "    </tr>\n",
       "  </tbody>\n",
       "</table>\n",
       "</div>"
      ],
      "text/plain": [
       "                     num_orders  mean  std  dayofweek  hour  lag_1  lag_2  \\\n",
       "datetime                                                                    \n",
       "2018-03-01 00:00:00         124   NaN  NaN          3     0    NaN    NaN   \n",
       "2018-03-01 01:00:00          85   NaN  NaN          3     1  124.0    NaN   \n",
       "2018-03-01 02:00:00          71   NaN  NaN          3     2   85.0  124.0   \n",
       "2018-03-01 03:00:00          66   NaN  NaN          3     3   71.0   85.0   \n",
       "2018-03-01 04:00:00          43   NaN  NaN          3     4   66.0   71.0   \n",
       "\n",
       "                     lag_3  lag_4  lag_5  lag_6  lag_7  lag_8  lag_9  lag_10  \\\n",
       "datetime                                                                       \n",
       "2018-03-01 00:00:00    NaN    NaN    NaN    NaN    NaN    NaN    NaN     NaN   \n",
       "2018-03-01 01:00:00    NaN    NaN    NaN    NaN    NaN    NaN    NaN     NaN   \n",
       "2018-03-01 02:00:00    NaN    NaN    NaN    NaN    NaN    NaN    NaN     NaN   \n",
       "2018-03-01 03:00:00  124.0    NaN    NaN    NaN    NaN    NaN    NaN     NaN   \n",
       "2018-03-01 04:00:00   85.0  124.0    NaN    NaN    NaN    NaN    NaN     NaN   \n",
       "\n",
       "                     lag_11  lag_12  rolling_mean  \n",
       "datetime                                           \n",
       "2018-03-01 00:00:00     NaN     NaN           NaN  \n",
       "2018-03-01 01:00:00     NaN     NaN           NaN  \n",
       "2018-03-01 02:00:00     NaN     NaN           NaN  \n",
       "2018-03-01 03:00:00     NaN     NaN           NaN  \n",
       "2018-03-01 04:00:00     NaN     NaN           NaN  "
      ]
     },
     "execution_count": 14,
     "metadata": {},
     "output_type": "execute_result"
    }
   ],
   "source": [
    "taxi_copy = make_features(taxi, 12, 12)\n",
    "taxi_copy.head()"
   ]
  },
  {
   "cell_type": "markdown",
   "metadata": {},
   "source": [
    "(max_lag и rolling_mean_size были подобраны вручную перебором из интервала 8-20)"
   ]
  },
  {
   "cell_type": "markdown",
   "metadata": {},
   "source": [
    "Разобьем датасет на обучающую и тестовую выборку"
   ]
  },
  {
   "cell_type": "code",
   "execution_count": 15,
   "metadata": {},
   "outputs": [],
   "source": [
    "train, test = train_test_split(taxi_copy, shuffle=False, test_size=0.1)\n",
    "train = train.dropna() "
   ]
  },
  {
   "cell_type": "code",
   "execution_count": 16,
   "metadata": {},
   "outputs": [
    {
     "name": "stdout",
     "output_type": "stream",
     "text": [
      "2018-03-01 14:00:00 2018-08-13 13:00:00\n",
      "2018-08-13 14:00:00 2018-08-31 23:00:00\n"
     ]
    }
   ],
   "source": [
    "print(train.index.min(), train.index.max())\n",
    "print(test.index.min(), test.index.max())"
   ]
  },
  {
   "cell_type": "code",
   "execution_count": 17,
   "metadata": {},
   "outputs": [
    {
     "name": "stdout",
     "output_type": "stream",
     "text": [
      "(3960, 18)\n",
      "(442, 18)\n"
     ]
    }
   ],
   "source": [
    "print(train.shape)\n",
    "print(test.shape)"
   ]
  },
  {
   "cell_type": "markdown",
   "metadata": {},
   "source": [
    "Создадим переменные для признаков и целевого признака."
   ]
  },
  {
   "cell_type": "code",
   "execution_count": 18,
   "metadata": {},
   "outputs": [],
   "source": [
    "features_train = train.drop('num_orders', axis=1)\n",
    "target_train = train['num_orders']\n",
    "features_test = test.drop('num_orders', axis=1)\n",
    "target_test = test['num_orders']\n",
    " "
   ]
  },
  {
   "cell_type": "markdown",
   "metadata": {},
   "source": [
    "Табличка для записи метрик"
   ]
  },
  {
   "cell_type": "code",
   "execution_count": 19,
   "metadata": {},
   "outputs": [],
   "source": [
    "d = {'RMSE обучения': [], 'RMSE предсказания':[]}   \n",
    "          \n",
    "summary_table = pd.DataFrame(data=d)\n",
    "def write_summary_table (col, row, rmse):\n",
    "    if row == 0:\n",
    "        row = 'RMSE обучения'\n",
    "    if row == 1:\n",
    "        row = 'RMSE предсказания'    \n",
    "    summary_table.loc[col, row] = rmse\n"
   ]
  },
  {
   "cell_type": "markdown",
   "metadata": {},
   "source": [
    "### LightGBM ###"
   ]
  },
  {
   "cell_type": "markdown",
   "metadata": {},
   "source": [
    "Так как ряд временной, для кросс-валидации используем функцию TimeSeriesSplit"
   ]
  },
  {
   "cell_type": "code",
   "execution_count": 20,
   "metadata": {},
   "outputs": [],
   "source": [
    "split_index = TimeSeriesSplit()"
   ]
  },
  {
   "cell_type": "code",
   "execution_count": 21,
   "metadata": {},
   "outputs": [
    {
     "name": "stdout",
     "output_type": "stream",
     "text": [
      "RMSE наилучшей модели: 24.25778893704195\n",
      "{'loss_function': 'RMSE', 'n_estimators': 200, 'num_leaves': 12, 'objective': 'regression'}\n",
      "LGBMRegressor(boosting_type='gbdt', class_weight=None, colsample_bytree=1.0,\n",
      "              importance_type='split', learning_rate=0.1, loss_function='RMSE',\n",
      "              max_depth=-1, min_child_samples=20, min_child_weight=0.001,\n",
      "              min_split_gain=0.0, n_estimators=200, n_jobs=-1, num_leaves=12,\n",
      "              objective='regression', random_state=None, reg_alpha=0.0,\n",
      "              reg_lambda=0.0, silent=True, subsample=1.0,\n",
      "              subsample_for_bin=200000, subsample_freq=0)\n"
     ]
    }
   ],
   "source": [
    "model = LGBMRegressor()\n",
    "\n",
    "parameters = {\n",
    "    'objective':['regression'],\n",
    "    'num_leaves': [2, 12, 2],\n",
    "    'n_estimators': [50, 100, 150, 200],\n",
    "    'loss_function': ['RMSE']\n",
    "    \n",
    "}\n",
    "\n",
    "grid_LGBMRegressor = GridSearchCV(model, parameters, scoring = 'neg_mean_squared_error', cv = split_index)\n",
    "grid_LGBMRegressor.fit(features_train, target_train)\n",
    "\n",
    "rms = np.sqrt(-1 *grid_LGBMRegressor.best_score_)\n",
    "\n",
    "print(\"RMSE наилучшей модели:\", rms)\n",
    "print(grid_LGBMRegressor.best_params_)\n",
    "print(grid_LGBMRegressor.best_estimator_)\n",
    "\n",
    "write_summary_table('LGBMRegressor', 0, rms)"
   ]
  },
  {
   "cell_type": "markdown",
   "metadata": {},
   "source": [
    "### LinearRegression ###"
   ]
  },
  {
   "cell_type": "code",
   "execution_count": 22,
   "metadata": {},
   "outputs": [
    {
     "name": "stdout",
     "output_type": "stream",
     "text": [
      "RMSE наилучшей модели: 28.800818675830538\n",
      "{'n_jobs': -1}\n",
      "LinearRegression(copy_X=True, fit_intercept=True, n_jobs=-1, normalize=False)\n"
     ]
    }
   ],
   "source": [
    "model = LinearRegression()\n",
    "\n",
    "parameters = {'n_jobs':[-1]}\n",
    "\n",
    "grid_LinearRegression = GridSearchCV(model, parameters, scoring = 'neg_mean_squared_error', cv = split_index)\n",
    "grid_LinearRegression.fit(features_train, target_train)\n",
    "\n",
    "rms = np.sqrt(-1 *grid_LinearRegression.best_score_)\n",
    "\n",
    "print(\"RMSE наилучшей модели:\", rms)\n",
    "print(grid_LinearRegression.best_params_)\n",
    "print(grid_LinearRegression.best_estimator_)\n",
    "write_summary_table('LinearRegression', 0, round(rms, 4))"
   ]
  },
  {
   "cell_type": "markdown",
   "metadata": {},
   "source": [
    "### DecisionTreeRegressor ###"
   ]
  },
  {
   "cell_type": "code",
   "execution_count": 23,
   "metadata": {},
   "outputs": [
    {
     "name": "stdout",
     "output_type": "stream",
     "text": [
      "RMSE наилучшей модели: 31.04869666643998\n",
      "{'max_depth': 7}\n",
      "DecisionTreeRegressor(criterion='mse', max_depth=7, max_features=None,\n",
      "                      max_leaf_nodes=None, min_impurity_decrease=0.0,\n",
      "                      min_impurity_split=None, min_samples_leaf=1,\n",
      "                      min_samples_split=2, min_weight_fraction_leaf=0.0,\n",
      "                      presort=False, random_state=None, splitter='best')\n"
     ]
    }
   ],
   "source": [
    "model = DecisionTreeRegressor()\n",
    "\n",
    "parameters = {'max_depth': range(1,16,2)}\n",
    "\n",
    "\n",
    "grid_DecisionTreeRegressor = GridSearchCV(model, parameters, scoring = 'neg_mean_squared_error', cv = split_index)\n",
    "grid_DecisionTreeRegressor.fit(features_train, target_train)\n",
    "\n",
    "\n",
    "rms = np.sqrt(-1 *grid_DecisionTreeRegressor.best_score_)\n",
    "print(\"RMSE наилучшей модели:\", rms)\n",
    "print(grid_DecisionTreeRegressor.best_params_)\n",
    "print(grid_DecisionTreeRegressor.best_estimator_)\n",
    "\n",
    "write_summary_table('DecisionTreeRegressor', 0, round(rms, 4))\n"
   ]
  },
  {
   "cell_type": "markdown",
   "metadata": {},
   "source": [
    "## Тестирование"
   ]
  },
  {
   "cell_type": "markdown",
   "metadata": {},
   "source": [
    "Проверим все три модели на лучших параметрах"
   ]
  },
  {
   "cell_type": "code",
   "execution_count": 24,
   "metadata": {},
   "outputs": [],
   "source": [
    "grid_LGBMRegressor.best_estimator_.fit(features_train, target_train)\n",
    "rms = mean_squared_error(target_test, grid_LGBMRegressor.predict(features_test))  ** 0.5\n",
    "write_summary_table('LGBMRegressor', 1, rms)\n",
    "\n",
    "grid_LinearRegression.best_estimator_.fit(features_train, target_train)\n",
    "rms = mean_squared_error(target_test, grid_LinearRegression.predict(features_test))  ** 0.5\n",
    "write_summary_table('LinearRegression', 1, rms)\n",
    "\n",
    "grid_DecisionTreeRegressor.best_estimator_.fit(features_train, target_train)\n",
    "rms = mean_squared_error(target_test, grid_DecisionTreeRegressor.predict(features_test))  ** 0.5\n",
    "\n",
    "write_summary_table('DecisionTreeRegressor', 1, rms)\n"
   ]
  },
  {
   "cell_type": "code",
   "execution_count": 25,
   "metadata": {},
   "outputs": [
    {
     "data": {
      "text/html": [
       "<div>\n",
       "<style scoped>\n",
       "    .dataframe tbody tr th:only-of-type {\n",
       "        vertical-align: middle;\n",
       "    }\n",
       "\n",
       "    .dataframe tbody tr th {\n",
       "        vertical-align: top;\n",
       "    }\n",
       "\n",
       "    .dataframe thead th {\n",
       "        text-align: right;\n",
       "    }\n",
       "</style>\n",
       "<table border=\"1\" class=\"dataframe\">\n",
       "  <thead>\n",
       "    <tr style=\"text-align: right;\">\n",
       "      <th></th>\n",
       "      <th>RMSE обучения</th>\n",
       "      <th>RMSE предсказания</th>\n",
       "    </tr>\n",
       "  </thead>\n",
       "  <tbody>\n",
       "    <tr>\n",
       "      <td>LGBMRegressor</td>\n",
       "      <td>24.257789</td>\n",
       "      <td>40.539353</td>\n",
       "    </tr>\n",
       "    <tr>\n",
       "      <td>LinearRegression</td>\n",
       "      <td>28.800800</td>\n",
       "      <td>44.412726</td>\n",
       "    </tr>\n",
       "    <tr>\n",
       "      <td>DecisionTreeRegressor</td>\n",
       "      <td>31.048700</td>\n",
       "      <td>51.084405</td>\n",
       "    </tr>\n",
       "  </tbody>\n",
       "</table>\n",
       "</div>"
      ],
      "text/plain": [
       "                       RMSE обучения  RMSE предсказания\n",
       "LGBMRegressor              24.257789          40.539353\n",
       "LinearRegression           28.800800          44.412726\n",
       "DecisionTreeRegressor      31.048700          51.084405"
      ]
     },
     "execution_count": 25,
     "metadata": {},
     "output_type": "execute_result"
    }
   ],
   "source": [
    "summary_table"
   ]
  },
  {
   "cell_type": "markdown",
   "metadata": {},
   "source": [
    "Лучшие результаты получила модель LGBMRegressor. "
   ]
  },
  {
   "cell_type": "markdown",
   "metadata": {},
   "source": [
    "Сравним на графике реальное количество заказов и предсказания модели. "
   ]
  },
  {
   "cell_type": "code",
   "execution_count": 26,
   "metadata": {},
   "outputs": [
    {
     "data": {
      "text/plain": [
       "<matplotlib.axes._subplots.AxesSubplot at 0x7f6b169d2b90>"
      ]
     },
     "execution_count": 26,
     "metadata": {},
     "output_type": "execute_result"
    },
    {
     "data": {
      "image/png": "[encoded data removed]",
      "text/plain": [
       "<Figure size 1152x360 with 1 Axes>"
      ]
     },
     "metadata": {},
     "output_type": "display_data"
    }
   ],
   "source": [
    "preds  = pd.DataFrame(data = grid_LGBMRegressor.predict(features_test), columns = ['predictions'], index = features_test.index)\n",
    "graph = pd.merge(target_test, preds, how = 'left', left_index = True, right_index = True)\n",
    "\n",
    "graph['predictions'] = graph['predictions'].astype('int64')\n",
    "graph['2018-08-01':'2018-08-15'].plot(figsize=(16,5))\n"
   ]
  },
  {
   "cell_type": "markdown",
   "metadata": {},
   "source": [
    "Видно, что наша модель предсказывает адекватно. "
   ]
  },
  {
   "cell_type": "markdown",
   "metadata": {},
   "source": [
    "**Вывод**<br>\n",
    "\n",
    "Мы изучили данные о заказах такси, рассмотрели их тренды и сезонность, ресемплировали по часу, сгладили их и сделали более стационарными, в результате чего стало возможным строить прогноз. \n",
    "\n",
    "Были выбраны три модели - LightGBM, линейная регрессия, решающее дерево. \n",
    "\n",
    "Лучшие результаты получила модель LightGBM - ее RMSE равно 40 при значениях max_lag и rolling_mean_size 12 и 12. "
   ]
  }
 ],
 "metadata": {
  "ExecuteTimeLog": [
   {
    "duration": 2081,
    "start_time": "2021-08-18T23:17:00.564Z"
   },
   {
    "duration": -567,
    "start_time": "2021-08-18T23:17:03.215Z"
   },
   {
    "duration": 167,
    "start_time": "2021-08-18T23:17:06.703Z"
   },
   {
    "duration": 41,
    "start_time": "2021-08-18T23:17:08.377Z"
   },
   {
    "duration": 40,
    "start_time": "2021-08-18T23:17:11.414Z"
   },
   {
    "duration": 19,
    "start_time": "2021-08-18T23:17:18.184Z"
   },
   {
    "duration": 392,
    "start_time": "2021-08-27T23:04:50.487Z"
   },
   {
    "duration": 1297,
    "start_time": "2021-08-27T23:04:56.474Z"
   },
   {
    "duration": 329,
    "start_time": "2021-08-27T23:04:57.773Z"
   },
   {
    "duration": 11,
    "start_time": "2021-08-27T23:04:58.104Z"
   },
   {
    "duration": 4,
    "start_time": "2021-08-28T01:11:16.045Z"
   },
   {
    "duration": 4,
    "start_time": "2021-08-28T03:16:35.419Z"
   },
   {
    "duration": 310,
    "start_time": "2021-08-28T03:16:52.526Z"
   },
   {
    "duration": 464,
    "start_time": "2021-08-28T03:17:45.179Z"
   },
   {
    "duration": 97,
    "start_time": "2021-08-28T03:18:09.662Z"
   },
   {
    "duration": 389,
    "start_time": "2021-08-28T03:18:15.197Z"
   },
   {
    "duration": 340,
    "start_time": "2021-08-28T03:18:48.053Z"
   },
   {
    "duration": 6,
    "start_time": "2021-08-28T03:19:26.500Z"
   },
   {
    "duration": 32,
    "start_time": "2021-08-28T03:19:27.868Z"
   },
   {
    "duration": 7,
    "start_time": "2021-08-28T03:19:28.038Z"
   },
   {
    "duration": 4,
    "start_time": "2021-08-28T03:19:28.339Z"
   },
   {
    "duration": 4,
    "start_time": "2021-08-28T03:19:28.500Z"
   },
   {
    "duration": 331,
    "start_time": "2021-08-28T03:19:28.683Z"
   },
   {
    "duration": 353,
    "start_time": "2021-08-28T03:19:29.015Z"
   },
   {
    "duration": 7,
    "start_time": "2021-08-28T03:19:44.766Z"
   },
   {
    "duration": 37,
    "start_time": "2021-08-28T03:20:18.652Z"
   },
   {
    "duration": 6,
    "start_time": "2021-08-28T03:20:20.980Z"
   },
   {
    "duration": 7,
    "start_time": "2021-08-28T03:20:29.115Z"
   },
   {
    "duration": 4,
    "start_time": "2021-08-28T03:20:58.939Z"
   },
   {
    "duration": 4,
    "start_time": "2021-08-28T03:20:59.346Z"
   },
   {
    "duration": 1154,
    "start_time": "2021-08-28T03:20:59.875Z"
   },
   {
    "duration": 12,
    "start_time": "2021-08-28T03:21:05.508Z"
   },
   {
    "duration": 17,
    "start_time": "2021-08-28T03:21:12.771Z"
   },
   {
    "duration": 18,
    "start_time": "2021-08-28T03:21:32.259Z"
   },
   {
    "duration": 7,
    "start_time": "2021-08-28T22:09:22.053Z"
   },
   {
    "duration": 6,
    "start_time": "2021-08-28T22:09:24.937Z"
   },
   {
    "duration": 36,
    "start_time": "2021-08-28T22:09:25.107Z"
   },
   {
    "duration": 6,
    "start_time": "2021-08-28T22:09:25.289Z"
   },
   {
    "duration": 7,
    "start_time": "2021-08-28T22:09:25.682Z"
   },
   {
    "duration": 8,
    "start_time": "2021-08-28T22:09:43.690Z"
   },
   {
    "duration": 8,
    "start_time": "2021-08-28T22:09:51.938Z"
   },
   {
    "duration": 13,
    "start_time": "2021-08-28T22:09:55.195Z"
   },
   {
    "duration": 515,
    "start_time": "2021-08-28T22:10:41.915Z"
   },
   {
    "duration": 11,
    "start_time": "2021-08-28T22:13:34.233Z"
   },
   {
    "duration": 7,
    "start_time": "2021-08-28T22:27:13.091Z"
   },
   {
    "duration": 459,
    "start_time": "2021-08-28T22:27:22.673Z"
   },
   {
    "duration": 474,
    "start_time": "2021-08-28T22:29:23.344Z"
   },
   {
    "duration": 1854,
    "start_time": "2021-08-28T22:30:07.288Z"
   },
   {
    "duration": 1736,
    "start_time": "2021-08-29T00:06:47.571Z"
   },
   {
    "duration": 247,
    "start_time": "2021-08-29T00:06:49.918Z"
   },
   {
    "duration": 457,
    "start_time": "2021-08-29T00:07:18.717Z"
   },
   {
    "duration": 338,
    "start_time": "2021-08-29T00:07:26.161Z"
   },
   {
    "duration": 888,
    "start_time": "2021-08-29T00:07:31.566Z"
   },
   {
    "duration": 1620,
    "start_time": "2021-08-29T00:08:06.398Z"
   },
   {
    "duration": 8920,
    "start_time": "2021-08-29T00:21:16.386Z"
   },
   {
    "duration": 703,
    "start_time": "2021-08-29T00:21:30.415Z"
   },
   {
    "duration": 4,
    "start_time": "2021-08-29T00:23:03.260Z"
   },
   {
    "duration": 5,
    "start_time": "2021-08-29T01:48:46.060Z"
   },
   {
    "duration": 4,
    "start_time": "2021-08-29T01:48:51.930Z"
   },
   {
    "duration": 4,
    "start_time": "2021-08-29T01:48:54.827Z"
   },
   {
    "duration": 368,
    "start_time": "2021-08-29T01:49:10.171Z"
   },
   {
    "duration": 352,
    "start_time": "2021-08-29T01:50:04.970Z"
   },
   {
    "duration": 5,
    "start_time": "2021-08-29T01:50:48.498Z"
   },
   {
    "duration": 5,
    "start_time": "2021-08-29T01:51:00.104Z"
   },
   {
    "duration": 3,
    "start_time": "2021-08-29T01:51:33.010Z"
   },
   {
    "duration": 10,
    "start_time": "2021-08-29T01:51:36.266Z"
   },
   {
    "duration": 10,
    "start_time": "2021-08-29T01:51:41.897Z"
   },
   {
    "duration": 11350,
    "start_time": "2021-08-29T01:51:47.106Z"
   },
   {
    "duration": 5,
    "start_time": "2021-08-29T01:53:01.560Z"
   },
   {
    "duration": 4,
    "start_time": "2021-08-29T01:53:05.207Z"
   },
   {
    "duration": 4,
    "start_time": "2021-08-29T01:53:05.751Z"
   },
   {
    "duration": 354,
    "start_time": "2021-08-29T01:53:06.288Z"
   },
   {
    "duration": 8892,
    "start_time": "2021-08-29T01:53:26.066Z"
   },
   {
    "duration": 16,
    "start_time": "2021-08-29T01:53:48.856Z"
   },
   {
    "duration": 5,
    "start_time": "2021-08-29T01:55:40.558Z"
   },
   {
    "duration": 4,
    "start_time": "2021-08-29T01:55:51.110Z"
   },
   {
    "duration": 1279,
    "start_time": "2021-08-29T01:56:08.489Z"
   },
   {
    "duration": 39,
    "start_time": "2021-08-29T01:56:09.771Z"
   },
   {
    "duration": 7,
    "start_time": "2021-08-29T01:56:09.814Z"
   },
   {
    "duration": 10,
    "start_time": "2021-08-29T01:56:09.822Z"
   },
   {
    "duration": 7,
    "start_time": "2021-08-29T01:56:09.833Z"
   },
   {
    "duration": 4,
    "start_time": "2021-08-29T01:56:09.842Z"
   },
   {
    "duration": 1106,
    "start_time": "2021-08-29T01:56:09.849Z"
   },
   {
    "duration": 529,
    "start_time": "2021-08-29T01:56:10.956Z"
   },
   {
    "duration": 4,
    "start_time": "2021-08-29T01:56:11.487Z"
   },
   {
    "duration": 1896,
    "start_time": "2021-08-29T01:56:11.492Z"
   },
   {
    "duration": 1828,
    "start_time": "2021-08-29T01:56:13.389Z"
   },
   {
    "duration": 632,
    "start_time": "2021-08-29T01:56:15.218Z"
   },
   {
    "duration": 4,
    "start_time": "2021-08-29T01:56:15.852Z"
   },
   {
    "duration": 6,
    "start_time": "2021-08-29T01:56:15.858Z"
   },
   {
    "duration": 4,
    "start_time": "2021-08-29T01:56:15.876Z"
   },
   {
    "duration": 18,
    "start_time": "2021-08-29T01:56:15.881Z"
   },
   {
    "duration": 4,
    "start_time": "2021-08-29T01:56:15.901Z"
   },
   {
    "duration": 5,
    "start_time": "2021-08-29T01:56:15.907Z"
   },
   {
    "duration": 10,
    "start_time": "2021-08-29T01:58:02.004Z"
   },
   {
    "duration": -790,
    "start_time": "2021-08-29T01:59:06.070Z"
   },
   {
    "duration": 351,
    "start_time": "2021-08-29T01:59:20.161Z"
   },
   {
    "duration": -771,
    "start_time": "2021-08-29T01:59:59.565Z"
   },
   {
    "duration": 352,
    "start_time": "2021-08-29T02:00:13.178Z"
   },
   {
    "duration": 352,
    "start_time": "2021-08-29T02:03:42.863Z"
   },
   {
    "duration": 346,
    "start_time": "2021-08-29T02:04:04.711Z"
   },
   {
    "duration": 3171,
    "start_time": "2021-08-29T02:04:46.015Z"
   },
   {
    "duration": 2722,
    "start_time": "2021-08-29T02:05:12.960Z"
   },
   {
    "duration": 23,
    "start_time": "2021-08-29T02:05:48.894Z"
   },
   {
    "duration": 3177,
    "start_time": "2021-08-29T02:08:02.210Z"
   },
   {
    "duration": 101,
    "start_time": "2021-08-29T02:08:05.389Z"
   },
   {
    "duration": 7,
    "start_time": "2021-08-29T02:08:13.077Z"
   },
   {
    "duration": 7,
    "start_time": "2021-08-29T02:08:38.492Z"
   },
   {
    "duration": 630,
    "start_time": "2021-08-29T02:08:57.956Z"
   },
   {
    "duration": 706,
    "start_time": "2021-08-29T02:09:03.780Z"
   },
   {
    "duration": 11,
    "start_time": "2021-08-29T02:09:14.973Z"
   },
   {
    "duration": 3009,
    "start_time": "2021-08-29T02:09:15.676Z"
   },
   {
    "duration": 101,
    "start_time": "2021-08-29T02:09:18.687Z"
   },
   {
    "duration": 691,
    "start_time": "2021-08-29T02:09:18.790Z"
   },
   {
    "duration": 115,
    "start_time": "2021-08-29T02:11:07.811Z"
   },
   {
    "duration": 3590,
    "start_time": "2021-08-29T02:11:49.387Z"
   },
   {
    "duration": 831,
    "start_time": "2021-08-29T02:11:58.945Z"
   },
   {
    "duration": 891,
    "start_time": "2021-08-29T02:12:05.187Z"
   },
   {
    "duration": 3718,
    "start_time": "2021-08-29T02:12:34.770Z"
   },
   {
    "duration": 907,
    "start_time": "2021-08-29T02:12:43.576Z"
   },
   {
    "duration": 359,
    "start_time": "2021-08-29T02:14:59.844Z"
   },
   {
    "duration": 20,
    "start_time": "2021-08-29T02:16:01.487Z"
   },
   {
    "duration": 1267,
    "start_time": "2021-08-29T02:16:08.210Z"
   },
   {
    "duration": 40,
    "start_time": "2021-08-29T02:16:09.480Z"
   },
   {
    "duration": 6,
    "start_time": "2021-08-29T02:16:09.522Z"
   },
   {
    "duration": 9,
    "start_time": "2021-08-29T02:16:09.530Z"
   },
   {
    "duration": 4,
    "start_time": "2021-08-29T02:16:09.541Z"
   },
   {
    "duration": 19,
    "start_time": "2021-08-29T02:16:09.547Z"
   },
   {
    "duration": 1113,
    "start_time": "2021-08-29T02:16:09.567Z"
   },
   {
    "duration": 521,
    "start_time": "2021-08-29T02:16:10.681Z"
   },
   {
    "duration": 3,
    "start_time": "2021-08-29T02:16:11.204Z"
   },
   {
    "duration": 1758,
    "start_time": "2021-08-29T02:16:11.209Z"
   },
   {
    "duration": 1610,
    "start_time": "2021-08-29T02:16:12.976Z"
   },
   {
    "duration": 627,
    "start_time": "2021-08-29T02:16:14.588Z"
   },
   {
    "duration": 6,
    "start_time": "2021-08-29T02:16:15.217Z"
   },
   {
    "duration": 11,
    "start_time": "2021-08-29T02:16:15.225Z"
   },
   {
    "duration": 17,
    "start_time": "2021-08-29T02:16:15.237Z"
   },
   {
    "duration": 33,
    "start_time": "2021-08-29T02:16:15.256Z"
   },
   {
    "duration": 6,
    "start_time": "2021-08-29T02:16:15.291Z"
   },
   {
    "duration": 19,
    "start_time": "2021-08-29T02:16:15.299Z"
   },
   {
    "duration": 12,
    "start_time": "2021-08-29T02:16:15.320Z"
   },
   {
    "duration": 3543,
    "start_time": "2021-08-29T02:16:15.334Z"
   },
   {
    "duration": 24,
    "start_time": "2021-08-29T02:16:18.879Z"
   },
   {
    "duration": 790,
    "start_time": "2021-08-29T02:16:18.905Z"
   },
   {
    "duration": 7,
    "start_time": "2021-08-29T02:16:43.446Z"
   },
   {
    "duration": 5282,
    "start_time": "2021-08-29T02:17:05.999Z"
   },
   {
    "duration": 7,
    "start_time": "2021-08-29T02:17:11.282Z"
   },
   {
    "duration": 27,
    "start_time": "2021-08-29T02:17:39.462Z"
   },
   {
    "duration": 5,
    "start_time": "2021-08-29T02:17:55.341Z"
   },
   {
    "duration": 3,
    "start_time": "2021-08-29T02:17:55.548Z"
   },
   {
    "duration": 9,
    "start_time": "2021-08-29T02:17:56.157Z"
   },
   {
    "duration": 5571,
    "start_time": "2021-08-29T02:17:56.413Z"
   },
   {
    "duration": 23,
    "start_time": "2021-08-29T02:18:01.985Z"
   },
   {
    "duration": 11,
    "start_time": "2021-08-29T02:18:02.010Z"
   },
   {
    "duration": 813,
    "start_time": "2021-08-29T02:18:17.972Z"
   },
   {
    "duration": 122,
    "start_time": "2021-08-29T02:19:01.396Z"
   },
   {
    "duration": 415,
    "start_time": "2021-08-29T02:19:06.809Z"
   },
   {
    "duration": 355,
    "start_time": "2021-08-29T02:19:18.459Z"
   },
   {
    "duration": 7,
    "start_time": "2021-08-29T02:19:43.316Z"
   },
   {
    "duration": 139,
    "start_time": "2021-08-29T02:21:44.140Z"
   },
   {
    "duration": 8,
    "start_time": "2021-08-29T02:22:04.250Z"
   },
   {
    "duration": 7,
    "start_time": "2021-08-29T02:22:39.707Z"
   },
   {
    "duration": 1173,
    "start_time": "2021-08-29T02:22:44.726Z"
   },
   {
    "duration": 39,
    "start_time": "2021-08-29T02:22:45.901Z"
   },
   {
    "duration": 6,
    "start_time": "2021-08-29T02:22:45.942Z"
   },
   {
    "duration": 9,
    "start_time": "2021-08-29T02:22:45.950Z"
   },
   {
    "duration": 3,
    "start_time": "2021-08-29T02:22:45.961Z"
   },
   {
    "duration": 11,
    "start_time": "2021-08-29T02:22:45.966Z"
   },
   {
    "duration": 1070,
    "start_time": "2021-08-29T02:22:45.978Z"
   },
   {
    "duration": 526,
    "start_time": "2021-08-29T02:22:47.050Z"
   },
   {
    "duration": 3,
    "start_time": "2021-08-29T02:22:47.579Z"
   },
   {
    "duration": 1679,
    "start_time": "2021-08-29T02:22:47.584Z"
   },
   {
    "duration": 1629,
    "start_time": "2021-08-29T02:22:49.264Z"
   },
   {
    "duration": 621,
    "start_time": "2021-08-29T02:22:50.895Z"
   },
   {
    "duration": 5,
    "start_time": "2021-08-29T02:22:51.517Z"
   },
   {
    "duration": 6,
    "start_time": "2021-08-29T02:22:51.523Z"
   },
   {
    "duration": 5,
    "start_time": "2021-08-29T02:22:51.530Z"
   },
   {
    "duration": 55,
    "start_time": "2021-08-29T02:22:51.536Z"
   },
   {
    "duration": 5,
    "start_time": "2021-08-29T02:22:51.593Z"
   },
   {
    "duration": 5,
    "start_time": "2021-08-29T02:22:51.599Z"
   },
   {
    "duration": 12,
    "start_time": "2021-08-29T02:22:51.606Z"
   },
   {
    "duration": 5268,
    "start_time": "2021-08-29T02:22:51.619Z"
   },
   {
    "duration": 108,
    "start_time": "2021-08-29T02:22:56.889Z"
   },
   {
    "duration": 119,
    "start_time": "2021-08-29T02:22:56.998Z"
   },
   {
    "duration": 6,
    "start_time": "2021-08-29T02:22:57.119Z"
   },
   {
    "duration": 1146,
    "start_time": "2021-08-29T02:23:31.836Z"
   },
   {
    "duration": 1343,
    "start_time": "2021-08-29T02:25:19.203Z"
   },
   {
    "duration": 40,
    "start_time": "2021-08-29T02:25:20.548Z"
   },
   {
    "duration": 8,
    "start_time": "2021-08-29T02:25:20.590Z"
   },
   {
    "duration": 9,
    "start_time": "2021-08-29T02:25:20.600Z"
   },
   {
    "duration": 3,
    "start_time": "2021-08-29T02:25:20.611Z"
   },
   {
    "duration": 5,
    "start_time": "2021-08-29T02:25:20.616Z"
   },
   {
    "duration": 1080,
    "start_time": "2021-08-29T02:25:20.623Z"
   },
   {
    "duration": 518,
    "start_time": "2021-08-29T02:25:21.706Z"
   },
   {
    "duration": 4,
    "start_time": "2021-08-29T02:25:22.225Z"
   },
   {
    "duration": 1732,
    "start_time": "2021-08-29T02:25:22.230Z"
   },
   {
    "duration": 1645,
    "start_time": "2021-08-29T02:25:23.964Z"
   },
   {
    "duration": 616,
    "start_time": "2021-08-29T02:25:25.610Z"
   },
   {
    "duration": 4,
    "start_time": "2021-08-29T02:25:26.228Z"
   },
   {
    "duration": 8,
    "start_time": "2021-08-29T02:25:26.233Z"
   },
   {
    "duration": 4,
    "start_time": "2021-08-29T02:25:26.243Z"
   },
   {
    "duration": 46,
    "start_time": "2021-08-29T02:25:26.249Z"
   },
   {
    "duration": 4,
    "start_time": "2021-08-29T02:25:26.297Z"
   },
   {
    "duration": 5,
    "start_time": "2021-08-29T02:25:26.303Z"
   },
   {
    "duration": 11,
    "start_time": "2021-08-29T02:25:26.309Z"
   },
   {
    "duration": 5462,
    "start_time": "2021-08-29T02:25:26.322Z"
   },
   {
    "duration": 23,
    "start_time": "2021-08-29T02:25:31.786Z"
   },
   {
    "duration": 189,
    "start_time": "2021-08-29T02:25:31.811Z"
   },
   {
    "duration": 1179,
    "start_time": "2021-08-29T02:25:32.003Z"
   },
   {
    "duration": 8,
    "start_time": "2021-08-29T02:25:51.221Z"
   },
   {
    "duration": 21,
    "start_time": "2021-08-29T02:26:30.220Z"
   },
   {
    "duration": 1228,
    "start_time": "2021-08-29T02:26:35.038Z"
   },
   {
    "duration": 40,
    "start_time": "2021-08-29T02:26:36.268Z"
   },
   {
    "duration": 7,
    "start_time": "2021-08-29T02:26:36.311Z"
   },
   {
    "duration": 10,
    "start_time": "2021-08-29T02:26:36.320Z"
   },
   {
    "duration": 5,
    "start_time": "2021-08-29T02:26:36.332Z"
   },
   {
    "duration": 4,
    "start_time": "2021-08-29T02:26:36.339Z"
   },
   {
    "duration": 1079,
    "start_time": "2021-08-29T02:26:36.344Z"
   },
   {
    "duration": 526,
    "start_time": "2021-08-29T02:26:37.425Z"
   },
   {
    "duration": 4,
    "start_time": "2021-08-29T02:26:37.955Z"
   },
   {
    "duration": 1684,
    "start_time": "2021-08-29T02:26:37.961Z"
   },
   {
    "duration": 1625,
    "start_time": "2021-08-29T02:26:39.647Z"
   },
   {
    "duration": 620,
    "start_time": "2021-08-29T02:26:41.276Z"
   },
   {
    "duration": 4,
    "start_time": "2021-08-29T02:26:41.898Z"
   },
   {
    "duration": 19,
    "start_time": "2021-08-29T02:26:41.904Z"
   },
   {
    "duration": 13,
    "start_time": "2021-08-29T02:26:41.925Z"
   },
   {
    "duration": 31,
    "start_time": "2021-08-29T02:26:41.940Z"
   },
   {
    "duration": 4,
    "start_time": "2021-08-29T02:26:41.973Z"
   },
   {
    "duration": 4,
    "start_time": "2021-08-29T02:26:41.979Z"
   },
   {
    "duration": 24,
    "start_time": "2021-08-29T02:26:41.984Z"
   },
   {
    "duration": 5778,
    "start_time": "2021-08-29T02:26:42.010Z"
   },
   {
    "duration": 106,
    "start_time": "2021-08-29T02:26:47.790Z"
   },
   {
    "duration": 151,
    "start_time": "2021-08-29T02:26:47.898Z"
   },
   {
    "duration": 8,
    "start_time": "2021-08-29T02:26:48.051Z"
   },
   {
    "duration": 24,
    "start_time": "2021-08-29T02:27:23.985Z"
   },
   {
    "duration": 20,
    "start_time": "2021-08-29T02:27:28.137Z"
   },
   {
    "duration": 19,
    "start_time": "2021-08-29T02:27:40.496Z"
   },
   {
    "duration": 4,
    "start_time": "2021-08-29T02:27:45.185Z"
   },
   {
    "duration": 1301,
    "start_time": "2021-08-29T02:27:57.475Z"
   },
   {
    "duration": 39,
    "start_time": "2021-08-29T02:27:58.779Z"
   },
   {
    "duration": 6,
    "start_time": "2021-08-29T02:27:58.820Z"
   },
   {
    "duration": 10,
    "start_time": "2021-08-29T02:27:58.828Z"
   },
   {
    "duration": 4,
    "start_time": "2021-08-29T02:27:58.840Z"
   },
   {
    "duration": 4,
    "start_time": "2021-08-29T02:27:58.846Z"
   },
   {
    "duration": 1133,
    "start_time": "2021-08-29T02:27:58.852Z"
   },
   {
    "duration": 638,
    "start_time": "2021-08-29T02:27:59.987Z"
   },
   {
    "duration": 4,
    "start_time": "2021-08-29T02:28:00.628Z"
   },
   {
    "duration": 1759,
    "start_time": "2021-08-29T02:28:00.634Z"
   },
   {
    "duration": 1648,
    "start_time": "2021-08-29T02:28:02.395Z"
   },
   {
    "duration": 771,
    "start_time": "2021-08-29T02:28:04.045Z"
   },
   {
    "duration": 5,
    "start_time": "2021-08-29T02:28:04.818Z"
   },
   {
    "duration": 6,
    "start_time": "2021-08-29T02:28:04.825Z"
   },
   {
    "duration": 4,
    "start_time": "2021-08-29T02:28:04.833Z"
   },
   {
    "duration": 4,
    "start_time": "2021-08-29T02:28:04.839Z"
   },
   {
    "duration": 61,
    "start_time": "2021-08-29T02:28:04.845Z"
   },
   {
    "duration": 5,
    "start_time": "2021-08-29T02:28:04.908Z"
   },
   {
    "duration": 5,
    "start_time": "2021-08-29T02:28:04.915Z"
   },
   {
    "duration": 10,
    "start_time": "2021-08-29T02:28:04.922Z"
   },
   {
    "duration": 5353,
    "start_time": "2021-08-29T02:28:04.934Z"
   },
   {
    "duration": 98,
    "start_time": "2021-08-29T02:28:10.289Z"
   },
   {
    "duration": 143,
    "start_time": "2021-08-29T02:28:10.388Z"
   },
   {
    "duration": 7,
    "start_time": "2021-08-29T02:28:10.532Z"
   },
   {
    "duration": 46,
    "start_time": "2021-08-29T02:28:16.770Z"
   },
   {
    "duration": 1247,
    "start_time": "2021-08-29T02:28:48.910Z"
   },
   {
    "duration": 41,
    "start_time": "2021-08-29T02:28:50.158Z"
   },
   {
    "duration": 6,
    "start_time": "2021-08-29T02:28:50.201Z"
   },
   {
    "duration": 10,
    "start_time": "2021-08-29T02:28:50.209Z"
   },
   {
    "duration": 4,
    "start_time": "2021-08-29T02:28:50.220Z"
   },
   {
    "duration": 4,
    "start_time": "2021-08-29T02:28:50.226Z"
   },
   {
    "duration": 1170,
    "start_time": "2021-08-29T02:28:50.232Z"
   },
   {
    "duration": 532,
    "start_time": "2021-08-29T02:28:51.404Z"
   },
   {
    "duration": 3,
    "start_time": "2021-08-29T02:28:51.938Z"
   },
   {
    "duration": 1733,
    "start_time": "2021-08-29T02:28:51.943Z"
   },
   {
    "duration": 2,
    "start_time": "2021-08-29T02:28:53.678Z"
   },
   {
    "duration": 549,
    "start_time": "2021-08-29T02:28:53.682Z"
   },
   {
    "duration": 4,
    "start_time": "2021-08-29T02:28:54.233Z"
   },
   {
    "duration": 5,
    "start_time": "2021-08-29T02:28:54.239Z"
   },
   {
    "duration": 9,
    "start_time": "2021-08-29T02:28:54.246Z"
   },
   {
    "duration": 19,
    "start_time": "2021-08-29T02:28:54.257Z"
   },
   {
    "duration": 28,
    "start_time": "2021-08-29T02:28:54.278Z"
   },
   {
    "duration": 4,
    "start_time": "2021-08-29T02:28:54.308Z"
   },
   {
    "duration": 7,
    "start_time": "2021-08-29T02:28:54.313Z"
   },
   {
    "duration": 11,
    "start_time": "2021-08-29T02:28:54.322Z"
   },
   {
    "duration": 5347,
    "start_time": "2021-08-29T02:28:54.334Z"
   },
   {
    "duration": 22,
    "start_time": "2021-08-29T02:28:59.683Z"
   },
   {
    "duration": 90,
    "start_time": "2021-08-29T02:28:59.707Z"
   },
   {
    "duration": 16,
    "start_time": "2021-08-29T02:28:59.799Z"
   },
   {
    "duration": 733,
    "start_time": "2021-08-29T02:29:19.554Z"
   },
   {
    "duration": 7,
    "start_time": "2021-08-29T02:29:30.035Z"
   },
   {
    "duration": 1667,
    "start_time": "2021-08-29T02:30:34.218Z"
   },
   {
    "duration": 1239,
    "start_time": "2021-08-29T02:30:39.933Z"
   },
   {
    "duration": 39,
    "start_time": "2021-08-29T02:30:41.174Z"
   },
   {
    "duration": 6,
    "start_time": "2021-08-29T02:30:41.215Z"
   },
   {
    "duration": 18,
    "start_time": "2021-08-29T02:30:41.223Z"
   },
   {
    "duration": 10,
    "start_time": "2021-08-29T02:30:41.242Z"
   },
   {
    "duration": 12,
    "start_time": "2021-08-29T02:30:41.253Z"
   },
   {
    "duration": 1203,
    "start_time": "2021-08-29T02:30:41.267Z"
   },
   {
    "duration": 628,
    "start_time": "2021-08-29T02:30:42.476Z"
   },
   {
    "duration": 3,
    "start_time": "2021-08-29T02:30:43.107Z"
   },
   {
    "duration": 1720,
    "start_time": "2021-08-29T02:30:43.113Z"
   },
   {
    "duration": 928,
    "start_time": "2021-08-29T02:30:44.834Z"
   },
   {
    "duration": 548,
    "start_time": "2021-08-29T02:30:45.764Z"
   },
   {
    "duration": 5,
    "start_time": "2021-08-29T02:30:46.314Z"
   },
   {
    "duration": 29,
    "start_time": "2021-08-29T02:30:46.321Z"
   },
   {
    "duration": 10,
    "start_time": "2021-08-29T02:30:46.352Z"
   },
   {
    "duration": 11,
    "start_time": "2021-08-29T02:30:46.364Z"
   },
   {
    "duration": 130,
    "start_time": "2021-08-29T02:30:46.376Z"
   },
   {
    "duration": 4,
    "start_time": "2021-08-29T02:30:46.508Z"
   },
   {
    "duration": 22,
    "start_time": "2021-08-29T02:30:46.514Z"
   },
   {
    "duration": 18,
    "start_time": "2021-08-29T02:30:46.538Z"
   },
   {
    "duration": 5725,
    "start_time": "2021-08-29T02:30:46.558Z"
   },
   {
    "duration": 23,
    "start_time": "2021-08-29T02:30:52.284Z"
   },
   {
    "duration": 85,
    "start_time": "2021-08-29T02:30:52.309Z"
   },
   {
    "duration": 6,
    "start_time": "2021-08-29T02:30:52.396Z"
   },
   {
    "duration": 888,
    "start_time": "2021-08-29T02:31:03.097Z"
   },
   {
    "duration": 1814,
    "start_time": "2021-08-29T02:31:27.851Z"
   },
   {
    "duration": 1720,
    "start_time": "2021-08-29T02:31:36.018Z"
   },
   {
    "duration": 1919,
    "start_time": "2021-08-29T02:31:43.345Z"
   },
   {
    "duration": 1975,
    "start_time": "2021-08-29T02:33:06.562Z"
   },
   {
    "duration": 1348,
    "start_time": "2021-08-29T02:33:29.439Z"
   },
   {
    "duration": 38,
    "start_time": "2021-08-29T02:33:30.789Z"
   },
   {
    "duration": 6,
    "start_time": "2021-08-29T02:33:30.829Z"
   },
   {
    "duration": 10,
    "start_time": "2021-08-29T02:33:30.837Z"
   },
   {
    "duration": 8,
    "start_time": "2021-08-29T02:33:30.848Z"
   },
   {
    "duration": 11,
    "start_time": "2021-08-29T02:33:30.858Z"
   },
   {
    "duration": 1145,
    "start_time": "2021-08-29T02:33:30.870Z"
   },
   {
    "duration": 582,
    "start_time": "2021-08-29T02:33:32.018Z"
   },
   {
    "duration": 3,
    "start_time": "2021-08-29T02:33:32.602Z"
   },
   {
    "duration": 1747,
    "start_time": "2021-08-29T02:33:32.607Z"
   },
   {
    "duration": 918,
    "start_time": "2021-08-29T02:33:34.356Z"
   },
   {
    "duration": 538,
    "start_time": "2021-08-29T02:33:35.276Z"
   },
   {
    "duration": 5,
    "start_time": "2021-08-29T02:33:35.815Z"
   },
   {
    "duration": 16,
    "start_time": "2021-08-29T02:33:35.821Z"
   },
   {
    "duration": 4,
    "start_time": "2021-08-29T02:33:35.839Z"
   },
   {
    "duration": 4,
    "start_time": "2021-08-29T02:33:35.845Z"
   },
   {
    "duration": 117,
    "start_time": "2021-08-29T02:33:35.851Z"
   },
   {
    "duration": 9,
    "start_time": "2021-08-29T02:33:35.970Z"
   },
   {
    "duration": 2,
    "start_time": "2021-08-29T02:33:35.981Z"
   },
   {
    "duration": 10,
    "start_time": "2021-08-29T02:33:35.985Z"
   },
   {
    "duration": 5492,
    "start_time": "2021-08-29T02:33:35.997Z"
   },
   {
    "duration": 106,
    "start_time": "2021-08-29T02:33:41.491Z"
   },
   {
    "duration": 46,
    "start_time": "2021-08-29T02:33:41.600Z"
   },
   {
    "duration": 1238,
    "start_time": "2021-08-29T02:33:41.648Z"
   },
   {
    "duration": 708,
    "start_time": "2021-08-29T02:34:12.036Z"
   },
   {
    "duration": 1316,
    "start_time": "2021-08-29T02:34:18.404Z"
   },
   {
    "duration": 1217,
    "start_time": "2021-08-29T02:35:17.321Z"
   },
   {
    "duration": 39,
    "start_time": "2021-08-29T02:35:18.540Z"
   },
   {
    "duration": 6,
    "start_time": "2021-08-29T02:35:18.581Z"
   },
   {
    "duration": 10,
    "start_time": "2021-08-29T02:35:18.588Z"
   },
   {
    "duration": 3,
    "start_time": "2021-08-29T02:35:18.600Z"
   },
   {
    "duration": 6,
    "start_time": "2021-08-29T02:35:18.605Z"
   },
   {
    "duration": 1110,
    "start_time": "2021-08-29T02:35:18.612Z"
   },
   {
    "duration": 524,
    "start_time": "2021-08-29T02:35:19.724Z"
   },
   {
    "duration": 4,
    "start_time": "2021-08-29T02:35:20.252Z"
   },
   {
    "duration": 1718,
    "start_time": "2021-08-29T02:35:20.258Z"
   },
   {
    "duration": 917,
    "start_time": "2021-08-29T02:35:21.979Z"
   },
   {
    "duration": 3,
    "start_time": "2021-08-29T02:35:22.898Z"
   },
   {
    "duration": 7,
    "start_time": "2021-08-29T02:35:22.902Z"
   },
   {
    "duration": 6,
    "start_time": "2021-08-29T02:35:22.911Z"
   },
   {
    "duration": 6,
    "start_time": "2021-08-29T02:35:22.918Z"
   },
   {
    "duration": 4,
    "start_time": "2021-08-29T02:35:22.925Z"
   },
   {
    "duration": 60,
    "start_time": "2021-08-29T02:35:22.931Z"
   },
   {
    "duration": 4,
    "start_time": "2021-08-29T02:35:22.993Z"
   },
   {
    "duration": 7,
    "start_time": "2021-08-29T02:35:22.999Z"
   },
   {
    "duration": 490,
    "start_time": "2021-08-29T02:35:23.008Z"
   },
   {
    "duration": -804,
    "start_time": "2021-08-29T02:35:24.304Z"
   },
   {
    "duration": -806,
    "start_time": "2021-08-29T02:35:24.307Z"
   },
   {
    "duration": -807,
    "start_time": "2021-08-29T02:35:24.309Z"
   },
   {
    "duration": -814,
    "start_time": "2021-08-29T02:35:24.317Z"
   },
   {
    "duration": 393,
    "start_time": "2021-08-29T02:35:53.811Z"
   },
   {
    "duration": 5,
    "start_time": "2021-08-29T02:36:06.779Z"
   },
   {
    "duration": 3,
    "start_time": "2021-08-29T02:36:09.067Z"
   },
   {
    "duration": 2002,
    "start_time": "2021-08-29T02:36:25.867Z"
   },
   {
    "duration": 307,
    "start_time": "2021-08-30T11:18:54.097Z"
   },
   {
    "duration": 1689,
    "start_time": "2021-08-30T11:19:02.640Z"
   },
   {
    "duration": 46,
    "start_time": "2021-08-30T11:19:04.332Z"
   },
   {
    "duration": 8,
    "start_time": "2021-08-30T11:19:04.381Z"
   },
   {
    "duration": 13,
    "start_time": "2021-08-30T11:19:04.391Z"
   },
   {
    "duration": 5,
    "start_time": "2021-08-30T11:19:04.406Z"
   },
   {
    "duration": 6,
    "start_time": "2021-08-30T11:19:04.413Z"
   },
   {
    "duration": 1550,
    "start_time": "2021-08-30T11:19:04.421Z"
   },
   {
    "duration": 915,
    "start_time": "2021-08-30T11:19:05.974Z"
   },
   {
    "duration": 6,
    "start_time": "2021-08-30T11:19:06.892Z"
   },
   {
    "duration": 3118,
    "start_time": "2021-08-30T11:19:06.900Z"
   },
   {
    "duration": 1556,
    "start_time": "2021-08-30T11:19:10.020Z"
   },
   {
    "duration": 998,
    "start_time": "2021-08-30T11:19:11.578Z"
   },
   {
    "duration": 6,
    "start_time": "2021-08-30T11:19:12.578Z"
   },
   {
    "duration": 9,
    "start_time": "2021-08-30T11:19:12.586Z"
   },
   {
    "duration": 7,
    "start_time": "2021-08-30T11:19:12.597Z"
   },
   {
    "duration": 7,
    "start_time": "2021-08-30T11:19:12.606Z"
   },
   {
    "duration": 173,
    "start_time": "2021-08-30T11:19:12.616Z"
   },
   {
    "duration": 6,
    "start_time": "2021-08-30T11:19:12.792Z"
   },
   {
    "duration": 6,
    "start_time": "2021-08-30T11:19:12.801Z"
   },
   {
    "duration": 17,
    "start_time": "2021-08-30T11:19:12.810Z"
   },
   {
    "duration": 7447,
    "start_time": "2021-08-30T11:19:12.830Z"
   },
   {
    "duration": 108,
    "start_time": "2021-08-30T11:19:20.280Z"
   },
   {
    "duration": 77,
    "start_time": "2021-08-30T11:19:20.392Z"
   },
   {
    "duration": 1200,
    "start_time": "2021-08-30T11:19:20.472Z"
   },
   {
    "duration": 5599,
    "start_time": "2021-08-30T11:19:58.481Z"
   },
   {
    "duration": 14,
    "start_time": "2021-08-30T11:20:04.354Z"
   },
   {
    "duration": 6863,
    "start_time": "2021-08-30T11:20:08.608Z"
   },
   {
    "duration": 27,
    "start_time": "2021-08-30T11:20:15.474Z"
   },
   {
    "duration": 24,
    "start_time": "2021-08-30T11:20:20.489Z"
   },
   {
    "duration": 66,
    "start_time": "2021-08-30T11:20:26.631Z"
   },
   {
    "duration": 1538,
    "start_time": "2021-08-30T11:20:29.530Z"
   },
   {
    "duration": 8,
    "start_time": "2021-08-30T11:25:10.566Z"
   },
   {
    "duration": 4735,
    "start_time": "2021-08-30T11:25:35.334Z"
   },
   {
    "duration": 1461,
    "start_time": "2021-08-30T11:25:45.518Z"
   },
   {
    "duration": 576,
    "start_time": "2021-08-30T11:26:53.565Z"
   },
   {
    "duration": 5227,
    "start_time": "2021-08-30T11:27:10.886Z"
   },
   {
    "duration": 821,
    "start_time": "2021-08-30T11:27:42.628Z"
   },
   {
    "duration": 447,
    "start_time": "2021-08-30T11:27:47.644Z"
   },
   {
    "duration": 333,
    "start_time": "2021-08-30T11:28:30.198Z"
   },
   {
    "duration": 2870,
    "start_time": "2021-08-30T11:28:33.548Z"
   },
   {
    "duration": 3330,
    "start_time": "2021-08-30T11:28:49.699Z"
   },
   {
    "duration": 1559,
    "start_time": "2021-08-30T11:29:02.708Z"
   },
   {
    "duration": 48,
    "start_time": "2021-08-30T11:29:04.270Z"
   },
   {
    "duration": 9,
    "start_time": "2021-08-30T11:29:04.322Z"
   },
   {
    "duration": 37,
    "start_time": "2021-08-30T11:29:04.335Z"
   },
   {
    "duration": 7,
    "start_time": "2021-08-30T11:29:04.375Z"
   },
   {
    "duration": 10,
    "start_time": "2021-08-30T11:29:04.384Z"
   },
   {
    "duration": 1505,
    "start_time": "2021-08-30T11:29:04.397Z"
   },
   {
    "duration": 1005,
    "start_time": "2021-08-30T11:29:05.908Z"
   },
   {
    "duration": 6,
    "start_time": "2021-08-30T11:29:06.917Z"
   },
   {
    "duration": 3159,
    "start_time": "2021-08-30T11:29:06.925Z"
   },
   {
    "duration": 2894,
    "start_time": "2021-08-30T11:29:10.086Z"
   },
   {
    "duration": 994,
    "start_time": "2021-08-30T11:29:12.982Z"
   },
   {
    "duration": 1000,
    "start_time": "2021-08-30T11:29:13.979Z"
   },
   {
    "duration": 7,
    "start_time": "2021-08-30T11:29:14.981Z"
   },
   {
    "duration": 8,
    "start_time": "2021-08-30T11:29:14.991Z"
   },
   {
    "duration": 11,
    "start_time": "2021-08-30T11:29:15.001Z"
   },
   {
    "duration": 11,
    "start_time": "2021-08-30T11:29:15.014Z"
   },
   {
    "duration": 89,
    "start_time": "2021-08-30T11:29:15.028Z"
   },
   {
    "duration": 6,
    "start_time": "2021-08-30T11:29:15.120Z"
   },
   {
    "duration": 8,
    "start_time": "2021-08-30T11:29:15.129Z"
   },
   {
    "duration": 15,
    "start_time": "2021-08-30T11:29:15.167Z"
   },
   {
    "duration": 6488,
    "start_time": "2021-08-30T11:29:15.185Z"
   },
   {
    "duration": 27,
    "start_time": "2021-08-30T11:29:21.677Z"
   },
   {
    "duration": 114,
    "start_time": "2021-08-30T11:29:21.706Z"
   },
   {
    "duration": 1249,
    "start_time": "2021-08-30T11:29:21.823Z"
   },
   {
    "duration": 59,
    "start_time": "2021-08-30T11:31:55.474Z"
   },
   {
    "duration": 22,
    "start_time": "2021-08-30T11:32:01.496Z"
   },
   {
    "duration": 1600,
    "start_time": "2021-08-30T11:54:00.909Z"
   },
   {
    "duration": 45,
    "start_time": "2021-08-30T11:54:02.512Z"
   },
   {
    "duration": 9,
    "start_time": "2021-08-30T11:54:02.560Z"
   },
   {
    "duration": 14,
    "start_time": "2021-08-30T11:54:02.572Z"
   },
   {
    "duration": 8,
    "start_time": "2021-08-30T11:54:02.589Z"
   },
   {
    "duration": 5,
    "start_time": "2021-08-30T11:54:02.599Z"
   },
   {
    "duration": 1548,
    "start_time": "2021-08-30T11:54:02.606Z"
   },
   {
    "duration": 867,
    "start_time": "2021-08-30T11:54:04.157Z"
   },
   {
    "duration": 4,
    "start_time": "2021-08-30T11:54:05.029Z"
   },
   {
    "duration": 2956,
    "start_time": "2021-08-30T11:54:05.036Z"
   },
   {
    "duration": 2813,
    "start_time": "2021-08-30T11:54:07.995Z"
   },
   {
    "duration": 960,
    "start_time": "2021-08-30T11:54:10.810Z"
   },
   {
    "duration": 924,
    "start_time": "2021-08-30T11:54:11.773Z"
   },
   {
    "duration": 5,
    "start_time": "2021-08-30T11:54:12.700Z"
   },
   {
    "duration": 19,
    "start_time": "2021-08-30T11:54:12.708Z"
   },
   {
    "duration": 25,
    "start_time": "2021-08-30T11:54:12.729Z"
   },
   {
    "duration": 21,
    "start_time": "2021-08-30T11:54:12.756Z"
   },
   {
    "duration": 92,
    "start_time": "2021-08-30T11:54:12.780Z"
   },
   {
    "duration": 7,
    "start_time": "2021-08-30T11:54:12.875Z"
   },
   {
    "duration": 12,
    "start_time": "2021-08-30T11:54:12.885Z"
   },
   {
    "duration": 17,
    "start_time": "2021-08-30T11:54:12.900Z"
   },
   {
    "duration": 11,
    "start_time": "2021-08-30T11:54:12.920Z"
   },
   {
    "duration": 38,
    "start_time": "2021-08-30T11:54:12.933Z"
   },
   {
    "duration": 124706,
    "start_time": "2021-08-30T11:54:12.974Z"
   },
   {
    "duration": 102,
    "start_time": "2021-08-30T11:56:17.683Z"
   },
   {
    "duration": 57,
    "start_time": "2021-08-30T11:56:17.788Z"
   },
   {
    "duration": 33,
    "start_time": "2021-08-30T11:56:17.850Z"
   },
   {
    "duration": 5,
    "start_time": "2021-08-30T12:00:58.231Z"
   },
   {
    "duration": 580,
    "start_time": "2021-08-30T12:01:03.478Z"
   },
   {
    "duration": 11229,
    "start_time": "2021-08-30T12:01:08.446Z"
   },
   {
    "duration": 300,
    "start_time": "2021-08-30T12:01:23.383Z"
   },
   {
    "duration": 294,
    "start_time": "2021-08-30T12:01:30.737Z"
   },
   {
    "duration": 446,
    "start_time": "2021-08-30T12:01:53.025Z"
   },
   {
    "duration": 3,
    "start_time": "2021-08-30T12:02:04.565Z"
   },
   {
    "duration": 13,
    "start_time": "2021-08-30T12:02:07.423Z"
   },
   {
    "duration": 4120,
    "start_time": "2021-08-30T12:02:10.854Z"
   },
   {
    "duration": 24,
    "start_time": "2021-08-30T12:02:23.486Z"
   },
   {
    "duration": 246,
    "start_time": "2021-08-30T12:02:26.143Z"
   },
   {
    "duration": 4,
    "start_time": "2021-08-30T12:02:34.797Z"
   },
   {
    "duration": 3863,
    "start_time": "2021-08-30T12:02:36.605Z"
   },
   {
    "duration": 308,
    "start_time": "2021-08-30T12:02:40.471Z"
   },
   {
    "duration": -326,
    "start_time": "2021-08-30T12:02:41.107Z"
   },
   {
    "duration": -327,
    "start_time": "2021-08-30T12:02:41.110Z"
   },
   {
    "duration": 31,
    "start_time": "2021-08-30T12:03:06.653Z"
   },
   {
    "duration": 29,
    "start_time": "2021-08-30T12:03:11.718Z"
   },
   {
    "duration": 59,
    "start_time": "2021-08-30T12:03:21.685Z"
   },
   {
    "duration": 3,
    "start_time": "2021-08-30T12:03:32.573Z"
   },
   {
    "duration": 60,
    "start_time": "2021-08-30T12:03:44.974Z"
   },
   {
    "duration": 23,
    "start_time": "2021-08-30T12:03:46.909Z"
   },
   {
    "duration": 35,
    "start_time": "2021-08-30T12:03:51.372Z"
   },
   {
    "duration": 10,
    "start_time": "2021-08-30T12:03:56.158Z"
   },
   {
    "duration": 6,
    "start_time": "2021-08-30T12:04:14.773Z"
   },
   {
    "duration": 32,
    "start_time": "2021-08-30T12:04:16.252Z"
   },
   {
    "duration": 7,
    "start_time": "2021-08-30T12:04:18.518Z"
   },
   {
    "duration": 5,
    "start_time": "2021-08-30T12:04:18.681Z"
   },
   {
    "duration": 7,
    "start_time": "2021-08-30T12:04:18.820Z"
   },
   {
    "duration": 3,
    "start_time": "2021-08-30T12:04:18.980Z"
   },
   {
    "duration": 13,
    "start_time": "2021-08-30T12:04:19.147Z"
   },
   {
    "duration": 6349,
    "start_time": "2021-08-30T12:04:19.332Z"
   },
   {
    "duration": 27,
    "start_time": "2021-08-30T12:04:25.769Z"
   },
   {
    "duration": 260,
    "start_time": "2021-08-30T12:04:25.799Z"
   },
   {
    "duration": -319,
    "start_time": "2021-08-30T12:04:26.381Z"
   },
   {
    "duration": 69,
    "start_time": "2021-08-30T12:04:43.253Z"
   },
   {
    "duration": 11,
    "start_time": "2021-08-30T12:04:43.467Z"
   },
   {
    "duration": 12,
    "start_time": "2021-08-30T12:04:45.934Z"
   },
   {
    "duration": 1316,
    "start_time": "2021-08-30T12:04:56.360Z"
   },
   {
    "duration": 1609,
    "start_time": "2021-08-30T12:05:03.536Z"
   },
   {
    "duration": 47,
    "start_time": "2021-08-30T12:05:05.148Z"
   },
   {
    "duration": 9,
    "start_time": "2021-08-30T12:05:05.198Z"
   },
   {
    "duration": 13,
    "start_time": "2021-08-30T12:05:05.210Z"
   },
   {
    "duration": 13,
    "start_time": "2021-08-30T12:05:05.226Z"
   },
   {
    "duration": 30,
    "start_time": "2021-08-30T12:05:05.241Z"
   },
   {
    "duration": 1546,
    "start_time": "2021-08-30T12:05:05.273Z"
   },
   {
    "duration": 878,
    "start_time": "2021-08-30T12:05:06.821Z"
   },
   {
    "duration": 5,
    "start_time": "2021-08-30T12:05:07.703Z"
   },
   {
    "duration": 3107,
    "start_time": "2021-08-30T12:05:07.711Z"
   },
   {
    "duration": 3005,
    "start_time": "2021-08-30T12:05:10.820Z"
   },
   {
    "duration": 982,
    "start_time": "2021-08-30T12:05:13.828Z"
   },
   {
    "duration": 942,
    "start_time": "2021-08-30T12:05:14.812Z"
   },
   {
    "duration": 13,
    "start_time": "2021-08-30T12:05:15.756Z"
   },
   {
    "duration": 9,
    "start_time": "2021-08-30T12:05:15.772Z"
   },
   {
    "duration": 5,
    "start_time": "2021-08-30T12:05:15.784Z"
   },
   {
    "duration": 7,
    "start_time": "2021-08-30T12:05:15.792Z"
   },
   {
    "duration": 85,
    "start_time": "2021-08-30T12:05:15.801Z"
   },
   {
    "duration": 7,
    "start_time": "2021-08-30T12:05:15.889Z"
   },
   {
    "duration": 8,
    "start_time": "2021-08-30T12:05:15.898Z"
   },
   {
    "duration": 11,
    "start_time": "2021-08-30T12:05:15.908Z"
   },
   {
    "duration": 9,
    "start_time": "2021-08-30T12:05:15.922Z"
   },
   {
    "duration": 36,
    "start_time": "2021-08-30T12:05:15.933Z"
   },
   {
    "duration": 5109,
    "start_time": "2021-08-30T12:05:15.971Z"
   },
   {
    "duration": 107,
    "start_time": "2021-08-30T12:05:21.082Z"
   },
   {
    "duration": 87,
    "start_time": "2021-08-30T12:05:21.191Z"
   },
   {
    "duration": 1387,
    "start_time": "2021-08-30T12:05:21.283Z"
   },
   {
    "duration": 10,
    "start_time": "2021-08-30T12:06:14.679Z"
   },
   {
    "duration": 6,
    "start_time": "2021-08-30T12:06:14.974Z"
   },
   {
    "duration": 5,
    "start_time": "2021-08-30T12:06:15.702Z"
   },
   {
    "duration": 5,
    "start_time": "2021-08-30T12:06:16.183Z"
   },
   {
    "duration": 40,
    "start_time": "2021-08-30T12:06:17.470Z"
   },
   {
    "duration": 10,
    "start_time": "2021-08-30T12:06:18.660Z"
   },
   {
    "duration": 5,
    "start_time": "2021-08-30T12:06:19.750Z"
   },
   {
    "duration": 7,
    "start_time": "2021-08-30T12:06:19.951Z"
   },
   {
    "duration": 4,
    "start_time": "2021-08-30T12:06:20.151Z"
   },
   {
    "duration": 169,
    "start_time": "2021-08-30T12:06:20.502Z"
   },
   {
    "duration": 12457,
    "start_time": "2021-08-30T12:06:21.511Z"
   },
   {
    "duration": 699,
    "start_time": "2021-08-30T12:06:33.971Z"
   },
   {
    "duration": 3820,
    "start_time": "2021-08-30T12:06:40.049Z"
   },
   {
    "duration": 455,
    "start_time": "2021-08-30T12:07:04.079Z"
   },
   {
    "duration": 3,
    "start_time": "2021-08-30T12:07:10.800Z"
   },
   {
    "duration": 12687,
    "start_time": "2021-08-30T12:07:13.480Z"
   },
   {
    "duration": 4,
    "start_time": "2021-08-30T12:07:28.085Z"
   },
   {
    "duration": 807,
    "start_time": "2021-08-30T12:07:32.264Z"
   },
   {
    "duration": 261,
    "start_time": "2021-08-30T12:07:35.558Z"
   },
   {
    "duration": 4,
    "start_time": "2021-08-30T12:07:39.029Z"
   },
   {
    "duration": 548,
    "start_time": "2021-08-30T12:07:41.127Z"
   },
   {
    "duration": 373,
    "start_time": "2021-08-30T12:07:45.597Z"
   },
   {
    "duration": 410,
    "start_time": "2021-08-30T12:07:51.054Z"
   },
   {
    "duration": 3,
    "start_time": "2021-08-30T12:07:54.493Z"
   },
   {
    "duration": 529,
    "start_time": "2021-08-30T12:07:56.445Z"
   },
   {
    "duration": 372,
    "start_time": "2021-08-30T12:08:07.880Z"
   },
   {
    "duration": 8262,
    "start_time": "2021-08-30T12:08:37.710Z"
   },
   {
    "duration": 2683,
    "start_time": "2021-08-30T12:08:49.309Z"
   },
   {
    "duration": 435,
    "start_time": "2021-08-30T12:09:18.734Z"
   },
   {
    "duration": 259,
    "start_time": "2021-08-30T12:09:29.110Z"
   },
   {
    "duration": 248,
    "start_time": "2021-08-30T12:09:38.773Z"
   },
   {
    "duration": 2501,
    "start_time": "2021-08-30T12:09:41.486Z"
   },
   {
    "duration": 250,
    "start_time": "2021-08-30T12:09:52.775Z"
   },
   {
    "duration": 131,
    "start_time": "2021-08-30T12:09:54.740Z"
   },
   {
    "duration": 613,
    "start_time": "2021-08-30T12:13:33.363Z"
   },
   {
    "duration": 16,
    "start_time": "2021-08-30T12:13:47.553Z"
   },
   {
    "duration": 117,
    "start_time": "2021-08-30T12:14:28.211Z"
   },
   {
    "duration": 883,
    "start_time": "2021-08-30T12:14:30.586Z"
   },
   {
    "duration": 109,
    "start_time": "2021-08-30T12:14:36.358Z"
   },
   {
    "duration": 385,
    "start_time": "2021-08-30T12:15:53.955Z"
   },
   {
    "duration": 406,
    "start_time": "2021-08-30T12:15:59.371Z"
   },
   {
    "duration": 365,
    "start_time": "2021-08-30T12:16:10.610Z"
   },
   {
    "duration": 367,
    "start_time": "2021-08-30T12:16:21.392Z"
   },
   {
    "duration": 1092,
    "start_time": "2021-08-30T12:16:38.577Z"
   },
   {
    "duration": 1005,
    "start_time": "2021-08-30T12:16:51.264Z"
   },
   {
    "duration": 794,
    "start_time": "2021-08-30T12:16:57.777Z"
   },
   {
    "duration": 825,
    "start_time": "2021-08-30T12:17:10.144Z"
   },
   {
    "duration": 545,
    "start_time": "2021-08-30T12:19:29.799Z"
   },
   {
    "duration": 556,
    "start_time": "2021-08-30T12:20:14.719Z"
   },
   {
    "duration": 7,
    "start_time": "2021-08-30T12:21:31.079Z"
   },
   {
    "duration": 19,
    "start_time": "2021-08-30T12:21:34.285Z"
   },
   {
    "duration": 128,
    "start_time": "2021-08-30T12:21:54.870Z"
   },
   {
    "duration": 20,
    "start_time": "2021-08-30T12:21:56.794Z"
   },
   {
    "duration": 631,
    "start_time": "2021-08-30T12:22:01.285Z"
   },
   {
    "duration": 278,
    "start_time": "2021-08-30T12:22:37.719Z"
   },
   {
    "duration": 8041,
    "start_time": "2021-08-30T12:22:45.126Z"
   },
   {
    "duration": 2802,
    "start_time": "2021-08-30T12:22:57.684Z"
   },
   {
    "duration": 541,
    "start_time": "2021-08-30T12:23:01.974Z"
   },
   {
    "duration": 529,
    "start_time": "2021-08-30T12:23:07.252Z"
   },
   {
    "duration": 7376,
    "start_time": "2021-08-30T12:23:29.791Z"
   },
   {
    "duration": 6,
    "start_time": "2021-08-30T12:24:09.244Z"
   },
   {
    "duration": 7699,
    "start_time": "2021-08-30T12:24:23.779Z"
   },
   {
    "duration": -343,
    "start_time": "2021-08-30T12:24:31.825Z"
   },
   {
    "duration": 541,
    "start_time": "2021-08-30T12:24:34.077Z"
   },
   {
    "duration": 7653,
    "start_time": "2021-08-30T12:24:40.828Z"
   },
   {
    "duration": 339,
    "start_time": "2021-08-30T12:24:48.484Z"
   },
   {
    "duration": 676,
    "start_time": "2021-08-30T12:24:50.092Z"
   },
   {
    "duration": 15,
    "start_time": "2021-08-30T12:25:03.891Z"
   },
   {
    "duration": 6,
    "start_time": "2021-08-30T12:32:30.505Z"
   },
   {
    "duration": 7099,
    "start_time": "2021-08-30T12:32:32.784Z"
   },
   {
    "duration": 483,
    "start_time": "2021-08-30T12:32:39.886Z"
   },
   {
    "duration": 349,
    "start_time": "2021-08-30T12:32:40.374Z"
   },
   {
    "duration": 10,
    "start_time": "2021-08-30T12:32:41.307Z"
   },
   {
    "duration": 1824,
    "start_time": "2021-08-30T12:32:54.824Z"
   },
   {
    "duration": 49,
    "start_time": "2021-08-30T12:32:56.652Z"
   },
   {
    "duration": 8,
    "start_time": "2021-08-30T12:32:56.703Z"
   },
   {
    "duration": 53,
    "start_time": "2021-08-30T12:32:56.714Z"
   },
   {
    "duration": 6,
    "start_time": "2021-08-30T12:32:56.769Z"
   },
   {
    "duration": 22,
    "start_time": "2021-08-30T12:32:56.777Z"
   },
   {
    "duration": 1719,
    "start_time": "2021-08-30T12:32:56.801Z"
   },
   {
    "duration": 1011,
    "start_time": "2021-08-30T12:32:58.524Z"
   },
   {
    "duration": 5,
    "start_time": "2021-08-30T12:32:59.538Z"
   },
   {
    "duration": 3088,
    "start_time": "2021-08-30T12:32:59.546Z"
   },
   {
    "duration": 3019,
    "start_time": "2021-08-30T12:33:02.637Z"
   },
   {
    "duration": 988,
    "start_time": "2021-08-30T12:33:05.658Z"
   },
   {
    "duration": 1003,
    "start_time": "2021-08-30T12:33:06.648Z"
   },
   {
    "duration": 14,
    "start_time": "2021-08-30T12:33:07.654Z"
   },
   {
    "duration": 25,
    "start_time": "2021-08-30T12:33:07.670Z"
   },
   {
    "duration": 16,
    "start_time": "2021-08-30T12:33:07.698Z"
   },
   {
    "duration": 18,
    "start_time": "2021-08-30T12:33:07.717Z"
   },
   {
    "duration": 92,
    "start_time": "2021-08-30T12:33:07.738Z"
   },
   {
    "duration": 8,
    "start_time": "2021-08-30T12:33:07.833Z"
   },
   {
    "duration": 14,
    "start_time": "2021-08-30T12:33:07.844Z"
   },
   {
    "duration": 14,
    "start_time": "2021-08-30T12:33:07.868Z"
   },
   {
    "duration": 13,
    "start_time": "2021-08-30T12:33:07.884Z"
   },
   {
    "duration": 18,
    "start_time": "2021-08-30T12:33:07.903Z"
   },
   {
    "duration": 5250,
    "start_time": "2021-08-30T12:33:07.924Z"
   },
   {
    "duration": 29,
    "start_time": "2021-08-30T12:33:13.177Z"
   },
   {
    "duration": 74,
    "start_time": "2021-08-30T12:33:13.208Z"
   },
   {
    "duration": 1385,
    "start_time": "2021-08-30T12:33:13.284Z"
   },
   {
    "duration": 551,
    "start_time": "2021-08-30T12:33:14.671Z"
   },
   {
    "duration": 13,
    "start_time": "2021-08-30T12:33:15.224Z"
   },
   {
    "duration": 114,
    "start_time": "2021-08-30T12:35:46.346Z"
   },
   {
    "duration": 466,
    "start_time": "2021-08-30T12:35:56.163Z"
   },
   {
    "duration": 8,
    "start_time": "2021-08-30T12:36:06.270Z"
   },
   {
    "duration": 1655,
    "start_time": "2021-08-30T12:36:14.799Z"
   },
   {
    "duration": 50,
    "start_time": "2021-08-30T12:36:16.457Z"
   },
   {
    "duration": 8,
    "start_time": "2021-08-30T12:36:16.510Z"
   },
   {
    "duration": 18,
    "start_time": "2021-08-30T12:36:16.521Z"
   },
   {
    "duration": 27,
    "start_time": "2021-08-30T12:36:16.542Z"
   },
   {
    "duration": 6,
    "start_time": "2021-08-30T12:36:16.572Z"
   },
   {
    "duration": 1699,
    "start_time": "2021-08-30T12:36:16.581Z"
   },
   {
    "duration": 915,
    "start_time": "2021-08-30T12:36:18.283Z"
   },
   {
    "duration": 5,
    "start_time": "2021-08-30T12:36:19.204Z"
   },
   {
    "duration": 3158,
    "start_time": "2021-08-30T12:36:19.213Z"
   },
   {
    "duration": 3024,
    "start_time": "2021-08-30T12:36:22.376Z"
   },
   {
    "duration": 1019,
    "start_time": "2021-08-30T12:36:25.402Z"
   },
   {
    "duration": 996,
    "start_time": "2021-08-30T12:36:26.424Z"
   },
   {
    "duration": 6,
    "start_time": "2021-08-30T12:36:27.423Z"
   },
   {
    "duration": 10,
    "start_time": "2021-08-30T12:36:27.432Z"
   },
   {
    "duration": 24,
    "start_time": "2021-08-30T12:36:27.445Z"
   },
   {
    "duration": 9,
    "start_time": "2021-08-30T12:36:27.473Z"
   },
   {
    "duration": 54,
    "start_time": "2021-08-30T12:36:27.484Z"
   },
   {
    "duration": 34,
    "start_time": "2021-08-30T12:36:27.540Z"
   },
   {
    "duration": 5,
    "start_time": "2021-08-30T12:36:27.583Z"
   },
   {
    "duration": 8,
    "start_time": "2021-08-30T12:36:27.591Z"
   },
   {
    "duration": 7,
    "start_time": "2021-08-30T12:36:27.601Z"
   },
   {
    "duration": 6,
    "start_time": "2021-08-30T12:36:27.610Z"
   },
   {
    "duration": 15163,
    "start_time": "2021-08-30T12:36:27.619Z"
   },
   {
    "duration": 107,
    "start_time": "2021-08-30T12:36:42.784Z"
   },
   {
    "duration": 49,
    "start_time": "2021-08-30T12:36:42.893Z"
   },
   {
    "duration": 2332,
    "start_time": "2021-08-30T12:36:42.947Z"
   },
   {
    "duration": 700,
    "start_time": "2021-08-30T12:36:45.282Z"
   },
   {
    "duration": 9,
    "start_time": "2021-08-30T12:36:45.985Z"
   },
   {
    "duration": 1593,
    "start_time": "2021-08-30T12:40:20.162Z"
   },
   {
    "duration": 47,
    "start_time": "2021-08-30T12:40:21.758Z"
   },
   {
    "duration": 9,
    "start_time": "2021-08-30T12:40:21.808Z"
   },
   {
    "duration": 19,
    "start_time": "2021-08-30T12:40:21.820Z"
   },
   {
    "duration": 26,
    "start_time": "2021-08-30T12:40:21.842Z"
   },
   {
    "duration": 16,
    "start_time": "2021-08-30T12:40:21.872Z"
   },
   {
    "duration": 1520,
    "start_time": "2021-08-30T12:40:21.891Z"
   },
   {
    "duration": 905,
    "start_time": "2021-08-30T12:40:23.417Z"
   },
   {
    "duration": 5,
    "start_time": "2021-08-30T12:40:24.326Z"
   },
   {
    "duration": 2935,
    "start_time": "2021-08-30T12:40:24.335Z"
   },
   {
    "duration": 2868,
    "start_time": "2021-08-30T12:40:27.272Z"
   },
   {
    "duration": 1068,
    "start_time": "2021-08-30T12:40:30.144Z"
   },
   {
    "duration": 1314,
    "start_time": "2021-08-30T12:40:31.215Z"
   },
   {
    "duration": 8,
    "start_time": "2021-08-30T12:40:32.532Z"
   },
   {
    "duration": 26,
    "start_time": "2021-08-30T12:40:32.543Z"
   },
   {
    "duration": 9,
    "start_time": "2021-08-30T12:40:32.572Z"
   },
   {
    "duration": 14,
    "start_time": "2021-08-30T12:40:32.584Z"
   },
   {
    "duration": 99,
    "start_time": "2021-08-30T12:40:32.601Z"
   },
   {
    "duration": 7,
    "start_time": "2021-08-30T12:40:32.703Z"
   },
   {
    "duration": 17,
    "start_time": "2021-08-30T12:40:32.713Z"
   },
   {
    "duration": 15,
    "start_time": "2021-08-30T12:40:32.732Z"
   },
   {
    "duration": 27,
    "start_time": "2021-08-30T12:40:32.749Z"
   },
   {
    "duration": 29,
    "start_time": "2021-08-30T12:40:32.783Z"
   },
   {
    "duration": 12400,
    "start_time": "2021-08-30T12:40:32.815Z"
   },
   {
    "duration": -332,
    "start_time": "2021-08-30T12:40:45.549Z"
   },
   {
    "duration": -333,
    "start_time": "2021-08-30T12:40:45.552Z"
   },
   {
    "duration": -344,
    "start_time": "2021-08-30T12:40:45.564Z"
   },
   {
    "duration": -345,
    "start_time": "2021-08-30T12:40:45.567Z"
   },
   {
    "duration": -346,
    "start_time": "2021-08-30T12:40:45.569Z"
   },
   {
    "duration": 13082,
    "start_time": "2021-08-30T12:41:16.197Z"
   },
   {
    "duration": 29,
    "start_time": "2021-08-30T12:41:29.282Z"
   },
   {
    "duration": 8,
    "start_time": "2021-08-30T12:41:29.314Z"
   },
   {
    "duration": 4532,
    "start_time": "2021-08-30T12:41:58.858Z"
   },
   {
    "duration": 2502,
    "start_time": "2021-08-30T12:42:19.182Z"
   },
   {
    "duration": 9,
    "start_time": "2021-08-30T12:42:23.506Z"
   },
   {
    "duration": 9,
    "start_time": "2021-08-30T12:42:24.408Z"
   },
   {
    "duration": 3958,
    "start_time": "2021-08-30T12:43:55.498Z"
   },
   {
    "duration": 52,
    "start_time": "2021-08-30T12:44:06.873Z"
   },
   {
    "duration": 4624,
    "start_time": "2021-08-30T12:44:09.579Z"
   },
   {
    "duration": 64,
    "start_time": "2021-08-30T12:44:14.206Z"
   },
   {
    "duration": 1644,
    "start_time": "2021-08-30T12:44:22.283Z"
   },
   {
    "duration": 58,
    "start_time": "2021-08-30T12:44:23.930Z"
   },
   {
    "duration": 8,
    "start_time": "2021-08-30T12:44:23.992Z"
   },
   {
    "duration": 31,
    "start_time": "2021-08-30T12:44:24.003Z"
   },
   {
    "duration": 5,
    "start_time": "2021-08-30T12:44:24.037Z"
   },
   {
    "duration": 24,
    "start_time": "2021-08-30T12:44:24.045Z"
   },
   {
    "duration": 1673,
    "start_time": "2021-08-30T12:44:24.073Z"
   },
   {
    "duration": 947,
    "start_time": "2021-08-30T12:44:25.750Z"
   },
   {
    "duration": 4,
    "start_time": "2021-08-30T12:44:26.700Z"
   },
   {
    "duration": 3189,
    "start_time": "2021-08-30T12:44:26.707Z"
   },
   {
    "duration": 3200,
    "start_time": "2021-08-30T12:44:29.899Z"
   },
   {
    "duration": 987,
    "start_time": "2021-08-30T12:44:33.102Z"
   },
   {
    "duration": 946,
    "start_time": "2021-08-30T12:44:34.091Z"
   },
   {
    "duration": 8,
    "start_time": "2021-08-30T12:44:35.040Z"
   },
   {
    "duration": 9,
    "start_time": "2021-08-30T12:44:35.073Z"
   },
   {
    "duration": 10,
    "start_time": "2021-08-30T12:44:35.085Z"
   },
   {
    "duration": 25,
    "start_time": "2021-08-30T12:44:35.098Z"
   },
   {
    "duration": 68,
    "start_time": "2021-08-30T12:44:35.125Z"
   },
   {
    "duration": 7,
    "start_time": "2021-08-30T12:44:35.196Z"
   },
   {
    "duration": 14,
    "start_time": "2021-08-30T12:44:35.206Z"
   },
   {
    "duration": 18,
    "start_time": "2021-08-30T12:44:35.223Z"
   },
   {
    "duration": 35,
    "start_time": "2021-08-30T12:44:35.244Z"
   },
   {
    "duration": 8,
    "start_time": "2021-08-30T12:44:35.286Z"
   },
   {
    "duration": 15482,
    "start_time": "2021-08-30T12:44:35.297Z"
   },
   {
    "duration": 28,
    "start_time": "2021-08-30T12:44:50.782Z"
   },
   {
    "duration": 91,
    "start_time": "2021-08-30T12:44:50.812Z"
   },
   {
    "duration": 19199,
    "start_time": "2021-08-30T12:44:50.905Z"
   },
   {
    "duration": 583,
    "start_time": "2021-08-30T12:45:10.106Z"
   },
   {
    "duration": -333,
    "start_time": "2021-08-30T12:45:11.025Z"
   },
   {
    "duration": 9,
    "start_time": "2021-08-30T12:47:49.504Z"
   },
   {
    "duration": 13733,
    "start_time": "2021-08-30T12:48:22.047Z"
   },
   {
    "duration": 30,
    "start_time": "2021-08-30T12:48:35.784Z"
   },
   {
    "duration": 68,
    "start_time": "2021-08-30T12:48:40.261Z"
   },
   {
    "duration": 5040,
    "start_time": "2021-08-30T12:48:46.861Z"
   },
   {
    "duration": 10,
    "start_time": "2021-08-30T12:48:54.392Z"
   },
   {
    "duration": 1635,
    "start_time": "2021-08-30T12:49:10.040Z"
   },
   {
    "duration": 50,
    "start_time": "2021-08-30T12:49:11.678Z"
   },
   {
    "duration": 9,
    "start_time": "2021-08-30T12:49:11.731Z"
   },
   {
    "duration": 37,
    "start_time": "2021-08-30T12:49:11.744Z"
   },
   {
    "duration": 5,
    "start_time": "2021-08-30T12:49:11.784Z"
   },
   {
    "duration": 5,
    "start_time": "2021-08-30T12:49:11.792Z"
   },
   {
    "duration": 1655,
    "start_time": "2021-08-30T12:49:11.800Z"
   },
   {
    "duration": 936,
    "start_time": "2021-08-30T12:49:13.469Z"
   },
   {
    "duration": 5,
    "start_time": "2021-08-30T12:49:14.410Z"
   },
   {
    "duration": 3332,
    "start_time": "2021-08-30T12:49:14.418Z"
   },
   {
    "duration": 2995,
    "start_time": "2021-08-30T12:49:17.753Z"
   },
   {
    "duration": 1088,
    "start_time": "2021-08-30T12:49:20.752Z"
   },
   {
    "duration": 1079,
    "start_time": "2021-08-30T12:49:21.844Z"
   },
   {
    "duration": 6,
    "start_time": "2021-08-30T12:49:22.926Z"
   },
   {
    "duration": 10,
    "start_time": "2021-08-30T12:49:22.934Z"
   },
   {
    "duration": 9,
    "start_time": "2021-08-30T12:49:22.969Z"
   },
   {
    "duration": 6,
    "start_time": "2021-08-30T12:49:22.987Z"
   },
   {
    "duration": 91,
    "start_time": "2021-08-30T12:49:22.996Z"
   },
   {
    "duration": 7,
    "start_time": "2021-08-30T12:49:23.090Z"
   },
   {
    "duration": 10,
    "start_time": "2021-08-30T12:49:23.100Z"
   },
   {
    "duration": 13,
    "start_time": "2021-08-30T12:49:23.113Z"
   },
   {
    "duration": 11,
    "start_time": "2021-08-30T12:49:23.129Z"
   },
   {
    "duration": 5,
    "start_time": "2021-08-30T12:49:23.172Z"
   },
   {
    "duration": 20198,
    "start_time": "2021-08-30T12:49:23.181Z"
   },
   {
    "duration": 30,
    "start_time": "2021-08-30T12:49:43.382Z"
   },
   {
    "duration": 109,
    "start_time": "2021-08-30T12:49:43.415Z"
   },
   {
    "duration": 5582,
    "start_time": "2021-08-30T12:49:43.526Z"
   },
   {
    "duration": 492,
    "start_time": "2021-08-30T12:49:49.110Z"
   },
   {
    "duration": -348,
    "start_time": "2021-08-30T12:49:49.953Z"
   },
   {
    "duration": 10,
    "start_time": "2021-08-30T12:50:09.348Z"
   },
   {
    "duration": 5,
    "start_time": "2021-08-30T12:50:19.795Z"
   },
   {
    "duration": 32,
    "start_time": "2021-08-30T12:50:20.300Z"
   },
   {
    "duration": 7,
    "start_time": "2021-08-30T12:50:20.788Z"
   },
   {
    "duration": 5,
    "start_time": "2021-08-30T12:50:21.306Z"
   },
   {
    "duration": 5,
    "start_time": "2021-08-30T12:50:23.084Z"
   },
   {
    "duration": 3,
    "start_time": "2021-08-30T12:50:23.402Z"
   },
   {
    "duration": 6705,
    "start_time": "2021-08-30T12:50:23.763Z"
   },
   {
    "duration": 29,
    "start_time": "2021-08-30T12:50:30.471Z"
   },
   {
    "duration": 1338,
    "start_time": "2021-08-30T12:50:39.043Z"
   },
   {
    "duration": 9,
    "start_time": "2021-08-30T12:50:42.556Z"
   },
   {
    "duration": 299,
    "start_time": "2021-08-30T12:50:56.259Z"
   },
   {
    "duration": 1402,
    "start_time": "2021-08-30T12:51:02.969Z"
   },
   {
    "duration": 1646,
    "start_time": "2021-08-30T13:04:34.902Z"
   },
   {
    "duration": 51,
    "start_time": "2021-08-30T13:04:36.551Z"
   },
   {
    "duration": 9,
    "start_time": "2021-08-30T13:04:36.605Z"
   },
   {
    "duration": 14,
    "start_time": "2021-08-30T13:04:36.617Z"
   },
   {
    "duration": 5,
    "start_time": "2021-08-30T13:04:36.633Z"
   },
   {
    "duration": 8,
    "start_time": "2021-08-30T13:04:36.667Z"
   },
   {
    "duration": 1665,
    "start_time": "2021-08-30T13:04:36.680Z"
   },
   {
    "duration": 952,
    "start_time": "2021-08-30T13:04:38.347Z"
   },
   {
    "duration": 5,
    "start_time": "2021-08-30T13:04:39.303Z"
   },
   {
    "duration": 3272,
    "start_time": "2021-08-30T13:04:39.311Z"
   },
   {
    "duration": 3242,
    "start_time": "2021-08-30T13:04:42.585Z"
   },
   {
    "duration": 1220,
    "start_time": "2021-08-30T13:04:45.829Z"
   },
   {
    "duration": 1045,
    "start_time": "2021-08-30T13:04:47.052Z"
   },
   {
    "duration": 5,
    "start_time": "2021-08-30T13:04:48.101Z"
   },
   {
    "duration": 85,
    "start_time": "2021-08-30T13:04:48.109Z"
   },
   {
    "duration": 11,
    "start_time": "2021-08-30T13:04:48.197Z"
   },
   {
    "duration": 7,
    "start_time": "2021-08-30T13:04:48.211Z"
   },
   {
    "duration": 8,
    "start_time": "2021-08-30T13:04:48.221Z"
   },
   {
    "duration": 48,
    "start_time": "2021-08-30T13:04:48.232Z"
   },
   {
    "duration": 6,
    "start_time": "2021-08-30T13:04:48.284Z"
   },
   {
    "duration": 17,
    "start_time": "2021-08-30T13:04:48.292Z"
   },
   {
    "duration": 14,
    "start_time": "2021-08-30T13:04:48.311Z"
   },
   {
    "duration": 9,
    "start_time": "2021-08-30T13:04:48.329Z"
   },
   {
    "duration": 38840,
    "start_time": "2021-08-30T13:04:48.341Z"
   },
   {
    "duration": 598,
    "start_time": "2021-08-30T13:05:27.184Z"
   },
   {
    "duration": 426,
    "start_time": "2021-08-30T13:05:27.785Z"
   },
   {
    "duration": 8867,
    "start_time": "2021-08-30T13:05:28.216Z"
   },
   {
    "duration": 11487,
    "start_time": "2021-08-30T13:05:37.086Z"
   },
   {
    "duration": 640,
    "start_time": "2021-08-30T13:05:48.576Z"
   },
   {
    "duration": 11,
    "start_time": "2021-08-30T13:05:49.220Z"
   },
   {
    "duration": 144,
    "start_time": "2021-08-30T13:07:18.625Z"
   },
   {
    "duration": 2755,
    "start_time": "2021-08-30T13:07:20.617Z"
   },
   {
    "duration": 35,
    "start_time": "2021-08-30T13:07:24.634Z"
   },
   {
    "duration": 509,
    "start_time": "2021-08-30T13:07:26.784Z"
   },
   {
    "duration": 11,
    "start_time": "2021-08-30T13:07:32.496Z"
   },
   {
    "duration": 9,
    "start_time": "2021-08-30T13:08:16.776Z"
   },
   {
    "duration": 44,
    "start_time": "2021-08-30T13:08:16.951Z"
   },
   {
    "duration": 8,
    "start_time": "2021-08-30T13:08:17.095Z"
   },
   {
    "duration": 9,
    "start_time": "2021-08-30T13:08:17.234Z"
   },
   {
    "duration": 6,
    "start_time": "2021-08-30T13:08:17.513Z"
   },
   {
    "duration": 6,
    "start_time": "2021-08-30T13:08:17.646Z"
   },
   {
    "duration": 1522,
    "start_time": "2021-08-30T13:08:17.791Z"
   },
   {
    "duration": 1015,
    "start_time": "2021-08-30T13:08:19.315Z"
   },
   {
    "duration": 5,
    "start_time": "2021-08-30T13:08:20.333Z"
   },
   {
    "duration": 3121,
    "start_time": "2021-08-30T13:08:20.340Z"
   },
   {
    "duration": 3033,
    "start_time": "2021-08-30T13:08:23.468Z"
   },
   {
    "duration": 945,
    "start_time": "2021-08-30T13:08:26.503Z"
   },
   {
    "duration": 1143,
    "start_time": "2021-08-30T13:08:27.451Z"
   },
   {
    "duration": 5,
    "start_time": "2021-08-30T13:08:28.601Z"
   },
   {
    "duration": 85,
    "start_time": "2021-08-30T13:08:28.610Z"
   },
   {
    "duration": 11,
    "start_time": "2021-08-30T13:08:28.698Z"
   },
   {
    "duration": 5,
    "start_time": "2021-08-30T13:08:28.712Z"
   },
   {
    "duration": 7,
    "start_time": "2021-08-30T13:08:28.720Z"
   },
   {
    "duration": 54,
    "start_time": "2021-08-30T13:08:28.729Z"
   },
   {
    "duration": 7,
    "start_time": "2021-08-30T13:08:28.785Z"
   },
   {
    "duration": 11,
    "start_time": "2021-08-30T13:08:28.795Z"
   },
   {
    "duration": 13,
    "start_time": "2021-08-30T13:08:28.808Z"
   },
   {
    "duration": 7,
    "start_time": "2021-08-30T13:08:28.823Z"
   },
   {
    "duration": 2851,
    "start_time": "2021-08-30T13:08:28.832Z"
   },
   {
    "duration": -405,
    "start_time": "2021-08-30T13:08:32.091Z"
   },
   {
    "duration": -406,
    "start_time": "2021-08-30T13:08:32.095Z"
   },
   {
    "duration": -407,
    "start_time": "2021-08-30T13:08:32.098Z"
   },
   {
    "duration": 7,
    "start_time": "2021-08-30T13:08:34.249Z"
   },
   {
    "duration": 15066,
    "start_time": "2021-08-30T13:08:38.617Z"
   },
   {
    "duration": 9,
    "start_time": "2021-08-30T13:10:20.054Z"
   },
   {
    "duration": 816,
    "start_time": "2021-08-30T13:10:26.253Z"
   },
   {
    "duration": 337,
    "start_time": "2021-08-30T13:10:28.256Z"
   },
   {
    "duration": 9,
    "start_time": "2021-08-30T13:10:31.112Z"
   },
   {
    "duration": 1064,
    "start_time": "2021-08-30T13:10:54.318Z"
   },
   {
    "duration": 803,
    "start_time": "2021-08-30T13:11:18.569Z"
   },
   {
    "duration": 782,
    "start_time": "2021-08-30T13:12:04.413Z"
   },
   {
    "duration": 1705,
    "start_time": "2021-08-30T13:12:10.584Z"
   },
   {
    "duration": 47,
    "start_time": "2021-08-30T13:12:12.292Z"
   },
   {
    "duration": 8,
    "start_time": "2021-08-30T13:12:12.342Z"
   },
   {
    "duration": 30,
    "start_time": "2021-08-30T13:12:12.353Z"
   },
   {
    "duration": 6,
    "start_time": "2021-08-30T13:12:12.387Z"
   },
   {
    "duration": 13,
    "start_time": "2021-08-30T13:12:12.397Z"
   },
   {
    "duration": 1792,
    "start_time": "2021-08-30T13:12:12.412Z"
   },
   {
    "duration": 996,
    "start_time": "2021-08-30T13:12:14.206Z"
   },
   {
    "duration": 5,
    "start_time": "2021-08-30T13:12:15.206Z"
   },
   {
    "duration": 3282,
    "start_time": "2021-08-30T13:12:15.215Z"
   },
   {
    "duration": 3189,
    "start_time": "2021-08-30T13:12:18.500Z"
   },
   {
    "duration": 1204,
    "start_time": "2021-08-30T13:12:21.691Z"
   },
   {
    "duration": 1039,
    "start_time": "2021-08-30T13:12:22.897Z"
   },
   {
    "duration": 6,
    "start_time": "2021-08-30T13:12:23.939Z"
   },
   {
    "duration": 76,
    "start_time": "2021-08-30T13:12:23.947Z"
   },
   {
    "duration": 10,
    "start_time": "2021-08-30T13:12:24.025Z"
   },
   {
    "duration": 32,
    "start_time": "2021-08-30T13:12:24.037Z"
   },
   {
    "duration": 7,
    "start_time": "2021-08-30T13:12:24.073Z"
   },
   {
    "duration": 9,
    "start_time": "2021-08-30T13:12:24.083Z"
   },
   {
    "duration": 7,
    "start_time": "2021-08-30T13:12:24.095Z"
   },
   {
    "duration": 10,
    "start_time": "2021-08-30T13:12:24.104Z"
   },
   {
    "duration": 66,
    "start_time": "2021-08-30T13:12:24.117Z"
   },
   {
    "duration": 4,
    "start_time": "2021-08-30T13:12:24.187Z"
   },
   {
    "duration": 27,
    "start_time": "2021-08-30T13:15:30.817Z"
   },
   {
    "duration": 9,
    "start_time": "2021-08-30T13:15:33.828Z"
   },
   {
    "duration": 7,
    "start_time": "2021-08-30T13:15:34.022Z"
   },
   {
    "duration": 5,
    "start_time": "2021-08-30T13:15:34.398Z"
   },
   {
    "duration": 9,
    "start_time": "2021-08-30T13:15:34.733Z"
   },
   {
    "duration": 5,
    "start_time": "2021-08-30T13:15:35.084Z"
   },
   {
    "duration": 8,
    "start_time": "2021-08-30T13:15:35.478Z"
   },
   {
    "duration": 5,
    "start_time": "2021-08-30T13:15:35.853Z"
   },
   {
    "duration": 4,
    "start_time": "2021-08-30T13:15:36.461Z"
   },
   {
    "duration": 23538,
    "start_time": "2021-08-30T13:15:36.934Z"
   },
   {
    "duration": 499,
    "start_time": "2021-08-30T13:16:00.475Z"
   },
   {
    "duration": 422,
    "start_time": "2021-08-30T13:16:01.066Z"
   },
   {
    "duration": 9,
    "start_time": "2021-08-30T13:16:44.367Z"
   },
   {
    "duration": 1006,
    "start_time": "2021-08-30T13:17:21.563Z"
   },
   {
    "duration": 25,
    "start_time": "2021-08-30T13:17:33.600Z"
   },
   {
    "duration": 583,
    "start_time": "2021-08-30T13:17:37.692Z"
   },
   {
    "duration": 3,
    "start_time": "2021-08-30T13:17:49.206Z"
   },
   {
    "duration": 2812,
    "start_time": "2021-08-30T13:17:56.555Z"
   },
   {
    "duration": 197,
    "start_time": "2021-08-30T13:17:59.370Z"
   },
   {
    "duration": 1621,
    "start_time": "2021-08-30T13:18:09.217Z"
   },
   {
    "duration": 50,
    "start_time": "2021-08-30T13:18:10.841Z"
   },
   {
    "duration": 10,
    "start_time": "2021-08-30T13:18:10.894Z"
   },
   {
    "duration": 14,
    "start_time": "2021-08-30T13:18:10.906Z"
   },
   {
    "duration": 8,
    "start_time": "2021-08-30T13:18:10.923Z"
   },
   {
    "duration": 37,
    "start_time": "2021-08-30T13:18:10.933Z"
   },
   {
    "duration": 1561,
    "start_time": "2021-08-30T13:18:10.973Z"
   },
   {
    "duration": 891,
    "start_time": "2021-08-30T13:18:12.537Z"
   },
   {
    "duration": 5,
    "start_time": "2021-08-30T13:18:13.433Z"
   },
   {
    "duration": 3056,
    "start_time": "2021-08-30T13:18:13.441Z"
   },
   {
    "duration": 2812,
    "start_time": "2021-08-30T13:18:16.500Z"
   },
   {
    "duration": 984,
    "start_time": "2021-08-30T13:18:19.314Z"
   },
   {
    "duration": 911,
    "start_time": "2021-08-30T13:18:20.300Z"
   },
   {
    "duration": 6,
    "start_time": "2021-08-30T13:18:21.213Z"
   },
   {
    "duration": 47,
    "start_time": "2021-08-30T13:18:21.221Z"
   },
   {
    "duration": 7,
    "start_time": "2021-08-30T13:18:21.270Z"
   },
   {
    "duration": 5,
    "start_time": "2021-08-30T13:18:21.280Z"
   },
   {
    "duration": 14,
    "start_time": "2021-08-30T13:18:21.287Z"
   },
   {
    "duration": 10,
    "start_time": "2021-08-30T13:18:21.303Z"
   },
   {
    "duration": 11,
    "start_time": "2021-08-30T13:18:21.315Z"
   },
   {
    "duration": 38,
    "start_time": "2021-08-30T13:18:21.329Z"
   },
   {
    "duration": 11,
    "start_time": "2021-08-30T13:18:21.370Z"
   },
   {
    "duration": 18,
    "start_time": "2021-08-30T13:18:21.383Z"
   },
   {
    "duration": 6573,
    "start_time": "2021-08-30T13:18:21.404Z"
   },
   {
    "duration": 390,
    "start_time": "2021-08-30T13:18:27.979Z"
   },
   {
    "duration": 259,
    "start_time": "2021-08-30T13:18:28.373Z"
   },
   {
    "duration": 1935,
    "start_time": "2021-08-30T13:18:28.636Z"
   },
   {
    "duration": 1914,
    "start_time": "2021-08-30T13:18:30.573Z"
   },
   {
    "duration": 88,
    "start_time": "2021-08-30T13:18:32.489Z"
   },
   {
    "duration": 686,
    "start_time": "2021-08-30T13:18:32.580Z"
   },
   {
    "duration": 10,
    "start_time": "2021-08-30T13:18:33.269Z"
   },
   {
    "duration": 1725,
    "start_time": "2021-08-30T13:20:00.776Z"
   },
   {
    "duration": 49,
    "start_time": "2021-08-30T13:20:02.504Z"
   },
   {
    "duration": 13,
    "start_time": "2021-08-30T13:20:02.557Z"
   },
   {
    "duration": 16,
    "start_time": "2021-08-30T13:20:02.574Z"
   },
   {
    "duration": 38,
    "start_time": "2021-08-30T13:20:02.593Z"
   },
   {
    "duration": 19,
    "start_time": "2021-08-30T13:20:02.634Z"
   },
   {
    "duration": 1570,
    "start_time": "2021-08-30T13:20:02.656Z"
   },
   {
    "duration": 931,
    "start_time": "2021-08-30T13:20:04.230Z"
   },
   {
    "duration": 6,
    "start_time": "2021-08-30T13:20:05.170Z"
   },
   {
    "duration": 3090,
    "start_time": "2021-08-30T13:20:05.180Z"
   },
   {
    "duration": 2867,
    "start_time": "2021-08-30T13:20:08.272Z"
   },
   {
    "duration": 1015,
    "start_time": "2021-08-30T13:20:11.141Z"
   },
   {
    "duration": 951,
    "start_time": "2021-08-30T13:20:12.166Z"
   },
   {
    "duration": 6,
    "start_time": "2021-08-30T13:20:13.119Z"
   },
   {
    "duration": 45,
    "start_time": "2021-08-30T13:20:13.127Z"
   },
   {
    "duration": 7,
    "start_time": "2021-08-30T13:20:13.175Z"
   },
   {
    "duration": 6,
    "start_time": "2021-08-30T13:20:13.184Z"
   },
   {
    "duration": 8,
    "start_time": "2021-08-30T13:20:13.192Z"
   },
   {
    "duration": 13,
    "start_time": "2021-08-30T13:20:13.202Z"
   },
   {
    "duration": 7,
    "start_time": "2021-08-30T13:20:13.218Z"
   },
   {
    "duration": 7,
    "start_time": "2021-08-30T13:20:13.268Z"
   },
   {
    "duration": 15,
    "start_time": "2021-08-30T13:20:13.278Z"
   },
   {
    "duration": 15,
    "start_time": "2021-08-30T13:20:13.296Z"
   },
   {
    "duration": 6560,
    "start_time": "2021-08-30T13:20:13.314Z"
   },
   {
    "duration": 302,
    "start_time": "2021-08-30T13:20:19.877Z"
   },
   {
    "duration": 305,
    "start_time": "2021-08-30T13:20:20.182Z"
   },
   {
    "duration": 1991,
    "start_time": "2021-08-30T13:20:20.492Z"
   },
   {
    "duration": 1783,
    "start_time": "2021-08-30T13:20:22.486Z"
   },
   {
    "duration": 12,
    "start_time": "2021-08-30T13:20:24.272Z"
   },
   {
    "duration": 686,
    "start_time": "2021-08-30T13:20:24.286Z"
   },
   {
    "duration": 11,
    "start_time": "2021-08-30T13:20:24.976Z"
   },
   {
    "duration": 1578,
    "start_time": "2021-08-30T13:21:02.570Z"
   },
   {
    "duration": 48,
    "start_time": "2021-08-30T13:21:04.151Z"
   },
   {
    "duration": 8,
    "start_time": "2021-08-30T13:21:04.205Z"
   },
   {
    "duration": 13,
    "start_time": "2021-08-30T13:21:04.215Z"
   },
   {
    "duration": 38,
    "start_time": "2021-08-30T13:21:04.231Z"
   },
   {
    "duration": 6,
    "start_time": "2021-08-30T13:21:04.271Z"
   },
   {
    "duration": 1627,
    "start_time": "2021-08-30T13:21:04.279Z"
   },
   {
    "duration": 901,
    "start_time": "2021-08-30T13:21:05.910Z"
   },
   {
    "duration": 5,
    "start_time": "2021-08-30T13:21:06.814Z"
   },
   {
    "duration": 2938,
    "start_time": "2021-08-30T13:21:06.821Z"
   },
   {
    "duration": 2856,
    "start_time": "2021-08-30T13:21:09.767Z"
   },
   {
    "duration": 1082,
    "start_time": "2021-08-30T13:21:12.626Z"
   },
   {
    "duration": 940,
    "start_time": "2021-08-30T13:21:13.710Z"
   },
   {
    "duration": 14,
    "start_time": "2021-08-30T13:21:14.653Z"
   },
   {
    "duration": 30,
    "start_time": "2021-08-30T13:21:14.669Z"
   },
   {
    "duration": 7,
    "start_time": "2021-08-30T13:21:14.702Z"
   },
   {
    "duration": 6,
    "start_time": "2021-08-30T13:21:14.711Z"
   },
   {
    "duration": 6,
    "start_time": "2021-08-30T13:21:14.720Z"
   },
   {
    "duration": 8,
    "start_time": "2021-08-30T13:21:14.767Z"
   },
   {
    "duration": 16,
    "start_time": "2021-08-30T13:21:14.777Z"
   },
   {
    "duration": 8,
    "start_time": "2021-08-30T13:21:14.796Z"
   },
   {
    "duration": 7,
    "start_time": "2021-08-30T13:21:14.807Z"
   },
   {
    "duration": 5,
    "start_time": "2021-08-30T13:21:14.817Z"
   },
   {
    "duration": 6653,
    "start_time": "2021-08-30T13:21:14.825Z"
   },
   {
    "duration": 592,
    "start_time": "2021-08-30T13:21:21.481Z"
   },
   {
    "duration": 290,
    "start_time": "2021-08-30T13:21:22.079Z"
   },
   {
    "duration": 1908,
    "start_time": "2021-08-30T13:21:22.372Z"
   },
   {
    "duration": 1793,
    "start_time": "2021-08-30T13:21:24.283Z"
   },
   {
    "duration": 10,
    "start_time": "2021-08-30T13:21:26.079Z"
   },
   {
    "duration": 697,
    "start_time": "2021-08-30T13:21:26.091Z"
   },
   {
    "duration": 10,
    "start_time": "2021-08-30T13:21:26.791Z"
   },
   {
    "duration": 5,
    "start_time": "2021-08-30T14:26:23.715Z"
   },
   {
    "duration": 8,
    "start_time": "2021-08-30T14:26:26.961Z"
   },
   {
    "duration": 5,
    "start_time": "2021-08-30T14:26:48.987Z"
   },
   {
    "duration": 8,
    "start_time": "2021-08-30T14:26:53.209Z"
   },
   {
    "duration": 9,
    "start_time": "2021-08-30T14:28:23.273Z"
   },
   {
    "duration": 5,
    "start_time": "2021-08-30T14:29:27.824Z"
   },
   {
    "duration": 8,
    "start_time": "2021-08-30T14:29:32.511Z"
   },
   {
    "duration": 9,
    "start_time": "2021-08-30T14:29:35.016Z"
   },
   {
    "duration": 7,
    "start_time": "2021-08-30T14:30:05.592Z"
   },
   {
    "duration": 10,
    "start_time": "2021-08-30T14:30:06.583Z"
   },
   {
    "duration": 5,
    "start_time": "2021-08-30T14:30:23.080Z"
   },
   {
    "duration": 6,
    "start_time": "2021-08-30T14:30:23.919Z"
   },
   {
    "duration": 9,
    "start_time": "2021-08-30T14:30:25.023Z"
   },
   {
    "duration": 5,
    "start_time": "2021-08-30T14:30:35.646Z"
   },
   {
    "duration": 7,
    "start_time": "2021-08-30T14:30:35.934Z"
   },
   {
    "duration": 9,
    "start_time": "2021-08-30T14:30:36.382Z"
   },
   {
    "duration": 7,
    "start_time": "2021-08-30T14:37:41.347Z"
   },
   {
    "duration": 9,
    "start_time": "2021-08-30T14:37:42.499Z"
   },
   {
    "duration": 13,
    "start_time": "2021-08-30T14:37:42.826Z"
   },
   {
    "duration": 7,
    "start_time": "2021-08-30T14:37:50.406Z"
   },
   {
    "duration": 10,
    "start_time": "2021-08-30T14:37:53.571Z"
   },
   {
    "duration": 5,
    "start_time": "2021-08-30T14:38:41.641Z"
   },
   {
    "duration": 6,
    "start_time": "2021-08-30T14:38:43.345Z"
   },
   {
    "duration": 9,
    "start_time": "2021-08-30T14:38:43.787Z"
   },
   {
    "duration": 8,
    "start_time": "2021-08-30T14:39:18.059Z"
   },
   {
    "duration": 10,
    "start_time": "2021-08-30T14:39:18.634Z"
   },
   {
    "duration": 9,
    "start_time": "2021-08-30T14:39:18.873Z"
   },
   {
    "duration": 6,
    "start_time": "2021-08-30T14:39:50.612Z"
   },
   {
    "duration": 6,
    "start_time": "2021-08-30T14:39:52.537Z"
   },
   {
    "duration": 9,
    "start_time": "2021-08-30T14:39:52.920Z"
   },
   {
    "duration": 5,
    "start_time": "2021-08-30T14:39:57.913Z"
   },
   {
    "duration": 9,
    "start_time": "2021-08-30T14:39:58.202Z"
   },
   {
    "duration": 12,
    "start_time": "2021-08-30T14:39:58.515Z"
   },
   {
    "duration": 5,
    "start_time": "2021-08-30T14:40:11.604Z"
   },
   {
    "duration": 6,
    "start_time": "2021-08-30T14:40:12.698Z"
   },
   {
    "duration": 10,
    "start_time": "2021-08-30T14:40:13.056Z"
   },
   {
    "duration": 5,
    "start_time": "2021-08-30T14:40:16.025Z"
   },
   {
    "duration": 7,
    "start_time": "2021-08-30T14:40:16.210Z"
   },
   {
    "duration": 12,
    "start_time": "2021-08-30T14:40:16.634Z"
   },
   {
    "duration": 5,
    "start_time": "2021-08-30T14:40:32.154Z"
   },
   {
    "duration": 7,
    "start_time": "2021-08-30T14:40:34.841Z"
   },
   {
    "duration": 9,
    "start_time": "2021-08-30T14:40:35.578Z"
   },
   {
    "duration": 5,
    "start_time": "2021-08-30T14:40:38.553Z"
   },
   {
    "duration": 8,
    "start_time": "2021-08-30T14:40:39.874Z"
   },
   {
    "duration": 8,
    "start_time": "2021-08-30T14:40:40.098Z"
   },
   {
    "duration": 9,
    "start_time": "2021-08-30T14:40:40.384Z"
   },
   {
    "duration": 6,
    "start_time": "2021-08-30T14:40:56.260Z"
   },
   {
    "duration": 12,
    "start_time": "2021-08-30T14:40:57.667Z"
   },
   {
    "duration": 448,
    "start_time": "2021-08-30T14:41:25.403Z"
   },
   {
    "duration": 9,
    "start_time": "2021-08-30T14:41:26.153Z"
   },
   {
    "duration": 322,
    "start_time": "2021-08-30T14:41:33.473Z"
   },
   {
    "duration": 11,
    "start_time": "2021-08-30T14:41:41.960Z"
   },
   {
    "duration": 8,
    "start_time": "2021-08-30T14:41:59.747Z"
   },
   {
    "duration": 11,
    "start_time": "2021-08-30T14:42:00.352Z"
   },
   {
    "duration": 12,
    "start_time": "2021-08-30T14:42:00.760Z"
   },
   {
    "duration": 7,
    "start_time": "2021-08-30T14:42:19.192Z"
   },
   {
    "duration": 9,
    "start_time": "2021-08-30T14:42:26.808Z"
   },
   {
    "duration": 9,
    "start_time": "2021-08-30T14:42:27.167Z"
   },
   {
    "duration": 5,
    "start_time": "2021-08-30T14:42:34.577Z"
   },
   {
    "duration": 8,
    "start_time": "2021-08-30T14:42:34.871Z"
   },
   {
    "duration": 10,
    "start_time": "2021-08-30T14:42:35.214Z"
   },
   {
    "duration": 7,
    "start_time": "2021-08-30T14:42:45.377Z"
   },
   {
    "duration": 16,
    "start_time": "2021-08-30T14:42:45.817Z"
   },
   {
    "duration": 5,
    "start_time": "2021-08-30T14:42:52.457Z"
   },
   {
    "duration": 11,
    "start_time": "2021-08-30T14:42:52.855Z"
   },
   {
    "duration": 5,
    "start_time": "2021-08-30T14:43:08.338Z"
   },
   {
    "duration": 10,
    "start_time": "2021-08-30T14:43:08.855Z"
   },
   {
    "duration": 4,
    "start_time": "2021-08-30T14:43:13.815Z"
   },
   {
    "duration": 10,
    "start_time": "2021-08-30T14:43:14.822Z"
   },
   {
    "duration": 6,
    "start_time": "2021-08-30T14:43:22.215Z"
   },
   {
    "duration": 7,
    "start_time": "2021-08-30T14:43:23.440Z"
   },
   {
    "duration": 10,
    "start_time": "2021-08-30T14:43:23.830Z"
   },
   {
    "duration": 5,
    "start_time": "2021-08-30T14:43:34.687Z"
   },
   {
    "duration": 7,
    "start_time": "2021-08-30T14:43:34.951Z"
   },
   {
    "duration": 9,
    "start_time": "2021-08-30T14:43:35.361Z"
   },
   {
    "duration": 5,
    "start_time": "2021-08-30T14:43:39.343Z"
   },
   {
    "duration": 7,
    "start_time": "2021-08-30T14:43:39.599Z"
   },
   {
    "duration": 12,
    "start_time": "2021-08-30T14:43:39.999Z"
   },
   {
    "duration": 5,
    "start_time": "2021-08-30T14:43:46.113Z"
   },
   {
    "duration": 12,
    "start_time": "2021-08-30T14:43:46.504Z"
   },
   {
    "duration": 7,
    "start_time": "2021-08-30T14:43:52.665Z"
   },
   {
    "duration": 10,
    "start_time": "2021-08-30T14:43:53.007Z"
   },
   {
    "duration": 5,
    "start_time": "2021-08-30T14:43:53.415Z"
   },
   {
    "duration": 5,
    "start_time": "2021-08-30T15:05:42.618Z"
   },
   {
    "duration": 333,
    "start_time": "2021-08-30T15:05:43.033Z"
   },
   {
    "duration": -396,
    "start_time": "2021-08-30T15:05:43.765Z"
   },
   {
    "duration": 7,
    "start_time": "2021-08-30T15:05:51.050Z"
   },
   {
    "duration": 6,
    "start_time": "2021-08-30T15:05:52.427Z"
   },
   {
    "duration": 7,
    "start_time": "2021-08-30T15:05:52.721Z"
   },
   {
    "duration": 9,
    "start_time": "2021-08-30T15:05:53.234Z"
   },
   {
    "duration": 6,
    "start_time": "2021-08-30T15:05:56.106Z"
   },
   {
    "duration": 7,
    "start_time": "2021-08-30T15:05:56.329Z"
   },
   {
    "duration": 10,
    "start_time": "2021-08-30T15:05:56.579Z"
   },
   {
    "duration": 13,
    "start_time": "2021-08-30T15:05:59.779Z"
   },
   {
    "duration": 7,
    "start_time": "2021-08-30T15:06:11.042Z"
   },
   {
    "duration": 10,
    "start_time": "2021-08-30T15:06:11.691Z"
   },
   {
    "duration": 5,
    "start_time": "2021-08-30T15:06:27.819Z"
   },
   {
    "duration": 7,
    "start_time": "2021-08-30T15:06:28.137Z"
   },
   {
    "duration": 9,
    "start_time": "2021-08-30T15:06:28.569Z"
   },
   {
    "duration": 3,
    "start_time": "2021-08-30T15:06:28.953Z"
   },
   {
    "duration": 5,
    "start_time": "2021-08-30T15:06:32.721Z"
   },
   {
    "duration": 8,
    "start_time": "2021-08-30T15:06:33.249Z"
   },
   {
    "duration": 5,
    "start_time": "2021-08-30T15:06:36.739Z"
   },
   {
    "duration": 8,
    "start_time": "2021-08-30T15:06:37.018Z"
   },
   {
    "duration": 6,
    "start_time": "2021-08-30T15:07:07.193Z"
   },
   {
    "duration": 1564,
    "start_time": "2021-08-30T15:07:07.609Z"
   },
   {
    "duration": -428,
    "start_time": "2021-08-30T15:07:09.604Z"
   },
   {
    "duration": -431,
    "start_time": "2021-08-30T15:07:09.609Z"
   },
   {
    "duration": 1414,
    "start_time": "2021-08-30T15:07:12.441Z"
   },
   {
    "duration": 9,
    "start_time": "2021-08-30T15:07:13.906Z"
   },
   {
    "duration": 7,
    "start_time": "2021-08-30T15:07:46.162Z"
   },
   {
    "duration": 6,
    "start_time": "2021-08-30T15:07:47.897Z"
   },
   {
    "duration": 7,
    "start_time": "2021-08-30T15:07:48.543Z"
   },
   {
    "duration": 10,
    "start_time": "2021-08-30T15:07:49.921Z"
   },
   {
    "duration": 1450,
    "start_time": "2021-08-30T15:07:55.058Z"
   },
   {
    "duration": -434,
    "start_time": "2021-08-30T15:07:56.945Z"
   },
   {
    "duration": 1679,
    "start_time": "2021-08-30T15:07:58.041Z"
   },
   {
    "duration": -419,
    "start_time": "2021-08-30T15:08:00.142Z"
   },
   {
    "duration": 6,
    "start_time": "2021-08-30T15:08:07.490Z"
   },
   {
    "duration": 7,
    "start_time": "2021-08-30T15:08:07.826Z"
   },
   {
    "duration": 9,
    "start_time": "2021-08-30T15:08:08.640Z"
   },
   {
    "duration": 6,
    "start_time": "2021-08-30T15:08:18.408Z"
   },
   {
    "duration": 6,
    "start_time": "2021-08-30T15:08:20.217Z"
   },
   {
    "duration": 10,
    "start_time": "2021-08-30T15:08:20.536Z"
   },
   {
    "duration": 5,
    "start_time": "2021-08-30T15:08:30.818Z"
   },
   {
    "duration": 7,
    "start_time": "2021-08-30T15:08:31.217Z"
   },
   {
    "duration": 12,
    "start_time": "2021-08-30T15:08:31.658Z"
   },
   {
    "duration": 119,
    "start_time": "2021-08-30T15:08:41.921Z"
   },
   {
    "duration": 322,
    "start_time": "2021-08-30T15:08:45.945Z"
   },
   {
    "duration": 5,
    "start_time": "2021-08-30T15:08:46.439Z"
   },
   {
    "duration": 309,
    "start_time": "2021-08-30T15:08:51.520Z"
   },
   {
    "duration": 8,
    "start_time": "2021-08-30T15:08:58.968Z"
   },
   {
    "duration": 5,
    "start_time": "2021-08-30T15:09:00.808Z"
   },
   {
    "duration": 9,
    "start_time": "2021-08-30T15:09:01.232Z"
   },
   {
    "duration": 6,
    "start_time": "2021-08-30T15:09:03.791Z"
   },
   {
    "duration": 6,
    "start_time": "2021-08-30T15:09:04.119Z"
   },
   {
    "duration": 10,
    "start_time": "2021-08-30T15:09:04.472Z"
   },
   {
    "duration": 6,
    "start_time": "2021-08-30T15:09:19.224Z"
   },
   {
    "duration": 6,
    "start_time": "2021-08-30T15:09:26.360Z"
   },
   {
    "duration": 7,
    "start_time": "2021-08-30T15:09:26.638Z"
   },
   {
    "duration": 9,
    "start_time": "2021-08-30T15:09:27.025Z"
   },
   {
    "duration": 5,
    "start_time": "2021-08-30T15:09:42.617Z"
   },
   {
    "duration": 8,
    "start_time": "2021-08-30T15:09:44.400Z"
   },
   {
    "duration": 320,
    "start_time": "2021-08-30T15:10:04.329Z"
   },
   {
    "duration": 113,
    "start_time": "2021-08-30T15:10:33.360Z"
   },
   {
    "duration": 350,
    "start_time": "2021-08-30T15:10:37.400Z"
   },
   {
    "duration": 6,
    "start_time": "2021-08-30T15:11:50.374Z"
   },
   {
    "duration": 8,
    "start_time": "2021-08-30T15:11:52.344Z"
   },
   {
    "duration": 6,
    "start_time": "2021-08-30T15:13:12.051Z"
   },
   {
    "duration": 12,
    "start_time": "2021-08-30T15:13:12.574Z"
   },
   {
    "duration": 14,
    "start_time": "2021-08-30T15:13:12.975Z"
   },
   {
    "duration": 5,
    "start_time": "2021-08-30T15:13:22.133Z"
   },
   {
    "duration": 10,
    "start_time": "2021-08-30T15:13:22.598Z"
   },
   {
    "duration": 11,
    "start_time": "2021-08-30T15:13:27.758Z"
   },
   {
    "duration": 8,
    "start_time": "2021-08-30T15:13:29.191Z"
   },
   {
    "duration": 11,
    "start_time": "2021-08-30T15:13:29.607Z"
   },
   {
    "duration": 157,
    "start_time": "2021-08-30T15:13:41.470Z"
   },
   {
    "duration": 6,
    "start_time": "2021-08-30T15:13:42.055Z"
   },
   {
    "duration": 6,
    "start_time": "2021-08-30T15:13:45.970Z"
   },
   {
    "duration": 7,
    "start_time": "2021-08-30T15:13:46.345Z"
   },
   {
    "duration": 10,
    "start_time": "2021-08-30T15:13:50.278Z"
   },
   {
    "duration": 5,
    "start_time": "2021-08-30T15:13:58.174Z"
   },
   {
    "duration": 10,
    "start_time": "2021-08-30T15:13:58.421Z"
   },
   {
    "duration": 5,
    "start_time": "2021-08-30T15:14:01.165Z"
   },
   {
    "duration": 10,
    "start_time": "2021-08-30T15:14:01.421Z"
   },
   {
    "duration": 5,
    "start_time": "2021-08-30T15:14:12.574Z"
   },
   {
    "duration": 11,
    "start_time": "2021-08-30T15:14:13.022Z"
   },
   {
    "duration": 86,
    "start_time": "2021-08-30T15:15:25.828Z"
   },
   {
    "duration": 5,
    "start_time": "2021-08-30T15:15:35.790Z"
   },
   {
    "duration": 6,
    "start_time": "2021-08-30T15:15:36.724Z"
   },
   {
    "duration": 10,
    "start_time": "2021-08-30T15:15:37.052Z"
   },
   {
    "duration": 4,
    "start_time": "2021-08-30T15:15:41.669Z"
   },
   {
    "duration": 10,
    "start_time": "2021-08-30T15:15:42.348Z"
   },
   {
    "duration": 6,
    "start_time": "2021-08-30T15:16:04.504Z"
   },
   {
    "duration": 9,
    "start_time": "2021-08-30T15:16:04.842Z"
   },
   {
    "duration": 11,
    "start_time": "2021-08-30T15:16:05.399Z"
   },
   {
    "duration": 6,
    "start_time": "2021-08-30T15:16:19.669Z"
   },
   {
    "duration": 8,
    "start_time": "2021-08-30T15:16:19.900Z"
   },
   {
    "duration": 11,
    "start_time": "2021-08-30T15:16:20.324Z"
   },
   {
    "duration": 9,
    "start_time": "2021-08-30T15:16:22.653Z"
   },
   {
    "duration": 8,
    "start_time": "2021-08-30T15:16:22.883Z"
   },
   {
    "duration": 10,
    "start_time": "2021-08-30T15:16:23.163Z"
   },
   {
    "duration": 6,
    "start_time": "2021-08-30T15:16:28.148Z"
   },
   {
    "duration": 9,
    "start_time": "2021-08-30T15:16:28.364Z"
   },
   {
    "duration": 9,
    "start_time": "2021-08-30T15:16:28.605Z"
   },
   {
    "duration": 9,
    "start_time": "2021-08-30T15:16:38.749Z"
   },
   {
    "duration": 6,
    "start_time": "2021-08-30T15:16:38.996Z"
   },
   {
    "duration": 9,
    "start_time": "2021-08-30T15:16:39.379Z"
   },
   {
    "duration": 5,
    "start_time": "2021-08-30T15:16:49.302Z"
   },
   {
    "duration": 10,
    "start_time": "2021-08-30T15:16:49.611Z"
   },
   {
    "duration": 4,
    "start_time": "2021-08-30T15:16:53.446Z"
   },
   {
    "duration": 10,
    "start_time": "2021-08-30T15:16:53.692Z"
   },
   {
    "duration": 6,
    "start_time": "2021-08-30T15:17:05.107Z"
   },
   {
    "duration": 7,
    "start_time": "2021-08-30T15:17:06.036Z"
   },
   {
    "duration": 1668,
    "start_time": "2021-08-30T15:17:12.221Z"
   },
   {
    "duration": 48,
    "start_time": "2021-08-30T15:17:13.891Z"
   },
   {
    "duration": 8,
    "start_time": "2021-08-30T15:17:13.942Z"
   },
   {
    "duration": 25,
    "start_time": "2021-08-30T15:17:13.953Z"
   },
   {
    "duration": 5,
    "start_time": "2021-08-30T15:17:13.981Z"
   },
   {
    "duration": 14,
    "start_time": "2021-08-30T15:17:13.989Z"
   },
   {
    "duration": 1634,
    "start_time": "2021-08-30T15:17:14.005Z"
   },
   {
    "duration": 884,
    "start_time": "2021-08-30T15:17:15.642Z"
   },
   {
    "duration": 5,
    "start_time": "2021-08-30T15:17:16.531Z"
   },
   {
    "duration": 3053,
    "start_time": "2021-08-30T15:17:16.539Z"
   },
   {
    "duration": 2848,
    "start_time": "2021-08-30T15:17:19.595Z"
   },
   {
    "duration": 1002,
    "start_time": "2021-08-30T15:17:22.446Z"
   },
   {
    "duration": 1063,
    "start_time": "2021-08-30T15:17:23.451Z"
   },
   {
    "duration": 5,
    "start_time": "2021-08-30T15:17:24.517Z"
   },
   {
    "duration": 48,
    "start_time": "2021-08-30T15:17:24.524Z"
   },
   {
    "duration": 7,
    "start_time": "2021-08-30T15:17:24.574Z"
   },
   {
    "duration": 6,
    "start_time": "2021-08-30T15:17:24.584Z"
   },
   {
    "duration": 7,
    "start_time": "2021-08-30T15:17:24.593Z"
   },
   {
    "duration": 11,
    "start_time": "2021-08-30T15:17:24.603Z"
   },
   {
    "duration": 6,
    "start_time": "2021-08-30T15:17:24.617Z"
   },
   {
    "duration": 8,
    "start_time": "2021-08-30T15:17:24.668Z"
   },
   {
    "duration": 18,
    "start_time": "2021-08-30T15:17:24.678Z"
   },
   {
    "duration": 11,
    "start_time": "2021-08-30T15:17:24.698Z"
   },
   {
    "duration": 132763,
    "start_time": "2021-08-30T15:17:24.712Z"
   },
   {
    "duration": 189,
    "start_time": "2021-08-30T15:19:37.480Z"
   },
   {
    "duration": 247,
    "start_time": "2021-08-30T15:19:37.675Z"
   },
   {
    "duration": 10241,
    "start_time": "2021-08-30T15:19:37.926Z"
   },
   {
    "duration": 13019,
    "start_time": "2021-08-30T15:19:48.170Z"
   },
   {
    "duration": 85,
    "start_time": "2021-08-30T15:20:01.191Z"
   },
   {
    "duration": 679,
    "start_time": "2021-08-30T15:20:01.279Z"
   },
   {
    "duration": 19,
    "start_time": "2021-08-30T15:20:01.961Z"
   },
   {
    "duration": 2809,
    "start_time": "2021-08-30T15:40:24.454Z"
   },
   {
    "duration": 1921,
    "start_time": "2021-08-30T15:40:30.742Z"
   },
   {
    "duration": 1740,
    "start_time": "2021-08-30T15:40:45.013Z"
   },
   {
    "duration": 1850,
    "start_time": "2021-08-30T15:40:53.823Z"
   },
   {
    "duration": 1965,
    "start_time": "2021-08-30T15:41:00.856Z"
   },
   {
    "duration": 47,
    "start_time": "2021-08-30T15:41:45.605Z"
   },
   {
    "duration": 9,
    "start_time": "2021-08-30T15:41:46.244Z"
   },
   {
    "duration": 10,
    "start_time": "2021-08-30T15:41:48.479Z"
   },
   {
    "duration": 6,
    "start_time": "2021-08-30T15:42:13.959Z"
   },
   {
    "duration": 5,
    "start_time": "2021-08-30T15:42:23.596Z"
   },
   {
    "duration": 127,
    "start_time": "2021-08-30T15:42:35.436Z"
   },
   {
    "duration": 99,
    "start_time": "2021-08-30T15:42:37.141Z"
   },
   {
    "duration": 8,
    "start_time": "2021-08-30T15:42:42.078Z"
   },
   {
    "duration": 2087,
    "start_time": "2021-08-30T15:43:01.620Z"
   },
   {
    "duration": 14,
    "start_time": "2021-08-30T15:43:03.981Z"
   },
   {
    "duration": 45,
    "start_time": "2021-08-30T15:43:04.492Z"
   },
   {
    "duration": 9,
    "start_time": "2021-08-30T15:43:04.645Z"
   },
   {
    "duration": 10,
    "start_time": "2021-08-30T15:43:04.795Z"
   },
   {
    "duration": 7,
    "start_time": "2021-08-30T15:43:05.669Z"
   },
   {
    "duration": 6,
    "start_time": "2021-08-30T15:43:06.339Z"
   },
   {
    "duration": 1868,
    "start_time": "2021-08-30T15:43:06.716Z"
   },
   {
    "duration": 10,
    "start_time": "2021-08-30T15:43:30.710Z"
   },
   {
    "duration": 18,
    "start_time": "2021-08-30T15:51:25.839Z"
   },
   {
    "duration": 867,
    "start_time": "2021-08-30T15:59:25.619Z"
   },
   {
    "duration": 872,
    "start_time": "2021-08-30T15:59:31.957Z"
   },
   {
    "duration": 13,
    "start_time": "2021-08-30T15:59:38.797Z"
   },
   {
    "duration": 13,
    "start_time": "2021-08-30T15:59:46.558Z"
   },
   {
    "duration": 3451,
    "start_time": "2021-08-30T16:00:01.171Z"
   },
   {
    "duration": 3830,
    "start_time": "2021-08-30T16:00:19.420Z"
   },
   {
    "duration": 102,
    "start_time": "2021-08-30T16:34:13.807Z"
   },
   {
    "duration": 2849,
    "start_time": "2021-08-30T16:35:06.360Z"
   },
   {
    "duration": 3001,
    "start_time": "2021-08-30T16:35:17.491Z"
   },
   {
    "duration": 903,
    "start_time": "2021-08-30T16:39:58.776Z"
   },
   {
    "duration": 1007,
    "start_time": "2021-08-30T16:41:06.653Z"
   },
   {
    "duration": 936,
    "start_time": "2021-08-30T16:41:22.378Z"
   },
   {
    "duration": 949,
    "start_time": "2021-08-30T16:41:26.908Z"
   },
   {
    "duration": 5,
    "start_time": "2021-08-30T16:44:15.098Z"
   },
   {
    "duration": 28,
    "start_time": "2021-08-30T16:44:16.969Z"
   },
   {
    "duration": 20,
    "start_time": "2021-08-30T16:45:13.824Z"
   },
   {
    "duration": 8,
    "start_time": "2021-08-30T16:45:20.607Z"
   },
   {
    "duration": 7,
    "start_time": "2021-08-30T16:45:25.590Z"
   },
   {
    "duration": 10,
    "start_time": "2021-08-30T16:45:36.719Z"
   },
   {
    "duration": 5,
    "start_time": "2021-08-30T16:45:38.456Z"
   },
   {
    "duration": 5,
    "start_time": "2021-08-30T16:45:40.568Z"
   },
   {
    "duration": 5,
    "start_time": "2021-08-30T16:45:49.815Z"
   },
   {
    "duration": 8,
    "start_time": "2021-08-30T16:45:52.456Z"
   },
   {
    "duration": 4,
    "start_time": "2021-08-30T16:46:49.614Z"
   },
   {
    "duration": 4,
    "start_time": "2021-08-30T16:47:46.159Z"
   },
   {
    "duration": 4,
    "start_time": "2021-08-30T16:47:56.173Z"
   },
   {
    "duration": 30898,
    "start_time": "2021-08-30T16:48:50.380Z"
   },
   {
    "duration": 4,
    "start_time": "2021-08-30T16:49:21.280Z"
   },
   {
    "duration": 1595,
    "start_time": "2021-08-30T16:50:47.006Z"
   },
   {
    "duration": 47,
    "start_time": "2021-08-30T16:50:48.604Z"
   },
   {
    "duration": 17,
    "start_time": "2021-08-30T16:50:48.653Z"
   },
   {
    "duration": 13,
    "start_time": "2021-08-30T16:50:48.673Z"
   },
   {
    "duration": 7,
    "start_time": "2021-08-30T16:50:48.688Z"
   },
   {
    "duration": 7,
    "start_time": "2021-08-30T16:50:48.697Z"
   },
   {
    "duration": 1552,
    "start_time": "2021-08-30T16:50:48.707Z"
   },
   {
    "duration": 860,
    "start_time": "2021-08-30T16:50:50.266Z"
   },
   {
    "duration": 9,
    "start_time": "2021-08-30T16:50:51.130Z"
   },
   {
    "duration": 3155,
    "start_time": "2021-08-30T16:50:51.142Z"
   },
   {
    "duration": 2946,
    "start_time": "2021-08-30T16:50:54.299Z"
   },
   {
    "duration": 1034,
    "start_time": "2021-08-30T16:50:57.248Z"
   },
   {
    "duration": 6,
    "start_time": "2021-08-30T16:50:58.285Z"
   },
   {
    "duration": 30,
    "start_time": "2021-08-30T16:50:58.294Z"
   },
   {
    "duration": 43,
    "start_time": "2021-08-30T16:50:58.327Z"
   },
   {
    "duration": 6,
    "start_time": "2021-08-30T16:50:58.372Z"
   },
   {
    "duration": 7,
    "start_time": "2021-08-30T16:50:58.380Z"
   },
   {
    "duration": 13,
    "start_time": "2021-08-30T16:50:58.389Z"
   },
   {
    "duration": 6,
    "start_time": "2021-08-30T16:50:58.405Z"
   },
   {
    "duration": 5,
    "start_time": "2021-08-30T16:50:58.414Z"
   },
   {
    "duration": 16259,
    "start_time": "2021-08-30T16:50:58.422Z"
   },
   {
    "duration": 111,
    "start_time": "2021-08-30T16:51:14.767Z"
   },
   {
    "duration": 246,
    "start_time": "2021-08-30T16:51:14.969Z"
   },
   {
    "duration": 1464,
    "start_time": "2021-08-30T16:51:15.217Z"
   },
   {
    "duration": 1493,
    "start_time": "2021-08-30T16:51:16.684Z"
   },
   {
    "duration": 14,
    "start_time": "2021-08-30T16:51:18.179Z"
   },
   {
    "duration": 604,
    "start_time": "2021-08-30T16:51:18.269Z"
   },
   {
    "duration": 10,
    "start_time": "2021-08-30T16:51:18.875Z"
   },
   {
    "duration": 95,
    "start_time": "2021-08-30T17:04:59.646Z"
   },
   {
    "duration": 1558,
    "start_time": "2021-08-30T17:05:03.916Z"
   },
   {
    "duration": 10,
    "start_time": "2021-08-30T17:05:10.765Z"
   },
   {
    "duration": 435,
    "start_time": "2021-08-30T17:07:13.156Z"
   },
   {
    "duration": 13,
    "start_time": "2021-08-30T17:07:39.813Z"
   },
   {
    "duration": 12,
    "start_time": "2021-08-30T17:07:41.907Z"
   },
   {
    "duration": 477,
    "start_time": "2021-08-30T17:07:54.476Z"
   },
   {
    "duration": 594,
    "start_time": "2021-08-30T17:08:04.003Z"
   },
   {
    "duration": 573,
    "start_time": "2021-08-30T17:08:13.700Z"
   },
   {
    "duration": 629,
    "start_time": "2021-08-30T17:08:16.531Z"
   },
   {
    "duration": 773,
    "start_time": "2021-08-30T17:08:25.230Z"
   },
   {
    "duration": 519,
    "start_time": "2021-08-30T17:08:59.386Z"
   },
   {
    "duration": 763,
    "start_time": "2021-08-30T17:09:06.404Z"
   },
   {
    "duration": 615,
    "start_time": "2021-08-30T17:09:10.179Z"
   },
   {
    "duration": 2091,
    "start_time": "2021-08-30T17:09:28.164Z"
   },
   {
    "duration": 1939,
    "start_time": "2021-08-30T17:09:40.570Z"
   },
   {
    "duration": 2100,
    "start_time": "2021-08-30T17:09:44.939Z"
   },
   {
    "duration": 1646,
    "start_time": "2021-08-30T17:09:54.193Z"
   },
   {
    "duration": 49,
    "start_time": "2021-08-30T17:09:55.842Z"
   },
   {
    "duration": 9,
    "start_time": "2021-08-30T17:09:55.894Z"
   },
   {
    "duration": 13,
    "start_time": "2021-08-30T17:09:55.906Z"
   },
   {
    "duration": 7,
    "start_time": "2021-08-30T17:09:55.921Z"
   },
   {
    "duration": 37,
    "start_time": "2021-08-30T17:09:55.930Z"
   },
   {
    "duration": 2219,
    "start_time": "2021-08-30T17:09:55.970Z"
   },
   {
    "duration": 1076,
    "start_time": "2021-08-30T17:09:58.193Z"
   },
   {
    "duration": 11,
    "start_time": "2021-08-30T17:09:59.273Z"
   },
   {
    "duration": 3412,
    "start_time": "2021-08-30T17:09:59.287Z"
   },
   {
    "duration": 3228,
    "start_time": "2021-08-30T17:10:02.701Z"
   },
   {
    "duration": 1075,
    "start_time": "2021-08-30T17:10:05.932Z"
   },
   {
    "duration": 5,
    "start_time": "2021-08-30T17:10:07.009Z"
   },
   {
    "duration": 34,
    "start_time": "2021-08-30T17:10:07.016Z"
   },
   {
    "duration": 11,
    "start_time": "2021-08-30T17:10:07.067Z"
   },
   {
    "duration": 6,
    "start_time": "2021-08-30T17:10:07.080Z"
   },
   {
    "duration": 8,
    "start_time": "2021-08-30T17:10:07.088Z"
   },
   {
    "duration": 10,
    "start_time": "2021-08-30T17:10:07.098Z"
   },
   {
    "duration": 9,
    "start_time": "2021-08-30T17:10:07.111Z"
   },
   {
    "duration": 44,
    "start_time": "2021-08-30T17:10:07.123Z"
   },
   {
    "duration": 15898,
    "start_time": "2021-08-30T17:10:07.170Z"
   },
   {
    "duration": 298,
    "start_time": "2021-08-30T17:10:23.071Z"
   },
   {
    "duration": 591,
    "start_time": "2021-08-30T17:10:23.376Z"
   },
   {
    "duration": 1403,
    "start_time": "2021-08-30T17:10:23.971Z"
   },
   {
    "duration": 10,
    "start_time": "2021-08-30T17:10:25.377Z"
   },
   {
    "duration": 514,
    "start_time": "2021-08-30T17:10:25.390Z"
   },
   {
    "duration": -462,
    "start_time": "2021-08-30T17:10:26.368Z"
   },
   {
    "duration": -463,
    "start_time": "2021-08-30T17:10:26.371Z"
   },
   {
    "duration": 11,
    "start_time": "2021-08-30T17:10:37.094Z"
   },
   {
    "duration": 254,
    "start_time": "2021-08-30T17:11:04.112Z"
   },
   {
    "duration": 342,
    "start_time": "2021-08-30T17:11:11.545Z"
   },
   {
    "duration": 318,
    "start_time": "2021-08-30T17:11:16.665Z"
   },
   {
    "duration": 800,
    "start_time": "2021-08-30T17:11:22.690Z"
   },
   {
    "duration": 643,
    "start_time": "2021-08-30T17:11:27.024Z"
   },
   {
    "duration": 701,
    "start_time": "2021-08-30T17:11:34.177Z"
   },
   {
    "duration": 40,
    "start_time": "2021-08-30T17:18:27.397Z"
   },
   {
    "duration": 1650,
    "start_time": "2021-08-30T17:18:52.174Z"
   },
   {
    "duration": 48,
    "start_time": "2021-08-30T17:18:53.827Z"
   },
   {
    "duration": 9,
    "start_time": "2021-08-30T17:18:53.878Z"
   },
   {
    "duration": 25,
    "start_time": "2021-08-30T17:18:53.890Z"
   },
   {
    "duration": 23,
    "start_time": "2021-08-30T17:18:53.918Z"
   },
   {
    "duration": 18,
    "start_time": "2021-08-30T17:18:53.943Z"
   },
   {
    "duration": 1776,
    "start_time": "2021-08-30T17:18:53.964Z"
   },
   {
    "duration": 1049,
    "start_time": "2021-08-30T17:18:55.744Z"
   },
   {
    "duration": 9,
    "start_time": "2021-08-30T17:18:56.796Z"
   },
   {
    "duration": 3308,
    "start_time": "2021-08-30T17:18:56.808Z"
   },
   {
    "duration": 3306,
    "start_time": "2021-08-30T17:19:00.118Z"
   },
   {
    "duration": 1061,
    "start_time": "2021-08-30T17:19:03.427Z"
   },
   {
    "duration": 6,
    "start_time": "2021-08-30T17:19:04.490Z"
   },
   {
    "duration": 73,
    "start_time": "2021-08-30T17:19:04.498Z"
   },
   {
    "duration": 12,
    "start_time": "2021-08-30T17:19:04.574Z"
   },
   {
    "duration": 7,
    "start_time": "2021-08-30T17:19:04.588Z"
   },
   {
    "duration": 8,
    "start_time": "2021-08-30T17:19:04.598Z"
   },
   {
    "duration": 7,
    "start_time": "2021-08-30T17:19:04.609Z"
   },
   {
    "duration": 48,
    "start_time": "2021-08-30T17:19:04.619Z"
   },
   {
    "duration": 4,
    "start_time": "2021-08-30T17:19:04.669Z"
   },
   {
    "duration": 21397,
    "start_time": "2021-08-30T17:19:04.675Z"
   },
   {
    "duration": 301,
    "start_time": "2021-08-30T17:19:26.075Z"
   },
   {
    "duration": 955,
    "start_time": "2021-08-30T17:19:26.472Z"
   },
   {
    "duration": 1987,
    "start_time": "2021-08-30T17:19:27.431Z"
   },
   {
    "duration": 10,
    "start_time": "2021-08-30T17:19:29.421Z"
   },
   {
    "duration": 114,
    "start_time": "2021-08-30T17:19:29.433Z"
   },
   {
    "duration": -454,
    "start_time": "2021-08-30T17:19:30.003Z"
   },
   {
    "duration": 1590,
    "start_time": "2021-08-30T17:19:53.449Z"
   },
   {
    "duration": 48,
    "start_time": "2021-08-30T17:19:55.042Z"
   },
   {
    "duration": 8,
    "start_time": "2021-08-30T17:19:55.094Z"
   },
   {
    "duration": 14,
    "start_time": "2021-08-30T17:19:55.105Z"
   },
   {
    "duration": 8,
    "start_time": "2021-08-30T17:19:55.121Z"
   },
   {
    "duration": 38,
    "start_time": "2021-08-30T17:19:55.132Z"
   },
   {
    "duration": 1873,
    "start_time": "2021-08-30T17:19:55.172Z"
   },
   {
    "duration": 1230,
    "start_time": "2021-08-30T17:19:57.048Z"
   },
   {
    "duration": 12,
    "start_time": "2021-08-30T17:19:58.285Z"
   },
   {
    "duration": 4349,
    "start_time": "2021-08-30T17:19:58.302Z"
   },
   {
    "duration": 3356,
    "start_time": "2021-08-30T17:20:02.653Z"
   },
   {
    "duration": 1045,
    "start_time": "2021-08-30T17:20:06.011Z"
   },
   {
    "duration": 15,
    "start_time": "2021-08-30T17:20:07.058Z"
   },
   {
    "duration": 58,
    "start_time": "2021-08-30T17:20:07.075Z"
   },
   {
    "duration": 31,
    "start_time": "2021-08-30T17:20:07.136Z"
   },
   {
    "duration": 6,
    "start_time": "2021-08-30T17:20:07.169Z"
   },
   {
    "duration": 24,
    "start_time": "2021-08-30T17:20:07.178Z"
   },
   {
    "duration": 25,
    "start_time": "2021-08-30T17:20:07.205Z"
   },
   {
    "duration": 16,
    "start_time": "2021-08-30T17:20:07.233Z"
   },
   {
    "duration": 23,
    "start_time": "2021-08-30T17:20:07.251Z"
   },
   {
    "duration": 23003,
    "start_time": "2021-08-30T17:20:07.276Z"
   },
   {
    "duration": 390,
    "start_time": "2021-08-30T17:20:30.281Z"
   },
   {
    "duration": 942,
    "start_time": "2021-08-30T17:20:30.674Z"
   },
   {
    "duration": 2258,
    "start_time": "2021-08-30T17:20:31.619Z"
   },
   {
    "duration": 9,
    "start_time": "2021-08-30T17:20:33.880Z"
   },
   {
    "duration": 675,
    "start_time": "2021-08-30T17:20:33.892Z"
   },
   {
    "duration": 1619,
    "start_time": "2021-08-30T17:21:48.308Z"
   },
   {
    "duration": 46,
    "start_time": "2021-08-30T17:21:49.930Z"
   },
   {
    "duration": 9,
    "start_time": "2021-08-30T17:21:49.978Z"
   },
   {
    "duration": 13,
    "start_time": "2021-08-30T17:21:49.989Z"
   },
   {
    "duration": 8,
    "start_time": "2021-08-30T17:21:50.004Z"
   },
   {
    "duration": 12,
    "start_time": "2021-08-30T17:21:50.014Z"
   },
   {
    "duration": 1860,
    "start_time": "2021-08-30T17:21:50.028Z"
   },
   {
    "duration": 999,
    "start_time": "2021-08-30T17:21:51.891Z"
   },
   {
    "duration": 10,
    "start_time": "2021-08-30T17:21:52.894Z"
   },
   {
    "duration": 3162,
    "start_time": "2021-08-30T17:21:52.906Z"
   },
   {
    "duration": 3258,
    "start_time": "2021-08-30T17:21:56.070Z"
   },
   {
    "duration": 1077,
    "start_time": "2021-08-30T17:21:59.330Z"
   },
   {
    "duration": 5,
    "start_time": "2021-08-30T17:22:00.409Z"
   },
   {
    "duration": 41,
    "start_time": "2021-08-30T17:22:00.416Z"
   },
   {
    "duration": 10,
    "start_time": "2021-08-30T17:22:00.468Z"
   },
   {
    "duration": 6,
    "start_time": "2021-08-30T17:22:00.481Z"
   },
   {
    "duration": 15,
    "start_time": "2021-08-30T17:22:00.489Z"
   },
   {
    "duration": 9,
    "start_time": "2021-08-30T17:22:00.507Z"
   },
   {
    "duration": 11,
    "start_time": "2021-08-30T17:22:00.518Z"
   },
   {
    "duration": 35,
    "start_time": "2021-08-30T17:22:00.531Z"
   },
   {
    "duration": 15610,
    "start_time": "2021-08-30T17:22:00.569Z"
   },
   {
    "duration": 387,
    "start_time": "2021-08-30T17:22:16.182Z"
   },
   {
    "duration": 630,
    "start_time": "2021-08-30T17:22:16.576Z"
   },
   {
    "duration": 1966,
    "start_time": "2021-08-30T17:22:17.208Z"
   },
   {
    "duration": 89,
    "start_time": "2021-08-30T17:22:19.178Z"
   },
   {
    "duration": 685,
    "start_time": "2021-08-30T17:22:19.270Z"
   },
   {
    "duration": 21,
    "start_time": "2021-08-30T17:23:18.071Z"
   },
   {
    "duration": 1521,
    "start_time": "2021-08-30T17:23:22.905Z"
   },
   {
    "duration": 47,
    "start_time": "2021-08-30T17:23:24.429Z"
   },
   {
    "duration": 8,
    "start_time": "2021-08-30T17:23:24.479Z"
   },
   {
    "duration": 13,
    "start_time": "2021-08-30T17:23:24.490Z"
   },
   {
    "duration": 8,
    "start_time": "2021-08-30T17:23:24.505Z"
   },
   {
    "duration": 10,
    "start_time": "2021-08-30T17:23:24.516Z"
   },
   {
    "duration": 1771,
    "start_time": "2021-08-30T17:23:24.567Z"
   },
   {
    "duration": 995,
    "start_time": "2021-08-30T17:23:26.341Z"
   },
   {
    "duration": 11,
    "start_time": "2021-08-30T17:23:27.340Z"
   },
   {
    "duration": 3619,
    "start_time": "2021-08-30T17:23:27.369Z"
   },
   {
    "duration": 3027,
    "start_time": "2021-08-30T17:23:30.990Z"
   },
   {
    "duration": 1012,
    "start_time": "2021-08-30T17:23:34.020Z"
   },
   {
    "duration": 5,
    "start_time": "2021-08-30T17:23:35.034Z"
   },
   {
    "duration": 51,
    "start_time": "2021-08-30T17:23:35.042Z"
   },
   {
    "duration": 10,
    "start_time": "2021-08-30T17:23:35.095Z"
   },
   {
    "duration": 6,
    "start_time": "2021-08-30T17:23:35.107Z"
   },
   {
    "duration": 15,
    "start_time": "2021-08-30T17:23:35.116Z"
   },
   {
    "duration": 34,
    "start_time": "2021-08-30T17:23:35.133Z"
   },
   {
    "duration": 8,
    "start_time": "2021-08-30T17:23:35.170Z"
   },
   {
    "duration": 10,
    "start_time": "2021-08-30T17:23:35.180Z"
   },
   {
    "duration": 15977,
    "start_time": "2021-08-30T17:23:35.192Z"
   },
   {
    "duration": 299,
    "start_time": "2021-08-30T17:23:51.172Z"
   },
   {
    "duration": 564,
    "start_time": "2021-08-30T17:23:51.474Z"
   },
   {
    "duration": 1426,
    "start_time": "2021-08-30T17:23:52.041Z"
   },
   {
    "duration": 10,
    "start_time": "2021-08-30T17:23:53.470Z"
   },
   {
    "duration": 786,
    "start_time": "2021-08-30T17:23:53.483Z"
   },
   {
    "duration": 1581,
    "start_time": "2021-08-30T17:26:07.579Z"
   },
   {
    "duration": 47,
    "start_time": "2021-08-30T17:26:09.163Z"
   },
   {
    "duration": 8,
    "start_time": "2021-08-30T17:26:09.213Z"
   },
   {
    "duration": 14,
    "start_time": "2021-08-30T17:26:09.224Z"
   },
   {
    "duration": 31,
    "start_time": "2021-08-30T17:26:09.240Z"
   },
   {
    "duration": 20,
    "start_time": "2021-08-30T17:26:09.273Z"
   },
   {
    "duration": 1781,
    "start_time": "2021-08-30T17:26:09.295Z"
   },
   {
    "duration": 1040,
    "start_time": "2021-08-30T17:26:11.080Z"
   },
   {
    "duration": 9,
    "start_time": "2021-08-30T17:26:12.124Z"
   },
   {
    "duration": 3557,
    "start_time": "2021-08-30T17:26:12.136Z"
   },
   {
    "duration": 3211,
    "start_time": "2021-08-30T17:26:15.696Z"
   },
   {
    "duration": 1079,
    "start_time": "2021-08-30T17:26:18.909Z"
   },
   {
    "duration": 5,
    "start_time": "2021-08-30T17:26:19.991Z"
   },
   {
    "duration": 40,
    "start_time": "2021-08-30T17:26:19.999Z"
   },
   {
    "duration": 32,
    "start_time": "2021-08-30T17:26:20.042Z"
   },
   {
    "duration": 5,
    "start_time": "2021-08-30T17:26:20.077Z"
   },
   {
    "duration": 10,
    "start_time": "2021-08-30T17:26:20.084Z"
   },
   {
    "duration": 11,
    "start_time": "2021-08-30T17:26:20.097Z"
   },
   {
    "duration": 7,
    "start_time": "2021-08-30T17:26:20.110Z"
   },
   {
    "duration": 9,
    "start_time": "2021-08-30T17:26:20.120Z"
   },
   {
    "duration": 18914,
    "start_time": "2021-08-30T17:26:20.167Z"
   },
   {
    "duration": 484,
    "start_time": "2021-08-30T17:26:39.083Z"
   },
   {
    "duration": 553,
    "start_time": "2021-08-30T17:26:39.573Z"
   },
   {
    "duration": 1353,
    "start_time": "2021-08-30T17:26:40.128Z"
   },
   {
    "duration": 11,
    "start_time": "2021-08-30T17:26:41.484Z"
   },
   {
    "duration": 825,
    "start_time": "2021-08-30T17:26:41.568Z"
   },
   {
    "duration": 37,
    "start_time": "2021-08-30T18:14:35.582Z"
   },
   {
    "duration": 35,
    "start_time": "2021-08-30T18:14:41.349Z"
   },
   {
    "duration": 1519,
    "start_time": "2021-08-30T18:14:48.596Z"
   },
   {
    "duration": 50,
    "start_time": "2021-08-30T18:14:50.117Z"
   },
   {
    "duration": 9,
    "start_time": "2021-08-30T18:14:50.170Z"
   },
   {
    "duration": 14,
    "start_time": "2021-08-30T18:14:50.181Z"
   },
   {
    "duration": 6,
    "start_time": "2021-08-30T18:14:50.197Z"
   },
   {
    "duration": 6,
    "start_time": "2021-08-30T18:14:50.205Z"
   },
   {
    "duration": 1887,
    "start_time": "2021-08-30T18:14:50.214Z"
   },
   {
    "duration": 1108,
    "start_time": "2021-08-30T18:14:52.105Z"
   },
   {
    "duration": 9,
    "start_time": "2021-08-30T18:14:53.216Z"
   },
   {
    "duration": 3208,
    "start_time": "2021-08-30T18:14:53.228Z"
   },
   {
    "duration": 3045,
    "start_time": "2021-08-30T18:14:56.439Z"
   },
   {
    "duration": 1033,
    "start_time": "2021-08-30T18:14:59.486Z"
   },
   {
    "duration": 5,
    "start_time": "2021-08-30T18:15:00.521Z"
   },
   {
    "duration": 72,
    "start_time": "2021-08-30T18:15:00.528Z"
   },
   {
    "duration": 11,
    "start_time": "2021-08-30T18:15:00.603Z"
   },
   {
    "duration": 16,
    "start_time": "2021-08-30T18:15:00.617Z"
   },
   {
    "duration": 17,
    "start_time": "2021-08-30T18:15:00.635Z"
   },
   {
    "duration": 7,
    "start_time": "2021-08-30T18:15:00.668Z"
   },
   {
    "duration": 21,
    "start_time": "2021-08-30T18:15:00.677Z"
   },
   {
    "duration": 28,
    "start_time": "2021-08-30T18:15:00.701Z"
   },
   {
    "duration": 20549,
    "start_time": "2021-08-30T18:15:00.731Z"
   },
   {
    "duration": 590,
    "start_time": "2021-08-30T18:15:21.283Z"
   },
   {
    "duration": 973,
    "start_time": "2021-08-30T18:15:21.880Z"
   },
   {
    "duration": 2139,
    "start_time": "2021-08-30T18:15:22.856Z"
   },
   {
    "duration": 10,
    "start_time": "2021-08-30T18:15:24.997Z"
   },
   {
    "duration": 690,
    "start_time": "2021-08-30T18:15:25.009Z"
   },
   {
    "duration": 774,
    "start_time": "2021-08-30T18:15:41.669Z"
   },
   {
    "duration": 6,
    "start_time": "2021-08-30T18:19:50.129Z"
   },
   {
    "duration": 24,
    "start_time": "2021-08-30T18:19:52.443Z"
   },
   {
    "duration": 32,
    "start_time": "2021-08-30T18:19:57.129Z"
   },
   {
    "duration": 31,
    "start_time": "2021-08-30T18:19:59.939Z"
   },
   {
    "duration": 33,
    "start_time": "2021-08-30T18:20:13.779Z"
   },
   {
    "duration": 33,
    "start_time": "2021-08-30T18:20:16.154Z"
   },
   {
    "duration": 33,
    "start_time": "2021-08-30T18:20:22.178Z"
   },
   {
    "duration": 9,
    "start_time": "2021-08-30T18:21:03.153Z"
   },
   {
    "duration": 31,
    "start_time": "2021-08-30T18:21:03.306Z"
   },
   {
    "duration": 31,
    "start_time": "2021-08-30T18:21:42.905Z"
   },
   {
    "duration": 22,
    "start_time": "2021-08-30T18:23:43.272Z"
   },
   {
    "duration": 23,
    "start_time": "2021-08-30T18:23:58.089Z"
   },
   {
    "duration": 24,
    "start_time": "2021-08-30T18:24:17.211Z"
   },
   {
    "duration": 7,
    "start_time": "2021-08-30T18:24:23.345Z"
   },
   {
    "duration": 43,
    "start_time": "2021-08-30T18:24:23.846Z"
   },
   {
    "duration": 8,
    "start_time": "2021-08-30T18:24:23.991Z"
   },
   {
    "duration": 10,
    "start_time": "2021-08-30T18:24:24.153Z"
   },
   {
    "duration": 6,
    "start_time": "2021-08-30T18:24:24.575Z"
   },
   {
    "duration": 5,
    "start_time": "2021-08-30T18:24:24.878Z"
   },
   {
    "duration": 1725,
    "start_time": "2021-08-30T18:24:25.023Z"
   },
   {
    "duration": 1060,
    "start_time": "2021-08-30T18:24:26.752Z"
   },
   {
    "duration": 10,
    "start_time": "2021-08-30T18:24:27.815Z"
   },
   {
    "duration": 3309,
    "start_time": "2021-08-30T18:24:27.828Z"
   },
   {
    "duration": 3047,
    "start_time": "2021-08-30T18:24:31.140Z"
   },
   {
    "duration": 939,
    "start_time": "2021-08-30T18:24:34.190Z"
   },
   {
    "duration": 18,
    "start_time": "2021-08-30T18:24:35.132Z"
   },
   {
    "duration": 5,
    "start_time": "2021-08-30T18:24:35.167Z"
   },
   {
    "duration": 27,
    "start_time": "2021-08-30T18:24:35.175Z"
   },
   {
    "duration": 15,
    "start_time": "2021-08-30T18:25:30.368Z"
   },
   {
    "duration": 16,
    "start_time": "2021-08-30T18:25:32.718Z"
   },
   {
    "duration": 8,
    "start_time": "2021-08-30T18:26:27.807Z"
   },
   {
    "duration": 9,
    "start_time": "2021-08-30T18:26:27.986Z"
   },
   {
    "duration": 8,
    "start_time": "2021-08-30T18:26:28.130Z"
   },
   {
    "duration": 8,
    "start_time": "2021-08-30T18:26:28.283Z"
   },
   {
    "duration": 8,
    "start_time": "2021-08-30T18:26:29.030Z"
   },
   {
    "duration": 45,
    "start_time": "2021-08-30T18:26:29.493Z"
   },
   {
    "duration": 8,
    "start_time": "2021-08-30T18:26:29.647Z"
   },
   {
    "duration": 10,
    "start_time": "2021-08-30T18:26:29.783Z"
   },
   {
    "duration": 5,
    "start_time": "2021-08-30T18:26:30.190Z"
   },
   {
    "duration": 6,
    "start_time": "2021-08-30T18:26:30.461Z"
   },
   {
    "duration": 1872,
    "start_time": "2021-08-30T18:26:30.598Z"
   },
   {
    "duration": 933,
    "start_time": "2021-08-30T18:26:32.473Z"
   },
   {
    "duration": 10,
    "start_time": "2021-08-30T18:26:33.409Z"
   },
   {
    "duration": 3260,
    "start_time": "2021-08-30T18:26:33.422Z"
   },
   {
    "duration": 3023,
    "start_time": "2021-08-30T18:26:36.685Z"
   },
   {
    "duration": 1086,
    "start_time": "2021-08-30T18:26:39.711Z"
   },
   {
    "duration": 8,
    "start_time": "2021-08-30T18:26:40.800Z"
   },
   {
    "duration": 1294,
    "start_time": "2021-08-30T18:26:56.046Z"
   },
   {
    "duration": 9,
    "start_time": "2021-08-30T18:27:06.550Z"
   },
   {
    "duration": 24,
    "start_time": "2021-08-30T18:27:21.575Z"
   },
   {
    "duration": 13,
    "start_time": "2021-08-30T18:28:02.214Z"
   },
   {
    "duration": 12,
    "start_time": "2021-08-30T18:28:21.463Z"
   },
   {
    "duration": 5,
    "start_time": "2021-08-30T18:28:22.868Z"
   },
   {
    "duration": 12,
    "start_time": "2021-08-30T18:28:25.229Z"
   },
   {
    "duration": 23,
    "start_time": "2021-08-30T18:29:18.533Z"
   },
   {
    "duration": 24,
    "start_time": "2021-08-30T18:32:56.340Z"
   },
   {
    "duration": 28,
    "start_time": "2021-08-30T18:33:03.675Z"
   },
   {
    "duration": 28,
    "start_time": "2021-08-30T18:33:15.931Z"
   },
   {
    "duration": 33,
    "start_time": "2021-08-30T18:33:19.106Z"
   },
   {
    "duration": 27,
    "start_time": "2021-08-30T18:34:40.234Z"
   },
   {
    "duration": 41,
    "start_time": "2021-08-30T18:36:09.770Z"
   },
   {
    "duration": 32,
    "start_time": "2021-08-30T18:36:15.119Z"
   },
   {
    "duration": 4,
    "start_time": "2021-08-30T18:36:32.777Z"
   },
   {
    "duration": 33,
    "start_time": "2021-08-30T18:36:59.840Z"
   },
   {
    "duration": 11,
    "start_time": "2021-08-30T18:37:02.498Z"
   },
   {
    "duration": 1544,
    "start_time": "2021-08-30T18:37:10.889Z"
   },
   {
    "duration": 47,
    "start_time": "2021-08-30T18:37:12.437Z"
   },
   {
    "duration": 8,
    "start_time": "2021-08-30T18:37:12.487Z"
   },
   {
    "duration": 13,
    "start_time": "2021-08-30T18:37:12.498Z"
   },
   {
    "duration": 6,
    "start_time": "2021-08-30T18:37:12.513Z"
   },
   {
    "duration": 6,
    "start_time": "2021-08-30T18:37:12.521Z"
   },
   {
    "duration": 1838,
    "start_time": "2021-08-30T18:37:12.568Z"
   },
   {
    "duration": 1005,
    "start_time": "2021-08-30T18:37:14.410Z"
   },
   {
    "duration": 9,
    "start_time": "2021-08-30T18:37:15.419Z"
   },
   {
    "duration": 3237,
    "start_time": "2021-08-30T18:37:15.430Z"
   },
   {
    "duration": 3128,
    "start_time": "2021-08-30T18:37:18.669Z"
   },
   {
    "duration": 1291,
    "start_time": "2021-08-30T18:37:21.799Z"
   },
   {
    "duration": 24,
    "start_time": "2021-08-30T18:37:23.092Z"
   },
   {
    "duration": 15,
    "start_time": "2021-08-30T18:37:23.118Z"
   },
   {
    "duration": 56,
    "start_time": "2021-08-30T18:37:23.135Z"
   },
   {
    "duration": 10,
    "start_time": "2021-08-30T18:37:23.193Z"
   },
   {
    "duration": 6,
    "start_time": "2021-08-30T18:37:23.206Z"
   },
   {
    "duration": 6,
    "start_time": "2021-08-30T18:37:23.214Z"
   },
   {
    "duration": 9,
    "start_time": "2021-08-30T18:37:23.222Z"
   },
   {
    "duration": 7,
    "start_time": "2021-08-30T18:37:23.267Z"
   },
   {
    "duration": 5,
    "start_time": "2021-08-30T18:37:23.276Z"
   },
   {
    "duration": 18892,
    "start_time": "2021-08-30T18:37:23.283Z"
   },
   {
    "duration": 459,
    "start_time": "2021-08-30T18:37:42.177Z"
   },
   {
    "duration": -498,
    "start_time": "2021-08-30T18:37:43.136Z"
   },
   {
    "duration": -498,
    "start_time": "2021-08-30T18:37:43.138Z"
   },
   {
    "duration": -501,
    "start_time": "2021-08-30T18:37:43.143Z"
   },
   {
    "duration": -502,
    "start_time": "2021-08-30T18:37:43.146Z"
   },
   {
    "duration": 578,
    "start_time": "2021-08-30T18:38:56.029Z"
   },
   {
    "duration": 319,
    "start_time": "2021-08-30T18:38:58.856Z"
   },
   {
    "duration": 19081,
    "start_time": "2021-08-30T18:39:01.397Z"
   },
   {
    "duration": 1694,
    "start_time": "2021-08-30T18:39:20.480Z"
   },
   {
    "duration": 9,
    "start_time": "2021-08-30T18:40:30.284Z"
   },
   {
    "duration": 1616,
    "start_time": "2021-08-30T18:41:01.600Z"
   },
   {
    "duration": 56,
    "start_time": "2021-08-30T18:41:03.218Z"
   },
   {
    "duration": 9,
    "start_time": "2021-08-30T18:41:03.277Z"
   },
   {
    "duration": 13,
    "start_time": "2021-08-30T18:41:03.289Z"
   },
   {
    "duration": 6,
    "start_time": "2021-08-30T18:41:03.304Z"
   },
   {
    "duration": 8,
    "start_time": "2021-08-30T18:41:03.312Z"
   },
   {
    "duration": 1758,
    "start_time": "2021-08-30T18:41:03.322Z"
   },
   {
    "duration": 1011,
    "start_time": "2021-08-30T18:41:05.084Z"
   },
   {
    "duration": 9,
    "start_time": "2021-08-30T18:41:06.098Z"
   },
   {
    "duration": 3212,
    "start_time": "2021-08-30T18:41:06.110Z"
   },
   {
    "duration": 3146,
    "start_time": "2021-08-30T18:41:09.324Z"
   },
   {
    "duration": 1271,
    "start_time": "2021-08-30T18:41:12.473Z"
   },
   {
    "duration": 36,
    "start_time": "2021-08-30T18:41:13.747Z"
   },
   {
    "duration": 5,
    "start_time": "2021-08-30T18:41:13.786Z"
   },
   {
    "duration": 53,
    "start_time": "2021-08-30T18:41:13.794Z"
   },
   {
    "duration": 11,
    "start_time": "2021-08-30T18:41:13.867Z"
   },
   {
    "duration": 7,
    "start_time": "2021-08-30T18:41:13.881Z"
   },
   {
    "duration": 7,
    "start_time": "2021-08-30T18:41:13.890Z"
   },
   {
    "duration": 12,
    "start_time": "2021-08-30T18:41:13.899Z"
   },
   {
    "duration": 17,
    "start_time": "2021-08-30T18:41:13.913Z"
   },
   {
    "duration": 35,
    "start_time": "2021-08-30T18:41:13.932Z"
   },
   {
    "duration": 20498,
    "start_time": "2021-08-30T18:41:13.970Z"
   },
   {
    "duration": 304,
    "start_time": "2021-08-30T18:41:34.472Z"
   },
   {
    "duration": 917,
    "start_time": "2021-08-30T18:41:34.870Z"
   },
   {
    "duration": 2029,
    "start_time": "2021-08-30T18:41:35.789Z"
   },
   {
    "duration": 56,
    "start_time": "2021-08-30T18:41:37.821Z"
   },
   {
    "duration": 755,
    "start_time": "2021-08-30T18:41:37.880Z"
   },
   {
    "duration": 7400,
    "start_time": "2021-08-30T18:42:03.375Z"
   },
   {
    "duration": 1504,
    "start_time": "2021-08-30T18:42:25.513Z"
   },
   {
    "duration": 52,
    "start_time": "2021-08-30T18:42:27.020Z"
   },
   {
    "duration": 9,
    "start_time": "2021-08-30T18:42:27.075Z"
   },
   {
    "duration": 14,
    "start_time": "2021-08-30T18:42:27.087Z"
   },
   {
    "duration": 6,
    "start_time": "2021-08-30T18:42:27.103Z"
   },
   {
    "duration": 5,
    "start_time": "2021-08-30T18:42:27.112Z"
   },
   {
    "duration": 1878,
    "start_time": "2021-08-30T18:42:27.119Z"
   },
   {
    "duration": 1024,
    "start_time": "2021-08-30T18:42:29.001Z"
   },
   {
    "duration": 9,
    "start_time": "2021-08-30T18:42:30.028Z"
   },
   {
    "duration": 3315,
    "start_time": "2021-08-30T18:42:30.040Z"
   },
   {
    "duration": 3135,
    "start_time": "2021-08-30T18:42:33.357Z"
   },
   {
    "duration": 1264,
    "start_time": "2021-08-30T18:42:36.494Z"
   },
   {
    "duration": 26,
    "start_time": "2021-08-30T18:42:37.761Z"
   },
   {
    "duration": 5,
    "start_time": "2021-08-30T18:42:37.790Z"
   },
   {
    "duration": 69,
    "start_time": "2021-08-30T18:42:37.798Z"
   },
   {
    "duration": 12,
    "start_time": "2021-08-30T18:42:37.869Z"
   },
   {
    "duration": 8,
    "start_time": "2021-08-30T18:42:37.883Z"
   },
   {
    "duration": 6,
    "start_time": "2021-08-30T18:42:37.893Z"
   },
   {
    "duration": 9,
    "start_time": "2021-08-30T18:42:37.902Z"
   },
   {
    "duration": 6,
    "start_time": "2021-08-30T18:42:37.914Z"
   },
   {
    "duration": 3,
    "start_time": "2021-08-30T18:42:37.967Z"
   },
   {
    "duration": 19007,
    "start_time": "2021-08-30T18:42:37.973Z"
   },
   {
    "duration": 391,
    "start_time": "2021-08-30T18:42:56.984Z"
   },
   {
    "duration": 781,
    "start_time": "2021-08-30T18:42:57.469Z"
   },
   {
    "duration": 1836,
    "start_time": "2021-08-30T18:42:58.253Z"
   },
   {
    "duration": 11,
    "start_time": "2021-08-30T18:43:00.091Z"
   },
   {
    "duration": 647,
    "start_time": "2021-08-30T18:43:00.105Z"
   },
   {
    "duration": 1493,
    "start_time": "2021-08-30T18:43:23.119Z"
   },
   {
    "duration": 49,
    "start_time": "2021-08-30T18:43:24.615Z"
   },
   {
    "duration": 8,
    "start_time": "2021-08-30T18:43:24.667Z"
   },
   {
    "duration": 22,
    "start_time": "2021-08-30T18:43:24.678Z"
   },
   {
    "duration": 12,
    "start_time": "2021-08-30T18:43:24.703Z"
   },
   {
    "duration": 18,
    "start_time": "2021-08-30T18:43:24.717Z"
   },
   {
    "duration": 1884,
    "start_time": "2021-08-30T18:43:24.738Z"
   },
   {
    "duration": 1019,
    "start_time": "2021-08-30T18:43:26.626Z"
   },
   {
    "duration": 20,
    "start_time": "2021-08-30T18:43:27.648Z"
   },
   {
    "duration": 3324,
    "start_time": "2021-08-30T18:43:27.671Z"
   },
   {
    "duration": 3175,
    "start_time": "2021-08-30T18:43:30.997Z"
   },
   {
    "duration": 1281,
    "start_time": "2021-08-30T18:43:34.174Z"
   },
   {
    "duration": 28,
    "start_time": "2021-08-30T18:43:35.457Z"
   },
   {
    "duration": 5,
    "start_time": "2021-08-30T18:43:35.487Z"
   },
   {
    "duration": 47,
    "start_time": "2021-08-30T18:43:35.495Z"
   },
   {
    "duration": 26,
    "start_time": "2021-08-30T18:43:35.544Z"
   },
   {
    "duration": 5,
    "start_time": "2021-08-30T18:43:35.573Z"
   },
   {
    "duration": 9,
    "start_time": "2021-08-30T18:43:35.580Z"
   },
   {
    "duration": 22,
    "start_time": "2021-08-30T18:43:35.592Z"
   },
   {
    "duration": 16,
    "start_time": "2021-08-30T18:43:35.616Z"
   },
   {
    "duration": 16,
    "start_time": "2021-08-30T18:43:35.635Z"
   },
   {
    "duration": 17126,
    "start_time": "2021-08-30T18:43:35.653Z"
   },
   {
    "duration": 393,
    "start_time": "2021-08-30T18:43:52.783Z"
   },
   {
    "duration": 619,
    "start_time": "2021-08-30T18:43:53.270Z"
   },
   {
    "duration": 1586,
    "start_time": "2021-08-30T18:43:53.892Z"
   },
   {
    "duration": 10,
    "start_time": "2021-08-30T18:43:55.480Z"
   },
   {
    "duration": 602,
    "start_time": "2021-08-30T18:43:55.493Z"
   },
   {
    "duration": 1624,
    "start_time": "2021-08-30T18:46:45.640Z"
   },
   {
    "duration": 47,
    "start_time": "2021-08-30T18:46:47.267Z"
   },
   {
    "duration": 9,
    "start_time": "2021-08-30T18:46:47.317Z"
   },
   {
    "duration": 13,
    "start_time": "2021-08-30T18:46:47.329Z"
   },
   {
    "duration": 27,
    "start_time": "2021-08-30T18:46:47.344Z"
   },
   {
    "duration": 7,
    "start_time": "2021-08-30T18:46:47.373Z"
   },
   {
    "duration": 1778,
    "start_time": "2021-08-30T18:46:47.383Z"
   },
   {
    "duration": 1000,
    "start_time": "2021-08-30T18:46:49.171Z"
   },
   {
    "duration": 9,
    "start_time": "2021-08-30T18:46:50.174Z"
   },
   {
    "duration": 3722,
    "start_time": "2021-08-30T18:46:50.186Z"
   },
   {
    "duration": 3170,
    "start_time": "2021-08-30T18:46:53.911Z"
   },
   {
    "duration": 1366,
    "start_time": "2021-08-30T18:46:57.083Z"
   },
   {
    "duration": 34,
    "start_time": "2021-08-30T18:46:58.451Z"
   },
   {
    "duration": 7,
    "start_time": "2021-08-30T18:46:58.487Z"
   },
   {
    "duration": 35,
    "start_time": "2021-08-30T18:46:58.496Z"
   },
   {
    "duration": 36,
    "start_time": "2021-08-30T18:46:58.533Z"
   },
   {
    "duration": 8,
    "start_time": "2021-08-30T18:46:58.572Z"
   },
   {
    "duration": 9,
    "start_time": "2021-08-30T18:46:58.583Z"
   },
   {
    "duration": 11,
    "start_time": "2021-08-30T18:46:58.595Z"
   },
   {
    "duration": 8,
    "start_time": "2021-08-30T18:46:58.609Z"
   },
   {
    "duration": 48,
    "start_time": "2021-08-30T18:46:58.619Z"
   },
   {
    "duration": 1879,
    "start_time": "2021-08-30T18:51:48.666Z"
   },
   {
    "duration": 66,
    "start_time": "2021-08-30T18:51:50.548Z"
   },
   {
    "duration": 11,
    "start_time": "2021-08-30T18:51:50.617Z"
   },
   {
    "duration": 43,
    "start_time": "2021-08-30T18:51:50.631Z"
   },
   {
    "duration": 8,
    "start_time": "2021-08-30T18:51:50.677Z"
   },
   {
    "duration": 7,
    "start_time": "2021-08-30T18:51:50.688Z"
   },
   {
    "duration": 2504,
    "start_time": "2021-08-30T18:51:50.698Z"
   },
   {
    "duration": 1433,
    "start_time": "2021-08-30T18:51:53.205Z"
   },
   {
    "duration": 24,
    "start_time": "2021-08-30T18:51:54.643Z"
   },
   {
    "duration": 4676,
    "start_time": "2021-08-30T18:51:54.672Z"
   },
   {
    "duration": 4573,
    "start_time": "2021-08-30T18:51:59.351Z"
   },
   {
    "duration": 1814,
    "start_time": "2021-08-30T18:52:03.928Z"
   },
   {
    "duration": 6,
    "start_time": "2021-08-30T18:52:05.745Z"
   },
   {
    "duration": 41,
    "start_time": "2021-08-30T18:52:05.768Z"
   },
   {
    "duration": 14,
    "start_time": "2021-08-30T18:52:05.812Z"
   },
   {
    "duration": 11,
    "start_time": "2021-08-30T18:52:05.828Z"
   },
   {
    "duration": 4,
    "start_time": "2021-08-30T18:52:05.868Z"
   },
   {
    "duration": 19,
    "start_time": "2021-08-30T18:52:05.874Z"
   },
   {
    "duration": 15,
    "start_time": "2021-08-30T18:52:05.895Z"
   },
   {
    "duration": 15,
    "start_time": "2021-08-30T18:52:05.913Z"
   },
   {
    "duration": 188309,
    "start_time": "2021-08-30T18:52:05.930Z"
   },
   {
    "duration": -572,
    "start_time": "2021-08-30T18:55:14.813Z"
   },
   {
    "duration": -579,
    "start_time": "2021-08-30T18:55:14.822Z"
   },
   {
    "duration": -582,
    "start_time": "2021-08-30T18:55:14.826Z"
   },
   {
    "duration": -584,
    "start_time": "2021-08-30T18:55:14.829Z"
   },
   {
    "duration": -585,
    "start_time": "2021-08-30T18:55:14.832Z"
   },
   {
    "duration": 73299,
    "start_time": "2021-08-30T18:55:17.408Z"
   },
   {
    "duration": 337,
    "start_time": "2021-08-30T18:56:33.438Z"
   },
   {
    "duration": 822,
    "start_time": "2021-08-30T18:56:35.520Z"
   },
   {
    "duration": 300,
    "start_time": "2021-08-30T18:56:39.705Z"
   },
   {
    "duration": 335,
    "start_time": "2021-08-30T18:56:45.232Z"
   },
   {
    "duration": 951,
    "start_time": "2021-08-30T18:56:53.867Z"
   },
   {
    "duration": -572,
    "start_time": "2021-08-30T18:56:55.395Z"
   },
   {
    "duration": -573,
    "start_time": "2021-08-30T18:56:55.401Z"
   },
   {
    "duration": -574,
    "start_time": "2021-08-30T18:56:55.404Z"
   },
   {
    "duration": -608,
    "start_time": "2021-08-30T18:56:55.440Z"
   },
   {
    "duration": -624,
    "start_time": "2021-08-30T18:56:55.457Z"
   },
   {
    "duration": -636,
    "start_time": "2021-08-30T18:56:55.471Z"
   },
   {
    "duration": -645,
    "start_time": "2021-08-30T18:56:55.481Z"
   },
   {
    "duration": -648,
    "start_time": "2021-08-30T18:56:55.485Z"
   },
   {
    "duration": -652,
    "start_time": "2021-08-30T18:56:55.490Z"
   },
   {
    "duration": -654,
    "start_time": "2021-08-30T18:56:55.493Z"
   },
   {
    "duration": -656,
    "start_time": "2021-08-30T18:56:55.496Z"
   },
   {
    "duration": -658,
    "start_time": "2021-08-30T18:56:55.500Z"
   },
   {
    "duration": -661,
    "start_time": "2021-08-30T18:56:55.504Z"
   },
   {
    "duration": -663,
    "start_time": "2021-08-30T18:56:55.507Z"
   },
   {
    "duration": -667,
    "start_time": "2021-08-30T18:56:55.512Z"
   },
   {
    "duration": -669,
    "start_time": "2021-08-30T18:56:55.516Z"
   },
   {
    "duration": -673,
    "start_time": "2021-08-30T18:56:55.521Z"
   },
   {
    "duration": -674,
    "start_time": "2021-08-30T18:56:55.524Z"
   },
   {
    "duration": -663,
    "start_time": "2021-08-30T18:56:55.530Z"
   },
   {
    "duration": -666,
    "start_time": "2021-08-30T18:56:55.534Z"
   },
   {
    "duration": -684,
    "start_time": "2021-08-30T18:56:55.553Z"
   },
   {
    "duration": -693,
    "start_time": "2021-08-30T18:56:55.564Z"
   },
   {
    "duration": -696,
    "start_time": "2021-08-30T18:56:55.568Z"
   },
   {
    "duration": -699,
    "start_time": "2021-08-30T18:56:55.572Z"
   },
   {
    "duration": -700,
    "start_time": "2021-08-30T18:56:55.575Z"
   },
   {
    "duration": 1563,
    "start_time": "2021-08-30T18:57:29.896Z"
   },
   {
    "duration": 48,
    "start_time": "2021-08-30T18:57:31.462Z"
   },
   {
    "duration": 8,
    "start_time": "2021-08-30T18:57:31.516Z"
   },
   {
    "duration": 16,
    "start_time": "2021-08-30T18:57:31.527Z"
   },
   {
    "duration": 6,
    "start_time": "2021-08-30T18:57:31.567Z"
   },
   {
    "duration": 15,
    "start_time": "2021-08-30T18:57:31.576Z"
   },
   {
    "duration": 1830,
    "start_time": "2021-08-30T18:57:31.597Z"
   },
   {
    "duration": 1141,
    "start_time": "2021-08-30T18:57:33.430Z"
   },
   {
    "duration": 9,
    "start_time": "2021-08-30T18:57:34.574Z"
   },
   {
    "duration": 3524,
    "start_time": "2021-08-30T18:57:34.586Z"
   },
   {
    "duration": 3277,
    "start_time": "2021-08-30T18:57:38.113Z"
   },
   {
    "duration": 1320,
    "start_time": "2021-08-30T18:57:41.393Z"
   },
   {
    "duration": 5,
    "start_time": "2021-08-30T18:57:42.715Z"
   },
   {
    "duration": 51,
    "start_time": "2021-08-30T18:57:42.722Z"
   },
   {
    "duration": 11,
    "start_time": "2021-08-30T18:57:42.776Z"
   },
   {
    "duration": 8,
    "start_time": "2021-08-30T18:57:42.790Z"
   },
   {
    "duration": 13,
    "start_time": "2021-08-30T18:57:42.801Z"
   },
   {
    "duration": 11,
    "start_time": "2021-08-30T18:57:42.817Z"
   },
   {
    "duration": 41,
    "start_time": "2021-08-30T18:57:42.830Z"
   },
   {
    "duration": 9,
    "start_time": "2021-08-30T18:57:42.874Z"
   },
   {
    "duration": 563288,
    "start_time": "2021-08-30T18:57:42.886Z"
   },
   {
    "duration": 594,
    "start_time": "2021-08-30T19:07:06.180Z"
   },
   {
    "duration": 694,
    "start_time": "2021-08-30T19:07:06.777Z"
   },
   {
    "duration": 71515,
    "start_time": "2021-08-30T19:07:07.473Z"
   },
   {
    "duration": 11,
    "start_time": "2021-08-30T19:08:19.068Z"
   },
   {
    "duration": 743,
    "start_time": "2021-08-30T19:08:19.082Z"
   },
   {
    "duration": 1241,
    "start_time": "2021-08-31T10:07:03.477Z"
   },
   {
    "duration": 37,
    "start_time": "2021-08-31T10:07:04.720Z"
   },
   {
    "duration": 6,
    "start_time": "2021-08-31T10:07:04.759Z"
   },
   {
    "duration": 33,
    "start_time": "2021-08-31T10:07:04.767Z"
   },
   {
    "duration": 26,
    "start_time": "2021-08-31T10:07:04.802Z"
   },
   {
    "duration": 31,
    "start_time": "2021-08-31T10:07:04.830Z"
   },
   {
    "duration": 1301,
    "start_time": "2021-08-31T10:07:04.863Z"
   },
   {
    "duration": 668,
    "start_time": "2021-08-31T10:07:06.167Z"
   },
   {
    "duration": 7,
    "start_time": "2021-08-31T10:07:06.837Z"
   },
   {
    "duration": 2001,
    "start_time": "2021-08-31T10:07:06.845Z"
   },
   {
    "duration": 1909,
    "start_time": "2021-08-31T10:07:08.847Z"
   },
   {
    "duration": 1,
    "start_time": "2021-08-31T10:07:10.758Z"
   },
   {
    "duration": 23,
    "start_time": "2021-08-31T10:07:10.761Z"
   },
   {
    "duration": 24,
    "start_time": "2021-08-31T10:07:10.787Z"
   },
   {
    "duration": 8,
    "start_time": "2021-08-31T10:07:10.813Z"
   },
   {
    "duration": 5,
    "start_time": "2021-08-31T10:07:10.823Z"
   },
   {
    "duration": 5,
    "start_time": "2021-08-31T10:07:10.830Z"
   },
   {
    "duration": 48,
    "start_time": "2021-08-31T10:07:10.837Z"
   },
   {
    "duration": 5,
    "start_time": "2021-08-31T10:07:10.888Z"
   },
   {
    "duration": 5,
    "start_time": "2021-08-31T10:07:10.895Z"
   },
   {
    "duration": 1139,
    "start_time": "2021-08-31T10:13:52.686Z"
   },
   {
    "duration": 39,
    "start_time": "2021-08-31T10:13:53.826Z"
   },
   {
    "duration": 6,
    "start_time": "2021-08-31T10:13:53.867Z"
   },
   {
    "duration": 13,
    "start_time": "2021-08-31T10:13:53.875Z"
   },
   {
    "duration": 4,
    "start_time": "2021-08-31T10:13:53.889Z"
   },
   {
    "duration": 4,
    "start_time": "2021-08-31T10:13:53.895Z"
   },
   {
    "duration": 1160,
    "start_time": "2021-08-31T10:13:53.900Z"
   },
   {
    "duration": 597,
    "start_time": "2021-08-31T10:13:55.062Z"
   },
   {
    "duration": 8,
    "start_time": "2021-08-31T10:13:55.662Z"
   },
   {
    "duration": 1860,
    "start_time": "2021-08-31T10:13:55.685Z"
   },
   {
    "duration": 1771,
    "start_time": "2021-08-31T10:13:57.547Z"
   },
   {
    "duration": 2,
    "start_time": "2021-08-31T10:13:59.320Z"
   },
   {
    "duration": 7,
    "start_time": "2021-08-31T10:13:59.324Z"
   },
   {
    "duration": 24,
    "start_time": "2021-08-31T10:13:59.332Z"
   },
   {
    "duration": 7,
    "start_time": "2021-08-31T10:13:59.384Z"
   },
   {
    "duration": 4,
    "start_time": "2021-08-31T10:13:59.393Z"
   },
   {
    "duration": 9,
    "start_time": "2021-08-31T10:13:59.398Z"
   },
   {
    "duration": 13,
    "start_time": "2021-08-31T10:13:59.408Z"
   },
   {
    "duration": 7,
    "start_time": "2021-08-31T10:13:59.422Z"
   },
   {
    "duration": 5,
    "start_time": "2021-08-31T10:13:59.431Z"
   },
   {
    "duration": 87154,
    "start_time": "2021-08-31T10:13:59.437Z"
   },
   {
    "duration": 497,
    "start_time": "2021-08-31T10:15:26.593Z"
   },
   {
    "duration": 454,
    "start_time": "2021-08-31T10:15:27.094Z"
   },
   {
    "duration": 658,
    "start_time": "2021-08-31T10:15:27.550Z"
   },
   {
    "duration": 79,
    "start_time": "2021-08-31T10:15:28.210Z"
   },
   {
    "duration": 462,
    "start_time": "2021-08-31T10:15:28.290Z"
   },
   {
    "duration": 6,
    "start_time": "2021-08-31T10:34:39.679Z"
   },
   {
    "duration": 6,
    "start_time": "2021-08-31T10:34:43.161Z"
   },
   {
    "duration": 4,
    "start_time": "2021-08-31T11:20:39.885Z"
   },
   {
    "duration": 16,
    "start_time": "2021-08-31T11:20:41.973Z"
   },
   {
    "duration": 21,
    "start_time": "2021-08-31T11:20:57.293Z"
   },
   {
    "duration": 1161,
    "start_time": "2021-08-31T11:21:03.589Z"
   },
   {
    "duration": 38,
    "start_time": "2021-08-31T11:21:04.752Z"
   },
   {
    "duration": 8,
    "start_time": "2021-08-31T11:21:04.792Z"
   },
   {
    "duration": 11,
    "start_time": "2021-08-31T11:21:04.802Z"
   },
   {
    "duration": 6,
    "start_time": "2021-08-31T11:21:04.814Z"
   },
   {
    "duration": 9,
    "start_time": "2021-08-31T11:21:04.822Z"
   },
   {
    "duration": 1000,
    "start_time": "2021-08-31T11:21:04.833Z"
   },
   {
    "duration": 599,
    "start_time": "2021-08-31T11:21:05.835Z"
   },
   {
    "duration": 8,
    "start_time": "2021-08-31T11:21:06.437Z"
   },
   {
    "duration": 1843,
    "start_time": "2021-08-31T11:21:06.447Z"
   },
   {
    "duration": 1764,
    "start_time": "2021-08-31T11:21:08.292Z"
   },
   {
    "duration": 9,
    "start_time": "2021-08-31T11:21:10.058Z"
   },
   {
    "duration": 5,
    "start_time": "2021-08-31T11:21:10.085Z"
   },
   {
    "duration": 34,
    "start_time": "2021-08-31T11:21:10.092Z"
   },
   {
    "duration": 9,
    "start_time": "2021-08-31T11:21:10.128Z"
   },
   {
    "duration": 7,
    "start_time": "2021-08-31T11:21:10.139Z"
   },
   {
    "duration": 8,
    "start_time": "2021-08-31T11:21:10.148Z"
   },
   {
    "duration": 7,
    "start_time": "2021-08-31T11:21:10.185Z"
   },
   {
    "duration": 13,
    "start_time": "2021-08-31T11:21:10.194Z"
   },
   {
    "duration": 9,
    "start_time": "2021-08-31T11:21:10.209Z"
   },
   {
    "duration": 14376,
    "start_time": "2021-08-31T11:21:10.220Z"
   },
   {
    "duration": 293,
    "start_time": "2021-08-31T11:21:24.598Z"
   },
   {
    "duration": 755,
    "start_time": "2021-08-31T11:21:24.894Z"
   },
   {
    "duration": 1559,
    "start_time": "2021-08-31T11:21:25.651Z"
   },
   {
    "duration": 74,
    "start_time": "2021-08-31T11:21:27.212Z"
   },
   {
    "duration": 406,
    "start_time": "2021-08-31T11:21:27.288Z"
   },
   {
    "duration": 3,
    "start_time": "2021-08-31T11:21:27.698Z"
   },
   {
    "duration": 1839,
    "start_time": "2021-08-31T11:21:27.703Z"
   },
   {
    "duration": 172,
    "start_time": "2021-08-31T11:21:29.544Z"
   },
   {
    "duration": -929,
    "start_time": "2021-08-31T11:21:30.647Z"
   },
   {
    "duration": 1156,
    "start_time": "2021-08-31T11:21:54.500Z"
   },
   {
    "duration": 39,
    "start_time": "2021-08-31T11:21:55.661Z"
   },
   {
    "duration": 6,
    "start_time": "2021-08-31T11:21:55.701Z"
   },
   {
    "duration": 9,
    "start_time": "2021-08-31T11:21:55.709Z"
   },
   {
    "duration": 5,
    "start_time": "2021-08-31T11:21:55.720Z"
   },
   {
    "duration": 6,
    "start_time": "2021-08-31T11:21:55.727Z"
   },
   {
    "duration": 1224,
    "start_time": "2021-08-31T11:21:55.736Z"
   },
   {
    "duration": 595,
    "start_time": "2021-08-31T11:21:56.962Z"
   },
   {
    "duration": 7,
    "start_time": "2021-08-31T11:21:57.558Z"
   },
   {
    "duration": 1849,
    "start_time": "2021-08-31T11:21:57.566Z"
   },
   {
    "duration": 1796,
    "start_time": "2021-08-31T11:21:59.416Z"
   },
   {
    "duration": 6,
    "start_time": "2021-08-31T11:22:01.214Z"
   },
   {
    "duration": 13,
    "start_time": "2021-08-31T11:22:01.221Z"
   },
   {
    "duration": 56,
    "start_time": "2021-08-31T11:22:01.235Z"
   },
   {
    "duration": 7,
    "start_time": "2021-08-31T11:22:01.293Z"
   },
   {
    "duration": 13,
    "start_time": "2021-08-31T11:22:01.302Z"
   },
   {
    "duration": 16,
    "start_time": "2021-08-31T11:22:01.316Z"
   },
   {
    "duration": 18,
    "start_time": "2021-08-31T11:22:01.334Z"
   },
   {
    "duration": 30,
    "start_time": "2021-08-31T11:22:01.353Z"
   },
   {
    "duration": 16,
    "start_time": "2021-08-31T11:22:01.384Z"
   },
   {
    "duration": 19290,
    "start_time": "2021-08-31T11:22:01.401Z"
   },
   {
    "duration": 397,
    "start_time": "2021-08-31T11:22:20.694Z"
   },
   {
    "duration": 758,
    "start_time": "2021-08-31T11:22:21.094Z"
   },
   {
    "duration": 1633,
    "start_time": "2021-08-31T11:22:21.854Z"
   },
   {
    "duration": 6,
    "start_time": "2021-08-31T11:22:23.489Z"
   },
   {
    "duration": 409,
    "start_time": "2021-08-31T11:22:23.497Z"
   },
   {
    "duration": 1101,
    "start_time": "2021-08-31T11:26:22.045Z"
   },
   {
    "duration": 39,
    "start_time": "2021-08-31T11:26:23.148Z"
   },
   {
    "duration": 8,
    "start_time": "2021-08-31T11:26:23.192Z"
   },
   {
    "duration": 11,
    "start_time": "2021-08-31T11:26:23.202Z"
   },
   {
    "duration": 4,
    "start_time": "2021-08-31T11:26:23.215Z"
   },
   {
    "duration": 4,
    "start_time": "2021-08-31T11:26:23.221Z"
   },
   {
    "duration": 1236,
    "start_time": "2021-08-31T11:26:23.228Z"
   },
   {
    "duration": 627,
    "start_time": "2021-08-31T11:26:24.466Z"
   },
   {
    "duration": 7,
    "start_time": "2021-08-31T11:26:25.094Z"
   },
   {
    "duration": 1921,
    "start_time": "2021-08-31T11:26:25.103Z"
   },
   {
    "duration": 1772,
    "start_time": "2021-08-31T11:26:27.025Z"
   },
   {
    "duration": 7,
    "start_time": "2021-08-31T11:26:28.799Z"
   },
   {
    "duration": 4,
    "start_time": "2021-08-31T11:26:28.807Z"
   },
   {
    "duration": 27,
    "start_time": "2021-08-31T11:26:28.813Z"
   },
   {
    "duration": 8,
    "start_time": "2021-08-31T11:26:28.842Z"
   },
   {
    "duration": 35,
    "start_time": "2021-08-31T11:26:28.852Z"
   },
   {
    "duration": 6,
    "start_time": "2021-08-31T11:26:28.889Z"
   },
   {
    "duration": 7,
    "start_time": "2021-08-31T11:26:28.896Z"
   },
   {
    "duration": 5,
    "start_time": "2021-08-31T11:26:28.905Z"
   },
   {
    "duration": 6,
    "start_time": "2021-08-31T11:26:28.912Z"
   },
   {
    "duration": 14577,
    "start_time": "2021-08-31T11:26:28.919Z"
   },
   {
    "duration": 291,
    "start_time": "2021-08-31T11:26:43.499Z"
   },
   {
    "duration": 582,
    "start_time": "2021-08-31T11:26:43.793Z"
   },
   {
    "duration": 1519,
    "start_time": "2021-08-31T11:26:44.377Z"
   },
   {
    "duration": 89,
    "start_time": "2021-08-31T11:26:45.899Z"
   },
   {
    "duration": 424,
    "start_time": "2021-08-31T11:26:45.990Z"
   },
   {
    "duration": 20,
    "start_time": "2021-08-31T11:28:06.124Z"
   },
   {
    "duration": 14,
    "start_time": "2021-08-31T11:28:11.554Z"
   },
   {
    "duration": 37,
    "start_time": "2021-08-31T11:28:57.260Z"
   },
   {
    "duration": 7,
    "start_time": "2021-08-31T11:28:57.433Z"
   },
   {
    "duration": 7,
    "start_time": "2021-08-31T11:28:57.603Z"
   },
   {
    "duration": 4,
    "start_time": "2021-08-31T11:28:58.058Z"
   },
   {
    "duration": 4,
    "start_time": "2021-08-31T11:28:58.400Z"
   },
   {
    "duration": 1170,
    "start_time": "2021-08-31T11:28:58.610Z"
   },
   {
    "duration": 536,
    "start_time": "2021-08-31T11:28:59.785Z"
   },
   {
    "duration": 7,
    "start_time": "2021-08-31T11:29:00.323Z"
   },
   {
    "duration": 1823,
    "start_time": "2021-08-31T11:29:00.993Z"
   },
   {
    "duration": 1950,
    "start_time": "2021-08-31T11:29:02.818Z"
   },
   {
    "duration": 18,
    "start_time": "2021-08-31T11:29:04.770Z"
   },
   {
    "duration": 4,
    "start_time": "2021-08-31T11:29:05.449Z"
   },
   {
    "duration": 14,
    "start_time": "2021-08-31T11:29:06.433Z"
   },
   {
    "duration": 8,
    "start_time": "2021-08-31T11:29:07.760Z"
   },
   {
    "duration": 4,
    "start_time": "2021-08-31T11:29:08.096Z"
   },
   {
    "duration": 4,
    "start_time": "2021-08-31T11:29:08.722Z"
   },
   {
    "duration": 33,
    "start_time": "2021-08-31T11:29:26.729Z"
   },
   {
    "duration": 21,
    "start_time": "2021-08-31T11:29:36.410Z"
   },
   {
    "duration": 19,
    "start_time": "2021-08-31T11:29:59.697Z"
   },
   {
    "duration": 37,
    "start_time": "2021-08-31T11:30:07.153Z"
   },
   {
    "duration": 29,
    "start_time": "2021-08-31T11:30:10.219Z"
   },
   {
    "duration": 26,
    "start_time": "2021-08-31T11:30:14.753Z"
   },
   {
    "duration": 8,
    "start_time": "2021-08-31T11:30:22.242Z"
   },
   {
    "duration": 4,
    "start_time": "2021-08-31T11:30:57.343Z"
   },
   {
    "duration": 3,
    "start_time": "2021-08-31T11:31:06.063Z"
   },
   {
    "duration": 26,
    "start_time": "2021-08-31T11:31:06.776Z"
   },
   {
    "duration": 5,
    "start_time": "2021-08-31T11:31:12.281Z"
   },
   {
    "duration": 35,
    "start_time": "2021-08-31T11:31:12.829Z"
   },
   {
    "duration": 6,
    "start_time": "2021-08-31T11:31:12.975Z"
   },
   {
    "duration": 7,
    "start_time": "2021-08-31T11:31:13.128Z"
   },
   {
    "duration": 4,
    "start_time": "2021-08-31T11:31:13.513Z"
   },
   {
    "duration": 3,
    "start_time": "2021-08-31T11:31:13.775Z"
   },
   {
    "duration": 1173,
    "start_time": "2021-08-31T11:31:13.896Z"
   },
   {
    "duration": 564,
    "start_time": "2021-08-31T11:31:15.071Z"
   },
   {
    "duration": 7,
    "start_time": "2021-08-31T11:31:15.637Z"
   },
   {
    "duration": 1947,
    "start_time": "2021-08-31T11:31:16.303Z"
   },
   {
    "duration": 1798,
    "start_time": "2021-08-31T11:31:18.252Z"
   },
   {
    "duration": 7,
    "start_time": "2021-08-31T11:31:20.052Z"
   },
   {
    "duration": 3,
    "start_time": "2021-08-31T11:31:21.648Z"
   },
   {
    "duration": 23,
    "start_time": "2021-08-31T11:31:24.808Z"
   },
   {
    "duration": 36,
    "start_time": "2021-08-31T11:31:30.600Z"
   },
   {
    "duration": 34,
    "start_time": "2021-08-31T11:31:34.545Z"
   },
   {
    "duration": 21,
    "start_time": "2021-08-31T11:31:37.875Z"
   },
   {
    "duration": 21,
    "start_time": "2021-08-31T11:31:43.632Z"
   },
   {
    "duration": 35,
    "start_time": "2021-08-31T11:31:46.024Z"
   },
   {
    "duration": 27,
    "start_time": "2021-08-31T11:31:52.756Z"
   },
   {
    "duration": 1148,
    "start_time": "2021-08-31T11:32:02.788Z"
   },
   {
    "duration": 38,
    "start_time": "2021-08-31T11:32:03.938Z"
   },
   {
    "duration": 6,
    "start_time": "2021-08-31T11:32:03.979Z"
   },
   {
    "duration": 12,
    "start_time": "2021-08-31T11:32:03.987Z"
   },
   {
    "duration": 4,
    "start_time": "2021-08-31T11:32:04.001Z"
   },
   {
    "duration": 7,
    "start_time": "2021-08-31T11:32:04.007Z"
   },
   {
    "duration": 1194,
    "start_time": "2021-08-31T11:32:04.015Z"
   },
   {
    "duration": 599,
    "start_time": "2021-08-31T11:32:05.211Z"
   },
   {
    "duration": 8,
    "start_time": "2021-08-31T11:32:05.814Z"
   },
   {
    "duration": 1849,
    "start_time": "2021-08-31T11:32:05.824Z"
   },
   {
    "duration": 1739,
    "start_time": "2021-08-31T11:32:07.675Z"
   },
   {
    "duration": 8,
    "start_time": "2021-08-31T11:32:09.416Z"
   },
   {
    "duration": 5,
    "start_time": "2021-08-31T11:32:09.426Z"
   },
   {
    "duration": 59,
    "start_time": "2021-08-31T11:32:09.433Z"
   },
   {
    "duration": 9,
    "start_time": "2021-08-31T11:32:09.495Z"
   },
   {
    "duration": 6,
    "start_time": "2021-08-31T11:32:09.506Z"
   },
   {
    "duration": 4,
    "start_time": "2021-08-31T11:32:09.514Z"
   },
   {
    "duration": 9,
    "start_time": "2021-08-31T11:32:09.520Z"
   },
   {
    "duration": 6,
    "start_time": "2021-08-31T11:32:09.531Z"
   },
   {
    "duration": 46,
    "start_time": "2021-08-31T11:32:09.538Z"
   },
   {
    "duration": 13506,
    "start_time": "2021-08-31T11:32:09.586Z"
   },
   {
    "duration": 293,
    "start_time": "2021-08-31T11:32:23.093Z"
   },
   {
    "duration": 517,
    "start_time": "2021-08-31T11:32:23.388Z"
   },
   {
    "duration": 1378,
    "start_time": "2021-08-31T11:32:23.907Z"
   },
   {
    "duration": 8,
    "start_time": "2021-08-31T11:32:25.287Z"
   },
   {
    "duration": 405,
    "start_time": "2021-08-31T11:32:25.296Z"
   },
   {
    "duration": 57,
    "start_time": "2021-08-31T11:34:38.093Z"
   },
   {
    "duration": 27,
    "start_time": "2021-08-31T11:34:45.485Z"
   },
   {
    "duration": 5,
    "start_time": "2021-08-31T11:35:45.684Z"
   },
   {
    "duration": 6,
    "start_time": "2021-08-31T11:35:51.124Z"
   },
   {
    "duration": 1133,
    "start_time": "2021-08-31T11:35:58.617Z"
   },
   {
    "duration": 37,
    "start_time": "2021-08-31T11:35:59.752Z"
   },
   {
    "duration": 6,
    "start_time": "2021-08-31T11:35:59.791Z"
   },
   {
    "duration": 9,
    "start_time": "2021-08-31T11:35:59.800Z"
   },
   {
    "duration": 7,
    "start_time": "2021-08-31T11:35:59.810Z"
   },
   {
    "duration": 5,
    "start_time": "2021-08-31T11:35:59.819Z"
   },
   {
    "duration": 1199,
    "start_time": "2021-08-31T11:35:59.825Z"
   },
   {
    "duration": 600,
    "start_time": "2021-08-31T11:36:01.026Z"
   },
   {
    "duration": 7,
    "start_time": "2021-08-31T11:36:01.628Z"
   },
   {
    "duration": 1897,
    "start_time": "2021-08-31T11:36:01.637Z"
   },
   {
    "duration": 1766,
    "start_time": "2021-08-31T11:36:03.536Z"
   },
   {
    "duration": 7,
    "start_time": "2021-08-31T11:36:05.304Z"
   },
   {
    "duration": 4,
    "start_time": "2021-08-31T11:36:05.313Z"
   },
   {
    "duration": 31,
    "start_time": "2021-08-31T11:36:05.318Z"
   },
   {
    "duration": 35,
    "start_time": "2021-08-31T11:36:05.350Z"
   },
   {
    "duration": 3,
    "start_time": "2021-08-31T11:36:05.387Z"
   },
   {
    "duration": 6,
    "start_time": "2021-08-31T11:36:05.392Z"
   },
   {
    "duration": 9,
    "start_time": "2021-08-31T11:36:05.399Z"
   },
   {
    "duration": 5,
    "start_time": "2021-08-31T11:36:05.409Z"
   },
   {
    "duration": 6,
    "start_time": "2021-08-31T11:36:05.416Z"
   },
   {
    "duration": 17773,
    "start_time": "2021-08-31T11:36:05.423Z"
   },
   {
    "duration": 288,
    "start_time": "2021-08-31T11:36:23.198Z"
   },
   {
    "duration": 520,
    "start_time": "2021-08-31T11:36:23.490Z"
   },
   {
    "duration": 1391,
    "start_time": "2021-08-31T11:36:24.012Z"
   },
   {
    "duration": 83,
    "start_time": "2021-08-31T11:36:25.405Z"
   },
   {
    "duration": 420,
    "start_time": "2021-08-31T11:36:25.490Z"
   }
  ],
  "kernelspec": {
   "display_name": "Python 3 (ipykernel)",
   "language": "python",
   "name": "python3"
  },
  "language_info": {
   "codemirror_mode": {
    "name": "ipython",
    "version": 3
   },
   "file_extension": ".py",
   "mimetype": "text/x-python",
   "name": "python",
   "nbconvert_exporter": "python",
   "pygments_lexer": "ipython3",
   "version": "3.9.5"
  },
  "toc": {
   "base_numbering": 1,
   "nav_menu": {},
   "number_sections": true,
   "sideBar": true,
   "skip_h1_title": true,
   "title_cell": "Содержание",
   "title_sidebar": "Contents",
   "toc_cell": true,
   "toc_position": {
    "height": "calc(100% - 180px)",
    "left": "10px",
    "top": "150px",
    "width": "366.391px"
   },
   "toc_section_display": true,
   "toc_window_display": false
  }
 },
 "nbformat": 4,
 "nbformat_minor": 2
}
